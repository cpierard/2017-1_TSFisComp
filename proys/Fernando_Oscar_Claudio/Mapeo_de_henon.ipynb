{
 "cells": [
  {
   "cell_type": "markdown",
   "metadata": {},
   "source": [
    "# Henon Map"
   ]
  },
  {
   "cell_type": "code",
   "execution_count": 4,
   "metadata": {
    "collapsed": false
   },
   "outputs": [
    {
     "data": {
      "text/plain": [
       "Plots.PyPlotBackend()"
      ]
     },
     "execution_count": 4,
     "metadata": {},
     "output_type": "execute_result"
    }
   ],
   "source": [
    "using Plots, LaTeXStrings\n",
    "pyplot(markerstrokecolor=false)"
   ]
  },
  {
   "cell_type": "markdown",
   "metadata": {},
   "source": [
    "Se define el mapeo de Hénon de la siguiente forma:\n",
    "\n",
    "$$ x_{i+1} = y_i - ax_{i}^2 +1$$\n",
    "$$ y_{i+1} = bx_i$$"
   ]
  },
  {
   "cell_type": "code",
   "execution_count": 5,
   "metadata": {
    "collapsed": false
   },
   "outputs": [
    {
     "data": {
      "text/plain": [
       "y_n (generic function with 1 method)"
      ]
     },
     "execution_count": 5,
     "metadata": {},
     "output_type": "execute_result"
    }
   ],
   "source": [
    "x_n(x, y, a) = y - a*x^2 +1\n",
    "y_n(x,y, b) = b*x"
   ]
  },
  {
   "cell_type": "markdown",
   "metadata": {},
   "source": [
    "Quiero formar un cuadrado y empezar a \"deformarlo\" usando el mapeo para ver cómo actúa para un conjunto de condiciones iniciales."
   ]
  },
  {
   "cell_type": "code",
   "execution_count": 6,
   "metadata": {
    "collapsed": false
   },
   "outputs": [
    {
     "data": {
      "text/plain": [
       "condiones_iniciales_2D (generic function with 1 method)"
      ]
     },
     "execution_count": 6,
     "metadata": {},
     "output_type": "execute_result"
    }
   ],
   "source": [
    "function condiones_iniciales_2D(f::Function, t_range)\n",
    "    CI = zeros(2, length(t_range))\n",
    "    \n",
    "    for i in 1:length(t_range)\n",
    "        \n",
    "        CI[:, i] = f(t_range[i])\n",
    "        \n",
    "    end\n",
    "    \n",
    "    CI\n",
    "    \n",
    "end"
   ]
  },
  {
   "cell_type": "code",
   "execution_count": 7,
   "metadata": {
    "collapsed": false
   },
   "outputs": [
    {
     "data": {
      "text/plain": [
       "σ (generic function with 1 method)"
      ]
     },
     "execution_count": 7,
     "metadata": {},
     "output_type": "execute_result"
    }
   ],
   "source": [
    "σ(t) = [cos(t), sin(t)]"
   ]
  },
  {
   "cell_type": "code",
   "execution_count": 8,
   "metadata": {
    "collapsed": false
   },
   "outputs": [
    {
     "data": {
      "text/plain": [
       "2×629 Array{Float64,2}:\n",
       " 1.0  0.99995     0.9998     0.99955    …   0.999731    0.999913    0.999995 \n",
       " 0.0  0.00999983  0.0199987  0.0299955     -0.0231832  -0.0131849  -0.0031853"
      ]
     },
     "execution_count": 8,
     "metadata": {},
     "output_type": "execute_result"
    }
   ],
   "source": [
    "t_rango = 0:0.01:2π\n",
    "CI1 = condiones_iniciales_2D(σ, t_rango)"
   ]
  },
  {
   "cell_type": "code",
   "execution_count": 9,
   "metadata": {
    "collapsed": false
   },
   "outputs": [
    {
     "data": {
      "text/html": [
       "<img src=\"data:image/png;base64,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\" />"
      ]
     },
     "execution_count": 9,
     "metadata": {},
     "output_type": "execute_result"
    }
   ],
   "source": [
    "scatter(CI1[1,:], CI1[2,:], markersize=(1), markercolor=:green, label=(\"Condiciones iniciales\"))"
   ]
  },
  {
   "cell_type": "code",
   "execution_count": 10,
   "metadata": {
    "collapsed": false
   },
   "outputs": [
    {
     "name": "stderr",
     "output_type": "stream",
     "text": [
      "/System/Library/Frameworks/Python.framework/Versions/2.7/Extras/lib/python/matplotlib/font_manager.py:1236: UserWarning: findfont: Font family ['Helvetica'] not found. Falling back to Bitstream Vera Sans\n",
      "  (prop.get_family(), self.defaultFamily[fontext]))\n"
     ]
    },
    {
     "data": {
      "text/plain": [
       "iterator_paso (generic function with 1 method)"
      ]
     },
     "execution_count": 10,
     "metadata": {},
     "output_type": "execute_result"
    }
   ],
   "source": [
    "function iterator_paso(f::Function, g::Function, X0, a, b)\n",
    "    \n",
    "    orbit = similar(X0)\n",
    "    \n",
    "    for i in 1:length(X0[1, :])\n",
    "        \n",
    "        orbit[1, i] = f(X0[1, i], X0[2, i], a)\n",
    "        orbit[2, i] = g(X0[1, i], X0[2, i], b)\n",
    "    \n",
    "    end\n",
    "    \n",
    "    orbit\n",
    "    \n",
    "end "
   ]
  },
  {
   "cell_type": "code",
   "execution_count": 20,
   "metadata": {
    "collapsed": false
   },
   "outputs": [
    {
     "ename": "LoadError",
     "evalue": "LoadError: MethodError: no method matching iterator_paso(::#x_n, ::#y_n, ::Array{Float64,2})\nClosest candidates are:\n  iterator_paso(::Function, ::Function, ::Any, !Matched::Any, !Matched::Any) at In[10]:3\nwhile loading In[20], in expression starting on line 1",
     "output_type": "error",
     "traceback": [
      "LoadError: MethodError: no method matching iterator_paso(::#x_n, ::#y_n, ::Array{Float64,2})\nClosest candidates are:\n  iterator_paso(::Function, ::Function, ::Any, !Matched::Any, !Matched::Any) at In[10]:3\nwhile loading In[20], in expression starting on line 1",
      ""
     ]
    }
   ],
   "source": [
    "CI2 = iterator_paso(x_n, y_n, CI1)\n",
    "CI3 = iterator_paso(x_n, y_n, CI2)\n",
    "CI4 = iterator_paso(x_n, y_n, CI3)\n",
    "scatter(CI1[1,:], CI1[2,:], markersize=(1), markercolor=:green, label=(\"Condiciones iniciales\"))\n",
    "scatter!(CI2[1,:], CI2[2,:], markersize=(1), legend = false, markercolor=:blue)\n",
    "scatter!(CI3[1,:], CI3[2,:], markersize=(1), legend = false, markercolor=:red)\n",
    "scatter!(CI4[1,:], CI4[2,:], markersize=(1), legend = false, markercolor=:black)"
   ]
  },
  {
   "cell_type": "code",
   "execution_count": 21,
   "metadata": {
    "collapsed": false
   },
   "outputs": [
    {
     "name": "stderr",
     "output_type": "stream",
     "text": [
      "WARNING: Method definition iterator(Function, Function, Any, Any, Any) in module Main at In[12]:3 overwritten at In[21]:3.\n"
     ]
    },
    {
     "data": {
      "text/plain": [
       "iterator (generic function with 1 method)"
      ]
     },
     "execution_count": 21,
     "metadata": {},
     "output_type": "execute_result"
    }
   ],
   "source": [
    "function iterator(f::Function, g::Function, n, x0, y0)\n",
    "    \n",
    "    orbit = zeros(2, n+1)\n",
    "    orbit[1,1] = x0 ; orbit[2,1] = y0\n",
    "    \n",
    "    for i in 1:n\n",
    "        \n",
    "        orbit[1, i+1] = f(orbit[1,i], orbit[2, i])\n",
    "        orbit[2, i+1] = g(orbit[1,i], orbit[2, i])\n",
    "        \n",
    "    end\n",
    "    \n",
    "    orbit\n",
    "    \n",
    "end "
   ]
  },
  {
   "cell_type": "code",
   "execution_count": 13,
   "metadata": {
    "collapsed": false
   },
   "outputs": [
    {
     "data": {
      "text/plain": [
       "0.3"
      ]
     },
     "execution_count": 13,
     "metadata": {},
     "output_type": "execute_result"
    }
   ],
   "source": [
    "b = 0.3"
   ]
  },
  {
   "cell_type": "code",
   "execution_count": 14,
   "metadata": {
    "collapsed": false
   },
   "outputs": [
    {
     "data": {
      "text/plain": [
       "0.3"
      ]
     },
     "execution_count": 14,
     "metadata": {},
     "output_type": "execute_result"
    }
   ],
   "source": [
    "b"
   ]
  },
  {
   "cell_type": "code",
   "execution_count": 23,
   "metadata": {
    "collapsed": false
   },
   "outputs": [
    {
     "ename": "LoadError",
     "evalue": "LoadError: MethodError: no method matching x_n(::Float64, ::Float64)\nClosest candidates are:\n  x_n(::Any, ::Any, !Matched::Any) at In[5]:1\nwhile loading In[23], in expression starting on line 1",
     "output_type": "error",
     "traceback": [
      "LoadError: MethodError: no method matching x_n(::Float64, ::Float64)\nClosest candidates are:\n  x_n(::Any, ::Any, !Matched::Any) at In[5]:1\nwhile loading In[23], in expression starting on line 1",
      "",
      " in iterator(::#x_n, ::#y_n, ::Int64, ::Int64, ::Int64) at ./In[21]:8"
     ]
    }
   ],
   "source": [
    "orbita_b_03 = iterator(x_n, y_n, 10000, 0, 0)\n",
    "scatter(orbita_b_03[1,:], orbita_b_03[2,:], markersize=1)"
   ]
  },
  {
   "cell_type": "markdown",
   "metadata": {},
   "source": [
    "#### b = -1"
   ]
  },
  {
   "cell_type": "code",
   "execution_count": 16,
   "metadata": {
    "collapsed": false
   },
   "outputs": [
    {
     "data": {
      "text/plain": [
       "0.3"
      ]
     },
     "execution_count": 16,
     "metadata": {},
     "output_type": "execute_result"
    }
   ],
   "source": [
    "b = 0.3"
   ]
  },
  {
   "cell_type": "code",
   "execution_count": 17,
   "metadata": {
    "collapsed": false
   },
   "outputs": [
    {
     "data": {
      "text/plain": [
       "0.3"
      ]
     },
     "execution_count": 17,
     "metadata": {},
     "output_type": "execute_result"
    }
   ],
   "source": [
    "b"
   ]
  },
  {
   "cell_type": "code",
   "execution_count": 18,
   "metadata": {
    "collapsed": false
   },
   "outputs": [
    {
     "ename": "LoadError",
     "evalue": "LoadError: MethodError: no method matching x_n(::Float64, ::Float64)\nClosest candidates are:\n  x_n(::Any, ::Any, !Matched::Any) at In[5]:1\nwhile loading In[18], in expression starting on line 1",
     "output_type": "error",
     "traceback": [
      "LoadError: MethodError: no method matching x_n(::Float64, ::Float64)\nClosest candidates are:\n  x_n(::Any, ::Any, !Matched::Any) at In[5]:1\nwhile loading In[18], in expression starting on line 1",
      "",
      " in iterator(::#x_n, ::#y_n, ::Int64, ::Int64, ::Int64) at ./In[12]:8"
     ]
    }
   ],
   "source": [
    "orbita_b_1 = iterator(x_n, y_n, 10000, 0, 0)\n",
    "scatter(orbita_b_1[1,:], orbita_b_1[2,:], markersize=1)"
   ]
  },
  {
   "cell_type": "markdown",
   "metadata": {},
   "source": [
    "😎"
   ]
  },
  {
   "cell_type": "markdown",
   "metadata": {},
   "source": [
    "#### Referencias\n",
    "\n",
    "M. Hénon (1976). \"A two-dimensional mapping with a strange attractor\". Communications in Mathematical Physics. 50 (1): 69–77. "
   ]
  }
 ],
 "metadata": {
  "kernelspec": {
   "display_name": "Julia 0.5.0",
   "language": "julia",
   "name": "julia-0.5"
  },
  "language_info": {
   "file_extension": ".jl",
   "mimetype": "application/julia",
   "name": "julia",
   "version": "0.5.0"
  }
 },
 "nbformat": 4,
 "nbformat_minor": 0
}
