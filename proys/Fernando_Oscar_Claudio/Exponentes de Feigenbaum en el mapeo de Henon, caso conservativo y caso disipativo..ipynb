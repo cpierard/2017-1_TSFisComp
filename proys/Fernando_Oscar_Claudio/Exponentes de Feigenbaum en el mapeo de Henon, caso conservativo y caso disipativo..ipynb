{
 "cells": [
  {
   "cell_type": "markdown",
   "metadata": {
    "slideshow": {
     "slide_type": "slide"
    }
   },
   "source": [
    "# Mapeo de Hénon"
   ]
  },
  {
   "cell_type": "markdown",
   "metadata": {
    "slideshow": {
     "slide_type": "slide"
    }
   },
   "source": [
    "Hénon propuso, en 1976, un mapeo en 2D sencillo que exhibiera las propiedades esenciales del sistema de ecuaciones de primer orden acopladas propuestas por Lorentz, con el objetivo de poder estudiar de forma sencilla dichas propiedades.\n",
    "\n",
    "El mapeo imita una sección de Poincaré del atractor de Lorentz.\n",
    "\n",
    "El mapeo propuesto es el siguiente \n",
    "\n",
    "\\begin{equation}\n",
    "\\begin{split}\n",
    "    T:\\,&x_{i+1}=y_{i+1}-ax_{i}^{2}\\\\\n",
    "    &y_{i+1}=bx_{i}\n",
    "\\end{split}\n",
    "\\end{equation}\n",
    "\n",
    "\n",
    "\n"
   ]
  },
  {
   "cell_type": "markdown",
   "metadata": {
    "slideshow": {
     "slide_type": "slide"
    }
   },
   "source": [
    "Dicho mapeo se puede descomponer en tres etapas, i.e., $T\\,=\\,T'''T''T$. Si se toma como condición inicial una elipse:\n"
   ]
  },
  {
   "cell_type": "markdown",
   "metadata": {
    "slideshow": {
     "slide_type": "fragment"
    }
   },
   "source": [
    "![](doblamiento_T1.png)"
   ]
  },
  {
   "cell_type": "markdown",
   "metadata": {
    "slideshow": {
     "slide_type": "slide"
    }
   },
   "source": [
    "La primera etapa consiste en un doblamiento:\n",
    "\n",
    "\\begin{equation}\n",
    "\\begin{split}\n",
    "    T':\\,&x'=x\\\\\n",
    "    &y'=y+1-ax^{2}\n",
    "\\end{split}\n",
    "\\end{equation}"
   ]
  },
  {
   "cell_type": "markdown",
   "metadata": {
    "slideshow": {
     "slide_type": "fragment"
    }
   },
   "source": [
    "![](doblamiento_T2.png)"
   ]
  },
  {
   "cell_type": "markdown",
   "metadata": {
    "slideshow": {
     "slide_type": "slide"
    }
   },
   "source": [
    "La segunda etapa consiste en una contracción en $x$:\n",
    "\n",
    "\\begin{equation}\n",
    "\\begin{split}\n",
    "    T'':\\,&x''=bx'\\\\\n",
    "    &y''=y\n",
    "\\end{split}\n",
    "\\end{equation}\n"
   ]
  },
  {
   "cell_type": "markdown",
   "metadata": {
    "slideshow": {
     "slide_type": "fragment"
    }
   },
   "source": [
    "![](doblamiento_T3.png)"
   ]
  },
  {
   "cell_type": "markdown",
   "metadata": {
    "slideshow": {
     "slide_type": "slide"
    }
   },
   "source": [
    "La tercera etapa consiste en un reorientación en el eje x:\n",
    "\n",
    "\\begin{equation}\n",
    "\\begin{split}\n",
    "    T''':\\,&x'''=y''\\\\\n",
    "    &y'''=x''\n",
    "\\end{split}\n",
    "\\end{equation}"
   ]
  },
  {
   "cell_type": "markdown",
   "metadata": {
    "slideshow": {
     "slide_type": "fragment"
    }
   },
   "source": [
    "![](doblamiento_T4.png)"
   ]
  },
  {
   "cell_type": "markdown",
   "metadata": {
    "slideshow": {
     "slide_type": "slide"
    }
   },
   "source": [
    "Es un mapeo con Jacobiano constante:\n",
    "\n",
    "\\begin{equation}\n",
    "    \\frac{\\partial (x_{i+1},y_{i+1})}{\\partial (x_{i},y_{i})}=-b\n",
    "\\end{equation}\n",
    "\n",
    "\n",
    "\n",
    "Tiene dos puntos invariantes\n",
    "\n",
    "\\begin{equation}\n",
    "\\begin{split}\n",
    "    &x=\\frac{-(1-b)\\pm\\sqrt{(1-b)^{2}+4a}}{2a}\\\\\n",
    "    &y=bx\n",
    "\\end{split}\n",
    "\\end{equation}\n",
    "\n",
    "\n",
    "\n",
    "Dichos puntos son reales para \n",
    "\\begin{equation}\n",
    "a>a_{0}=-\\frac{1}{4}(1-b)^{2}.\n",
    "\\end{equation}\n"
   ]
  },
  {
   "cell_type": "markdown",
   "metadata": {
    "slideshow": {
     "slide_type": "slide"
    }
   },
   "source": [
    "En este caso, un punto es siempre linealmente inestable, mientras que el otro es inestable para \n",
    "\n",
    "\\begin{equation}\n",
    "a>a_{1}=\\frac{3}{4}(1-b)^{2}.\n",
    "\\end{equation}"
   ]
  },
  {
   "cell_type": "code",
   "execution_count": 18,
   "metadata": {
    "collapsed": false
   },
   "outputs": [
    {
     "data": {
      "text/plain": [
       "Plots.PyPlotBackend()"
      ]
     },
     "execution_count": 18,
     "metadata": {},
     "output_type": "execute_result"
    }
   ],
   "source": [
    "using Plots, LaTeXStrings\n",
    "pyplot(markerstrokecolor=false)"
   ]
  },
  {
   "cell_type": "code",
   "execution_count": 19,
   "metadata": {
    "collapsed": false
   },
   "outputs": [
    {
     "data": {
      "text/plain": [
       "Henon (generic function with 1 method)"
      ]
     },
     "execution_count": 19,
     "metadata": {},
     "output_type": "execute_result"
    }
   ],
   "source": [
    "function Henon(x, y, a, b)\n",
    "    \n",
    "    1 - a*x^2 + y , b*x\n",
    "    \n",
    "end "
   ]
  },
  {
   "cell_type": "markdown",
   "metadata": {},
   "source": [
    "# Áreas"
   ]
  },
  {
   "cell_type": "markdown",
   "metadata": {},
   "source": [
    "Para determinar para cuales constantes el mapeo es conservativo y disipativo, se implentó un algoritmo usando el método Monte Carlo para medir áreas de una figura irregular, en este caso la figura consiste de un círculo unitario que está dado por la parametrización:\n",
    "\n",
    "$$ \\sigma(t) = (cos t, sin t), \\qquad t \\in [0, 2 \\pi].$$\n",
    "\n",
    "Para medir el área de la figura después de iterarlo una vez con el mapeo de Hénon, se hace la compoción del \n",
    "\n",
    "\n",
    "El método consiste en los siguientes pasos:\n",
    "- Poner la figura en un cuadrado que la contenga totalmente. El área del cuadrado se puede calcular fácilmente.\n",
    "- Arrojar un número N de puntos en el cuadrado.\n",
    "- Contar la cantidad de puntos que caen dentro de la figura.\n",
    "una parametrización de un círculo y sus iteradas usando el mapeo de Hénon. El método consite usado consiste en los siguientes pasos:\n",
    "- El área de la figura va a estar dada por la siguiente relación:\n",
    "\n",
    "$$A_{figura} = A_{cuadrado}\\frac{a_{in}}{N},$$\n",
    "\n",
    "donde $a_in$ es el número de puntos que cae dentro de la figura, y $N$ es el total de puntos.\n",
    "\n",
    "Se usó el método [\"Inside Outside\"](http://commons.bcit.ca/math/entertainment/inout/index.html) para determinar si un punto está dentro o fuera de una figua irregular."
   ]
  },
  {
   "cell_type": "code",
   "execution_count": 20,
   "metadata": {
    "collapsed": false
   },
   "outputs": [
    {
     "data": {
      "text/plain": [
       "in_or_out"
      ]
     },
     "execution_count": 20,
     "metadata": {},
     "output_type": "execute_result"
    }
   ],
   "source": [
    "\"\"\"\n",
    "    in_or_out(para, x, y)\n",
    "\n",
    "Función que evalúa si un punto dado por `x` y `y` está dentro de una figura dada por una parametrización\n",
    "en forma de un array `para` creado usando la función `condiones_iniciales_2D`.\n",
    "\n",
    "\"\"\"\n",
    "\n",
    "function in_or_out(para, x, y)\n",
    "    \n",
    "    crossings = 0\n",
    "    \n",
    "    for i in 1:length(para[1,:])-1\n",
    "        \n",
    "        if x < para[1, i] && x < para[1, i+1] || x > para[1, i] && x > para[1, i+1]\n",
    "            \n",
    "            nothing\n",
    "            \n",
    "        elseif y > para[2,i] && y > para[2, i+1]\n",
    "            \n",
    "            nothing\n",
    "    \n",
    "        elseif y < para[2,i] && y < para[2, i+1]\n",
    "            \n",
    "            if x < para[1, i] && x > para[1, i+1] || x > para[1, i] && x < para[1, i+1]\n",
    "                \n",
    "                crossings += 1\n",
    "                \n",
    "            end\n",
    "            \n",
    "        elseif y > para[2, i] && y < para[2, i+1]\n",
    "            \n",
    "            if x > para[1, i] && x < para[1, i+1]\n",
    "                \n",
    "                y_c = para[2,i] + (para[2, i+1] - para[2, i])*(x - para[1, i])/(para[1, i+1] - para[1, i])\n",
    "                \n",
    "                if y_c > y\n",
    "                    \n",
    "                    crossings += 1\n",
    "                    \n",
    "                end\n",
    "                \n",
    "            end\n",
    "            \n",
    "        elseif y < para[2, i] && y > para[2, i+1]\n",
    "            \n",
    "            if x < para[1, i] && x > para[1, i+1]\n",
    "                \n",
    "                y_c = para[2, i+1] + (para[2, i] - para[2, i+1])*(x - para[1, i+1])/(para[1, i] - para[1, i+1])\n",
    "\n",
    "                if y_c > y\n",
    "\n",
    "                    crossings += 1\n",
    "\n",
    "                end\n",
    "\n",
    "            end\n",
    "            \n",
    "        end\n",
    "        \n",
    "    end\n",
    "    \n",
    "    if iseven(crossings)\n",
    "        \n",
    "        return false\n",
    "        \n",
    "    elseif isodd(crossings)\n",
    "        \n",
    "        return true\n",
    "        \n",
    "    end\n",
    "    \n",
    "end"
   ]
  },
  {
   "cell_type": "markdown",
   "metadata": {},
   "source": []
  },
  {
   "cell_type": "code",
   "execution_count": 21,
   "metadata": {
    "collapsed": false
   },
   "outputs": [
    {
     "data": {
      "text/plain": [
       "condiones_iniciales_2D"
      ]
     },
     "execution_count": 21,
     "metadata": {},
     "output_type": "execute_result"
    }
   ],
   "source": [
    "\"\"\"\n",
    "    condiones_iniciales_2D(f::Function, t_range, a, b)\n",
    "\n",
    "Función que guarda en un array de de 2×n una parametrización `f` para un rango `t_range`.\n",
    "Los parámetros `a` y `b` sirven para parametrizaciones que requieran del mapeo de Hénon.\n",
    "\n",
    "\"\"\"\n",
    "\n",
    "function condiones_iniciales_2D(f::Function, t_range, a, b)\n",
    "    CI = zeros(2, length(t_range))\n",
    "    \n",
    "    for i in 1:length(t_range)\n",
    "        \n",
    "        CI[1, i] = f(t_range[i], a, b)[1]\n",
    "        CI[2, i] = f(t_range[i], a, b)[2]\n",
    "        \n",
    "    end\n",
    "    \n",
    "    CI\n",
    "    \n",
    "end"
   ]
  },
  {
   "cell_type": "code",
   "execution_count": 22,
   "metadata": {
    "collapsed": false
   },
   "outputs": [
    {
     "data": {
      "text/plain": [
       "iterator"
      ]
     },
     "execution_count": 22,
     "metadata": {},
     "output_type": "execute_result"
    }
   ],
   "source": [
    "\"\"\"\n",
    "    iterator(f::Function, X0, a, b, N)\n",
    "\n",
    "Itera un array `X0` usando un mapeo `f`, un número `N` de veces. `a` y `b` son parámetros del mapeo\n",
    "Hénon.\n",
    "\n",
    "\"\"\"\n",
    "\n",
    "\n",
    "function iterator(f::Function, X0, a, b, N)\n",
    "    \n",
    "    aux = copy(X0)\n",
    "    orbit = zeros(size(aux))\n",
    "    \n",
    "    for j in 1:N\n",
    "        \n",
    "        for i in 1:length(aux[1, :])\n",
    "\n",
    "            orbit[1, i] = f(aux[1, i], aux[2, i], a, b)[1]\n",
    "            orbit[2, i] = f(aux[1, i], aux[2, i], a, b)[2]\n",
    "\n",
    "        end\n",
    "        \n",
    "        aux = copy(orbit)\n",
    " \n",
    "    end\n",
    "    \n",
    "    orbit\n",
    "    \n",
    "end "
   ]
  },
  {
   "cell_type": "code",
   "execution_count": 23,
   "metadata": {
    "collapsed": false
   },
   "outputs": [
    {
     "data": {
      "text/plain": [
       "invert_ceil"
      ]
     },
     "execution_count": 23,
     "metadata": {},
     "output_type": "execute_result"
    }
   ],
   "source": [
    "\"\"\"\n",
    "    invert_ceil(x)\n",
    "\n",
    "Es una función que redondea hacia arriba un número positivo `x`, o si el número es negativo, lo redondea\n",
    "hacia abajo.\n",
    "\"\"\"\n",
    "\n",
    "function invert_ceil(x)\n",
    "    \n",
    "    if x < 0 \n",
    "        \n",
    "        x = -ceil(abs(x))\n",
    "        \n",
    "    else\n",
    "        \n",
    "        x = ceil(x)\n",
    "        \n",
    "    end\n",
    "    \n",
    "    x\n",
    "    \n",
    "end"
   ]
  },
  {
   "cell_type": "code",
   "execution_count": 24,
   "metadata": {
    "collapsed": false
   },
   "outputs": [
    {
     "data": {
      "text/plain": [
       "randinterval"
      ]
     },
     "execution_count": 24,
     "metadata": {},
     "output_type": "execute_result"
    }
   ],
   "source": [
    "\"\"\"\n",
    "    randinterval(n, min, max)\n",
    "\n",
    "La función da un arreglo con `n` números que son aleatorios en un intervalo definido por `min` y `max`.\n",
    "\"\"\"\n",
    "\n",
    "function randinterval(n, min, max)\n",
    "    \n",
    "    rand(n) * (max - min) + min\n",
    "    \n",
    "end"
   ]
  },
  {
   "cell_type": "code",
   "execution_count": 25,
   "metadata": {
    "collapsed": false
   },
   "outputs": [
    {
     "data": {
      "text/plain": [
       "enclosing_square"
      ]
     },
     "execution_count": 25,
     "metadata": {},
     "output_type": "execute_result"
    }
   ],
   "source": [
    "\"\"\"\n",
    "    enclosing_square(Param_array)\n",
    "\n",
    "Es una función que dada una parametrización en forma de array `Param_array` que define una figura, \n",
    "calcula las coordenadas de un cuadrado que encierra completamente a esa figura.\n",
    "\n",
    "\"\"\"\n",
    "\n",
    "function enclosing_square(Param_array)\n",
    "    \n",
    "    x_min = invert_ceil(min(Param_array[1,:]...))\n",
    "    x_max = invert_ceil(max(Param_array[1,:]...))\n",
    "    y_min = invert_ceil(min(Param_array[2,:]...) )\n",
    "    y_max = invert_ceil(max(Param_array[2,:]...))\n",
    "    \n",
    "    return (x_min, x_max), (y_min, y_max)\n",
    "    \n",
    "end"
   ]
  },
  {
   "cell_type": "code",
   "execution_count": 26,
   "metadata": {
    "collapsed": false
   },
   "outputs": [
    {
     "data": {
      "text/plain": [
       "itera_parametrizacion_henon"
      ]
     },
     "execution_count": 26,
     "metadata": {},
     "output_type": "execute_result"
    }
   ],
   "source": [
    "\"\"\"\n",
    "    itera_parametrizacion_henon(n)\n",
    "\n",
    "Es una función que declara funciones anónimas que son la composición de la parametrización del círculo\n",
    "unitario con el mapeo de Hénon. El parámetro `n` es el número de composiciones con el mapeo de Hénon.\n",
    "\n",
    "\"\"\"\n",
    "\n",
    "function itera_parametrizacion_henon(n)\n",
    "    \n",
    "    #1 - a*x^2 + y , b*x\n",
    "    \n",
    "    x = \"cos(t)\"\n",
    "    y = \"sin(t)\"\n",
    "\n",
    "    for i in 1:n\n",
    "\n",
    "        xi = \"1 - a*($x)^2 + ($y)\"\n",
    "        yi = \"b*($x)\"\n",
    "        x = xi\n",
    "        y = yi\n",
    "\n",
    "    end\n",
    "\n",
    "    ex = parse(x*\" , \"*y)\n",
    "    ex_ret = :( (t, a, b) -> $ex )\n",
    "    eval(ex_ret)\n",
    "end  "
   ]
  },
  {
   "cell_type": "code",
   "execution_count": 27,
   "metadata": {
    "collapsed": false
   },
   "outputs": [
    {
     "data": {
      "text/plain": [
       "(-0.7408864000000001,0.32280000000000003)"
      ]
     },
     "execution_count": 27,
     "metadata": {},
     "output_type": "execute_result"
    }
   ],
   "source": [
    "itera_parametrizacion_henon(3)(0, 1.4, 0.3)"
   ]
  },
  {
   "cell_type": "code",
   "execution_count": 28,
   "metadata": {
    "collapsed": false
   },
   "outputs": [
    {
     "data": {
      "text/plain": [
       "find_area"
      ]
     },
     "execution_count": 28,
     "metadata": {},
     "output_type": "execute_result"
    }
   ],
   "source": [
    "\"\"\"\n",
    "    find_area(Σ::Function, t_range, N, a, b)\n",
    "\n",
    "Función que calcula el área de una figura dada por una parametrización Σ, usando el método de \n",
    "Monte Carlo para calcular áreas. El rango `t_range`es el rango donde está definida la \n",
    "parametrizacion Σ, `N` es el número de puntos que se van a arrrojar para medir el área y los \n",
    "parámetros `a` y `b` son para las parametrizaciones de figuras que surgen de iterar el mapeo \n",
    "de Hénon. Para que funcione Σ debe tomar por argumentos Σ(t, a, b), aunque a y b no se \n",
    "requieran para la parametrización.\n",
    "\n",
    "\n",
    "\"\"\"\n",
    "function find_area(Σ::Function, t_range, N, a, b)\n",
    "    \n",
    "    parametrization = condiones_iniciales_2D(Σ, t_range, a, b)\n",
    "    x_limites, y_limites = enclosing_square(parametrization)\n",
    "    inside = 0\n",
    "    total = N\n",
    "    area = (x_limites[end] - x_limites[1]) * (y_limites[end] - y_limites[1])\n",
    "    \n",
    "    for i in 1:N\n",
    "        \n",
    "        x = randinterval(1, x_limites[1], x_limites[end])[1]\n",
    "        y = randinterval(1, y_limites[1], y_limites[end])[1]\n",
    "        \n",
    "        if in_or_out(parametrization, x, y)\n",
    "            \n",
    "            inside += 1\n",
    "            \n",
    "        end\n",
    "    end\n",
    "\n",
    "    area * inside / total\n",
    "    \n",
    "end"
   ]
  },
  {
   "cell_type": "code",
   "execution_count": 29,
   "metadata": {
    "collapsed": false
   },
   "outputs": [
    {
     "data": {
      "text/plain": [
       "0.0:0.01:6.28"
      ]
     },
     "execution_count": 29,
     "metadata": {},
     "output_type": "execute_result"
    }
   ],
   "source": [
    "t_rango = 0:0.01:2π"
   ]
  },
  {
   "cell_type": "code",
   "execution_count": 30,
   "metadata": {
    "collapsed": false
   },
   "outputs": [
    {
     "data": {
      "text/plain": [
       "σ (generic function with 1 method)"
      ]
     },
     "execution_count": 30,
     "metadata": {},
     "output_type": "execute_result"
    }
   ],
   "source": [
    "σ(t, a, b) = (cos(t), sin(t)) #parametrización del círculo."
   ]
  },
  {
   "cell_type": "code",
   "execution_count": 31,
   "metadata": {
    "collapsed": false
   },
   "outputs": [
    {
     "name": "stdout",
     "output_type": "stream",
     "text": [
      "  4.225523 seconds (8.16 M allocations: 5.386 GB, 19.37% gc time)\n"
     ]
    },
    {
     "data": {
      "text/plain": [
       "3.140428"
      ]
     },
     "execution_count": 31,
     "metadata": {},
     "output_type": "execute_result"
    }
   ],
   "source": [
    "@time find_area(σ, t_rango, 1000000, 1.4, -1) #Área del círculo con 1 millon de puntos, param. 1.4 y -1 son irrelevantes"
   ]
  },
  {
   "cell_type": "markdown",
   "metadata": {},
   "source": [
    "- ### Área para $b = 1$, $a=-1.4$."
   ]
  },
  {
   "cell_type": "code",
   "execution_count": 32,
   "metadata": {
    "collapsed": false
   },
   "outputs": [
    {
     "data": {
      "text/plain": [
       "2×6284 Array{Float64,2}:\n",
       " -3.81585  -3.82041  -3.82498  -3.82954  …  -3.80585  -3.81043  -3.815  \n",
       "  1.776     1.77712   1.77824   1.77936      1.77355   1.77467   1.77579"
      ]
     },
     "execution_count": 32,
     "metadata": {},
     "output_type": "execute_result"
    }
   ],
   "source": [
    "t_rango = 0:0.001:2π\n",
    "CI1_1 = condiones_iniciales_2D(σ, t_rango, 1.4, 1, )\n",
    "CI1_2 = iterator(Henon, CI1_1, 1.4, 1, 1)\n",
    "CI1_3 = iterator(Henon, CI1_2, 1.4, 1, 1)\n",
    "CI1_4 = iterator(Henon, CI1_3, 1.4, 1, 1)"
   ]
  },
  {
   "cell_type": "code",
   "execution_count": 33,
   "metadata": {
    "collapsed": false
   },
   "outputs": [
    {
     "data": {
      "text/html": [
       "<img src=\"data:image/png;base64,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\" />"
      ]
     },
     "execution_count": 33,
     "metadata": {},
     "output_type": "execute_result"
    }
   ],
   "source": [
    "scatter(CI1_2[1,:], CI1_2[2,:], markersize=(1), markercolor=:green, label=(\"Cond. Iniciales\"))\n",
    "scatter!(CI1_1[1,:], CI1_1[2,:], markersize=(1), markercolor=:blue, label=(\"Primer iterado\"))\n",
    "scatter!(CI1_3[1,:], CI1_3[2,:], markersize=(1), markercolor=:orange, label=(\"Segundo iterado\"))\n",
    "#scatter!(CI1_4[1,:], CI1_4[2,:], markersize=(1), markercolor=:red, label=(\"Segundo iterado\"))\n",
    "xlabel!(L\"x\")\n",
    "ylabel!(L\"y\")\n",
    "title!(L\"Mapeo de Hénon $a = 1.4$, $b=1$\")"
   ]
  },
  {
   "cell_type": "code",
   "execution_count": 34,
   "metadata": {
    "collapsed": false
   },
   "outputs": [
    {
     "name": "stderr",
     "output_type": "stream",
     "text": [
      "/System/Library/Frameworks/Python.framework/Versions/2.7/Extras/lib/python/matplotlib/font_manager.py:1236: UserWarning: findfont: Font family ['Helvetica'] not found. Falling back to Bitstream Vera Sans\n",
      "  (prop.get_family(), self.defaultFamily[fontext]))\n"
     ]
    },
    {
     "data": {
      "text/plain": [
       "4-element Array{Float64,1}:\n",
       " 3.1356 \n",
       " 3.14761\n",
       " 3.15386\n",
       " 3.15693"
      ]
     },
     "execution_count": 34,
     "metadata": {},
     "output_type": "execute_result"
    }
   ],
   "source": [
    "areas_b_1 = Float64[]\n",
    "\n",
    "for i in 0:3\n",
    "    \n",
    "    a = find_area(itera_parametrizacion_henon(i), t_rango, 1000000, 1.4, 1)\n",
    "    push!(areas_b_1, a)\n",
    "    \n",
    "end\n",
    "\n",
    "areas_b_1"
   ]
  },
  {
   "cell_type": "code",
   "execution_count": 35,
   "metadata": {
    "collapsed": false
   },
   "outputs": [
    {
     "data": {
      "text/html": [
       "<img src=\"data:image/png;base64,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\" />"
      ]
     },
     "execution_count": 35,
     "metadata": {},
     "output_type": "execute_result"
    }
   ],
   "source": [
    "scatter(collect(0:3), areas_b_1, leg = false)\n",
    "ylabel!(\"Área\")\n",
    "xlabel!(\"Iterado del mapeo de Hénon\")\n",
    "title!(L\"Áreas para $b=1$, $a=1.4$\")"
   ]
  },
  {
   "cell_type": "markdown",
   "metadata": {},
   "source": [
    "- ### Área para $b = -1$, $a=-1.4$."
   ]
  },
  {
   "cell_type": "code",
   "execution_count": 36,
   "metadata": {
    "collapsed": false
   },
   "outputs": [
    {
     "data": {
      "text/plain": [
       "2×6284 Array{Float64,2}:\n",
       " 1.32975  1.32945   1.32915   1.32884   …  1.33039   1.3301    1.32981 \n",
       " 0.224    0.222879  0.221757  0.220634     0.226444  0.225327  0.224208"
      ]
     },
     "execution_count": 36,
     "metadata": {},
     "output_type": "execute_result"
    }
   ],
   "source": [
    "t_rango = 0:0.001:2π\n",
    "CI_1_1 = condiones_iniciales_2D(σ, t_rango, 1.4, -1)\n",
    "CI_1_2 = iterator(Henon, CI_1_1, 1.4, -1, 1)\n",
    "CI_1_3 = iterator(Henon, CI_1_2, 1.4, -1, 1)\n",
    "CI_1_4 = iterator(Henon, CI_1_3, 1.4, -1, 1)"
   ]
  },
  {
   "cell_type": "code",
   "execution_count": 37,
   "metadata": {
    "collapsed": false
   },
   "outputs": [
    {
     "data": {
      "text/html": [
       "<img src=\"data:image/png;base64,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\" />"
      ]
     },
     "execution_count": 37,
     "metadata": {},
     "output_type": "execute_result"
    }
   ],
   "source": [
    "scatter(CI_1_1[1,:], CI_1_1[2,:], markersize=(1), markercolor=:blue, label=(\"Cond. Iniciales\"))\n",
    "scatter!(CI_1_2[1,:], CI_1_2[2,:], markersize=(1), markercolor=:green, label=(\"Primer iterado\"))\n",
    "scatter!(CI_1_3[1,:], CI_1_3[2,:], markersize=(1), markercolor=:orange, label=(\"Segundo iterado\"))\n",
    "#scatter!(CI_1_4[1,:], CI_1_4[2,:], markersize=(1), markercolor=:red, label=(\"Tercer iterado\"))\n",
    "title!(L\"Mapeo de Hénon $a = 1.4$, $b=-1$\")\n",
    "xlabel!(L\"x\")\n",
    "ylabel!(L\"y\")"
   ]
  },
  {
   "cell_type": "code",
   "execution_count": 38,
   "metadata": {
    "collapsed": false
   },
   "outputs": [
    {
     "data": {
      "text/plain": [
       "4-element Array{Float64,1}:\n",
       " 3.14314\n",
       " 3.1454 \n",
       " 3.14903\n",
       " 3.14183"
      ]
     },
     "execution_count": 38,
     "metadata": {},
     "output_type": "execute_result"
    }
   ],
   "source": [
    "areas_b__1 = Float64[]\n",
    "\n",
    "for i in 0:3\n",
    "    \n",
    "    a = find_area(itera_parametrizacion_henon(i), t_rango, 1000000, 1.4, -1)\n",
    "    push!(areas_b__1, a)\n",
    "    \n",
    "end\n",
    "\n",
    "areas_b__1"
   ]
  },
  {
   "cell_type": "code",
   "execution_count": 39,
   "metadata": {
    "collapsed": false
   },
   "outputs": [
    {
     "data": {
      "text/html": [
       "<img src=\"data:image/png;base64,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\" />"
      ]
     },
     "execution_count": 39,
     "metadata": {},
     "output_type": "execute_result"
    }
   ],
   "source": [
    "scatter(collect(0:3), areas_b__1, leg = false)\n",
    "ylabel!(\"Área\")\n",
    "xlabel!(\"Iterado del mapeo de Hénon\")\n",
    "title!(L\"Áreas para $b=-1$, $a=1.4$\")"
   ]
  },
  {
   "cell_type": "markdown",
   "metadata": {},
   "source": [
    "- ### Área para $b = 0.3$, $a=-1.4$."
   ]
  },
  {
   "cell_type": "code",
   "execution_count": 40,
   "metadata": {
    "collapsed": false
   },
   "outputs": [
    {
     "data": {
      "text/plain": [
       "2×6284 Array{Float64,2}:\n",
       " -0.740886  -0.743962  -0.747041  …  -0.734175  -0.737244  -0.740317\n",
       "  0.3228     0.323136   0.323472      0.322066   0.322402   0.322738"
      ]
     },
     "execution_count": 40,
     "metadata": {},
     "output_type": "execute_result"
    }
   ],
   "source": [
    "t_rango = 0:0.001:2π\n",
    "CI03_1 = condiones_iniciales_2D(σ, t_rango, 1.4, 0.3)\n",
    "CI03_2 = iterator(Henon, CI03_1, 1.4, 0.3, 1)\n",
    "CI03_3 = iterator(Henon, CI03_2, 1.4, 0.3, 1)\n",
    "CI03_4 = iterator(Henon, CI03_3, 1.4, 0.3, 1)"
   ]
  },
  {
   "cell_type": "code",
   "execution_count": 41,
   "metadata": {
    "collapsed": false
   },
   "outputs": [
    {
     "data": {
      "text/html": [
       "<img src=\"data:image/png;base64,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\" />"
      ]
     },
     "execution_count": 41,
     "metadata": {},
     "output_type": "execute_result"
    }
   ],
   "source": [
    "scatter(CI03_1[1,:], CI03_1[2,:], markersize=(1), markercolor=:blue, label=(\"Cond. Iniciales\"))\n",
    "scatter!(CI03_2[1,:], CI03_2[2,:], markersize=(1), markercolor=:green, label=(\"Primer iterado\"))\n",
    "scatter!(CI03_3[1,:], CI03_3[2,:], markersize=(1), markercolor=:orange, label=(\"Segundo iterado\"))\n",
    "scatter!(CI03_4[1,:], CI03_4[2,:], markersize=(1), markercolor=:red, leg=false)\n",
    "title!(L\"Mapeo de Hénon $a = 1.4$, $b=0.3$\")\n",
    "xlabel!(L\"x\")\n",
    "ylabel!(L\"y\")"
   ]
  },
  {
   "cell_type": "code",
   "execution_count": 42,
   "metadata": {
    "collapsed": false
   },
   "outputs": [
    {
     "data": {
      "text/plain": [
       "4-element Array{Float64,1}:\n",
       " 3.14288 \n",
       " 0.942612\n",
       " 0.28392 \n",
       " 0.08463 "
      ]
     },
     "execution_count": 42,
     "metadata": {},
     "output_type": "execute_result"
    }
   ],
   "source": [
    "areas_b_03 = Float64[]\n",
    "\n",
    "for i in 0:3\n",
    "    \n",
    "    a = find_area(itera_parametrizacion_henon(i), t_rango, 1000000, 1.4, 0.3)\n",
    "    push!(areas_b_03, a)\n",
    "    \n",
    "end\n",
    "\n",
    "areas_b_03"
   ]
  },
  {
   "cell_type": "code",
   "execution_count": 43,
   "metadata": {
    "collapsed": false
   },
   "outputs": [
    {
     "data": {
      "text/html": [
       "<img src=\"data:image/png;base64,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\" />"
      ]
     },
     "execution_count": 43,
     "metadata": {},
     "output_type": "execute_result"
    }
   ],
   "source": [
    "scatter(collect(0:3), areas_b_03, leg = false)\n",
    "ylabel!(\"Área\")\n",
    "xlabel!(\"Iterado del mapeo de Hénon\")\n",
    "title!(L\"Áreas para $b=0.3$, $a=1.4$\")"
   ]
  },
  {
   "cell_type": "markdown",
   "metadata": {},
   "source": [
    "## Mapeos en 2D\n",
    "### Estabilidad de puntos fijos"
   ]
  },
  {
   "cell_type": "markdown",
   "metadata": {},
   "source": [
    "Un mapeo en dos dimensiones se puede caracterizar, al igual que un mapeo en una dimensión, con la estabilidad de sus puntos fijos, sus órbitas periódicas y otras propiedades que dependen de los parámetros del mapeo. \n",
    "\n",
    "Sea $f(\\vec{x},\\alpha)$ un mapeo en dos dimensiones, con $ \\vec{x}=(x,y)$  y $\\alpha$ un conjunto de parámetros de los que depende el mapeo.\n",
    "\n",
    "Los puntos fijos serán aquellos que satisfagan\n",
    "\n",
    "$$f(\\vec{x}^*,\\alpha)=\\vec{x}^*$$\n",
    "\n",
    "Para mapeos lineales de la forma \n",
    "\n",
    "$$f(\\vec{x})=A\\vec{x}$$  (con A una matriz de $2\\times2$) se tiene que sus puntos fijos son los que satisfacen \n",
    "\n",
    "$$A\\vec{x}^*=\\vec{x}^*$$\n",
    "\n",
    "ó bien \n",
    "\n",
    "$$ (A-I)\\vec{x}^*=0$$\n",
    "\n",
    "Si $(A-I)$ es no singular, entonces $\\vec{x}^*$ es el unico punto de equilibrio del sistema, pero si $(A-I)$ es singular, hay una familia de puntos de equlibrio. En tal caso se define\n",
    "\n",
    "$$\\vec{y}=\\vec{x}-\\vec{x}^*$$ \n",
    "\n",
    "y se obtiene un nuevo mapeo \n",
    "\n",
    "$$f_y(\\vec{y})=A\\vec{y}$$ \n",
    "cuyos puntos de equlibrio satisfacen\n",
    "\n",
    "$$\\vec{y}^*=A\\vec{y}^*$$\n",
    "\n",
    "Así las ropiedades de estabilidad de un punto de equilibrio $\\vec{x}^*\\neq 0 $son las mismas que las de un punto de equilibrio $\\vec{x}=0$. Sea\n",
    "\n",
    "$$J=P^{-1}AP$$\n",
    "\n",
    "la forma canónica de Jordan de A. Sea también \n",
    "\n",
    "$$\\vec{y}=P^{-1}\\vec{x}$$\n",
    "\n",
    "Entonces el sistema original se transforma a \n",
    "\n",
    "$$f_y(\\vec{y})=J\\vec{y}$$ \n",
    "\n",
    "\n",
    "Hay tre posibles formas canónicas de Jordan que se pueden tener, como vimos en clase. Estas formas son:\n",
    "\\begin{equation*}\n",
    "\\left( \n",
    "\\begin{array}{cc}\n",
    "\\alpha & -\\beta \\\\\n",
    "\\beta & \\alpha \n",
    "\\end{array} \n",
    "\\right), \n",
    "\\left( \n",
    "\\begin{array}{cc}\n",
    "\\lambda & 1 \\\\\n",
    "0 & \\lambda \n",
    "\\end{array} \n",
    "\\right),\n",
    "\\left( \n",
    "\\begin{array}{cc}\n",
    "\\lambda & 0 \\\\\n",
    "0 & \\mu\n",
    "\\end{array} \n",
    "\\right),\n",
    "\\end{equation*}\n",
    "donde $\\alpha, \\beta, \\lambda$ y $\\mu$ son reales, con $\\beta\\ne 0$ y $\\mu\\ne\\lambda$. En esta forma, los elementos de la diagonal son los eigenvalores, excepto para la primer matriz, cuyos eigenvalores son $\\alpha\\pm i \\beta$.\n",
    "\n",
    "Para el caso general en que el mapeo $f(\\vec{x},\\alpha)$ no es lineal, se puede linealizar con la matriz jacbiana $J_b$ y así estudiar localmente el comportamiento alrededor de los puntos fijos del mapeo.\n",
    "\n",
    "Por ahora estudiemos el caso en el que los eigenvalores son dos reales distintos. \n",
    "\n",
    "Cuando se tienen dos eigenvalores reales distintos, los puntos fijos pueden ser:\n",
    "\n",
    "- Puntos fijos aasíntoticamente estables: $\\lambda_1\\lt\\lambda_2\\lt1$\n",
    "- Puntos fijos  inestables: $\\lambda_1\\gt\\lambda_2\\gt1$\n",
    "- Puntos fijos silla: $0 \\lt \\lambda_1 \\lt 1, \\lambda_2\\gt1$\n",
    "- Puntos fijos degenerados: $\\lambda_1=1, \\lambda_1 \\gt \\lambda_2$\n",
    "- Punto fijo estable:$-1\\lt\\lambda_1\\lt 0 \\lt\\lambda_2\\lt1$\n",
    "- Punto fijo estable: $-1\\lt\\lambda_1\\lt\\lambda_2\\lt0$\n",
    "- Punto fijo silla: $\\lambda_1\\lt -1 \\lt \\lambda_2 \\lt 0$\n",
    "- Punto fijo silla: $\\lambda_1\\lt -1$ y  $ 0\\lt\\lambda_2 \\lt 1$\n",
    "- Punto fijo silla: $-1\\lt\\lambda_1\\lt 0$ y  $ 1\\lt\\lambda_2$\n",
    "\n",
    "Nota: Los puntos fijos silla son inestables.\n",
    "\n",
    "Esto lo usamos  para estudiar los puntos fijos del  **mapeo clásico de Hénon** que  está definido por \n",
    "\n",
    "$$ \\begin{array}{cc}\n",
    "x_{n+1}=& 1-ax^2_n+y_n \\\\\n",
    "y_{n+1}= & bx_n \n",
    "\\end{array} $$\n",
    "\n",
    "\n",
    "La matriz jacobiana de este mapeo es:\n",
    "\n",
    "\\begin{equation*}\n",
    "J_b=\\left( \n",
    "\\begin{array}{cc}\n",
    "-2ax & 1 \\\\\n",
    "b & 0 \n",
    "\\end{array} \n",
    "\\right)\n",
    "\\end{equation*}\n",
    "\n",
    "Sus eigenvalores están dados por \n",
    "\n",
    "$$\\lambda_{\\pm}=-ax\\pm\\sqrt{(ax)^2+b}$$\n",
    "\n",
    "Estos eigenvalores son reales y diferentes simpre que se satisfaga $b\\gt-(ax)^2$\n",
    "\n",
    "Los puntos fijos del mapeo de Hénon están dados por \n",
    "\n",
    "$$x=\\frac{(1-b)}{2a}\\pm 1/2\\sqrt{(1-b)^2+4a}$$\n",
    "\n",
    "$$y=bx$$\n",
    "\n",
    "Por lo que existen dos puntos fijos en el plano $XY$ para cuando \n",
    "\n",
    "$$a\\gt-1/4(1-b)^2$$\n",
    "\n",
    "y un solo punto fijo en el plano $XY$ si\n",
    "$$a=-1/4(1-b)^2$$"
   ]
  },
  {
   "cell_type": "markdown",
   "metadata": {},
   "source": [
    "Escribamos algunas funciones que nos permitirán estudiar la estabilidad de los puntos fijos del mapeo de Hénon."
   ]
  },
  {
   "cell_type": "code",
   "execution_count": 44,
   "metadata": {
    "collapsed": false
   },
   "outputs": [
    {
     "name": "stderr",
     "output_type": "stream",
     "text": [
      "WARNING: Method definition Henon_map(Any, Any, Any, Any) in module Main at In[1]:3 overwritten at In[44]:3.\n",
      "WARNING: replacing docs for 'Henon_map :: Tuple{Any,Any,Any,Any}' in module 'Main'.\n"
     ]
    },
    {
     "data": {
      "text/plain": [
       "Henon_map"
      ]
     },
     "execution_count": 44,
     "metadata": {},
     "output_type": "execute_result"
    }
   ],
   "source": [
    "\"\"\"Función que define el mapeo de Henon en 2D\"\"\"\n",
    "function Henon_map(x,y,a,b)\n",
    "    fx=y+1-a*x^2\n",
    "    fy=b*x\n",
    "    return fx,fy\n",
    "end "
   ]
  },
  {
   "cell_type": "code",
   "execution_count": 45,
   "metadata": {
    "collapsed": false
   },
   "outputs": [
    {
     "name": "stderr",
     "output_type": "stream",
     "text": [
      "WARNING: Method definition Fixed_points(Any, Any) in module Main at In[2]:2 overwritten at In[45]:2.\n"
     ]
    },
    {
     "data": {
      "text/plain": [
       "Fixed_points (generic function with 1 method)"
      ]
     },
     "execution_count": 45,
     "metadata": {},
     "output_type": "execute_result"
    }
   ],
   "source": [
    "function Fixed_points(a,b)\n",
    "    xf1=-(1-b)/(2a)+(1/2a)*sqrt((1-b)^2+4a)\n",
    "    xf2=-(1-b)/(2a)-(1/2a)*sqrt((1-b)^2+4a)\n",
    "    yf1=b*xf1\n",
    "    yf2=b*xf2\n",
    "    return (xf1,yf1),(xf2,yf2)\n",
    "end "
   ]
  },
  {
   "cell_type": "code",
   "execution_count": 46,
   "metadata": {
    "collapsed": false
   },
   "outputs": [
    {
     "name": "stderr",
     "output_type": "stream",
     "text": [
      "WARNING: Method definition Jacobian_henon(Any, Any, Any, Any) in module Main at In[3]:2 overwritten at In[46]:2.\n"
     ]
    },
    {
     "data": {
      "text/plain": [
       "Jacobian_henon (generic function with 1 method)"
      ]
     },
     "execution_count": 46,
     "metadata": {},
     "output_type": "execute_result"
    }
   ],
   "source": [
    "function Jacobian_henon(x,y,a,b)\n",
    "    Df=[[-2a*x,b] [1,0]]\n",
    "    return Df\n",
    "end "
   ]
  },
  {
   "cell_type": "code",
   "execution_count": 47,
   "metadata": {
    "collapsed": false
   },
   "outputs": [
    {
     "name": "stderr",
     "output_type": "stream",
     "text": [
      "WARNING: Method definition EigenVals_JacHen(Any, Any, Any, Any) in module Main at In[4]:2 overwritten at In[47]:2.\n"
     ]
    },
    {
     "data": {
      "text/plain": [
       "EigenVals_JacHen (generic function with 1 method)"
      ]
     },
     "execution_count": 47,
     "metadata": {},
     "output_type": "execute_result"
    }
   ],
   "source": [
    "function EigenVals_JacHen(x,y,a,b)\n",
    "    λ₁=-a*x+sqrt((a*x)^2+b)\n",
    "    λ₂=-a*x-sqrt((a*x)^2+b)\n",
    "    return λ₁,λ₂\n",
    "end "
   ]
  },
  {
   "cell_type": "markdown",
   "metadata": {},
   "source": [
    "## Conjutos de Julia"
   ]
  },
  {
   "cell_type": "markdown",
   "metadata": {},
   "source": [
    "Ya que sabemos cómo determinar la estabilidad de los puntos fijos del mapeo de Hénon, pero necesitamos estudiar las órbitas que se obtienen al iterar $N$ veces en el mapeo de Hénon una condición inicial $\\vec{x}_0$. \n",
    "\n",
    "Tal como hicimos en la tarea 2, exploremos una región grande el el plano $XY$ para darnos una idea de cuáles son las condiciones iniciales que al iterarse convergen a alguna órbita acotada en el espacio $XY$ y cuáles otras condiciones \"explotan\" rápidamente después de iterar el mapeo una cantidad finita de veces."
   ]
  },
  {
   "cell_type": "markdown",
   "metadata": {},
   "source": [
    "La siguiente función es un algoritmo que construye el conjunto de Julia para una región en el espacio $XY$"
   ]
  },
  {
   "cell_type": "code",
   "execution_count": 48,
   "metadata": {
    "collapsed": false
   },
   "outputs": [
    {
     "name": "stderr",
     "output_type": "stream",
     "text": [
      "WARNING: Method definition Julia_set_Henon(Any, Any, Any, Any, Any, Any) in module Main at In[6]:14 overwritten at In[48]:14.\n",
      "WARNING: replacing docs for 'Julia_set_Henon :: Tuple{Any,Any,Any,Any,Any,Any}' in module 'Main'.\n"
     ]
    },
    {
     "data": {
      "text/plain": [
       "Julia_set_Henon"
      ]
     },
     "execution_count": 48,
     "metadata": {},
     "output_type": "execute_result"
    }
   ],
   "source": [
    "\"\"\"Función que grafica el conjunto de Julia generado por el mapeo f(z,c), en donde z \n",
    "es la variable en el plano complejo y c el parametro que caracteriza al \n",
    "sistema dinamico z_{n+1}=f(z_n)\n",
    "\n",
    "init_cond =  la malla de condiciones iniciales en el plano complejo \n",
    "\n",
    "m =  numero limite de iteraciones del mapeo\n",
    "\n",
    "R= radio del circulo en el plano complejo que se toma como criterio de divergencia\n",
    "\n",
    "\"\"\"\n",
    "function Julia_set_Henon(a,b,xrange,yrange,maxiter,R)\n",
    "    \n",
    "    mx=length(xrange)\n",
    "    my=length(yrange)\n",
    "    iterandos=zeros(my,mx) \n",
    "    for i in 1:mx\n",
    "        for j in 1:my\n",
    "            x=xrange[i]\n",
    "            y=yrange[my+1-j]\n",
    "                for k in 1:maxiter\n",
    "                x,y=Henon_map(x,y,a,b)\n",
    "                iterandos[j,i]=k\n",
    "                    if sqrt(x^2+y^2)>=R \n",
    "                    break\n",
    "                    end \n",
    "                end\n",
    "        end \n",
    "    end\n",
    "    return iterandos\n",
    "end"
   ]
  },
  {
   "cell_type": "markdown",
   "metadata": {
    "slideshow": {
     "slide_type": "slide"
    }
   },
   "source": [
    "# Caso conservativo "
   ]
  },
  {
   "cell_type": "markdown",
   "metadata": {
    "slideshow": {
     "slide_type": "fragment"
    }
   },
   "source": [
    "En este caso $b=-1$ y $b=1$. Para que existan puntos fijos reales se debe cumplir $a>a_{0}=-\\frac{1}{4}(1-b)^{2}$."
   ]
  },
  {
   "cell_type": "markdown",
   "metadata": {},
   "source": [
    "Para $b=-1$, $a=1.4$ se tiene lo siguiente:"
   ]
  },
  {
   "cell_type": "code",
   "execution_count": 49,
   "metadata": {
    "collapsed": false
   },
   "outputs": [
    {
     "data": {
      "text/plain": [
       "((0.39228095605926205,-0.39228095605926205),(-1.8208523846306908,1.8208523846306908))"
      ]
     },
     "execution_count": 49,
     "metadata": {},
     "output_type": "execute_result"
    }
   ],
   "source": [
    "a=1.4\n",
    "b=-1\n",
    "xf1,xf2=Fixed_points(a,b)"
   ]
  },
  {
   "cell_type": "code",
   "execution_count": 50,
   "metadata": {
    "collapsed": true
   },
   "outputs": [],
   "source": [
    "Jac1=Jacobian_henon(xf1[1],xf1[2],a,b)\n",
    "Jac2=Jacobian_henon(xf2[1],xf2[2],a,b);"
   ]
  },
  {
   "cell_type": "code",
   "execution_count": 51,
   "metadata": {
    "collapsed": false
   },
   "outputs": [
    {
     "data": {
      "text/plain": [
       "2-element Array{Complex{Float64},1}:\n",
       " -0.549193+0.835695im\n",
       " -0.549193-0.835695im"
      ]
     },
     "execution_count": 51,
     "metadata": {},
     "output_type": "execute_result"
    }
   ],
   "source": [
    "λ1,λ2=eigvals(Jac1)"
   ]
  },
  {
   "cell_type": "code",
   "execution_count": 52,
   "metadata": {
    "collapsed": false
   },
   "outputs": [
    {
     "data": {
      "text/plain": [
       "2-element Array{Float64,1}:\n",
       " 4.89406 \n",
       " 0.204329"
      ]
     },
     "execution_count": 52,
     "metadata": {},
     "output_type": "execute_result"
    }
   ],
   "source": [
    "λ3,λ4=eigvals(Jac2)"
   ]
  },
  {
   "cell_type": "markdown",
   "metadata": {},
   "source": [
    "Aquí el primer punto fijo $\\vec{x_1^*}=(0.3922...,-0.3922...)$ nos da una matriz Jacobiana cuyos valores propios son complejos. Notemos que la norma de estos valores propios es "
   ]
  },
  {
   "cell_type": "code",
   "execution_count": 53,
   "metadata": {
    "collapsed": false
   },
   "outputs": [
    {
     "data": {
      "text/plain": [
       "1.0"
      ]
     },
     "execution_count": 53,
     "metadata": {},
     "output_type": "execute_result"
    }
   ],
   "source": [
    "abs(λ1)"
   ]
  },
  {
   "cell_type": "markdown",
   "metadata": {},
   "source": [
    "Este caso corresponde a puntos fijos que se denominan **centros estables**, y dan lugar a órbitas periódicas cerradas en el espacio fase como mostraremos más adelante. "
   ]
  },
  {
   "cell_type": "markdown",
   "metadata": {},
   "source": [
    "El segundo punto fijo correspondiente a $\\vec{x_2^*}=(-1.82085...,1.82085...)$ coresponde a un punto silla inestable ya que ambos eigenvalores son reales y satisfacen un de los criterios arriba mencionados."
   ]
  },
  {
   "cell_type": "markdown",
   "metadata": {},
   "source": [
    "Por tanto el punto fijo en el caso **conservativo**, el punto fijo\n",
    "\n",
    "$$\\vec{x}_1^*=(0.84515...,0.84515...)$$ \n",
    "\n",
    "también corresponde  a un punto silla (inestable).\n"
   ]
  },
  {
   "cell_type": "code",
   "execution_count": 54,
   "metadata": {
    "collapsed": false
   },
   "outputs": [
    {
     "data": {
      "text/plain": [
       "(4.894057231540714,0.2043294454252198)"
      ]
     },
     "execution_count": 54,
     "metadata": {},
     "output_type": "execute_result"
    }
   ],
   "source": [
    "λ1,λ2=EigenVals_JacHen(xf2[1],xf2[2],a,b)"
   ]
  },
  {
   "cell_type": "markdown",
   "metadata": {},
   "source": [
    "Por tanto el punto fijo en el caso **conservativo**, el punto fijo\n",
    "\n",
    "$$\\vec{x}_2^*=(-0.84515...,-0.84515...)$$ \n",
    "\n",
    "también corresponde  a un punto silla (inestable).\n"
   ]
  },
  {
   "cell_type": "markdown",
   "metadata": {},
   "source": [
    "Este tipo de análisis realizado para los conjuntos de parámetros $a=1.4,b=0.3,-1$ se puede realizar para cuales quiera dos pares de parámetros (a,b) siempre y cuando se satisfaga la condición de que existan puntos fijos en el plano complejo. Esta condición como se menciono anteriormente es que hay dos puntos fijos en el plano $XY$ para cuando \n",
    "\n",
    "$$a\\gt-1/4(1-b)^2$$\n",
    "\n",
    "y un solo punto fijo en el plano $XY$ si\n",
    "$$a=-1/4(1-b)^2$$. \n"
   ]
  },
  {
   "cell_type": "markdown",
   "metadata": {},
   "source": [
    "- A continuación se presenta el conjunto de Julia para $b=1.0$ y se varía $a$ de $-1$ a $3$."
   ]
  },
  {
   "cell_type": "markdown",
   "metadata": {
    "collapsed": true,
    "slideshow": {
     "slide_type": "fragment"
    }
   },
   "source": [
    "![](JS_b_p1.gif)"
   ]
  },
  {
   "cell_type": "markdown",
   "metadata": {},
   "source": [
    "Se puede observar que para que existan puntos fijos reales se debe cumplir $a>0$"
   ]
  },
  {
   "cell_type": "markdown",
   "metadata": {},
   "source": [
    "- A continuación se presenta el conjunto de Julia para $b=-1.0$ y se varía $a$ de $-2$ a $4$."
   ]
  },
  {
   "cell_type": "markdown",
   "metadata": {},
   "source": [
    "![](JS_b_m1.gif)"
   ]
  },
  {
   "cell_type": "markdown",
   "metadata": {},
   "source": [
    "Se puede observar que para que existan puntos fijos reales se debe cumplir $a>-1$"
   ]
  },
  {
   "cell_type": "markdown",
   "metadata": {
    "slideshow": {
     "slide_type": "skip"
    }
   },
   "source": [
    "# Caso disipativo"
   ]
  },
  {
   "cell_type": "markdown",
   "metadata": {},
   "source": [
    "En este caso $b\\neq|1|$. Se escogen los parámetros $a=1.4,b=0.3$"
   ]
  },
  {
   "cell_type": "code",
   "execution_count": 55,
   "metadata": {
    "collapsed": true
   },
   "outputs": [],
   "source": [
    "a=1.4\n",
    "b=0.3\n",
    "xf1,xf2=Fixed_points(a,b);"
   ]
  },
  {
   "cell_type": "code",
   "execution_count": 56,
   "metadata": {
    "collapsed": false
   },
   "outputs": [
    {
     "data": {
      "text/plain": [
       "(0.6313544770895047,0.1894063431268514)"
      ]
     },
     "execution_count": 56,
     "metadata": {},
     "output_type": "execute_result"
    }
   ],
   "source": [
    "xf1"
   ]
  },
  {
   "cell_type": "code",
   "execution_count": 57,
   "metadata": {
    "collapsed": false
   },
   "outputs": [
    {
     "data": {
      "text/plain": [
       "(-1.1313544770895048,-0.3394063431268514)"
      ]
     },
     "execution_count": 57,
     "metadata": {},
     "output_type": "execute_result"
    }
   ],
   "source": [
    "xf2"
   ]
  },
  {
   "cell_type": "code",
   "execution_count": 58,
   "metadata": {
    "collapsed": false
   },
   "outputs": [
    {
     "data": {
      "text/plain": [
       "(0.15594632230279393,-1.9237388581534067)"
      ]
     },
     "execution_count": 58,
     "metadata": {},
     "output_type": "execute_result"
    }
   ],
   "source": [
    "λ1,λ2=EigenVals_JacHen(xf1[1],xf1[2],a,b)"
   ]
  },
  {
   "cell_type": "markdown",
   "metadata": {},
   "source": [
    "Por tanto vemos que el punto fijo \n",
    "\n",
    "$$\\vec{x^*_1}=(0.63135...,0.18940...)$$ \n",
    "\n",
    "es un punto fijo silla, que son puntos inestables."
   ]
  },
  {
   "cell_type": "markdown",
   "metadata": {},
   "source": [
    "Para el segundo punto fijo se tiene que los eigenvalores estan dados por:"
   ]
  },
  {
   "cell_type": "code",
   "execution_count": 59,
   "metadata": {
    "collapsed": false
   },
   "outputs": [
    {
     "data": {
      "text/plain": [
       "(3.259822097891452,-0.09202956204083912)"
      ]
     },
     "execution_count": 59,
     "metadata": {},
     "output_type": "execute_result"
    }
   ],
   "source": [
    "λ3,λ4=EigenVals_JacHen(xf2[1],xf2[2],a,b)"
   ]
  },
  {
   "cell_type": "markdown",
   "metadata": {},
   "source": [
    "Por tanto vemos que eel segundo punto fijo correspondiente a \n",
    "\n",
    "$$\\vec{x^*_2}=(-1.13135...,-0.33940...)$$\n",
    "\n",
    "también corresponde a un punto fijo silla (inestable)."
   ]
  },
  {
   "cell_type": "markdown",
   "metadata": {
    "slideshow": {
     "slide_type": "skip"
    }
   },
   "source": [
    "A continuación se presenta el conjunto de Julia para $b=0.3$ y se varía $a$ de $-0.4$ a $3$."
   ]
  },
  {
   "cell_type": "markdown",
   "metadata": {},
   "source": [
    "![](JS_b_03.gif)"
   ]
  },
  {
   "cell_type": "markdown",
   "metadata": {
    "slideshow": {
     "slide_type": "skip"
    }
   },
   "source": []
  },
  {
   "cell_type": "code",
   "execution_count": null,
   "metadata": {
    "collapsed": true
   },
   "outputs": [],
   "source": []
  },
  {
   "cell_type": "code",
   "execution_count": null,
   "metadata": {
    "collapsed": true
   },
   "outputs": [],
   "source": []
  },
  {
   "cell_type": "code",
   "execution_count": null,
   "metadata": {
    "collapsed": true
   },
   "outputs": [],
   "source": []
  },
  {
   "cell_type": "markdown",
   "metadata": {},
   "source": [
    "# Referencias"
   ]
  },
  {
   "cell_type": "markdown",
   "metadata": {},
   "source": [
    "Hénon,M. (1976). A Two-dimensional Mapping with a Strange Attractor. Communications in Mathematical Physics, 50, 69-77.  "
   ]
  },
  {
   "cell_type": "code",
   "execution_count": null,
   "metadata": {
    "collapsed": true
   },
   "outputs": [],
   "source": []
  },
  {
   "cell_type": "code",
   "execution_count": null,
   "metadata": {
    "collapsed": true
   },
   "outputs": [],
   "source": []
  },
  {
   "cell_type": "code",
   "execution_count": null,
   "metadata": {
    "collapsed": true
   },
   "outputs": [],
   "source": []
  }
 ],
 "metadata": {
  "kernelspec": {
   "display_name": "Julia 0.5.0",
   "language": "julia",
   "name": "julia-0.5"
  },
  "language_info": {
   "file_extension": ".jl",
   "mimetype": "application/julia",
   "name": "julia",
   "version": "0.5.0"
  }
 },
 "nbformat": 4,
 "nbformat_minor": 1
}
