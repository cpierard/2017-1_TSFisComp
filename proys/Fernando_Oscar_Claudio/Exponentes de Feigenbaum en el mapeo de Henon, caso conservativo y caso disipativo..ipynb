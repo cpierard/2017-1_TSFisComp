{
 "cells": [
  {
   "cell_type": "markdown",
   "metadata": {},
   "source": [
    "# Mapeo de Hénon"
   ]
  },
  {
   "cell_type": "markdown",
   "metadata": {},
   "source": [
    "- Hénon propuso, en 1976, un mapeo en 2D sencillo que exhibiera las propiedades esenciales del sistema de ecuaciones de primer orden acopladas propuestas por Lorentz, con el objetivo de poder estudiar de forma sencilla dichas propiedades.\n",
    "\n",
    "- El mapeo imita una sección de Poincaré del atractor de Lorentz.\n",
    "\n",
    "- El mapeo propuesto es el siguiente \n",
    "\n",
    "\\begin{equation}\n",
    "\\begin{split}\n",
    "    T:\\,&x_{i+1}=y_{i+1}-ax_{i}^{2}\\\\\n",
    "    &y_{i+1}=bx_{i}\n",
    "\\end{split}\n",
    "\\end{equation}\n",
    "\n",
    "\n",
    "- Dicho mapeo se puede descomponer en tres etapas, i.e., $T\\,=\\,T'''T''T$.\n",
    "\n",
    "\n",
    "- La primera etapa consiste en un doblamiento:\n",
    "\n",
    "\\begin{equation}\n",
    "\\begin{split}\n",
    "    T':\\,&x'=x\\\\\n",
    "    &y'=y+1-ax^{2}\n",
    "\\end{split}\n",
    "\\end{equation}\n",
    "\n",
    "\n",
    "- La segunda etapa consiste en una contracción en $x$:\n",
    "\n",
    "\\begin{equation}\n",
    "\\begin{split}\n",
    "    T'':\\,&x''=bx'\\\\\n",
    "    &y''=y\n",
    "\\end{split}\n",
    "\\end{equation}\n",
    "\n",
    "\n",
    "- La tercera etapa consiste en un reorientación en el eje x:\n",
    "\n",
    "\\begin{equation}\n",
    "\\begin{split}\n",
    "    T''':\\,&x'''=y''\\\\\n",
    "    &y'''=x''\n",
    "\\end{split}\n",
    "\\end{equation}\n",
    "\n",
    "\n",
    "- Es un mapeo con Jacobiano constante:\n",
    "\n",
    "\\begin{equation}\n",
    "    \\frac{\\partial (x_{i+1},y_{i+1})}{\\partial (x_{i},y_{i})}=-b\n",
    "\\end{equation}\n",
    "\n",
    "\n",
    "\n",
    "- Tiene dos puntos invariantes\n",
    "\n",
    "\\begin{equation}\n",
    "\\begin{split}\n",
    "    &x=\\frac{-(1-b)\\pm\\sqrt{(1-b)^{2}+4a}}{2a}\\\\\n",
    "    &y=bx\n",
    "\\end{split}\n",
    "\\end{equation}\n",
    "\n",
    "\n",
    "\n",
    "- Dichos puntos son reales para $a>a_{0}=-\\frac{1}{4}(1-b)^{2}$. En este caso, un punto es siempre linealmente inestable, mientras que el otro es inestable para $a>a_{1}=\\frac{3}{4}(1-b)^{2}$.\n",
    "\n"
   ]
  },
  {
   "cell_type": "markdown",
   "metadata": {},
   "source": []
  }
 ],
 "metadata": {
  "kernelspec": {
   "display_name": "Julia 0.5.0",
   "language": "julia",
   "name": "julia-0.5"
  },
  "language_info": {
   "file_extension": ".jl",
   "mimetype": "application/julia",
   "name": "julia",
   "version": "0.5.0"
  }
 },
 "nbformat": 4,
 "nbformat_minor": 1
}
