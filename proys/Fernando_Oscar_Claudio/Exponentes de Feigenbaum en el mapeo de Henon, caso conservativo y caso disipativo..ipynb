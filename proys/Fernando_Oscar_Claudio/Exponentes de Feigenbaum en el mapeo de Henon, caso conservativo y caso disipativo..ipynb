{
 "cells": [
  {
   "cell_type": "markdown",
   "metadata": {
    "slideshow": {
     "slide_type": "slide"
    }
   },
   "source": [
    "# Mapeo de Hénon"
   ]
  },
  {
   "cell_type": "markdown",
   "metadata": {
    "slideshow": {
     "slide_type": "slide"
    }
   },
   "source": [
    "- Hénon propuso, en 1976, un mapeo en 2D sencillo que exhibiera las propiedades esenciales del sistema de ecuaciones de primer orden acopladas propuestas por Lorentz, con el objetivo de poder estudiar de forma sencilla dichas propiedades.\n",
    "\n",
    "- El mapeo imita una sección de Poincaré del atractor de Lorentz.\n",
    "\n",
    "- El mapeo propuesto es el siguiente \n",
    "\n",
    "\\begin{equation}\n",
    "\\begin{split}\n",
    "    T:\\,&x_{i+1}=y_{i+1}-ax_{i}^{2}\\\\\n",
    "    &y_{i+1}=bx_{i}\n",
    "\\end{split}\n",
    "\\end{equation}\n",
    "\n",
    "\n",
    "\n"
   ]
  },
  {
   "cell_type": "markdown",
   "metadata": {
    "slideshow": {
     "slide_type": "slide"
    }
   },
   "source": [
    "- Dicho mapeo se puede descomponer en tres etapas, i.e., $T\\,=\\,T'''T''T$. Si se toma como condición inicial una elipse:\n"
   ]
  },
  {
   "cell_type": "markdown",
   "metadata": {
    "slideshow": {
     "slide_type": "fragment"
    }
   },
   "source": [
    "![](doblamiento_T1.png)"
   ]
  },
  {
   "cell_type": "markdown",
   "metadata": {
    "slideshow": {
     "slide_type": "slide"
    }
   },
   "source": [
    "- La primera etapa consiste en un doblamiento:\n",
    "\n",
    "\\begin{equation}\n",
    "\\begin{split}\n",
    "    T':\\,&x'=x\\\\\n",
    "    &y'=y+1-ax^{2}\n",
    "\\end{split}\n",
    "\\end{equation}"
   ]
  },
  {
   "cell_type": "markdown",
   "metadata": {
    "slideshow": {
     "slide_type": "fragment"
    }
   },
   "source": [
    "![](doblamiento_T2.png)"
   ]
  },
  {
   "cell_type": "markdown",
   "metadata": {
    "slideshow": {
     "slide_type": "slide"
    }
   },
   "source": [
    "- La segunda etapa consiste en una contracción en $x$:\n",
    "\n",
    "\\begin{equation}\n",
    "\\begin{split}\n",
    "    T'':\\,&x''=bx'\\\\\n",
    "    &y''=y\n",
    "\\end{split}\n",
    "\\end{equation}\n"
   ]
  },
  {
   "cell_type": "markdown",
   "metadata": {
    "slideshow": {
     "slide_type": "fragment"
    }
   },
   "source": [
    "![](doblamiento_T3.png)"
   ]
  },
  {
   "cell_type": "markdown",
   "metadata": {
    "slideshow": {
     "slide_type": "slide"
    }
   },
   "source": [
    "- La tercera etapa consiste en un reorientación en el eje x:\n",
    "\n",
    "\\begin{equation}\n",
    "\\begin{split}\n",
    "    T''':\\,&x'''=y''\\\\\n",
    "    &y'''=x''\n",
    "\\end{split}\n",
    "\\end{equation}"
   ]
  },
  {
   "cell_type": "markdown",
   "metadata": {
    "slideshow": {
     "slide_type": "fragment"
    }
   },
   "source": [
    "![](doblamiento_T4.png)"
   ]
  },
  {
   "cell_type": "markdown",
   "metadata": {
    "slideshow": {
     "slide_type": "slide"
    }
   },
   "source": [
    "- Es un mapeo con Jacobiano constante:\n",
    "\n",
    "\\begin{equation}\n",
    "    \\frac{\\partial (x_{i+1},y_{i+1})}{\\partial (x_{i},y_{i})}=-b\n",
    "\\end{equation}\n",
    "\n",
    "\n",
    "\n",
    "- Tiene dos puntos invariantes\n",
    "\n",
    "\\begin{equation}\n",
    "\\begin{split}\n",
    "    &x=\\frac{-(1-b)\\pm\\sqrt{(1-b)^{2}+4a}}{2a}\\\\\n",
    "    &y=bx\n",
    "\\end{split}\n",
    "\\end{equation}\n",
    "\n",
    "\n",
    "\n",
    "- Dichos puntos son reales para \n",
    "\\begin{equation}\n",
    "a>a_{0}=-\\frac{1}{4}(1-b)^{2}.\n",
    "\\end{equation}\n"
   ]
  },
  {
   "cell_type": "markdown",
   "metadata": {
    "slideshow": {
     "slide_type": "slide"
    }
   },
   "source": [
    "En este caso, un punto es siempre linealmente inestable, mientras que el otro es inestable para \n",
    "\n",
    "\\begin{equation}\n",
    "a>a_{1}=\\frac{3}{4}(1-b)^{2}.\n",
    "\\end{equation}"
   ]
  },
  {
   "cell_type": "code",
   "execution_count": 15,
   "metadata": {
    "collapsed": false
   },
   "outputs": [
    {
     "data": {
      "text/plain": [
       "Plots.PyPlotBackend()"
      ]
     },
     "execution_count": 15,
     "metadata": {},
     "output_type": "execute_result"
    }
   ],
   "source": [
    "using Plots, LaTeXStrings\n",
    "pyplot(markerstrokecolor=false)"
   ]
  },
  {
   "cell_type": "code",
   "execution_count": 12,
   "metadata": {
    "collapsed": false
   },
   "outputs": [
    {
     "data": {
      "text/plain": [
       "Henon (generic function with 1 method)"
      ]
     },
     "execution_count": 12,
     "metadata": {},
     "output_type": "execute_result"
    }
   ],
   "source": [
    "function Henon(x, y, a, b)\n",
    "    \n",
    "    1 - a*x^2 + y , b*x\n",
    "    \n",
    "end "
   ]
  },
  {
   "cell_type": "markdown",
   "metadata": {},
   "source": [
    "# Áreas"
   ]
  },
  {
   "cell_type": "markdown",
   "metadata": {},
   "source": [
    "Para determinar para cuales constantes el mapeo es conservativo y disipativo, se implentó un algoritmo, que usa el método de Monte Carlo para medir áreas de una figura, en este caso la figura consiste de un círculo unitario que está dado por la parametrización:\n",
    "\n",
    "$$ \\sigma(t) = (cos t, sin t), \\qquad t \\in [0, 2 \\pi].$$\n",
    "\n",
    "Para medir el área de la figura después de iterarlo una vez con el mapeo de Hénon, se hace la compoción del mapeo de con la parametrización, por ejemplo, para la primera iteración se tiene:\n",
    "\n",
    "$$H \\circ \\sigma = (1 - acos^2t + y , \\ bsint),$$\n",
    "\n",
    "de esta forma se parametriza la figura que resulta de iterar una vez el círculo unitario con el mapeo de Hénon. Si se vuelve a iterar lo anterior con el mapeo de Hénon, se obtine la parametrización de la figura que resulta de iterar dos veces el círculo unitario. Así se puede obtener figuras cerradas a las que se les puede medir el área. \n",
    "\n",
    "El método con el que se midieron las áreas consiste en los siguientes pasos:\n",
    "- Poner la figura en un cuadrado que la contenga totalmente. El área del cuadrado se puede calcular fácilmente.\n",
    "- Arrojar un número $N$ de puntos en el cuadrado.\n",
    "- Contar la cantidad de puntos que caen dentro de la figura.\n",
    "- El área de la figura va a estar dada por la siguiente relación:\n",
    "\n",
    "$$A_{figura} = A_{cuadrado}\\frac{a_{in}}{N},$$\n",
    "\n",
    "    donde $a_in$ es el número de puntos que cae dentro de la figura, y $N$ es el total de puntos.\n",
    "\n",
    "Se usó el método [\"Inside Outside\"](http://commons.bcit.ca/math/entertainment/inout/index.html), implementado en la función `in_or_out`, para determinar si un punto está dentro o fuera de una figua irregular. A continuación se declaran las funciones ocupadas para medir el área."
   ]
  },
  {
   "cell_type": "code",
   "execution_count": 1,
   "metadata": {
    "collapsed": false
   },
   "outputs": [
    {
     "data": {
      "text/plain": [
       "in_or_out"
      ]
     },
     "execution_count": 1,
     "metadata": {},
     "output_type": "execute_result"
    }
   ],
   "source": [
    "\"\"\"\n",
    "    in_or_out(para, x, y)\n",
    "\n",
    "Función que evalúa si un punto dado por `x` y `y` está dentro de una figura dada por una parametrización\n",
    "en forma de un array `para` creado usando la función `condiones_iniciales_2D`.\n",
    "\n",
    "\"\"\"\n",
    "\n",
    "function in_or_out(para, x, y)\n",
    "    \n",
    "    crossings = 0\n",
    "    \n",
    "    for i in 1:length(para[1,:])-1\n",
    "        \n",
    "        if x < para[1, i] && x < para[1, i+1] || x > para[1, i] && x > para[1, i+1]\n",
    "            \n",
    "            nothing\n",
    "            \n",
    "        elseif y > para[2,i] && y > para[2, i+1]\n",
    "            \n",
    "            nothing\n",
    "    \n",
    "        elseif y < para[2,i] && y < para[2, i+1]\n",
    "            \n",
    "            if x < para[1, i] && x > para[1, i+1] || x > para[1, i] && x < para[1, i+1]\n",
    "                \n",
    "                crossings += 1\n",
    "                \n",
    "            end\n",
    "            \n",
    "        elseif y > para[2, i] && y < para[2, i+1]\n",
    "            \n",
    "            if x > para[1, i] && x < para[1, i+1]\n",
    "                \n",
    "                y_c = para[2,i] + (para[2, i+1] - para[2, i])*(x - para[1, i])/(para[1, i+1] - para[1, i])\n",
    "                \n",
    "                if y_c > y\n",
    "                    \n",
    "                    crossings += 1\n",
    "                    \n",
    "                end\n",
    "                \n",
    "            end\n",
    "            \n",
    "        elseif y < para[2, i] && y > para[2, i+1]\n",
    "            \n",
    "            if x < para[1, i] && x > para[1, i+1]\n",
    "                \n",
    "                y_c = para[2, i+1] + (para[2, i] - para[2, i+1])*(x - para[1, i+1])/(para[1, i] - para[1, i+1])\n",
    "\n",
    "                if y_c > y\n",
    "\n",
    "                    crossings += 1\n",
    "\n",
    "                end\n",
    "\n",
    "            end\n",
    "            \n",
    "        end\n",
    "        \n",
    "    end\n",
    "    \n",
    "    if iseven(crossings)\n",
    "        \n",
    "        return false\n",
    "        \n",
    "    elseif isodd(crossings)\n",
    "        \n",
    "        return true\n",
    "        \n",
    "    end\n",
    "    \n",
    "end"
   ]
  },
  {
   "cell_type": "code",
   "execution_count": 7,
   "metadata": {
    "collapsed": false
   },
   "outputs": [
    {
     "data": {
      "text/plain": [
       "condiones_iniciales_2D"
      ]
     },
     "execution_count": 7,
     "metadata": {},
     "output_type": "execute_result"
    }
   ],
   "source": [
    "\"\"\"\n",
    "    condiones_iniciales_2D(f::Function, t_range, a, b)\n",
    "\n",
    "Función que guarda en un array de de 2×n una parametrización `f` para un rango `t_range`.\n",
    "Los parámetros `a` y `b` sirven para parametrizaciones que requieran del mapeo de Hénon.\n",
    "\n",
    "\"\"\"\n",
    "\n",
    "function condiones_iniciales_2D(f::Function, t_range, a, b)\n",
    "    CI = zeros(2, length(t_range))\n",
    "    \n",
    "    for i in 1:length(t_range)\n",
    "        \n",
    "        CI[1, i] = f(t_range[i], a, b)[1]\n",
    "        CI[2, i] = f(t_range[i], a, b)[2]\n",
    "        \n",
    "    end\n",
    "    \n",
    "    CI\n",
    "    \n",
    "end"
   ]
  },
  {
   "cell_type": "code",
   "execution_count": 8,
   "metadata": {
    "collapsed": false
   },
   "outputs": [
    {
     "data": {
      "text/plain": [
       "iterator"
      ]
     },
     "execution_count": 8,
     "metadata": {},
     "output_type": "execute_result"
    }
   ],
   "source": [
    "\"\"\"\n",
    "    iterator(f::Function, X0, a, b, N)\n",
    "\n",
    "Itera un array `X0` usando un mapeo `f`, un número `N` de veces. `a` y `b` son parámetros del mapeo\n",
    "Hénon.\n",
    "\n",
    "\"\"\"\n",
    "\n",
    "\n",
    "function iterator(f::Function, X0, a, b, N)\n",
    "    \n",
    "    aux = copy(X0)\n",
    "    orbit = zeros(size(aux))\n",
    "    \n",
    "    for j in 1:N\n",
    "        \n",
    "        for i in 1:length(aux[1, :])\n",
    "\n",
    "            orbit[1, i] = f(aux[1, i], aux[2, i], a, b)[1]\n",
    "            orbit[2, i] = f(aux[1, i], aux[2, i], a, b)[2]\n",
    "\n",
    "        end\n",
    "        \n",
    "        aux = copy(orbit)\n",
    " \n",
    "    end\n",
    "    \n",
    "    orbit\n",
    "    \n",
    "end "
   ]
  },
  {
   "cell_type": "code",
   "execution_count": 2,
   "metadata": {
    "collapsed": false
   },
   "outputs": [
    {
     "data": {
      "text/plain": [
       "invert_ceil"
      ]
     },
     "execution_count": 2,
     "metadata": {},
     "output_type": "execute_result"
    }
   ],
   "source": [
    "\"\"\"\n",
    "    invert_ceil(x)\n",
    "\n",
    "Es una función que redondea hacia arriba un número positivo `x`, o si el número es negativo, lo redondea\n",
    "hacia abajo.\n",
    "\"\"\"\n",
    "\n",
    "function invert_ceil(x)\n",
    "    \n",
    "    if x < 0 \n",
    "        \n",
    "        x = -ceil(abs(x))\n",
    "        \n",
    "    else\n",
    "        \n",
    "        x = ceil(x)\n",
    "        \n",
    "    end\n",
    "    \n",
    "    x\n",
    "    \n",
    "end"
   ]
  },
  {
   "cell_type": "code",
   "execution_count": 6,
   "metadata": {
    "collapsed": false
   },
   "outputs": [
    {
     "data": {
      "text/plain": [
       "randinterval"
      ]
     },
     "execution_count": 6,
     "metadata": {},
     "output_type": "execute_result"
    }
   ],
   "source": [
    "\"\"\"\n",
    "    randinterval(n, min, max)\n",
    "\n",
    "La función da un arreglo con `n` números que son aleatorios en un intervalo definido por `min` y `max`.\n",
    "\"\"\"\n",
    "\n",
    "function randinterval(n, min, max)\n",
    "    \n",
    "    rand(n) * (max - min) + min\n",
    "    \n",
    "end"
   ]
  },
  {
   "cell_type": "code",
   "execution_count": 3,
   "metadata": {
    "collapsed": false
   },
   "outputs": [
    {
     "data": {
      "text/plain": [
       "enclosing_square"
      ]
     },
     "execution_count": 3,
     "metadata": {},
     "output_type": "execute_result"
    }
   ],
   "source": [
    "\"\"\"\n",
    "    enclosing_square(Param_array)\n",
    "\n",
    "Es una función que dada una parametrización en forma de array `Param_array` que define una figura, \n",
    "calcula las coordenadas de un cuadrado que encierra completamente a esa figura.\n",
    "\n",
    "\"\"\"\n",
    "\n",
    "function enclosing_square(Param_array)\n",
    "    \n",
    "    x_min = invert_ceil(min(Param_array[1,:]...))\n",
    "    x_max = invert_ceil(max(Param_array[1,:]...))\n",
    "    y_min = invert_ceil(min(Param_array[2,:]...) )\n",
    "    y_max = invert_ceil(max(Param_array[2,:]...))\n",
    "    \n",
    "    return (x_min, x_max), (y_min, y_max)\n",
    "    \n",
    "end"
   ]
  },
  {
   "cell_type": "code",
   "execution_count": 4,
   "metadata": {
    "collapsed": false
   },
   "outputs": [
    {
     "data": {
      "text/plain": [
       "itera_parametrizacion_henon"
      ]
     },
     "execution_count": 4,
     "metadata": {},
     "output_type": "execute_result"
    }
   ],
   "source": [
    "\"\"\"\n",
    "    itera_parametrizacion_henon(n)\n",
    "\n",
    "Es una función que declara funciones anónimas que son la composición de la parametrización del círculo\n",
    "unitario con el mapeo de Hénon. El parámetro `n` es el número de composiciones con el mapeo de Hénon.\n",
    "\n",
    "\"\"\"\n",
    "\n",
    "function itera_parametrizacion_henon(n)\n",
    "    \n",
    "    #1 - a*x^2 + y , b*x\n",
    "    \n",
    "    x = \"cos(t)\"\n",
    "    y = \"sin(t)\"\n",
    "\n",
    "    for i in 1:n\n",
    "\n",
    "        xi = \"1 - a*($x)^2 + ($y)\"\n",
    "        yi = \"b*($x)\"\n",
    "        x = xi\n",
    "        y = yi\n",
    "\n",
    "    end\n",
    "\n",
    "    ex = parse(x*\" , \"*y)\n",
    "    ex_ret = :( (t, a, b) -> $ex )\n",
    "    eval(ex_ret)\n",
    "end  "
   ]
  },
  {
   "cell_type": "code",
   "execution_count": 5,
   "metadata": {
    "collapsed": false
   },
   "outputs": [
    {
     "data": {
      "text/plain": [
       "(-0.7408864000000001,0.32280000000000003)"
      ]
     },
     "execution_count": 5,
     "metadata": {},
     "output_type": "execute_result"
    }
   ],
   "source": [
    "itera_parametrizacion_henon(3)(0, 1.4, 0.3)"
   ]
  },
  {
   "cell_type": "code",
   "execution_count": 20,
   "metadata": {
    "collapsed": false
   },
   "outputs": [
    {
     "data": {
      "text/plain": [
       "find_area"
      ]
     },
     "execution_count": 20,
     "metadata": {},
     "output_type": "execute_result"
    }
   ],
   "source": [
    "\"\"\"\n",
    "    find_area(Σ::Function, t_range, N, a, b)\n",
    "\n",
    "Función que calcula el área de una figura dada por una parametrización Σ, usando el método de \n",
    "Monte Carlo para calcular áreas. El rango `t_range`es el rango donde está definida la \n",
    "parametrizacion Σ, `N` es el número de puntos que se van a arrrojar para medir el área y los \n",
    "parámetros `a` y `b` son para las parametrizaciones de figuras que surgen de iterar el mapeo \n",
    "de Hénon. Para que funcione Σ debe tomar por argumentos Σ(t, a, b), aunque a y b no se \n",
    "requieran para la parametrización.\n",
    "\n",
    "\n",
    "\"\"\"\n",
    "function find_area(Σ::Function, t_range, N, a, b)\n",
    "    \n",
    "    parametrization = condiones_iniciales_2D(Σ, t_range, a, b)\n",
    "    x_limites, y_limites = enclosing_square(parametrization)\n",
    "    inside = 0\n",
    "    total = N\n",
    "    area = (x_limites[end] - x_limites[1]) * (y_limites[end] - y_limites[1])\n",
    "    \n",
    "    for i in 1:N\n",
    "        \n",
    "        x = randinterval(1, x_limites[1], x_limites[end])[1]\n",
    "        y = randinterval(1, y_limites[1], y_limites[end])[1]\n",
    "        \n",
    "        if in_or_out(parametrization, x, y)\n",
    "            \n",
    "            inside += 1\n",
    "            \n",
    "        end\n",
    "    end\n",
    "\n",
    "    area * inside / total\n",
    "    \n",
    "end"
   ]
  },
  {
   "cell_type": "code",
   "execution_count": 24,
   "metadata": {
    "collapsed": false
   },
   "outputs": [
    {
     "data": {
      "text/plain": [
       "0.0:0.01:6.28"
      ]
     },
     "execution_count": 24,
     "metadata": {},
     "output_type": "execute_result"
    }
   ],
   "source": [
    "t_rango = 0:0.01:2π"
   ]
  },
  {
   "cell_type": "code",
   "execution_count": 25,
   "metadata": {
    "collapsed": false
   },
   "outputs": [
    {
     "name": "stderr",
     "output_type": "stream",
     "text": [
      "WARNING: Method definition σ(Any, Any, Any) in module Main at In[10]:1 overwritten at In[25]:1.\n"
     ]
    },
    {
     "data": {
      "text/plain": [
       "σ (generic function with 1 method)"
      ]
     },
     "execution_count": 25,
     "metadata": {},
     "output_type": "execute_result"
    }
   ],
   "source": [
    "σ(t, a, b) = (cos(t), sin(t)) #parametrización del círculo."
   ]
  },
  {
   "cell_type": "code",
   "execution_count": 28,
   "metadata": {
    "collapsed": false
   },
   "outputs": [
    {
     "name": "stdout",
     "output_type": "stream",
     "text": [
      "  5.879960 seconds (8.01 M allocations: 5.379 GB, 34.33% gc time)\n"
     ]
    },
    {
     "data": {
      "text/plain": [
       "3.143464"
      ]
     },
     "execution_count": 28,
     "metadata": {},
     "output_type": "execute_result"
    }
   ],
   "source": [
    "@time find_area(σ, t_rango, 1000000, 1.4, -1) #Área del círculo con 1 millon de puntos, param. 1.4 y -1 son irrelevantes"
   ]
  },
  {
   "cell_type": "markdown",
   "metadata": {},
   "source": [
    "Ya que el Jacobiano es la constante $-b$, y este nos indica si hay una contracción o expansión del área, dependiendo del parámetro $b$. Por tanto para $b = 1$ y $b = -1$, se espera que no haya contracción, y el área se mantenga constante."
   ]
  },
  {
   "cell_type": "markdown",
   "metadata": {},
   "source": [
    "- ### Área para $b = 1$, $a=-1.4$."
   ]
  },
  {
   "cell_type": "markdown",
   "metadata": {},
   "source": [
    "En la siguiente gráfica se muestran el círculo unitario y las iteraciones del circulo. Se sabe que el área del círculo es $\\pi r^2$, por tanto se espera que para este caso el área para todos los iterados sea de $\\pi$."
   ]
  },
  {
   "cell_type": "code",
   "execution_count": 56,
   "metadata": {
    "collapsed": false
   },
   "outputs": [
    {
     "data": {
      "text/plain": [
       "2×6284 Array{Float64,2}:\n",
       " -3.81585  -3.82041  -3.82498  -3.82954  …  -3.80585  -3.81043  -3.815  \n",
       "  1.776     1.77712   1.77824   1.77936      1.77355   1.77467   1.77579"
      ]
     },
     "execution_count": 56,
     "metadata": {},
     "output_type": "execute_result"
    }
   ],
   "source": [
    "t_rango = 0:0.001:2π\n",
    "CI1_1 = condiones_iniciales_2D(σ, t_rango, 1.4, 1, )\n",
    "CI1_2 = iterator(Henon, CI1_1, 1.4, 1, 1)\n",
    "CI1_3 = iterator(Henon, CI1_2, 1.4, 1, 1)\n",
    "CI1_4 = iterator(Henon, CI1_3, 1.4, 1, 1)"
   ]
  },
  {
   "cell_type": "code",
   "execution_count": 57,
   "metadata": {
    "collapsed": false
   },
   "outputs": [
    {
     "data": {
      "text/html": [
       "<img src=\"data:image/png;base64,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\" />"
      ]
     },
     "execution_count": 57,
     "metadata": {},
     "output_type": "execute_result"
    }
   ],
   "source": [
    "scatter(CI1_2[1,:], CI1_2[2,:], markersize=(1), markercolor=:green, label=(\"Cond. Iniciales\"))\n",
    "scatter!(CI1_1[1,:], CI1_1[2,:], markersize=(1), markercolor=:blue, label=(\"Primer iterado\"))\n",
    "scatter!(CI1_3[1,:], CI1_3[2,:], markersize=(1), markercolor=:orange, label=(\"Segundo iterado\"))\n",
    "#scatter!(CI1_4[1,:], CI1_4[2,:], markersize=(1), markercolor=:red, label=(\"Segundo iterado\"))\n",
    "xlabel!(L\"x\")\n",
    "ylabel!(L\"y\")\n",
    "title!(L\"Mapeo de Hénon $a = 1.4$, $b=1$\")"
   ]
  },
  {
   "cell_type": "markdown",
   "metadata": {},
   "source": [
    "Usando la función `find_area` se calcula las áreas de los primeros tres iterados."
   ]
  },
  {
   "cell_type": "code",
   "execution_count": 37,
   "metadata": {
    "collapsed": false
   },
   "outputs": [
    {
     "data": {
      "text/plain": [
       "4-element Array{Float64,1}:\n",
       " 3.14137\n",
       " 3.13829\n",
       " 3.11968\n",
       " 3.16344"
      ]
     },
     "execution_count": 37,
     "metadata": {},
     "output_type": "execute_result"
    }
   ],
   "source": [
    "areas_b_1 = Float64[]\n",
    "\n",
    "for i in 0:3\n",
    "    \n",
    "    a = find_area(itera_parametrizacion_henon(i), t_rango, 1000000, 1.4, 1)\n",
    "    push!(areas_b_1, a)\n",
    "    \n",
    "end\n",
    "\n",
    "areas_b_1"
   ]
  },
  {
   "cell_type": "markdown",
   "metadata": {},
   "source": [
    "| Parametrización       | Área           |\n",
    "| ------------ |:-------------:| \n",
    "| Círculo      | 3.14137 | \n",
    "| 1º iterado      | 3.13829     |  \n",
    "| 2º iterado | 3.11968  |  \n",
    "| 3º iterado | 3.16344 |\n",
    "\n",
    "\n",
    "Para obtener la anterior gráfica se usaron un millón de puntos para el método de Monte Carlo. Se observa que hasta el tercer iterado el área se mantiene cercana al valor de $\\pi$. Por tanto para $b = 1$, el mapeo de Hénon es conservativo."
   ]
  },
  {
   "cell_type": "markdown",
   "metadata": {},
   "source": [
    "- ### Área para $b = -1$, $a=-1.4$."
   ]
  },
  {
   "cell_type": "markdown",
   "metadata": {},
   "source": [
    "En este se espera que mantenga constante el área del círculo conforme se vaya iterando con el mapeo de Hénon. La siguiente gráfica muestra el círculo y sus iteraciones. Si se compara con la grafica anterior con $b = 1$, se observa que la orientación de las deformaciones están invertidas."
   ]
  },
  {
   "cell_type": "code",
   "execution_count": 54,
   "metadata": {
    "collapsed": false
   },
   "outputs": [
    {
     "data": {
      "text/plain": [
       "2×6284 Array{Float64,2}:\n",
       " 1.32975  1.32945   1.32915   1.32884   …  1.33039   1.3301    1.32981 \n",
       " 0.224    0.222879  0.221757  0.220634     0.226444  0.225327  0.224208"
      ]
     },
     "execution_count": 54,
     "metadata": {},
     "output_type": "execute_result"
    }
   ],
   "source": [
    "t_rango = 0:0.001:2π\n",
    "CI_1_1 = condiones_iniciales_2D(σ, t_rango, 1.4, -1)\n",
    "CI_1_2 = iterator(Henon, CI_1_1, 1.4, -1, 1)\n",
    "CI_1_3 = iterator(Henon, CI_1_2, 1.4, -1, 1)\n",
    "CI_1_4 = iterator(Henon, CI_1_3, 1.4, -1, 1)"
   ]
  },
  {
   "cell_type": "code",
   "execution_count": 55,
   "metadata": {
    "collapsed": false
   },
   "outputs": [
    {
     "data": {
      "text/html": [
       "<img src=\"data:image/png;base64,iVBORw0KGgoAAAANSUhEUgAAAlgAAAGQCAYAAAByNR6YAAAABHNCSVQICAgIfAhkiAAAAAlwSFlzAAAPYQAAD2EBqD+naQAAIABJREFUeJzs3Xd4FNX6wPHvbAoJIaF3pEMoqYReg3SFXASUolcIRUQEFCkKKqCCKCDXKxZUCP6kyaVJR0QpoQohgFJCB0loQgIkpM/vj9ndJKSQhN2dTXg/z5NnZmfOznl3s5N9c+bMOYqqqipCCCGEEMJiDHoHIIQQQghR2EiCJYQQQghhYZJgCSGEEEJYmCRYQgghhBAWJgmWEEIIIYSFSYIlhLBLCQkJNGnShMqVK3PlyhW9wxFCiDyRBEuIJ8jFixcxGAwEBwfrHcojvfHGG5w9e5YtW7bw1FNP6R2OEELkiSRYokAyJQoGg4GKFSuSkpKSZbmTJ0+ay9WoUcPGUdovRVEsfkzT76Rbt27ZltmxYwcGg4ERI0bkeKzFixcTEhLCmjVr8Pb2tnSoT5yLFy/Sp0+fxzpGr1692L9//2MdY9euXbRo0QKDwcDIkSMf61i2Zon3UDxZJMESBZqjoyPXr19n06ZNWe5fsGCBOcGyRlIhMsvN+5xTGVVVuX79OuvWrSMwMNCCkT2Ztm3bRrt27bh9+3a+j7Fp0ybWrl1LYmLiY8XStm1bfvnlFxRFoVWrVo91LFuyxHsonjySYIkCrWXLlhQvXpyFCxdm2pecnMzixYvp2LEjTk5OOkQn8kNRFN566y06d+6sdygF2uHDh3nmmWdYtWoVrq6u+T5OfHw8M2bMsFhce/fuRVXVApFgWeo9FE8mSbBEgebq6kq/fv3YuHEjN2/ezLBvw4YN3Lhxg8GDB/PwjFBJSUl88cUXdOnShaeeegoXFxfKly9P7969CQ8Pz1SP6dLWtGnTCA0NJTAwEA8PD0qWLEmfPn04d+5ctjHu2rWLHj16UKZMGVxcXKhbty7vvfceDx48yLJ8SEgIzZo1w93dHXd3d5o3b84PP/yQp/clJSWFTz75hNq1a+Pq6kqdOnWYOXMmqampFovTGtLHUKRIEWrUqMHo0aO5detWhnLpfx+HDh2iU6dOuLu7U6JECXr16sWlS5eyPH5u39v8Ht+eBAQEsGnTJr755hsqVKiQ7+P897//tWifvd27d1OlShWqVatmsWNai6XeQ/FkkgRLFGiKojB48GCSk5P58ccfM+xbuHAhpUuXpmfPnpme988///Dmm2+SlJRE9+7dGTt2LIGBgWzatImWLVty6NChLOvbv38/HTt2pGTJkowePZp27dqxZs0aWrZsyYULFzKV//rrrwkMDGTfvn306NGDMWPGUKVKFaZPn06nTp1ISkrKUH706NEMGTKEqKgohg4dytChQ7l69SrBwcG88cYbuX5fXnnlFd555x0AXn/9dbp06cJnn33GmDFjsiyf1zitwRTDsWPH6N27N2PHjsXb25svv/ySJk2acOPGjUzP+eOPP2jXrh0uLi6MGDGCxo0bs3btWjp27EhCQkKGsvl5b/Ny/MLowoULJCcnU7t2bYsdc/fu3QWi9UqIx6YKUQBduHBBVRRF7datm6qqqurt7a16eXmZ90dFRamOjo7qmDFjVFVV1SJFiqg1atQw709ISFAjIyMzHfevv/5S3d3d1U6dOmXY/vvvv6uKoqiKoqjffvtthn3z589XFUVRe/TokelYjo6Oqr+/v3r79u0M+2bOnKkqiqLOmTPHvG3nzp2qoihqw4YN1bt375q337lzR/X09FQVRVF37979yPfGFKu/v78aFxdn3n716lW1bNmyqqIoanBwcL7jzI7pd1K7dm11ypQpWf4MHDhQVRRFHTFiRJbvVb9+/dTk5OQM+9avX68aDAb11VdfzfQaFUVRV6xYkaH8yy+/rCqKoi5fvty8La/vbV6Pnxvr1q1T+/Xrp44fP14dM2aM+tFHH2V6H6ylXbt2avv27fP8vNdff1198OCB+f3YuXPnY8WRkJCgurq6qqNHj1bHjh2rjh07Vu3atat65cqVxzquLeT3PRRPLkmwRIH0cII1d+5cVVEU9cCBA6qqpiUGR48eVVU1c4KVkx49eqhFihTJ8EVv+oKpV69epvKpqalqnTp1VIPBoN68edO8ffTo0aqiKGpoaGim56SkpKjlypVTGzdubN42ePBgVVEU9X//+1+m8kuXLlUVRVGHDBnyyPiDg4NVRVHUNWvWZNr30UcfZUqw8hpndky/k9z8PJxYmGI4evSoevPmzUw/tWvXVqtUqWIub/p9BAYGZopjx44dqqIo6rhx48zb8vre5vX4j/L555+r1atXV6Ojo1VVVdXt27erTk5O6vvvv5/tcwYMGKD6+fnl+qdDhw7ZHis/ycG6devMnyFLJVihoaGqoihq79691dTUVFVVVXXSpElqx44dsyxvyffgcUmCJfLKUe8WNCEs4cUXX2TixIksXLiQpk2bEhISQqNGjfDx8cn2OeHh4Xz66aeEhoZy/fr1DJfBFEXh1q1blC9fPsNzsrq0Yboj6uzZsxw9epQOHToAmG9p37JlC9u2bcv0PEdHR06dOmV+fOTIERRFyfLOufbt2wNw9OjRHN4FzGUURaFNmzaZ9rVu3TrTtrzG+Shdu3bN9q7OnTt3ml9LVjH4+flle1wHB4dM2wICAjJtq1y5MgDR0dHmbfl9b3N7/JwcPnyYsWPHsnHjRooXLw6Ar68vycnJWf4+TJYsWZKr41tDfHw8mzdv5quvvrLocXfv3k3ZsmVZsmSJ+U7SqlWrMnPmTGJjY3Fzc8tQXs/3QIjHJQmWKBTKli1Ljx49WL58OX369CEiIoJ58+ZlW37v3r08/fTTGAwGOnfuTJ06dShWrBiKorBmzRqOHj2aZR+bhxOuh7ffvXvXvM10S/f06dOzjSP9cAV3797FYDBQpkyZTOXKlSuX6fjZiYmJwWAwULp06VzFn9c4H4f60M0GD8ewZcsWHB1z/2fJw8Mj0zbT89OPjZbf9za3x8/Ju+++S+XKlenSpYt52549e3BwcKBFixa5OoatzZ07l7Fjx1r8uLt376Z169YUKVLEvO3KlSuoqsqDBw8yJVhCFGSSYIlCY8iQIaxevZpBgwbh6urKiy++mG3Z6dOnk5iYSGhoKC1btsywb+/evdk+7/r16zluN7VQgPblrCgKd+/ezdUXh4eHB6mpqdy8eZOyZctm2Gfq4J3VF/7DihcvTmpqKv/880+mJCur+PMapzWYYqhbty7Vq1e3yvEt8d7m1Z07d9i2bVumu/B27tyJj48PxYoVs3idj+v8+fMkJSVl2bE9uwQ5tw4cOMDkyZMzbNu/fz9lypTJMvm1hIMHD2Z7c0dWJk+eTPfu3a0Si3iySIIlCo0uXbpQuXJlIiMj6devX4Zk52Hnzp2jdOnSmZKruLg4wsLCsm2xCQ0NRVXVDPtTU1PZu3cvBoMBX19f8/bmzZtz5MgR9u3bR8eOHR8Zf6NGjQgPD2fHjh08//zzGfbt2LEDyPkSmomfnx9Hjhxh165dPPfccxn27d69O1P5vMZpDaYYfv755zx9GeaWpd7bvDp79iypqamZWqp27dplvjx46dKlLIcsePnllzl58mSu6ypVqhRbt259vICBrVu3sn///gyfnaioKEBrjStTpgxffvkllSpVytNxb926xe3bt2nSpIl5W2xsLKGhoQwePDjL51jiPWjatCn79u3LU6xCWIS+XcCEyJ+HO7mbHDp0SP3555/VS5cuZdj+cCf3Ll26qAaDQf3rr7/M25KTk9URI0aoiqKoBoMhwzHS31U2f/78DMf+5ptvVEVR1KCgoAzb//zzT9XJyUmtV6+eevny5Uyv4c6dO+qRI0fMj3ft2pXlnW7R0dFqvXr1VIPBkKe7CP38/NTY2Fjz9r///lstU6ZMpk7ueY0zO9n9TrKK7eFO7qYYSpcuneF3YnL16lV169atmY4zbdq0bONI/xrz+t7m9fjZOXXqlKooirpt2zbztuvXr6uOjo7q8uXL1dTUVHXixImPPM7jelQH7dOnT6uJiYnZ7l+0aFG2ndzbtWunKoqi7tixI8cYYmNjVUVR1DNnzpi3ffPNN2qxYsXUixcv5uJV6Es6uYu8khYsUagEBARk2TH5YaNGjeKXX36hdevWPP/887i4uLBjxw4iIyMJDAw0t2o8rEuXLowePZpNmzbRoEED/vrrLzZs2EDZsmX5/PPPM5Rt2LAhX331FSNGjMDT05NnnnmGmjVrcu/ePc6fP8+uXbsIDg42dyRu06YNo0aN4osvvsDLy4tevXqhqiqrVq3i6tWrjBkzJsdO0SaBgYEEBwcTEhKCt7c3PXv2JCEhgRUrVtCiRQs2bNjwWHFaQ/oYGjVqRI8ePahbty5xcXGEh4cTGhrKsGHD8j26u6Xe27yqW7cuXl5e5jHSYmNjzWNuVa1ala1bt2bZ6d/S4uPjs728t2PHDp5++mmGDBnCd999l2UZ0xQ5WU2Vk5qaiqIoj5wtoWjRojz99NOcOHGC2rVrc/78eSZNmsT3339fIAYdzek9FCJL+uZ3QuRPblpL0nNxcck0TMOqVavUgIAA1c3NTS1Xrpzar18/9cKFC+qgQYOybcGaNm2aGhoaqgYGBqrFihVTS5Qoofbu3Vs9d+5ctnX/8ccfav/+/dXKlSurzs7O5mEPJk2apJ4+fTpT+ZCQELVp06aqm5ubWqxYMbVZs2bqokWLcvnOaFJSUtSZM2eqtWrVUosUKaLWrl1bnTlzpnru3LlsW1/yGufDHqcFK68x5LeFKbfvraVasFRVVU+ePKl2795dHTt2rPrmm2+q165dUz/88EM1KChIHTt2rHm4Aku7dOmS2rlzZ7Vu3brmVtlatWqpnTt3Vi9cuGAud+LECbVcuXLqjBkzMh0jPDxcbd26terh4aEaDAa1TJkyamBgoBoVFaWqqjZESalSpdSaNWuqKSkpj4zp4sWLap8+fdQ33nhD7dmzp/r7779b6uVaRW7fQyGyoqiqpORCPIrpv/ypU6fy/vvv6x2OEHbhzz//xMfHh6+++opXX31V73CEsCsyVY4QQoh82b17NxUqVMi2k7oQTzJJsIQQQuTLiBEjiIyMxNnZWe9QhLA7kmAJIYQQQliY9MESQgghhLAwacESQgghhLCwAjEOVlRUlHkkYSGEEEIIe1OxYkUqVqxofmz3CVZUVBT9+/dn586deocihBBCCJGldu3asWzZMnOSVSASrJ07d7J48WLq16+vdzhCWFTv3r1ZtWqV3mEIYVfkvBAFzcmTJ3nppZeIiooqOAmWSf369WnUqJHeYQhhUc7OzvK5FuIhcl6IwkA6uQuhI09PT71DEMLuyHkhCgNdW7BGjx7N+vXruXTpEuHh4fj4+OgZjhBCCJGlM2fOcO/ePb3DEHbC3d2dOnXq5FhG1wTrhRdeYOLEiVaZxV4IIYSwhDNnzlC3bl29wxB2JiIiIsckS9cESxIr8aTr3r273iEIYXfs7bwwtVzJzVYC0jq0P6pFs8B0cheiMNqwYQOvvPKK3mEIYVfs9byQm61EXkiCJYSOpk6dqncI4gk2cfNEvj70NfdSH923yEVxoWKxijSp2IQhAUPoXLdzvuuNj4f33oP//Q/+/htSUh4usRZFybileHFo0QKmTwfJcURBUGDuInzmmWcICgrK8NOiRQvWrl2bodwvv/xCUFBQpuePHDmSBQsWZNgWFhZGUFAQt27dyrB9ypQpfPLJJxm2Xb58maCgIE6dOpVh+xdffMH48eMzbIuLiyMoKIjQ0NAM25ctW0ZwcHCm2Pr27Suv4wl9HWXKlCkUr6Ow/D4K++uoMq0KyhQFZZr28+nBT7XkKrsZadNtj1fjuXDvAitOr6DLsi7mY5h/pig4T3PG/yt/Vv+1GoARI0bSsOEZFIV0PyquriqzZ6tcupQ+uVLTVWh4aJtKTAxs2QIBAdoxtB/tmBUqwL591vt9zJw5M5s3SDzJ0uclb7zxRqb9djHZc40aNVi7di2+vr6Z9oWFhREQEMDhw4elaVYIIfKh3Mxy3Ey4meW+Wu61eL/d+7wc8HK2z49LiGN9xHrWn1jP/sj9RN6P5EHqg6wLP/yNogIpwK3asGManB4AQJEi4OUFL74Ir7wCbm7Zx791K3z3Hfz+O9y+nX05E1dX+OMPaNjw0WVzwx6/h5KTk5k+fTrLly/H0dERR0dHmjZtyqeffkrx4sUtUseGDRuYM2cOv//++yPLGgwGoqOj8fDwyLHcsGHDeOmll2jXrl22ZebPn8+9e/cYN25cjseaOnUqMTExzJ0795HxWVJWn4estul6iXD48OFs2rSJ69ev06VLFzw8PIiIiNAzJCGEKFSUaRmvtf2nw38Y03pMno5RtEhR+nr3pa9330z74uOhYkWIjgZcIqHDO1B3Pbjd0RqiFMAJqHgW+r8IvAhAAnC+SEluNByOq+t0crqg0qWL9pOVu3ehbVs4ejRt24MHWvJmEhICgwbl6SXbvSFDhhAdHc3+/fvNCdXKlSu5ffu2xRIsa/juu+8eWWb48OG5Opby8HVkO6PrJcL58+dz5coVEhMTuXbtmiRX4onz8GUgISwpfXL1TrN3UKeoeU6usqNdqtNai6KjjRvjK1H09x+IGHEb9UMVdZqKOlUl9f1UZrSfQcWiFTMc407CHWbum4nDhw7mS42VZ1dm6H+G5joODw8IDwdVTftp0yZjmeBgLVZHR4iKeswXbgfOnj3LypUrCQkJyZBM9enThxo1agAwa9YsvLy88PHx4aWXXuLu3buA1urTt29fgoKCaNiwIR06dODOnTsAJCUl8dprr1G3bl2aNWvGjh078hVf9erVmTJlCi1btqRmzZpMnz7dvC8wMJCff/4ZgJiYGIYOHYq3tzd+fn4MHTrUHOObb74JwPHjx2nTpg0BAQE0bNgww7EeNnv2bJo1a0ZAQADdunXj8uXLAKxfvx5fX1/8/f3x9vZm3bp1+XpdeVVg+mAJURiFhYXpHYJ4Aqzvs54ZXWc89nGuXk3rS5X+o/vUU2nJTWwsPDw0kKIovNP2HSLHR6JOUc0/ewftxb+cP4Z0X0WRsZEsiF5gTricP3Cmz/I+3E+8n+s4d+1Ki2fKlLTtKSlQqZIWvx3epJhrYWFh1KlTh1KlSmW5f/PmzYSEhLB3716OHTuGm5sbb7/9tnn/wYMH+eGHH/jrr78oV64c8+fPB+Dbb78lIiKCEydOEBoaSlhYWL5aiRRFISYmhr179/LHH38wa9YsooyZraIo5mO+8cYbuLi4cPz4ccLDw819CdPXWaNGDbZv387hw4c5dOgQq1at4sCBA5nqXLp0KREREezbt4/Dhw8zYMAAXnvtNQDee+89vv32W44cOcLx48dzvDxpSZJgCaGjL7/8Uu8QRCHVbVE383r3ho83rtSqVVpSUqVK2jaDAW7e1JIYY0NBnrWo1oKwEWGkTEkxJ10/v/Az1T2qm8skqUmsOr0K94/dUaYpOExzoOV3Lfk7+u9c1TF1alqy1bhx2vbvvtNek7d3/mLPrbVr4YMPrFvHw3799Vf69etn7g81YsQItm3bZt7frVs3SpYsCUCLFi04d+4cAL/99hsDBw7E0dERJycnBg8eTH67aQ8YoPW1K126NDVr1uTChQuZymzcuDFDP6vSpUtnKhMXF8eQIUPw8fGhRYsWXLp0iaPG68HpY1u7di2//vorAQEB+Pv7M2vWLK5cuQJAhw4dGD16NLNmzeLo0aM2u4QqCZYQQhRCWy5teexj/PSTloT06ZO2rWVLLVlJSYEyZR67ikyC6gdxYewFc8J17+179K7XG2ecAUgllX2R+3jq86cyJFyRMZGPPPYff2ix//Zb2rY//9Reo7WmP3Rz04aYsKRGjRpx5swZbmfT419RlBwToyJFipjXDQYDycnJ5seWuu/NxcXFvO7g4JChjvSyq8/UijVp0iTKlStHeHg44eHhBAYGEh8fn6mcqeyRI0c4cuQIx44dMydic+bMYdGiRRQtWpSBAwcya9asx359uSEJlhBCFGJFKZrn55w9qyUd/fqlbZswQUtO9uyxYHC5UKxIMVb2XUnClARz0jWp5SSKORYD0hKuyv+pjDJNwWmaE72X9yY+MT7bY7Zvr70Wc98xICJCe82WHkS+UycYY5lub2a1a9emd+/eDBkyhJiYGEBLVFatWsWFCxfo2LEjK1asMI80Pn/+fLpkd5dAOh07dmTx4sUkJyeTmJhISEiIZQN/SFBQELNnzzYnWaYhSFRVNW+Ljo6mcuXKGAwGTp8+naElzlQWoGfPnnz99dcZ+pOFh4cDcOrUKerXr8/IkSN59dVXs7zEaA2SYAkhRCFUx13rCBVHXJ6e5+iYsQ/V+PFaMvLQUFu6mt5pOvcm3zMnXO+2ehc3R22ch2SSWX16Na4fu6JMU/CY7sHcvVnfxl+8uPbajP2/Adi4UUu0bNQPOt8WLlyIr68vzZo1w8vLi4YNG/Lrr79SunRpunbtSnBwMC1atMDHx4f79+/z8ccfAxn7QD38eNiwYdSpU4cGDRrQpk0b/P39M5T19/fn2rVrWcaTn75ac+fOJSEhAW9vb/z9/Zk8eXKmmN59911CQkLw9fXlnXfeoUOHDlnGPmDAAAYNGkT79u3x8/PD39/fPLzE5MmT8fLyolGjRixZssRmAzzbxThYObHH8UeEsJSgoCCb3dEinjymuwjVKY/+M//ss7BpU9rjtm1h505rRZazxzkvklOSGfrzUJYeX0oSSZn2+5bzZV2/dVQtWTXTvrAw7e5IE0WB1FT5HhIZ5XYcLGnBEkJHr7/+ut4hiCdcbKyWSJiSK2dnrVVHr+QKHu+8cHRwZFGvRSROSUSdonJx9EX8y/ub9x+9cZRq/62GMk3BfYZ7htatRo201z5kiPZYVbX3xtad1EXhIAmWEDrq3Dn/87kJkVuGaVn/qe/YEYoVS3u8Zw8kJNgoqBxY8ryoVrIaYa+GmS8n/rfzf3F3dAfgftJ9xm4ba+4s3+3HbjxIesD332vJlZOTdgzjsE1C5IkkWEIIUUglTkoEQM1iskFFge3btfVKlbSEomVLW0anj1EtRnF38l3UKSpX37xKo/La5ZxUUtlyfgtFZxRFmabg+YUnf0ZGsGSJzgGLAksSLCGEKKScTE0wQNmPywKwebOWXJns3q0NIPokquRRicOvHja3bo0MGImTor1nEbcj8PzSkxfPKJQa3UnnSEVBJAmWEDpau3at3iGIQu7vMdqAnLcSb9G2LTzzjLZdUbRWq9atdQwuG3qdF/O6zyPxfa3v1o89f6S4szaA1e34XMwwLcRDJMESQkfLli3TOwRRyFUuUdm8vru19if/6ae1u+PslT2cFy/5vkT0O9GoU1QW9VykdziiAJIESwgd/fTTT3qHIJ4EU1VQAWeVL5YeM/e9slf2dl54l7fyfDr5UL16derVq4e/vz8NGzbkq6++yrbss88+y5kzZ2wYXcY6Fy1axOnTp21Sb5kyZcyTPOvNUe8AhBBCWEdiIphnRYmqA5XOMCrCl9ez6PQuChZFUVixYgU+Pj5cvnwZHx8f2rRpg3e6yRVTU1NRFIWNGzdaNZaUlBQcHBwybEtf56JFiyhZsiSeeZyPyBR/XgYxzc+Ap9YiLVhCCFEIXbqULrkC1PkR5vWac2rqEJGwlqpVq+Lp6UlERARTp06ld+/edO3aFR8fH6KioqhevTrHjh0DIDAwkHHjxtGuXTuqVq3K5MmT2bhxI23atKFGjRrMnZs2LtiZM2fo3r07TZs2xdfXN8Pk9AaDgalTp9K0aVMmTZqUKabq1atz9OhRvv/+ew4fPsybb76Jv78/W7Zoc2TOnj2bZs2aERAQQLdu3cytTlnFP27cOJo2bYq/vz/t2rUjIiLts7xu3ToaNGiAr68vEyZMyBDDoUOHaNmypXnE+71791ruTc8FacESQohC5tAhaNJEW3d2Thvb6uxrZ6n9VW0u3L/A9XvXKe9eXr8gxWMzTcRy/PhxTp06hZ+fH8ePH2f//v2Eh4dTtqx25+jDU+NcvnyZHTt2EBMTQ7Vq1bh79y67d+8mMjIST09PhgwZgpubG/3792fJkiV4enoSFxdH8+bNadasGY0bNwbA0dGRgwcPZhmbqeVp6NChLFmyhDfffJOgoCAAli5dSkREBPv27cNgMPDjjz/y2muvsWHDBoBM8b/99tvMnj0bgOXLlzNmzBg2b97MjRs3GDx4MKGhodSrV4/vvvuOf/75B4DExER69erFggUL6NSpE3v27KF3796cPXsWNzc3S/8qsiQJlhA6Cg4OtvqEquLJsnu3Ns0NQIkSYJz7FoBaZWtRwbUC1x5co8JnFXI1hY4eCtN5EZ8cT2xiLKWLlrbocVVVpW/fvri6ulK0aFFCQkKoVasWoPV/MiUnWenTpw+KolCiRAlq1apFjx49AKhUqRJly5bl4sWLODo6cuLECfqlm/E7NjaWkydPmhOswYMH5ylek7Vr13Lo0CECjPMSpaSkZEgCH47/l19+Yd68edy7d4/U1FTzhM779+/Hx8eHevXqATBkyBBGjRoFwOnTp3FwcKBTJ22IjVatWlG+fHnCw8Np1apVruN+HJJgCaEjGcldWNKBA2nJVcWKEBmZuUzUhCjzHIXlZpbjxts3bBhh7hSm82Jm6Ex+v/g7OwdZdu6h9H2wHt7+qBYaFxcX87qDg0Omx8nJyTg4OFCqVCmOHDmS7XGKpZ8GIBfxpjdp0iSGDh2aZbn08V++fJlRo0Zx6NAhatSowbFjx2jXrl2u63342LbsoyV9sITQUf/+/fUOQRQSZ89C8+baenbJlcntcdq4TjcTbvLzSfubB6YwnRfjWo5jee/lNqsvfUvR45SpV68eHh4eLFq0yLzt7Nmz5tajvPDw8CA6Otr8uGfPnnz99dfmYyUlJREeHp5lbDExMTg5OVGhQgVUVWXevHnmfS1atODYsWPmOxQXLlxIYqI2e4Gnpyepqan8+uuvAOzdu5dr167h5+dAubqvAAAgAElEQVSX5/jzSxIsIYQo4OLioE4dbb106ZyTK4CSbiXpUrMLAD1X9LRydE+2Ys7FqOhe0Wb15aaVJjetOA4ODmzYsIHVq1fj6+uLl5cXw4YNIz4+PtfHMHnllVeYMWOGuZP7gAEDGDRoEO3bt8fPzw9/f39+//33LOP39vamX79+NGzYkKZNm1KtWjXz/rJly7Jw4UKee+45/Pz8OHv2LGXKlAHA2dmZ1atXM2XKFHx9fRk7diyrVq2iaNGiuY77cSlqblJZHYWFhREQEMDhw4dp1KiR3uEIIYTdMX0fubjAgwd5eN60tC8ye+2PZQ/ke0ikl9XnIatt0oIlhI5CQ0P1DkEUcOkbEvKSXEHGpKrz/9lPvyc5L0RhIAmWEDr69NNP9Q5BFGCO6W5Tyu+1iC39tXGJtl3Yxvl/zlsgqscn54UoDCTBEkJHy5fbrvOrKFxq1YKUFG39cTp6dKnbBc9S2gjbtebVskBkj0/OC1EYSIIlhI5s2eFSFB4ffADnjY1NZ88+/vFOjTplXi8yrUgOJW1DzgtRGEiCJYQQBUh0NEyZoq1PmqS1ZFmCqT9WIom8+L8XLXNQIZ5gkmAJIUQBUrKktqxYEaZPt+yxV/ZaCcDSE0uJuhtl2YML8YSRBEsIHY0fP17vEEQB4u6etv6osa7yo7d3b+qWqAtApbmVLF9BLsl5IQoDSbCE0FHVqlX1DkEUEFOnwv372ro1Ry88Pea0ed31Q1frVZQDOS8ebfXq1TRu3Bh/f3/q169Phw4dcjVCuy2MGzeOadOm5ek5hw8fNs97GBMTw8yZM60RWiYbNmygffv2Vjm2JFhC6Mg0MakQj2L6vvrPf6xfl6k/VnxqPCPWj7B+hQ+R8yJnUVFRDB8+nDVr1nDkyBFOnjzJnDlzbDrPXk7yE0dAQID57tE7d+7wySef5Kvu5OTkfD3PGiTBEkIIO2f6vnJ3hzFjbFPn0p5LAfgm7Btux962TaUiV65fv46DgwMlTR3yIMMce2fOnKF79+40bdoUX19fvvzyS/O+n3/+mQYNGuDn58fEiRMpW7Ysly9fBqB69eocO3bMXLZx48bs2rULgMDAQMaPH0/btm2pXbs2I0akJd5RUVF06dKFhg0b0qlTJ/7++2/zvvv37zN48GC8vb3x9vbmgw8+yPI17dixA39/fwBeffVV7t27h7+/P02bNgXg2rVr9O3bl2bNmuHj48N7771nfm716tV5++23adasGcHBwVy/fp2nn36axo0b4+XlxahRo8yte0lJSbz22mvUrVuXZs2asWPHjgxxzJo1Cy8vL3x8fHjppZe4e/duLn4jWZMESwgh7FhwcNr6Y/ytz7P+vv2pWbwmAKVnl7ZdxeKRfH19ad26NdWqVaNXr17Mnj2bSGOnvJSUFPr378+cOXM4ePAg+/btY/78+Rw6dIgbN24wZMgQ1q5dS3h4OPXr1+eff/4xH/fhlqf0jxVF4fz58+zYsYM///yTrVu3cuDAAQBGjx5N8+bN+euvv/jhhx/Yvn27+bkffvghSUlJHD9+nAMHDrB27VpWrFiR4+ubP38+7u7uHDlyhIMHDwIwcOBARo4cyYEDBwgLC+OPP/5g5cqV5thu377NgQMH+PHHHylRogTr16/n0KFDHD16lIsXL5rr/Pbbb4mIiODEiROEhoYSFhZmjnXz5s2EhISwd+9ejh07hpubG2+//Xa+f0+SYAmho1OnTj26kHiiLVqkLX/5xfZ1n3vjnHm99Ce2S7IK1XlxfSecmW/RQyqKwsqVK9m7dy9du3Zlz549NGzYkHPnznH69GlOnDhBv3798Pf3p1WrVsTGxnLy5En279+Pj48PdetqNzK8/PLLODs757revn37YjAYcHFxwc/Pj3PntM/Hb7/9xtChQwGoVKkSQUFB5uds376dYcOGAdr4Zi+//DLbtm3LsZ6H+5LFxsayfft2xowZg7+/P02aNOH8+fNERESYywwaNMi8npKSwoQJE/Dz86NRo0bmRMsU68CBA3F0dMTJyYnBgweb6/v111/p168fHh4eAIwYMeKRsebE8dFFhBDWMmHCBNatW6d3GMJOGYz/Ant4QKdO+sSQ/G4yjh85cjv+NrP3zGZcq3FWr7NQnRcJNyD2klUO7enpiaenJ6+88grdunVj3bp1dOnShVKlSnHkyJFM5devX5/j8RwdHUkxTQ8AxMfHZ9jv4uJiXndwcMjQ3ymnDvaP2/leVVUUReHAgQPZJoTFihUzr3/22WfcvHmTgwcP4uzszFtvvZXhtWQXj6IoFr1RQFqwhNDRvHnz9A5B2KlFi9LuFoyJ0S8OBwcH5nSaA8D4X8dn+AK2lkJ1XlR9HvxmWPSQkZGR7N271/z4zp07XLhwgdq1a+Pp6YmHhweLTE2fwNmzZ7lz5w7Nmzfn2LFj5pafxYsXk5iYaC5Xu3Zt9u/fD8DBgwc5fTrtjlLIPjHp2LEjCxcuBLT+WOkTuY4dO7JgwQJAa4lavHgxXbp0yfH1eXh48ODBA5KSkgAteWrfvj0ff/xxhvfg6tWrWT4/OjqaChUq4OzszLVr1zJckuzYsSOLFy8mOTmZxMREQkJCMuxbsWIF9+7dA7RLlY+KNSeSYAmhI7kdXWTH1PfKRner52hsy7GUKVIGAMePrH/hQ86LnCUnJ/PBBx/g6emJv78/bdu2ZdCgQfTo0QMHBwc2bNjA6tWr8fX1xcvLi2HDhhEfH0/ZsmX5/vvv6dmzJ40aNeLPP/+kWLFilChRAoCPPvqIL7/8Ej8/P0JCQvDy8spQb3Z3B37++efs37+fhg0bMnDgQDp06GDe99577+Hk5IS3tzfNmzfnX//6F3369Ml0DEVRzMcvVaoUL7/8Mj4+PuZO7kuWLOHs2bN4e3vj4+ND7969uX0765svxowZw4EDB/Dy8uLll1+mc+fO5n3Dhg2jTp06NGjQgDZt2uDv72+ut2vXrgQHB9OiRQt8fHy4f/9+hqQurxTVXgbOyEZYWBgBAQEcPnyYRo0a6R2OEEJYnbc3/Pmntm5Pf6GVadoXUZOKTTj4ykGdo7GdwvQ9dP/+ffPltLVr1zJ58mT++usvnaMqWLL6PGS1TfpgCSGEnTElV8YrFXYj8s1IKs2txB9Rf/Bn1J94VfR69JOEXfniiy/46aefSElJoXjx4ixZskTvkAotuUQohI7yO5ieKLxM/YjLlIF0/XbtQkWPinSv3R0A72+9rVaPnBfW88477xAeHs7x48cJDQ3NMH6WsCxJsITQUVxcnN4hCDty6xYkJGjrN2/qEMCmIFiqZPxZ2zBDkfUvpnVgLj3TOkM3yHkhCgNJsITQUV7n6xKFW9my2rJtW50CiM7iNv64E2nJVvhUIG0qndsJt/np+E8WD0POC1EYSB8sIYSwA6Z+VwA7d+oVhQNgHIZhgAqXNsOeZ9J2n5im/TiWZ2rbqUzdNZV+q/vR17uvLtHa2smTJ/UOQdiB3H4OJMESQgg74G3s0vTvf+sYxIBkraUKYGlxGBAD1Yy3MZ78Eo68rq0nX2dK1FQm1IDyF8DtIzdi343VJ2YbcHd3B+Cll17SORJhT0yfi+xIgiWEjm7dukWZMmX0DkPoLP3MMP/3f/rFAUCr9bCnB3AXDo6HprO07fVHaj+pqbC8BHAPV0eIqQ3JqXGs3DGJPoGWGVDT3s6LOnXqEBERYR6A0hb+9S/4+29wcgLj2J92L+ZBDF0XdyUxNZGDVcCggOL3BVRqmfUTNgeke+AA3QrO0B/u7u7UqVMnxzIyDpYQOgoKCio8U4KIfDON3zhwYNrcg7ra2BxitIl86XAQyjfJutyWp1Fv/w7GbxFFAdpuhSqdsy6fS3JeaEyfC/v+ls7s20Pf8uKfw3FzhusP4H9eX/B6s9ezLnx0Bvw1Oe1xh71QvoVtArWgrHIV6eQuhI6mTp2qdwhCZ9HRaet2kVwBPLsfDNro3mxvCgnZXP7r+hvKAJUZt7QkQFWBXV20y4xXNuW7ejkvNBUrasvStptn2yJeafwKbs0WoqpQxhlGbRlFsenFSEhKyFzYd5LW389ke0vY+rTtgrUiSbCE0JG0ygrTnYPt2+sbRyb97mDuRbIq5wG5Jo9RcTgHw6Ig1bRx97NaonVtd56rlvNCExmpLbOZEca+1Q9GUcDgAAYMxCbH4jLDheE/D8+6/AAVKnTV1v/5HZa6ZF2uAJEESwghdJScrC1/+03fOLI0ICltfWnW89CZTGo5iQWx4HAGCPg2bcdvbbXn3j1jnRgLOdPAs82a6RtHfilAypQU+jXsB8C34d/i/KEz9xKy6M/29GbocsT4IEH73NhgcnFrkQRLCCF0Uq2atixXTt84cpT+8k0OSdb0TtPN617bPtee5/95WoENdWGpM2T1xSqyZWq9Olhw+n9nFrWXZX2WETMxBiecSEpNwmOmR9atWaX9Mn7mfnKEO6cylysAJMESQkcLFizQOwSho8uXteW1a/rG8UgZkiyHbIslTNb62Pz1z188SHwA9Udrz637trFEEqzygP+VzbE6OS/SuLqmrX/9tX5x5ItivBP09w4AeLh4kDglkcF+gwGtNcv1I1eSU5IzP3eACg7GfoCb68P5pbaI2KIkwRJCR2FhYXqHIHSSfrByJeerb/bBnGSlwrKs+2Q5OzrTpIJ2x6Hbx25pOxp/rD2/cm/tcdItrTVsc9bXveS8yOh//9OWr72mbxx59i/TgJzxGTYv+NcCoidE44AD8SnxOH3kxNx9czM/v+8dKGn8jOx/0TyTQEEhCZYQOvryyy/1DkHoxHSj3I4dekaRR32NLQ1qLKyqmmWRg8O1a1kqKvMOzMu4s91KLdFyN46qeueglmiFvZ2hmJwXGfXpk7aenEVjj90qmv1YZsVdi5M8JZnONbQhPcb+Mpaqn2Xxmeq2H2oYLyWemAb7XrFGpFYhCZYQQthY+i/Jdu30iyPPHBzgOWOnoIQrsLl5lsWWPbcM0G7Pz1KPY9AvBQwe2uNTn2iJ1s2C3NHIuurX15aVKukbh6VtfXkrR17ROrZfuXcFZZrC5ejLGQu1+AZ85mjrF76D0IIxor4kWEIIYWOmL0kvL33jyBfXktD1hLZ+5wCEBmcq0s+nn3m9xbfZDBppMEC/GOh+Ae1eM2BbM1heDJKTsn7OE+yE8S2/eVPfOPIt9la2u/wq+qFOUSnjorV4Vfu8GuO2jMtYyGssNDNOc3B5CewdbK1ILUYSLCGEsDHTl+Tx4/rGkW+l6kPr9dr65UVwKvMlvftv3wdgf9Qj5nnxqA4DUiHA2IM7NRZWOMOWNpaLt5DZuFHvCPKiiLbY2euRJW9OvMmoJlqr55wDc6gyp0rGArX+Dc1/0tYvhsDhCZYM1OIkwRJCR0FBQXqHIGxs3z69I7CQqt3Be6a2HvY63Mh4ec+tiBtlXbS7BUt8XOLRx/N8VeufVa69NiL87VDtsuHZHywceME1e7a27N5d3zjypMYwbRkdmqvi/33mv0SMjADg6v2rGKYZtDtSTWq+AE1DtPXTs+DUV5aM1qIkwRJCR6+/ns38XKLQamNsmHn77ZzLFQjeE+Gpvtr6r80yjXF1Y+INAGISY4hPin/42Vnr+BvbSm8GxXgX4sFB2qje6b9kn1BvvaV3BPnQ9D/GldxPqFinTB3UKSpFHYqiolL046JsP7s9rUDtQeDzibYeNjJfswXYgiRYQuioc+fHmxRXFDymgak//ljfOCymzXJwb6itr/LItLt5Za0jvPsM91wfsnPXrtD/PrTfYdySACuLwtaCdEeAdRiM39oF5vPjkP24aY8S+24sLSu3BKDjko6M3DAybafXBKhm7If1W1uIj87iCPqSBEsIIWxkwwa9I7CSHn+CgzGBemgg0n1DtWuiySQTFROVt+NWbKddNqxovJT+zy7tsuHVbY8bcYFl6n81aZK+cdjKnqF7+KSD1lr11eGv8PvKL21nqwVQQht3jdUldYguZ5JgCSGEjfTsqS1nzdI3Dqvoe9e4kgqrM45n1Le+dhmx8n8q5+/Y7X/WxuAyFNUe7+wMK0rnM9CCrWtXvSOwvQmtJxA+PByAozePUvLjdMnUMwfBwfh4aREdosueJFhC6Gjt2rV6hyBsyHR5cNy4nMsVWP1TtWX8Fdjzsnnz8heWA9rgo39H//3Iw2R5Xjg4QL9YaGa8iyz5tnGQ0iekKScd08j/PzxB/f99K/jyYJLWDy86MRrHaY5pO/veRhvqIxE2NtIlvqxIgiWEjpYtW6Z3CMJGzp/XOwIbUBR49rS2fulHiPzFvGtAwwGANsbRo+R4XtR6Qbts6GYcefPUx7DUCRJj8x12QfPdd9oyOPMQZIWai5ML6hQVBxxIIQVlmkJqqjGpf8F4E0XMEYiwj7ksJcESQkc//fST3iEIG2naVFumn/akUCpeF3w+1dZ3dIEUbdDQJX2WAJBKKrEJOSdDuTov/nUCnj1rfJAMK4vBjufyG3WBMmSItlRzf2NeoZI8JZliTtp8mA4fOpCQnACOztB6jVbg0FDz505PkmAJIYQN/POPtjRN3FuoeY2HEgHa+k+u5s1PV30agLKflrVMPcVrGSeR/pf2OHItLDVAXB470xdgt2/rHYE+7k26Zx5nzWW6C/fj70PVnlDaOH3TT0V1jE4jCZYQQgjLe+YQ4AykwLoGAGwP1sYyepBq4TGt2q2FPvcBB0CFtZXgl0DL1mFnWrXSlqaW0SfRjYk3qOym3Tjh/ok7cQlx0GUfWmqTDLv0bS6WBEsIIazM1KndPfdDQRUOAxK05f2TcPobACq5aRMx1ppby7J1ObvBgGSoNVx7fGun1gn+/iXL1mMndu7UlufO6RuH3v4e9zdV3bW7Vt1mupGYnAi9Y4w7V0FCjG6xSYIlhI6Cn7Reqk+ozz7TluvW6RuHLgJ/05aHR0ByIlfHXQXg/N3se/0/1nnR7Bt4IQEw3mW2rnqhbM16jPE7C51LYy9Rwa0CAEWmF4EixaCq8S7WVfoN5yEJlhA6kpHcnwymzsiBgbqGoY9K7aGs1veKFVoTnoI2zsD7v76f5VMe+7xwdIYBSVBbmzjY3JoVd+PxjmunjhzRO4IcnPjeJtVEjYvCw1mbSUCZpkDrH9BSnBQIf88mMTxMEiwhdNS/f3+9QxDC+jptR2tRSoRdz3Ng8AEAPtzzYZbFLXZeNP1vxtasteVhRy/LHNsO/Pvf2rJbN33jyNHRidqyeCurVxXzTgyOxt91kQ+KQI+L2o4TH1m97qxIgiWEEFb0zjvasnhxfePQXR/jXHF/r6RJySrmzYnJidat19SaVfUl7XHkGm06n9xOPm3H/u//tOX16/rGkSPVeJvj0xttUl3SFG14hkQ1karftYKiNbUdG3xtUn96kmAJIYQVzZmjLUNC9I1Dd85uUNfY23/dU7So1AKApz57yjb1t/4RepnGNEiF/7nC4Qm2qVuAq+3+w0h+NxmAK/eu8O9UbbJo7h6DlGSbxQCSYAmhq9DQUL1DEFaWZBzv8LknYwzMnDWeBbgAKez11O78uvEgc78oq50XLiW1cbNKt9Een54Fy4tZpy4bS7RyQ2C+mEZZtzEHBwfCX9HmLlx8fDHXirfWdqypmsOzLE8SLCF09Omnn+odghC29bzpUuFPpp5R7L+0P0MRq58XXXZB12Paemqs1gH+0irr1mkltYyjXdhld86f62lLxfbXx30r+vJWi7cAqHjImLAnRtl0hHdJsITQ0fLly/UOQVjR3bt6R2CHnIpAVa13dkwdLcVq90O7DEVscl6U8tZas1y0gSrZ0wfWWnhsLhswvVV2OW/8gzPasucFXaqf3Xk2Fd0qArDEmNezrq7N6pcESwgdFS2q/3QOwnpeeEFbNmyobxx2p7XWO7soyfRw1Tokp2fT86LX39DUODlw3Hnj4KRXbVf/Y2rcWFvqdDUue+knSnQtqVsYkeMiAXjpJqSqwIOLNqtbEiwhhLCSbdu05ZIl+sZhlzofBGCNNrA7RyJ1HMyp9mCtNQsn7fG6KhD6kn7xFAbLS2lLQyl94wCuvXkNgMOmGZp2Pm+TeiXBEkIIKzG1Kvja/g5x+1emCTiVxmCAr8tA24Vt9Y4IBiRCFWOz4+UlsLSIvvEUZKrxmly/f/SNAyjvUZ4edXrQ9KqxYe3qSpvUKwmWEDoaP3683iEIoZ/nIlGAV0rA/ZT75s26nhdtf4Iepj5Didolwwtr9IsnF0qU0JZz5+obh9k2+5uhYt0AbZ6quFRQAe6csnqdkmAJoaOqVW1727AQdsXRGYr7ogC/VEjbrPt54V5du2ToZLx+ua8X/Gy7ztF5NWyYtrSbm5JvGq+Ndz2hbxwPufrGVQZFoWVYv1q/xVQSLCF0NGrUKL1DEFZy/Li2dHTMudwT71ltvKIOxaDn0p6AHZ0Xz18Fv/9q67FntNashBh9Y8rCxx9ry2vX9I0DgPU+aeul6usXRxYqFa/EAQdtYNvUxJtWr08SLCGEsII339SW/v76xlEQxJcMQAFG3vtZ71AyazAK+iaDcYJqVpWAg6N1DelhDg56R5DOPeN/FkH2OX/P5bcuE52i/TbvXT9k1bokwRJCCCvYs0dbTp+ubxwFgesz2hddB3sdVN3BAQakQmnjtCtnv4BlbvrGZI+WGpNQXKFYOV1DyclCg9aydnlDE6vWIwmWEDo6dcr6HS2FPuKNcwl36qRvHAXFsQfGNqJ9w+z3vOiyBzoYR51X47SEImqnvjHZi/2vpa0PiNMvjlx46yWtb5hnEbgXf89q9UiCJYSOJkyQyWaFAOh8SxsvKeXC9/Z9XpRvpnWAV4wtWL8Hwno/XUPSXWIcnP9aWw+Yr28suZQKOChQfnZ5q9UhCZYQOpo3b57eIQhhF7569lvuJINBhW8+6Kt3OI/W/z7UGaut3ztq7AB/P+fnWFFx43R///d/OlS+0phsGjzA8xUdAsg7B9cqANRRHjyiZP5JgiWEjnS/HV0IO9HbuzdP/62tVzo1XN9gcqvJHOidLqla5Q57gnUJxTRlzrff2rhic78roJ/93WGZrXpaK+mcstBuYbtHFM4fSbCEEELYhaPJxvniUmP1DiX3irhplwyLG4frv7QIltp+bA7TWFim4UFsYnnxtPUBavbl7FH910GBpi6w68ouq1QhCZYQQljYfWOjhkH+wubZNlOD0L6CcanJ7Nlw6GC67T9Fa9k5Os1m1T9vnF7v7l0bVbiyIqQaK+tRcCbHNlMUFKCo8RyNTbB8Ui+nvxA6+uSTT/QOQVjBjz9qy1L6z3NboDjiyLPXjfPFXVigdzh5Vz5Aa8lxLK09/msqLHWySdU2TeZ/KgOJxlFNA3eDeyUbVm5ZDsYrnA2+bGDxY0uCJYSO4uLs+3ZmkT/r12vL2rX1jaOg8SrnRSqQnArafV4F1Au3oMUq44NkrTXrwJu6hmQxSx0hxTiB89M7oFJrXcN5PAqKMcG6fO+yxY8uCZYQOpo2zXaXEITtnDypLdu00TeOgmZCC63j8a+m/zv+eEu/YB5XjV5aa5aDcSbmc//REq3kBH3jehxLFSBFW3/mNFSwTudwmzFYd7BYSbCEEMLCbt3Slj166BtHQdPfrz8Az5nm1Dv7lX7BWErfO9Du17THK1xgrad+8eTHuWUZ7xbsmwwl7Hfy61xz0pLfYgbtpoQVx1ZY9PCSYAkhhIWZrvy2bKlvHAWVuY1HjdczDMup3EFrzXKrpz2Oi9ASlvAp+saVG8tLwIEBxgeOxlY5e5r88DEU0TpJftRYG1pjxOYRFj28JFhC6OiWqalDFCqpxu5DheV7SBeOJbVl/D/6xmFJ/zoJz6dLGk98oCVakb/pF1N2zv6gxZZqHNvqqX4wIEnfmCzNSZv8coyv1nJ6O/62RQ8vCZYQOho8eLDeIQhhf1SgtnFuuwOv6hqKxTkV0VqBWq5O27ajg3Few1D94jK5f1OL5eCgtG0vJEGbZbqFZDWKMQVSrXNDha4J1pkzZ2jZsiWenp40bdqUEydO6BmOEDY3depUvUMQwv4ogJ/xBpCozbqGYjXVn9MSrZpj0rb93sZ46fBD28dz72+t7nXl0rbVnWgcdsL2A6faRIrxYrRDMascXtcEa/jw4bz66qucPn2aiRMnMmjQID3DEcLmGjVqpHcIQtgng/H6akEa1T0/mv9HS2JqjUzbduJ9LdlZVgKSrXxZbu9Ira71T6Vt8/DTYmo807p16y3JOFCqR02rHF63BOvGjRscPnyYl156CYBevXpx5coVzp8/r1dIQgghhD6azdOSmubL07apMbDCOS3Zun/dMnXtH6Udc6kCF9PdqVmytRZD9yOWqcfeJRj79xUta5XD69bud+XKFSpWrIjBOPysoihUrVqVy5cvU7OmdbJJIYQQBYhTWUi6CSlJ4GCbEdF1V7Ov9gOwqiokXNHW1RhYVyFdQQOU6QDNF4DHU5kOY3ZiPvw5FZKvZV+mzVZ4qvPjRl7wJKVN1O2AAymkkJKSgoOF7k4ppBdWhSgYFixYwJAhQ/QOQwj7VKoZXN8AF5ZC7YF6R2N7vY2ji6sqrPeF++lnck6FW9tgQ9W0LYuNK0sfdWADNF8GNV+wYLAFUdodnaYE6+b9m1QoXiGH5+SebpcIn3rqKaKiokg13s+sqiqXL1+matWqWZZ/5plnCAoKyvDTokUL1q5dm6HcL7/8QlBQUKbnjxw5kgULMs5tFRYWRlBQUKZb5adMmZJpjrjLly8TFBTEqVOnMmz/4osvGD9+fIZtcXFxBAUFERqa8Y6QZcuWERwcnCm2vn37yut4Ql/Hzp07C8XrKCy/D0u9jqymeSmIr0O334eqLa67tUdVIfrEooL5Oowe+/ehKCyLfYfgbYO0S3gDVPCaBUopkpLTPm2qqr11qaQNFQIKFG8CPS4xcs9rLHjwPQxIMSdXT9Tn6qHXoWY6Mkz9aOojX8eyZc5vnwEAACAASURBVMsICAigatWq5nzkjTfeyHQsRVXVrOqwifbt2zNo0CAGDhzIypUr+fTTTzl48GCGMmFhYQQEBHD48GHpECyEKBBM85vp99e14FKmaW+eOkWFxLuwsji41oTnzukcmf2Tz10eLVUAZxiQgGGaARVV+9zlQ1a5iq6XCOfPn8+gQYOYMWMGxYsXJyQkRM9whBBC2BNnD22ZKAPyCguLjtCWblqfbzXL9qzHo2uCVbduXfbu3atnCEIIIexdagGeIFnYp6PvaMs6lp0eJz0ZyV0IIYR9UwvZFC1Cf1FbtWW9161WhSRYQugoqw6cQjzxMl2tkU5FwsJMA9garJcGSYIlhI5ef916/z0JUWApD2+QBEtYUIJxAmvjhOKJyYlWqUYSLCF01LnzEzi43xPANHVbXJy+cRQemTIuIfJv77+1ZYOJAPRf1R+AOsXrWLQaSbCEEMLC3Ny05S+/6BtHQZOQrHVmVzIlVPJVJSzINIG4l5ZgrTm1BoDV/VZbtBr51AohhIVVMA4EvWmTvnEUNLN3zQagrOtDc8MpMumIsJDUZCAZlCLmTaYhGrwqeFm0KkmwhNDRwyMXi8LB319bHjigbxwFzffh3wPg5+yXcYdDUR2iEYXSrue1Zd0xANyNv2u1qiTBEkJH2rQqorB5wTjF28WLuoZR4Fy8dxEAt33Ga6wJxi+/IuX1CUgUPpHGf2oDtOlzGnzRAICO1TtavCpJsITQ0U8//aR3CMIKTKNv3LXeP8eF2uqfjH1h/l6vLUv56hdMAfHggbZU5H6A7N0K05bOaZegr8ZdBWDbwG0Wr04SLCGEsDAHB70jKCQur9SWVfroG0cB8PXX2rJs2ZzLPdF+N9613V4bZPR41HGrVicJlhBCCPt029iJrVpPfeMoAJYs0ZZNmugbh91KioOkfwBHKK11kvT/Vlu+1+o9q1QpCZYQQgjdTd46GYDSRUqnbUy4ri0Nchfho5w6pS0nTNA3Dru1pbm29PvUvCmFFAA+6PiBVaqUBEsIHQUHB+sdghB24bMDnwHwRdcv0p0XqfoFVMCYBrVt21bfOOxSSjLcOw4o0OBNACrNrgRAnZKWHVw0Pfm3QAgdyUjuQmji1XgA+vv1h86AafoSp9LZP0mI3NhqvG7a4F3zpqjYKAAiRkdYrVppwRJCR/3799c7BGElxYtry2++0TeOgqh///7w14fag2pyjojHkHAPosMBA/hplwIrzqoIQBX3KlatWhIsIYSwAtNQDZ99pm8cBcHm09rUJQ6ku/3yzLfa0v8THSIShcZGbZwrmmj/6cQlxHEt7hoAV8ZesWrVkmAJIYQVfP65tjxzRt84CoLn/6eNrj213dS0jYk3tKWTjOL+KP/8o3cEdurGfoj/W5sJoM4wANxnugPQ5qk2Vq9eEiwhdBQaGqp3CMJKSpbUO4KCIzYlFoB3A7U+Mnt3bNR2OJXTK6QCZfhwbenpqW8cdudXY4//ztpwH4uOLCLVeOPErsG7rF69JFhC6OjTTz99dCEhCjFVVTNtczg4UFvx/cjG0RRMG4356Ny5+sZhVw4MB5KghC+U1CZxDl6n3Z26ovcKm4QgCZYQOlq+fLneIQihq7YLtVaGGh41zNuaVInWVuoO0yOkAideuwGTbt30jcNuxN+Bc8Y+fN2OAFD2E22IezdHN573et4mYUiCJYSOihaV/iWFmaurtpQ5vbMX+rd2mfzYiGPahoS7GEgBBw8doxIF2jpjst40BBSFhWELuRV/C4D7k+/bLAxJsIQQwkoGD9aWY8fqG0dBUMylmLayo7u29J+tXzCi4Do4EpJjoGgNqD2I1NRUhqwfAsD/9fw/m4YiCZYQQljJf/+rLa9d0zcOe9VxUUcAyruWT9v4j/HGD7k8mCs//KAtpTEcuHsGzn4FKBCk3b7r+KE2nnqN4jX4t++/bRqOJFhC6Gj8+PF6hyCsyCB/YXO0/dJ2AM6MNo5lcXkNoBIZJ7dg5tab2swv0koKsKGhtmy3CQwOeH7hiYp2E8X5N87bPBw5/YXQUdWqVfUOQQhdxCXGmdfdXbSxidj3MgAbHozTI6QC6c4dbfnhh/rGobsN3kASVOoBlbvy9ra3ibitTYOTMDlBl5AkwRJCR6NGjdI7BGFlpilz3n0353JPmmpzqwHQ+qnW2oYHNyDlPji48cqoSTpGJgqc8Pfh7p/gVAoC17Hn4h4+2avNALB1wFacHZ11CUsSLCGEsKLvv9eWn8iMLxmY7uraPXi3tmFrU23ZyjZjFBUG9213Q5z9urkPTnwIKNDzKtFx0bT+QUvahzcaTuc6nXULzVG3moUQ4gnQp4+2TE7WNw57MnPXzIwbEu9D3CXACao8o0tMBVFgoLb08dE1DP0k3INtrbT1zvtIdXCm5AxtbBTfcr5800PfmdalBUsIHZ06dUrvEISwuXd+fweA0JeNdwxuCdCWTbUvRDkvcufwYW25y/qzvtinNRUAFXxmQJlmOHyoTRZezqUc4SPC9Y0NSbCE0NWECRP0DkHYgGnAUZkZCa7dTRuzolWNVvDgFtyPAJyhtjZwmJwXeWPq5/dEWVMdUuOgYhB4vYMyTQGgqENRrk+8rm9sRpJgCaGjefPm6R2CsAHTWEWTpO82Vedqd872r99f27DZV1u2ShvuXs6LR4uM1DsCHf3SFh5cgmKe0P5nDNO0VMZZcSb23Vidg0sjfbCE0JEM0/BkeN449VlKir5x6E1VVZJIAmDpC0vh5n6Ij9SmxanWy1xOzotHa9xYW3bpom8cNrfn33BrNziXgaBT5pYrRxxJeF+f4RiyIy1YQghhQwn29R1gU+U+LQdA7RK1tQ3b22vLrgd0iqjgiorSllu26BuHTR0eD5cWg0NR6HXdnFw5K84kTUnSObjMJMESQggb8PLSlv7++sahJ9PQDGfGnIHwSZAaD+5eULyezpEJu/fnx3B6NijOPOhxBcXYob2oY1G7a7kykQRLCB19IoMjPTHCwrTlyZP6xqGXGp/VAKC0c2lIToQTH2s7nj2aqaycFzkbNEhburvrGobtnJoHxyYBDlxou4+is0oDUMalDLGT7afP1cMkwRJCR3FxcY8uJAoFJye9I9DXxXsXAbj1zi1YX1fb6PtxlhM2ynmRM9NNE/v36xuHTZyaB2GjAAM/1/+Smt9rQ3o0KN2AmxNv6hvbI0iCJYSOpk2bpncIwoZKlNCWPXvqG4etVZ2jdVovWaQknFuk3QHmVOb/27vv8KiqtY3Dv8mkBxICoYfQe9HQFETFhj2CIIiKCtg+Kyqgx+MR0XNEELvYUREFVFAERAUFUZoIEQu9hQAJkBBKejLl+2MBIdICzMyeTJ77urhmsmdm72fABa97r/0uaP34Md+vcVE2rVpZncDL1rx8sLiy86+oW+g54x4AejXvxar7V1mbrQx0F6GIiI+sWgV168LXX1udxLe25WwDIGvoTvg83Gy8dqOFicqvf5kerYF/RvTv5+DPfwMhdMuqz6INHwPw8qUvM+S8IdZmKyMVWCIiPlKnjtUJfK/Kc+a0XXzleJjRGHBDm2cgvCJ2xzxzzx9cZeinnyyN4V3LH4b1r4AtlNqbXOx0mmL8r3v+ok3NNhaHKztdIhSxUGZmptURxMeqVjWP559vbQ5fyM7PZn/xfgC2db8FCrZDRD1o958Tfk7j4uS6drU6gZcsugXWv4LTFk7UhiJ2Oh3YsOF40lGuiitQgSViqUGDBlkdQXxsyxbzuHChtTl8IWaMOUvVP749rH0esMF1m0/6OY2LY7v2WvMYFWVtDq+Z2x22fko24YStLyDPDQmVE3CNcGG3261Od8pUYIlY6Omnn7Y6gvhYdHTJ8wMHrMvhbd9v+B43bgAmRfxlNl70IwSdfGaKxsWxzZplHlNSLI3hHV83g4wFbCm2Eb2hACcwpPMQtj6y1epkp01zsEQs1L59e6sjiAW6dTNnsOrWhexsq9N4xxWTrgAgs3ksuPZCw8FQ+6IyfVbj4mhHFuNxcdbl8LjiPPi6Hu6iLH7Ohe5ppihff996msY1tTjcmVGBJSLiY7/8AjYb5ORYncQ7+kzpA8B7cVDNtRciG0CX960NVc7Vrm0eL7jA2hwedWADfNMGt7uId/fBPRmmeai/97cqq+NeIhw/fjyLFi2iuNj/1vcREQkU//631Qk8b9q6afStBINjAVtomeZdyYkd6r26YIG1OTxm6zTcs5rjchVxzy5TXA3tMjRgiis4QYG1ceNGBg8eTExMDN27d+epp57ihx9+UIddEQ8aP3681RHEIkuWmMfnnrM2h6dF/TeKRsEwqRbYAJI2m9N1p0DjorTBg83jMZrel0/LH8a9qA/FLjddt8H7B4LIGprFCz1esDqZRx33j2vUqFGsXbuWlJQUHnzwQXJycrjvvvuoUqUKvXr1YtOmTb7MKRKQkg8tUCcVzrnnljzfvt26HJ7006afcDrzWF0f7DbgwtkQVfeU96NxUdoHH5jHVf7fvPzkvj8X97pXyHJAjS0QUbM7zhFOYqNirU7mcSeth2vUqMH111/PSy+9xB9//MGjjz5Kz549ueGGG1i3bp0vMooErHHjxlkdQSx0/fXmsUEDS2N4zEWfXMTOhhAahGkmWvfK09qPxkWJQ2c6AVq0sC7HGSvIIH9yJO7MX1leAHFb4Je7/mT+wPlWJ/Oa4xZYb7/9Nr169WLChAmHLwuGh4dTv359brvtNubPn89HH33kq5wiIgFn2jTz6HRam8MT2o5rS0p9iLGDrV7fkzYTlbI51FD08WMv21guOLfNoGhqDcJc+by8F+5zdsI9wk3bmm2tjuZVxy2w1q5dyzXXXMNnn31G7dq1ueyyy+jduzeLFy8GIC0tjQaB8r9dIiIWOXR3WHm+9X5X9i4+ivibhBBwVu0E539mdaSAsH9/yfNRo6zLcSYWfd4S28/X4QYu2wFX9FvFsruWWR3LJ47bpqFFixY0b96c2bNnk5WVxZIlS7DZbFx88cXs3buXdu3acffdd/syq4hIwElLM3PA9+yxOsnp+2tKLS6JhFRXOPWvrBj/ePrCoWWVunWzNsfpSM1YR9E3LegaAmkOGBJ8GT8On2N1LJ867hmse+65B7fbzdKlS6latSpXX301V111FeHh4cTGxrJq1SpeeCGwZvyL+FpSUpLVEcQPRESYx4YNrc1xOn6aUJVLImG7A+oPyPfIPjUuoLgYXC7z/JdfrM1yqga/04Aa37egUQhMzYHK/fbzxc0Vq7iCkzQaPf8Eq5E2a9bM42FEKpr777/f6gjiB7KzITi4/C2BUvBTby4M3stuB4T0TPPYfjUuStYbLE8T28csHEP1Px/jvRhwuGFWjQHccPPHVseyjDq5i1ioR48eVkcQP2C3Q1gYFBaas1iHFoT2a4sGELbjS/Y44bqiTiyNqe2xXVf0cVFUZM5gAaxZY22WslifuZ4L3m7J8nou6sZAmjOYujdmkhQaY3U0S6nAEhHxA7m55egs1qKbcKdMZo/T9DJyjdC8K086dMm4VStrc5yM0+Uk4eUErg1KY1tDsAN59W+lbrcJVkfzCyqwRET8gN0OlSqZ9Qmjo0sv7utXFvTGveNLMp1QcwvsHb7P6kQBJTW1ZO6VPzcWvWLiFfy4+XsWxUOncCi2hRHU42ei4jpbHc1vBErjfZFyafr06VZHED+SnV3yWFBgbZZj+rEH7PiS9GJz5iqp6XXERHj+MlBFHhf165vHa66xNsfxPPXjU9hG2rCnf8/+xtApAmw1uxN6Yx6ouCpFBZaIhSZPnmx1BPEzhy4LHbpM5De+7QS75rKlGOqmmE3Tb/JOIVRRx8V775U8nznTuhzHMnXVVIJGBvHfhc/ybW2YVRci7aHYuk2DS+cH0EKJnqNLhCIW+uwzNWSU0latKlkbeeZMuPZaa/PgdsOMJpC7mYzg2jTakG42j3B77ZAVdVzcdZd5fOMNa3Mc6bftv9H1g6443A4ujYCvakOUHWyxneCynyE43OqIfkslp4iIn3niCfNoeTsoRyFMqwG5m6HGxdRYY4qrFy990eJggadDh5Ln991nXY5DNmRsIOq/UXQe3xmX28H3dWBOPFSyh2A792O4cpmKq5NQgSUi4mf+97+S5506WRQibxdMqwpFmdDgNmyL5gEQGxrLI+c9YlGowORwQHKyeb53r7VZtu/bTsyoGJq92Yw8Zx49I6GwaSg9osAW2xn6HoBGA6wNWU7oEqGIiB/KyIDq1WH5ctMTKSTElwf/FeZ2BVzQdhSdFk47/FLWv7J8GKRiOPRnW6cOVKliTYa0A2m0GteK/UVmAcQIG2xt3YjqhZvBFgTnTYWE3taEK6d0BkvEQgMHDrQ6gvipuLiSO8pCQ3144A3jYe65gBvO/5LF0RewfPdyAFIfTPVJhIo0Lg5dDgbYscP3x0/JSiHmuRjqvlz3cHG1uOsN5DUJMcVVrcuhb7aKq9OgAkvEQhW9Y7Wc2JFNR2+91QcHXHon/HYH2ELhmnVQrxfnfXQeAL2a9aJebD0fhKhY42LUKPM4aZJvj/vXrr+I+l8UDV9vyIHiA9iwMbnHKNxn1adLxhcQUhkuWwgXfwd2Xew6HSqwRCzUv39/qyOIn/vhB/M4cSI4nV480OyOsPl9CK0OffZCdFPsI+0ABBHEl/2/9OLBS6so48JufnuJjARffeW5G+cS9kwY7d5uR54jDxs2Pu01EddlN3Pjlicgbzs0fQBu2APVz/NNqAClslRExI9dcom5XJiZaZbScXu6O0JBFsxsAsV7oeo5cMVSAC7/+HJcmJbizhHerOwqpnvuKenYnpvr/eO9tewt7v/2/sN/piG2EGb2n8nlofth6WBw5kB0K7jkR4io5f1AFYAKLBERP5eRUdIbq1Mn+O03D+145zyYdznggGYPQ8eXAPgj/Q/mbJkDwK+DfvXQweSQggJ45x3zfNq0E7/3TN399d28u/Ldwz9HBkeydPBS2kbHwrwecGAN2CtB1ynQoJ93w1QwukQoYqGFCxdaHUHKiU2bzOPy5R4qsH5/DOZdArjhwtmHiyuAs989G4Au8V3oXM/3y58E+rg41KW/Zk24/nrP79/lcnHue+diG2k7XFzViKxBxtAMcp/Ipu2mF2B6AhxYCw0GQN/9Kq68QGewRCw0ZswYunXrZnUMKQcaNTKXC3/8ETp3PoNLhW6XWfZmXzKEVIWrV0NkzcMvH5p3BbB48OIzTH16Anlc1KhR8nznTs/uO3VfKh3f7UhGfsbhbYk1E/ntrt+wB9lhw3uQPASceRDTBi76HiLreDaEHKYCS8RCU6ZMsTqClCM//GCWfHO7zSXDUy6y9q+H7zqCMxviLoAeC0q9fPlHJfOuvLkUzskE6rh47DFzuRcgP99z+/1wxYfcNesuHDgObxt09iDGXzfe/JD1B/x8LeRtg5Aq0HUy1LN6mYDApwJLxEKRkZFWR5ByxuUqmY/VpAls3FjGD655DX5/yDw/ezS0Gl7q5dU7VzNnq5l39dOAnzwT9jQF4rjYsQPGjDHPR42C8DNcZcbtdnPtp9fyzaZvDm8LJpiPe31M/3YHb0kszIKfe0LGL2ALgZZPQOL/jrNH8TQVWCIi5czWraYJ6aZNplHlc8+d4M1uF8ztBplLzGTmK5dDdPOj3tb6ndYAnF3zbC5sdKGXkldc8fHmsUEDePzx09/P2oy1nP/B+WQWZB7eVieqDivuXkGtygfv/nO74Nd7YMuH4HZA7aug2+cQEnX6B5ZTpknuIiLlTEICPPmkeT5qVMk6dkfZvwY+r2KKq2rnmsnMxyiugkeW/L/27/f87oXEFduhM44AW7ac3j6Gfj8U+0g7Ld9sebi46t28N+4RbnYM3VFSXK15CT6Phs3vQeXmcO0muOgbFVcWUIElYqFhw4ZZHUHKqWefhVatzPMOHcx6haWs/Bd808r0N2r/Kly+xKwp9w99JvfBielzZeW8qyMF0rg4cpmjU50zl3YgjXov1sM20saLS1/EhYsIewSz+s/CPcLN1Bunlrx52wyYVgN+f9R0Ye8+G675Gyo38swXkVOmS4QiFkpISLA6gpRjq1aZLuD5+eYfcrcbKMqB7xIhZyOExsEVy6FS/WN+fnf2bqatN42Yvuj9hQ+Tn1igjIs6dUoK36MK4BN45LtHeOXXV3BTUpF1qtWJhYMXEhr8j4Up9yyDRTebP297ZWj/GrR4wAPp5UypwBKx0AMP6C9COTN5eSWXoG7sMokpD94O7mJI6AfdTnw3Xs2XTHuGupF16dOmj5eTll0gjIuOHSE93Txft8504T+Rv3b+xaUfX8ru/N2Ht4UFhfHeNe8xIHHA0R/I2QoL+0DWcrCFQfNHoP0LxzxLKdZQgSUiUs65nU7m/ediLmr1M7n54URd9T3UuuiEn6n0bKXDz7cP2+7tiBXK1VfDihXm+ZdfQrNmx36f0+Xkqk+vYs7mOaW2n1v3XBbcvuDos1UABRmw6CbY9QMQDPVvhnPHgz3Ms19CzpgKLBGR8ix9Liy4jotb5/Pz2q5c/L8FOF3BJ5zv89avb5HrMgvgFT1R5KOgFUPv3jB7tnn+wgvQq9fR73lpyUv8a+6/KHKX/N5Hh0Qzrd80Lm186bF37MiDxbfAjpngdkKtK+G8TyCsqhe+hXiCCiwRC61du5YWLVpYHUPKI7cbfkqC9FlACJz7MRfcNADns+blEzUivfe7ewG4ue3NhISE+CbvKSiv4+Laa2HWLPN8+HAYOrTktV+3/co1k64p1V7Bho07Eu/g3aR3OS5HPiy7B1ImAU6I6wLdvlAH9nJABZaIhYYPH86MGTOsjiHlzc6fYMG15g7BKmdDj8UQbBa4O9TlHY5dZNlGlvQM+OT6T3wU+NSUx3FxzjmwbJl5PmwYjB4NGbkZdP+oO6szV5d6b9vqbfl54M9Uiahy/B26iuG3B2HzB+AugirtzZy66KZe/BbiSSqwRCz0xhtvWB1ByhO3C+ZfAzu/BUKg07vQ9M6j33acImv49yXd2/2lJcOxlLdxUa8ebD84jW3EyEJ+rncltpHzS72nWlg1vr7pa85LOO/EO3MVw4qHYdN4cBVATDvo+gnEtvVSevEWFVgiFgqU29HFB7bPhEU3moV6YzvAZb8cPmt1LP8sstLS4IWlLwAw9Jyhx/2cPyhP4yI8HAqLHNDnBmjzNSPdbkg1r0UERfDyFS9zd6e7T74jlwOSh8LGd0xhVbkVdPkQ4jp79wuI16jAEhHxZ45CmHcpZC40t+N3mQQN+5fpo2432O1m/cI6rwfBwRvNXrjiBS8GrhicLifBvW+EYdPA7oaDxawdO0M6D2HslWPLtiNHISQPgc0TwJUP0W1MYVWto/fCi0+owBIR8Vfr3oTkh80cnJqXwEXfQdCp/bXtdEJkg1Xkh7rBDV3numGEl/IGuCJHEdd/fj2zN8zG7XbD2YAbgmxB3HbWbYy/bjy2I9fFORFnAfz2EKR8bM5YRbeBcz+AuE5e/Q7iOyqwRCw0evRoHnvsMatjiL/JS4MfLjTduUOqwPnfnbSv1YnkD2wDbmB3fRYvNk0vHQ7PxfU0fxoX+/L3cfWnV7N4x+KSjW7AEQR/3ozr6wllL6oAivbD8vsh9QtwFUFsoimsYs/yeHaxlgosEQvl5eVZHUH8idttbsnf9J75udFgOPf9M9rlcz89Z57YYN4NKVz8ljmrZbOZhYcbNDizyN5g9bhYvWs1SZ8lsWnvptIvFNthxZ3w3ZvUr28jJeUUdlqYBUsGQvp35oxktS6mQWhMS09GFz+iAkvEQiNHjrQ6gviLtO9h4Y3g2AeVGsPFP0ClBme8238v+DcA/Vv256KLSk9+b9gQunSBxYtPsAMLWDEuPljxAY/OeZR9RftKbQ+zhXFni3/xRr+S66qvvgoPPljGHWdvhmV3w64fgSCoeSGc+yFElZ+J/HJ6VGCJiFipMAvmXQ57l0NQ+HFbL5yO+RtLWgVM6jvp8HO3G5o3h/XrYckSU3AVFpoFoyuKIkcR/af2Z8b6GTjcpa+XxobF8u6179KndR+aNoU3Npa8dqIO+aVk/W7ORmatAJsd4ntBx3EQWctzX0L8mgosERGrrHgE1r0OOKBuEnSbCnbPdVa/+NOLAWhcqfFRr61bB7//Du3bm5/DwqBzZ/j1V48d3u/M2TCH22fcTnpO+lGvtazWkpn9Z9K4mvm9WrGi5EwfQGIiJCeX4SA7ZkPyI5C9HoLCoPFgaP8ShER56FtIeaECS8RCmZmZxMXFWR1DfG37DFhyOxTvhaj6cNFcr3bo3vjoxmNuT0w0Z2SqV4fMTNOJ3GaDn36CCy/0WpyT8tS4yC7I5obPbmBuylxcuEq9FkwwA9oN4P3r3icoKKjUa2FhUHTEEo2ZmVCt2kkOtv5dWPUM5O+A4CrQ6nFoNxKC/G8pIvENFVgiFho0aFC5WxJEzkDudvjpatj/J9gjPXo58J+27dlW5vdmZMDGjdD0YI3Xvbt5LC42dxz62pmMi8fmPMa438aR68g96rV6levxca+P6d6w+zE/27kz/PZbyc+XXgpz557gYM5C+PNp0xy0eC9E1DGXAZvde1rZJbCowBKx0NNPP211BPEFlwMW3wKpnwM2qH8TdJ0ItqCTfvR0tXqj1Sm9v0kTczarb1/44guzLSTEdCrPz/dCwBM4lXHx8uKXefbnZ9lbuPeo18KCwrir/V28etWrJ2ylcOutMHFiyc/Bwaa4PK6CPbDiQUj9EtwFULmlWc6m7lVlzi2BTwWWiIXaH5oAI4Fr9Vj44ylw50PMWdD9G4iq6/XD5pADQAwxp/S5zz83j7Vqwa5dUFBgLhuGhpY897YTjYtnf3qWFxe/yP7i/Ue9ZsNGt/hufNnvS+IqnfwSY58+MG1a6W2pqWZtwWPK+t2sE5jxM9iCoXpX6PQmxJxaMSsVgwosERFvSJ8D+x5/iAAAIABJREFUiwZA0W4IqwFdZ0LtS3weYz9HFyJlsXOneaxcGXJyzJykQ1OV/voL2rTxUMATyC7MZtD0QcxcP5NCV+Ex39Mmrg2f9/2cltXL3k8qPh527Ci97YTzzrZ+DiufhNwN5tJug1sg8UWIqF7mY0rFowJLRMST9m+Ehb1g/9/mH+OzRkPr4T6P8erFr/LQvIfOeD/Z2ebx0ER4gLZtzWPXrrBo0Rkf4rCPf/+YJ358gh25O475ug0biTUTmdx7Ms2qNzulfc+cCUlJR29fsaLkTspSnAXw1/9gw5tmflVYdWj7LLT+FwTZT+nYUjFZVmA9+OCDzJw5k61bt7Jy5UratWtnVRQRy4wfP57BgwdbHUM8oTgHFvaG9LlAEDQYYBpKWvSP8YPnP3i4wGo4tiFbhm45o/1lZJjHpCRTrIBpUHrokuE998Bbb5V9f1/89QWP//A4mw9sPu57Qm2hXNP0Gib0mkCl8EqnnPnvv+Hss03n+lL7DTVn5UKOdYNf9lb4/RHYMQvcDohuAee8Dwm9Tvn4UrF5b4blSfTt25eFCxdSv359qyKIWC65TI11xK+5nPDrXfBFrCmuqp8P1++Crh9bfqajWYw5y5OSm4JtpGcmT82YYSbDb9tWcskQ4O23TbFls0HdurD/4JXJXQd20fezvlT6byVsI22Hf/X9su9RxVX96Pp82edL7t19L+4RbgqfKmRa/2mnVFzdcUdJjrZtSxdXDz1kshcWHqO42jEbZifCzAaQNhtqXQLXrIZrVqm4ktNi2Rmsbt26WXVoEb8xbtw4qyPImfj7OVj1X3DmQ+UWcMFXENPC6lSHrRuyjoiRERRQAHC4yMoalkVsZOwZ7Ts+vqR4mfZVIX1GvQgdPoSqW0gLdlLl5SPefIzark5UHf7d7d/ce+7RLQ16jStbQfPHH+aMWmrq8d9zwlYLjgJYNQo2vguFOyG0KrR4FNo+DSGnfsZM5EiagyUicqo2TzS36Rfvg/BacOEsqHWx1amOKX9EPos3Lea8T847vK3qC1WPel+V4Co0qNKAutF1CQ8JJ5hgsgqy2JWzi915u9lXsI8Cd8HxD3T1Ec/dRzwWhUJqV/jmDdjf+vBb0oD7gPttEBNj7lqsW9fM9bLZzNyvtDQzGT0r6yRtE44QFASTJkG/fid404ENptv6zh/AVQDRLaHDy9DgxrIdRKQMVGCJiJTVjjnw6+1QkA4hVeCcj6DxbVanOqmujbviHuHG4XAQ8b8IHDiOes8+xz5WZq5kZebK0zpG3ai63NjmRp7u/vRRl/TuvBM+zAHnMT7ndsO+febX2rWnftxmzeDHH80ZtRNyu2HLJ7DqObOMjS0E6lwO7V+Eyk1O/cAiJ+GzOVgTJ04kMTGRxMREPvroo1P+/FVXXUVSUlKpX126dGH69Oml3jdnzhySjnGryH333cf48eNLbUtOTiYpKYnMQ7fGHDRixAhGjx5daltqaipJSUms/cffAK+//jrDhg0rtS0vL4+kpCQWLlxYavvkyZMZOHDgUdn69eun76Hvoe/hx9/j8zcfJuODKrDgcig+AO1GkXf1DpIenlauvsdbb73FkJwhuEe4D//KeiiLhpsb0iyiGXUi6hAbEkt0SDSVqERYXhjn1D6HgW0HMqX3FAqeKKDv6r58ddZXpfbxfZfvaf9ze8ZeMbZUcXXoe7z3HjgcpsZZsSKZa69NIiMjE7cbpk6FG2+EqlVTiYjYQ5UqUKUKxMVBvXp5REf/ykMPpbJnj/m82w2vvfY6Q4cOw+02ayrGxx//v6tpk95l3vPNYWpVWHo7FO+Hts9wy4xrmL53YKniSuND36Ms32Py5Ml06NCBhISEw/XIkCFDjsppc7vLvDa4VzRs2JDp06dz1llnHfP15ORkOnTowIoVK9SUUQJOUlKSlsrxZ3v/gsU3mZYLQeHQ5B5oP9byyeuBziPjIu17+GsEZP1mmoJW7QTt/gu1unsko8iRjlWrWHaJ8O6772b27Nns2rWLyy+/nOjoaNavX29VHBFL3H///VZHkGPJ3gQLb4S9y8EWCo0HQ6e3tHCvj5z2uCjcby4BbpkAhbsgtBo0uRfajoBwLaouvmVZgfXOO+9YdWgRv9GjRw+rI8iRcrfCwptgz2IgGOrfDJ3fgZAoq5NVKKc8LnYtMGerMpeCqwhiE01BrPYKYiFNchcRyd1mLgVmLAKCIP560yQ0NNrqZHI8Rfth1WjY/KE5WxVSxTR3PesZiKhtdToRFVgiUoHlpsKS22D3ArDZoe410OUTFVb+LH0u/PUsZC0zZ6uqnKUWC+KXLOvkLiIcddeM+EhOCsy9AL5uALt/hjrXwvU74cIZKq78wFHjonAPLB8C02rA/CvMTQcNbzMd86/6XcWV+CWdwRKx0OTJk+nZs6fVMSqOA5tg6QAzV8cWbAqrrhMgtIrVyeQIkydPpud1SZA6FdaMgaw/zAtV20Pn9yA+qWQRRBE/pQJLxEKfffaZ1REqhn1/w5LbYe8KIATq9Tb/UIepsPI72Sl89mCo6VtVnANhcdByCLR+EkJjrE4nUmYqsEQkcGUuNQsx7//btFhocAt0fBNCK1udTI7kLIB1b8KmdyB7A9gjzKLZrZ+Emlq3VsonFVgiEnjS5sLyeyFnIwRFQJM7ocNrYA+zOpkcaec8+HsUZP4CbidENYLEl6DZPWAPtzqdyBlRgSUigSNlEqx8HPK2QXAlaDkM2v0P7GoQ6jdy0+DvZ2D7V1CYaea/1b8J2jwJlRtZnU7EY3QXoYiFjrUml5witwvWvAxTa8Dim828nXaj4Ib9kDhGxZU/cBbA2ldgViv4Ot50Wo9uCRfMgN6Z0OWDUsWVxoUEAp3BErGQOrmfAWcx/Pkf2PAmOLIhvA50fh+aDLY6mYBZlTn9O1g9FjIXmUI4MgHOfh6a3Q/Bkcf9qMaFBAIVWCIW6t+/v9URyp+i/fDbvZA6DdyFUKkpdJgCda+yOpkA7FsDq0dB2iwoOgBhVaHBbdD6cajcsEy70LiQQKACS0TKh+yNsOz/YNd8wA1VO5j15qp1sDqZFO0zy9ZsnQJ5WyE4CqpfCC0fgVoXW51OxBIqsETEv+1cAMkPml5WNjvUuQI6vw2R8VYnq9icBbDpA9j4Huz7E4KCIaYttP2PaYdhD7U6oYilVGCJWGjhwoV066Y+P8e04T1Y9QzkbYegSGh8F3R48YRzd8TLXE7YMQPWvQ6ZS8DtMPOq2j4FzR7yWONWjQsJBCqwRCw0ZswY/UNyJGch/PFv2Pg+OPZDWA0463loORSC7Fanq7h2L4a1L8KuH8CRB6FVodFAaDUcKjXw+OE0LiQQqMASsdCUKVOsjuAfcrfC8och7RtzVqRyUzh7AtS7zupkFdf+tbDmBdgx08yxskeYy7MtHoG4c7x6aI0LCQQqsEQsFBlZwS937ZoHKx41c3gAal4EHV+DmFbW5qqocreZflWpn0PBLrMgdo0LoPkDUOdKsPmmdWKFHxcSEFRgiYhvuZyw7mVY8xIUpIM9ChoPhvYvQUglq9NVPAUZsO4N2PqpKbBsQNVOcNYoaNDPrOEoIqdMBZaI+EZhFqx4GLZNA2cuRNSFxFegxQM+OzMiBxXtgw3vmo7qOZvBVQSxidD+EWg8EIIjrE4oUu7pbzURCw0bNszqCN6XsQS+6wrTqkPKp+by3yULoNd2aPmQiitfKcoxd//NPgu+qgN/PG7aXrQdCX32wZXLofm9flFcVYhxIQFPZ7BELJSQkGB1BO9wu2DNq7DuRchPA3ukWdC3/QsQUcvqdBVHcR6kfGzuyjywBpz5ULk5tHrMLFcTVs3qhMcUsONCKhQVWCIWeuCBB6yO4Fm52+H3oebOM2e+uQzY/mUzSVpnqnzDUQBbJsKm983NA66Dywk1fxia3QuRdaxOeFIBNy6kQlKBJSJnbvtM+ONJ2P+3+blaF9MU1Mu388tBzkLYPAE2fwh7k82NBJUampYKTe+GKJ0REvE1FVgicnqKc+HPEbDlIyjaA8Ex0OQuSBwDIZWtThf4HHmw+SPY8jFkrQDsEBUPzR+Fpnd5pQGoiJSdCiwRC61du5YWLVpYHePUZCyDlcPM5HWKoXIL6PAaNLzJ6mSBrzjbXPpLmQx7V5rLrpHx0HI4NL0HoupZndAjyuW4EPkHFVgiFho+fDgzZsywOsbJuYph1Quw4U0o2AFBERB/NbR/BSrVtzpdYCvaCxvehq1fHLwEa4Oo+maietN7IbK21Qk9rtyMC5ETUIElYqE33njD6ggntm+1mbS+cx64C83CvmePhRZDtDagN+Wlw8a3IfULyN4EuCC6JbR+0kxUD4+zOqFX+f24ECkDFVgiFvLL29FdDtPZe+0rkL8VgsKhxvmQ+CJUbWd1usB1YCNsfA+2TTWtLdwO0/zzrGehyd0QGmN1Qp/xy3EhcopUYImIsW8trBwOO+eCq8C0WGj7jJnfExxmdbrAlJVs5lTt+Aby0wEbVOsErYZDwwEQrDX5RMorFVgiFZmrGNa+Butfh7ytEBQG1c+Ds0ZDXEer0wWmnfPN5b9dP0PhTnP3ZbUO5ve8fh8I0l/LIoFAnf9ELDR69GhrDrxnJcy7Ej6rDCuHmstRbZ81S6Zc8qOKK09yOWHrVJh3OXxRDeZdDLvmQ1xnuOg76Hvw97zhjSquDrJsXIh4kEaziIXy8vJ8dzBHPqwebZZNOXQnYM0L4eznoWqi73JUBEXZZiHlrZNNjyqXAyJqQ71e0PgOqH6u1Qn9mk/HhYiXqMASsdDIkSO9f5Cd8+HPp2DPr+AuhsiGcPaLZvkae4j3j19R5G4zbSx2zIYDq8AWCpF1zRI1jQdCdDOrE5YbPhkXIl6mAkskEBVmwZ//gZTPoHgPBFeCuknmbFV0E6vTBQa3G/Ysg03jIe1bM0ndHgrRraHdc9B4UMC3UxCR41OBJRIo3G5I+QRWv1CyJmB0K+jwMjQaYG22QOEshG1fw9ZJkPGzWS7IHn7wxoDnIKEPBEdYnVJE/IAKLBELZWZmEhd3hmc59q6CP5+AnT+CMxdCq5llU9r9F8KqeiZoRZa/G1ImwtbPYf9qcOZBeG2oc7WZT1XjfLNkjXiMR8aFiMVUYIlYaNCgQae3JEhRNqwZYxb7zd9u5vvEdYF2z0DNCzyes8LJ+t0sorx9prkhwFVkzgY2/T9oejdUbmx1woB22uNCxI+owBKx0NNPP31qH9g6FVY/D/v+MK0VohqZpWua3w92NQM9bU4HpM2CTR+YmwEKMyC4MsSeBa2GQf3+EBptdcoK45THhYgfUoElYqH27duf/E0H1sLKJyF9DjizTWPKBjdBu2chSkuKnLa8HZDyqVnvb/8ac+kvoi7U7A6N74Tal1qdsMIq07gQ8XMqsET8UdE+WD0GNn8MBelgs0PcudDmP1D7MqvTlV+7FsHm92H3L5C7GeyRUKkBtHgEGt6iVgoi4jEqsET8hctp5v2se8VMpna7oVJDSBwDzR4wLQDk1BQdMM0+U78wLRUcORAaC1U7mmI1oQ+ERFmdUkQCkAosEQuNHz+ewde2gL+fhd0LzGTq0Fhzd1rrJyCqntURy5+sP2DTe7BzHuSsNzcAhNeEBgPMAspx54DNZnVKOYHx48czePBgq2OInBEVWCJWyEmBv5+hb/Ak+KHQXKqq2d2cVane1ep05YsjF1KnmrNUGYvMz/ZwiE2EJndAw9sgvJrVKeUUJCcnq8CSck8FloivOHJh1Wgzryp/K9hCqFy9dcn8H51VKRu3G/b9BZs/hPS5kLMB3EB4DYjvZW4AqNldCyeXY+PGjbM6gsgZ099AIt7kcsCmD2HDG7Dvb8ANkQnQ5mlTWIVWtjph+VCcbc5QbZsGGUvMHX82O8S2h7ZPQ6PBEFHD6pQiIoepwBLxhh3fwernIHMZuAshNM6sTdf2abMAsJyY2wV7lps2CmnfQe5WwAHhdaDuNdDoNqhxoc5SiYjf0t9OIp6SlQx/PWMmVzuzwV7J9FJqMwLiOlmdzv8VZsGWT2HHDMhafvAsVQhU7WDmUjW6zVwGFBEpB1RgiZyJnFT4a6QpCooyzR1r1TpCq8cgPumkH09KSqq4S4K4imHnT5D6GeycCwW7zbZKjaDe9dBooJnwr3X+KpwKPS4kYKjAEjlV+Rmw9gVImQT5O4AgiGltOqs3GQxBIWXe1f333++9nP4oewtsmQBps+HAGnDkQ3Al00S19ZNQvy+ExlidUixW4caFBCQVWCJlUZwL6143XcBzUgCnWQew7TPQ8lEIjjyt3fbo0cOjMf1OcTakfgnbv4LMReZntwuqtDbL0TQaCLFtrU4pfibgx4VUCCqwRI7HWQyb3oX1b0P2OrO4cngtaP4gtHpcd60di8sBGYtN9/T0uZC3HdzFEFEHal4EDW6B2leoK72IBDwVWCJHcrvMpb+1r8D+v8ycoNBq0PBWaP0vqNzY6oT+58BmSJlgFqPed/D3zB5mJqc3+z9ocDNE1LI6pYiIT6nAEnG7YduXsOZl2LvcLFcTEm2aVrZ+AmLbee3Q06dPp2fPnl7bv1cU7YOtn8P2GbBnqbnsZ7NB5ebQeDA0vB2qnq3GqXLayuW4EPkHFVhSce2YDWtehD1LwFkAwVFQq4e5/FfDN8vVTJ482f//IXEVQ9r35rJf5hLISwXspmVC7Sug/g0HL/uFWZ1UAkS5GBciJ6ECSyqW9B9hzRizZp0zD+wRENcNWg2D2pf5PM5nn33m82OWScZSSPkEdv9s7vYjCEIqQ7XO0OJRaHiTWZRaxAv8dlyInAIVWBL4di44WFT9bNYDDAqDaudAy0eg7rW6lAWwfzVs/QLSvoEDa8GRDcHREN0cWj8FDW6E6KZWpxQRKTdUYElg2r0QVo+G3QvAkQNBoRDbAVo8BAl91LwybwekTjNr++1fbZqk2qMgqj40utP8HlU/R79PIiKnSQWWBI7dC2HV8wfPVGWbZVZiE6HFEEjoC0F2qxNa59DE9LRZkPkrFO83bSeiGkKdK6FBf6h16Sk1SRURkeNTgSXl2+5FsOo5yPjFFFWEmDvYmj0ADW7y+6Jq4MCBfPjhh57fcXEu7JhlzlBlLob8XYDL9KOq3hUS+plFk0Mqef7YImfIa+NCxIdUYEn5s2sBrH7enLFy5pj1/6q0g+aHiqry85+1xzpWOwrMen5bJ0PmMshLAexm2ZmqnaH11WYZmrBqnjmeiBepk7sEgvLzL5FUbGlzzUT1zCXgzDVzqqqcBU3vN3e0laOi6kj9+/c/vQ86C02n9O3TzTyz/B3gzIfQOKjSFprda85SRdX1bGARHzjtcSHiR8rnv0oS+Nxu06dq7YuQuRRc+ebuvypnQ/OHzNkYP7/851EuJ+yaD6lTzJm73BTTnyokGmJamQaf9XrrTj8RET+hAkv8S+pUs0zN3mTT/DMoDKq2h+ZDTEPLisJZZHpQbZtmLonmbDRFZ3CEOUOVcIO5HBrT0uqkIiJyDCqwxFouB2z+BDaOg71/grsIgsJNn6oWD0N8UkD3qVq4cCHdunUzvw+7foJtX5jHvO2mEWpIDFRqCq3+Zc5QxbYN6N8PEThiXIiUYyqwxPecRbDxPdj4DuxfCxSbHkw1zoeWw6B2j8AvIpyFkP4jufP+D/ZGQM5ms90eZs5K1esN9W/06jqIIv5qzJgxKrCk3FOBJb5RnAPrXoPNEyB3E7idplN47cug9b+gRoD/ZeoshPTvTXPPzIWQlw6ufHq0rAIhNaDVcDMpvUqbwC8uRU5iypQpVkcQOWMqsMR7CjJgzVhImQL52wEXhMRCfG+zoHK1RKsTek9xjulDtWMGZCyB/G1AkFn7sEpraHAzJPTDVqW11UlF/E5kZKTVEUTOmAos8aycFFg1yhQWBbvMttBqUP9maPMkxDSzNJ7XFGTC9lmw4yvISob8nYATQqtCdAtocqe57BfT3OqkIiLiAyqw5MxlrTRL1OycC8VZZlt4bdNNvfVjpnt4oMnbZi73pX0Le1dC0V6z9ExYHMQcbHqa0A8q1bc6qYiIWEAFlpye9B/NYsqZS0w3dewQWQ+a3gUtH4ewGKsTeta+NaYH1c4f4cAaKMoyHeRDY6FaB6h7HdRNgsjap7TbYcOG8cILL3gptEj5pHEhgUAFlpSNy2nmUm143ZyxcheCLRgqN4FGd5jO4cERVqf0DLcLMhbDtqmmZULOZnDkgM0OEfFQozvE94L4a81SNGcgISHBI5FFAonGhQQCFVhyfI4C2PAmbHofsjeYS2BHrvvX8BawBVmd8sw5Csylvh3TzYT03K2myLLZoFJD09Qz/jrTPsIe7tFDP/DAAx7dn0gg0LiQQKACS0oryII1oyFl8sE7/9wQFAHVD/aoqnul1QnPXN5O2D4N0r4zHeMLdoEbc4df5SbQ7D5I6GOanVak5XhERMRjVGAJ7N8Aq56FtNlQtMdsC44x84paPwlxHazNd6b2/Q1bp8CueXBgrZmQTpCZPxXdEprcA/VugCotrE4qIiIBQgVWRbXrJ1j9POxaCK5csy20BjQabNopVGpgZbrT5yyA9HlmDb/MxZCXapacsYVAeE2odp6ZO5XQB8KqWp2WtWvX0qKFCjuRI2lcSCBQgVVRuN2w5RNY9yrs+8us+UcQRMZD/Qeh9eMQGm11ylOXv/Ngu4RvYN8fprmpu9hc1oyqb5abie8FtS/1+PwpTxg+fDgzZsywOoaIX9G4kECgAiuQOfJhzUuw+QMzcRunOZNTuSk0uRea3gn2UKtTlp3LCXt+O7gg8gLI3giO/ea1kFio3BwaDYSEvlClfCyK/MYbb1gdQcTvaFxIIFCBFWhyd8BfT8P2GVC022yzhUHcOdBiGCT0tDTeKSnMgu0zzZIzWb+Zs1XuQggKgbCaUONCqHs11OsF4dWtTntadDu6yNE0LiQQqMAKBBm/wt/PmnlVh+ZTBUdD7WvhrBFQtZxMUt+z3Fzu2zUPDqw/eHbKZvprRTaAJoMg/gao2c0UWSIiIn5KBVZ5lTIFVr9g5lNRbLaFxkF8f2j3NETWtTLdyRXug+3TIW2WKazyd5q5UwBh1aFae6h9BdTrA5UbWptVRETkFKnAKi+K82HNi7B5vLkzDhdmkno9M++o5VAIibI65fFlLjl4dmo+5GyC4oNzp+yRZqJ9g5ug3vVQ+zKwh1mb1YdGjx7NY489ZnUMEb+icSGBQAWWP8vbAX/8x8ynKj7Yn8oWAjFtoMUj0OhW/5zInbcDtk3/x519DsAGodUgtr3pip7Qr8KfncrLy7M6gojf0biQQKACy99kLIM/njBnfFwH/5IJioDq3aHdU1DzIkvjHcVRCDvnmL5TGUvN2TVXgXnNHglRCVDnatMqodalYNfcqSONHDnS6ggifkfjQgKBCiyrud2w+VNY87zpMo7TbA+Jhvgbod2zEN3E0oiHud2QtQJSv4RdP8CBDeDYd/DFYHMnX43zoc61kHA9RNaxNK6IiIhVVGBZwVFolqbZ9CEUpJVsD6sJDW6Btk/5R9PPnK1m3tTOb81yMwUZmALQBvbKULmxOaNWvy9U6+yflytFREQsoALLV3LT4feh5q45x4GDG20Q1RiaPQTN74OgIOvyFe6F7V+bX3t/h4Kd4Co0Ge3hEF4HErqbieh1rvLvCfXlSGZmJnFxcVbHEPErGhcSCFRgeVPmb5D8KOz59eDSNAAhZpJ3m5FQ7xprcjkKzMLO276ErGWQux1c+QdfDIbwOKhxAdS+xlzqi4q3JmcFMGjQIC0JIvIPGhcSCFRgeVrKZ/DnCMhZD7jNNlsY1LwMEsdC1Xa+zeNyQPpc2DYVMpZAbmpJM1KCICQGYtuZCegJ/SC2rW/zVXBPP/201RFE/I7GhQQCFVhnyu2Cv0fD+legcHfJdnsliE+CDq+aM0K+4HKYbu5bP4fMhZBzZDF1MFPlRlD9AjNvqvp5EGT3TTY5pvbt21sdQcTvaFxIIFCBdTocBbD8IUiZBK6cku0hsdBoEJz1XwgO924GlwN2/ghbPzMtHfK2gTOPw2fNgiLMpb248yDhBtPAU8vLiIiI+IQKrLIq2ANLbof0OUBRyfbQGtBqOLR8xHt30R2aM5U6DfYsg/ztJb2mwFyCjKhr7uRLuAHqXAkhEd7JIiIiIielAutEclJhUX/YsxSzNM1B4fFw9nPQaIDnj1m4z8yX2j4dslZCUQa4jijogsIhvJYppur1gfhrzGLIUi6NHz+ewYMHWx1DxK9oXEggUIH1T/s3wS+94MBfpbdHNoCO4yD+Ks8d68BG2PIJ7PweDqw/uD6fs+T1oHCIiIdq55g5U3WuAnuo544vlktOTtY/JCL/oHEhgUAFFkD2NvjpCsheXXp7RAKcMx7qXHpm+3c6IO172DrJtGzISwN3AYfnS4FZVqZSI9MJvX5/qHUx2CzsiyU+MW7cOKsjiPgdjQsJBJYUWIWFhfTr1481a9YQERFBjRo1eOutt2jcuLHvQhTlwQ8XwL4VpbeH1oIuH0Pdy05vv/vWwZYJZq5WzkZwZFPq8iJAcDRUagY1LzULNsf6uHWDiIiIeJVlZ7DuuecerrjiCsD838odd9zB/PnzvX/gJXfBlvdKbwuKhE7vQONbyr6fvHTY/BFsnwHZx7i8B4AdQqtBlbZQtxc0vBnCY8/wC4iIiIi/s6TACgsLO1xcAZxzzjmMHTvWewcsLoQvqgAFpbc3ugvOfefEn838A7Z8ALvnQU4KOHMpdWnvkKAIcydfrYuh4a1Q4zwPhRcREZHyxi/mYL366qv07NnTOzuf9I/WCUGVoefW0meSdi8zZ6MyFkBe6vGLKACCIawaVOsI9QdAvZ4QHOad7BLwkpKStCSIyD9oXEggsLzAeu6559i8eTPvvffeyd98qpY8fPQ2VzZ8WbUMH7ZDWBzEdoCGA6BebwhWo07xrPvvv9/qCCLM3xlRAAAGeUlEQVR+R+NCAoHPblObOHEiiYmJJCYmMmHCBADGjh3L9OnT+fbbbwkPP3Hn86uuuoqkpKRSv7p06cL06dNLvW/OnDkkJSWZH1qXFFhut/l1JBeQW2SjMKoNtHoKrkuDm9yMWPcUo7f9D3rvhIu/gYY3kpqWTlJSEmvXri21j9dff51hw4aV2paXl0dSUhILFy4stX3y5MkMHDjwqO/Wr1+/E3+PI9x3332MHz++1Lbk5GSSkpLIzMwstX3EiBGMHj261LbU1FR9Dz/6Hi1atAiI7xEofx76Hv7xPXr06BEQ3+MQfY/A+h6TJ0+mQ4cOJCQkHK5HhgwZclROm9v9z7LDN1566SUmTZrEDz/8QJUqVY77vuTkZDp06MCKFSu0PpWIiIj4nWPVKpZcIty+fTtDhw6lcePGXHTRRQCEh4ezZMkSK+KIiIiIeJQlBVZ8fDwul+vkbxQJcNOnT/feDR4i5ZTGhQQCtQoXsdA/5waIiMaFBAYVWCIWql69utURRPyOxoUEAhVYIiIiIh6mAktERETEw1RgiYiIiHiY5Z3cy2rNmjVWRxDxuGXLlpGcnGx1DBG/onEh5c2xahTLGo2WVXp6Ov3792fBggVWRxERERE5pgsvvJDJkydTu3ZtoBwUWGCKrPT0dKtjiIiIiBxT7dq1DxdXUE4KLBEREZHyRJPcRURERDxMBZaIiIiIh6nAEvGywsJCevbsSfPmzTn77LPp0aMHmzZtOuZ7U1JSsNvtJCYmHv61ZcsWHycW8b4NGzbQtWtXmjdvTufOnVm9evUx3zdr1ixatmxJs2bN6N27N9nZ2T5OKnJ6NAdLxMsKCwuZP38+V1xxBQDjxo1j6tSpzJ8//6j3pqSkkJiYyN69e30dU8SnLr74Ym6//XZuvfVWpk2bxujRo1m2bFmp9+Tk5NCkSRN+/vlnmjVrxgMPPEBERARjxoyxKLVI2ekMloiXhYWFHS6uAM455xxSUlKsCyRisd27d7NixQpuueUWAK6//nq2bdvG5s2bS73v22+/pX379jRr1gyAe++9l8mTJ/s8r8jpUIEl4mOvvvoqPXv2PO7rubm5dOzYkQ4dOvDss8/icrl8mE7E+7Zt20bt2rUJCjL/BNlsNhISEkhNTS31vtTUVBISEg7/XL9+fdLT0zUmpFxQgSXiQ8899xybN29m1KhRx3y9Tp06pKWlsXz5cn744Qd++eUXXnzxRR+nFPEPNpvN6ggip00FlogXTJw48fAk9QkTJgAwduxYpk+fzrfffkt4ePgxPxcaGkpcXBwAsbGxDBo0iF9++cVnuUV8oV69eqXORLnd7qPOVgEkJCSwdevWwz+npKSUOvMl4s/0X6mIFwwYMIDff/+d33//ndtuu42XXnqJKVOmMGfOHKKjo4/7uYyMDIqLiwEzOX7atGm0b9/eV7FFfKJGjRq0b9+eiRMnAjBt2jTq1atHo0aNSr3v8ssvJzk5mXXr1gHw5ptv0r9/f5/nFTkduotQxMu2b99OQkICjRs3plKlSgCEh4ezZMkSAEaMGEGdOnW4++67+fLLLxkxYgR2ux2Hw8Ell1zC2LFjCQkJsfIriHjc+vXruf3229mzZw8xMTF8+OGHtG7dutR4AJg5cybDhw/H4XDQtm1bJkyYQOXKlS1OL3JyKrBEREREPEyXCEVEREQ8TAWWiIiIiIepwBIRERHxMBVYIiIiIh6mAktERETEw1RgiYiIiHiYCiwRERERD1OBJSIiIuJhKrBEREREPEwFloiIiIiHqcASERER8TAVWCIiIiIepgJLRERExMOCrQ4gIuIL+/bt49133yU4OJht27Zx/vnns2XLFlauXMnEiROtjiciAUYFlohUCO+88w5Dhw7FbrfTtGlTWrVqRcuWLXnttddwu93YbDarI4pIALG53W631SFERLzJ5XKRnJxMx44dycvLo2rVqqSnpxMbG2t1NBEJUJqDJSIBLygoiI4dOwKwePFimjdvruJKRLxKBZaIVAiHTtb/9NNPXHDBBYe3L1myxKpIIhLAVGCJSMD7/PPPadmyJW63m6+++orGjRsDprjKz8+3OJ2IBCLNwRKRgLd06VLeeOMN2rRpQ7du3Xj33Xfp2rUr0dHR3HTTTVbHE5EApAJLRERExMN0iVBERETEw1RgiYiIiHiYCiwRERERD1OBJSIiIuJhKrBEREREPEwFloiIiIiH/T9eO9kpMgACpgAAAABJRU5ErkJggg==\" />"
      ]
     },
     "execution_count": 55,
     "metadata": {},
     "output_type": "execute_result"
    }
   ],
   "source": [
    "scatter(CI_1_1[1,:], CI_1_1[2,:], markersize=(1), markercolor=:blue, label=(\"Cond. Iniciales\"))\n",
    "scatter!(CI_1_2[1,:], CI_1_2[2,:], markersize=(1), markercolor=:green, label=(\"Primer iterado\"))\n",
    "scatter!(CI_1_3[1,:], CI_1_3[2,:], markersize=(1), markercolor=:orange, label=(\"Segundo iterado\"))\n",
    "#scatter!(CI_1_4[1,:], CI_1_4[2,:], markersize=(1), markercolor=:red, label=(\"Tercer iterado\"))\n",
    "title!(L\"Mapeo de Hénon $a = 1.4$, $b=-1$\")\n",
    "xlabel!(L\"x\")\n",
    "ylabel!(L\"y\")"
   ]
  },
  {
   "cell_type": "code",
   "execution_count": 50,
   "metadata": {
    "collapsed": false
   },
   "outputs": [
    {
     "data": {
      "text/plain": [
       "4-element Array{Float64,1}:\n",
       " 3.14094\n",
       " 3.13862\n",
       " 3.12373\n",
       " 3.16609"
      ]
     },
     "execution_count": 50,
     "metadata": {},
     "output_type": "execute_result"
    }
   ],
   "source": [
    "areas_b__1 = Float64[]\n",
    "\n",
    "for i in 0:3\n",
    "    \n",
    "    a = find_area(itera_parametrizacion_henon(i), t_rango, 1000000, 1.4, -1)\n",
    "    push!(areas_b__1, a)\n",
    "    \n",
    "end\n",
    "\n",
    "areas_b__1"
   ]
  },
  {
   "cell_type": "markdown",
   "metadata": {},
   "source": [
    "| Parametrización       | Área           |\n",
    "| ------------ |:-------------:| \n",
    "| Círculo      | 3.14094 | \n",
    "| 1º iterado      | 3.13862     |  \n",
    "| 2º iterado | 3.12373  |  \n",
    "| 3º iterado | 3.16609 |\n",
    "\n",
    "Se usaron un millón de puntos para medir cada una de las áreas. Se puede apreciar que el area de los iterados se mantiene cercano al valor $\\pi$."
   ]
  },
  {
   "cell_type": "markdown",
   "metadata": {},
   "source": [
    "- ### Área para $b = 0.3$, $a=-1.4$."
   ]
  },
  {
   "cell_type": "markdown",
   "metadata": {},
   "source": [
    "Para estas constantes se espera que el área sí se contraiga. La siguiente gráfica ya "
   ]
  },
  {
   "cell_type": "code",
   "execution_count": 58,
   "metadata": {
    "collapsed": false
   },
   "outputs": [
    {
     "data": {
      "text/plain": [
       "2×6284 Array{Float64,2}:\n",
       " -0.740886  -0.743962  -0.747041  …  -0.734175  -0.737244  -0.740317\n",
       "  0.3228     0.323136   0.323472      0.322066   0.322402   0.322738"
      ]
     },
     "execution_count": 58,
     "metadata": {},
     "output_type": "execute_result"
    }
   ],
   "source": [
    "t_rango = 0:0.001:2π\n",
    "CI03_1 = condiones_iniciales_2D(σ, t_rango, 1.4, 0.3)\n",
    "CI03_2 = iterator(Henon, CI03_1, 1.4, 0.3, 1)\n",
    "CI03_3 = iterator(Henon, CI03_2, 1.4, 0.3, 1)\n",
    "CI03_4 = iterator(Henon, CI03_3, 1.4, 0.3, 1)"
   ]
  },
  {
   "cell_type": "code",
   "execution_count": 60,
   "metadata": {
    "collapsed": false
   },
   "outputs": [
    {
     "data": {
      "text/html": [
       "<img src=\"data:image/png;base64,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\" />"
      ]
     },
     "execution_count": 60,
     "metadata": {},
     "output_type": "execute_result"
    }
   ],
   "source": [
    "scatter(CI03_1[1,:], CI03_1[2,:], markersize=(1), markercolor=:blue, label=(\"Cond. Iniciales\"))\n",
    "scatter!(CI03_2[1,:], CI03_2[2,:], markersize=(1), markercolor=:green, label=(\"Primer iterado\"))\n",
    "scatter!(CI03_3[1,:], CI03_3[2,:], markersize=(1), markercolor=:orange, label=(\"Segundo iterado\"))\n",
    "#scatter!(CI03_4[1,:], CI03_4[2,:], markersize=(1), markercolor=:red, leg=false)\n",
    "title!(L\"Mapeo de Hénon $a = 1.4$, $b=0.3$\")\n",
    "xlabel!(L\"x\")\n",
    "ylabel!(L\"y\")"
   ]
  },
  {
   "cell_type": "code",
   "execution_count": 49,
   "metadata": {
    "collapsed": false
   },
   "outputs": [
    {
     "data": {
      "text/plain": [
       "4-element Array{Float64,1}:\n",
       " 3.14235 \n",
       " 0.944106\n",
       " 0.282282\n",
       " 0.088815"
      ]
     },
     "execution_count": 49,
     "metadata": {},
     "output_type": "execute_result"
    }
   ],
   "source": [
    "areas_b_03 = Float64[]\n",
    "\n",
    "for i in 0:3\n",
    "    \n",
    "    a = find_area(itera_parametrizacion_henon(i), t_rango, 1000000, 1.4, 0.3)\n",
    "    push!(areas_b_03, a)\n",
    "    \n",
    "end\n",
    "\n",
    "areas_b_03"
   ]
  },
  {
   "cell_type": "markdown",
   "metadata": {},
   "source": [
    "| Parametrización       | Área           |\n",
    "| ------------ |:-------------:| \n",
    "| Círculo      | 3.14235 | \n",
    "| 1º iterado      | 0.944106    |  \n",
    "| 2º iterado | 0.2822282 |  \n",
    "| 3º iterado | 0.088815 |\n",
    "\n"
   ]
  },
  {
   "cell_type": "markdown",
   "metadata": {},
   "source": [
    "## Mapeos en 2D\n",
    "### Estabilidad de puntos fijos"
   ]
  },
  {
   "cell_type": "markdown",
   "metadata": {},
   "source": [
    "Un mapeo en dos dimensiones se puede caracterizar, al igual que un mapeo en una dimensión, con la estabilidad de sus puntos fijos, sus órbitas periódicas y otras propiedades que dependen de los parámetros del mapeo. \n",
    "\n",
    "Sea $f(\\vec{x},\\alpha)$ un mapeo en dos dimensiones, con $ \\vec{x}=(x,y)$  y $\\alpha$ un conjunto de parámetros de los que depende el mapeo.\n",
    "\n",
    "Los puntos fijos serán aquellos que satisfagan\n",
    "\n",
    "$$f(\\vec{x}^*,\\alpha)=\\vec{x}^*$$\n",
    "\n",
    "Para mapeos lineales de la forma \n",
    "\n",
    "$$f(\\vec{x})=A\\vec{x}$$  (con A una matriz de $2\\times2$) se tiene que sus puntos fijos son los que satisfacen \n",
    "\n",
    "$$A\\vec{x}^*=\\vec{x}^*$$\n",
    "\n",
    "ó bien \n",
    "\n",
    "$$ (A-I)\\vec{x}^*=0$$\n",
    "\n",
    "Si $(A-I)$ es no singular, entonces $\\vec{x}^*$ es el unico punto de equilibrio del sistema, pero si $(A-I)$ es singular, hay una familia de puntos de equlibrio. En tal caso se define\n",
    "\n",
    "$$\\vec{y}=\\vec{x}-\\vec{x}^*$$ \n",
    "\n",
    "y se obtiene un nuevo mapeo \n",
    "\n",
    "$$f_y(\\vec{y})=A\\vec{y}$$ \n",
    "cuyos puntos de equlibrio satisfacen\n",
    "\n",
    "$$\\vec{y}^*=A\\vec{y}^*$$\n",
    "\n",
    "Así las ropiedades de estabilidad de un punto de equilibrio $\\vec{x}^*\\neq 0 $son las mismas que las de un punto de equilibrio $\\vec{x}=0$. Sea\n",
    "\n",
    "$$J=P^{-1}AP$$\n",
    "\n",
    "la forma canónica de Jordan de A. Sea también \n",
    "\n",
    "$$\\vec{y}=P^{-1}\\vec{x}$$\n",
    "\n",
    "Entonces el sistema original se transforma a \n",
    "\n",
    "$$f_y(\\vec{y})=J\\vec{y}$$ \n",
    "\n",
    "\n",
    "Hay tre posibles formas canónicas de Jordan que se pueden tener, como vimos en clase. Estas formas son:\n",
    "\\begin{equation*}\n",
    "\\left( \n",
    "\\begin{array}{cc}\n",
    "\\alpha & -\\beta \\\\\n",
    "\\beta & \\alpha \n",
    "\\end{array} \n",
    "\\right), \n",
    "\\left( \n",
    "\\begin{array}{cc}\n",
    "\\lambda & 1 \\\\\n",
    "0 & \\lambda \n",
    "\\end{array} \n",
    "\\right),\n",
    "\\left( \n",
    "\\begin{array}{cc}\n",
    "\\lambda & 0 \\\\\n",
    "0 & \\mu\n",
    "\\end{array} \n",
    "\\right),\n",
    "\\end{equation*}\n",
    "donde $\\alpha, \\beta, \\lambda$ y $\\mu$ son reales, con $\\beta\\ne 0$ y $\\mu\\ne\\lambda$. En esta forma, los elementos de la diagonal son los eigenvalores, excepto para la primer matriz, cuyos eigenvalores son $\\alpha\\pm i \\beta$.\n",
    "\n",
    "Para el caso general en que el mapeo $f(\\vec{x},\\alpha)$ no es lineal, se puede linealizar con la matriz jacbiana $J_b$ y así estudiar localmente el comportamiento alrededor de los puntos fijos del mapeo.\n",
    "\n",
    "Por ahora estudiemos el caso en el que los eigenvalores son dos reales distintos. \n",
    "\n",
    "Cuando se tienen dos eigenvalores reales distintos, los puntos fijos pueden ser:\n",
    "\n",
    "- Puntos fijos aasíntoticamente estables: $\\lambda_1\\lt\\lambda_2\\lt1$\n",
    "- Puntos fijos  inestables: $\\lambda_1\\gt\\lambda_2\\gt1$\n",
    "- Puntos fijos silla: $0 \\lt \\lambda_1 \\lt 1, \\lambda_2\\gt1$\n",
    "- Puntos fijos degenerados: $\\lambda_1=1, \\lambda_1 \\gt \\lambda_2$\n",
    "- Punto fijo estable:$-1\\lt\\lambda_1\\lt 0 \\lt\\lambda_2\\lt1$\n",
    "- Punto fijo estable: $-1\\lt\\lambda_1\\lt\\lambda_2\\lt0$\n",
    "- Punto fijo silla: $\\lambda_1\\lt -1 \\lt \\lambda_2 \\lt 0$\n",
    "- Punto fijo silla: $\\lambda_1\\lt -1$ y  $ 0\\lt\\lambda_2 \\lt 1$\n",
    "- Punto fijo silla: $-1\\lt\\lambda_1\\lt 0$ y  $ 1\\lt\\lambda_2$\n",
    "\n",
    "Nota: Los puntos fijos silla son inestables.\n",
    "\n",
    "Esto lo usamos  para estudiar los puntos fijos del  **mapeo clásico de Hénon** que  está definido por \n",
    "\n",
    "$$ \\begin{array}{cc}\n",
    "x_{n+1}=& 1-ax^2_n+y_n \\\\\n",
    "y_{n+1}= & bx_n \n",
    "\\end{array} $$\n",
    "\n",
    "\n",
    "La matriz jacobiana de este mapeo es:\n",
    "\n",
    "\\begin{equation*}\n",
    "J_b=\\left( \n",
    "\\begin{array}{cc}\n",
    "-2ax & 1 \\\\\n",
    "b & 0 \n",
    "\\end{array} \n",
    "\\right)\n",
    "\\end{equation*}\n",
    "\n",
    "Sus eigenvalores están dados por \n",
    "\n",
    "$$\\lambda_{\\pm}=-ax\\pm\\sqrt{(ax)^2+b}$$\n",
    "\n",
    "Estos eigenvalores son reales y diferentes simpre que se satisfaga $b\\gt-(ax)^2$\n",
    "\n",
    "Los puntos fijos del mapeo de Hénon están dados por \n",
    "\n",
    "$$x=\\frac{(1-b)}{2a}\\pm 1/2\\sqrt{(1-b)^2+4a}$$\n",
    "\n",
    "$$y=bx$$\n",
    "\n",
    "Por lo que existen dos puntos fijos en el plano $XY$ para cuando \n",
    "\n",
    "$$a\\gt-1/4(1-b)^2$$\n",
    "\n",
    "y un solo punto fijo en el plano $XY$ si\n",
    "$$a=-1/4(1-b)^2$$"
   ]
  },
  {
   "cell_type": "markdown",
   "metadata": {},
   "source": [
    "Escribamos algunas funciones que nos permitirán estudiar la estabilidad de los puntos fijos del mapeo de Hénon."
   ]
  },
  {
   "cell_type": "code",
   "execution_count": 1,
   "metadata": {
    "collapsed": false
   },
   "outputs": [
    {
     "data": {
      "text/plain": [
       "Henon_map"
      ]
     },
     "execution_count": 1,
     "metadata": {},
     "output_type": "execute_result"
    }
   ],
   "source": [
    "\"\"\"Función que define el mapeo de Henon en 2D\"\"\"\n",
    "function Henon_map(x,y,a,b)\n",
    "    fx=y+1-a*x^2\n",
    "    fy=b*x\n",
    "    return fx,fy\n",
    "end "
   ]
  },
  {
   "cell_type": "code",
   "execution_count": 2,
   "metadata": {
    "collapsed": false
   },
   "outputs": [
    {
     "data": {
      "text/plain": [
       "Fixed_points (generic function with 1 method)"
      ]
     },
     "execution_count": 2,
     "metadata": {},
     "output_type": "execute_result"
    }
   ],
   "source": [
    "function Fixed_points(a,b)\n",
    "    xf1=-(1-b)/(2a)+(1/2a)*sqrt((1-b)^2+4a)\n",
    "    xf2=-(1-b)/(2a)-(1/2a)*sqrt((1-b)^2+4a)\n",
    "    yf1=b*xf1\n",
    "    yf2=b*xf2\n",
    "    return (xf1,yf1),(xf2,yf2)\n",
    "end "
   ]
  },
  {
   "cell_type": "code",
   "execution_count": 3,
   "metadata": {
    "collapsed": false
   },
   "outputs": [
    {
     "data": {
      "text/plain": [
       "Jacobian_henon (generic function with 1 method)"
      ]
     },
     "execution_count": 3,
     "metadata": {},
     "output_type": "execute_result"
    }
   ],
   "source": [
    "function Jacobian_henon(x,y,a,b)\n",
    "    Df=[[-2a*x,b] [1,0]]\n",
    "    return Df\n",
    "end "
   ]
  },
  {
   "cell_type": "code",
   "execution_count": 4,
   "metadata": {
    "collapsed": false
   },
   "outputs": [
    {
     "data": {
      "text/plain": [
       "EigenVals_JacHen (generic function with 1 method)"
      ]
     },
     "execution_count": 4,
     "metadata": {},
     "output_type": "execute_result"
    }
   ],
   "source": [
    "function EigenVals_JacHen(x,y,a,b)\n",
    "    λ₁=-a*x+sqrt((a*x)^2+b)\n",
    "    λ₂=-a*x-sqrt((a*x)^2+b)\n",
    "    return λ₁,λ₂\n",
    "end "
   ]
  },
  {
   "cell_type": "markdown",
   "metadata": {},
   "source": [
    "## Conjutos de Julia"
   ]
  },
  {
   "cell_type": "markdown",
   "metadata": {},
   "source": [
    "Ya que sabemos cómo determinar la estabilidad de los puntos fijos del mapeo de Hénon, pero necesitamos estudiar las órbitas que se obtienen al iterar $N$ veces en el mapeo de Hénon una condición inicial $\\vec{x}_0$. \n",
    "\n",
    "Tal como hicimos en la tarea 2, exploremos una región grande el el plano $XY$ para darnos una idea de cuáles son las condiciones iniciales que al iterarse convergen a alguna órbita acotada en el espacio $XY$ y cuáles otras condiciones \"explotan\" rápidamente después de iterar el mapeo una cantidad finita de veces."
   ]
  },
  {
   "cell_type": "markdown",
   "metadata": {},
   "source": [
    "La siguiente función es un algoritmo que construye el conjunto de Julia para una región en el espacio $XY$"
   ]
  },
  {
   "cell_type": "code",
   "execution_count": 6,
   "metadata": {
    "collapsed": false
   },
   "outputs": [
    {
     "name": "stderr",
     "output_type": "stream",
     "text": [
      "WARNING: Method definition Julia_set_Henon(Any, Any, Any, Any, Any, Any) in module Main at In[5]:14 overwritten at In[6]:14.\n",
      "WARNING: replacing docs for 'Julia_set_Henon :: Tuple{Any,Any,Any,Any,Any,Any}' in module 'Main'.\n"
     ]
    },
    {
     "data": {
      "text/plain": [
       "Julia_set_Henon"
      ]
     },
     "execution_count": 6,
     "metadata": {},
     "output_type": "execute_result"
    }
   ],
   "source": [
    "\"\"\"Función que grafica el conjunto de Julia generado por el mapeo f(z,c), en donde z \n",
    "es la variable en el plano complejo y c el parametro que caracteriza al \n",
    "sistema dinamico z_{n+1}=f(z_n)\n",
    "\n",
    "init_cond =  la malla de condiciones iniciales en el plano complejo \n",
    "\n",
    "m =  numero limite de iteraciones del mapeo\n",
    "\n",
    "R= radio del circulo en el plano complejo que se toma como criterio de divergencia\n",
    "\n",
    "\"\"\"\n",
    "function Julia_set_Henon(a,b,xrange,yrange,maxiter,R)\n",
    "    \n",
    "    mx=length(xrange)\n",
    "    my=length(yrange)\n",
    "    iterandos=zeros(my,mx) \n",
    "    for i in 1:mx\n",
    "        for j in 1:my\n",
    "            x=xrange[i]\n",
    "            y=yrange[my+1-j]\n",
    "                for k in 1:maxiter\n",
    "                x,y=Henon_map(x,y,a,b)\n",
    "                iterandos[j,i]=k\n",
    "                    if sqrt(x^2+y^2)>=R \n",
    "                    break\n",
    "                    end \n",
    "                end\n",
    "        end \n",
    "    end\n",
    "    return iterandos\n",
    "end"
   ]
  },
  {
   "cell_type": "markdown",
   "metadata": {
    "slideshow": {
     "slide_type": "slide"
    }
   },
   "source": [
    "# Caso conservativo "
   ]
  },
  {
   "cell_type": "markdown",
   "metadata": {
    "slideshow": {
     "slide_type": "fragment"
    }
   },
   "source": [
    "En este caso $b=-1$ y $b=1$. Para que existan puntos fijos reales se debe cumplir $a>a_{0}=-\\frac{1}{4}(1-b)^{2}$."
   ]
  },
  {
   "cell_type": "markdown",
   "metadata": {},
   "source": [
    "Para $b=-1$, $a=1.4$ se tiene lo siguiente:"
   ]
  },
  {
   "cell_type": "code",
   "execution_count": 7,
   "metadata": {
    "collapsed": false
   },
   "outputs": [
    {
     "data": {
      "text/plain": [
       "((0.39228095605926205,-0.39228095605926205),(-1.8208523846306908,1.8208523846306908))"
      ]
     },
     "execution_count": 7,
     "metadata": {},
     "output_type": "execute_result"
    }
   ],
   "source": [
    "a=1.4\n",
    "b=-1\n",
    "xf1,xf2=Fixed_points(a,b)"
   ]
  },
  {
   "cell_type": "code",
   "execution_count": 8,
   "metadata": {
    "collapsed": true
   },
   "outputs": [],
   "source": [
    "Jac1=Jacobian_henon(xf1[1],xf1[2],a,b)\n",
    "Jac2=Jacobian_henon(xf2[1],xf2[2],a,b);"
   ]
  },
  {
   "cell_type": "code",
   "execution_count": 9,
   "metadata": {
    "collapsed": false
   },
   "outputs": [
    {
     "data": {
      "text/plain": [
       "2-element Array{Complex{Float64},1}:\n",
       " -0.549193+0.835695im\n",
       " -0.549193-0.835695im"
      ]
     },
     "execution_count": 9,
     "metadata": {},
     "output_type": "execute_result"
    }
   ],
   "source": [
    "λ1,λ2=eigvals(Jac1)"
   ]
  },
  {
   "cell_type": "code",
   "execution_count": 10,
   "metadata": {
    "collapsed": false
   },
   "outputs": [
    {
     "data": {
      "text/plain": [
       "2-element Array{Float64,1}:\n",
       " 4.89406 \n",
       " 0.204329"
      ]
     },
     "execution_count": 10,
     "metadata": {},
     "output_type": "execute_result"
    }
   ],
   "source": [
    "λ3,λ4=eigvals(Jac2)"
   ]
  },
  {
   "cell_type": "markdown",
   "metadata": {},
   "source": [
    "Aquí el primer punto fijo $\\vec{x_1^*}=(0.3922...,-0.3922...)$ nos da una matriz Jacobiana cuyos valores propios son complejos. Notemos que la norma de estos valores propios es "
   ]
  },
  {
   "cell_type": "code",
   "execution_count": 11,
   "metadata": {
    "collapsed": false
   },
   "outputs": [
    {
     "data": {
      "text/plain": [
       "1.0"
      ]
     },
     "execution_count": 11,
     "metadata": {},
     "output_type": "execute_result"
    }
   ],
   "source": [
    "abs(λ1)"
   ]
  },
  {
   "cell_type": "markdown",
   "metadata": {},
   "source": [
    "Este caso corresponde a puntos fijos que se denominan **centros estables**, y dan lugar a órbitas periódicas cerradas en el espacio fase como mostraremos más adelante. "
   ]
  },
  {
   "cell_type": "markdown",
   "metadata": {},
   "source": [
    "El segundo punto fijo correspondiente a $\\vec{x_2^*}=(-1.82085...,1.82085...)$ coresponde a un punto silla inestable ya que ambos eigenvalores son reales y satisfacen un de los criterios arriba mencionados."
   ]
  },
  {
   "cell_type": "markdown",
   "metadata": {},
   "source": [
    "Por tanto el punto fijo en el caso **conservativo**, el punto fijo\n",
    "\n",
    "$$\\vec{x}_1^*=(0.84515...,0.84515...)$$ \n",
    "\n",
    "también corresponde  a un punto silla (inestable).\n"
   ]
  },
  {
   "cell_type": "code",
   "execution_count": 12,
   "metadata": {
    "collapsed": false
   },
   "outputs": [
    {
     "data": {
      "text/plain": [
       "(4.894057231540714,0.2043294454252198)"
      ]
     },
     "execution_count": 12,
     "metadata": {},
     "output_type": "execute_result"
    }
   ],
   "source": [
    "λ1,λ2=EigenVals_JacHen(xf2[1],xf2[2],a,b)"
   ]
  },
  {
   "cell_type": "markdown",
   "metadata": {},
   "source": [
    "Por tanto el punto fijo en el caso **conservativo**, el punto fijo\n",
    "\n",
    "$$\\vec{x}_2^*=(-0.84515...,-0.84515...)$$ \n",
    "\n",
    "también corresponde  a un punto silla (inestable).\n"
   ]
  },
  {
   "cell_type": "markdown",
   "metadata": {},
   "source": [
    "Este tipo de análisis realizado para los conjuntos de parámetros $a=1.4,b=0.3,-1$ se puede realizar para cuales quiera dos pares de parámetros (a,b) siempre y cuando se satisfaga la condición de que existan puntos fijos en el plano complejo. Esta condición como se menciono anteriormente es que hay dos puntos fijos en el plano $XY$ para cuando \n",
    "\n",
    "$$a\\gt-1/4(1-b)^2$$\n",
    "\n",
    "y un solo punto fijo en el plano $XY$ si\n",
    "$$a=-1/4(1-b)^2$$. \n"
   ]
  },
  {
   "cell_type": "markdown",
   "metadata": {},
   "source": [
    "- A continuación se presenta el conjunto de Julia para $b=1.0$ y se varía $a$ de $-1$ a $3$."
   ]
  },
  {
   "cell_type": "markdown",
   "metadata": {
    "collapsed": true,
    "slideshow": {
     "slide_type": "fragment"
    }
   },
   "source": [
    "![](JS_b_p1.gif)"
   ]
  },
  {
   "cell_type": "markdown",
   "metadata": {},
   "source": [
    "Se puede observar que para que existan puntos fijos reales se debe cumplir $a>0$"
   ]
  },
  {
   "cell_type": "markdown",
   "metadata": {},
   "source": [
    "- A continuación se presenta el conjunto de Julia para $b=-1.0$ y se varía $a$ de $-2$ a $4$."
   ]
  },
  {
   "cell_type": "markdown",
   "metadata": {},
   "source": [
    "![](JS_b_m1.gif)"
   ]
  },
  {
   "cell_type": "markdown",
   "metadata": {},
   "source": [
    "Se puede observar que para que existan puntos fijos reales se debe cumplir $a>-1$"
   ]
  },
  {
   "cell_type": "markdown",
   "metadata": {
    "slideshow": {
     "slide_type": "skip"
    }
   },
   "source": [
    "# Caso disipativo"
   ]
  },
  {
   "cell_type": "markdown",
   "metadata": {},
   "source": [
    "En este caso $b\\neq|1|$. Se escogen los parámetros $a=1.4,b=0.3$"
   ]
  },
  {
   "cell_type": "code",
   "execution_count": 13,
   "metadata": {
    "collapsed": true
   },
   "outputs": [],
   "source": [
    "a=1.4\n",
    "b=0.3\n",
    "xf1,xf2=Fixed_points(a,b);"
   ]
  },
  {
   "cell_type": "code",
   "execution_count": 14,
   "metadata": {
    "collapsed": false
   },
   "outputs": [
    {
     "data": {
      "text/plain": [
       "(0.6313544770895047,0.1894063431268514)"
      ]
     },
     "execution_count": 14,
     "metadata": {},
     "output_type": "execute_result"
    }
   ],
   "source": [
    "xf1"
   ]
  },
  {
   "cell_type": "code",
   "execution_count": 15,
   "metadata": {
    "collapsed": false
   },
   "outputs": [
    {
     "data": {
      "text/plain": [
       "(-1.1313544770895048,-0.3394063431268514)"
      ]
     },
     "execution_count": 15,
     "metadata": {},
     "output_type": "execute_result"
    }
   ],
   "source": [
    "xf2"
   ]
  },
  {
   "cell_type": "code",
   "execution_count": 16,
   "metadata": {
    "collapsed": false
   },
   "outputs": [
    {
     "data": {
      "text/plain": [
       "(0.15594632230279393,-1.9237388581534067)"
      ]
     },
     "execution_count": 16,
     "metadata": {},
     "output_type": "execute_result"
    }
   ],
   "source": [
    "λ1,λ2=EigenVals_JacHen(xf1[1],xf1[2],a,b)"
   ]
  },
  {
   "cell_type": "markdown",
   "metadata": {},
   "source": [
    "Por tanto vemos que el punto fijo \n",
    "\n",
    "$$\\vec{x^*_1}=(0.63135...,0.18940...)$$ \n",
    "\n",
    "es un punto fijo silla, que son puntos inestables."
   ]
  },
  {
   "cell_type": "markdown",
   "metadata": {},
   "source": [
    "Para el segundo punto fijo se tiene que los eigenvalores estan dados por:"
   ]
  },
  {
   "cell_type": "code",
   "execution_count": 17,
   "metadata": {
    "collapsed": false
   },
   "outputs": [
    {
     "data": {
      "text/plain": [
       "(3.259822097891452,-0.09202956204083912)"
      ]
     },
     "execution_count": 17,
     "metadata": {},
     "output_type": "execute_result"
    }
   ],
   "source": [
    "λ3,λ4=EigenVals_JacHen(xf2[1],xf2[2],a,b)"
   ]
  },
  {
   "cell_type": "markdown",
   "metadata": {},
   "source": [
    "Por tanto vemos que eel segundo punto fijo correspondiente a \n",
    "\n",
    "$$\\vec{x^*_2}=(-1.13135...,-0.33940...)$$\n",
    "\n",
    "también corresponde a un punto fijo silla (inestable)."
   ]
  },
  {
   "cell_type": "markdown",
   "metadata": {
    "slideshow": {
     "slide_type": "skip"
    }
   },
   "source": [
    "A continuación se presenta el conjunto de Julia para $b=0.3$ y se varía $a$ de $-0.4$ a $3$."
   ]
  },
  {
   "cell_type": "markdown",
   "metadata": {},
   "source": [
    "![](JS_b_03.gif)"
   ]
  },
  {
   "cell_type": "markdown",
   "metadata": {
    "slideshow": {
     "slide_type": "skip"
    }
   },
   "source": []
  }
 ],
 "metadata": {
  "kernelspec": {
   "display_name": "Julia 0.5.0",
   "language": "julia",
   "name": "julia-0.5"
  },
  "language_info": {
   "file_extension": ".jl",
   "mimetype": "application/julia",
   "name": "julia",
   "version": "0.5.0"
  }
 },
 "nbformat": 4,
 "nbformat_minor": 1
}
