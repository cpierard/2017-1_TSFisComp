{
 "cells": [
  {
   "cell_type": "markdown",
   "metadata": {
    "slideshow": {
     "slide_type": "slide"
    }
   },
   "source": [
    "# Mapeo de Hénon"
   ]
  },
  {
   "cell_type": "markdown",
   "metadata": {
    "slideshow": {
     "slide_type": "slide"
    }
   },
   "source": [
    "- Hénon propuso, en 1976, un mapeo en 2D sencillo que exhibiera las propiedades esenciales del sistema de ecuaciones de primer orden acopladas propuestas por Lorentz, con el objetivo de poder estudiar de forma sencilla dichas propiedades.\n",
    "\n",
    "- El mapeo imita una sección de Poincaré del atractor de Lorentz.\n",
    "\n",
    "- El mapeo propuesto es el siguiente \n",
    "\n",
    "\\begin{equation}\n",
    "\\begin{split}\n",
    "    T:\\,&x_{i+1}=y_{i+1}-ax_{i}^{2}\\\\\n",
    "    &y_{i+1}=bx_{i}\n",
    "\\end{split}\n",
    "\\end{equation}\n",
    "\n",
    "\n",
    "\n"
   ]
  },
  {
   "cell_type": "markdown",
   "metadata": {
    "slideshow": {
     "slide_type": "slide"
    }
   },
   "source": [
    "- Dicho mapeo se puede descomponer en tres etapas, i.e., $T\\,=\\,T'''T''T$. Si se toma como condición inicial una elipse:\n"
   ]
  },
  {
   "cell_type": "markdown",
   "metadata": {
    "slideshow": {
     "slide_type": "fragment"
    }
   },
   "source": [
    "![](doblamiento_T1.png)"
   ]
  },
  {
   "cell_type": "markdown",
   "metadata": {
    "slideshow": {
     "slide_type": "slide"
    }
   },
   "source": [
    "- La primera etapa consiste en un doblamiento:\n",
    "\n",
    "\\begin{equation}\n",
    "\\begin{split}\n",
    "    T':\\,&x'=x\\\\\n",
    "    &y'=y+1-ax^{2}\n",
    "\\end{split}\n",
    "\\end{equation}"
   ]
  },
  {
   "cell_type": "markdown",
   "metadata": {
    "slideshow": {
     "slide_type": "fragment"
    }
   },
   "source": [
    "![](doblamiento_T2.png)"
   ]
  },
  {
   "cell_type": "markdown",
   "metadata": {
    "slideshow": {
     "slide_type": "slide"
    }
   },
   "source": [
    "- La segunda etapa consiste en una contracción en $x$:\n",
    "\n",
    "\\begin{equation}\n",
    "\\begin{split}\n",
    "    T'':\\,&x''=bx'\\\\\n",
    "    &y''=y\n",
    "\\end{split}\n",
    "\\end{equation}\n"
   ]
  },
  {
   "cell_type": "markdown",
   "metadata": {
    "slideshow": {
     "slide_type": "fragment"
    }
   },
   "source": [
    "![](doblamiento_T3.png)"
   ]
  },
  {
   "cell_type": "markdown",
   "metadata": {
    "slideshow": {
     "slide_type": "slide"
    }
   },
   "source": [
    "- La tercera etapa consiste en un reorientación en el eje x:\n",
    "\n",
    "\\begin{equation}\n",
    "\\begin{split}\n",
    "    T''':\\,&x'''=y''\\\\\n",
    "    &y'''=x''\n",
    "\\end{split}\n",
    "\\end{equation}"
   ]
  },
  {
   "cell_type": "markdown",
   "metadata": {
    "slideshow": {
     "slide_type": "fragment"
    }
   },
   "source": [
    "![](doblamiento_T4.png)"
   ]
  },
  {
   "cell_type": "markdown",
   "metadata": {
    "slideshow": {
     "slide_type": "slide"
    }
   },
   "source": [
    "- Es un mapeo con Jacobiano constante:\n",
    "\n",
    "\\begin{equation}\n",
    "    \\frac{\\partial (x_{i+1},y_{i+1})}{\\partial (x_{i},y_{i})}=-b\n",
    "\\end{equation}\n",
    "\n",
    "\n",
    "\n",
    "- Tiene dos puntos invariantes\n",
    "\n",
    "\\begin{equation}\n",
    "\\begin{split}\n",
    "    &x=\\frac{-(1-b)\\pm\\sqrt{(1-b)^{2}+4a}}{2a}\\\\\n",
    "    &y=bx\n",
    "\\end{split}\n",
    "\\end{equation}\n",
    "\n",
    "\n",
    "\n",
    "- Dichos puntos son reales para \n",
    "\\begin{equation}\n",
    "a>a_{0}=-\\frac{1}{4}(1-b)^{2}.\n",
    "\\end{equation}\n"
   ]
  },
  {
   "cell_type": "markdown",
   "metadata": {
    "slideshow": {
     "slide_type": "slide"
    }
   },
   "source": [
    "En este caso, un punto es siempre linealmente inestable, mientras que el otro es inestable para \n",
    "\n",
    "\\begin{equation}\n",
    "a>a_{1}=\\frac{3}{4}(1-b)^{2}.\n",
    "\\end{equation}"
   ]
  },
  {
   "cell_type": "code",
   "execution_count": 15,
   "metadata": {
    "collapsed": false
   },
   "outputs": [
    {
     "data": {
      "text/plain": [
       "Plots.PyPlotBackend()"
      ]
     },
     "execution_count": 15,
     "metadata": {},
     "output_type": "execute_result"
    }
   ],
   "source": [
    "using Plots, LaTeXStrings\n",
    "pyplot(markerstrokecolor=false)"
   ]
  },
  {
   "cell_type": "code",
   "execution_count": 12,
   "metadata": {
    "collapsed": false
   },
   "outputs": [
    {
     "data": {
      "text/plain": [
       "Henon (generic function with 1 method)"
      ]
     },
     "execution_count": 12,
     "metadata": {},
     "output_type": "execute_result"
    }
   ],
   "source": [
    "function Henon(x, y, a, b)\n",
    "    \n",
    "    1 - a*x^2 + y , b*x\n",
    "    \n",
    "end "
   ]
  },
  {
   "cell_type": "markdown",
   "metadata": {},
   "source": [
    "# Áreas"
   ]
  },
  {
   "cell_type": "markdown",
   "metadata": {},
   "source": [
    "Para determinar para cuales constantes el mapeo es conservativo y disipativo, se implentó un algoritmo usando el método Monte Carlo para medir áreas de una figura irregular, en este caso la figura consiste de un círculo unitario que está dado por la parametrización:\n",
    "\n",
    "$$ \\sigma(t) = (cos t, sin t), \\qquad t \\in [0, 2 \\pi].$$\n",
    "\n",
    "Para medir el área de la figura después de iterarlo una vez con el mapeo de Hénon, se hace la compoción del \n",
    "\n",
    "\n",
    "El método consiste en los siguientes pasos:\n",
    "- Poner la figura en un cuadrado que la contenga totalmente. El área del cuadrado se puede calcular fácilmente.\n",
    "- Arrojar un número N de puntos en el cuadrado.\n",
    "- Contar la cantidad de puntos que caen dentro de la figura.\n",
    "una parametrización de un círculo y sus iteradas usando el mapeo de Hénon. El método consite usado consiste en los siguientes pasos:\n",
    "- El área de la figura va a estar dada por la siguiente relación:\n",
    "\n",
    "$$A_{figura} = A_{cuadrado}\\frac{a_{in}}{N},$$\n",
    "\n",
    "donde $a_in$ es el número de puntos que cae dentro de la figura, y $N$ es el total de puntos.\n",
    "\n",
    "Se usó el método [\"Inside Outside\"](http://commons.bcit.ca/math/entertainment/inout/index.html) para determinar si un punto está dentro o fuera de una figua irregular."
   ]
  },
  {
   "cell_type": "code",
   "execution_count": 1,
   "metadata": {
    "collapsed": false
   },
   "outputs": [
    {
     "data": {
      "text/plain": [
       "in_or_out"
      ]
     },
     "execution_count": 1,
     "metadata": {},
     "output_type": "execute_result"
    }
   ],
   "source": [
    "\"\"\"\n",
    "    in_or_out(para, x, y)\n",
    "\n",
    "Función que evalúa si un punto dado por `x` y `y` está dentro de una figura dada por una parametrización\n",
    "en forma de un array `para` creado usando la función `condiones_iniciales_2D`.\n",
    "\n",
    "\"\"\"\n",
    "\n",
    "function in_or_out(para, x, y)\n",
    "    \n",
    "    crossings = 0\n",
    "    \n",
    "    for i in 1:length(para[1,:])-1\n",
    "        \n",
    "        if x < para[1, i] && x < para[1, i+1] || x > para[1, i] && x > para[1, i+1]\n",
    "            \n",
    "            nothing\n",
    "            \n",
    "        elseif y > para[2,i] && y > para[2, i+1]\n",
    "            \n",
    "            nothing\n",
    "    \n",
    "        elseif y < para[2,i] && y < para[2, i+1]\n",
    "            \n",
    "            if x < para[1, i] && x > para[1, i+1] || x > para[1, i] && x < para[1, i+1]\n",
    "                \n",
    "                crossings += 1\n",
    "                \n",
    "            end\n",
    "            \n",
    "        elseif y > para[2, i] && y < para[2, i+1]\n",
    "            \n",
    "            if x > para[1, i] && x < para[1, i+1]\n",
    "                \n",
    "                y_c = para[2,i] + (para[2, i+1] - para[2, i])*(x - para[1, i])/(para[1, i+1] - para[1, i])\n",
    "                \n",
    "                if y_c > y\n",
    "                    \n",
    "                    crossings += 1\n",
    "                    \n",
    "                end\n",
    "                \n",
    "            end\n",
    "            \n",
    "        elseif y < para[2, i] && y > para[2, i+1]\n",
    "            \n",
    "            if x < para[1, i] && x > para[1, i+1]\n",
    "                \n",
    "                y_c = para[2, i+1] + (para[2, i] - para[2, i+1])*(x - para[1, i+1])/(para[1, i] - para[1, i+1])\n",
    "\n",
    "                if y_c > y\n",
    "\n",
    "                    crossings += 1\n",
    "\n",
    "                end\n",
    "\n",
    "            end\n",
    "            \n",
    "        end\n",
    "        \n",
    "    end\n",
    "    \n",
    "    if iseven(crossings)\n",
    "        \n",
    "        return false\n",
    "        \n",
    "    elseif isodd(crossings)\n",
    "        \n",
    "        return true\n",
    "        \n",
    "    end\n",
    "    \n",
    "end"
   ]
  },
  {
   "cell_type": "markdown",
   "metadata": {},
   "source": []
  },
  {
   "cell_type": "code",
   "execution_count": 7,
   "metadata": {
    "collapsed": false
   },
   "outputs": [
    {
     "data": {
      "text/plain": [
       "condiones_iniciales_2D"
      ]
     },
     "execution_count": 7,
     "metadata": {},
     "output_type": "execute_result"
    }
   ],
   "source": [
    "\"\"\"\n",
    "    condiones_iniciales_2D(f::Function, t_range, a, b)\n",
    "\n",
    "Función que guarda en un array de de 2×n una parametrización `f` para un rango `t_range`.\n",
    "Los parámetros `a` y `b` sirven para parametrizaciones que requieran del mapeo de Hénon.\n",
    "\n",
    "\"\"\"\n",
    "\n",
    "function condiones_iniciales_2D(f::Function, t_range, a, b)\n",
    "    CI = zeros(2, length(t_range))\n",
    "    \n",
    "    for i in 1:length(t_range)\n",
    "        \n",
    "        CI[1, i] = f(t_range[i], a, b)[1]\n",
    "        CI[2, i] = f(t_range[i], a, b)[2]\n",
    "        \n",
    "    end\n",
    "    \n",
    "    CI\n",
    "    \n",
    "end"
   ]
  },
  {
   "cell_type": "code",
   "execution_count": 8,
   "metadata": {
    "collapsed": false
   },
   "outputs": [
    {
     "data": {
      "text/plain": [
       "iterator"
      ]
     },
     "execution_count": 8,
     "metadata": {},
     "output_type": "execute_result"
    }
   ],
   "source": [
    "\"\"\"\n",
    "    iterator(f::Function, X0, a, b, N)\n",
    "\n",
    "Itera un array `X0` usando un mapeo `f`, un número `N` de veces. `a` y `b` son parámetros del mapeo\n",
    "Hénon.\n",
    "\n",
    "\"\"\"\n",
    "\n",
    "\n",
    "function iterator(f::Function, X0, a, b, N)\n",
    "    \n",
    "    aux = copy(X0)\n",
    "    orbit = zeros(size(aux))\n",
    "    \n",
    "    for j in 1:N\n",
    "        \n",
    "        for i in 1:length(aux[1, :])\n",
    "\n",
    "            orbit[1, i] = f(aux[1, i], aux[2, i], a, b)[1]\n",
    "            orbit[2, i] = f(aux[1, i], aux[2, i], a, b)[2]\n",
    "\n",
    "        end\n",
    "        \n",
    "        aux = copy(orbit)\n",
    " \n",
    "    end\n",
    "    \n",
    "    orbit\n",
    "    \n",
    "end "
   ]
  },
  {
   "cell_type": "code",
   "execution_count": 2,
   "metadata": {
    "collapsed": false
   },
   "outputs": [
    {
     "data": {
      "text/plain": [
       "invert_ceil"
      ]
     },
     "execution_count": 2,
     "metadata": {},
     "output_type": "execute_result"
    }
   ],
   "source": [
    "\"\"\"\n",
    "    invert_ceil(x)\n",
    "\n",
    "Es una función que redondea hacia arriba un número positivo `x`, o si el número es negativo, lo redondea\n",
    "hacia abajo.\n",
    "\"\"\"\n",
    "\n",
    "function invert_ceil(x)\n",
    "    \n",
    "    if x < 0 \n",
    "        \n",
    "        x = -ceil(abs(x))\n",
    "        \n",
    "    else\n",
    "        \n",
    "        x = ceil(x)\n",
    "        \n",
    "    end\n",
    "    \n",
    "    x\n",
    "    \n",
    "end"
   ]
  },
  {
   "cell_type": "code",
   "execution_count": 6,
   "metadata": {
    "collapsed": false
   },
   "outputs": [
    {
     "data": {
      "text/plain": [
       "randinterval"
      ]
     },
     "execution_count": 6,
     "metadata": {},
     "output_type": "execute_result"
    }
   ],
   "source": [
    "\"\"\"\n",
    "    randinterval(n, min, max)\n",
    "\n",
    "La función da un arreglo con `n` números que son aleatorios en un intervalo definido por `min` y `max`.\n",
    "\"\"\"\n",
    "\n",
    "function randinterval(n, min, max)\n",
    "    \n",
    "    rand(n) * (max - min) + min\n",
    "    \n",
    "end"
   ]
  },
  {
   "cell_type": "code",
   "execution_count": 3,
   "metadata": {
    "collapsed": false
   },
   "outputs": [
    {
     "data": {
      "text/plain": [
       "enclosing_square"
      ]
     },
     "execution_count": 3,
     "metadata": {},
     "output_type": "execute_result"
    }
   ],
   "source": [
    "\"\"\"\n",
    "    enclosing_square(Param_array)\n",
    "\n",
    "Es una función que dada una parametrización en forma de array `Param_array` que define una figura, \n",
    "calcula las coordenadas de un cuadrado que encierra completamente a esa figura.\n",
    "\n",
    "\"\"\"\n",
    "\n",
    "function enclosing_square(Param_array)\n",
    "    \n",
    "    x_min = invert_ceil(min(Param_array[1,:]...))\n",
    "    x_max = invert_ceil(max(Param_array[1,:]...))\n",
    "    y_min = invert_ceil(min(Param_array[2,:]...) )\n",
    "    y_max = invert_ceil(max(Param_array[2,:]...))\n",
    "    \n",
    "    return (x_min, x_max), (y_min, y_max)\n",
    "    \n",
    "end"
   ]
  },
  {
   "cell_type": "code",
   "execution_count": 4,
   "metadata": {
    "collapsed": false
   },
   "outputs": [
    {
     "data": {
      "text/plain": [
       "itera_parametrizacion_henon"
      ]
     },
     "execution_count": 4,
     "metadata": {},
     "output_type": "execute_result"
    }
   ],
   "source": [
    "\"\"\"\n",
    "    itera_parametrizacion_henon(n)\n",
    "\n",
    "Es una función que declara funciones anónimas que son la composición de la parametrización del círculo\n",
    "unitario con el mapeo de Hénon. El parámetro `n` es el número de composiciones con el mapeo de Hénon.\n",
    "\n",
    "\"\"\"\n",
    "\n",
    "function itera_parametrizacion_henon(n)\n",
    "    \n",
    "    #1 - a*x^2 + y , b*x\n",
    "    \n",
    "    x = \"cos(t)\"\n",
    "    y = \"sin(t)\"\n",
    "\n",
    "    for i in 1:n\n",
    "\n",
    "        xi = \"1 - a*($x)^2 + ($y)\"\n",
    "        yi = \"b*($x)\"\n",
    "        x = xi\n",
    "        y = yi\n",
    "\n",
    "    end\n",
    "\n",
    "    ex = parse(x*\" , \"*y)\n",
    "    ex_ret = :( (t, a, b) -> $ex )\n",
    "    eval(ex_ret)\n",
    "end  "
   ]
  },
  {
   "cell_type": "code",
   "execution_count": 5,
   "metadata": {
    "collapsed": false
   },
   "outputs": [
    {
     "data": {
      "text/plain": [
       "(-0.7408864000000001,0.32280000000000003)"
      ]
     },
     "execution_count": 5,
     "metadata": {},
     "output_type": "execute_result"
    }
   ],
   "source": [
    "itera_parametrizacion_henon(3)(0, 1.4, 0.3)"
   ]
  },
  {
   "cell_type": "code",
   "execution_count": 20,
   "metadata": {
    "collapsed": false
   },
   "outputs": [
    {
     "data": {
      "text/plain": [
       "find_area"
      ]
     },
     "execution_count": 20,
     "metadata": {},
     "output_type": "execute_result"
    }
   ],
   "source": [
    "\"\"\"\n",
    "    find_area(Σ::Function, t_range, N, a, b)\n",
    "\n",
    "Función que calcula el área de una figura dada por una parametrización Σ, usando el método de \n",
    "Monte Carlo para calcular áreas. El rango `t_range`es el rango donde está definida la \n",
    "parametrizacion Σ, `N` es el número de puntos que se van a arrrojar para medir el área y los \n",
    "parámetros `a` y `b` son para las parametrizaciones de figuras que surgen de iterar el mapeo \n",
    "de Hénon. Para que funcione Σ debe tomar por argumentos Σ(t, a, b), aunque a y b no se \n",
    "requieran para la parametrización.\n",
    "\n",
    "\n",
    "\"\"\"\n",
    "function find_area(Σ::Function, t_range, N, a, b)\n",
    "    \n",
    "    parametrization = condiones_iniciales_2D(Σ, t_range, a, b)\n",
    "    x_limites, y_limites = enclosing_square(parametrization)\n",
    "    inside = 0\n",
    "    total = N\n",
    "    area = (x_limites[end] - x_limites[1]) * (y_limites[end] - y_limites[1])\n",
    "    \n",
    "    for i in 1:N\n",
    "        \n",
    "        x = randinterval(1, x_limites[1], x_limites[end])[1]\n",
    "        y = randinterval(1, y_limites[1], y_limites[end])[1]\n",
    "        \n",
    "        if in_or_out(parametrization, x, y)\n",
    "            \n",
    "            inside += 1\n",
    "            \n",
    "        end\n",
    "    end\n",
    "\n",
    "    area * inside / total\n",
    "    \n",
    "end"
   ]
  },
  {
   "cell_type": "code",
   "execution_count": 24,
   "metadata": {
    "collapsed": false
   },
   "outputs": [
    {
     "data": {
      "text/plain": [
       "0.0:0.01:6.28"
      ]
     },
     "execution_count": 24,
     "metadata": {},
     "output_type": "execute_result"
    }
   ],
   "source": [
    "t_rango = 0:0.01:2π"
   ]
  },
  {
   "cell_type": "code",
   "execution_count": 25,
   "metadata": {
    "collapsed": false
   },
   "outputs": [
    {
     "name": "stderr",
     "output_type": "stream",
     "text": [
      "WARNING: Method definition σ(Any, Any, Any) in module Main at In[10]:1 overwritten at In[25]:1.\n"
     ]
    },
    {
     "data": {
      "text/plain": [
       "σ (generic function with 1 method)"
      ]
     },
     "execution_count": 25,
     "metadata": {},
     "output_type": "execute_result"
    }
   ],
   "source": [
    "σ(t, a, b) = (cos(t), sin(t)) #parametrización del círculo."
   ]
  },
  {
   "cell_type": "code",
   "execution_count": 28,
   "metadata": {
    "collapsed": false
   },
   "outputs": [
    {
     "name": "stdout",
     "output_type": "stream",
     "text": [
      "  5.879960 seconds (8.01 M allocations: 5.379 GB, 34.33% gc time)\n"
     ]
    },
    {
     "data": {
      "text/plain": [
       "3.143464"
      ]
     },
     "execution_count": 28,
     "metadata": {},
     "output_type": "execute_result"
    }
   ],
   "source": [
    "@time find_area(σ, t_rango, 1000000, 1.4, -1) #Área del círculo con 1 millon de puntos, param. 1.4 y -1 son irrelevantes"
   ]
  },
  {
   "cell_type": "markdown",
   "metadata": {},
   "source": [
    "- ### Área para $b = 1$, $a=-1.4$."
   ]
  },
  {
   "cell_type": "code",
   "execution_count": 13,
   "metadata": {
    "collapsed": false
   },
   "outputs": [
    {
     "data": {
      "text/plain": [
       "2×6284 Array{Float64,2}:\n",
       " -3.81585  -3.82041  -3.82498  -3.82954  …  -3.80585  -3.81043  -3.815  \n",
       "  1.776     1.77712   1.77824   1.77936      1.77355   1.77467   1.77579"
      ]
     },
     "execution_count": 13,
     "metadata": {},
     "output_type": "execute_result"
    }
   ],
   "source": [
    "t_rango = 0:0.001:2π\n",
    "CI1_1 = condiones_iniciales_2D(σ, t_rango, 1.4, 1, )\n",
    "CI1_2 = iterator(Henon, CI1_1, 1.4, 1, 1)\n",
    "CI1_3 = iterator(Henon, CI1_2, 1.4, 1, 1)\n",
    "CI1_4 = iterator(Henon, CI1_3, 1.4, 1, 1)"
   ]
  },
  {
   "cell_type": "code",
   "execution_count": 18,
   "metadata": {
    "collapsed": false
   },
   "outputs": [
    {
     "data": {
      "text/html": [
       "<img src=\"data:image/png;base64,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\" />"
      ]
     },
     "execution_count": 18,
     "metadata": {},
     "output_type": "execute_result"
    }
   ],
   "source": [
    "scatter(CI1_2[1,:], CI1_2[2,:], markersize=(1), markercolor=:green, label=(\"Cond. Iniciales\"))\n",
    "scatter!(CI1_1[1,:], CI1_1[2,:], markersize=(1), markercolor=:blue, label=(\"Primer iterado\"))\n",
    "scatter!(CI1_3[1,:], CI1_3[2,:], markersize=(1), markercolor=:orange, label=(\"Segundo iterado\"))\n",
    "#scatter!(CI1_4[1,:], CI1_4[2,:], markersize=(1), markercolor=:red, label=(\"Segundo iterado\"))\n",
    "xlabel!(L\"x\")\n",
    "ylabel!(L\"y\")\n",
    "title!(L\"Mapeo de Hénon $a = 1.4$, $b=1$\")"
   ]
  },
  {
   "cell_type": "code",
   "execution_count": 37,
   "metadata": {
    "collapsed": false
   },
   "outputs": [
    {
     "data": {
      "text/plain": [
       "4-element Array{Float64,1}:\n",
       " 3.14137\n",
       " 3.13829\n",
       " 3.11968\n",
       " 3.16344"
      ]
     },
     "execution_count": 37,
     "metadata": {},
     "output_type": "execute_result"
    }
   ],
   "source": [
    "areas_b_1 = Float64[]\n",
    "\n",
    "for i in 0:3\n",
    "    \n",
    "    a = find_area(itera_parametrizacion_henon(i), t_rango, 1000000, 1.4, 1)\n",
    "    push!(areas_b_1, a)\n",
    "    \n",
    "end\n",
    "\n",
    "areas_b_1"
   ]
  },
  {
   "cell_type": "code",
   "execution_count": 38,
   "metadata": {
    "collapsed": false
   },
   "outputs": [
    {
     "data": {
      "text/html": [
       "<img src=\"data:image/png;base64,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\" />"
      ]
     },
     "execution_count": 38,
     "metadata": {},
     "output_type": "execute_result"
    }
   ],
   "source": [
    "scatter(collect(0:3), areas_b_1, leg = false)\n",
    "ylabel!(\"Área\")\n",
    "xlabel!(\"Iterado del mapeo de Hénon\")\n",
    "title!(L\"Áreas para $b=1$, $a=1.4$\")"
   ]
  },
  {
   "cell_type": "markdown",
   "metadata": {},
   "source": [
    "- ### Área para $b = -1$, $a=-1.4$."
   ]
  },
  {
   "cell_type": "code",
   "execution_count": 40,
   "metadata": {
    "collapsed": false
   },
   "outputs": [
    {
     "data": {
      "text/plain": [
       "2×6284 Array{Float64,2}:\n",
       " 1.32975  1.32945   1.32915   1.32884   …  1.33039   1.3301    1.32981 \n",
       " 0.224    0.222879  0.221757  0.220634     0.226444  0.225327  0.224208"
      ]
     },
     "execution_count": 40,
     "metadata": {},
     "output_type": "execute_result"
    }
   ],
   "source": [
    "t_rango = 0:0.001:2π\n",
    "CI_1_1 = condiones_iniciales_2D(σ, t_rango, 1.4, -1)\n",
    "CI_1_2 = iterator(Henon, CI_1_1, 1.4, -1, 1)\n",
    "CI_1_3 = iterator(Henon, CI_1_2, 1.4, -1, 1)\n",
    "CI_1_4 = iterator(Henon, CI_1_3, 1.4, -1, 1)"
   ]
  },
  {
   "cell_type": "code",
   "execution_count": 41,
   "metadata": {
    "collapsed": false
   },
   "outputs": [
    {
     "data": {
      "text/html": [
       "<img src=\"data:image/png;base64,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\" />"
      ]
     },
     "execution_count": 41,
     "metadata": {},
     "output_type": "execute_result"
    }
   ],
   "source": [
    "scatter(CI_1_1[1,:], CI_1_1[2,:], markersize=(1), markercolor=:blue, label=(\"Cond. Iniciales\"))\n",
    "scatter!(CI_1_2[1,:], CI_1_2[2,:], markersize=(1), markercolor=:green, label=(\"Primer iterado\"))\n",
    "scatter!(CI_1_3[1,:], CI_1_3[2,:], markersize=(1), markercolor=:orange, label=(\"Segundo iterado\"))\n",
    "#scatter!(CI_1_4[1,:], CI_1_4[2,:], markersize=(1), markercolor=:red, label=(\"Tercer iterado\"))\n",
    "title!(L\"Mapeo de Hénon $a = 1.4$, $b=-1$\")\n",
    "xlabel!(L\"x\")\n",
    "ylabel!(L\"y\")"
   ]
  },
  {
   "cell_type": "code",
   "execution_count": 50,
   "metadata": {
    "collapsed": false
   },
   "outputs": [
    {
     "data": {
      "text/plain": [
       "4-element Array{Float64,1}:\n",
       " 3.14094\n",
       " 3.13862\n",
       " 3.12373\n",
       " 3.16609"
      ]
     },
     "execution_count": 50,
     "metadata": {},
     "output_type": "execute_result"
    }
   ],
   "source": [
    "areas_b__1 = Float64[]\n",
    "\n",
    "for i in 0:3\n",
    "    \n",
    "    a = find_area(itera_parametrizacion_henon(i), t_rango, 1000000, 1.4, -1)\n",
    "    push!(areas_b__1, a)\n",
    "    \n",
    "end\n",
    "\n",
    "areas_b__1"
   ]
  },
  {
   "cell_type": "code",
   "execution_count": 52,
   "metadata": {
    "collapsed": false
   },
   "outputs": [
    {
     "data": {
      "text/html": [
       "<img src=\"data:image/png;base64,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\" />"
      ]
     },
     "execution_count": 52,
     "metadata": {},
     "output_type": "execute_result"
    }
   ],
   "source": [
    "scatter(collect(0:3), areas_b__1, leg = false)\n",
    "ylabel!(\"Área\")\n",
    "xlabel!(\"Iterado del mapeo de Hénon\")\n",
    "title!(L\"Áreas para $b=-1$, $a=1.4$\")"
   ]
  },
  {
   "cell_type": "markdown",
   "metadata": {},
   "source": [
    "- ### Área para $b = 0.3$, $a=-1.4$."
   ]
  },
  {
   "cell_type": "code",
   "execution_count": 44,
   "metadata": {
    "collapsed": false
   },
   "outputs": [
    {
     "data": {
      "text/plain": [
       "2×6284 Array{Float64,2}:\n",
       " -0.740886  -0.743962  -0.747041  …  -0.734175  -0.737244  -0.740317\n",
       "  0.3228     0.323136   0.323472      0.322066   0.322402   0.322738"
      ]
     },
     "execution_count": 44,
     "metadata": {},
     "output_type": "execute_result"
    }
   ],
   "source": [
    "t_rango = 0:0.001:2π\n",
    "CI03_1 = condiones_iniciales_2D(σ, t_rango, 1.4, 0.3)\n",
    "CI03_2 = iterator(Henon, CI03_1, 1.4, 0.3, 1)\n",
    "CI03_3 = iterator(Henon, CI03_2, 1.4, 0.3, 1)\n",
    "CI03_4 = iterator(Henon, CI03_3, 1.4, 0.3, 1)"
   ]
  },
  {
   "cell_type": "code",
   "execution_count": 45,
   "metadata": {
    "collapsed": false
   },
   "outputs": [
    {
     "data": {
      "text/html": [
       "<img src=\"data:image/png;base64,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\" />"
      ]
     },
     "execution_count": 45,
     "metadata": {},
     "output_type": "execute_result"
    }
   ],
   "source": [
    "scatter(CI03_1[1,:], CI03_1[2,:], markersize=(1), markercolor=:blue, label=(\"Cond. Iniciales\"))\n",
    "scatter!(CI03_2[1,:], CI03_2[2,:], markersize=(1), markercolor=:green, label=(\"Primer iterado\"))\n",
    "scatter!(CI03_3[1,:], CI03_3[2,:], markersize=(1), markercolor=:orange, label=(\"Segundo iterado\"))\n",
    "scatter!(CI03_4[1,:], CI03_4[2,:], markersize=(1), markercolor=:red, leg=false)\n",
    "title!(L\"Mapeo de Hénon $a = 1.4$, $b=0.3$\")\n",
    "xlabel!(L\"x\")\n",
    "ylabel!(L\"y\")"
   ]
  },
  {
   "cell_type": "code",
   "execution_count": 49,
   "metadata": {
    "collapsed": false
   },
   "outputs": [
    {
     "data": {
      "text/plain": [
       "4-element Array{Float64,1}:\n",
       " 3.14235 \n",
       " 0.944106\n",
       " 0.282282\n",
       " 0.088815"
      ]
     },
     "execution_count": 49,
     "metadata": {},
     "output_type": "execute_result"
    }
   ],
   "source": [
    "areas_b_03 = Float64[]\n",
    "\n",
    "for i in 0:3\n",
    "    \n",
    "    a = find_area(itera_parametrizacion_henon(i), t_rango, 1000000, 1.4, 0.3)\n",
    "    push!(areas_b_03, a)\n",
    "    \n",
    "end\n",
    "\n",
    "areas_b_03"
   ]
  },
  {
   "cell_type": "code",
   "execution_count": 53,
   "metadata": {
    "collapsed": false
   },
   "outputs": [
    {
     "data": {
      "text/html": [
       "<img src=\"data:image/png;base64,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\" />"
      ]
     },
     "execution_count": 53,
     "metadata": {},
     "output_type": "execute_result"
    }
   ],
   "source": [
    "scatter(collect(0:3), areas_b_03, leg = false)\n",
    "ylabel!(\"Área\")\n",
    "xlabel!(\"Iterado del mapeo de Hénon\")\n",
    "title!(L\"Áreas para $b=0.3$, $a=1.4$\")"
   ]
  },
  {
   "cell_type": "markdown",
   "metadata": {
    "slideshow": {
     "slide_type": "slide"
    }
   },
   "source": [
    "# Caso conservativo "
   ]
  },
  {
   "cell_type": "markdown",
   "metadata": {
    "slideshow": {
     "slide_type": "fragment"
    }
   },
   "source": [
    "- En este caso b=-1"
   ]
  },
  {
   "cell_type": "markdown",
   "metadata": {
    "collapsed": true,
    "slideshow": {
     "slide_type": "fragment"
    }
   },
   "source": [
    "![](JS_b_p1.gif)"
   ]
  },
  {
   "cell_type": "markdown",
   "metadata": {
    "slideshow": {
     "slide_type": "skip"
    }
   },
   "source": [
    "Hola"
   ]
  },
  {
   "cell_type": "markdown",
   "metadata": {
    "slideshow": {
     "slide_type": "skip"
    }
   },
   "source": [
    "# Caso disipativo"
   ]
  },
  {
   "cell_type": "markdown",
   "metadata": {
    "slideshow": {
     "slide_type": "skip"
    }
   },
   "source": []
  },
  {
   "cell_type": "markdown",
   "metadata": {
    "slideshow": {
     "slide_type": "skip"
    }
   },
   "source": []
  }
 ],
 "metadata": {
  "kernelspec": {
   "display_name": "Julia 0.5.0",
   "language": "julia",
   "name": "julia-0.5"
  },
  "language_info": {
   "file_extension": ".jl",
   "mimetype": "application/julia",
   "name": "julia",
   "version": "0.5.0"
  }
 },
 "nbformat": 4,
 "nbformat_minor": 1
}
