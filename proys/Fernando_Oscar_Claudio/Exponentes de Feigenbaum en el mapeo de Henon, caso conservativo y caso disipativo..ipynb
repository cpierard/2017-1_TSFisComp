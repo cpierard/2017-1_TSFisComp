{
 "cells": [
  {
   "cell_type": "markdown",
   "metadata": {
    "slideshow": {
     "slide_type": "slide"
    }
   },
   "source": [
    "# Mapeo de Hénon"
   ]
  },
  {
   "cell_type": "markdown",
   "metadata": {
    "slideshow": {
     "slide_type": "slide"
    }
   },
   "source": [
    "- Hénon propuso, en 1976, un mapeo en 2D sencillo que exhibiera las propiedades esenciales del sistema de ecuaciones de primer orden acopladas propuestas por Lorentz, con el objetivo de poder estudiar de forma sencilla dichas propiedades.\n",
    "\n",
    "- El mapeo imita una sección de Poincaré del atractor de Lorentz.\n",
    "\n",
    "- El mapeo propuesto es el siguiente \n",
    "\n",
    "\\begin{equation}\n",
    "\\begin{split}\n",
    "    T:\\,&x_{i+1}=y_{i+1}-ax_{i}^{2}\\\\\n",
    "    &y_{i+1}=bx_{i}\n",
    "\\end{split}\n",
    "\\end{equation}\n",
    "\n",
    "\n",
    "\n"
   ]
  },
  {
   "cell_type": "markdown",
   "metadata": {
    "slideshow": {
     "slide_type": "slide"
    }
   },
   "source": [
    "- Dicho mapeo se puede descomponer en tres etapas, i.e., $T\\,=\\,T'''T''T$. Si se toma como condición inicial una elipse:\n"
   ]
  },
  {
   "cell_type": "markdown",
   "metadata": {
    "slideshow": {
     "slide_type": "fragment"
    }
   },
   "source": [
    "![](doblamiento_T1.png)"
   ]
  },
  {
   "cell_type": "markdown",
   "metadata": {
    "slideshow": {
     "slide_type": "slide"
    }
   },
   "source": [
    "- La primera etapa consiste en un doblamiento:\n",
    "\n",
    "\\begin{equation}\n",
    "\\begin{split}\n",
    "    T':\\,&x'=x\\\\\n",
    "    &y'=y+1-ax^{2}\n",
    "\\end{split}\n",
    "\\end{equation}"
   ]
  },
  {
   "cell_type": "markdown",
   "metadata": {
    "slideshow": {
     "slide_type": "fragment"
    }
   },
   "source": [
    "![](doblamiento_T2.png)"
   ]
  },
  {
   "cell_type": "markdown",
   "metadata": {
    "slideshow": {
     "slide_type": "slide"
    }
   },
   "source": [
    "- La segunda etapa consiste en una contracción en $x$:\n",
    "\n",
    "\\begin{equation}\n",
    "\\begin{split}\n",
    "    T'':\\,&x''=bx'\\\\\n",
    "    &y''=y\n",
    "\\end{split}\n",
    "\\end{equation}\n"
   ]
  },
  {
   "cell_type": "markdown",
   "metadata": {
    "slideshow": {
     "slide_type": "fragment"
    }
   },
   "source": [
    "![](doblamiento_T3.png)"
   ]
  },
  {
   "cell_type": "markdown",
   "metadata": {
    "slideshow": {
     "slide_type": "slide"
    }
   },
   "source": [
    "- La tercera etapa consiste en un reorientación en el eje x:\n",
    "\n",
    "\\begin{equation}\n",
    "\\begin{split}\n",
    "    T''':\\,&x'''=y''\\\\\n",
    "    &y'''=x''\n",
    "\\end{split}\n",
    "\\end{equation}"
   ]
  },
  {
   "cell_type": "markdown",
   "metadata": {
    "slideshow": {
     "slide_type": "fragment"
    }
   },
   "source": [
    "![](doblamiento_T4.png)"
   ]
  },
  {
   "cell_type": "markdown",
   "metadata": {
    "slideshow": {
     "slide_type": "slide"
    }
   },
   "source": [
    "- Es un mapeo con Jacobiano constante:\n",
    "\n",
    "\\begin{equation}\n",
    "    \\frac{\\partial (x_{i+1},y_{i+1})}{\\partial (x_{i},y_{i})}=-b\n",
    "\\end{equation}\n",
    "\n",
    "\n",
    "\n",
    "- Tiene dos puntos invariantes\n",
    "\n",
    "\\begin{equation}\n",
    "\\begin{split}\n",
    "    &x=\\frac{-(1-b)\\pm\\sqrt{(1-b)^{2}+4a}}{2a}\\\\\n",
    "    &y=bx\n",
    "\\end{split}\n",
    "\\end{equation}\n",
    "\n",
    "\n",
    "\n",
    "- Dichos puntos son reales para \n",
    "\\begin{equation}\n",
    "a>a_{0}=-\\frac{1}{4}(1-b)^{2}.\n",
    "\\end{equation}\n"
   ]
  },
  {
   "cell_type": "markdown",
   "metadata": {
    "slideshow": {
     "slide_type": "slide"
    }
   },
   "source": [
    "En este caso, un punto es siempre linealmente inestable, mientras que el otro es inestable para \n",
    "\n",
    "\\begin{equation}\n",
    "a>a_{1}=\\frac{3}{4}(1-b)^{2}.\n",
    "\\end{equation}"
   ]
  },
  {
   "cell_type": "markdown",
   "metadata": {},
   "source": [
    "# Áreas"
   ]
  },
  {
   "cell_type": "markdown",
   "metadata": {},
   "source": []
  },
  {
   "cell_type": "markdown",
   "metadata": {},
   "source": [
    "## Mapeos en 2D\n",
    "### Estabilidad de puntos fijos"
   ]
  },
  {
   "cell_type": "markdown",
   "metadata": {},
   "source": [
    "Un mapeo en dos dimensiones se puede caracterizar, al igual que un mapeo en una dimensión, con la estabilidad de sus puntos fijos, sus órbitas periódicas y otras propiedades que dependen de los parámetros del mapeo. \n",
    "\n",
    "Sea $f(\\vec{x},\\alpha)$ un mapeo en dos dimensiones, con $ \\vec{x}=(x,y)$  y $\\alpha$ un conjunto de parámetros de los que depende el mapeo.\n",
    "\n",
    "Los puntos fijos serán aquellos que satisfagan\n",
    "\n",
    "$$f(\\vec{x}^*,\\alpha)=\\vec{x}^*$$\n",
    "\n",
    "Para mapeos lineales de la forma \n",
    "\n",
    "$$f(\\vec{x})=A\\vec{x}$$  (con A una matriz de $2\\times2$) se tiene que sus puntos fijos son los que satisfacen \n",
    "\n",
    "$$A\\vec{x}^*=\\vec{x}^*$$\n",
    "\n",
    "ó bien \n",
    "\n",
    "$$ (A-I)\\vec{x}^*=0$$\n",
    "\n",
    "Si $(A-I)$ es no singular, entonces $\\vec{x}^*$ es el unico punto de equilibrio del sistema, pero si $(A-I)$ es singular, hay una familia de puntos de equlibrio. En tal caso se define\n",
    "\n",
    "$$\\vec{y}=\\vec{x}-\\vec{x}^*$$ \n",
    "\n",
    "y se obtiene un nuevo mapeo \n",
    "\n",
    "$$f_y(\\vec{y})=A\\vec{y}$$ \n",
    "cuyos puntos de equlibrio satisfacen\n",
    "\n",
    "$$\\vec{y}^*=A\\vec{y}^*$$\n",
    "\n",
    "Así las ropiedades de estabilidad de un punto de equilibrio $\\vec{x}^*\\neq 0 $son las mismas que las de un punto de equilibrio $\\vec{x}=0$. Sea\n",
    "\n",
    "$$J=P^{-1}AP$$\n",
    "\n",
    "la forma canónica de Jordan de A. Sea también \n",
    "\n",
    "$$\\vec{y}=P^{-1}\\vec{x}$$\n",
    "\n",
    "Entonces el sistema original se transforma a \n",
    "\n",
    "$$f_y(\\vec{y})=J\\vec{y}$$ \n",
    "\n",
    "\n",
    "Hay tre posibles formas canónicas de Jordan que se pueden tener, como vimos en clase. Estas formas son:\n",
    "\\begin{equation*}\n",
    "\\left( \n",
    "\\begin{array}{cc}\n",
    "\\alpha & -\\beta \\\\\n",
    "\\beta & \\alpha \n",
    "\\end{array} \n",
    "\\right), \n",
    "\\left( \n",
    "\\begin{array}{cc}\n",
    "\\lambda & 1 \\\\\n",
    "0 & \\lambda \n",
    "\\end{array} \n",
    "\\right),\n",
    "\\left( \n",
    "\\begin{array}{cc}\n",
    "\\lambda & 0 \\\\\n",
    "0 & \\mu\n",
    "\\end{array} \n",
    "\\right),\n",
    "\\end{equation*}\n",
    "donde $\\alpha, \\beta, \\lambda$ y $\\mu$ son reales, con $\\beta\\ne 0$ y $\\mu\\ne\\lambda$. En esta forma, los elementos de la diagonal son los eigenvalores, excepto para la primer matriz, cuyos eigenvalores son $\\alpha\\pm i \\beta$.\n",
    "\n",
    "Para el caso general en que el mapeo $f(\\vec{x},\\alpha)$ no es lineal, se puede linealizar con la matriz jacbiana $J_b$ y así estudiar localmente el comportamiento alrededor de los puntos fijos del mapeo.\n",
    "\n",
    "Por ahora estudiemos el caso en el que los eigenvalores son dos reales distintos. \n",
    "\n",
    "Cuando se tienen dos eigenvalores reales distintos, los puntos fijos pueden ser:\n",
    "\n",
    "- Puntos fijos aasíntoticamente estables: $\\lambda_1\\lt\\lambda_2\\lt1$\n",
    "- Puntos fijos  inestables: $\\lambda_1\\gt\\lambda_2\\gt1$\n",
    "- Puntos fijos silla: $0 \\lt \\lambda_1 \\lt 1, \\lambda_2\\gt1$\n",
    "- Puntos fijos degenerados: $\\lambda_1=1, \\lambda_1 \\gt \\lambda_2$\n",
    "- Punto fijo estable:$-1\\lt\\lambda_1\\lt 0 \\lt\\lambda_2\\lt1$\n",
    "- Punto fijo estable: $-1\\lt\\lambda_1\\lt\\lambda_2\\lt0$\n",
    "- Punto fijo silla: $\\lambda_1\\lt -1 \\lt \\lambda_2 \\lt 0$\n",
    "- Punto fijo silla: $\\lambda_1\\lt -1$ y  $ 0\\lt\\lambda_2 \\lt 1$\n",
    "- Punto fijo silla: $-1\\lt\\lambda_1\\lt 0$ y  $ 1\\lt\\lambda_2$\n",
    "\n",
    "Nota: Los puntos fijos silla son inestables.\n",
    "\n",
    "Esto lo usamos  para estudiar los puntos fijos del  **mapeo clásico de Hénon** que  está definido por \n",
    "\n",
    "$$ \\begin{array}{cc}\n",
    "x_{n+1}=& 1-ax^2_n+y_n \\\\\n",
    "y_{n+1}= & bx_n \n",
    "\\end{array} $$\n",
    "\n",
    "\n",
    "La matriz jacobiana de este mapeo es:\n",
    "\n",
    "\\begin{equation*}\n",
    "J_b=\\left( \n",
    "\\begin{array}{cc}\n",
    "-2ax & 1 \\\\\n",
    "b & 0 \n",
    "\\end{array} \n",
    "\\right)\n",
    "\\end{equation*}\n",
    "\n",
    "Sus eigenvalores están dados por \n",
    "\n",
    "$$\\lambda_{\\pm}=-ax\\pm\\sqrt{(ax)^2+b}$$\n",
    "\n",
    "Estos eigenvalores son reales y diferentes simpre que se satisfaga $b\\gt-(ax)^2$\n",
    "\n",
    "Los puntos fijos del mapeo de Hénon están dados por \n",
    "\n",
    "$$x=\\frac{(1-b)}{2a}\\pm 1/2\\sqrt{(1-b)^2+4a}$$\n",
    "\n",
    "$$y=bx$$\n",
    "\n",
    "Por lo que existen dos puntos fijos en el plano $XY$ para cuando \n",
    "\n",
    "$$a\\gt-1/4(1-b)^2$$\n",
    "\n",
    "y un solo punto fijo en el plano $XY$ si\n",
    "$$a=-1/4(1-b)^2$$"
   ]
  },
  {
   "cell_type": "markdown",
   "metadata": {},
   "source": [
    "Escribamos algunas funciones que nos permitirán estudiar la estabilidad de los puntos fijos del mapeo de Hénon."
   ]
  },
  {
   "cell_type": "code",
   "execution_count": 1,
   "metadata": {
    "collapsed": false
   },
   "outputs": [
    {
     "data": {
      "text/plain": [
       "Henon_map"
      ]
     },
     "execution_count": 1,
     "metadata": {},
     "output_type": "execute_result"
    }
   ],
   "source": [
    "\"\"\"Función que define el mapeo de Henon en 2D\"\"\"\n",
    "function Henon_map(x,y,a,b)\n",
    "    fx=y+1-a*x^2\n",
    "    fy=b*x\n",
    "    return fx,fy\n",
    "end "
   ]
  },
  {
   "cell_type": "code",
   "execution_count": 2,
   "metadata": {
    "collapsed": false
   },
   "outputs": [
    {
     "data": {
      "text/plain": [
       "Fixed_points (generic function with 1 method)"
      ]
     },
     "execution_count": 2,
     "metadata": {},
     "output_type": "execute_result"
    }
   ],
   "source": [
    "function Fixed_points(a,b)\n",
    "    xf1=-(1-b)/(2a)+(1/2a)*sqrt((1-b)^2+4a)\n",
    "    xf2=-(1-b)/(2a)-(1/2a)*sqrt((1-b)^2+4a)\n",
    "    yf1=b*xf1\n",
    "    yf2=b*xf2\n",
    "    return (xf1,yf1),(xf2,yf2)\n",
    "end "
   ]
  },
  {
   "cell_type": "code",
   "execution_count": 3,
   "metadata": {
    "collapsed": false
   },
   "outputs": [
    {
     "data": {
      "text/plain": [
       "Jacobian_henon (generic function with 1 method)"
      ]
     },
     "execution_count": 3,
     "metadata": {},
     "output_type": "execute_result"
    }
   ],
   "source": [
    "function Jacobian_henon(x,y,a,b)\n",
    "    Df=[[-2a*x,b] [1,0]]\n",
    "    return Df\n",
    "end "
   ]
  },
  {
   "cell_type": "code",
   "execution_count": 4,
   "metadata": {
    "collapsed": false
   },
   "outputs": [
    {
     "data": {
      "text/plain": [
       "EigenVals_JacHen (generic function with 1 method)"
      ]
     },
     "execution_count": 4,
     "metadata": {},
     "output_type": "execute_result"
    }
   ],
   "source": [
    "function EigenVals_JacHen(x,y,a,b)\n",
    "    λ₁=-a*x+sqrt((a*x)^2+b)\n",
    "    λ₂=-a*x-sqrt((a*x)^2+b)\n",
    "    return λ₁,λ₂\n",
    "end "
   ]
  },
  {
   "cell_type": "markdown",
   "metadata": {},
   "source": [
    "## Conjutos de Julia"
   ]
  },
  {
   "cell_type": "markdown",
   "metadata": {},
   "source": [
    "Ya que sabemos cómo determinar la estabilidad de los puntos fijos del mapeo de Hénon, pero necesitamos estudiar las órbitas que se obtienen al iterar $N$ veces en el mapeo de Hénon una condición inicial $\\vec{x}_0$. \n",
    "\n",
    "Tal como hicimos en la tarea 2, exploremos una región grande el el plano $XY$ para darnos una idea de cuáles son las condiciones iniciales que al iterarse convergen a alguna órbita acotada en el espacio $XY$ y cuáles otras condiciones \"explotan\" rápidamente después de iterar el mapeo una cantidad finita de veces."
   ]
  },
  {
   "cell_type": "markdown",
   "metadata": {},
   "source": [
    "La siguiente función es un algoritmo que construye el conjunto de Julia para una región en el espacio $XY$"
   ]
  },
  {
   "cell_type": "code",
   "execution_count": 6,
   "metadata": {
    "collapsed": false
   },
   "outputs": [
    {
     "name": "stderr",
     "output_type": "stream",
     "text": [
      "WARNING: Method definition Julia_set_Henon(Any, Any, Any, Any, Any, Any) in module Main at In[5]:14 overwritten at In[6]:14.\n",
      "WARNING: replacing docs for 'Julia_set_Henon :: Tuple{Any,Any,Any,Any,Any,Any}' in module 'Main'.\n"
     ]
    },
    {
     "data": {
      "text/plain": [
       "Julia_set_Henon"
      ]
     },
     "execution_count": 6,
     "metadata": {},
     "output_type": "execute_result"
    }
   ],
   "source": [
    "\"\"\"Función que grafica el conjunto de Julia generado por el mapeo f(z,c), en donde z \n",
    "es la variable en el plano complejo y c el parametro que caracteriza al \n",
    "sistema dinamico z_{n+1}=f(z_n)\n",
    "\n",
    "init_cond =  la malla de condiciones iniciales en el plano complejo \n",
    "\n",
    "m =  numero limite de iteraciones del mapeo\n",
    "\n",
    "R= radio del circulo en el plano complejo que se toma como criterio de divergencia\n",
    "\n",
    "\"\"\"\n",
    "function Julia_set_Henon(a,b,xrange,yrange,maxiter,R)\n",
    "    \n",
    "    mx=length(xrange)\n",
    "    my=length(yrange)\n",
    "    iterandos=zeros(my,mx) \n",
    "    for i in 1:mx\n",
    "        for j in 1:my\n",
    "            x=xrange[i]\n",
    "            y=yrange[my+1-j]\n",
    "                for k in 1:maxiter\n",
    "                x,y=Henon_map(x,y,a,b)\n",
    "                iterandos[j,i]=k\n",
    "                    if sqrt(x^2+y^2)>=R \n",
    "                    break\n",
    "                    end \n",
    "                end\n",
    "        end \n",
    "    end\n",
    "    return iterandos\n",
    "end"
   ]
  },
  {
   "cell_type": "markdown",
   "metadata": {
    "slideshow": {
     "slide_type": "slide"
    }
   },
   "source": [
    "# Caso conservativo "
   ]
  },
  {
   "cell_type": "markdown",
   "metadata": {
    "slideshow": {
     "slide_type": "fragment"
    }
   },
   "source": [
    "En este caso $b=-1$ y $b=1$. Para que existan puntos fijos reales se debe cumplir $a>a_{0}=-\\frac{1}{4}(1-b)^{2}$."
   ]
  },
  {
   "cell_type": "markdown",
   "metadata": {},
   "source": [
    "Para $b=-1$, $a=1.4$ se tiene lo siguiente:"
   ]
  },
  {
   "cell_type": "code",
   "execution_count": 7,
   "metadata": {
    "collapsed": false
   },
   "outputs": [
    {
     "data": {
      "text/plain": [
       "((0.39228095605926205,-0.39228095605926205),(-1.8208523846306908,1.8208523846306908))"
      ]
     },
     "execution_count": 7,
     "metadata": {},
     "output_type": "execute_result"
    }
   ],
   "source": [
    "a=1.4\n",
    "b=-1\n",
    "xf1,xf2=Fixed_points(a,b)"
   ]
  },
  {
   "cell_type": "code",
   "execution_count": 8,
   "metadata": {
    "collapsed": true
   },
   "outputs": [],
   "source": [
    "Jac1=Jacobian_henon(xf1[1],xf1[2],a,b)\n",
    "Jac2=Jacobian_henon(xf2[1],xf2[2],a,b);"
   ]
  },
  {
   "cell_type": "code",
   "execution_count": 9,
   "metadata": {
    "collapsed": false
   },
   "outputs": [
    {
     "data": {
      "text/plain": [
       "2-element Array{Complex{Float64},1}:\n",
       " -0.549193+0.835695im\n",
       " -0.549193-0.835695im"
      ]
     },
     "execution_count": 9,
     "metadata": {},
     "output_type": "execute_result"
    }
   ],
   "source": [
    "λ1,λ2=eigvals(Jac1)"
   ]
  },
  {
   "cell_type": "code",
   "execution_count": 10,
   "metadata": {
    "collapsed": false
   },
   "outputs": [
    {
     "data": {
      "text/plain": [
       "2-element Array{Float64,1}:\n",
       " 4.89406 \n",
       " 0.204329"
      ]
     },
     "execution_count": 10,
     "metadata": {},
     "output_type": "execute_result"
    }
   ],
   "source": [
    "λ3,λ4=eigvals(Jac2)"
   ]
  },
  {
   "cell_type": "markdown",
   "metadata": {},
   "source": [
    "Aquí el primer punto fijo $\\vec{x_1^*}=(0.3922...,-0.3922...)$ nos da una matriz Jacobiana cuyos valores propios son complejos. Notemos que la norma de estos valores propios es "
   ]
  },
  {
   "cell_type": "code",
   "execution_count": 11,
   "metadata": {
    "collapsed": false
   },
   "outputs": [
    {
     "data": {
      "text/plain": [
       "1.0"
      ]
     },
     "execution_count": 11,
     "metadata": {},
     "output_type": "execute_result"
    }
   ],
   "source": [
    "abs(λ1)"
   ]
  },
  {
   "cell_type": "markdown",
   "metadata": {},
   "source": [
    "Este caso corresponde a puntos fijos que se denominan **centros estables**, y dan lugar a órbitas periódicas cerradas en el espacio fase como mostraremos más adelante. "
   ]
  },
  {
   "cell_type": "markdown",
   "metadata": {},
   "source": [
    "El segundo punto fijo correspondiente a $\\vec{x_2^*}=(-1.82085...,1.82085...)$ coresponde a un punto silla inestable ya que ambos eigenvalores son reales y satisfacen un de los criterios arriba mencionados."
   ]
  },
  {
   "cell_type": "markdown",
   "metadata": {},
   "source": [
    "Por tanto el punto fijo en el caso **conservativo**, el punto fijo\n",
    "\n",
    "$$\\vec{x}_1^*=(0.84515...,0.84515...)$$ \n",
    "\n",
    "también corresponde  a un punto silla (inestable).\n"
   ]
  },
  {
   "cell_type": "code",
   "execution_count": 12,
   "metadata": {
    "collapsed": false
   },
   "outputs": [
    {
     "data": {
      "text/plain": [
       "(4.894057231540714,0.2043294454252198)"
      ]
     },
     "execution_count": 12,
     "metadata": {},
     "output_type": "execute_result"
    }
   ],
   "source": [
    "λ1,λ2=EigenVals_JacHen(xf2[1],xf2[2],a,b)"
   ]
  },
  {
   "cell_type": "markdown",
   "metadata": {},
   "source": [
    "Por tanto el punto fijo en el caso **conservativo**, el punto fijo\n",
    "\n",
    "$$\\vec{x}_2^*=(-0.84515...,-0.84515...)$$ \n",
    "\n",
    "también corresponde  a un punto silla (inestable).\n"
   ]
  },
  {
   "cell_type": "markdown",
   "metadata": {},
   "source": [
    "Este tipo de análisis realizado para los conjuntos de parámetros $a=1.4,b=0.3,-1$ se puede realizar para cuales quiera dos pares de parámetros (a,b) siempre y cuando se satisfaga la condición de que existan puntos fijos en el plano complejo. Esta condición como se menciono anteriormente es que hay dos puntos fijos en el plano $XY$ para cuando \n",
    "\n",
    "$$a\\gt-1/4(1-b)^2$$\n",
    "\n",
    "y un solo punto fijo en el plano $XY$ si\n",
    "$$a=-1/4(1-b)^2$$. \n"
   ]
  },
  {
   "cell_type": "markdown",
   "metadata": {},
   "source": [
    "- A continuación se presenta el conjunto de Julia para $b=1.0$ y se varía $a$ de $-1$ a $3$."
   ]
  },
  {
   "cell_type": "markdown",
   "metadata": {
    "collapsed": true,
    "slideshow": {
     "slide_type": "fragment"
    }
   },
   "source": [
    "![](JS_b_p1.gif)"
   ]
  },
  {
   "cell_type": "markdown",
   "metadata": {},
   "source": [
    "Se puede observar que para que existan puntos fijos reales se debe cumplir $a>0$"
   ]
  },
  {
   "cell_type": "markdown",
   "metadata": {},
   "source": [
    "- A continuación se presenta el conjunto de Julia para $b=-1.0$ y se varía $a$ de $-2$ a $4$."
   ]
  },
  {
   "cell_type": "markdown",
   "metadata": {},
   "source": [
    "![](JS_b_m1.gif)"
   ]
  },
  {
   "cell_type": "markdown",
   "metadata": {},
   "source": [
    "Se puede observar que para que existan puntos fijos reales se debe cumplir $a>-1$"
   ]
  },
  {
   "cell_type": "markdown",
   "metadata": {
    "slideshow": {
     "slide_type": "skip"
    }
   },
   "source": [
    "# Caso disipativo"
   ]
  },
  {
   "cell_type": "markdown",
   "metadata": {},
   "source": [
    "En este caso $b\\neq|1|$. Se escogen los parámetros $a=1.4,b=0.3$"
   ]
  },
  {
   "cell_type": "code",
   "execution_count": 13,
   "metadata": {
    "collapsed": true
   },
   "outputs": [],
   "source": [
    "a=1.4\n",
    "b=0.3\n",
    "xf1,xf2=Fixed_points(a,b);"
   ]
  },
  {
   "cell_type": "code",
   "execution_count": 14,
   "metadata": {
    "collapsed": false
   },
   "outputs": [
    {
     "data": {
      "text/plain": [
       "(0.6313544770895047,0.1894063431268514)"
      ]
     },
     "execution_count": 14,
     "metadata": {},
     "output_type": "execute_result"
    }
   ],
   "source": [
    "xf1"
   ]
  },
  {
   "cell_type": "code",
   "execution_count": 15,
   "metadata": {
    "collapsed": false
   },
   "outputs": [
    {
     "data": {
      "text/plain": [
       "(-1.1313544770895048,-0.3394063431268514)"
      ]
     },
     "execution_count": 15,
     "metadata": {},
     "output_type": "execute_result"
    }
   ],
   "source": [
    "xf2"
   ]
  },
  {
   "cell_type": "code",
   "execution_count": 16,
   "metadata": {
    "collapsed": false
   },
   "outputs": [
    {
     "data": {
      "text/plain": [
       "(0.15594632230279393,-1.9237388581534067)"
      ]
     },
     "execution_count": 16,
     "metadata": {},
     "output_type": "execute_result"
    }
   ],
   "source": [
    "λ1,λ2=EigenVals_JacHen(xf1[1],xf1[2],a,b)"
   ]
  },
  {
   "cell_type": "markdown",
   "metadata": {},
   "source": [
    "Por tanto vemos que el punto fijo \n",
    "\n",
    "$$\\vec{x^*_1}=(0.63135...,0.18940...)$$ \n",
    "\n",
    "es un punto fijo silla, que son puntos inestables."
   ]
  },
  {
   "cell_type": "markdown",
   "metadata": {},
   "source": [
    "Para el segundo punto fijo se tiene que los eigenvalores estan dados por:"
   ]
  },
  {
   "cell_type": "code",
   "execution_count": 17,
   "metadata": {
    "collapsed": false
   },
   "outputs": [
    {
     "data": {
      "text/plain": [
       "(3.259822097891452,-0.09202956204083912)"
      ]
     },
     "execution_count": 17,
     "metadata": {},
     "output_type": "execute_result"
    }
   ],
   "source": [
    "λ3,λ4=EigenVals_JacHen(xf2[1],xf2[2],a,b)"
   ]
  },
  {
   "cell_type": "markdown",
   "metadata": {},
   "source": [
    "Por tanto vemos que eel segundo punto fijo correspondiente a \n",
    "\n",
    "$$\\vec{x^*_2}=(-1.13135...,-0.33940...)$$\n",
    "\n",
    "también corresponde a un punto fijo silla (inestable)."
   ]
  },
  {
   "cell_type": "markdown",
   "metadata": {
    "slideshow": {
     "slide_type": "skip"
    }
   },
   "source": [
    "A continuación se presenta el conjunto de Julia para $b=0.3$ y se varía $a$ de $-0.4$ a $3$."
   ]
  },
  {
   "cell_type": "markdown",
   "metadata": {},
   "source": [
    "![](JS_b_03.gif)"
   ]
  },
  {
   "cell_type": "markdown",
   "metadata": {
    "slideshow": {
     "slide_type": "skip"
    }
   },
   "source": []
  }
 ],
 "metadata": {
  "kernelspec": {
   "display_name": "Julia 0.5.0",
   "language": "julia",
   "name": "julia-0.5"
  },
  "language_info": {
   "file_extension": ".jl",
   "mimetype": "application/julia",
   "name": "julia",
   "version": "0.5.0"
  }
 },
 "nbformat": 4,
 "nbformat_minor": 1
}
