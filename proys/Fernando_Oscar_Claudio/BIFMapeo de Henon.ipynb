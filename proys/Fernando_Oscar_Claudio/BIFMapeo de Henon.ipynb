{
 "cells": [
  {
   "cell_type": "code",
   "execution_count": 1,
   "metadata": {
    "collapsed": false
   },
   "outputs": [
    {
     "name": "stderr",
     "output_type": "stream",
     "text": [
      "WARNING: New definition \n",
      "    +(AbstractArray{T<:Any, 2}, WoodburyMatrices.SymWoodbury) at /Users/usuario/.julia/v0.4/WoodburyMatrices/src/SymWoodburyMatrices.jl:106\n",
      "is ambiguous with: \n",
      "    +(DataArrays.DataArray, AbstractArray) at /Users/usuario/.julia/v0.4/DataArrays/src/operators.jl:276.\n",
      "To fix, define \n",
      "    +(DataArrays.DataArray{T<:Any, 2}, WoodburyMatrices.SymWoodbury)\n",
      "before the new definition.\n",
      "WARNING: New definition \n",
      "    +(AbstractArray{T<:Any, 2}, WoodburyMatrices.SymWoodbury) at /Users/usuario/.julia/v0.4/WoodburyMatrices/src/SymWoodburyMatrices.jl:106\n",
      "is ambiguous with: \n",
      "    +(DataArrays.AbstractDataArray, AbstractArray) at /Users/usuario/.julia/v0.4/DataArrays/src/operators.jl:300.\n",
      "To fix, define \n",
      "    +(DataArrays.AbstractDataArray{T<:Any, 2}, WoodburyMatrices.SymWoodbury)\n",
      "before the new definition.\n"
     ]
    }
   ],
   "source": [
    "using Plots, PlotRecipes\n",
    "pyplot()\n",
    "using LaTeXStrings;\n",
    "using TaylorSeries"
   ]
  },
  {
   "cell_type": "code",
   "execution_count": 2,
   "metadata": {
    "collapsed": false
   },
   "outputs": [
    {
     "data": {
      "text/plain": [
       "Henon_map (generic function with 1 method)"
      ]
     },
     "execution_count": 2,
     "metadata": {},
     "output_type": "execute_result"
    }
   ],
   "source": [
    "\"\"\"Función que define el mapeo de Henon en 2D\"\"\"\n",
    "function Henon_map(x,y,a,b)\n",
    "    fx=y+1-a*x^2\n",
    "    fy=b*x\n",
    "    return fx,fy\n",
    "end "
   ]
  },
  {
   "cell_type": "code",
   "execution_count": 117,
   "metadata": {
    "collapsed": false
   },
   "outputs": [
    {
     "data": {
      "text/plain": [
       "iter_Henon (generic function with 1 method)"
      ]
     },
     "execution_count": 117,
     "metadata": {},
     "output_type": "execute_result"
    }
   ],
   "source": [
    "\"\"\"función que itera N veces el mapeo de Henon a partir de una condición inicial (x0,y0) \n",
    "con parámetros a,b\"\"\"\n",
    "function iter_Henon(x0,y0,a,b,N)\n",
    "    Henon_ab(x,y)=Henon_map(x,y,a,b)\n",
    "    xx=Float64[]\n",
    "    yy=Float64[]\n",
    "    push!(xx,x0)\n",
    "    push!(yy,y0)\n",
    "    x,y=Henon_ab(x0,y0)\n",
    "    for i in 1:N\n",
    "        x,y=Henon_ab(x,y)\n",
    "        if abs(x)<1e-10\n",
    "            push!(xx,0.0)\n",
    "        else\n",
    "            push!(xx,x)\n",
    "        end \n",
    "        if abs(y)<1e-10\n",
    "            push!(yy,0.0)\n",
    "        else\n",
    "            push!(yy,y)\n",
    "        end \n",
    "    \n",
    "    end \n",
    "    return xx,yy\n",
    "end "
   ]
  },
  {
   "cell_type": "code",
   "execution_count": 57,
   "metadata": {
    "collapsed": false
   },
   "outputs": [
    {
     "data": {
      "text/plain": [
       "0.3"
      ]
     },
     "execution_count": 57,
     "metadata": {},
     "output_type": "execute_result"
    }
   ],
   "source": [
    "Arange=-2:1/2^10:2\n",
    "M=10000\n",
    "Nlast=500\n",
    "a=1.4\n",
    "x0=0.\n",
    "y0=0.\n",
    "b=0.3"
   ]
  },
  {
   "cell_type": "code",
   "execution_count": 60,
   "metadata": {
    "collapsed": false
   },
   "outputs": [
    {
     "data": {
      "text/plain": [
       "([0.0,-0.4,1.076,-0.740886,0.554322,0.347552,0.997188,-0.287871,1.18314,-1.0461  …  -0.444516,0.38208,0.662266,0.500588,0.847856,0.143773,1.22542,-1.05918,-0.20297,0.624572],[0.0,0.3,-0.12,0.3228,-0.222266,0.166297,0.104265,0.299156,-0.0863614,0.354942  …  -0.341289,-0.133355,0.114624,0.19868,0.150176,0.254357,0.043132,0.367625,-0.317753,-0.0608909])"
      ]
     },
     "execution_count": 60,
     "metadata": {},
     "output_type": "execute_result"
    }
   ],
   "source": [
    "xx,yy=iter_Henon(x0, y0, a, b, 10000);"
   ]
  },
  {
   "cell_type": "code",
   "execution_count": null,
   "metadata": {
    "collapsed": true
   },
   "outputs": [],
   "source": [
    "\"\"\"función que itera m veces un mapeo f(x) a patir de una condición inicial x_0\n",
    "Devuelve los puntos x_n para toda n=1,2,...m en forma en un arreglo xvec\"\"\"\n",
    "function iter_map(f::Function,x_0::Float64,m::Int)\n",
    "    x=x_0\n",
    "    xvec=Float64[]\n",
    "    fvec=Float64[]\n",
    "    push!(xvec,x)\n",
    "    for i in 1:m\n",
    "        x=f(x)\n",
    "        if abs(x)<1e-10\n",
    "            push!(xvec,0.0)\n",
    "        else\n",
    "        push!(xvec,x)\n",
    "        end \n",
    "    end \n",
    "    return xvec\n",
    "end \n",
    "        "
   ]
  },
  {
   "cell_type": "code",
   "execution_count": 279,
   "metadata": {
    "collapsed": false
   },
   "outputs": [
    {
     "data": {
      "text/plain": [
       "Bif_diag (generic function with 2 methods)"
      ]
     },
     "execution_count": 279,
     "metadata": {},
     "output_type": "execute_result"
    }
   ],
   "source": [
    "\"\"\"Funcion que devuelve un arreglo `diagBif´ con los últimos Nlast iterados de un mapeo f(x,c),\n",
    "en donde c es un párametro. También devuelve un arreglo `cs´ que permite graficar el diagrama\n",
    "de bifurcaciones\n",
    "Los parámetros de entrada son los siguientes: \n",
    "-) f(x,c): la función a evaluar\n",
    "-) crange: rango en el que se tomaran los valores del parámetro c\n",
    "-) M: el número de iteraciones del mapeo\n",
    "-) x0: la condición inicial\n",
    "-) Nlast: los últimos iterados que se desea iterar para obtener las orbitas del diagrama de \n",
    "bifurcaciones\n",
    "\"\"\"\n",
    "function Bif_diag(Arange,M,x0,y0,b,Nlast)\n",
    "diagBifX=Float64[]\n",
    "diagBifY=Float64[]\n",
    "As=Float64[]\n",
    "    for a in Arange\n",
    "        x=x0\n",
    "        y=y0\n",
    "        for i in 1:M\n",
    "        x,y=Henon_map(x,y,a,b)\n",
    "        end \n",
    "        for i in 1:Nlast\n",
    "            push!(As,a)\n",
    "            x,y=Henon_map(x, y, a, b)\n",
    "            push!(diagBifX,x)\n",
    "            push!(diagBifY,y)\n",
    "        end\n",
    "    end\n",
    "    return As,diagBifX,diagBifY\n",
    "end "
   ]
  },
  {
   "cell_type": "markdown",
   "metadata": {},
   "source": [
    "# NOTA: Necesitamos definir los parámetros $a$ que sirven para que el mapeo no diverja"
   ]
  },
  {
   "cell_type": "markdown",
   "metadata": {},
   "source": [
    "## Puntos fijos y estabilidad del Mapeo de Henon."
   ]
  },
  {
   "cell_type": "code",
   "execution_count": 296,
   "metadata": {
    "collapsed": false
   },
   "outputs": [
    {
     "data": {
      "text/plain": [
       "Fixed_points (generic function with 1 method)"
      ]
     },
     "execution_count": 296,
     "metadata": {},
     "output_type": "execute_result"
    }
   ],
   "source": [
    "function Fixed_points(a,b)\n",
    "    xf1=-(1-b)/(2a)+(1/2a)*sqrt((1-b)^2+4a)\n",
    "    xf2=-(1-b)/(2a)-(1/2a)*sqrt((1-b)^2+4a)\n",
    "    yf1=b*xf1\n",
    "    yf2=b*xf2\n",
    "    return (xf1,yf1),(xf2,yf2)\n",
    "end "
   ]
  },
  {
   "cell_type": "code",
   "execution_count": 287,
   "metadata": {
    "collapsed": false
   },
   "outputs": [
    {
     "data": {
      "text/plain": [
       "Jacobian_henon (generic function with 1 method)"
      ]
     },
     "execution_count": 287,
     "metadata": {},
     "output_type": "execute_result"
    }
   ],
   "source": [
    "function Jacobian_henon(x,y,a,b)\n",
    "    Df=[[-2a*x,b] [1,0]]\n",
    "    return Df\n",
    "end "
   ]
  },
  {
   "cell_type": "code",
   "execution_count": 293,
   "metadata": {
    "collapsed": false
   },
   "outputs": [
    {
     "data": {
      "text/plain": [
       "Det_Jacobian (generic function with 1 method)"
      ]
     },
     "execution_count": 293,
     "metadata": {},
     "output_type": "execute_result"
    }
   ],
   "source": [
    "function Det_Jacobian(b)\n",
    "    return -b\n",
    "end "
   ]
  },
  {
   "cell_type": "code",
   "execution_count": 311,
   "metadata": {
    "collapsed": false
   },
   "outputs": [
    {
     "data": {
      "text/plain": [
       "EigenVals_JacHen (generic function with 1 method)"
      ]
     },
     "execution_count": 311,
     "metadata": {},
     "output_type": "execute_result"
    }
   ],
   "source": [
    "function EigenVals_JacHen(x,y,a,b)\n",
    "    λ₁=-a*x+sqrt((a*x)^2+b)\n",
    "    λ₂=-a*x-sqrt((a*x)^2+b)\n",
    "    return λ₁,λ₂\n",
    "end "
   ]
  },
  {
   "cell_type": "markdown",
   "metadata": {},
   "source": [
    "La estabilidad de los putnos fijos la estudiaremos con el criterio de  \"Lyapunov stability\". De acuerdo a aeste criterioLos puntos fijos son estables si la norma de los eigenvalores del determinante de la matriz Jacobiana valuada en los puntos fijos es menor a uno [Veáse esta referencia ](https://en.wikipedia.org/wiki/Lyapunov_stability#Stability_for_linear_state_space_models). Esto es. un punto fijo $\\vec{x_0}$ es estable si $|\\lambda|<1$ para todo $\\lambda$, en donde $\\lambda$  eigenvalor de la matriz Jacobiana del mapeo de Hénon: \n",
    "\n",
    "\\begin{equation}\n",
    "DH(\\vec{x_0}) = \\left( \n",
    "\\begin{array}{cc}\n",
    "-2ax_0 & 1 \\\\\n",
    "b & 0\n",
    "\\end{array} \n",
    "\\right).\n",
    "\\end{equation}"
   ]
  },
  {
   "cell_type": "code",
   "execution_count": 303,
   "metadata": {
    "collapsed": false
   },
   "outputs": [
    {
     "data": {
      "text/plain": [
       "0.3"
      ]
     },
     "execution_count": 303,
     "metadata": {},
     "output_type": "execute_result"
    }
   ],
   "source": [
    "a=1.4\n",
    "b=0.3"
   ]
  },
  {
   "cell_type": "code",
   "execution_count": 312,
   "metadata": {
    "collapsed": false
   },
   "outputs": [],
   "source": [
    "xf1,xf2=Fixed_points(a,b);"
   ]
  },
  {
   "cell_type": "code",
   "execution_count": 309,
   "metadata": {
    "collapsed": false
   },
   "outputs": [
    {
     "data": {
      "text/plain": [
       "(0.6313544770895047,0.1894063431268514)"
      ]
     },
     "execution_count": 309,
     "metadata": {},
     "output_type": "execute_result"
    }
   ],
   "source": [
    "xf1"
   ]
  },
  {
   "cell_type": "code",
   "execution_count": 313,
   "metadata": {
    "collapsed": false
   },
   "outputs": [
    {
     "data": {
      "text/plain": [
       "(-1.1313544770895048,-0.3394063431268514)"
      ]
     },
     "execution_count": 313,
     "metadata": {},
     "output_type": "execute_result"
    }
   ],
   "source": [
    "xf2"
   ]
  },
  {
   "cell_type": "code",
   "execution_count": 314,
   "metadata": {
    "collapsed": false
   },
   "outputs": [
    {
     "data": {
      "text/plain": [
       "(0.15594632230279393,-1.9237388581534067)"
      ]
     },
     "execution_count": 314,
     "metadata": {},
     "output_type": "execute_result"
    }
   ],
   "source": [
    "λ1,λ2=EigenVals_JacHen(xf1[1],xf1[2],a,b)"
   ]
  },
  {
   "cell_type": "markdown",
   "metadata": {},
   "source": [
    "Por tanto vemos que el punto fijo \n",
    "\n",
    "$$\\vec{x^*_1}=(0.63135...,0.18940...)$$ \n",
    "\n",
    "no es Lyapunov estable, ya que el segundo eigenvalor $\\lambda_2=-1.86555...$ tiene norma mayor a uno."
   ]
  },
  {
   "cell_type": "markdown",
   "metadata": {},
   "source": [
    "Para el segundo punto fijo se tiene que los eigenvalores estan dados por:"
   ]
  },
  {
   "cell_type": "code",
   "execution_count": 315,
   "metadata": {
    "collapsed": false
   },
   "outputs": [
    {
     "data": {
      "text/plain": [
       "(3.259822097891452,-0.09202956204083912)"
      ]
     },
     "execution_count": 315,
     "metadata": {},
     "output_type": "execute_result"
    }
   ],
   "source": [
    "λ3,λ4=EigenVals_JacHen(xf2[1],xf2[2],a,b)"
   ]
  },
  {
   "cell_type": "markdown",
   "metadata": {},
   "source": [
    "Por tanto vemos que eel segundo punto fijo correspondiente a \n",
    "\n",
    "$$\\vec{x^*_2}=(-1.13135...,-0.33940...)$$\n",
    "\n",
    "no es Lyapunov estable ya que el eigenvalor $\\lambda_3=3.25982...$ tiene norma mayor a uno."
   ]
  },
  {
   "cell_type": "markdown",
   "metadata": {},
   "source": [
    "Ahora veamos que pasa con la iteración de una condición inicial, digamos $\\vec{x}_0$. Iteremos N veces el mapeo de Hénon con los parámetros $a=1.4$,  $b=0.3$ y pintemos la órbita que se dibuja en el espacio fase $XY$:\n",
    "\n"
   ]
  },
  {
   "cell_type": "code",
   "execution_count": null,
   "metadata": {
    "collapsed": true
   },
   "outputs": [],
   "source": []
  },
  {
   "cell_type": "code",
   "execution_count": 206,
   "metadata": {
    "collapsed": false
   },
   "outputs": [
    {
     "data": {
      "text/plain": [
       "0.0:6.103515625e-5:1.39996337890625"
      ]
     },
     "execution_count": 206,
     "metadata": {},
     "output_type": "execute_result"
    }
   ],
   "source": [
    "Arange=0:1/2^14:1.4"
   ]
  },
  {
   "cell_type": "code",
   "execution_count": 272,
   "metadata": {
    "collapsed": false
   },
   "outputs": [
    {
     "data": {
      "text/plain": [
       "0.3"
      ]
     },
     "execution_count": 272,
     "metadata": {},
     "output_type": "execute_result"
    }
   ],
   "source": [
    "M=100000\n",
    "Nlast=250\n",
    "x0=0.1\n",
    "y0=0.1\n",
    "b=0.3"
   ]
  },
  {
   "cell_type": "code",
   "execution_count": 280,
   "metadata": {
    "collapsed": false
   },
   "outputs": [
    {
     "data": {
      "text/plain": [
       "([0.0,0.0,0.0,0.0,0.0,0.0,0.0,0.0,0.0,0.0  …  1.39996,1.39996,1.39996,1.39996,1.39996,1.39996,1.39996,1.39996,1.39996,1.39996],[1.42857,1.42857,1.42857,1.42857,1.42857,1.42857,1.42857,1.42857,1.42857,1.42857  …  0.605086,0.680527,0.533179,0.806177,0.250088,1.15429,-0.790276,0.47196,0.451081,0.856732],[0.428571,0.428571,0.428571,0.428571,0.428571,0.428571,0.428571,0.428571,0.428571,0.428571  …  0.193095,0.181526,0.204158,0.159954,0.241853,0.0750264,0.346288,-0.237083,0.141588,0.135324])"
      ]
     },
     "execution_count": 280,
     "metadata": {},
     "output_type": "execute_result"
    }
   ],
   "source": [
    "as,xbif,ybif=Bif_diag(Arange, M, x0, y0, b, Nlast) ; #revisar la funcion Bif diag para hacerla \n",
    "#mas rapida"
   ]
  },
  {
   "cell_type": "code",
   "execution_count": 282,
   "metadata": {
    "collapsed": false
   },
   "outputs": [
    {
     "data": {
      "text/html": [
       "<img src=\"data:image/png;base64,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\" />"
      ]
     },
     "execution_count": 282,
     "metadata": {},
     "output_type": "execute_result"
    }
   ],
   "source": [
    "scatter(as,xbif, markersize=1,markerstrokecolor=false,size=(900,900))#,xlim=(1,1.1))\n",
    "scatter!(as,ybif,markersize=1,markerstrokecolor=false,color=:red)\n",
    "plot!(as,zeros(length(as)),c=:gold,xlim=(0.367,0.368))\n",
    "#(0.36597228673036497,0.366084517823527)\n",
    "#(0.36735732327485593,0.3673686471347857)\n",
    "plot!([0.3673686471347857,0.3673686471347857],[-1,1.5])\n",
    "plot!([0,1.4],[0.952473, 0.952473])\n",
    "xlabel!(L\"a\")\n",
    "ylabel!(L\"x_n, \\ y_n\")\n",
    "title!(\"Diagrama de bifurcaciones del Mapeo de Hénon \")\n"
   ]
  },
  {
   "cell_type": "code",
   "execution_count": 263,
   "metadata": {
    "collapsed": false
   },
   "outputs": [
    {
     "data": {
      "text/plain": [
       "orbit_lengthX (generic function with 2 methods)"
      ]
     },
     "execution_count": 263,
     "metadata": {},
     "output_type": "execute_result"
    }
   ],
   "source": [
    "\"\"\"esta función calcula la longitud de la orbita solamente en las X de la iteración del \n",
    "mapeo de Hénon a partir de una condición inicial (x0,y0) y dos parámetros (a,b). La función \n",
    "itera Norb veces la condición inicial y a partir de ahí ve los valores distintos \n",
    "de las x_{n+i} para determinar la longitud de la orbita en as X.\n",
    "\"\"\"\n",
    "function orbit_lengthX(x0,y0,a,b,Norb)\n",
    "    HenAB(x,y)=Henon_map(x,y,a,b)\n",
    "    x=x0\n",
    "    y=y0\n",
    "    tol=1e-8\n",
    "    cont=1\n",
    "    for i in 1:Norb\n",
    "        x,y=HenAB(x,y)\n",
    "    end \n",
    "    xf=x\n",
    "    yf=y\n",
    "    xorbit,yorbit=HenAB(xf,yf)\n",
    "    while abs(xf-xorbit)>tol\n",
    "        cont=cont+1\n",
    "        #xf=xorbit\n",
    "        xorbit,yorbit=HenAB(xorbit,yorbit)   \n",
    "        if cont>10*1024+1\n",
    "            #println(\"numero de iterados insuficiente\")\n",
    "            break\n",
    "        end \n",
    "    end \n",
    "    return cont\n",
    "end \n",
    "      "
   ]
  },
  {
   "cell_type": "code",
   "execution_count": 269,
   "metadata": {
    "collapsed": false
   },
   "outputs": [
    {
     "data": {
      "text/plain": [
       "1"
      ]
     },
     "execution_count": 269,
     "metadata": {},
     "output_type": "execute_result"
    }
   ],
   "source": [
    "b=0.3\n",
    "a=0.3674\n",
    "orb=500000\n",
    "orbit_lengthX(0,0,a,b,Norb)"
   ]
  },
  {
   "cell_type": "code",
   "execution_count": 270,
   "metadata": {
    "collapsed": false
   },
   "outputs": [
    {
     "data": {
      "text/plain": [
       "([0.0,0.6326,1.15297,0.701378,1.16516,0.711635,1.16349,0.716141,1.16062,0.719938  …  0.952446,0.952446,0.952446,0.952446,0.952446,0.952446,0.952446,0.952446,0.952446,0.952446],[0.0,0.3,0.18978,0.345892,0.210413,0.349547,0.213491,0.349046,0.214842,0.348187  …  0.285734,0.285734,0.285734,0.285734,0.285734,0.285734,0.285734,0.285734,0.285734,0.285734])"
      ]
     },
     "execution_count": 270,
     "metadata": {},
     "output_type": "execute_result"
    }
   ],
   "source": [
    "xx,yy=iter_Henon(0,0, a, b, Norb)"
   ]
  },
  {
   "cell_type": "code",
   "execution_count": 271,
   "metadata": {
    "collapsed": false
   },
   "outputs": [
    {
     "data": {
      "text/plain": [
       "500001-element Array{Float64,1}:\n",
       " 0.0     \n",
       " 0.6326  \n",
       " 1.15297 \n",
       " 0.701378\n",
       " 1.16516 \n",
       " 0.711635\n",
       " 1.16349 \n",
       " 0.716141\n",
       " 1.16062 \n",
       " 0.719938\n",
       " 1.15776 \n",
       " 0.723516\n",
       " 1.155   \n",
       " ⋮       \n",
       " 0.952446\n",
       " 0.952446\n",
       " 0.952446\n",
       " 0.952446\n",
       " 0.952446\n",
       " 0.952446\n",
       " 0.952446\n",
       " 0.952446\n",
       " 0.952446\n",
       " 0.952446\n",
       " 0.952446\n",
       " 0.952446"
      ]
     },
     "execution_count": 271,
     "metadata": {},
     "output_type": "execute_result"
    }
   ],
   "source": [
    "xx"
   ]
  },
  {
   "cell_type": "code",
   "execution_count": 265,
   "metadata": {
    "collapsed": false
   },
   "outputs": [
    {
     "data": {
      "text/plain": [
       "0.9524733864226376"
      ]
     },
     "execution_count": 265,
     "metadata": {},
     "output_type": "execute_result"
    }
   ],
   "source": [
    "xx[end-30]"
   ]
  },
  {
   "cell_type": "code",
   "execution_count": 257,
   "metadata": {
    "collapsed": false
   },
   "outputs": [
    {
     "data": {
      "text/plain": [
       "2.1100898806025725e-12"
      ]
     },
     "execution_count": 257,
     "metadata": {},
     "output_type": "execute_result"
    }
   ],
   "source": [
    "abs(xx[end]-xx[end-1])"
   ]
  },
  {
   "cell_type": "code",
   "execution_count": 148,
   "metadata": {
    "collapsed": false
   },
   "outputs": [
    {
     "data": {
      "text/plain": [
       "4"
      ]
     },
     "execution_count": 148,
     "metadata": {},
     "output_type": "execute_result"
    }
   ],
   "source": [
    "orbit_lengthY(0,0,a,b,10000)"
   ]
  },
  {
   "cell_type": "code",
   "execution_count": 147,
   "metadata": {
    "collapsed": false
   },
   "outputs": [
    {
     "data": {
      "text/plain": [
       "orbit_lengthY (generic function with 2 methods)"
      ]
     },
     "execution_count": 147,
     "metadata": {},
     "output_type": "execute_result"
    }
   ],
   "source": [
    "\"\"\"esta función calcula la longitud de la orbita solamente en las Y de la iteración del \n",
    "mapeo de Hénon a partir de una condición inicial (x0,y0) y dos parámetros (a,b). La función \n",
    "itera Norb veces la condición inicial y a partir de ahí ve los valores distintos \n",
    "de las y_{n+i} para determinar la longitud de la orbita en as Y.\n",
    "\"\"\"\n",
    "function orbit_lengthY(x0,y0,a,b,Norb)\n",
    "    HenAB(x,y)=Henon_map(x,y,a,b)\n",
    "    x=x0\n",
    "    y=y0\n",
    "    tol=1e-8\n",
    "    cont=1\n",
    "    for i in 1:Norb\n",
    "        x,y=HenAB(x,y)\n",
    "    end \n",
    "    xf=x\n",
    "    yf=y\n",
    "    xorbit,yorbit=HenAB(xf,yf)\n",
    "    while abs(yf-yorbit)>tol\n",
    "        cont=cont+1\n",
    "        xorbit,yorbit=HenAB(xorbit,yorbit)   \n",
    "        if cont>6*1024+1\n",
    "            #println(\"numero de iterados insuficiente\")\n",
    "            break\n",
    "        end \n",
    "    end \n",
    "    return cont\n",
    "end \n",
    "      "
   ]
  },
  {
   "cell_type": "code",
   "execution_count": 179,
   "metadata": {
    "collapsed": false
   },
   "outputs": [
    {
     "data": {
      "text/plain": [
       "orbit_lengthXY (generic function with 1 method)"
      ]
     },
     "execution_count": 179,
     "metadata": {},
     "output_type": "execute_result"
    }
   ],
   "source": [
    "\"\"\"esta función calcula las longitudes de las orbitas en las X's y en las Y's de la iteración \n",
    "del mapeo de Hénon a partir de una condición inicial (x0,y0) y dos parámetros (a,b). La función \n",
    "itera Norb veces la condición inicial y a partir de ahí ve los valores distintos \n",
    "de las x_{Norb+i} y als y_{Norb+i} para determinar la longitud de la orbita en las X y en las Y\n",
    "\"\"\"\n",
    "function orbit_lengthXY(x0,y0,a,b,Norb)\n",
    "    HenAB(x,y)=Henon_map(x,y,a,b)\n",
    "    x=x0\n",
    "    y=y0\n",
    "    tol=1e-8\n",
    "    contX=1\n",
    "    contY=1\n",
    "    for i in 1:Norb\n",
    "        x,y=HenAB(x,y)\n",
    "    end \n",
    "    xf=x\n",
    "    yf=y\n",
    "    xorbit,yorbit=HenAB(xf,yf)\n",
    "    while abs(xf-xorbit)>tol\n",
    "        contX=contX+1\n",
    "        xorbit,yorbit=HenAB(xorbit,yorbit)   \n",
    "        if contX>10*1024+1\n",
    "            #println(\"numero de iterados insuficiente\")\n",
    "            break\n",
    "        end \n",
    "    end \n",
    "    \n",
    "    xorbit,yorbit=HenAB(xf,yf)\n",
    "    \n",
    "    while abs(yf-yorbit)>tol\n",
    "        contY=contY+1\n",
    "        xorbit,yorbit=HenAB(xorbit,yorbit)   \n",
    "        if contY>10*1024+1\n",
    "            #println(\"numero de iterados insuficiente\")\n",
    "            break\n",
    "        end \n",
    "    end \n",
    "    \n",
    "    \n",
    "    return contX,contY\n",
    "end \n",
    "      "
   ]
  },
  {
   "cell_type": "code",
   "execution_count": 248,
   "metadata": {
    "collapsed": false
   },
   "outputs": [
    {
     "data": {
      "text/plain": [
       "(1,1)"
      ]
     },
     "execution_count": 248,
     "metadata": {},
     "output_type": "execute_result"
    }
   ],
   "source": [
    "x0=0\n",
    "y0=0\n",
    "b=0.3\n",
    "a=0.3673573522874076\n",
    "Norb=100000\n",
    "orbX,orbY=orbit_lengthXY(x0, y0, a, b, Norb) "
   ]
  },
  {
   "cell_type": "code",
   "execution_count": 213,
   "metadata": {
    "collapsed": false
   },
   "outputs": [
    {
     "data": {
      "text/plain": [
       "point_bif (generic function with 1 method)"
      ]
     },
     "execution_count": 213,
     "metadata": {},
     "output_type": "execute_result"
    }
   ],
   "source": [
    "\"\"\"funcion que determina (si es que existe) el punto de bifurcación (en la variable x o en la \n",
    "variable y) del mapeo de Henon.\n",
    "entre dos valores de parámetro a1 y a2 con Norb iteraciones a partir de la condicion inicial\n",
    "(x0,y0)\n",
    "En caso de existir bifurcación, la función devuelve el valor del parámetro \n",
    "'Ab' en donde se presenta la bifurcación\n",
    "NOTA: Funciona mejor con Norb>1000000\"\"\"\n",
    "\n",
    "function point_bif(x0,y0,a1,a2,Norb)\n",
    "     tol=1e-14\n",
    "    L1x,L1y=orbit_lengthXY(x0, y0, a1, b, Norb)\n",
    "    L2x,L2y=orbit_lengthXY(x0, y0, a2, b, Norb)\n",
    "    c1=a1\n",
    "    c2=a2\n",
    "        if (L1x-L2x)==0 #para las X's\n",
    "            nothing\n",
    "        else\n",
    "             while abs(c1-c2)>tol\n",
    "            cmed=(c1+c2)/2\n",
    "            LmedX,LmedY=orbit_lengthXY(x0, y0, cmed, b, Norb) \n",
    "        if LmedX==L1x\n",
    "            c1=cmed\n",
    "                L1x,L1y=orbit_lengthXY(x0, y0, c1, b, Norb) \n",
    "        else LmedX==L2x\n",
    "            c2=cmed\n",
    "                L2x,L2y=orbit_lengthXY(x0,y0,c2,b,Norb)\n",
    "        end  \n",
    "        end\n",
    "    end \n",
    "    cbX=(c1+c2)/2\n",
    "    \n",
    "    \n",
    "    L1x,L1y=orbit_lengthXY(x0, y0, a1, b, Norb)\n",
    "    L2x,L2y=orbit_lengthXY(x0, y0, a2, b, Norb)\n",
    "    c1=a1\n",
    "    c2=a2\n",
    "    if (L1y-L2y)==0 #para las Y's\n",
    "            nothing\n",
    "        else\n",
    "             while abs(c1-c2)>tol\n",
    "            cmed=(c1+c2)/2\n",
    "            LmedX,LmedY=orbit_lengthXY(x0, y0, cmed, b, Norb) \n",
    "            if LmedY==L1y\n",
    "            c1=cmed\n",
    "                L1x,L1y=orbit_lengthXY(x0, y0, c1, b, Norb) \n",
    "                else LmedY==L2y\n",
    "            c2=cmed\n",
    "                L2x,L2y=orbit_lengthXY(x0,y0,c2,b,Norb)\n",
    "        end  \n",
    "        end\n",
    "    end \n",
    "    cbY=(c1+c2)/2\n",
    "    return cbX,cbY\n",
    "    \n",
    "end "
   ]
  },
  {
   "cell_type": "code",
   "execution_count": 244,
   "metadata": {
    "collapsed": false
   },
   "outputs": [
    {
     "data": {
      "text/plain": [
       "100000"
      ]
     },
     "execution_count": 244,
     "metadata": {},
     "output_type": "execute_result"
    }
   ],
   "source": [
    "a1=0.36\n",
    "a2=0.3674868088693479\n",
    "Norb=100000"
   ]
  },
  {
   "cell_type": "code",
   "execution_count": 245,
   "metadata": {
    "collapsed": false
   },
   "outputs": [
    {
     "name": "stdout",
     "output_type": "stream",
     "text": [
      "  5.686187 seconds (82.29 M allocations: 1.961 GB, 13.74% gc time)\n"
     ]
    },
    {
     "data": {
      "text/plain": [
       "(0.3673573522874076,0.36736867394211875)"
      ]
     },
     "execution_count": 245,
     "metadata": {},
     "output_type": "execute_result"
    }
   ],
   "source": [
    "@time point_bif(x0, y0, a1, a2, Norb) "
   ]
  },
  {
   "cell_type": "code",
   "execution_count": 241,
   "metadata": {
    "collapsed": false
   },
   "outputs": [
    {
     "data": {
      "text/plain": [
       "(1,1)"
      ]
     },
     "execution_count": 241,
     "metadata": {},
     "output_type": "execute_result"
    }
   ],
   "source": [
    "x0=0\n",
    "y0=0\n",
    "b=0.3\n",
    "a=0.3674979\n",
    "Norb=10000000\n",
    "orbX,orbY=orbit_lengthXY(x0, y0, a, b, Norb) "
   ]
  },
  {
   "cell_type": "code",
   "execution_count": 215,
   "metadata": {
    "collapsed": false
   },
   "outputs": [
    {
     "data": {
      "text/plain": [
       "fn_ratio (generic function with 1 method)"
      ]
     },
     "execution_count": 215,
     "metadata": {},
     "output_type": "execute_result"
    }
   ],
   "source": [
    "\"\"\"Función que calcula los parámetros de Feigenbaum con los puntos superestables dados \n",
    "en un arreglo cs\"\"\"\n",
    "function fn_ratio(cn)\n",
    "    fn=Float64[]\n",
    "    for i in 1:length(cn)-2\n",
    "        ratio=(cn[i]-cn[i+1])/(cn[i+1]-cn[i+2])\n",
    "        push!(fn,ratio)\n",
    "    end \n",
    "    return fn\n",
    "end\n"
   ]
  },
  {
   "cell_type": "code",
   "execution_count": null,
   "metadata": {
    "collapsed": true
   },
   "outputs": [],
   "source": []
  },
  {
   "cell_type": "code",
   "execution_count": null,
   "metadata": {
    "collapsed": true
   },
   "outputs": [],
   "source": []
  },
  {
   "cell_type": "code",
   "execution_count": 42,
   "metadata": {
    "collapsed": false
   },
   "outputs": [
    {
     "data": {
      "text/plain": [
       "100000"
      ]
     },
     "execution_count": 42,
     "metadata": {},
     "output_type": "execute_result"
    }
   ],
   "source": []
  },
  {
   "cell_type": "code",
   "execution_count": 43,
   "metadata": {
    "collapsed": false
   },
   "outputs": [],
   "source": [
    "xx,yy=iter_Henon(x0, y0, a, b, N);"
   ]
  },
  {
   "cell_type": "code",
   "execution_count": 44,
   "metadata": {
    "collapsed": false
   },
   "outputs": [
    {
     "data": {
      "text/html": [
       "<img src=\"data:image/png;base64,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\" />"
      ]
     },
     "execution_count": 44,
     "metadata": {},
     "output_type": "execute_result"
    }
   ],
   "source": [
    "scatter(xx,yy,ms=1,markerstrokecolor=false,xlim=(0.35,0.5))\n"
   ]
  },
  {
   "cell_type": "code",
   "execution_count": null,
   "metadata": {
    "collapsed": true
   },
   "outputs": [],
   "source": [
    "scatter(cs,diagBif, markersize=0.05, xaxis=(L\"c\"), \n",
    "ylabel=L\"x\",title=(L\"Diagrama de bifurcaciones de $f(x,c) = x^2 + c$\"),size=(900,900))\n",
    "plot!(ces,zeros(length(ces)),c=:gold)\n",
    "xlabel!(L\"c\")\n",
    "ylabel!(L\"x_n\")\n"
   ]
  },
  {
   "cell_type": "code",
   "execution_count": null,
   "metadata": {
    "collapsed": true
   },
   "outputs": [],
   "source": []
  },
  {
   "cell_type": "code",
   "execution_count": null,
   "metadata": {
    "collapsed": true
   },
   "outputs": [],
   "source": []
  },
  {
   "cell_type": "code",
   "execution_count": null,
   "metadata": {
    "collapsed": true
   },
   "outputs": [],
   "source": []
  },
  {
   "cell_type": "code",
   "execution_count": null,
   "metadata": {
    "collapsed": true
   },
   "outputs": [],
   "source": []
  }
 ],
 "metadata": {
  "kernelspec": {
   "display_name": "Julia 0.4.6",
   "language": "julia",
   "name": "julia-0.4"
  },
  "language_info": {
   "file_extension": ".jl",
   "mimetype": "application/julia",
   "name": "julia",
   "version": "0.4.6"
  }
 },
 "nbformat": 4,
 "nbformat_minor": 0
}
