{
 "cells": [
  {
   "cell_type": "markdown",
   "metadata": {},
   "source": [
    "# Tarea 2\n",
    "\n",
    "Miguel Raz y Claudio Pierard"
   ]
  },
  {
   "cell_type": "markdown",
   "metadata": {
    "collapsed": true
   },
   "source": [
    "1) Consideren la función\n",
    "\n",
    "\\begin{equation}\n",
    "z_{n+1} = z_n^2 + c, \n",
    "\\end{equation}\n",
    "\n",
    "con `c = 0.12256484161600012 - 0.74486407104im`. Definan una malla de valores iniciales $z_0$ en el intervalo $[-1,1]\\times [-1,1]$ (parte real $\\times$ parte imaginaria).\n",
    "\n",
    "- ¿Cuantos valores finitos distintos (en el intervalo $[-1,1]\\times [-1,1]$) se pueden obtener después de un gran número de iteraciones?\n",
    "\n",
    "- Usando un color distinto para cada uno, grafiquen en el plano $\\textrm{Re}(z) - \\textrm{Im}(z)$ el conjunto obtenido."
   ]
  },
  {
   "cell_type": "markdown",
   "metadata": {},
   "source": [
    "2) Usando la función `compute_roots` vista en clase, o en alguna variación propuesta por ustedes, definan (en Julia) el mapeo\n",
    "\n",
    "\\begin{equation}\n",
    "x_{n+1} = B(x_{n}) = 2x_n \\mod 1.\n",
    "\\end{equation}\n",
    "\n",
    "- Obtengas los puntos fijos de este mapeo numéricamente. Los puntos fijos del mapeo son aquéllos que se mapean en si mismos, es decir, $x_{n} = B(x_{n})$. Este cálculo se puede hacer a mano, lo que debe usarse para comprobar que la implementación numérica funciona bien.\n",
    "\n",
    "- Pensando en que la estabilidad de un punto fijo es el comportamiento que se observa de los iterados (a priori un número infinito) al considerar pequeñas desviaciones del punto fijo, ¿cuál es la estabilidad de los puntos fijos que se obtiene *numéricamente*, digamos, después de 100 iteraciones? ¿Pueden encontrar una explicación analítica de la observación numérica?\n",
    "\n",
    "*Hint: Sean imaginos y no se conformen*"
   ]
  },
  {
   "cell_type": "markdown",
   "metadata": {
    "collapsed": true
   },
   "source": [
    "#### Pregunta 1\n",
    "Haciendo la malla de condiciones iniciales:"
   ]
  },
  {
   "cell_type": "code",
   "execution_count": 84,
   "metadata": {
    "collapsed": false
   },
   "outputs": [],
   "source": [
    "using PyPlot"
   ]
  },
  {
   "cell_type": "code",
   "execution_count": 134,
   "metadata": {
    "collapsed": false
   },
   "outputs": [
    {
     "data": {
      "text/plain": [
       "initial_conditions (generic function with 1 method)"
      ]
     },
     "execution_count": 134,
     "metadata": {},
     "output_type": "execute_result"
    }
   ],
   "source": [
    "function initial_conditions(rango)\n",
    "    \n",
    "    imaginarios = collect(rango)\n",
    "    reales = collect(rango)\n",
    "    \n",
    "    Z_initial = complex(zeros(length(rango), length(rango)))\n",
    "    \n",
    "    for j in 1 : length(rango)\n",
    "        for i in 1 : length(rango)\n",
    "            \n",
    "            Z_initial[i,j] = complex(reales[i], imaginarios[j])\n",
    "            \n",
    "        end\n",
    "    end\n",
    "    \n",
    "    Z_initial\n",
    "    \n",
    "end"
   ]
  },
  {
   "cell_type": "code",
   "execution_count": 92,
   "metadata": {
    "collapsed": false
   },
   "outputs": [
    {
     "data": {
      "text/plain": [
       "interator (generic function with 1 method)"
      ]
     },
     "execution_count": 92,
     "metadata": {},
     "output_type": "execute_result"
    }
   ],
   "source": [
    "function interator(f, X0, n)\n",
    "    \n",
    "    for t in 1:n\n",
    "        for j in 1:length(X0[:,1])\n",
    "            for i in 1:length(X0[1,:])\n",
    "                \n",
    "                X0[i,j] = f(X0[i,j])\n",
    "                \n",
    "            end\n",
    "        end\n",
    "    end\n",
    "    \n",
    "    X0\n",
    "    \n",
    "end"
   ]
  },
  {
   "cell_type": "code",
   "execution_count": 85,
   "metadata": {
    "collapsed": false
   },
   "outputs": [
    {
     "data": {
      "text/plain": [
       "f (generic function with 1 method)"
      ]
     },
     "execution_count": 85,
     "metadata": {},
     "output_type": "execute_result"
    }
   ],
   "source": [
    "f(z) = z^2 + (0.12256484161600012 - 0.74486407104im)"
   ]
  },
  {
   "cell_type": "code",
   "execution_count": 132,
   "metadata": {
    "collapsed": false
   },
   "outputs": [
    {
     "data": {
      "text/plain": [
       "33x33 Array{Complex{Float64},2}:\n",
       "       NaN+NaN*im                NaN+NaN*im         …        NaN+NaN*im     \n",
       " 3.07994e7-2.38123e7im           NaN+NaN*im                  NaN+NaN*im     \n",
       "   68.8124-40.4378im    -1.25724e205-1.10065e206im           NaN+NaN*im     \n",
       "       NaN+NaN*im                NaN+NaN*im                  NaN+NaN*im     \n",
       "       NaN+NaN*im                NaN+NaN*im                  NaN+NaN*im     \n",
       "       NaN+NaN*im                NaN+NaN*im         …        NaN+NaN*im     \n",
       "       NaN+NaN*im                NaN+NaN*im                  NaN+NaN*im     \n",
       "       NaN+NaN*im                NaN+NaN*im                  NaN+NaN*im     \n",
       "       NaN+NaN*im                NaN+NaN*im                  NaN+NaN*im     \n",
       "       NaN+NaN*im                NaN+NaN*im                  NaN+NaN*im     \n",
       "       NaN+NaN*im                NaN+NaN*im         …        NaN+NaN*im     \n",
       "       NaN+NaN*im                NaN+NaN*im                  NaN+NaN*im     \n",
       "       NaN+NaN*im                NaN+NaN*im                  NaN+NaN*im     \n",
       "          ⋮                                         ⋱                       \n",
       "       NaN+NaN*im                NaN+NaN*im                  NaN+NaN*im     \n",
       "       NaN+NaN*im                NaN+NaN*im                  NaN+NaN*im     \n",
       "       NaN+NaN*im                NaN+NaN*im                  NaN+NaN*im     \n",
       "       NaN+NaN*im                NaN+NaN*im                  NaN+NaN*im     \n",
       "       NaN+NaN*im                NaN+NaN*im         …        NaN+NaN*im     \n",
       "       NaN+NaN*im                NaN+NaN*im                  NaN+NaN*im     \n",
       "       NaN+NaN*im                NaN+NaN*im                  NaN+NaN*im     \n",
       "       NaN+NaN*im                NaN+NaN*im                  NaN+NaN*im     \n",
       "       NaN+NaN*im                NaN+NaN*im                  NaN+NaN*im     \n",
       "       NaN+NaN*im                NaN+NaN*im         …    68.8124-40.4378im  \n",
       "       NaN+NaN*im                NaN+NaN*im            3.07994e7-2.38123e7im\n",
       "       NaN+NaN*im                NaN+NaN*im                  NaN+NaN*im     "
      ]
     },
     "execution_count": 132,
     "metadata": {},
     "output_type": "execute_result"
    }
   ],
   "source": [
    "Z1 = initial_conditions(-1:1/16:1)\n",
    "Zf = interator(f, Z1, 20)"
   ]
  },
  {
   "cell_type": "code",
   "execution_count": 133,
   "metadata": {
    "collapsed": false
   },
   "outputs": [
    {
     "data": {
      "image/png": "[encoded data removed]",
      "text/plain": [
       "LastMain.PyPlot.Figure(PyObject <matplotlib.figure.Figure object at 0x32185b690>)"
      ]
     },
     "metadata": {},
     "output_type": "display_data"
    },
    {
     "data": {
      "text/plain": [
       "1-element Array{Any,1}:\n",
       " PyObject <matplotlib.lines.Line2D object at 0x321f04c10>"
      ]
     },
     "execution_count": 133,
     "metadata": {},
     "output_type": "execute_result"
    }
   ],
   "source": [
    "#for i in 1:length(Zf[1,:])\n",
    "    \n",
    "    plot(real(Zf[:,2]), imag(Zf[:,2]), \"o\")\n",
    "#end"
   ]
  },
  {
   "cell_type": "markdown",
   "metadata": {},
   "source": [
    "**Observaciones:** Al iterar más de 10 veces la función f, con un conjunto de condiciones iniciales complejas en $[-1,1]\\times [-1,1]$, todos los valores divergen. A considerar:\n",
    "- Ver que la idea esté bien.\n",
    "- Sólo iterarlo un número $n < 10$, antes que que diverja algún elemento de la matriz.\n",
    "- Graficarlo en una escala logarítmica."
   ]
  },
  {
   "cell_type": "markdown",
   "metadata": {},
   "source": [
    "#### Pregunta 2"
   ]
  },
  {
   "cell_type": "code",
   "execution_count": 135,
   "metadata": {
    "collapsed": false
   },
   "outputs": [
    {
     "data": {
      "text/plain": [
       "compute_roots (generic function with 1 method)"
      ]
     },
     "execution_count": 135,
     "metadata": {},
     "output_type": "execute_result"
    }
   ],
   "source": [
    "function compute_roots(f, f´, range)\n",
    "    initial_conditions = range\n",
    "    roots = similar(initial_conditions)\n",
    "\n",
    "    for (j, x_0) in enumerate(initial_conditions)\n",
    "        x = x_0\n",
    "\n",
    "        # 100 iterations of Newton's method\n",
    "        for i in 1:100\n",
    "            x = x - f(x) / f´(x)\n",
    "        end\n",
    "\n",
    "        roots[j] = x\n",
    "    end\n",
    "    \n",
    "    roots\n",
    "end"
   ]
  },
  {
   "cell_type": "code",
   "execution_count": 140,
   "metadata": {
    "collapsed": false
   },
   "outputs": [
    {
     "name": "stdout",
     "output_type": "stream",
     "text": [
      "search: range Range RangeIndex nzrange linrange histrange UnitRange StepRange\n",
      "\n"
     ]
    },
    {
     "data": {
      "text/markdown": [
       "```\n",
       "range(start, [step], length)\n",
       "```\n",
       "\n",
       "Construct a range by length, given a starting value and optional step (defaults to 1).\n"
      ],
      "text/plain": [
       "```\n",
       "range(start, [step], length)\n",
       "```\n",
       "\n",
       "Construct a range by length, given a starting value and optional step (defaults to 1).\n"
      ]
     },
     "execution_count": 140,
     "metadata": {},
     "output_type": "execute_result"
    }
   ],
   "source": [
    "?range"
   ]
  },
  {
   "cell_type": "code",
   "execution_count": 148,
   "metadata": {
    "collapsed": false
   },
   "outputs": [
    {
     "data": {
      "text/plain": [
       "g (generic function with 1 method)"
      ]
     },
     "execution_count": 148,
     "metadata": {},
     "output_type": "execute_result"
    }
   ],
   "source": [
    "g(x) = 2x%1 #Mapeo"
   ]
  },
  {
   "cell_type": "markdown",
   "metadata": {},
   "source": [
    "Definiendo un arreglo de condiciones iniciales:"
   ]
  },
  {
   "cell_type": "code",
   "execution_count": 157,
   "metadata": {
    "collapsed": false
   },
   "outputs": [
    {
     "ename": "LoadError",
     "evalue": "LoadError: UndefVarError: ans not defined\nwhile loading In[157], in expression starting on line 1",
     "output_type": "error",
     "traceback": [
      "LoadError: UndefVarError: ans not defined\nwhile loading In[157], in expression starting on line 1",
      ""
     ]
    }
   ],
   "source": []
  },
  {
   "cell_type": "code",
   "execution_count": null,
   "metadata": {
    "collapsed": true
   },
   "outputs": [],
   "source": []
  }
 ],
 "metadata": {
  "kernelspec": {
   "display_name": "Julia 0.4.6",
   "language": "julia",
   "name": "julia-0.4"
  },
  "language_info": {
   "file_extension": ".jl",
   "mimetype": "application/julia",
   "name": "julia",
   "version": "0.4.6"
  }
 },
 "nbformat": 4,
 "nbformat_minor": 0
}
