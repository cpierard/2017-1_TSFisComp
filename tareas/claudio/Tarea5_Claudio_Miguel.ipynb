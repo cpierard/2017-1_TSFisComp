{
 "cells": [
  {
   "cell_type": "markdown",
   "metadata": {},
   "source": [
    "# Tarea5"
   ]
  },
  {
   "cell_type": "markdown",
   "metadata": {},
   "source": [
    "Claudio Pierard @miguelraz\n",
    " \n",
    "Miguel Raz @cpierard"
   ]
  },
  {
   "cell_type": "markdown",
   "metadata": {},
   "source": [
    "**Envío del PR inicial:** lunes 17 de octubre\n",
    "\n",
    "**Aceptación del PR:** lunes 31 de octubre"
   ]
  },
  {
   "cell_type": "markdown",
   "metadata": {},
   "source": [
    "**Ejercicio 1:**\n",
    "\n",
    "Obtengan, para la familia de mapeos cuadrática $Q_c(x)$, el exponente de Lyapunov en términos de $c$.\n",
    "\n",
    "- ¿Qué particularidad ocurre (en términos del exponente de Lyapunov) para los valores\n",
    "de $c$ donde hay bifurcaciones?\n",
    "\n",
    "- ¿Qué particularidad ocurre (en términos del exponente de Lyapunov) cuando tenemos *ciclos superestables*, es decir, cuando $x=0$ es parte de un ciclo periódico?"
   ]
  },
  {
   "cell_type": "code",
   "execution_count": 12,
   "metadata": {
    "collapsed": false
   },
   "outputs": [
    {
     "data": {
      "text/plain": [
       "Plots.PyPlotBackend()"
      ]
     },
     "execution_count": 12,
     "metadata": {},
     "output_type": "execute_result"
    }
   ],
   "source": [
    "using Plots\n",
    "\n",
    "using LaTeXStrings\n",
    "\n",
    "pyplot(grid=:false, legend=:false, size=(400,267))"
   ]
  },
  {
   "cell_type": "code",
   "execution_count": 13,
   "metadata": {
    "collapsed": false
   },
   "outputs": [
    {
     "data": {
      "text/plain": [
       "Q_c´ (generic function with 1 method)"
      ]
     },
     "execution_count": 13,
     "metadata": {},
     "output_type": "execute_result"
    }
   ],
   "source": [
    "Q_c(x,c) = x^2 + c\n",
    "Q_c´(x) = 2*x"
   ]
  },
  {
   "cell_type": "code",
   "execution_count": 14,
   "metadata": {
    "collapsed": false
   },
   "outputs": [
    {
     "data": {
      "text/plain": [
       "iterator (generic function with 1 method)"
      ]
     },
     "execution_count": 14,
     "metadata": {},
     "output_type": "execute_result"
    }
   ],
   "source": [
    "function iterator(f::Function, n::Int, k, x0, c)\n",
    "\n",
    "    solution = Float64[]\n",
    "    #steps = Int[0]\n",
    "    x_old = x0\n",
    "    for i in 1:n\n",
    "\n",
    "        x_new = f(x_old, c)\n",
    "        x_old = x_new\n",
    "\n",
    "    end\n",
    "    \n",
    "    for i in 1:k\n",
    "        \n",
    "        x_new = f(x_old, c)\n",
    "        push!(solution, x_old)\n",
    "        x_old = x_new\n",
    "\n",
    "    end\n",
    "    \n",
    "    return solution\n",
    "\n",
    "end"
   ]
  },
  {
   "cell_type": "code",
   "execution_count": 15,
   "metadata": {
    "collapsed": false
   },
   "outputs": [
    {
     "data": {
      "text/plain": [
       "lyapunov_exponent (generic function with 1 method)"
      ]
     },
     "execution_count": 15,
     "metadata": {},
     "output_type": "execute_result"
    }
   ],
   "source": [
    "function lyapunov_exponent(Xi)\n",
    "    \n",
    "    σ = 0.0\n",
    "    n = length(Xi)\n",
    "    \n",
    "    for i in 1:n\n",
    "        \n",
    "        σ += log(abs(Q_c´(Xi[i])))\n",
    "        \n",
    "    end\n",
    "    \n",
    "    λ = 1/n * σ\n",
    "    \n",
    "end"
   ]
  },
  {
   "cell_type": "code",
   "execution_count": 16,
   "metadata": {
    "collapsed": false
   },
   "outputs": [
    {
     "data": {
      "text/plain": [
       "1000-element Array{Float64,1}:\n",
       " -0.248334 \n",
       " -1.43833  \n",
       "  0.568794 \n",
       " -1.17647  \n",
       " -0.115911 \n",
       " -1.48656  \n",
       "  0.709875 \n",
       " -0.996078 \n",
       " -0.507829 \n",
       " -1.24211  \n",
       "  0.0428369\n",
       " -1.49817  \n",
       "  0.744498 \n",
       "  ⋮        \n",
       " -0.0567696\n",
       " -1.49678  \n",
       "  0.740342 \n",
       " -0.951894 \n",
       " -0.593898 \n",
       " -1.14728  \n",
       " -0.183738 \n",
       " -1.46624  \n",
       "  0.649861 \n",
       " -1.07768  \n",
       " -0.338604 \n",
       " -1.38535  "
      ]
     },
     "execution_count": 16,
     "metadata": {},
     "output_type": "execute_result"
    }
   ],
   "source": [
    "orb_1 = iterator(Q_c, 100, 1000, 0.0, -1.5)"
   ]
  },
  {
   "cell_type": "code",
   "execution_count": 17,
   "metadata": {
    "collapsed": false
   },
   "outputs": [
    {
     "data": {
      "text/plain": [
       "0.25999766464274"
      ]
     },
     "execution_count": 17,
     "metadata": {},
     "output_type": "execute_result"
    }
   ],
   "source": [
    "lyapunov_exponent(orb_1) # Caos"
   ]
  },
  {
   "cell_type": "code",
   "execution_count": 18,
   "metadata": {
    "collapsed": false
   },
   "outputs": [
    {
     "data": {
      "text/plain": [
       "-0.11157177942474457"
      ]
     },
     "execution_count": 18,
     "metadata": {},
     "output_type": "execute_result"
    }
   ],
   "source": [
    "orb_2 = iterator(Q_c, 100, 1000, 0.0, -1.2)\n",
    "lyapunov_exponent(orb_2) #no chaos"
   ]
  },
  {
   "cell_type": "code",
   "execution_count": 19,
   "metadata": {
    "collapsed": false
   },
   "outputs": [
    {
     "data": {
      "text/plain": [
       "-0.018692862862578284"
      ]
     },
     "execution_count": 19,
     "metadata": {},
     "output_type": "execute_result"
    }
   ],
   "source": [
    "orb_3 = iterator(Q_c, 15000, 14500, 0.0, -1.401)\n",
    "lia_3 = lyapunov_exponent(orb_3) #no chaos"
   ]
  },
  {
   "cell_type": "code",
   "execution_count": 20,
   "metadata": {
    "collapsed": false
   },
   "outputs": [
    {
     "data": {
      "text/plain": [
       "lyapunov_c_range (generic function with 1 method)"
      ]
     },
     "execution_count": 20,
     "metadata": {},
     "output_type": "execute_result"
    }
   ],
   "source": [
    "function lyapunov_c_range(c_range)\n",
    "    \n",
    "    lyapunov = Float64[]\n",
    "    \n",
    "    for i in c_range\n",
    "        \n",
    "        orb = iterator(Q_c, 100, 1000, 0.0, i)\n",
    "        exponent = lyapunov_exponent(orb)\n",
    "        push!(lyapunov, exponent)\n",
    "        \n",
    "    end\n",
    "    \n",
    "    lyapunov\n",
    "    \n",
    "end     "
   ]
  },
  {
   "cell_type": "code",
   "execution_count": 21,
   "metadata": {
    "collapsed": true
   },
   "outputs": [],
   "source": [
    "c_rango = 0.25:-0.001:-2.0\n",
    "liap_exponentes = lyapunov_c_range(c_rango);"
   ]
  },
  {
   "cell_type": "code",
   "execution_count": 22,
   "metadata": {
    "collapsed": false
   },
   "outputs": [
    {
     "data": {
      "text/html": [
       "<img src=\"data:image/png;base64,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\" />"
      ]
     },
     "execution_count": 22,
     "metadata": {},
     "output_type": "execute_result"
    }
   ],
   "source": [
    "plot(c_rango, liap_exponentes, ylim=(-6.5, 2), size=(800, 500), xlabel=(L\"$c$\"), \n",
    "    ylabel = (L\"Exponentes de Lyapunov $\\lambda(x)$\"),\n",
    "    title=(L\"Exponentes de Lyapunov para $f(x) = \\ x^2 + c$\"))\n",
    "\n",
    "plot!(c_rango, zeros(length(liap_exponentes)))"
   ]
  },
  {
   "cell_type": "markdown",
   "metadata": {},
   "source": [
    "**Respuesta**\n",
    "\n",
    "> Observamos que para valores de c donde hay bifurcaciones se alcanza el valor 0. Esto se debe a que las derivadas se van acercando a cero justo antes de darse el punto de bifurcación, y ahi justo se ve un 'pico', en esencia las dos derivadas correspondientes a la bifurcación.\n",
    "\n",
    "> Sin embargo, en los ciclos superestables vemos que hay una brutal tendencia hacia $-\\infty$ en los valores de los exponentes -- esto lo podemos atribuir a que los sitios que rodean acaban siendo atraídos."
   ]
  },
  {
   "cell_type": "markdown",
   "metadata": {},
   "source": [
    "**Ejercicio 2:**\n",
    "\n",
    "Rehacer los cálculos de los exponentes de Feigenbaum,\n",
    "\\begin{eqnarray*}\n",
    "f_n &=& \\frac{C_n-C_{n+1}}{C_{n+1}-C_{n+2}},\\\\\n",
    "a_n &=& \\frac{d_n}{d_{n+1}},\n",
    "\\end{eqnarray*}\n",
    "\n",
    "usando los valores $C_n$ donde se tienen ciclos superestables de periodo $2^n$. (Este ejercicio es muy parecido a los ejercicios 1 y 3 de la `Tarea4`.)"
   ]
  },
  {
   "cell_type": "code",
   "execution_count": null,
   "metadata": {
    "collapsed": true
   },
   "outputs": [],
   "source": []
  },
  {
   "cell_type": "markdown",
   "metadata": {},
   "source": [
    "**Ejercicio 3:**\n",
    "\n",
    "Comparar gráficamente los mapeos $Q_{c}(x)$ y $Q_{c^\\prime}^2(x)$ para $c=1/4, 0, -3/4, -1, -2, -2.2$ y $c^\\prime=-3/4,-1,-5/4,-1.3, -1.546\\dots, -1.65$. \n"
   ]
  },
  {
   "cell_type": "code",
   "execution_count": null,
   "metadata": {
    "collapsed": true
   },
   "outputs": [],
   "source": []
  },
  {
   "cell_type": "markdown",
   "metadata": {},
   "source": [
    "**Ejercicio 4:**\n",
    "\n",
    "Estudiar la dinámica para $c=-2.2$\n",
    "\n",
    "- ¿Cómo se caracteriza el valor al que tiende *casi* cualquier condición inicial en el\n",
    "intervalo $I=[-p_+,p_+]$ (donde $p_+$ es el valor positivo tal que $Q_c(p_+)=p_+$), después de muchos iterados? (El intervalo $I$ es donde \"toda la dinámica interesante ocurre\".)\n",
    "\n",
    "- Caractericen los subconjuntos de $I$ tales que, después de $n=1,2,3,\\dots$ iterados de $Q_c(x)$, su intersección con $I$ es vacía.\n",
    "\n",
    "- Caracterizen al complemento del conjunto de los casos anteriores, es decir, cuando los iterados de la condición inicial **no** llegan a donde *casi* cualquier condición inicial termina. ¿Cómo se conoce a este conjunto?"
   ]
  },
  {
   "cell_type": "code",
   "execution_count": null,
   "metadata": {
    "collapsed": true
   },
   "outputs": [],
   "source": []
  },
  {
   "cell_type": "markdown",
   "metadata": {},
   "source": [
    "**Ejercicio 5:**\n",
    "\n",
    "- Usando el análisis gráfico para un valor de $c$ *ligeramente* anterior al punto donde se observa la ventana de periodo 3 para la familia $Q_c(x)$, y uno en la ventana de periodo 3, concluyan el tipo de bifurcación que se observa.\n",
    "\n",
    "- Comparen la dinámica para ambos valores de $c$ del inciso anterior. ¿Cómo es el exponente de lyapunov en cada caso?\n",
    "\n",
    "- Encuentren el valor de $c$ donde se da el ciclo superestable de periodo 3. (Nuevamente, ayuden al método de Newton con una buena semilla inicial para $c$.) Demuestren que para este valor de $c$ el mapeo $Q_c^3(x)$ tiene *ocho* puntos fijos, donde dos de ellos son puntos fijos de $Q_c(x)$, y los otros 6 forman dos secuencias periódicas, de periodo 3 en $Q_c(x)$, una de ellas estable y la otra inestable.\n",
    "\n",
    "(Los siguientes incisos usan el valor de $c$ encontrado en el inciso anterior.)\n",
    "\n",
    "- Denotando al ciclo inestable de periodo 3 como $\\alpha\\mapsto \\beta\\mapsto\\gamma$, con $\\gamma<\\beta<\\alpha$, uno puede asociar a cada uno de estos valores un valor $\\hat\\alpha, \\hat\\beta, \\hat\\gamma$, tales que $Q_c^3(\\hat\\alpha)=\\alpha$, $Q_c^3(\\hat\\beta)=\\beta$, $Q_c^3(\\hat\\gamma)=\\gamma$. ¿Qué podemos concluir de un punto que cae en cualquiera de los intervalos $[\\alpha,\\hat\\alpha]$, $[\\beta,\\hat\\beta]$ y $[\\hat\\gamma,\\gamma]$, en términos de los iterados sucesivos?\n",
    "\n",
    "- Definiendo los intervalos $I_0=[\\hat\\beta, \\alpha]$, $I_1=[\\gamma,\\beta]$, mostrar que bajo la acción de $Q_c(x)$ se cumple: (i) $Q_c(I_0) \\supset I_1$, y (ii) $Q_c(I_1) \\supset I_0\\cup I_1$. ¿Qué propiedad *importante* de $Q_c(x)$ se utiliza aquí?\n",
    "\n",
    "(Los intervalos $I_0$ e $I_1$, y estas propiedades, son básicos en la demostración del teorema \"periodo tres implica caos\".)"
   ]
  },
  {
   "cell_type": "code",
   "execution_count": null,
   "metadata": {
    "collapsed": true
   },
   "outputs": [],
   "source": []
  }
 ],
 "metadata": {
  "kernelspec": {
   "display_name": "Julia 0.4.6",
   "language": "julia",
   "name": "julia-0.4"
  },
  "language_info": {
   "file_extension": ".jl",
   "mimetype": "application/julia",
   "name": "julia",
   "version": "0.4.6"
  }
 },
 "nbformat": 4,
 "nbformat_minor": 1
}
