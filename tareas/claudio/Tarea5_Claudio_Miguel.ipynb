{
 "cells": [
  {
   "cell_type": "markdown",
   "metadata": {},
   "source": [
    "# Tarea5"
   ]
  },
  {
   "cell_type": "markdown",
   "metadata": {},
   "source": [
    "Claudio Pierard [@cpierard](https://github.com/cpierard)"
   ]
  },
  {
   "cell_type": "markdown",
   "metadata": {},
   "source": [
    "**Envío del PR inicial:** lunes 17 de octubre\n",
    "\n",
    "**Aceptación del PR:** lunes 31 de octubre"
   ]
  },
  {
   "cell_type": "markdown",
   "metadata": {},
   "source": [
    "**Ejercicio 1:**\n",
    "\n",
    "Obtengan, para la familia de mapeos cuadrática $Q_c(x)$, el exponente de Lyapunov en términos de $c$.\n",
    "\n",
    "- ¿Qué particularidad ocurre (en términos del exponente de Lyapunov) para los valores\n",
    "de $c$ donde hay bifurcaciones?\n",
    "\n",
    "- ¿Qué particularidad ocurre (en términos del exponente de Lyapunov) cuando tenemos *ciclos superestables*, es decir, cuando $x=0$ es parte de un ciclo periódico?"
   ]
  },
  {
   "cell_type": "code",
   "execution_count": 144,
   "metadata": {
    "collapsed": false
   },
   "outputs": [
    {
     "data": {
      "text/plain": [
       "Plots.PyPlotBackend()"
      ]
     },
     "execution_count": 144,
     "metadata": {},
     "output_type": "execute_result"
    }
   ],
   "source": [
    "using Plots, LaTeXStrings\n",
    "\n",
    "pyplot(grid=:false, size=(400,267))"
   ]
  },
  {
   "cell_type": "code",
   "execution_count": 24,
   "metadata": {
    "collapsed": false
   },
   "outputs": [
    {
     "data": {
      "text/plain": [
       "Q_c_2 (generic function with 1 method)"
      ]
     },
     "execution_count": 24,
     "metadata": {},
     "output_type": "execute_result"
    }
   ],
   "source": [
    "Q_c(x,c) = x^2 + c\n",
    "Q_c´(x) = 2*x\n",
    "\n",
    "Q_c_2(x,c) = (x^2 + c)^2 + c"
   ]
  },
  {
   "cell_type": "code",
   "execution_count": 3,
   "metadata": {
    "collapsed": false
   },
   "outputs": [
    {
     "data": {
      "text/plain": [
       "iterator (generic function with 1 method)"
      ]
     },
     "execution_count": 3,
     "metadata": {},
     "output_type": "execute_result"
    }
   ],
   "source": [
    "\"\"\"\n",
    "    iterator(f::Function, n::Int, k::Int, x0, c)\n",
    "\n",
    "La función `iterator` toma una función `f` y la itera `n` veces sin guardar ningún dato, y luego `k` veces guardando\n",
    "los puntos de la órbita en una arreglo. Necesita una condición inicial `x0` y un parametro c, ya que la función debe\n",
    "ser del tipo `f(x,c)`.\n",
    "\n",
    "\"\"\"\n",
    "\n",
    "function iterator(f::Function, n::Int, k::Int, x0, c)\n",
    "\n",
    "    solution = Float64[]\n",
    "    #steps = Int[0]\n",
    "    x_old = x0\n",
    "    for i in 1:n\n",
    "\n",
    "        x_new = f(x_old, c)\n",
    "        x_old = x_new\n",
    "\n",
    "    end\n",
    "    \n",
    "    for i in 1:k\n",
    "        \n",
    "        x_new = f(x_old, c)\n",
    "        push!(solution, x_old)\n",
    "        x_old = x_new\n",
    "\n",
    "    end\n",
    "    \n",
    "    return solution\n",
    "\n",
    "end"
   ]
  },
  {
   "cell_type": "code",
   "execution_count": 4,
   "metadata": {
    "collapsed": false
   },
   "outputs": [
    {
     "data": {
      "text/plain": [
       "lyapunov_exponent (generic function with 1 method)"
      ]
     },
     "execution_count": 4,
     "metadata": {},
     "output_type": "execute_result"
    }
   ],
   "source": [
    "\"\"\"\n",
    "    lyapunov_exponent(Xi)\n",
    "\n",
    "Toma un arreglo con n elementos de una órbita, con esos elemetos se calcula el exponente de Lyapunov de esa órbita.\n",
    "\"\"\"\n",
    "\n",
    "function lyapunov_exponent(Xi)\n",
    "    \n",
    "    σ = 0.0\n",
    "    n = length(Xi)\n",
    "    \n",
    "    for i in 1:n\n",
    "        \n",
    "        σ += log(abs(Q_c´(Xi[i])))\n",
    "        \n",
    "    end\n",
    "    \n",
    "    λ = 1/n * σ\n",
    "    \n",
    "end"
   ]
  },
  {
   "cell_type": "markdown",
   "metadata": {},
   "source": [
    "> Abajo probamos la función `lyapunov_exponent`, para la función `Q_c` declarada al principio del ejercicio, con $c = -1.5$."
   ]
  },
  {
   "cell_type": "code",
   "execution_count": 5,
   "metadata": {
    "collapsed": false
   },
   "outputs": [
    {
     "data": {
      "text/plain": [
       "1000-element Array{Float64,1}:\n",
       " -0.248334 \n",
       " -1.43833  \n",
       "  0.568794 \n",
       " -1.17647  \n",
       " -0.115911 \n",
       " -1.48656  \n",
       "  0.709875 \n",
       " -0.996078 \n",
       " -0.507829 \n",
       " -1.24211  \n",
       "  0.0428369\n",
       " -1.49817  \n",
       "  0.744498 \n",
       "  ⋮        \n",
       " -0.0567696\n",
       " -1.49678  \n",
       "  0.740342 \n",
       " -0.951894 \n",
       " -0.593898 \n",
       " -1.14728  \n",
       " -0.183738 \n",
       " -1.46624  \n",
       "  0.649861 \n",
       " -1.07768  \n",
       " -0.338604 \n",
       " -1.38535  "
      ]
     },
     "execution_count": 5,
     "metadata": {},
     "output_type": "execute_result"
    }
   ],
   "source": [
    "orb_1 = iterator(Q_c, 100, 1000, 0.0, -1.5)"
   ]
  },
  {
   "cell_type": "code",
   "execution_count": 6,
   "metadata": {
    "collapsed": false
   },
   "outputs": [
    {
     "data": {
      "text/plain": [
       "0.25999766464274"
      ]
     },
     "execution_count": 6,
     "metadata": {},
     "output_type": "execute_result"
    }
   ],
   "source": [
    "lyapunov_exponent(orb_1) # Caos"
   ]
  },
  {
   "cell_type": "markdown",
   "metadata": {},
   "source": [
    "> El exponente de Lyapunov es positivo, eso implica que esta órbita es caótica.\n",
    "\n",
    "> Se vuelve a hacer lo mismo para $c = 1.401$. Sabemos de la tarea anterior que para este parámetro, la órbita no es caótica."
   ]
  },
  {
   "cell_type": "code",
   "execution_count": 7,
   "metadata": {
    "collapsed": false
   },
   "outputs": [
    {
     "data": {
      "text/plain": [
       "-0.11157177942474457"
      ]
     },
     "execution_count": 7,
     "metadata": {},
     "output_type": "execute_result"
    }
   ],
   "source": [
    "orb_2 = iterator(Q_c, 100, 1000, 0.0, -1.2)\n",
    "lyapunov_exponent(orb_2) #no caos"
   ]
  },
  {
   "cell_type": "code",
   "execution_count": 8,
   "metadata": {
    "collapsed": false
   },
   "outputs": [
    {
     "data": {
      "text/plain": [
       "-0.018692862862578284"
      ]
     },
     "execution_count": 8,
     "metadata": {},
     "output_type": "execute_result"
    }
   ],
   "source": [
    "orb_3 = iterator(Q_c, 15000, 14500, 0.0, -1.401)\n",
    "lia_3 = lyapunov_exponent(orb_3) # El exponente de Lyapunov es negativo => no hay caos."
   ]
  },
  {
   "cell_type": "markdown",
   "metadata": {},
   "source": [
    "> Ahora se quiere hacer lo mismo, pero para las órbitas que corresponde a los parámetro $c$ en el rango $[0.25, -2.0]$."
   ]
  },
  {
   "cell_type": "code",
   "execution_count": 9,
   "metadata": {
    "collapsed": false
   },
   "outputs": [
    {
     "data": {
      "text/plain": [
       "lyapunov_c_range (generic function with 1 method)"
      ]
     },
     "execution_count": 9,
     "metadata": {},
     "output_type": "execute_result"
    }
   ],
   "source": [
    "\"\"\"\n",
    "    lyapunov_c_range(c_range)\n",
    "\n",
    "Esta función toma un rango para los parámetros `c`, i calcula todo los exponentes de Lyapunov correspondientes a \n",
    "las órbitas de cada parámetro. Regresa un arreglo con todos los exponentes calculados.\n",
    "\"\"\"\n",
    "\n",
    "function lyapunov_c_range(c_range)\n",
    "    \n",
    "    lyapunov = Float64[]\n",
    "    \n",
    "    for i in c_range\n",
    "        \n",
    "        orb = iterator(Q_c, 100, 1000, 0.0, i)\n",
    "        exponent = lyapunov_exponent(orb)\n",
    "        push!(lyapunov, exponent)\n",
    "        \n",
    "    end\n",
    "    \n",
    "    lyapunov\n",
    "    \n",
    "end     "
   ]
  },
  {
   "cell_type": "code",
   "execution_count": 10,
   "metadata": {
    "collapsed": true
   },
   "outputs": [],
   "source": [
    "c_rango = 0.25:-0.001:-2.0\n",
    "lyap_exponentes = lyapunov_c_range(c_rango);"
   ]
  },
  {
   "cell_type": "markdown",
   "metadata": {},
   "source": [
    "> Graficamos los exponentes $\\lambda(x)$ correspondientes a cada $c$, en el rango $[0.25, -2.0]$."
   ]
  },
  {
   "cell_type": "code",
   "execution_count": 145,
   "metadata": {
    "collapsed": false
   },
   "outputs": [
    {
     "data": {
      "text/html": [
       "<img src=\"data:image/png;base64,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\" />"
      ]
     },
     "execution_count": 145,
     "metadata": {},
     "output_type": "execute_result"
    }
   ],
   "source": [
    "plot(c_rango, lyap_exponentes, ylim=(-6.5, 2), size=(800, 500), xlabel=(L\"$c$\"), \n",
    "    ylabel = (L\"Exponentes de Lyapunov $\\lambda(x)$\"),\n",
    "    title=(L\"Exponentes de Lyapunov para $f(x) = \\ x^2 + c$\"))\n",
    "\n",
    "plot!(c_rango, zeros(length(lyap_exponentes)))"
   ]
  },
  {
   "cell_type": "markdown",
   "metadata": {},
   "source": [
    "**Respuesta**\n",
    "\n",
    "> Observamos que para valores de c donde hay bifurcaciones se alcanza el valor 0. Esto se debe a que las derivadas se van acercando a cero justo antes de darse el punto de bifurcación, ahí se puede ver un 'pico', en esencia las dos derivadas correspondientes a la bifurcación.\n",
    "\n",
    "> Sin embargo, en los ciclos superestables vemos que hay una tendencia hacia $-\\infty$ en los valores de los exponentes -- esto lo podemos atribuir a que los sitios que rodean acaban siendo atraídos."
   ]
  },
  {
   "cell_type": "markdown",
   "metadata": {},
   "source": [
    "**Ejercicio 2:**\n",
    "\n",
    "Rehacer los cálculos de los exponentes de Feigenbaum,\n",
    "\\begin{eqnarray*}\n",
    "f_n &=& \\frac{C_n-C_{n+1}}{C_{n+1}-C_{n+2}},\\\\\n",
    "a_n &=& \\frac{d_n}{d_{n+1}},\n",
    "\\end{eqnarray*}\n",
    "\n",
    "usando los valores $C_n$ donde se tienen ciclos superestables de periodo $2^n$. (Este ejercicio es muy parecido a los ejercicios 1 y 3 de la `Tarea4`.)"
   ]
  },
  {
   "cell_type": "markdown",
   "metadata": {
    "collapsed": true
   },
   "source": [
    "> En la tarea 4, pude notar que también se puede usar los puntos de superestabilidad para calcular las constante de Feigenbaum. Es mejor tomar estos, porque es más fácil detectarlos númericamente usando sus exponentes de Lyapunov, ya que los exponentes correspondientes a los puntos de bifurcación sólo se acercan a cero con valores del orden $10^-5$, mientras que para los puntos superestables, los exponentes son $-\\infty$."
   ]
  },
  {
   "cell_type": "code",
   "execution_count": 16,
   "metadata": {
    "collapsed": false
   },
   "outputs": [
    {
     "data": {
      "text/plain": [
       "225001-element Array{Float64,1}:\n",
       " -0.00469562\n",
       " -0.00778096\n",
       " -0.00996958\n",
       " -0.0117704 \n",
       " -0.0133403 \n",
       " -0.014752  \n",
       " -0.0160465 \n",
       " -0.0172495 \n",
       " -0.0183783 \n",
       " -0.0194455 \n",
       " -0.0204604 \n",
       " -0.0214302 \n",
       " -0.0223604 \n",
       "  ⋮         \n",
       "  0.687652  \n",
       "  0.689256  \n",
       "  0.690213  \n",
       "  0.688353  \n",
       "  0.690988  \n",
       "  0.688388  \n",
       "  0.691031  \n",
       "  0.692535  \n",
       "  0.692661  \n",
       "  0.688559  \n",
       "  0.691647  \n",
       "  1.38629   "
      ]
     },
     "execution_count": 16,
     "metadata": {},
     "output_type": "execute_result"
    }
   ],
   "source": [
    "c_range = 0.25:-0.00001:-2.0\n",
    "λ = lyapunov_c_range(c_range)"
   ]
  },
  {
   "cell_type": "code",
   "execution_count": 22,
   "metadata": {
    "collapsed": false
   },
   "outputs": [
    {
     "data": {
      "text/plain": [
       "search_minus_inf (generic function with 1 method)"
      ]
     },
     "execution_count": 22,
     "metadata": {},
     "output_type": "execute_result"
    }
   ],
   "source": [
    "function search_minus_inf(A, rango)\n",
    "    \n",
    "    B = Any[]\n",
    "    \n",
    "    for i in 2:length(A) - 1\n",
    "        \n",
    "        if A[i] < A[i-1] && A[i] < A[i+1]\n",
    "            \n",
    "            push!(B, rango[i])\n",
    "            \n",
    "        end\n",
    "        \n",
    "    end\n",
    "    \n",
    "    B\n",
    "    \n",
    "end         "
   ]
  },
  {
   "cell_type": "code",
   "execution_count": 23,
   "metadata": {
    "collapsed": false
   },
   "outputs": [
    {
     "data": {
      "text/plain": [
       "17979-element Array{Any,1}:\n",
       "  0.0    \n",
       " -1.0    \n",
       " -1.3107 \n",
       " -1.38155\n",
       " -1.39695\n",
       " -1.40025\n",
       " -1.40096\n",
       " -1.40111\n",
       " -1.40115\n",
       " -1.40119\n",
       " -1.40122\n",
       " -1.40125\n",
       " -1.40131\n",
       "  ⋮      \n",
       " -1.99963\n",
       " -1.99967\n",
       " -1.9997 \n",
       " -1.99973\n",
       " -1.99976\n",
       " -1.99978\n",
       " -1.9998 \n",
       " -1.99984\n",
       " -1.99989\n",
       " -1.99992\n",
       " -1.99994\n",
       " -1.99998"
      ]
     },
     "execution_count": 23,
     "metadata": {},
     "output_type": "execute_result"
    }
   ],
   "source": [
    "λ_stability = search_minus_inf(λ, c_range)"
   ]
  },
  {
   "cell_type": "code",
   "execution_count": 75,
   "metadata": {
    "collapsed": false
   },
   "outputs": [
    {
     "data": {
      "text/plain": [
       "feigenbaum_const (generic function with 1 method)"
      ]
     },
     "execution_count": 75,
     "metadata": {},
     "output_type": "execute_result"
    }
   ],
   "source": [
    "function feigenbaum_const(A)\n",
    "    ratio = Float64[]\n",
    "    \n",
    "    for i in 3:length(A)\n",
    "        \n",
    "        r = (A[i-1][1] - A[i-2][1])/(A[i][1] - A[i-1][1])\n",
    "        push!(ratio, r)\n",
    "        \n",
    "    end\n",
    "    \n",
    "    ratio\n",
    "    \n",
    "end"
   ]
  },
  {
   "cell_type": "code",
   "execution_count": 83,
   "metadata": {
    "collapsed": false
   },
   "outputs": [
    {
     "data": {
      "text/plain": [
       "7-element Array{Float64,1}:\n",
       " 3.21854\n",
       " 4.38532\n",
       " 4.60065\n",
       " 4.66667\n",
       " 4.64789\n",
       " 4.73333\n",
       " 3.75   "
      ]
     },
     "execution_count": 83,
     "metadata": {},
     "output_type": "execute_result"
    }
   ],
   "source": [
    "d_feigenbaum = feigenbaum_const(λ_stability[1:9])"
   ]
  },
  {
   "cell_type": "code",
   "execution_count": 80,
   "metadata": {
    "collapsed": false
   },
   "outputs": [
    {
     "data": {
      "text/plain": [
       "8-element Array{Any,1}:\n",
       " [0.0,-1.0]                                      \n",
       " [4.580336590453982e-6,0.40723448994500444]      \n",
       " [7.988005323200653e-6,-0.16343264585949369]     \n",
       " [-2.73788545477327e-5,0.0653882356460942]       \n",
       " [-3.394046301297138e-5,-0.026090465261151552]   \n",
       " [4.042524059544306e-5,0.010400241227898732]     \n",
       " [-0.00015064408291953768,-0.0040328837400029904]\n",
       " [-0.0002460910006032435,0.0018706802220109786]  "
      ]
     },
     "execution_count": 80,
     "metadata": {},
     "output_type": "execute_result"
    }
   ],
   "source": [
    "\n",
    "a = Any[]\n",
    "n = 0\n",
    "\n",
    "for i in 2:length(1:9)\n",
    "    \n",
    "    puntos = iterator(itera_funcion_anonym(2^n), 10, 2, 0.0, λ_stability[i])\n",
    "    push!(a, puntos)\n",
    "    n += 1\n",
    "    \n",
    "end\n",
    "\n",
    "a"
   ]
  },
  {
   "cell_type": "code",
   "execution_count": 81,
   "metadata": {
    "collapsed": false
   },
   "outputs": [
    {
     "data": {
      "text/plain": [
       "7-element Array{Float64,1}:\n",
       " 2.45559\n",
       " 2.49176\n",
       " 2.49942\n",
       " 2.50621\n",
       " 2.50864\n",
       " 2.57886\n",
       " 2.15584"
      ]
     },
     "execution_count": 81,
     "metadata": {},
     "output_type": "execute_result"
    }
   ],
   "source": [
    "#Calculamos esas proporciones\n",
    "\n",
    "α_constant = Float64[]\n",
    "\n",
    "for i in 1:length(a)-1\n",
    "    \n",
    "    α = abs(a[i][2] / a[i+1][2])\n",
    "    push!(α_constant, α)\n",
    "    \n",
    "end\n",
    "\n",
    "α_constant"
   ]
  },
  {
   "cell_type": "code",
   "execution_count": 35,
   "metadata": {
    "collapsed": false
   },
   "outputs": [
    {
     "data": {
      "text/plain": [
       "itera_funcion_anonym (generic function with 1 method)"
      ]
     },
     "execution_count": 35,
     "metadata": {},
     "output_type": "execute_result"
    }
   ],
   "source": [
    "\"\"\"\n",
    "    itera_funcion_anonym(n)\n",
    "\n",
    "Esta función declara una función anonima tipo `f(x,c) = x^2 + c`. Variando el parametro n (con n ∈ Naturales), la \n",
    "función declara una función anónima de la composición de la función f con sigo misma, un n número de veces. Ejemplo:\n",
    "\n",
    "n = 3\n",
    "f_out = ((x^2 + c)^2 + c)^2 + c\n",
    "\n",
    "\"\"\"\n",
    "\n",
    "\n",
    "function itera_funcion_anonym(n)\n",
    "    \n",
    "    x = \"x^2 + c\"\n",
    "\n",
    "    for i in 1:n-1\n",
    "\n",
    "        x = \"($x)^2 +c\"\n",
    "\n",
    "    end\n",
    "\n",
    "    ex = parse(x)\n",
    "    ex_ret = :( (x, c) -> $ex )\n",
    "    eval(ex_ret)\n",
    "end"
   ]
  },
  {
   "cell_type": "code",
   "execution_count": 73,
   "metadata": {
    "collapsed": false
   },
   "outputs": [
    {
     "data": {
      "text/plain": [
       "check_superstability (generic function with 2 methods)"
      ]
     },
     "execution_count": 73,
     "metadata": {},
     "output_type": "execute_result"
    }
   ],
   "source": [
    "\"\"\"\n",
    "    check_superstability(A, n, c_range)\n",
    "\n",
    "Esta función verifica que los valores en un arreglo sean superestables para la función definida para este \n",
    "ejercicio.\n",
    "\"\"\"\n",
    "\n",
    "function check_superstability(A)\n",
    "    \n",
    "    B = Float64[]\n",
    "    \n",
    "    for i in 1:length(A)\n",
    "        \n",
    "        b = itera_funcion_anonym(2^9)(0.0, A[i])\n",
    "        \n",
    "        if abs(b) < 1e-4\n",
    "            \n",
    "            push!(B, A[i])\n",
    "            \n",
    "        end\n",
    "    end\n",
    "    \n",
    "    #sort(B, rev=true)\n",
    "    B\n",
    "end"
   ]
  },
  {
   "cell_type": "markdown",
   "metadata": {},
   "source": [
    "**Ejercicio 3:**\n",
    "\n",
    "Comparar gráficamente los mapeos $Q_{c}(x)$ y $Q_{c^\\prime}^2(x)$ para $c=1/4, 0, -3/4, -1, -2, -2.2$ y $c^\\prime=-3/4,-1,-5/4,-1.3, -1.546\\dots, -1.65$. \n"
   ]
  },
  {
   "cell_type": "code",
   "execution_count": null,
   "metadata": {
    "collapsed": true
   },
   "outputs": [],
   "source": []
  },
  {
   "cell_type": "markdown",
   "metadata": {},
   "source": [
    "**Ejercicio 4:**\n",
    "\n",
    "Estudiar la dinámica para $c=-2.2$\n",
    "\n",
    "- ¿Cómo se caracteriza el valor al que tiende *casi* cualquier condición inicial en el\n",
    "intervalo $I=[-p_+,p_+]$ (donde $p_+$ es el valor positivo tal que $Q_c(p_+)=p_+$), después de muchos iterados? (El intervalo $I$ es donde \"toda la dinámica interesante ocurre\".)\n",
    "\n",
    "- Caractericen los subconjuntos de $I$ tales que, después de $n=1,2,3,\\dots$ iterados de $Q_c(x)$, su intersección con $I$ es vacía.\n",
    "\n",
    "- Caracterizen al complemento del conjunto de los casos anteriores, es decir, cuando los iterados de la condición inicial **no** llegan a donde *casi* cualquier condición inicial termina. ¿Cómo se conoce a este conjunto?"
   ]
  },
  {
   "cell_type": "code",
   "execution_count": 146,
   "metadata": {
    "collapsed": false
   },
   "outputs": [
    {
     "data": {
      "text/html": [
       "<img src=\"data:image/png;base64,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\" />"
      ]
     },
     "execution_count": 146,
     "metadata": {},
     "output_type": "execute_result"
    }
   ],
   "source": [
    "rango= -4:0.01:4\n",
    "plot(rango, x -> x^2 -2.2, size=(600,400), label=(L\"f(x) = x^2 -2.2\"))\n",
    "plot!(rango, identity, label=(L\"f(x) = x\"))\n",
    "plot!(rango, x -> x^2 -2, label=(L\"f(x) = x^2 -2\"))"
   ]
  },
  {
   "cell_type": "code",
   "execution_count": 103,
   "metadata": {
    "collapsed": false
   },
   "outputs": [
    {
     "data": {
      "text/plain": [
       "cobweb_plot! (generic function with 1 method)"
      ]
     },
     "execution_count": 103,
     "metadata": {},
     "output_type": "execute_result"
    }
   ],
   "source": [
    "\"\"\"\n",
    "    iteramapeo(f, x0, n)\n",
    "    OUT: xx, fx\n",
    "\n",
    "Esta función itera el mapeo `f`, usando como condición inicial `x0`, `n` veces\n",
    "y regresa dos vectores que continen la secuencia de puntos, incluyendo las\n",
    "*visitas* a la diagonal. Está función la definió Luis en clase.\n",
    "\"\"\"\n",
    "\n",
    "function iteramapeo(f, x0, n) #esto me lo robo de Luis.\n",
    "    xx = [x0]\n",
    "    fx = [0.0]\n",
    "    for it = 1:n\n",
    "        x1 = f(x0)\n",
    "        push!(xx, x0)\n",
    "        push!(fx, x1)\n",
    "        x0 = x1\n",
    "        push!(xx,x1)\n",
    "        push!(fx,x1)\n",
    "    end\n",
    "    xx, fx\n",
    "end\n",
    "\n",
    "\"\"\"\n",
    "    cobweb_plot(f::Function, string_function::AbstractString, x0, rangex, n)\n",
    "\n",
    "Función que hace el mapeo tipo cobweb o return map. f es la función que se quiere analizar, `string_function` es la \n",
    "función pero escrita en una cadena, `x0` es la condicón inicial, `rangex` es el rango del dominio donde se va a \n",
    "hacer el mapeo, y n es el número de iteraciones que se quiere hacer. \n",
    "\n",
    "\"\"\"\n",
    "\n",
    "function cobweb_plot(f::Function, string_function::AbstractString, x0, rangex, n)\n",
    "\n",
    "    xx, fx = iteramapeo(f, x0, n) #genera los puntos que se mapean.\n",
    "    \n",
    "    #Plotea la función por analizar.\n",
    "    plot(rangex, f, xaxis=(L\"x\", (rangex[1], rangex[end])), yaxis=L\"f(x)\", label=(latexstring(string(\"f(x)=\", \n",
    "            string_function))), size=(700, 450), title=(latexstring(string(\"f(x)=\", string_function)))) \n",
    "    \n",
    "    #hace la grafica de la función identidad.\n",
    "    plot!(rangex, identity, label=(L\"f(x) = x\") )\n",
    "    \n",
    "    #hace la grafica del \"camino\" de las iteraciones.\n",
    "    plot!(xx, fx, marker=(:dot, 3, 0.4), label=(latexstring(string(\"x_0=\", x0))))\n",
    "\n",
    "end\n",
    "\n",
    "\"\"\"\n",
    "    cobweb_plot!(f::Function, x0, n)\n",
    "\n",
    "Función que agrega un `plot!` a `cobweb_plot`. No funciona sin haber hecho primero un `cobweb_plot` con los mismos\n",
    "parámetros de que `cobweb_plot!`. E este caso ya no es necesario poner un rango, ni el string de la función, sólo la\n",
    "función `f`, la condición inicial `x0` y `n` el número de iteraciones que van a hacer.\n",
    " \n",
    "\"\"\"\n",
    "\n",
    "function cobweb_plot!(f::Function, x0, n)\n",
    "\n",
    "    xx, fx = iteramapeo(f, x0, n) #genera los puntos que se mapean.\n",
    "    \n",
    "    #agrega un mapeo a una función cobweb_plot.\n",
    "    plot!(xx, fx, marker=(:dot, 3, 0.4), label=(label=(latexstring(string(\"x_0=\", x0))))) \n",
    "\n",
    "end"
   ]
  },
  {
   "cell_type": "code",
   "execution_count": 137,
   "metadata": {
    "collapsed": false
   },
   "outputs": [
    {
     "data": {
      "text/html": [
       "<img src=\"data:image/png;base64,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\" />"
      ]
     },
     "execution_count": 137,
     "metadata": {},
     "output_type": "execute_result"
    }
   ],
   "source": [
    "cobweb_plot(x -> x^2 -2, \"f(x) = x^2 - 2.2\", 1.5, -2:0.01:2, 2)"
   ]
  },
  {
   "cell_type": "markdown",
   "metadata": {},
   "source": [
    "**Ejercicio 5:**\n",
    "\n",
    "- Usando el análisis gráfico para un valor de $c$ *ligeramente* anterior al punto donde se observa la ventana de periodo 3 para la familia $Q_c(x)$, y uno en la ventana de periodo 3, concluyan el tipo de bifurcación que se observa.\n",
    "\n",
    "- Comparen la dinámica para ambos valores de $c$ del inciso anterior. ¿Cómo es el exponente de lyapunov en cada caso?\n",
    "\n",
    "- Encuentren el valor de $c$ donde se da el ciclo superestable de periodo 3. (Nuevamente, ayuden al método de Newton con una buena semilla inicial para $c$.) Demuestren que para este valor de $c$ el mapeo $Q_c^3(x)$ tiene *ocho* puntos fijos, donde dos de ellos son puntos fijos de $Q_c(x)$, y los otros 6 forman dos secuencias periódicas, de periodo 3 en $Q_c(x)$, una de ellas estable y la otra inestable.\n",
    "\n",
    "(Los siguientes incisos usan el valor de $c$ encontrado en el inciso anterior.)\n",
    "\n",
    "- Denotando al ciclo inestable de periodo 3 como $\\alpha\\mapsto \\beta\\mapsto\\gamma$, con $\\gamma<\\beta<\\alpha$, uno puede asociar a cada uno de estos valores un valor $\\hat\\alpha, \\hat\\beta, \\hat\\gamma$, tales que $Q_c^3(\\hat\\alpha)=\\alpha$, $Q_c^3(\\hat\\beta)=\\beta$, $Q_c^3(\\hat\\gamma)=\\gamma$. ¿Qué podemos concluir de un punto que cae en cualquiera de los intervalos $[\\alpha,\\hat\\alpha]$, $[\\beta,\\hat\\beta]$ y $[\\hat\\gamma,\\gamma]$, en términos de los iterados sucesivos?\n",
    "\n",
    "- Definiendo los intervalos $I_0=[\\hat\\beta, \\alpha]$, $I_1=[\\gamma,\\beta]$, mostrar que bajo la acción de $Q_c(x)$ se cumple: (i) $Q_c(I_0) \\supset I_1$, y (ii) $Q_c(I_1) \\supset I_0\\cup I_1$. ¿Qué propiedad *importante* de $Q_c(x)$ se utiliza aquí?\n",
    "\n",
    "(Los intervalos $I_0$ e $I_1$, y estas propiedades, son básicos en la demostración del teorema \"periodo tres implica caos\".)"
   ]
  },
  {
   "cell_type": "code",
   "execution_count": null,
   "metadata": {
    "collapsed": true
   },
   "outputs": [],
   "source": []
  }
 ],
 "metadata": {
  "kernelspec": {
   "display_name": "Julia 0.4.6",
   "language": "julia",
   "name": "julia-0.4"
  },
  "language_info": {
   "file_extension": ".jl",
   "mimetype": "application/julia",
   "name": "julia",
   "version": "0.4.6"
  }
 },
 "nbformat": 4,
 "nbformat_minor": 1
}
