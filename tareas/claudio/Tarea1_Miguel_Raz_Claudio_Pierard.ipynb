{
 "cells": [
  {
   "cell_type": "markdown",
   "metadata": {},
   "source": [
    "# Tarea 1\n",
    "\n",
    "Miguel Raz y Claudio Pierard"
   ]
  },
  {
   "cell_type": "markdown",
   "metadata": {},
   "source": [
    "#### Screen shots Claudio\n",
    "(Aún no lo acabo) El hosting de las imágenes caduca en 31 días.\n",
    "\n",
    "![Ejercicio 1.3](https://s14.postimg.io/xpz5zdrr5/Captura_de_pantalla_2016_08_29_a_las_9_55_33_p_m.png)\n",
    "\n",
    "![Ejercicio 1.4](https://s14.postimg.io/ti4dqmqbl/Captura_de_pantalla_2016_08_29_a_las_9_59_47_p_m.png)\n",
    "\n",
    "\n",
    "[Postimage](https://postimage.org/)"
   ]
  },
  {
   "cell_type": "code",
   "execution_count": null,
   "metadata": {
    "collapsed": true
   },
   "outputs": [],
   "source": []
  }
 ],
 "metadata": {
  "kernelspec": {
   "display_name": "Julia 0.4.6",
   "language": "julia",
   "name": "julia-0.4"
  },
  "language_info": {
   "file_extension": ".jl",
   "mimetype": "application/julia",
   "name": "julia",
   "version": "0.4.6"
  }
 },
 "nbformat": 4,
 "nbformat_minor": 0
}
