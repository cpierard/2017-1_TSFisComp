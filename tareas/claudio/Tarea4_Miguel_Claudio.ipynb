{
 "cells": [
  {
   "cell_type": "markdown",
   "metadata": {},
   "source": [
    "# Tarea 4\n",
    "\n",
    "Miguel Raz [@miguelraz](https://github.com/miguelraz)\n",
    "\n",
    "Claudio Pierard [@cpierard](https://github.com/cpierard)"
   ]
  },
  {
   "cell_type": "markdown",
   "metadata": {},
   "source": [
    "**Envío del PR inicial:** lunes 26 de septiembre\n",
    "\n",
    "**Aceptación del PR:** lunes 10 de octubre"
   ]
  },
  {
   "cell_type": "code",
   "execution_count": 1,
   "metadata": {
    "collapsed": false
   },
   "outputs": [
    {
     "data": {
      "text/plain": [
       "Plots.PyPlotBackend()"
      ]
     },
     "execution_count": 1,
     "metadata": {},
     "output_type": "execute_result"
    }
   ],
   "source": [
    "using Plots, LaTeXStrings, DualNumbers\n",
    "pyplot()"
   ]
  },
  {
   "cell_type": "markdown",
   "metadata": {},
   "source": [
    "**Ejercicio 0:** Velocidad de convergencia\n",
    "\n",
    "El objetivo de este ejercicio es relacionar, la velocidad de convergencia con que un punto fijo (o una órbita periódica, en el caso de los dos últimos incisos) atraen a puntos suficientemente cercanos, con la derivada del mapeo en el punto fijo (o ciclo periódico). La idea es, entonces, calcular primero el punto fijo y, después, medir cómo la distancia de los iterados sucesivos (de una condición inicial $x_0$) al punto fijo se comporta en el tiempo, para los siguientes mapeos:\n",
    "\n",
    "- $F(x) = x^2+0.25$\n",
    "\n",
    "- $F(x) = 3x(1-x)$\n",
    "\n",
    "- $F(x) = \\exp(x-1)$\n",
    "\n",
    "- $F(x) = x^2 - 1.25$\n",
    "\n",
    "- $F(x) = \\exp(x+1)$\n",
    "\n",
    "  Deberán resolver algunas cosas intermedias. Por ejemplo, ¿qué tanto deben acercarse al punto fijo, a fin de evitar ruido numérico? ¿Qué hay que hacer en el caso en que el punto sea neutral (ni atractivo ni repulsivo)?\n",
    "\n",
    "  En los dos últimos incisos, el interés es en los ciclos de periodo 2."
   ]
  },
  {
   "cell_type": "markdown",
   "metadata": {},
   "source": [
    "**Ejercicio 1:**\n",
    "\n",
    "Llamemos $c_n$ el valor del parámetro $c$ donde ocurre la bifurcación de doblamiento de periodo para el mapeo $Q_c(x)$, donde la órbita de periodo $2^n$ nace. Es decir, tenemos que $c_0=1/4$ marca la aparición del atractor de periodo $2^0=1$, $c_1=-1/4$ corresponde a la aparición del atractor de periodo $2^1=2$, $c_2=-3/4$ a la aparición del atractor de periodo $2^2=4$, etc. \n",
    "\n",
    "A partir de estos valores y otros que calcularán (al menos deben encontrar $c_6$), definimos la secuencia: $\\{f_0, f_1, f_2, \\dots\\}$, donde\n",
    "\n",
    "\\begin{equation}\n",
    "f_n = \\frac{c_n-c_{n+1}}{c_{n+1}-c_{n+2}} .\n",
    "\\end{equation}\n",
    "\n",
    "La pregunta es, ¿a qué valor converge esta secuencia?, es decir, dar una estimación de $f_\\infty$.\n",
    "\n",
    "\n",
    "\n",
    "*Hint:* Para realizar este ejercicio deben calcular el atractor para varias valores de $c$, de tal manera que puedan aislar las órbitas de periodo $2^p$ y de ahí determinar varios valores $c_n$. Sin embargo, van a requerir suficiente cuidado para obtener una buena aproximación de $c_n$. \n",
    "\n",
    "Una opción, que tiene ciertos inconvenientes numéricos que también ciertas ventajas se basa en recordar/usar que las bifurcaciones de doblamiento de periodo ocurren cuando los puntos de la órbita de periodo $p$ se tornan en repulsores, es decir, $(Q_c^p)'(x)=-1$. Esta opción, entonces, involucra obtener los valores $c_n$ usando los polinomios $Q_c^p(x)$ y diferenciación automática."
   ]
  },
  {
   "cell_type": "code",
   "execution_count": 2,
   "metadata": {
    "collapsed": false
   },
   "outputs": [
    {
     "data": {
      "text/plain": [
       "diagbifurc (generic function with 1 method)"
      ]
     },
     "execution_count": 2,
     "metadata": {},
     "output_type": "execute_result"
    }
   ],
   "source": [
    "\"\"\"\n",
    "    ciclosestables!(xx, f, nit, nout, cc, x0)\n",
    "\n",
    "Esta función itera el mapeo `f`, de una variable, `nit+nout` veces, \n",
    "usando como condición inicial `x0=0`; los últimos `nout` iterados \n",
    "actualizan al vector `xx` que tiene longitud `nout`. `cc` es el valor\n",
    "del parámetro del mapeo `f`. El mapeo `f` debe ser definido de \n",
    "tal manera que `f(x0,cc)` tenga sentido. La idea es los últimos \n",
    "`nout` iterados reflejen los ciclos estables del mapeo `f`. \n",
    "\"\"\"\n",
    "function ciclosestables!(xx, f, nit, nout, cc, x0)\n",
    "    @assert nit > 0 && nout > 0\n",
    "    \n",
    "    # Primeros nit iterados\n",
    "    #x0 = 0.0\n",
    "    for it = 1:nit\n",
    "        x0 = f(x0, cc)\n",
    "    end\n",
    "    \n",
    "    # Se guardan los siguientes nout iterados\n",
    "    for it = 1:nout\n",
    "        x0 = f(x0, cc)\n",
    "        @inbounds xx[it] = x0\n",
    "    end\n",
    "    \n",
    "    return nothing\n",
    "end\n",
    "\n",
    "\"\"\"\n",
    "    diagbifurc(f, nit, nout, crange)\n",
    "\n",
    "Itera el mapeo `f` `nit+nout` veces y regresa una matriz\n",
    "cuya columna `i` tiene los últimos `nout` iterados del mapeo\n",
    "para el valor del parámetro del mapeo `crange[i]`.\n",
    "\n",
    "La función `f` debe ser definida de tal manera que `f(x0, c)` \n",
    "tenga sentido.\n",
    "\"\"\"\n",
    "function diagbifurc(f, nit, nout, crange, x0)\n",
    "    xx = Vector{Float64}(nout)\n",
    "    ff = Array{Float64,2}(nout, length(crange))\n",
    "    \n",
    "    for ic in eachindex(crange)\n",
    "        c = crange[ic]\n",
    "        ciclosestables!(xx, f, nit, nout, c, x0)\n",
    "        ff[:,ic] = xx\n",
    "    end\n",
    "    \n",
    "    return ff\n",
    "end"
   ]
  },
  {
   "cell_type": "code",
   "execution_count": 3,
   "metadata": {
    "collapsed": false
   },
   "outputs": [
    {
     "data": {
      "text/plain": [
       "bifurcation_function (generic function with 1 method)"
      ]
     },
     "execution_count": 3,
     "metadata": {},
     "output_type": "execute_result"
    }
   ],
   "source": [
    "function bifurcation_function(f, x0, n, range_r, k)\n",
    "    \n",
    "    orbit = Float64[]\n",
    "    r_par = Float64[]\n",
    "    \n",
    "    for r in range_r\n",
    "        \n",
    "        solution = []\n",
    "        #steps = Int[0]\n",
    "        x_old = x0\n",
    "        \n",
    "        for j in 1:n\n",
    "            \n",
    "            x_new = f(x_old, r)\n",
    "            x_old = x_new\n",
    "            \n",
    "        end\n",
    "        \n",
    "        for i in 1:k\n",
    "\n",
    "            x_new = f(x_old, r)\n",
    "            push!(solution, x_new)\n",
    "            #push!(steps, i)\n",
    "            x_old = x_new\n",
    "\n",
    "        end\n",
    "            \n",
    "        #deleteat!(solution, 1:k) #Remove the transient.\n",
    "        rs = similar(solution)\n",
    "        \n",
    "        for i in 1:length(solution)\n",
    "            \n",
    "            rs[i] = r\n",
    "            \n",
    "        end\n",
    "        \n",
    "        append!(orbit, solution)\n",
    "        append!(r_par, rs)\n",
    "        \n",
    "    end\n",
    "    \n",
    "    return r_par, orbit\n",
    "    \n",
    "end"
   ]
  },
  {
   "cell_type": "code",
   "execution_count": 4,
   "metadata": {
    "collapsed": false
   },
   "outputs": [
    {
     "name": "stdout",
     "output_type": "stream",
     "text": [
      "[Plots.jl] Initializing backend: pyplot\n"
     ]
    },
    {
     "data": {
      "text/html": [
       "<img src=\"data:image/png;base64,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\" />"
      ]
     },
     "execution_count": 4,
     "metadata": {},
     "output_type": "execute_result"
    }
   ],
   "source": [
    "f(x,c) = x^2 + c\n",
    "c_parametro, orbita = bifurcation_function(f, 0.5, 1000, -1.42:1e-3:.25, 50)\n",
    "scatter(c_parametro,orbita, markersize=0.1, c=:black, leg=false, grid=true, xaxis=(L\"c\"), yaxis=(L\"x\"), size=(800,500))"
   ]
  },
  {
   "cell_type": "code",
   "execution_count": 5,
   "metadata": {
    "collapsed": false
   },
   "outputs": [
    {
     "data": {
      "text/plain": [
       "itera_funcion_anonym (generic function with 1 method)"
      ]
     },
     "execution_count": 5,
     "metadata": {},
     "output_type": "execute_result"
    }
   ],
   "source": [
    "function itera_funcion_anonym(n)\n",
    "    \n",
    "    x = \"x^2 + c\"\n",
    "\n",
    "    for i in 1:n-1\n",
    "\n",
    "        x = \"($x)^2 +c\"\n",
    "\n",
    "    end\n",
    "\n",
    "    ex = parse(x)\n",
    "    ex_ret = :( (x, c) -> $ex )\n",
    "    eval(ex_ret)\n",
    "end "
   ]
  },
  {
   "cell_type": "code",
   "execution_count": 6,
   "metadata": {
    "collapsed": false
   },
   "outputs": [
    {
     "data": {
      "text/plain": [
       "find_bifurcation (generic function with 1 method)"
      ]
     },
     "execution_count": 6,
     "metadata": {},
     "output_type": "execute_result"
    }
   ],
   "source": [
    "function find_bifurcation(FF, CC)\n",
    "    \n",
    "    bifurcaciones = Any[]\n",
    "    n = 0\n",
    "    \n",
    "    for i in 1:length(FF)\n",
    "        \n",
    "        x_i = FF[i]\n",
    "        x_e = itera_funcion_anonym(2^n)(x_i, CC[i])\n",
    "            \n",
    "        if abs(x_i - x_e) > 1e-7\n",
    "            \n",
    "            n += 1\n",
    "            push!(bifurcaciones, [CC[i], 2^n])\n",
    "            \n",
    "        end\n",
    "        \n",
    "    end\n",
    "    \n",
    "    bifurcaciones\n",
    "    \n",
    "end  "
   ]
  },
  {
   "cell_type": "code",
   "execution_count": 254,
   "metadata": {
    "collapsed": false
   },
   "outputs": [],
   "source": [
    "crange = -0.73:-1/2^15:-1.4012\n",
    "\n",
    "ff = diagbifurc(itera_funcion_anonym(1), 50000, 1, crange, 0.0); \n",
    "cc = ones(size(ff)[1])*crange';"
   ]
  },
  {
   "cell_type": "code",
   "execution_count": 255,
   "metadata": {
    "collapsed": false
   },
   "outputs": [
    {
     "data": {
      "text/plain": [
       "1x21994 Array{Float64,2}:\n",
       " -0.489949  -0.489965  -0.48998  -0.489996  …  -1.39992  -1.39996  -1.39991"
      ]
     },
     "execution_count": 255,
     "metadata": {},
     "output_type": "execute_result"
    }
   ],
   "source": [
    "ff"
   ]
  },
  {
   "cell_type": "code",
   "execution_count": 250,
   "metadata": {
    "collapsed": false
   },
   "outputs": [
    {
     "name": "stdout",
     "output_type": "stream",
     "text": [
      " 59.228348 seconds (2.12 M allocations: 124.425 MB, 0.10% gc time)\n"
     ]
    },
    {
     "data": {
      "text/plain": [
       "9-element Array{Any,1}:\n",
       " [-0.749927978515625,2.0]  \n",
       " [-1.249927978515625,4.0]  \n",
       " [-1.368092041015625,8.0]  \n",
       " [-1.394031982421875,16.0] \n",
       " [-1.399647216796875,32.0] \n",
       " [-1.40083740234375,64.0]  \n",
       " [-1.401112060546875,128.0]\n",
       " [-1.401142578125,256.0]   \n",
       " [-1.401173095703125,512.0]"
      ]
     },
     "execution_count": 250,
     "metadata": {},
     "output_type": "execute_result"
    }
   ],
   "source": [
    "@time Q_c_1 = find_bifurcation(ff, cc)"
   ]
  },
  {
   "cell_type": "code",
   "execution_count": 7,
   "metadata": {
    "collapsed": false
   },
   "outputs": [
    {
     "data": {
      "text/plain": [
       "feigenbaum_const (generic function with 1 method)"
      ]
     },
     "execution_count": 7,
     "metadata": {},
     "output_type": "execute_result"
    }
   ],
   "source": [
    "function feigenbaum_const(A)\n",
    "    ratio = Float64[]\n",
    "    \n",
    "    for i in 3:length(A)\n",
    "        \n",
    "        r = (A[i-1][1] - A[i-2][1])/(A[i][1] - A[i-1][1])\n",
    "        push!(ratio, r)\n",
    "        \n",
    "    end\n",
    "    \n",
    "    ratio\n",
    "    \n",
    "end "
   ]
  },
  {
   "cell_type": "code",
   "execution_count": 256,
   "metadata": {
    "collapsed": false
   },
   "outputs": [
    {
     "data": {
      "text/plain": [
       "7-element Array{Float64,1}:\n",
       " 4.2314 \n",
       " 4.55529\n",
       " 4.61957\n",
       " 4.71795\n",
       " 4.33333\n",
       " 9.0    \n",
       " 1.0    "
      ]
     },
     "execution_count": 256,
     "metadata": {},
     "output_type": "execute_result"
    }
   ],
   "source": [
    "feigenbaum_const(Q_c_1)"
   ]
  },
  {
   "cell_type": "markdown",
   "metadata": {},
   "source": [
    "| n | Periodo | Bifurcación | Proporción |\n",
    "|:---------- | ---------- |:------------:|:------------:|\n",
    "| `1` | 2 | -0.749927978515625 | - |\n",
    "| `2` | 4 | -1.249927978515625 | - |\n",
    "| `3` | 8 | -1.368092041015625 | 4.2314 |\n",
    "| `4` | 16 | -1.399647216796875 | 4.55529 |\n",
    "| `5` | 32 | -1.399647216796875 | 4.61957 |\n",
    "| `6` | 64 | -1.40083740234375 | *4.71795* |\n",
    "| `7` | 128 | -1.401112060546875 | *4.33333* |\n",
    "| `8` | 256 | -1.401142578125 | *9.0* |\n",
    "| `9` | 512 | -1.401173095703125 | *1.0* |"
   ]
  },
  {
   "cell_type": "markdown",
   "metadata": {},
   "source": [
    "> Me faltan datos para determinar a que converge la secuencia $\\{f0,f1,f2,…\\}$, pero con los datos obtenidos se puede apreciar que deber ser aproximadamente $4.7$. Sin embargo, sabemos que tiene que converger a la constante de Feigenbaum: $\\delta = 4.669201609...$ [(1)](https://en.wikipedia.org/wiki/Feigenbaum_constants). Esto nos permite ver que las bifurcaciones de periodo mayor o igual a $64$, no se pudieron calcular. Pienso que esto se debe a la resolución con la que se ..."
   ]
  },
  {
   "cell_type": "markdown",
   "metadata": {},
   "source": [
    "**Ejercicio 2:**\n",
    "\n",
    "Repitan el ejercicio anterior para el mapeo $S_c(x) = c \\sin(x)$. ¿Cómo se comparan los valores obtenidos de $f_n$?"
   ]
  },
  {
   "cell_type": "code",
   "execution_count": 13,
   "metadata": {
    "collapsed": false
   },
   "outputs": [
    {
     "data": {
      "text/plain": [
       "S_c (generic function with 1 method)"
      ]
     },
     "execution_count": 13,
     "metadata": {},
     "output_type": "execute_result"
    }
   ],
   "source": [
    "S_c(x,c) = c*sin(x)"
   ]
  },
  {
   "cell_type": "code",
   "execution_count": 15,
   "metadata": {
    "collapsed": false
   },
   "outputs": [
    {
     "data": {
      "text/html": [
       "<img src=\"data:image/png;base64,iVBORw0KGgoAAAANSUhEUgAAAyAAAAH0CAYAAADFQEl4AAAABHNCSVQICAgIfAhkiAAAAAlwSFlzAAAPYQAAD2EBqD+naQAAIABJREFUeJzs3Xl8G/R9//GXbsuyZMmSLFm+79tO7BwQAmGQNFyFppC1HG1HC73WFrau7bZuv7H20W1sLd1g3doVtg4YhY1Q7gABchAncRzHjuMjvi/ZsmX5kORDsiXr9wcPtGYcPcCxqT/PxyOPRy3b0kdf9/H46M33UsRisRhCCCGEEEIIcQEoV7sAIYQQQgghxPohAUQIIYQQQghxwahXu4B34vF48Hg8q12GEEIIIYQQ4n1KS0sjLS0t/vWaCyAej4ebb76Zw4cPr3YpQgghhBBCiPdpx44d/PznP4+HkDUZQA4fPsyjjz5KaWnpB/a8d999N//4j//4gT2fEEKIDyfpB0IIceF0dHRw22234fF41m4AeUtpaSk1NTUf2POZzeYP9PmEEEJ8OEk/EEKI1SWb0IUQQgghhBAXzLoJIM3NzatdghBCiDVA+oEQQqyudRNA7Hb7apcghBBiDZB+IIQQq2vdBJA/+ZM/We0ShBBCrAHSD4QQYnWtmwBy8803r3YJQggh1gDpB0IIsbrWTQARQgghhBBCrL51E0COHj262iUIIYRYA6QfCCHE6lo3AeTv//7vV7sEIYQQa4D0AyGEWF3rJoA8/vjjq12CEEKINUD6gRBCrK51E0ASExNXuwQhhBBrgPQDIYT4X7FYjKeffppbbrmFL33pS/T396/4a6pX/BWEEEIIIYQQa8rY2BgzMzP85Cc/4cUXX2RsbAyn08mePXvIzc1d0deWACKEEEIIIcQ6EIlEGB0d5a/+6q8YHh5Go9EwNDREIBAgLS2NPXv2UFxcvOJ1rJslWN/4xjdWuwQhhBBrgPQDIcR6MzMzw+c//3lycnK49tpriUQijI+Ps7y8jE6nY+PGjVx//fXs3r2b7OzsFa9n3cyAZGVlrXYJQggh1gDpB0KI9aK+vp4HHniA2dnZ+P63hIQEtFot2dnZeL1eKioquPLKKzEYDBdsj9y6CSBf/epXV7sEIYQQa4D0AyHE77KWlhbm5uaIxWL80z/9E0NDQxQUFFBeXs4dd9zBL37xC4LBIH6/H51OR15eHkVFRbhcLsbGxujp6aGgoGBFa1w3AUQIIYQQQojfVV6vl29/+9vU1dURi8WoqqrCbrdz5ZVX0traSkNDAydPniQSiVBcXMynP/1pXn31VTQaDQMDA2RkZLC8vIzL5VrxWiWACCGEEEII8SHk8Xj4x3/8Rw4cOEBVVRVdXV2Ew2EUCgXd3d34/X62bt3K/Pw8Xq8Xo9GIxWIhIyODjIwMbrnlFl599VUaGhoYGRnBbDZTUVGx4nWvmwBy7tw5SkpKVrsMIYQQq0z6gRDiw2xkZIRHH32Uf/3Xf2VhYQGNRoNKpaKurg6Xy8W3v/1turu7eeWVV5iamqKvrw+DwUBubi47duygpaWFs2fPMjMzQywWw2azkZaWRldXF+np6fh8PoxG44q+h3UTQL75zW/y7LPPrnYZQgghVpn0AyHEh00sFuOVV17hxRdf5KmnnkKlUhEOhwmHw+Tl5ZGUlIRaraa8vJzKykpUKhVpaWkMDAyQmZlJcXExo6OjOBwOLr74Yvr7+/F6vfT19aHT6fjMZz5DRkYGqampK34HCKyjAPLP//zPq12CEEKINUD6gRDiw2JmZob6+nr27dvH8ePH8Xg8hMNhLBYLWVlZbNmyhd7eXgwGA1arleuuu47y8nI2btzIj370I7q6ulhcXOSTn/wkvb29RCIRDh8+jFKp5KabbmJycpJYLMb27dvR6XS43W4ikQhq9cpGhHUTQOTYRSGEECD9QAixtkUiET71qU/hdrsZGBhAo9FgMBgYHx/HaDRyww030NraSmZmJqWlpTgcDrq7u9HpdNTV1ZGenk5hYSGf//znmZ6eZnR0FAC9Xk9LSwtLS0v4fD46Ojr48pe/zNLSEv/93/9NOBxm27Zt9PT0rPgy1XUTQIQQQgghhFirIpEIKSkpBIPB+GMajQaTyURaWhpZWVmkpKSQlZXFxMQEubm5ZGRksLCwgFqtpqWlBZvNhkajITExEb/fT1ZWFi0tLTQ3NxMOh+nv7+fqq6/m+PHjTE5O0tLSwvDwMJOTk/T19aHX6/n93//9FX+vEkCEEEIIIYRYJc3Nzdx///00NDScFz4ADAYDGzduJBKJ4HK5qKioIDs7m+zsbAYHB4nFYnR3d5OYmEhqaiomkwmNRsOxY8fQ6XQsLCyQmJiI2+1m06ZNzMzMEAqFuPzyy1EoFLzxxhsA+Hw+EhMTCYfDqFSqFX/PyhV/hTXi3nvvXe0ShBBCrAHSD4QQq62rq4svf/nLbN26lauuuoonn3yS7u5uSktLOXnyJCMjI1RXV5OXl0csFgPeDCrDw8NYLBYKCgqYnp7mhz/8IQDXXHMNn/jEJ7j22mtJTExEoVAwNDREYWEhl1xyCYFAAJ/Px0033YTX62V4eJi0tDQ2bNhAKBTCbDazuLi44ns/3rJuAsj8/PxqlyCEEGINkH4ghFgNsViMhx9+GKfTSU1NDU888UT8OFy1Wo3dbqeyspKcnBwSEhK44ooriEajTE9P09TUhE6n4+zZs7S0tBAKhQiHw5hMJlpbWzGbzSgUChwOBzU1NbhcLrKyspicnKSmpobExEQuuugi1Go1k5OTdHd3s3//fpqamuJ7SWZnZ2lra6Onp2fFx2LdLMH667/+69UuQQghxBog/UAIcSEdPnyYffv2xWcwpqamALBarVRVVbG0tEQgEMBkMmG1WvH7/djtdmpraykoKODEiRNEo1ESEhLYuHEjwWCQ1157Db1ej1qtxmQy8eijj6LVajEYDGzZsoU777yT5557DovFwtzcHMvLy5w4cYL8/HxKSko4deoUmZmZuN1ulpeXeeqpp5ifn8dkMjEzM7PiY7JuAogQQgghhBAXQiQS4bXXXuMHP/gB3d3dhMNhFhcXUalU3H777Xi9XlJTU+ns7ESj0WC324lEIhgMBhISEkhOTqa2thalUkksFiMpKYnl5WVCoRAf/ehH6ezspL29nQ0bNtDe3o5SqSQ5OZn5+XkOHTrEvn37qK2tZdOmTYyNjVFcXMzS0hKRSAStVssll1xCJBLhrrvu4tixYzQ2NqJQKDAajWRnZ6/4+EgAEUIIIYQQ4gNw4sQJ7rjjDtxuN7FYDJVKhUajIT09PT6LMTs7i0aj4fTp08zNzZGTk4NGoyEcDrNx40YyMjIAmJ6e5uTJk8Cbm9Gj0ShlZWX09/dTX1+P3W7HbDaTlpaGQqEgGo3GZy+mp6dJS0ujsrISr9eLyWTi4osvRqPRMD4+ztmzZ0lMTGRycpLk5GSqq6vp6OhgYWGBSCSy4uO0bgKIz+fDZrOtdhlCCCFWmfQDIcQHKRQK8dBDD/Hwww8zMDCAz+djeXkZvV6P0+kkNzeXrKwsQqEQY2Nj1NbWEgwGcbvdlJaWUlNTg06no729neXl5fjzBgIBwuEwRqOR4uJi7HY7Q0NDTE1NodPp2Lp1K1arlf7+ftRqNTfddBOvv/46tbW1aDQaqqqqGBoawuPxYDKZyMnJASA9PR273c7rr7+O1+ulo6ODubk5rrnmGoqKikhLS1vxMVs3AeSzn/0szz777GqXIYQQYpVJPxBCfBB+9rOf8ed//udMTEwQiURQKBTEYjGMRiO7du3i1KlTqFQqlEolpaWlOJ1OGhoa2Lx5M8899xyTk5NYrVYOHjxIZmYm8/PzTE9Px58/FAoRDAbJzc1Fq9UyNjZGXV0d586dY9OmTXi9XnJyctixYwcJCQlUV1djtVp57bXXWFpaYnx8nGg0yuLiIh/5yEc4cuQIKSkpVFRUkJmZSXFxMcPDw/GZmbcuMLwQ1s0pWPfcc89qlyCEEGINkH4ghPht1dXVYTQaUSgU3H777Xg8nviSpVgshsViYe/evVx99dUkJyejUqm47LLLqKmpobu7m4mJifishEKhwOPxEAgEGB4eJiMjg1gsxtLSEvBmALHZbBQXFzM0NITT6cThcJCUlITX62VsbIxz585RUFBAfn4+jz/+ONPT01itVqLRKK2trRw/fhyj0ciJEyfYt28fra2tjI+P8/TTT9PS0oLP50Ov12O32zl79iwvvfTSeSFopaybGZCamprVLkEIIcQaIP1ACPGb+s53vsN3vvMdotHoeY+bzWays7NxuVwcP36cWCyGXq9HoVBgt9sJBoOMj4/z2GOPsbCwQHl5OU899RSDg4M4HA5UKhWVlZWEQiGWl5cpKytjfHycjIwMPvKRj+D1eqmvr6elpYX9+/djMpmorKzkxhtvpKenh9nZWZ5//nkWFhYYGRkB4Morr2R2dpbe3l5eeOEFXnvtNa688kosFguLi4sMDg7i9XqJxWJEIhHS0tLw+Xx4PB7MZjOBQACLxbKi47luAogQQgghhBC/qaysLIaHh+Nfm81mOjo6cDqdAExNTfG3f/u3eDweFhYWqK+vp7u7m8nJSZRKJUeOHEGj0VBeXk5TUxP19fUYjUbS0tKYm5ujv78fu92OWq3GYrHEN6EbjUbOnDlDW1sbo6OjZGZmYrVaueGGG9i8eTMZGRmMjIyQkJDA4uIi4XCYgYEB+vr6GBkZYXl5GZ1Oh8ViwWQy8dnPfpa6ujoaGxvJy8vDbrfj9XpRqVT09fWxceNGlpaWmJqaWvGTsCSACCGEEEII8UvGxsbethl7y5Yt1NfXn/fYoUOH+OY3v0kgEECv15OYmMjg4CADAwNs2LCBlJQUxsfHSUxMxO/309PTg91ux+FwUFtby/z8PMvLy8zPz5OYmEhycjJDQ0NkZWUxPT1Nb28vfr+f8vJyqqurWVpa4vjx40xMTODz+ZiamsJgMKDT6QgEAvETrzZu3EhjYyPXX389+/btIxAIcPr0aSKRCBs2bIgfCfxWSCorK8PlcjE6Ooper1/x8V03e0Aeeuih1S5BCCHEGiD9QAjxTn784x+jUChQKBTveBLUyZMnUSgUaDQaLBYLdrudPXv20NPTg9frZWlpiby8PIxGIxkZGWi1WoqLi9m9ezfbtm3DYDCQkZGBw+FAoVBQWFhIZmZm/G6Ojo4OHnnkkfjrvbU/IzMzk9nZWdxuNw0NDXi9XkKhEJ2dnQwPD9PT04NKpSItLY2Kigq2bNmCwWBgbm6O//mf/2F8fJyxsTGGhoZYXl5m06ZNZGRkMDk5ycDAAFqtlomJCVwuF3a7HaPRuOJjvW4CyOnTp1e7BCGEEGuA9AMhxFvuuuuueOj40pe+9LbvFxQUUF1dfd5jkUiEmZkZfD4fMzMzzM3NEYlEUKlUnDp1issuu4y0tDRUKhWdnZ10dnZy7Ngx2tvbUSgUOJ1OUlNTMRgMjI2NEQgE4qdVJSQkxMNPZ2cnbrebwsJCdu7cSSQSoaioCIPBwPj4ONu3b2fnzp1s376dqqoqvvWtbzEyMsLo6CgKhYKMjAwKCgro7u6mo6ODj3/849xyyy309vaSlJREJBIhPz8fjUZDKBRCp9OhUqnQ6XQrPu7rJoD86Ec/Wu0ShBBCrAHSD4RY315++eV46Lj//vvf9v377ruPWCxGLBaju7ub5uZmYrEY4XCY7373uxQWFmI0GtHpdBgMBrRaLRqNhpmZGTZs2IDBYGDv3r0MDQ0xOzvL2NgYOp2OiooKEhISyMnJIT8/n/3795Oenk5FRQU7duzg29/+Nt/4xjfQaDQA5OfnMz09zaFDh1AoFFxzzTX09PTw6quvEggEKCkpIScnh+LiYqqrq5mfn2doaIg33ngDtVrNhg0b2LZtG0VFRVRUVPDkk08yOjpKQUEB8/PzXHTRRaSkpODxeLDZbBw+fJj29nbm5+dX/G8ge0CEEEIIIcTvPIVC8a7fe+ONN9i+fft7/r5Wq+Uv/uIv+Iu/+Iv4Y9FolJ///OcMDg5iNBo5deoUp0+fpq+vj8TERIaHh8nMzGRhYQGv14vD4SAnJwetVovBYCArK4uhoSEMBgPBYJC+vj6KiooAqKysRK1W09LSgtPpxG63Mzc3x9DQEGfOnOHP/uzPOHLkCHa7nbGxMTo6OigvL2f37t2YTCZaW1uZmJhg7969KJVKDhw4wMmTJ9m7dy+Dg4PU19fjcDioqamhvr6ewcFBzGYzJpPpgxnw9yABRAghhBBC/E668847efDBB9/xe79O6PhVVCoVt912G/DmvR0zMzMcOHCAcDhMcnIyLpeLvr6++NG2aWlpTExMcPHFF5Oens7+/ftRqVRkZ2czNTX1tg//CwsLxGIxlEoli4uL6HQ6CgoKsFqtnDx5Ep1Oh1qtJhaLUV9fj8vlwmAwcODAgfgdJTqdjqqqKr7whS9gtVrp6enh5ZdfZmpqiqqqKoqKiqipqaG1tZXbbruNxMTE9zUmvw4JIEIIIYQQ4ndKcnIygUDgbY9/9KMf5dlnn12R10xISOD//b//R3JyMv/1X/9FZmYm7e3tBINBIpEIc3Nz9Pb2kpmZidls5vDhw0SjUdRqNWVlZTgcjvM+/EciETIyMsjLy6OyshKr1UpZWRkmk4kdO3ag1+upqKhAoVDQ3t6OxWIhJyeHyclJwuEwxcXFXHHFFTz77LO0trZSUVHB5OQky8vLqFQqNmzYwOTkJM3NzdTW1nLdddfhdrvJzc2NLwNbKetmD8j111+/2iUIIYRYA6QfCPG7S6VSoVAo3hY+3trTsVLh45fddddd1NfX8/nPf56srCyi0Wj8VvSRkRG6u7vJy8vjkksuIRwOo1QqWVhYoLe3F5/PF3+e0dFRlpeXSUtLo7e3l5mZGfLy8igoKCAcDtPQ0EBLSwuHDx/G6/VSVlbG6OgoWq2W2tpaioqK4kvAnE4nfr+fUCjEyMgIV199NWazmdraWhwOB52dnRw4cACr1UpfX9+Kj9G6mQH5yle+stolCCGEWAOkHwjxu8dkMhEMBs97rKSkhI6OjlWpR6FQsHv3btrb2+nu7mZ8fJy0tDQcDgfl5eV0dXVx+PDh+ClVv/jFL5idnaWiooJbb70VeDNMhUIhbDYbSUlJTExM4Ha7aW5uxmAwcOmll3Lq1Cn6+/sxm80sLCzgdrsxm81kZmbS09NDUVERGo2G7OxslEoleXl5lJWV8Xd/93ekp6ezYcMG7HY7o6OjuFwuPB4PZWVlKz4+6yaAfOQjH1ntEoQQQqwB0g+E+N1x66238thjj5332O7du3nppZdWqaL/FYvFyMnJITU1Fb/fj9/vp6ioCIVCwUsvvYTRaGR2dja+PGthYYFoNBr//aWlJXJycigpKSESiWCz2cjIyCAUChGLxZidncXpdDI0NMTAwACxWAyHw0EwGOSNN94gOzubiYkJTp06RU5ODqFQiObmZjweD3q9nmg0SmNjI3Nzc+zcuROPx8PMzAwVFRUrPjbrJoAIIYQQQojfHf/3VKsNGzbQ1NS0StW83alTp+jo6KCoqIi5uTm0Wi0ej4empib0ej3btm2joKCAiYkJxsbG+L3f+z2qqqoIBAKYTCb279/P0NAQfr+fxMREcnNzycjI4Oqrr+aJJ57A7/czNjaGyWQiLy8PgNnZWex2O0qlkpmZGcLhMC0tLVitVjQaDW1tbSiVSnw+Xzzw3Hzzzfj9ftxuN1lZWRdkbNbNHhAhhBBCCPHh9/TTT58XPrRaLbFYbE2FDwCPx0N7ezsTExOUl5eTnp5OSUkJg4OD2O12Ojs7efbZZ4lGoxQWFjI5OcnMzAyRSAQAq9WKSqViYWGBxsZG9u3bR3NzM6Ojo2RnZ6PVaklNTUWn0/HRj36UnJwcTCYTg4ODVFVVUVZWxsGDB+OXC46MjPDZz36W3NxcysrKMBqNbN68GbvdzsDAAFdcccXbLl1cKesmgDz99NOrXYIQQog1QPqBEB9et956K3v27Il//fjjjxMOh1exond29OhR5ubmsFqtbN26lZqaGlJSUjAajcRiMU6cOIHZbMZgMOB0OnE6nRQXF6NWq0lJSQFg27Zt7NmzB5PJhM1mo6ioiGAwyPT0NMXFxezYsYOdO3fyla98Ba/Xy8mTJ1laWmLnzp3Y7fb4ZnylUonFYiEajRIKhdixYwe1tbXce++97Ny5k7GxMdLT07Hb7RgMhgsyPutmCdbPf/5zPvaxj612GUIIIVaZ9AMhPpy+853vnLffIxaLrWI1725kZIT9+/cDUFVVxYsvvoher6e6upqamhr6+/uZm5vD4/GQm5tLT08ParUalUp13jG8GRkZZGRkEAwGsVgsGI1Gurq6MBqNXHzxxfT09JCcnAyA0WjE5/NhsVhwuVzo9XoWFxfZvHkzVquVHTt2YLfb0ev1jI2NxWdOWlpa0Gq1LC8vMzg4SE5OzgUZo3UTQJ544onVLkEIIcQaIP1AiA+f2dlZ/uqv/gp4c8nVWpz1eMvnPvc5GhsbKSsrY2lpCYfDwdTUFB0dHfh8Pu69914eeeQRzp07h8vlYuPGjXR1dXH8+HFuuukmAJaXl3nyySdRqVQolUqam5ux2+3YbDZqa2sZHh7GZDJhtVrx+XwMDQ1x4403AqDX64E3T9HSaDTEYjE6Ojro7u5Go9HQ29vL0tISN998MzqdDpPJhEajYWpqSgKIEEIIIYQQAC6XK/6/13L4mJmZYXl5Ob6MKjExkV27dqFSqaivrycYDBIOh7n++utZXl7G4/EwPT3N+Pg4fr+f0dFRuru70el0LC4u0t3dTW1tLVarlcTERHbv3o3H4+Hs2bOYzWb0ej0NDQ0MDAyQk5PD7t27AZiYmODo0aMkJyeTkZFBfn4+0WgUq9WKQqHAaDTS09NDXl5e/PjeCxU+QAKIEEIIIYRY496646O7u3uVK3l3sViMBx54gOzsbG655RZGR0ex2+3Y7XbMZjM5OTk0NDSg0+kIBAJcd911/PznP2dhYYGLLroIk8mESqVCr9eTkZFBamoq6enpzM7OYrVaqaysJBAIsLi4iMPhIBqN8vTTT6NSqSgsLKSuro5AIMCNN96Iz+djZGSEaDTKJZdcAsDmzZsBCIVCeDweLr/8cnw+H6+++ipGoxGTyXTBxkoCiBBCCCGEWJMefPBB7rzzTgBSU1MpKChY5YreXVNTE7W1tUQiEYqLixkdHaW9vR2/34/D4SA1NZWzZ88yMTFBQkICTqeTzZs3Mz8/T3FxcfxUq/T0dILBINFolIGBAebm5tixYwevvvoqTqeTLVu2kJSUxMGDBzGbzahUKnJzc+ns7IzPwKSnp7N9+3bS09NRq9XxvSJTU1MMDw+TkZGBSqWipaWF4eFhtm7dSlNTE93d3fFZlJW0bk7Buv3221e7BCGEEGuA9AMh1q7vf//7KBSK+L+3wge8ubxpLbNYLLS1tXHppZcCsGXLFgwGAx6PhyNHjvDMM8+Qnp6OSqXC6XSya9cubr31VgwGAy+//DI//vGP6e7uZnBwkK6uLjo6OggEAqSmptLb28vCwgLHjh2jt7eX+fn5+K3qN910E/n5+Vx99dVs2LCB1157jYaGBsrLy/F4PIyNjcVrHBsbw2KxUF5eHq9x9+7dZGdn09PTQ1dX1wUZq3UTQOTmWyGEECD9QIi15MEHHzwvcHzjG994159dXFy8gJX9Zo4cOcLx48epqqrCZrNhMBgwm81ceeWVXHzxxej1epxOJy6Xi0svvRS1Ws3g4CAOh4NIJMLU1BQJCQl0dXVhMplobGykubkZp9NJWloai4uLzM/Pk5SURH9/P+FwGJ/Ph16vZ2pqipaWFubm5lhaWmJ4eJiuri7cbjehUIjh4WHa2toYHByktLSUiooKxsfH2b9/P16vl7y8PAYGBsjIyCAvL4+enp4VH691swTr5ptvXu0ShBBCrAHSD4RYPR6P57wN5e/ll4/ZValULC8v43Q6z/sv+mvBK6+8wsMPP4zNZiMrKwu/34/f76euro5rr70WlUrFH/3RH6HRaGhsbOTo0aPo9Xry8vLo7OzEarXicDgwGo3U1NSgUCjQ6XQ4HA7C4TB9fX288sorbN++naWlJQYGBhgYGMBms/HCCy+wadMmnnvuOSorK0lJSWF8fJyamhqKiooYGhqisbGR9vZ2CgsLyczMJDExkSNHjjA+Po5Go4nfTaLRaIhGo7/23+f9WDczIEIIIYQQ4sL75RmO9/pwG4vFzvv3y77whS8AMD4+zpYtW1a03t/E/v37+fznP8+hQ4cIBoP09fURCoUYGxtjamqKcDhMRkYGoVAIr9dLNBrF7XbT1NREU1MT9fX1RKNRtmzZgtlspq+vj5GREUZGRrBYLBgMBiYnJ8nOzqakpISPf/zjzM7Ootfrsdls6PV6fD4fNpsNi8VCSUkJaWlpTExM0NTURFpaGsvLywCcOXOG6667jpdffhm73Y7JZKKwsBCn00l1dTW7du1iw4YN591FslIkgAghhBBCiA/MRRdddF7oeDfvFTj+r3/5l39BrX5z4c5bJ0mttkgkwpe//GXGx8dZXFyks7OTiYkJxsfHufbaa/nBD35AbW0tbW1tOJ3O+MlUbx2fm5uby8TEBAqFgtTUVNxuN1lZWSwtLaHX61leXmb79u1885vf5Fvf+hYlJSWkpKRw1VVXkZOTw8GDB3nuuecIBAJs3bqVq6++mrm5OVJSUrjssstISUkhKSmJ7Oxstm/fTiAQwO/3s3//fs6cOUNvby9KpZKuri4aGxvp6OjAaDRekLFbNwHk6NGjq12CEEKINUD6gRAfrNOnT58XOOrr69/x5xobG3/twPFOlpaW4sFjcXERhULBvn373lft78d//ud/olAo2LJlC3v37iUhIYGqqiqysrLo7e0lISGBoaEhtFotDQ0NHDhwgEAggMVi4ZZbbmFiYoKFhQWWl5cZGBhg+/bt/NM//RNf+9rXeO6559BqtYyMjBAOh1Eqlbzyyiu8+OKL9Pf3c/r0aZqamujt7UWv19PT0xNfrpWVlRW/FyQnJ4c9e/a5jP2UAAAgAElEQVSQk5PDfffdxz/8wz+wbds2MjMzueKKK0hOTqa7u5sXXngBn8/H1NTUBRm7dRNA/v7v/361SxBCCLEGSD8Q4v3LyMiIB47a2tp3/JmSkpLzAkdNTc37ft1QKBS/zwLgpptuQqFQMDo6+r6f+zdRUVHBHXfcwdjYGD/4wQ9wuVx8+tOfpqKiAq1Wy9jYGD6fj8rKSsrKypiamiISidDW1sbLL7/MQw89xLFjx3A4HGzevJnKykpycnJobm7m6NGjdHR0MDMzw9mzZ6mrq2N+fh6lUkkwGGRhYYGLL76Y7373u5w+fToeYk6fPk1paSljY2PodDr8fn98KZfL5cLj8XD69Gm6urooKioiEolw7tw5ZmZmsNlsPP7445w7d+63Coe/qXWzCf3xxx9f7RKEEEKsAdIPhPjtvNdyqrdciA+vJ0+eJBgMnndxXnp6OgCf+tSnePjhh1fstQOBAHa7/bwTuX784x9jMpkoKiqivb2dF198EaVSycUXX8zU1BQPPPAAZrOZr3/96xw/fpz77ruPyclJ7rzzzvipWf39/SQmJmKz2RgZGWF+fp729nb6+/upra1leXmZK664gomJCXJychgZGSEUCjE0NMQnP/lJhoeHcbvdvP7662zZsoW2tjYmJiZQKpXo9Xr0ej3nzp1jfn6e8vJyzp07x+LiIouLi3g8Hvx+P2azmcnJSbq7uykqKlqxMYR1NANyITbUCCGEWPukHwjx6/n617/+K/dyfO5zn3tfy6p+W2+d3DQyMnLe44888ki83g96VuSpp54iOTk5Hj5uv/12rFYrzz//PIODg0Sj0fg/pVLJww8/zKFDhygoKMBsNmO329m7dy/XXHMNl112GYuLizQ1NXHo0CF0Oh3l5eX09/fjcDhQKBTo9Xp27tyJVqtFr9fT0NDAyZMneeWVV3C5XCQnJzM+Ps6DDz7IL37xC5qbm0lJSeHcuXPxTfA6nY6BgYF4INm5cyd79uzBZrMxNTVFNBolPT2dHTt2sHv3bnQ6HUrlyseDdTMDIoQQQggh3ttameX4dblcrng9/7f2t2ZF4M37Rj73uc/91q/z6KOP8qlPfQoAtVrN7OwsOp2O++67jxdeeIHZ2Vncbjc1NTWEQiEWFhbiN5vn5ORgtVqZm5tDp9Nx8803c/DgQaamplhYWMBut9Pb28vZs2cxm81s2bKF4eFhkpOTKSoqYnZ2FrPZTFtbGwkJCSwvL+P3+yktLeXBBx9kZGQEt9vN3r170Wq1zM7O4vP5yM/PJzMzE71eT2tra/ziwlgshkqlwmKx0NPTQ2pqKgkJCRgMBpaWlrBarb/1OP261s0MiBBCCCGEeLtfNctRWlq6KrMcv6m36vvKV77ytu/dcccd573PYDD4az/vxMREPHw4HI7zNsP/8R//MX/wB3/AtddeSzQaxefzoVKpyMvLIyEhgePHjzMxMcGJEye4//776erqQqVSYTQamZ2dxeVyMTs7SygUIhwO43Q6eeKJJ9i8eTNZWVnU1dUxOjrK9PQ0V1xxBdu2beNjH/sYAwMDuN1uKioqUKvVfOYzn8HlcpGenk5SUhI2m43k5GTS0tKwWCxMTk4SiUTQ6XR0dXUxNzfH4cOHmZ+fx2q1UlhYiFqtJj09HYvF8sH8Qd7Dugkg73WzphBCiPVD+oEQvzp0/OxnP4t/oG9vb7/A1b0/DzzwQLz2r3/96+/4MyaT6bwx+NnPfvauz7d161YAkpKS3vESxI997GOMjo4yMTHBq6++yuLiIpdeeilWq5XZ2dl4gDCZTBw5cgS73Y5arWZmZobe3l4GBwcZHBzk8ssvZ/PmzWi1WjZv3oxSqaS3t5eBgQESEhIoKCigtLQUr9dLb28vTz/9NGq1mk2bNpGYmIhOpyMQCJCUlMTll19OLBbj+eefZ2hoiMnJSU6cOMHrr7/O9PQ0jY2NLCws0N/fj81mIzc3l9TUVGZnZz+Qv8Gvsm4CSFZW1mqXIIQQYg2QfiDWq18VOkZHR+Mf3D/zmc9c4OpWxve///3zZm/e7f6Q22+//bzxUSgU3HvvvQQCAXw+Hzqd7j1nTXJycojFYlgsFkpLS9Hr9Wg0Gn7/93+f7du3c/fdd1NQUIDJZKKrq4vq6mpKS0sxGAwUFxdTUFDA9PQ0PT09wJub6fv6+lhcXKSmpoa5ubn4EblKpZKzZ8+iUqlQq9WUlZUBMDc3h0KhQK1Wk5iYSHt7OzMzM0xPT2MwGAgEAhw7doyOjg6Ki4v55Cc/SXV1NU6nE3jz/x8jIyNEIpEP8k/wjtZNAPnqV7+62iUIIYRYA6QfiPXkV4WOX/5wnpaWdoGru/BCodB571mv17/rz/7pn/4pycnJBINB9u7d+64/ZzQaueyyy+LLndrb22loaMBms1FWVsaOHTtISUmhpKSE5ORkjEYjbW1tjI2NsX37dlJTU3E6nbS0tNDZ2QmARqNh9+7dpKWl4XK5mJmZoaGhgWeeeYYXX3yRsrIydDodGRkZTE9P8/rrr+P1eklOTmbTpk0olUoyMzOpra1lx44daDQa1Go1OTk5DA4OMjw8TGJiIp/4xCcIBAL09fWh0WjYtm1bPAStpHUTQIQQQggh1oPfJHSsd/Pz8+eNx8jICBqN5m0/96tOhsrKymJwcJCRkRG2bt1KbW0tCwsLPP/887S1tTE/P4/NZmN+fp6EhASUSiVOpxONRkN+fj52ux29Xn/eBvDU1FSi0SgPP/wwra2tjIyMMDk5yeWXX05FRQVXXHEF/f39vPHGGyQnJzM1NUVGRgYARUVFJCQkkJycDMCOHTv44he/iNPpxOFwxE8DVCgU9PT0cPjwYcbHx/H7/St+BC9IABFCCCGE+NBTKpUSOj4ALpeLxcXF+FgFg0EcDgf79u077+6P/yspKYmTJ0/S2dnJnj17KCgoYGBggN7eXvx+P263m3A4HH/upKQkBgcHOXr0KDqdjtLSUj75yU+ed8ni9u3bSU9PJyEhgXPnztHZ2Ul+fj7l5eX4/X6effZZOjo6CAQCdHV1EY1Geeqppzhw4ABer5dLLrmE0tJSAAoKCohEIhQXF3PddddRUlJCUVER09PTnDt3jkgkwvHjxzlx4gQej2fFx3ndBJBz586tdglCCCHWAOkH4nfFVVddFQ8d7xQsJHS8f0lJSej1ekKhEElJSe+4STsWi3H8+HHS09PJz8+nqamJ7u5ukpKSyMzMJCkpicLCQhYXF8nPzyc1NZWCggIKCwspKysjNTUVeDNEqlSq+PMqFAruvvtuMjMzCYVCdHR0cOTIkfjJVQkJCTz//POcOXOGkpIS5ubm8Pv9zM/P09DQwB/+4R9y4MABFhcXGR8fJxwOMzg4yKlTpxgbG8NkMjE6Ohrfm1JWVkYoFHrPZWkflHVzD8g3v/lNnn322dUuQwghxCqTfiA+zDweDy6X612/Pzo6ui72clxIZ8+exWKxsLS0hNFoZNOmTTQ0NMS///LLL/Poo48SjUZJTU1Fo9EQDAZZXFxEq9UyNzdHf3//ecu4srKyuPzyy3E4HPG7O7xeL3l5eW97/RtuuIHk5GRaWlrQarUcO3aMrKwsOjo6SE5OJhAIkJubS0JCArW1tczOzvKnf/qnqFQqDh06RDQaZXl5mfHxcYaGhtDpdGzatAmfz8ell15Kb28vLpeLtrY2Pv3pT58XglbKugkg//zP/7zaJQghhFgDpB+ID6P3uiDwpz/9KXfccccFrGZ9SUpKYmlpCYvFwszMDKdOnUKhUJCcnIzFYiEYDKLVasnPz2diYoLm5ma2bt1KamoqdXV1KJVKNmzYgN1uR6fTodVqAfB6vQwNDcX3YSwsLFBdXc1FF10EQG9vLz6fD4DNmzej1+uZnZ2luLiY7u5ubrvtNg4ePEgkEiEpKYnU1FQMBgMej4eqqiqamprIzs5mYmKC0dFRtFotS0tL2Gw2srKySElJYXZ2llgsRltbG319fUSjUS655JIVH9N1E0Dk2EUhhBAg/UB8eHz/+99/13trVCrVBTkuVfyv6elp7rnnHr73ve8RiUTw+/34/X5SUlKwWq1oNBqGh4d58sknycrKoqKigtzcXBYWFvB6vTidTgYGBjAYDPT19cXDg9FoJBgMotPpzpvdslgshMNhDAYDiYmJ5OTk8N///d+0trZit9uxWCykpKTQ3d1NV1cXdrsdgNzcXKqrqxkaGiISiZCXl0ddXR033HADTqeTl19+mc7OTlQqFaFQCKVSSVtbG/X19RQXF0sAEUIIIYRYb95rtkP2c6yue+65h3vuuYcDBw5www03EIvF4nsrpqenWVxc5LLLLmNoaIje3l4+/vGP09rayuTkJD6fD6/XGz9tSqPREIvFsNlsOBwO7HZ7fNM4QEpKCikpKQDMzMzwxBNPMDk5SWNjI5WVlVx99dVcfvnlKJVKNBoNCwsLnDp1imeeeYbe3l527drF3r176e3tpaKigpmZGVwuF3l5efT395OcnIzT6cRmsxEIBPB4PCQkJDA7O0tSUtKKjuO62YQuhBBCCLFWPfjgg+96itUPf/hD2Uy+xuzatYv5+Xn27NmDwWBAq9USDofjsxAnTpzg9OnTuN3ueLhYWFjAYrFgMplISUkhMzOT7OxsFAoFGRkZqNXqd9y/09TUxB/90R8xMDDAqVOnUKvVuFwuJicnyc7OZuPGjZjNZtLS0uKXEJrNZnJyclAqlQQCAVQqFQkJCUxOTmI0GvniF7/Ipk2bUKvVHDt2jHPnzuFwOLBYLHi93hUfv3UzA3LvvffyrW99a7XLEEIIscqkH4i1RGY7Ptwee+wxZmdneeaZZ2htbeXw4cO43W4KCwtRKBT09vayYcMGtmzZQnt7O1arlaqqKjo7OykpKeGll14iJyeHM2fOEAgE0Gg0lJaWnrdUtK6ujkAgwMmTJ8nOzqagoIDs7GzC4TCPPPIICoWC7Oxs5ufnMRgMfO1rX2NkZISEhAQ6OjpISkriD//wDwEIBoNMT0+TkJDA6OgoJpOJmZkZVCoVs7OzFBUVveNG+A/augkg8/Pzq12CEEKINUD6gVgL3i14/PCHP+Tuu+++wNWI9yMpKYlbb72VtrY2enp6eP311+no6GDbtm2cO3eO1NRUysrKyM7OBiAajeLxeBgcHEStVtPV1UVSUhLnzp0jMzMzft/I4uIiY2Nj2O12Nm3aRH9/P+np6cRiMRITEzl79iwDAwMsLCzg9/t5+umnKSkpITc3F71eT0JCAq+//jpLS0vk5uYSjUaZmpqKn6TV0tKC0WjE5XKRkJBAZWUlNTU1F2TM1k0A+eu//uvVLkEIIcQaIP1ArJb32lQusx0ffuXl5Tz88MNs3bqV4eFhent7WV5eZnFxkaWlJUpKSmhpaYkHgZSUFAoLC+nu7sZkMnHjjTcCb14aCPDcc8+h1+txOBycOXOGXbt2MTU1BUAkEsHj8aBSqVAqlQwMDDA5OUlLSws6nY5wOMzc3ByDg4OYTCZeeeUVKisrOXjwIFarlb6+PhQKBUlJSajVajZu3Mjs7CyJiYksLy//ypvf3691E0CEEEIIIVbDu812mM1mpqenL3A1YiXp9XpaWlo4dOgQzz//PKdOnaKvr4+kpCROnTqF3W6nq6uL4uJiDAYD4XAYrVbLwsIC/f398fABUFZWxqFDh+JH787Pz1NeXs7o6Cjj4+Ps2rWLxsZGvF4v+fn5jI6OEo1GKSoqIjs7m7/5m7/BZDLh9/sZHBykubmZcDhMRkYGl112GTabjbq6OhYXF5mbm8NoNNLY2MjQ0BCXXnrpio6TBBAhhBBCiBXwbsHj+eef59prr73A1YgL6fLLL2fLli3827/9G0ePHuX1118nPz+fsrIyMjIySEhIoLOzE51Oh1KpJDU1FbVajdPpjD9HcXExr776Kt3d3RgMBi699FJaWlpoaWlhw4YNpKenU11djclkIi0tjebmZoLBIBaLhampKS6++GLm5+eZmppCrVYzPz/P1VdfTW5uLgqFAp/PR0pKCq2trZhMJjZu3Ehra6vsAfkg+Xw+bDbbapchhBBilUk/ECvt3YKHLLNaXxITE7n77ruZmJggFouRlJSEx+MhFAqRm5vL8vIydrudvr4+enp6SE9PJxAIxH9/cHCQpKQkbrvtNvr7+xkbG2Pbtm2kpKQQDocJBAIYDAZycnJobGykoaGB/Px8lpaWaGtro6qqilgsxsjICMvLy+Tn55Oenk56ejo//elPmZqaYsuWLeTk5NDZ2ckbb7xBdXU16enpKz426yaAfPazn+XZZ59d7TKEEEKsMukHYqVI8BDv5Hvf+x6Dg4M8+uijtLS0xGckMjMzKSgooL+/n6WlJZqbm9m4cSOVlZUolUpGRkZQKpXk5OQQCoXwer04HA4ikQitra2Mjo5y88038+qrrzI+Po7JZMLtdjMxMUEwGKSwsJCqqiqi0SivvfYaRUVFFBQUkJCQgMfjwe/3c+TIERYWFnC5XKhUKoxG4wUZk3VzD8g999yz2iUIIYRYA6QfiA/au93fIXd3iLdkZ2fz1a9+FZvNRkdHB01NTfj9fs6dO4fVasXpdGI2mykoKMDtdgMwPj7OwsICZ8+e5cyZM2zYsAG73c709DRDQ0OEQiEOHz7M4OAggUCApaUl5ubmyMrKQqvVEgwGCQaDNDQ0xI/p7evr47HHHiMQCKBWq8nPzychIYHMzEy2b99Ofn7+BRmPdTMDcqGOFRNCCLG2ST8QH5R3Ch3JycnMzMysQjVirTOZTNx33320trbi8/kYHx/HarViMBioqKhgbm6OYDAYvwPkox/9KGNjY7S0tJCamsrMzAw2m43S0lKMRiPz8/PxI3tjsRgdHR2UlZWhVCqprKwkGAzyve99D7fbTVVVFUajkUOHDhGLxRgaGiIlJYXBwUGqq6vjS7daW1vZvHnzio/FugkgQgghhBAfhHcKHnKilfh16HQ6Dh8+zEMPPcRjjz2Gx+MhKSmJnp4e1Go11dXVzM7Osri4yCOPPIJWq2Xz5s2Ew2FGR0cxGo1kZmYSDodxuVx4PB4cDgd6vR63241er6eiogKn08nBgwdZWlrCZrNx3XXX0dHRQUVFBf/yL//CVVddhc1mY3BwEL1ej9lsZmlpCavVekHGQQKIEEIIIcSv4Z2Ch16vl8stxW/sc5/7HEVFRTz00EPodDomJiYoLS1Fo9GwsLCAUqmko6ODhIQE8vPz4zer+3w+jEYjTU1NNDY2kp+fj9FoZMuWLVRXV6NUKtFoNADYbDaKi4v5xCc+QWpqKpWVlczOzhKLxejr6+O2227D7XbjdrsZGxvDbDZfkBOwYB3tAXnooYdWuwQhhBBrgPQD8ZvKysp61z0eEj7Eb+vSSy/lwQcfxOVy4XK5OHDgAPv370en0/Hv//7vjI6OkpSUREZGBhUVFSQlJeFwOGhubkar1eJ0OsnOziY3N5fx8XH6+/s5ffo0fX19AFgsFgoKCggGg0SjUVQqFX19fbhcLux2O0ajEa/Xy/z8PHl5eYTD4fjvrrR1E0BOnz692iUIIYRYA6QfiF/XCy+8gEKhYHh4+LzHZXO5+KCo1WruuusulpeX0Wg0TE9P09nZSV1dHUNDQygUCpqbm9m3bx8mk4nl5WUmJyfJzc1Fq9USi8U4c+YM9913H88//zzt7e2Mjo7yzDPPoFQqCQaD/OIXv4gv+brvvvsoKCjg1ltvpbu7mzNnzuD1erHZbBgMBtTqC7M4at0swfrRj3602iUIIYRYA6QfiF/Hu814CPFBM5vN/OVf/iUHDhzgzjvv5D/+4z9ISkqisrISnU6HyWTC5XLx5JNPsnnzZq688kp++tOfcvToUeDNk/0mJibiG9CfeOIJ8vPzyc3NJTk5mdTUVPx+Pz/+8Y/ZtGkT//Ef/8HMzAxjY2PodDr0ej0HDhzA4XBckDtAYB3NgAghhBBC/CrvdKRuY2OjhA+xogwGAx/72Mfw+XwsLi4yNTWF3+8nFApRX19PMBgEYGRkhNzcXLZv345KpSI1NRWdTse1116LRqNBo9FQVlZGZWUlS0tL+Hw+Kisr+eIXv8g3vvENDhw4wM6dOykvL0en0zE/P09vby8jIyMcO3bsgi3BWjczIEIIIYQQ7+b+++/nrrvuOu+x2tpaTp06tUoVifXo/vvv52tf+xoAY2NjhEIhDAYDkUiEyspKTCYTALt27SItLQ23282ZM2dYWlqivLycpaUlCgoKCIVCtLa2EggEiMVitLW14XA4uOuuu8jKysJms6FSqZibm8NqtWI2m9mwYQM6ne6CvE8JIEIIIYRY12S5lVgrvvrVr7Jx40buuOMObDYbhw4dYteuXVRUVODxeEhOTsbtdtPR0UFRURHhcBi3201ZWRlVVVVoNBqOHj1KcnIyBoOBkpIS8vLyePLJJzl+/Dg5OTksLS3h8XgIh8MolUrS0tKorKwkHA7T1dWF1WrFYrGs6PtcN0uwrr/++tUuQQghxBog/UC85Yorrnhb+JAN5mK1bd++nfr6ekpKSjCbzXi9Xn7yk59w4MABDhw4wCuvvMLp06d55JFHMJvNXHPNNbS0tNDY2Eg4HCYnJwedTsfc3Bx+vx+z2QzAzMwMkUgEt9vN9PQ0paWlbNu2DYvFwsDAAElJSej1emZnZ1f8Pa6bAPKVr3xltUsQQgixBkg/EPDmrMfBgwfjX9vtdgkeYs1ITk7mJz/5CTfddBN6vZ6TJ0/idrupq6tDpVJhMBhITEzkpZde4oEHHkCr1aJUKpmYmGBycpK6ujpefvllxsfH6evrIz8/n5tuuomJiQkmJiYYHx/nyiuvpLy8nGg0SmFhIVlZWVx11VVkZmau+PtbN0uwPvKRj6x2CUIIIdYA6Qfr24033shTTz113mMSPMRapFKp+OIXv8jIyAj19fWcOnWKsbEx9Ho9mzdvxu/309LSQiwWY2JigpqaGrRaLXq9nt7e3vhSqzNnznD69Gnm5+ex2WyMjIyQnJzM+Pg45eXlOJ1O9u3bx8jICIWF/5+9+w5u+z4PP/4GQBAgQAIgSHDvCQ5RFDUtWZHkJTuWZLduq6w2cdpc26ROc62Tjssvo+21TZrmkrip28ZpEjuxYzd17Vi2Y1vDlmxtUdTgngI3CRIgiUXM3x86fc+0hpdIUMLzutMdxhf4Pp+vSH7w4DOeSoqLixe9bQmTgAghhBAisb1zutWmTZuUrUyFWK7y8/NZv349+/btw2AwcOzYMdLS0qivr2fDhg386le/4rXXXqO7u5vR0VFOnTpFTU0NO3bsoLe3l7Nnz5KUlERDQwPFxcW0tLSg1+vp6emhu7ub3NxcZmdnOXPmDNnZ2UvSJklAhBBCCHFTGx0dJS8vb8FjMuohbiQpKSmYTCaGhobQaDS4XC7a29s5evQo4XCYoqIiDh48iEql4iMf+QjV1dX4/X7a2trIycmhvr6ekZERLBYLxcXFbNiwgYMHD9LT00NKSgqRSASTyYTP51uS9iTMGpDnnnsu3iEIIYRYBqQ/SCwqlWpB8qHX6yX5EDccq9XK3//93/OZz3wGp9PJ2bNnCQQClJWVsXnzZtasWYNGoyElJYWCggLm5uYYGxvjox/9KEajkV/84hf09/cTi8XIycnhwoUL6HQ6ZRqXxWKhsrKSiYmJJWlPwiQgTz31VLxDEEIIsQxIf5A43jnlamRkBL/fH6dohPhwkpKSuOWWW8jMzKS9vZ2ZmRl6enp4+eWXlWRkw4YNaDQaTp8+TTQa5fnnn6enpweLxUIsFsNisXDu3Dl++tOfMjMzg9/vJxqNKsUJd+7cuTRtWZKzLANPP/10vEMQQgixDEh/kBiutL2uEDe6nJwc7rnnHvbv38+xY8fIz89HpVIRDofJycmhpKQEr9dLU1MTzc3NGAwGzGYzpaWlFBYWkpubi9PppKqqikAgwMc+9jHS09PJyMjAbDYvWTsSJgERQgghxM3vxRdfZMeOHQsek+RD3EweeOABrFYrX/3qV2lvb+fBBx/E6/ViMpk4ePAgHR0dZGRkcOutt9LQ0EBmZiavvPIKoVCIkZER6urqCAaD6HQ6AoEANpsNl8u1pAlIwkzBEkIIIcTNbe3atQuSjx/84AeSfIib0rZt25TRjEAgwMDAAEajEbg4+jc0NMTrr79Od3c3NpuNgoICDh06xCuvvMJvfvMbTCYTFosFr9fLG2+8gcfjIRqNLln8MgIihBBCiBueXq9nfn5euS+Jh7jZ/epXv6Kjo4Nnn32WUCiE1Wpl48aNdHR0YLFY6OjowOPxcOedd2IymaipqWFgYICioiJUKhUDAwOcO3eOmpoaDAYDavXSjUskzAjIgw8+GO8QhBBCLAPSH9x8VCqVJB8iIdntdnJychgbG2PPnj388pe/VBacr1+/nhUrVvDCCy/Q2dmJ2WzmP/7jP2hoaMDhcOByuRgaGmJ+fh69Xr+kcSdMAiKVb4UQQoD0BzcbWWwuEt3u3bv50z/9U0wmE1qtlhMnTjA8PEx2djZNTU388R//MdPT05SWlnLgwAHOnz+vVEzftWsXf/AHf3BZnZzFljAJyMc//vF4hyCEEGIZkP7g5iHJhxBgNBqpqalh9+7dqNVqOjs7OX/+PH19feTm5nLixAkaGhoIhUJMTEwQiUSorKzk3nvvxWazLfnoByRQAiKEEEKIm8fbkw+VSiXJh0hoVquVwsJCnn32WVwuF7Ozs0xNTVFdXY3X6+Wll14iHA6TkZFBbW0tKSkp9PX1MTg4yIEDBwgGg0saryQgQgghhLihvHPkYyl37xFiOXM6nQCEQiECgQAAqamppKamYjAYSEtLQ61WMzQ0xPDwMEePHqWrq4vR0dEljTNhEpA333wz3iEIIYRYBqQ/uLHJtCshru73fu/3yM3NJT8/n1WrVvFP//RPnDt3jh07dhAMBgmHw0xMTBiElOsAACAASURBVDA2NobD4WDFihXs3r2b4uLiJY0zYRKQb3/72/EOQQghxDIg/cGNy2QyLbgvyYcQC+3YsYMNGzawefNm2tra8Pv9VFVV0dLSQiAQwGg0Mjs7i9vtxuv14vV66evrIxaL4XQ66evrW5I4E6YOyC9/+ct4hyCEEGIZkP7gxvRXf/VXzM3NKfcl+RDicgMDAwwMDJCdnc0XvvAF9Ho9ycnJaDQaMjMzaWpqIjk5maNHjwLwxhtvkJ2dTXp6OoFAAJ/PR1lZ2aLHmTAjIAaDId4hCCGEWAakP7jxjI6OLhi5kuRDiIUu1fSorq7GbrezZcsWiouLmZyc5MCBAwwNDfHCCy/Q3d1NfX09v/u7v4vf76e4uBi3201zczMajYaVK1cuSbwJMwIihBBCiBvT22sUSPIhxOVGR0eJRCKUl5fzt3/7t+j1esbHx3E4HJw4cQKj0Uh2djYOh4PXXnuN2tpa7r33Xrq7u8nOzqanp4dwOIxOp1uSeCUBEUIIIcSy9fZF56dOnYpjJEIsX7FYjBdffBGXy4VOp8Nms1FUVITP5yM9PR2z2YxWq+XZZ59lfn4em81Gbm4uqampnDt3jpqaGurq6pYs3oSZgvXlL3853iEIIYRYBqQ/uHHs3LlTuV1UVERTU1McoxFiedq/fz/PPfccer2elStXkpaWxsGDB/nZz35GUVERf/u3f4vFYsHlchEIBMjJyUGtVnP27Fk6Ozsxm83odDrU6qVLCxJmBKSoqCjeIQghhFgGpD+4cezZs0e5feHChThGIsTyNTAwQDQa5Xd+53dwuVxYLBai0SgOh4P8/HxycnIoKSnB5/Ph8/nQ6/WYzWaOHDlCYWEhs7OzuFwuPB4PBoNhSRKRhBkBeeihh+IdghBCiGVA+oMbw9unXsm6DyGurqKiArvdTn5+PjqdjvHxcbZu3crmzZuJRCJEIhFWrVqFVqvlpZdeorOzk1gsRn5+PnNzc5SUlHDLLbfQ2dlJe3v7ksScMAmIEEIIIW4ML774onL7M5/5TPwCEWKZO336NH6/n3Xr1tHd3U13dzdTU1O89dZb5Ofnk5mZyfT0NH19fQwPD2OxWHC73UxPT7Nx40bq6uowGAw4HA5GR0fJzc1dkrglARFCCCHEsrJjxw7l9k9+8pM4RiLE8rVnzx5+85vfoNfrOX78OBMTE7S3t9PV1YXL5cJsNrN+/Xp0Oh3Jycl84xvfYM+ePVRUVDA9PU1XVxctLS309PTgdrupra3FarUuSewJswako6MDu90e7zCEEELEmfQHy1t9fb1yW6ZeCXF1P/nJT3C73dx9992cPn2akpIS7rjjDjIyMigrKyMQCPDkk09y//33s23bNiYmJigoKKCiooJf//rXZGZmkpqaSjgcJhgMMjMzQ3p6Ounp6Ysee8KMgHzlK1+JdwhCCCGWAekPlrfW1lYAcnJy4hyJEMvX3NwcxcXFFBUVEYlEqK+vp7i4mJUrV/KZz3yGLVu24HK5OHbsGP/wD//As88+y9zcHJOTk9jtdlQqFefPn2dychKv18vx48dxOp3s27dvSRL/hBkB+bd/+7d4hyCEEGIZkP5g+dqwYYNye3R0NI6RCLG8HTt2jI0bN1JWVkZubi7Z2dm8/vrr2O12bDYbra2thMNhSkpKGBwcxOl0cvz4cf7wD/+QLVu2MDQ0xOjoKBMTEwSDQfR6PVqtlvz8fLq7u6mqqlrU+BMmAZFtF4UQQoD0B8vZsWPH4h2CEDcElUpFLBbD4/Fw4sQJioqKiEajuN1uYrEY7e3tVFRUcM899+BwOHjrrbdISUmho6ODuro67r//fk6ePElnZydJSUmEQiEaGhpITU1dkr+RCZOACCGEEGL5euSRR5TbsvZDiKs7fPgwHo+HSCTC2NgYeXl5GI1GVq5cic/no7KykuTkZDIyMhgcHCQcDlNcXMzg4CBGo5G9e/dSWlqK3+9ncnKSkpISWltbOXHiBPfddx/V1dWL3gZJQIQQQggRd1/84hcB0Ol0cY5EiOUrFotx/Phxzp8/zwMPPMCmTZvQarVMT0/jcrkYGBjAZrNRU1PD3r17uXDhAllZWVRWVrJy5UoCgQBqtZpwOIzJZKK+vp7W1lZOnz7N1NQUsViMxsZGSktLF7UdCZOAfOtb3+Kv/uqv4h2GEEKIOJP+YHk7fPhwvEMQYllTq9Vs2LCBmpoaTCYTXq+XgYEB9u/fT1paGjabjVgsRk5ODm+99RZzc3N87nOfw2g0AlBZWUlSUhKFhYUkJSWRkpLC0aNHUalUZGVlkZmZuehtSJgExOfzxTsEIYQQy4D0B8vPXXfdpdxuamqKYyRCLG/nz58nKSkJq9VKQUEBHR0djIyMcPjwYcbGxjAYDIyMjJCVlUV9fT3Dw8N4PB7a2toIBAJYrVZ6enqYnJzk7rvvpqCggDvvvJPOzk5GR0dZvXo1aWlpi96OhElAvvnNb8Y7BCGEEMuA9AfLz2uvvQagfEMrhLiyS1OtKisrefnllwmFQqSkpLB582bOnz9PSUkJjY2NnDlzhoKCAlatWkV7ezvHjh3DYrGgUqno7e3FYrEQCoUA0Gq17N69m9bWVlQqFeFwmKSkxU0REqYOiBBCCCGWN4/HE+8QhFi2nE4nbrebsrIyLBYLBQUF3HbbbZSXlzM+Ps4nPvEJrFYrv/rVrwiFQvz617+mu7sbk8lEOBwmEAhw9OhRzGYzn/zkJyktLWVsbAyHw0FeXh5arRaDwUBPT8+it0USECGEEELEjdT7EOLdRSIR/v3f/52WlhZ8Ph9Wq5VVq1ZhsVgYGRlheHgYh8OB2Wxmy5YtylSrw4cPYzAY2Lx5M263m7GxMbRaLS+++CIAExMT7N27l1OnTlFXV0dvby9ZWVmL3p6ESUCcTme8QxBCCLEMSH+wPGm12niHIMSy1d3dTXFxMW63G41Gw8jICC6Xi1gshsViwWw2E4vFqK2tpbGxkTfffBO9Xs/q1asxGAzU1tZy6623smPHDnJycpSpWHq9njVr1jA8PIzL5SIrK4u5ublFb0/CJCCf/exn4x2CEEKIZUD6g+Xl0qLzf//3f49zJEIsX5WVleTn51NVVYXVasVqteL3+3n22WcZHh5m7dq1lJWV4XK56OrqYuXKlaSmprJ161YKCwtxu92Ulpbi8XhwOp0UFBQwPDxMRkYGOp2OHTt2EAqFyM3Npbi4eNHbkzAJyDe+8Y14hyCEEGIZkP5geXG5XAA888wzcY5EiOVLo9GQlJSEzWajqqqKuro62tvbmZ2d5fXXXycYDDIxMcH4+DjBYJC6ujpWrVpFb28vAL/5zW/42te+RigUwm63U1xcjMvl4uWXXyYcDuPxeKiqqiI/P39J2pMwu2DJtn5CCCFA+oPl5jvf+Q5ms5nf//3fj3coQixbg4ODDAwMMD8/TywWo6enB5fLhdvtxm63c+TIEaqqqli/fj3BYBCbzUZbWxt6vR6AgoICtFotarWanJwcxsbGGB8fx+12k5GRgVqtpqamhoyMjCVpT8IkIEIIIYRYfh566CEASUCEuIoTJ07Q3NxMNBolJSWFiooKXn31Vebm5rjzzjspKyvjzJkzmM1mzGYzMzMz9PX1YbFYMBgMxGIxysrK+OY3v4lGo2F+fh61Wk15eTnz8/OkpaWh1Wrp6+vDZDJJIUIhhBBC3PxSU1PjHYIQy9Lx48fp7e1lYmKC2tpacnNzOXHiBDMzM9jtdurr6wFYtWoVOp0OgOHhYYLBIEVFRVgsFnp7e8nNzWVkZITKykoAsrOz8fl89Pb2olKpGB8fx2AwUFRUtCQJSMKsAfnxj38c7xCEEEIsA9IfLB8qlQoAr9cb50iEWH5CoRBnzpzh1KlTBINBZmZmcLlc+P1+otEo8/PzAAwMDNDZ2Ynb7QbAbrdTVFTE9PQ0hw4doqioiAsXLuD1evnf//1fWltbgYvrSsrLyzEYDLhcLlQqFQUFBUvStiUbAZmfn2f37t20t7eTkpJCVlYWjz76KOXl5Uty/ubmZv7wD/9wSc4lhBBi+ZL+ID7q6+uVDz7vJP8fQlzO6XRiMBjYuXMnPp+PwsJCCgsLMZvNeL1ekpOTOXHiBP39/ZSVlZGWlgaAWq3GarVy5MgRkpOT6evro6KignPnzjEyMsL8/DyZmZloNBrWrFnD+Pg4Ho8HnU6HWr00YxNLOgLyJ3/yJ3R2dtLS0sJ9993HH/3RHy3ZuX/4wx8u2bmEEEIsX9IfLD6VSnXZv6slHwA/+9nPljA6IW4MjzzyCIcOHSIUCnHPPfdQX1+P2WwGwGg0otVqCYVChEIh+vv7lalZ4XCYiYkJ7HY7Pp+PqqoqkpOTqa+v5/Dhw5SWlvLcc8/x2muvKbtfNTU1UVdXpyQxi23JEhCdTsfdd9+t3F+/fj0DAwNLdXohhBBCXGdr1qy5YrLxbnbs2EEsFuOJJ54AIDk5ebFDFeKG8vzzz6PRaHA4HPT09AAXq5YHAgHlmN7eXlauXMltt91GVlYWHo+HI0eOcODAAcbHxyktLeXuu+9WPm9/8pOfZMWKFTzyyCOsWrWK2tpaRkZGFrznUonbIvTvf//73H///fE6vRBCCCHeh/eSWFxJLBa76nOf+tSn+P3f/31ZAyLEO4yNjREMBvmd3/kdcnNzgYsJiNPppLa2Fr/fTyQSweFwkJKSQnp6OhqNhpaWFkpLS7lw4QJ5eXlMTk7idrs5e/YsDzzwAE8++SS/+MUvMJlMOJ1OxsbGlC8Ajh49Snp6OtXV1YvevrgsQv/Hf/xH+vr6+Kd/+qd4nF4IIYQQV9Hc3PyhRjXe+e/dpKenL8muO0LcKP76r/+a73//+0xOTvLxj38clUrFgQMHSElJUQoF+nw+/uu//ouf/OQnmM1mNBoN1dXVrFy5ktbWVtLS0hgbG8Pv99PW1obD4SA5OZlnnnkGn88HQGZmJj6fj1deeYWhoSHS09MxmUxL0sYlT0C+853v8Nxzz/Hyyy8rxVGu5KMf/Si7du1a8O+WW27hueeeW3Dcq6++yq5duy57/Re+8IUFO53s2rWL5uZmdu3ahdPpXHDs17/+db71rW8teMzhcLBr1y46OjoWPP7II4/w5S9/ecFjPp+PXbt28eabby54/KmnnuLBBx+8LLbdu3d/4HYA0g5ph7RD2iHt+BDtuBT7jd6OSz5MO77+9a9flmisXr36svd6p9tuu21BkuH1elGpVB+oHQaDAafTycMPP5zw/x/SDmkHwM9//nMuXLiA2+3mxz/+MUNDQ5w4cYJPfOIT9PX1ATA6Osrhw4d5/PHH+d73vseZM2dwuVwUFRUxMjLC3/zN36DRaAgGg6xcuZKdO3fy1ltv8dWvfpWOjg7GxsYAGB8f5//9v/+H0+mkurpaGW35oO146qmnlM/t+fn5rFu3ji996UuXtVEVey9fT1wn3/3ud3nyySfZu3cvFovlisc0NzezevVqTp06dV2r1b766qvcdddd1+39hBBC3JgStT9YjClU14NOpyMYDPKRj3yEN954Y1HPJcRyd+edd7J3715SU1P57Gc/S2NjI1lZWdx777289NJLmEwmbr31VkZHR5UdsO68807+8z//k4qKChobG1m5ciUTExNUVFTQ2tqKRqPBbrcDMDc3x5EjR9DpdGzZskU57/DwMNFolMLCwuvepit9tl+yNSBDQ0M8/PDDlJeXs23bNgD0ej1HjhxZkvMnYmcjhBDiconQH3yQZGPHjh288MILixDNtc3Pz6NSqeju7l7ycwux3Ozfvx+4uDGDyWSisbFRKVlRX1+PyWSiq6uLsbExQqEQd9xxB6Ojo2zduhWNRoPJZGJsbGxBwcG3b62blpZGIBAgGo0yOTmJwWBgcHAQt9tNUlLSoiQgV7JkCUhBQQHRaHSpTieEEEIkhA+SbPzoRz9a0q3wr2V0dBRAmRIiRCIrKSnB5/NRUFBAcnIy8/PzjI+P093dTVpaGoWFhbS1teH1ejEYDHi9XrZt28bMzAzj4+NotVry8vJQqVSMjo4qFdMvCYVCyq5a27dv58yZM0xNTVFZWamsL1kKcdsFSwghhBDvzwdJNq73lObrLTc3F5VKtehTvYRY7rq6uvje975HY2MjP/rRjwiHwzgcDrq6ujAYDGzdulVJRC79i8ViqNVq0tPTMRgMjI6OkpKSAlycbuV2uzl58iQ2m43i4mI8Hg+VlZWkpqaiUqnQarVkZmYqldNnZ2cpKSlZ9LbGZReseHjnoiQhhBCJ6UbpDz7ITlSnTp26bBeq5Zx8XHIp+UiE6XFCXMn8/Dz79u3j9OnTjI2NkZGRgd/vR6PRsG3bNn77t38br9dLLBYjKSkJn89Ha2srZrNZqfOh0+kWJA95eXmYTCbm5ubQaDT09fWh1+ux2+3k5+fz8ssvA1BaWgrAyMgILpdrSdqbMAnIU089Fe8QhBBCLAPLsT+4UkG/d3OjJhtXcqn68muvvRbnSISIj87OToLBIGVlZZSVlQEXd9oqKCigsLAQtVpNcXExVVVV5Ofnk5KSgslkYmpqiuLi4iu+59TUFG+88QZDQ0NEIhG6uroYGBjg5MmTdHR0MDg4yH//939z+vRppqamqKmpUc692BImAXn66afjHYIQQohlIN79wZXqbJw6deqar7mZko0rmZ2djXcIQsRVe3s7AwMDaLVa/H4/dXV1NDY20tvbq6zZAOjv76e7u5uWlhbm5+eprKxUvrAYHx9nenp6wfs6HA4GBgaYmJggGAzicrnw+Xy0t7eTkZHBjh07gItFCAOBAGazeUnamzAJiBBCCBEP77fOxs2ebLyb+++/P94hCLGk3njjDQYHB4lGo3i9XgoKCli7di1lZWWo1eoF06LS09OVaVR5eXnK4+Pj4zz99NMLanR4PB6qqqpISkpCo9FQWVmJWq0mNTWV8fFxRkdH2bhxI6FQiIKCAoaGhpaszbIIXQghhLhO3u8i8bvuuotXXnllkaK5sRQWFjI4OMjzzz8f71CEWFLBYBCVSkVTUxObNm0CwGw2k5eXh8Viob6+nu7ubkZHR8nKyqKuru6y95icnMRkMhGNRjl8+DClpaWkpaWxe/du/u///o+WlhZuueUWrFYrGzZsICsri6SkJPbt26fsmLV9+/Yla7MkIEIIIcQH8PnPf55HH330fb1Gdnq6OofDoSRwL774Ivfee2+cIxJiaVxaLG632xkdHcXn8zE9Pa3sSuX1epmcnEStVpOcnHzF96irq1Ne39bWxsmTJ1m/fj1ut5uqqipSU1PR6/XKgvOkpCQcDgdwcfSkqamJF154gTvuuAODwbDobU6YBOTBBx/kJz/5SbzDEEIIEWcftD94v6Mbkmx8cDt27JDrJ256MzMzHD16FK/XS0pKCh0dHRiNRjweDzk5OZhMJoqLi5UK5ZemXE1OTjI6Osr09DR5eXm0tbVRVlbG/Pw8Op2OjRs3cvbsWaanp6muriYvL4833ngDq9WqnLutrY3W1lbWrl3LunXriEajDA0NcejQoSUZCUmYNSCytZ8QQgh4b/3Bzp0739euVD/60Y8uW7ch3j+5biKRtLe3s3fvXsLhMGfOnOHgwYPU1NQo06O2bt1KaWkp5eXleDwe2tvbAXC5XLS3tyt1PiKRCCdOnGB0dJSRkREikYhSjFClUtHf308wGCQzM1M5d1paGnfccQcbN25Er9eTnp7OAw88oIyQLLaEGQH5+Mc/Hu8QhBBCLANX6g9kdGP5keKE4mY3Pj5OcXExpaWlFBcX09/fj8PhuCwJ6OjooLe3V9kid35+nmg0SmVlJXa7nYKCAi5cuEA4HGZ8fJwzZ87g9XpZu3YtAOFwGKvVysjICMnJyWRkZLBr1y4cDgfl5eWcPXsWn89HdnY22dnZS9L2hBkBEUIIIeDK2+Bey5V2pRKL5+c//7ly+8UXX4xjJEIsnj179vD8888TjUYZHh7GarVSVVWF0+lUjolGo5w4cYKpqSmCwSDV1dXAxdELlUpFd3c3ra2tjI2NkZKSQl1dHeXl5czPzxOLxZienmZoaAij0Yhareb8+fNMTU0xNzfH0NAQRUVF9PX1MTIywvnz5/F4PLS1tS1JMcKEGQERQgiRmGR048byyU9+kk996lOArAURNyev18uvf/1rsrKy0Ol0NDc3k5qaislkIhwOK8c999xzAJSVlbFz505mZ2eZmZnh5MmTzM/Pk56eTiQSwWQyMT09zYkTJ1ixYgWZmZkEAgEqKipoaWlBrVZTWlpKamoqlZWV9PT0EIlEOHv2LLFYjIqKCjIyMpQaI5feezElzAjI2/dFFkIIcfN6P6MbDz/8sIxuLENv/3/YsmVLHCMR4vp7+OGHCYfDFBQUUFJSQkNDA36/n/Pnz5Oenq7sTlVeXo7f7ycnJ4dz585x8uRJZVerO+64g+3bt9PQ0EBFRQXFxcX09fUxODhIYWEher0eh8NBbW0tU1NTDA8Pk5+fz+zsLBUVFZSXl9PU1EQ4HCYUCmGxWIjFYmRkZCyoL7JYEiYB+fa3vx3vEIQQQiyC95NwxGIxdu7cqSQb//Iv/7JEUYoP6uDBg/EOQYjrZmZmhtbWVubm5piYmODIkSNkZmZiNpuxWCyEw2Hy8/MBsNvtFBcX43A46OnpIT09nfz8fBoaGgiFQhw/flwZMQmFQmzZsoVAIKBs4+t0Ount7aW9vZ2TJ0/y9a9/Xamzo9fr0ev1FBYWUlhYiMvloru7m82bNy/JOpCEmYL1y1/+Mt4hCCGE+JB27tzJnj173tOxVquVqampyx6X/uDGEIvFlIRSFqSLm8VPf/pTsrOzMRqNZGRkKDtetbW1AZCVlYVGowGgv7+fWCxGeXk5KSkpZGVlKTtZ6fV6UlJSlGMLCgrw+XxoNBouXLhAQ0MDL730Ej6fj82bNzMxMUFKSgper5fXX3+d9PR0ioqK0Gq1jI6OKlXT1eqlGZtImBGQpSiqIoQQ4vqqr69fMLpxreTjnVvhXin5AOkPbiQPPPCAcvu+++6LYyRCfHgul4tAIEAgEGBmZobU1FTsdjtHjhzB6XQSCoXwer3K8fn5+Xg8HmKxGIWFhWi1WjweD08++aSy3uP8+fP09/cDF/+2GY1GysrKUKlUBINB3G43MzMzZGZmcs8995CXl4fX6+Xs2bPs27ePo0ePMjAwoKxHWSoJMwIihBBi+Xs/C8blG/Gb369+9SvlZ+LXv/51nKMR4sMZHx/HaDSyefNmHA4HRUVFRCIRCgsLSUpKumz6U0pKCjqdjuPHj5OZmYlKpaKlpYWRkRG2bdsGXNwpKxaL4fV6cblcTE5OEgwGSU1NJRaLUVxczNmzZ7n11lsZGhoiEAiQnZ2NRqNhbGyMpqYmamtr6e/vR6/XL9m1kARECCFE3EjCId6NTMUSNwOXy8WZM2dQqVSsW7eOr3zlK4RCIbRaLWvWrLnia5KSkojFYvT09BAKhbDZbGi1Wu644w5yc3M5duwY1dXVHDp0iNbWVtxuN7FYDJvNBkB6ejo9PT0YDAZCoRD5+flYLBYyMjJwOp2YTCY0Gg29vb309fUxNzeHSqWioKBg0a9HwkzB+vKXvxzvEIQQIuG93wXji7E7lfQHN56f/vSnyu33u62yEMtBS0sLnZ2d1NTUUFVVBUBbWxsHDhygt7f3qq97+0hGQ0MDd911F5s2bSI5OZmBgQH27t3L+Pg4fX19DA0NYbPZsNls5OfnK+tG0tPTaWpqIjMzk9zcXJKTk8nLyyM7O5u0tDTGx8fp6OhgcHCQEydOLMn1SJgEpKioKN4hCCFEwlkOCcc7SX9w4/n0pz9NWlqacn/37t1xjEaI9+fpp5/mxRdfpKysjJKSEmZmZoCLf/MGBwc5e/Ys58+fZ9++fZclI/X19Wzfvl1ZLJ6Xl8fk5CRTU1OEw2FGRkbQ6/V8+tOfJiUlBYfDgdVqpaioiA0bNlBZWUlNTc0VF5eXl5dTVFREcXExSUlJVFdXK8UOF1vCJCAPPfRQvEMQQoib3nJMON5J+oMb0+zsrHL7mWeeYXR0NI7RCPHenTp1ivn5eXJycujs7GR+fp6Ojg4MBgN33303kUiEyclJxsfHF2ye0dnZSUdHB3a7nfb2dvbs2cPRo0fp6uoiEAhgt9u5/fbbqays5De/+Q1Wq5Xy8nJKS0uxWCzAxREUo9F4zfjGxsYoKirCYrHgcDhwu92Lej0ggRIQIYQQ19/27duXfcIhbh5v/7lZimJpQnxY58+fZ9u2bUQiEY4cOYLZbKa0tJRgMAiA2+1m165dbNu2jY997GOsW7dOeW1bWxtjY2McPHiQlJQUysvL6e/vZ2hoiIaGBmw2G0NDQwwPD+N0OsnPz2fbtm10dXURjUYBmJiYWJDUeDwehoaGFsQYCoUYGRnh9ddfZ2JiYkGyv1hkEboQQoj37LHHHuNzn/vcezpWkgyxGGRRurhRRCIRzp49SygUoqamhpmZGUZGRigpKaGyspKUlBTg4uiey+W6rADgnXfeydjYGCqVCpfLRVZWFrFYDI1GQ0pKCoFAAKvVSldXF3/8x39McnIy3d3d5Obm0t/fT3l5OatXr17wnkNDQ0oV9ks2btxIcnIyZ8+epbi4eEmmqSbMCEhHR0e8QxBCiBvS20c4rpV83CgjHNIf3Ph+8IMfKLdlUbpYrl577TWOHTvG6dOnycrKory8HIPBQEdHh1LBHGB4eJjJyUk6OjoWTH9KTU2loqKCYDDIxMQEL7/8MkNDQ7hcLmZnZ3E6nbjdbv7sz/6M5ORkACoqKnC73ZSXlwMXfz+Gh4d56aWXOHToEOFwGJ/PRzQapaenh2PHjjE/P4/RaGR4eHhJRj8ggRKQr3zlK/EOQQghbgjvdR3HjZJwvJP0Bze+hx56SKmDAJKEiOXH7/czMTHB3NwcJpMJo9FIWloaWVlZZGdnc/DgQd54KYo5twAAIABJREFU4w1OnjzJ1NQUMzMznDx5kjfffJOxsbEF7zU6OopKpcLtdvPzn/+cqakpNBoNZrOZpqamBT//KpWKpKQk/ud//kf5sqW9vZ2BgQGGh4dJTk5mbm6OH/3oR1gsFtLS0tDr9TgcDpqampRRmcWWMAnIv/3bv8U7BCGEWJZSU1PfU8LxzkrjNyrpD24O+/fvJyMjQ7kvSYhYTp544gmi0SgNDQ1kZWXR2NhIeXk5lZWV1NXVodPp8Pv92Gw2iouLMRgMFBYWKonF22k0Gg4cOEBhYSHbtm3D6XQyODhIXV0dGRkZtLS00NLSQjQa5cyZM/zP//wPBw4coLu7G4DbbrsNu91OXV0dlZWVDAwMMD4+Tnd3N7W1tTidTurq6hgeHl6y36OEWQMi2y4KIcRFzc3Nl80LvpL6+nrOnTu3BBEtLekPbh5Op1OZCw+yJkQsD1/96ld55ZVXMJlM/O7v/i6NjY3EYjFqamqUYxoaGohGo4yOjqLVajGbzfT393P77bczPj5OSUmJcmxSUhKZmZnk5ORQUVHBuXPnmJ6eZmpqioyMDNLT02lra8NisRAOh9HpdJSVlZGXl6esGdm6dSsqlYpoNMpv/dZvMTk5SUZGBn19fRiNRqampmhoaMBqtS7JNUqYBEQIIRLZe/1WSz68iRuN3+9Hp9MpuwpJEiLiKRaLsX//foaHh7FarWRkZLBhwwYAZmZmGB0dxW63k5WVBYDP50OtVjM8PIxer2dsbEwpVHjJpk2bUKlUGAwG9u/fT15eHhaLRfk5LyoqYnJykkgkQiQS4a677sLr9ZKVlaUkOG+++SaNjY34/X6CwSCNjY0AmM1ment7ycrKYmZmhvz8/CW5TpKACCHETejLX/4y3/nOd971OPmgJm4G8/PzJCUlEYlEAElCRPy89tprrFixgrvvvptQKER7ezstLS3KIvFAIIDf71fWWpSVlQEwOTlJQUHBVQsB1tXV8frrrxMOhzl79izRaJTs7Gw6OjoYHh5m06ZNyrQuo9FIdnY23/ve96ipqSElJYWxsTF6enqw2WwMDAwoCYhWq8VutzM2NkY0Gl2y35uEWQPyrW99K94hCCHEonr7Oo6rJR87duy4KdZxfBjSH9yc3r6rEMiaELH0enp6OHLkCFqtljVr1mC328nMzKSrq4vR0VH8fj+1tbXo9Xra29vp6enhxz/+MQcPHqSxsZH6+vqrvrfZbGblypXo9XpSUlKYm5ujubkZjUZDX18fe/fuZXp6mvr6erKzsxkdHaWwsJBQKERVVRWZmZlKxfPS0tLLdrvKycmhvr4ek8m02JcJSKAREJ/PF+8QhBDiutq5cyd79ux51+MSNdG4GukPbl6xWIzU1FS8Xi8gIyFiaYXDYZKTk1mzZg1qtZqcnBw++clPAheLCjqdTqUw4Llz55RaHMPDw4yMjKDT6cjJybnq+5eUlGA0GjGbzTQ3N1NVVUVzc7OyaH18fJyMjAwikQher5fVq1dTV1enTLvq7Oykp6eHyspKDAYDwWCQzMzMxb8wV5AwCcg3v/nNeIcghBAf2nv5Vvfhhx/mX/7lX5YgmhuT9Ac3N4/HQ0NDg7KBgkqlYmRkhNzc3DhHJm5ml6YvlZSUUFRUxIULFzh58iSFhYVUVVVRW1tLe3s7oVCI9PR0MjMzKS0tpby8nMLCQpqbm5WphFdLCmKxGDMzM6SnpyvrSmw2G2lpaaxatQqtVgtAZ2cnXV1d2Gw22tracLlc6HQ6DAYDZrOZFStW4Pf7ycjIIBgM0tfXR25uLiMjI1RXV6NWL/4EqYSZgiWEEDeixx577H3X5JDkQyS6s2fP8vd///fK/by8vAXFC4W43p588klOnTrF4OAgra2tmEwmVCoVXq+Xnp4eRkZGGBkZ4YknnqC7u5vCwkKcTidzc3M8//zzDA8Po9PpGB8fv+y95+fnlR2zMjIy6OnpweFwcPLkSQKBAPPz8yQnJyt9REFBARqNhtOnT7Nv3z70ej0mk4nbbruNXbt20dfXx9zcnFKkMC0tjdOnTyvxuVyuRb9ekoAIIcQy814qjz/88MMJv5ZDiGv56le/ysjIiHL/z//8z5dsi1GRWP7u7/6Oxx9/nDfffJP29na6urq44447+Nd//Vd0Oh1Op5OZmRlmZmYwGo0Eg0FCoRBvvfUWp06dYm5ujlgsRigUwmazKe/b19fHiRMnOHnyJK2trczOztLR0UFlZSVJSUkkJyeTmppKZmYmQ0NDSuFBk8mExWLB5/PR2NjI6tWrKSsr49y5cwQCAebm5pQNG4LBIK+++iqFhYXKe3o8nkW/ZgkzBcvpdMZtnpsQQryb9zK1ShKN60P6g8SRm5tLLBZTfr9cLpesCxHX1be//W3++7//m7m5OcbHx7Hb7ezevZv5+Xn0ej1qtZpIJEIwGOS2227jt3/7twHo7u4mMzMTtVpNcnIySUlJjIyMoNVqlS16zWYzPp+PzMxMDAYDAwMDmEwmvF4vMzMzdHR0MDk5id/vZ/369crOWn6/n5mZGTZu3MjmzZuBi1PEQqEQAFu2bFHi1+l02Gw2VCrVgscXW8KMgHz2s5+NdwhCCKFobm5+16lVdXV1MsqxCKQ/SDzv/P2RHbLE9eD3+3nuuefQ6/Xcf//92Gw2br/9dhobG5WF4W63G7VaTVJSEgaDQXltZWUla9euJSsrC7PZTDAYJBwOk5aWphyTkZFBfX09paWlZGdnY7PZUKvVtLe34/P5mJ+fp729XUl80tLSeO2115iZmaGiomJB4cPk5GRWr15NQUEBZrNZia+kpITt27czMDBAc3PzEl25BBoB+cY3vhHvEIQQCU5GOZYH6Q8S09tHQuDi7+OePXu499574xiVuJE99dRTaLVadu/ejdFoZNWqVXg8Hn74wx/yxS9+EZvNRlNTE0lJSczOziq1QC5xu93k5+eTnp5OUlISExMTlxUhvOTll19Gq9UyPDzMAw88QGpqKiUlJcoois1mw+Fw0NXVRTgc5p577rlm7ENDQ6Snp2M0Gunp6SEcDitJyVJImASkqakp3iEIIRKQJB3Lj/QHiSsWi/EHf/AHPPHEE8DFujh6vR6/3x/nyMSNpqenh4ceeojU1FQeeughTp8+zapVq3jppZcIh8MMDg4yPT1NS0sL09PTbNq06bI1HuvXr1/wnlebGnro0CFaW1sJBALceeedpKam4vf78Xg8JCcnEwwG+f73v099fT0f+chHlKlWV9Lf34/RaMTpdOLxeMjIyGBubg6bzUZ5eTlDQ0Pk5+cv+ihhwkzBEkKIpfJuU6vKyspkapUQcfL4448v+L0LBAIyJUu8Lx6Ph5qaGnw+Hy6Xi6997WsMDg7S09PDPffcw+c//3nsdjvNzc00NzdTVlbG2NgYbrebY8eOve+Ed3Z2llOnTmEwGJRCgRcuXKC9vZ2ioiLGx8fx+/2Ew2FWrFihfMkSDAYv62N6e3t54YUXmJqawmAwoFarMZlMlJSUKDtxdXV1XZ8LdQ0JMwIihBCLpbm5mdWrV1/zmFOnTsk370IsI1eakvXzn/9cKRwnxNXk5uYSDocxGo1YrVY0Gg0DAwPY7XZisRg1NTXEYjHS09P53Oc+RyQSobq6munpaUKhEHq9/n2dz26389GPfpSpqSny8/MBCIVCGAwG3G43hYWF3Hfffcoi9Euam5tJS0ujrq6Orq4uZcH57OwsWq2WgoIC1Go1GRkZAFgsFnp6eigtLb0+F+oaEmYE5Mc//nG8QxBC3EQ+//nPK6McV0s+3j7KIcnH8iH9gbgkFotRVlam3P/Upz4loyHimux2Ox6PB71er0yxqq+v56677mJubo5oNApcHGmora3FaDRSXV0NgNVqpba2VvkZa21txeFwXPN8vb29HD16lLKyMu677z6GhoaAi6MbWVlZpKWlkZOTw8TEBLOzswtea7PZlB21RkdHaWtrY8WKFcq6k3cWHFSpVFRWVl62VmUxJEwCspQr+4UQN6cNGzYoScejjz56xWNkatXyJ/2BeLve3l7ZJUu8J0888QQOh4OkpCQ6OztJTk7GarXyD//wD0xNTQEXp/Q5HA5mZmY4ffo0p0+fVtZk+Hw++vr6AJibm6O9vZ2ZmRnC4fBVz9nS0qIUHuzv71dqdKxevRq73U5RUZEytevUqVNKEcHh4WF8Ph8ajQa4+DPtdrs5f/48ZrMZo9FIa2srg4ODyrkuFVFcCgmTgPzwhz+MdwhCiBvQ29dzHDt27IrHSNJxY5H+QFzJlZKQt2+JKsQXvvAFgsEgn/70pykqKlIev7T97pYtW7Db7ahUKioqKkhNTSUUCinVzR0OB9FoFL/fT1tbG2q1mtOnT1/1Q//09DSBQIB169aRnZ1NeXk5FouF7u5u5RiDwYDZbKakpISioiJlfYlerycQCCijGfn5+fj9foaGhtBoNOTl5TE+Ps6+ffuUJCQYDC7ZhgwJk4AIIcR79W6LyDUajSQdQtyEYrEYe/bsUe57PB4ZDREAfOlLXyISiVBWVsZjjz224DmTycT27dvx+/20tLQQDAaVpKCsrIy8vDwAKioqSElJUf6FQiGsVquyM5bH41FGMADGxsZISUkhOzsbg8HAyMgIHR0dTE9Pc/DgQZxOJwD19fU0NDRgt9uVc2VkZKBWqzl+/Di9vb243W5lx7dgMMjExATp6elotVrm5+cBKC8vZ82aNYt+LUEWoQshBPDuUy7y8/OVubdCiJvXvffee8UF6kajUZn+IhLPs88+SywW46WXXrri81qtlrfeeovk5GQ+/vGPAzA1NUVHRwder5esrCyKiooYHBzE7/dTU1NDVVUV0WgUg8GA0+nkyJEjFBcXk56eDoBaraa8vJyCggLOnDmDxWJh3bp1HD9+nLa2NhwOB3fccQc5OTn09/eTlJSkbPVbWFjI6OgoarWavr4+bDYbW7Zsoauri5mZGUZHRzl79izr16+nvLx8ya7jJTICIoRIWNnZ2dcc6di8ebMyyiHJhxCJJRaL8bWvfU257/V6UalUjI6OxjEqEQ+PPvoo0WiUVatWUVFRcdXjpqammJubAy7+/PT19ZGUlEQ4HCYzMxONRoPJZMJiseD1evH5fEp1dLfbTVJSEhaLRXm/wsJCUlNTycjIoKGhgYKCAnJyctiwYQONjY2YTCaCwSBwcQer/Px81Gq1kvhUVlbi8Xj4yEc+wsDAAJ2dnWRlZSkL0Kurq2lra+PIkSPAxRohl9ayLLaESUB27doV7xCEEMvA+vXrlaRjYmLisudXr16tJB0HDx6MQ4RisUl/IN6rb37zm5dNs8zLy5NpWQnmxRdfRKVS8cUvfvGax1VXVys7Xl2a1mQ0Grn11lsxmUyoVCqqqqrIzMzk8OHDvPHGG8zPz3P48GFl+95LrwM4ffo0R44coaOjg8zMTGVHq6ysLLZv387OnTsxmUz09/dTWlqK1WqlsbERo9Go1Pm455570Ol0qFQqYrEYVqsVv99PZWUlMzMzaDQaAoEAx48fZ2pqirGxsUW6igslzBSsP/uzP4t3CEKIONm5c+eCed3vVF9fz7lz55YwIhFP0h+I9ysWi/HYY4/xuc99TnlMpVLxgx/8gIceeiiOkYmlYLFYsNvt7N69+5rHrV69mqSkix+t9Xo9H/vYxxY8393djdvtpr6+noyMDCYmJujr68Pj8VBRUaEsOr+kp6eH7u5urFYrkUhE2cI3GAzy1FNPUV1djclkYmxsDK/XS0VFBXq9nsrKSiorKzl//jxerxe73c7OnTuVL98sFguDg4OsWbOGWCzGmTNnSE9Pp6qq6rJaIoslYUZA7rrrrniHIIRYQo899pjyx/ZKyUd+fr4y0iHJR2KR/kB8EH/0R3902WjIF7/4RRkNucl5PB66urqU0YdrmZubo7u7m2eeeYb+/v7LnrfZbKSmpqLX61m/fj1NTU3MzMyQm5uL1WrFbrfT2NioHJ+dnc2dd95JWVnZgvVHo6OjRCIR+vr6qK6uJisri0gkQkdHBwMDA4RCIc6fP08sFqOoqIjp6Wk6OzuZnp4GICUlhbKyMiKRCDqdjtWrV9PY2IhWq6Wzs5OZmZnrcOWuLWFGQIQQieHdPgzIrlVCiA/j0t+Qdy5SV6lUShE6cfNITU2ltraWrVu3XvO42dlZ7HY7HR0duFwumpubGRoaYtOmTUrBP4vFsmCNh9vtZmpqCpVKxenTp8nOzla29z19+jQpKSk4HA6ysrJYv3698rri4mI2bdqE1WrF4XCQnZ2NzWajubkZn89HKBQiFAoRDAYJBoPEYjGi0eiCn89LC9QPHDiA3W5XaoZEIhHcbjdms/k6XsXLJcwIiBDi5vVu2+bKlrlCiOstFotx6623LrivUql45JFH4hiVuN6++93vcuTIET7xiU9c87jh4WH6+vqIxWI0NDRQXV1NKBSio6NDOWZkZITJyUnlvtls5pZbbmF6ehqHw0FmZqbyXCgUorm5maKiImZnZy9Lbqurq7HZbExNTXHu3DlisRhNTU3U1tYyMjJCVlYWKSkpjIyMYLVaSUlJWfD+hYWFeDwebr31VkpLSwmHw6SmprJixQqKi4s/7GV7VwmTgDz33HPxDkEIcR1J0iE+KOkPxPVy6NAhmZZ1E1OpVPzlX/4lXV1dC3ZEu5LMzExqa2vJzc0lPT2d+vp6NBoNXq+XkZERAPr6+ujv78fpdCrrP86fP09ycjL19fXKjlhwMTnZvn07p06doqur64pTuuBiIcJQKMTjjz+u1AUZHBzk6NGjRKNRKioq6Ovrw2q1smfPHmUXt5mZGerq6tDpdOTk5LBq1SqCwSAnT55ckp2wEmYK1lNPPcX9998f7zCEEB9CamoqXq/3qs9LsiHeC+kPxPV2tWlZb39O3Dg2bNjAsWPHlPsajYZ//ud/vurxsViM/v5+srOzCYfDTE5OUlFRwerVqxkcHCQtLY1Dhw7h8Xjw+XxKTZm2tjYikQgpKSlMTU2h0WiUbX5PnDiBXq+nrq4OlUqFz+dj//792Gw2wuEwDQ0NaDQatFot7e3t+P1+urq68Pl8rF27loGBAXJycpiamqK0tJS2tjZycnKIRCIA9Pb2otPpsNvtPP3008zPz6PX69Hr9eTm5i7uBSaBRkCefvrpeIcghPgAmpublZGOKyUfp06dkpEO8b5IfyAWSywW4/Of//yCx1QqFRqNJk4RiffD47lY+f7tycfPfvYz7rrrrmuOgMzNzdHT08Pjjz+Oy+VCpVIRCoV4/fXXcbvdHDx4kOTkZHp7e5mdnUWr1ZKbm0teXh5bt25l3bp15OTk0NfXp1RCD4fDzM/PU1xczPbt20lLS8NmsynJSGdnJ3Bxu9+CggJWrFiBRqPh5MmT9Pb2kpycTFtbG2q1mu7ubmpra9Hr9eh0OuDiepRQKMT+/fsJBAJcuHCB7u5uUlNTyc/PX8SrfFHCJCBCiBvLpaRj9erVlz23bt06JeloamqKQ3RCCHFlP/zhDy+rpB6NRlGpVHGpOC3emzVr1pCWlqbcNxqNxGIxPvaxj+HxeHC73Vd9rclkorS0FJ1OR3d3N3a7nUAgQCgU4siRIyQlJXHy5EmSk5O5/fbbqaqqQqVSsWbNGsrLy6mvr2ft2rXMzs6yb98+/uu//ou9e/fidDqxWCx4PB5KSkqYmpqir6+P5ORkJUnIyclh27ZtlJWVEQ6H0el0mM1ment7iUajNDc3U1JSQjAYZH5+niNHjtDd3a0cr9Vq2bp1Kxs3biQzM/OahRavp4SZgiWEWP5kByshxM3i0qLht/9d6+vrQ6VS8Rd/8Rf867/+a7xCE+/wzr6nu7tb+SCenJxMVlYWJ06cuOZ73HLLLRgMBlQqFW+++SZlZWUYjUby8vIoLi5menqa3NxcioqK6O3tZXJykrVr1zI0NER3dzd5eXmsWLECvV7Pq6++Sn9/P9u2bWNqaorx8XGl8vng4CArVqxQdqm6tLDc4/GQk5OD0+kkFAphNpuxWq243W5l1GPNmjX84he/4PDhw4TDYZqamlCr1czMzFBQUEBBQYGyC9dikxEQIURcvX2K1ZXIYnIhxI3sSn+/vvvd76JSqWhubo5TVALgS1/60oK+x2KxEIvFLhsFiMVijI2N8eijj17xfXp7e3nmmWfIzMykvr6eSCRCb28vFRUVVFVVkZ+fzwMPPMCWLVuAi6MrExMTPProo8o0rTNnzlBVVUVxcTGdnZ1kZmZiMpnIysoiFApx5swZcnJyuP322wmFQgvOPz4+jl6vx+fzKUUIN27ciN1uZ8OGDQuONRqNuFwuotGoUhdkdnaWqakpgsHgktQAgQRKQB588MF4hyCEeJtrTbGSdR1iMUl/IOLhSn/TVq9eLYlInKSlpfH9739fuf/mm28q6y/e6fd+7/cIBAI8+eSTV3y+6/+zd+fRcVfn4f/fs28azap9Ge2yVmuzjRdsg4kJYCAQgpMQctoU0qQt7elp0vb02xySNOck5CQnaQ4naQPpaRoSSklKqFkcAsbGK1ibJdnWPpJG22g0kma0zD7z+0M/fWJhGQhYkm3d11/WZ2Y+8/hidOeZe5/7dHczPj6O2+2mq6uLmpoa0tLS6O/vR6vVMjs7i1qtlpKd9PR0HA6HdDyuSqXi1ltvpbe3F1gsgs/IyGBubo6LFy8yPT2N2+0mIyMDpVJJcXHxsvefnJxkcnISg8FAZ2cnExMTXLx4ccVY77rrLv7mb/6G4uJiafVkYGCAgYEBYrHYmtUrbZgERHS+FYT1V1VV9YFWO0Rdh7CaxHwgrKdEIkFTU9Oya0uJyNIRqcLqkslkyzqLJxIJdu7cecXnHzx4EL1ez7lz5xgaGrrs8dTUVMrLy/F6vczMzEidyk0mE2NjY/j9/mWrFqFQCKVSyW233catt95KQUEB09PTUo3Qf/7nf1JYWIjL5eLUqVP4/X5uuukmZDKZ1JG9u7tb2uYnl8uRy+V4vV78fj/j4+NMTU2t2BgzEokwOjqKWq2WrqnValQqFWq1etm4rKYNk4B85jOfWe8QBGHDWko6Ojo6LntMbLES1pqYD4T1VldXRyKRuOxkpczMTJGIrKJ/+7d/W/YF2J49ez7w3HP33XcTi8W44447ll0PBAK88cYbTE9Pk5KSQkFBAT09PfT29nLkyBG6u7sJh8P09/dLr/npT3/KoUOH8Pv92O12qqqqsNvtzM/P87d/+7fMzs7y61//mry8PFJTUyktLZXqP3w+H319fWRlZdHX1wdAMBgkGAxSVFTEli1bMBgM7NixQ+rAfqmhoSEpSero6MDlcrF161Z2796NTCYjJSXlwwztH23DJCCCIKyt92oUeODAAZF0CIKw4X3jG98gkUjw6KOPLrsuEpGrb+vWrXz5y1+Wfu7p6eHo0aMf+PU//OEPUavVDAwM8Mwzz0jXv/nNb0rH4m7evJm5uTlcLhcul4vMzEx27dpFf38/LpeLQCAALG55CoVCFBQUSPcZHx9nZGSEt99+mzNnzrBv3z4MBgMZGRmYTCampqZobm7m0KFDnD17luPHj0u1KkajkeTkZGCxHmXpSN8lc3NzUgf2nJwcTCYTb775JidOnMBkMiGTyUhLS6OsrExswRIE4fr0QbZYHTp0aI2jEgRBuHb99Kc/JZFI8Gd/9mfLri8lIi+//PI6RXZjMBqNy06xWqnQ/IP48z//c6LRKH/9138tXRseHubYsWMcPHgQt9tNR0cHkUiE+fl5SktLUalUHD16lMOHDxONRgGw2WxMTEzwyiuv0N7eLl1LTU1lZmYGlUpFR0cHKSkpZGVloVQqCQQC6PV6CgoKmJyc5O233+aee+7hz/7sz1hYWJD6ZOXl5eF0OqXkZukoXrfbzXe/+10+8YlP8Prrr2Oz2SgsLJQSl7W2YRKQEydOrHcIgnDDeq/VDlFQLlxrxHwgXKuefvppEokEP/rRj5ZdP3DgADKZjB/+8IfrFNn169J6j5SUlI80F33nO9/BbDYzPT3Nnj178Pl8NDQ0kJ6ezsWLF7HZbLjdbvr7+xkeHsZsNjM7O0tlZSX79u0jKSmJw4cPo9Fo2LFjB16vl8HBQeLxOBkZGVitVhYWFkhPT0ev1xONRtm8eTOZmZlkZWVhNptJTk7mM5/5DFVVVczMzDA4OEh1dTXV1dUAdHZ2EgwGpfm4u7sbo9GIUqkkGo1Kf//bb7+dj33sYx9xdD88WeIa+1TQ3NxMfX09TU1NV7UQ9Z577uH//u//rtr9BEF4774d19ivFkGQiPlAuF48/fTTl23PAnjggQd4/vnn1yGi68ulc9TWrVuXdTj/sIaGhigtLSUcDnPw4EG0Wi2PPPII5eXljI6OMjIyQltbGzabjT/5kz+RXheNRnnttdd47bXXqKyspKioCIVCQXl5Oe3t7WRmZhKJREhPT+fll1+mubmZiooKPv3pT0sNEvv7+0lOTpZOrwI4e/YssViMoqIi7HY74+PjhMNhwuEw8Xic7Oxszpw5Q0NDw/uudgwODuLz+aRk5mpZ6bP9hlkB+e///u/1DkEQbghJSUlitUO4ron5QLhePPLIIyuemvXrX/8amUyGTqdbp8iufZfOUf/8z/98VZIPgNzcXP76r/+aeDzOs88+i1wuR6/X89Zbb6FWqzEYDHzuc59j+/bt0pYrgJMnTzI5OSkdsVtTU4NaraapqQmr1crExAQLCwvMzMzw+c9/noceeoiysjIaGxulexQUFGC32+ns7JSuJycnEwgEpBqP9PR0FAoFk5OThMNhtFotwWCQZ599lsbGRmKxGLCYEJ08eZKzZ8/i9/tpbm7G5XJJj6+2DZOA6PX69Q5BEK5rS0nH0j7TS4njc4XriZgPhOvN0qlZo6Ojy64vbbV5r9XojejS8fjlL3/Jv/zLv1zV+z/xxBMUFRWhVCr5/e9/j0wmY3JykkRBWNHIAAAgAElEQVQiwY4dO5icnGRmZobz589Lr9Hr9UxMTJCWlkZeXh7BYJDk5GRycnKwWCyEw2EmJiaIRCIkEgmMRiNyuXzF44EnJiakeddqtbJ582bS0tKAxYLzxsZGVCoVlZWVjI+PI5PJyM/PX9aL5NixY7S3tzM6OopSqUStVuNwONBoNFKDwtWkXPV3EAThurW0bLqShx56aNlJIIIgCMLqysjIkFaY3510LP280VegLx2X48ePs2vXrlV5n56eHu6++26p/iIajbKwsAAsdlQfHx8nIyOD7u5uBgcHcTgcFBYWUlBQgMPhABb/W7399ttEo1FsNhtTU1PY7XYGBgY4evQoNpuNHTt2AIv9O1QqFY2NjbS1tVFXV0dfXx9JSUkEAgH8fj+BQIBEIoHNZsNkMgEwNjaGUqmUkoulo3krKiqw2+1s3rwZv99PKBTC4/GgVqtZWFjAarWuyrgtEQmIIAiXEbUdgiAI17b3S0SeeeYZHnrooTWPaz1dOhYnTpx4z+aCV8MXvvAF2tramJycJDs7mwsXLtDd3Y1MJmPfvn0AHDlyBL/fT0lJCQ6Hg66uLk6ePElSUhJVVVWYTCZycnIoKiri9ddfRyaTIZfLMRgMRKNRzp8/j06nw+/3k5SUxMzMDEqlklgsRkdHB7FYjN27d9Pf38/o6CgNDQ04HA5ycnKkMXE4HIyPj0tNDGFxq1Z6ejqwuLVaq9WSmZmJxWJZ1TFbsmG2YH31q19d7xAE4Zp3paV8o9EoajuEG4aYD4QbydLv5qUu2ks+97nPIZPJMJvN6xTZ2lKpVNKfX3jhhVVPPgAsFgt9fX34fD7C4TDPP/88586dIxAI4PP5gMXtc0vbk51OJ62trRw9elSqCbHb7ej1egKBACaTifb2diwWC/feey87d+6kpaWF9vZ2Tp06hU6n46abbkKn09Hf3080GkWlUklbsoxGIxcuXGB2dlbqA1JeXo5CoWD37t1s2rRpxb+HXC6noqKC3t5e3nnnnVUfN9hAKyC5ubnrHYIgXJPea5uVSDiEG5GYD4QbUW9vLwAvv/wyBw4ckK77fL4bfnuWw+GQCr7/+Z//mU984hNr8r4NDQ28+eabfOc730GtVlNcXEx7ezvp6emEw2F8Ph9ms1lKAvPz85mdnZVOozp//jzRaJSxsTFKSkpQKBQ0NDQQiUSkehCVSoXT6QQWt5RlZGRIKxZLndmXkp3i4mJpJcTv90u1H+9OTq+kpaUFWDwxbLVtmATkscceW+8QBOGaIrZZCRuVmA+EG9ldd931vtuz/vEf/5Fvf/vbax7bavj2t7/N0NAQADU1NVe94Py9JCUl4XQ6aW5u5v7775e2XpWWljIxMYFcLketVtPX10dqaiqpqals2bKFkpISWlpaMJvNyGQyIpEIg4OD5Obmkp+fDyzOw83NzdTV1SGXy9HpdBw/fhyn08muXbuIRCJkZmaiUqmw2+3S0bxFRUWcO3cOjUaDyWSiqakJlUolHa3b39/P5OSklGTEYjF6e3spLi4mMzOT7OzsNRm7DbMFSxCERVfaZpWZmSm2WQmCINxAln6nJyUlLbv+ne9854Y4PWtubo5/+qd/AsBgMEjf4K+l6upqsrOz6e/vZ8uWLcRiMRobG0kkEvT19TE6Osr8/PyyI3lNJhN79+6lvLycjIwMYrEY3d3dNDY2cv78eeLxOMeOHcPpdKJQKMjPz2d6epqCggIKCgooKiqiqKgIp9PJyMjIsniUSiV1dXU0NDRgtVqx2WzLtuFpNJplJwE2NzcTi8Xo7+/nwIED1NTUrP6gIRIQQdgwrjTZLE1Q7/4lJgiCINwYZmdnSSQSvPTSS5c9tjQ3NDc3r0NkH81Sgz5A6na+1r7yla9w1113oVQqGR8fp6Ojg2AwyJEjR3j11Vd55513SE5ORi6X09bWxuHDh6X5Vq1Wk5qailqt5qabbkKtVmO1WhkeHsZisRAMBsnIyKCvr4+Ojg6mpqZQqVR0dXWt+GXhxMQE7e3tFBYWSisZeXl5y7adZmVlUVlZKf1sMBj4/e9/TyAQWOWRWm7DJCCdnZ3rHYIgrLmnn376fRMPQdhoxHwgbFRL27NW+t1fX19/Xa2KfPrTn5b+PDs7u46RLNaVFRUV4ff7SU9Pp6ioiNraWoxGIzU1NWRkZGA2m6WtVOFwmIsXL+L3+4nH48RiMZRKJTqdjtbWVnJzcyksLKSkpITDhw/jdrvJz8+npKSEwcFB2tvb8Xq91NTUkJWVJcURCAQIhUJEIpH3jLe1tVVaLXI4HOzevZuUlJRVHaN32zAJyN///d+vdwiCsGaWJpFHH330ssdE4iFsdGI+EIQ/zAW33377ZY9d66sic3NzPPfcc8BiwfS7t5ittf379yOXy0kkElRVVWE2m8nLy+OBBx6gpKQEs9mMVqulsrKS/Px8PB4PQ0NDUp3IyMgIzzzzDO+88w6hUEi6b0VFBQqFgoKCArZu3YrX6yU9PZ3MzEwALl68uCwOm81GQ0MDGo0GgHA4vOJ8b7FYpD4fBoOB2tpaUlNT16wLOmygIvQnn3xyvUMQhFV3pW+uDhw4wKFDh9Y4GkG4Non5QBD+4PDhw9Kf3z2HXHpC4rX0xdVSIz+lUsnbb7+9ztEsjltKSgqRSIT09HSpl0ZOTg69vb24XC7i8ThWq5XS0lIWFhbYtGmTdBpWPB4nIyODgYEBMjIycLvdmEwmTp8+zaZNm/D7/RiNRpqamsjMzOTuu++mp6eHrq4uenp62LZtG319ffT09GAymbjjjjtQq9U0NTWRnJxMRUXFsniXxm9JZ2cn/f39pKWlXfFUzKvtA62AXEv/6D4sceyicCN7v21WIvkQhD8Q84EgrGxpzrj33nsve2xpnvnLv/zLdYjsD3p7e5mamgJgenp6XWNZotVqefTRR/nzP/9zLBbLspUEg8Eg1Ve43W70ev2y5APg3nvv5eabb+bBBx/E4/FIvbdycnIIBALEYjGGhoaIRCJSh/Pi4mJycnKIRqMcOXIEm81GT08Pc3NzKJVKzp07h9PpXHFVY2Fhge7ubsLhMLFYjIWFBYxG47JGhatNlnif7OLhhx/mrbfeYnBwEIDTp08TCAS49dZbVyWgpZ4ETU1NUuMWQRBWdqUVjxvhSwNBEARh/V1rR7brdDqCwSBarXbNC6ffj8vlor29nYyMDFQqFTabjcnJSfx+P319fchkMtLS0ti9ezdarRYAv9+PXC4nKSmJsbExUlNTUSgUy+47OjrKzMwMsViM7OxsaYUlFotx5swZzGYzFRUVDA4OolQqycjI4M0332R+fp6CgoJlRecAXV1daDQaenp6SEtLk47oXS0rfbZ/3xWQmpoafvKTn0g/b9++HZ1Ox69+9avVi1QQhPckCssFQRCEtbA0r3zzm9+87LGluWitCtfn5uYIBoMAeDyeNXnPP0YkEsFgMKDRaFhYWJBqPSYnJ5HL5ahUKlwuF8899xwvvPAC09PTdHR08Nprr9HR0UFGRsay5OPcuXN0dnYyNTWFTCajqqoKtVpNd3c3XV1duFwudu7cSUZGBk6nk7m5ObKyspifn8dsNpOUlITX670sTqvVSigUYtOmTVLxeSQSIRwOr9lYvW8Ckp+fz8jIyLJlru3bt+P3+1c1sKvtiSeeWO8QBOEjESdaCcLVIeYDQfjjfe1rX3vPuWZpfvrkJz+5ajHs378fWKytWO/C85UUFBSwZ88eysvLqa+vJy0tjZmZGSKRCDU1Ndx0003EYjFCoRA9PT14vV7C4bDU+XxwcHDZ+Op0OtRqNWlpaWi1WsbHxxkeHgYWj9wNhUJ4PB4mJyc5fvy4lEAYjUbq6+txOBzo9Xo8Hg/z8/O8+eabNDc389Zbb9HR0UFOTg7xeJxIJMLFixfp6OhYs7F63yL048eP89JLL/HYY49RWlrK7t27KSwspLm5mS996UtrEeNVsbCwsN4hCMKH8hd/8RfLViGXmEwmZmZm1iEiQbi+iflAED6aSz8kv/tLsf/93/+Vrl3t7fRNTU0A/Md//MdVu+fVFA6HOXHiBHa7nfz8fA4fPkw0GmX//v2YTCbUajWPPvooLpeLtLQ0WltbAdi0aRMLCwtSI8I77rgDmUxGSUmJdO+LFy9iNpupqqpiamqKpKQkNBoNVquVs2fPsnv3bgwGw7J4CgsLyc/Pp6OjA4VCsey4YpvNRiQSwe1209LSQllZmXR61lp43xWQnJwcenp6mJqa4vvf/z4mk4mnnnqKL37xi2sR31XzjW98Y71DEIQ/yhe/+EVkMtllyUdlZSWJREIkH4LwIYn5QBCunqVVkaeeeuqyx65mb5Hx8XHC4TBWq5XbbrvtI99vNXR1dSGTyXjnnXfo7e2loKCAzMxMJiYmpDlbJpORm5vL4OAgwWCQo0ePMjw8zOzsLJ2dnWi1Wi5evEg8Hqe5uZnZ2VlaW1tJTk4mFAohk8mw2Wx4vV4mJiaQyWTs37+feDy+Yi+Pt956i+HhYXJycti5cyfZ2dkUFRVRWFiISqWSmh1qNBqpeeFaeN8EJBqNEovF0Ov13HbbbXzrW9+io6ODEydOrEV8grDhFBYWIpPJLvtl/uUvf5lEIkF7e/s6RSYIgiAIK3vkkUekZGTTpk2XPf5R60XuvfdeDhw4gN1u/6ihrprKykqCwSDFxcVSvUZ1dTXRaJRoNMrg4CCNjY2EQiGKi4tJSkpCLpdz5swZzp49S1lZGbFYjNTUVIaHhxkYGOC73/0uBQUFXLhwYdm2s+zsbOlEP6VSSXp6OhcvXsTn80nPGRsbQ61Wk5SURHJyMjabjeLiYjZv3kxOTg4AO3bsoL6+fk2TD/gACcgXv/hFvve979HY2AgsZrplZWVruk9MEDaC/Px8ZDIZ/f39y643NTWRSCT48Y9/vE6RCYIgCMIHd/HixQ9UL/LHJCPz8/O88sor0jasa5FMJkOn09Hb24vb7SY5ORm/38/mzZvJzMxEo9EwODiIx+NBJpORlZXFwYMHycjIwOv1Mjw8jMPhwG63k5ubi1qtZufOnZw4cYKUlBTcbjft7e3Mzc1hsViWbbmanZ1lamqK5uZmadzT0tKwWq1s2bLlijEPDAzQ1dW16mPzbu+bgJjNZv7hH/5B2sMnk8n45je/yV/91V+tenBX0+Tk5HqHIAgrysvLQyaTMTAwsOz6UuIhjqMWhKtLzAeCsHaWEpH3S0beXb/wbgqFAovFck0Wn1+qpKQEm83G6OgoLpcLtVpNPB4HICUlhdzcXGKxGK+//jrPPPMMvb29fPazn6Wmpobh4WHpC39YbCL88Y9/HJPJRDAYRC6X093dzdDQ0GXvm5aWhl6vR6lUSieFLRXAe71egsHgiq8LhUL09/dLnznWygfuhC6X/yFXefDBB1clmNX0hS98gf/7v/9b7zAEQZKXlyf117mU6IEjCKtLzAeCsD7eq3h9YWFBumYwGJibm1v2+Pz8/DVb+3Gp9PR0YrEY3d3dGI1GxsbGGB8fZ/v27Rw5cgStVks0GmVoaIjOzk6Sk5NxuVzcfvvtqNVqampqLrunxWJhcnISg8FASkoKNpttxfeenp5GoVCg0+kAUKlUHD9+HJvNRmlpKX19fYTDYYxGI7CYtJSWlqLX69f8i5kPnIBc777+9a+vdwiCAEBDQ8OKS8jiGF1BWBtiPhCE9bc0542NjZGZmbnssfn5+WUJSiKRYHh4mEgksqYxfhhyuZyenh5OnDhBXl4e27dvJzc3lx/84Ae43W4MBgN33nknycnJ5OXlodfrCYfDeL1eqqurKSwslO41MTGB2+0mJyeHSCRCbm4u0WgUt9uN0Wikq6uLlJQUsrKyGBgYwOl0Lqu/WVhYwOVy4XK52LVrF11dXZhMJiYmJnA6nWzdupXU1FRycnKkmpA1G6c1fbd1JL5RFtbb448/jkwmuyz5WOtlT0HY6MR8IAjXjoyMDGmL1ujo6IrPkclkhEIhHn/88TWO7sMZGxtjZmaGpKQk4vE4er0es9lMQUEBn/70p2loaCAej1NQUIDZbMblcjE/P4/X6122MyIQCBAKhejq6sJgMGCxWDh79iznz58nFAote89YLEZhYSHV1dW4XC68Xi9paWl86lOf4rbbbsPn81FVVYXFYiEnJwe1Wk1vby/T09NEIhHa29uZmJhYszHaMAmIIKyX5uZmqXbqUqLGQxAEQRD+4P2Ske9///vrENUfb+fOndTV1VFVVUV1dTXPP/88brebL33pS5SWltLe3o7L5eLo0aMMDQ0hl8uJx+PYbLZljb4dDgcNDQ0sLCxIReZlZWXcdNNNmM1mampqyMrKAhZP0Ny7dy9arZaRkRHGxsYA0Ov1wGKnc41Gg1KpZHZ2lrq6Ovr6+mhrayMSiRCJROjp6ZF6k6w2kYAIwipZSjzq6+uXXX/qqadE4iEIgiAI7+HSZORv/uZv0Gg0/OY3v1nvsD6QHTt28LGPfUz6OxQWFpKdnY3T6SQej/Ozn/0Mr9fLn/7pn1JaWsrIyAhDQ0OUl5cv+2zg8/no6urCbrdz5swZXnrpJWQyGQ6Hg1gsxsTEBPPz81J39MHBQX7zm98wNzdHcXExALm5uXi9XnQ6HRaLhY6ODnp6enj99dfx+/0MDQ0xPz9PXV0d2dnZy2q+V9OGSUB+9rOfrXcIwgayUuLx6KOPkkgkeOSRR9YpKkEQQMwHgnC9+eEPf4hMJmP37t3rHcoHkp2dTXp6OhaLBZVKRXV1Nfn5+Zw9e5aXX36Zzs5OhoeHSU9PJzMzk/Lycurr62lqasLlckn3cbvdzM7OYrFYsNvtOJ1ORkdHGRkZ4eWXX+bw4cO8+OKLUmsMnU5Heno6xcXFUi2Kz+dDqVSi1WqZmJhgbGyM9vZ2aXuW2WzmwoULwGIn9/T09DUZow2TgDQ3N693CMIGsNK55kVFRSQSCX7605+uU1SCIFxKzAeCcP3JysrizjvvXO8wPjCfz8fw8DB+v59EIkF2dra0NWr79u3U1tby6quvcuLECRwOB7m5uahUKpTKP5wPlZKSQkFBAQDl5eUcPHgQWDwVy2azYTabAZiammJmZobU1FT27t2L1Wrl2LFjWK1W6bSt3t5eVCoVJpOJPXv2kJycjMFgIC8vTzo1y+Px4PV612R8ZIlrrPq1ublZygLFFhXhenGlZkrX2P9egiAIgnBdKiwsxO12X3Y877VqenqaiYkJRkZGANi9eze9vb20t7czMzODw+Fgfn4ev99PQUEB6enpOBwOnE6ntILR0dGBy+UiEokQj8c5cOAASqWS/v5+FhYWSElJIRaLcfr0aRKJBMnJyWzfvh2Xy8XU1BQej4c777yT1tZWUlNTCQQCxONxKisrefnllwkEAnzyk58kkUhIdSirsQVrpc/2G+YYXkFYDSLxEARBEITVF41GmZ+fp6uri9LS0vUO531ZLBbMZjOtra3I5XJ+9KMfYTabSSQSnD9/HpVKRV1dHbOzs8zPz3P48GEmJye56667cLlcOBwOhoaGaGtro6CggLy8PFpbW2loaCCRSNDZ2UlfXx8Oh4OioiIikQijo6P87ne/o76+Ho/Hg1arpaenh23btgEwNzcnHWU8NTWFSqVatnNjreo/QCQggvChiF4egiAIgrB2jEYjDzzwANu2bWNmZma9w/lAXn31Vfr6+gC4cOECRqOR1NRUGhoacLvdTExMSKdWRSIRHA4HKpUKh8MBLH6msFqtNDQ0oNFoiMViwOJqkM/nY3R0lJycHGw2G6+99hrz8/PSe99+++0MDQ1RUlLCxMQEHo8Hm80m1Xio1Wo0Gs0aj8gfiAREEP5IK616iMRDEARBEFZPR0fHinWW17KSkhKCwSAWi4Xc3FxMJhMnTpzg1KlT5OXlSadjjY6OUl1dfdnhNUs1L5f+nT0eD3K5nLq6Ourq6jh//jzt7e3Mzs6iUqkwGo14vV7y8/OlpoRarRa5XI5Wq5Xuc9tttzE/P09/fz9paWm0tLSg0WgwGAykpaVdsdv61bJhitDvueee9Q5BuM6t9ItPNBEUhOuPmA8E4fqkUChIJBL84Ac/WO9QPhC9Xo9cLpe2jZWXl1NbW0tWVhYajYaOjg6p5mPplKpLrfS5Y3x8nGeeeYaXXnqJsbExxsfHOX/+PKmpqaSlpRGPx0lNTWVwcJBwOExXVxdKpZKysjKpaH3pJK2JiQlisRhdXV14PB7cbjexWIxgMLjqY7NhVkD+6q/+ar1DEK5TK33bUlFRIR17JwjC9UXMB4JwfTpw4AAvvvgiX/nKV/jbv/3b9Q7nfel0Oux2O83NzZw8eVJagbjvvvvIzs5GJpNx4cIFJicnKSkpYW5uDo1Gg8lkApDqRVJSUvD5fFgsFvx+P319fbjdboqKiti9ezd5eXmMjo6iUCiIxWIoFAri8ThnzpwhJyeHt956C7VazbZt25idnSUYDCKXyykpKaG1tRWr1UpmZiYOh0Mcw3u17d+/f71DEK4zV1rqTSQSIvkQhOuYmA8E4fr029/+FoB4PM6TTz65ztG8P4vFgslkIhKJoFarkclkVFdXk5OTIz2Wn5+PQqHA6XTidrvp6emRXh+LxRgZGeH48eNMT0/T2NiIz+ejqKiIzMxMWlpa6OrqYnx8HJPJRFlZGQqFAr/fTzQaZdu2bdhsNioqKpifn2doaAiv10soFKKyspLk5GTS09OlLuxrlXzABloBEYQPaum4uHcTW60EQRAEYX2lp6czPj7OY489dl2sZl68eBGNRoNKpSIQCFBaWkpubi4+n49z585RUFDAnj17OHv2LCMjI2RnZ0uvXVhYIDk5GZlMhlqtZseOHczOzrJp0yYWFhYYHR0lHo9TUFCAxWJBq9VSWlpKamoqSUlJAGg0GpKTk1EoFKjVasLhMElJSXR1deHz+dBqtczPz1NVVbWm4yISEEG4hCgwFwRBEIRr19jYmDRXf/azn+VXv/rVOkf03urr6zl58iRtbW1s27aNubk52trayMzMJCUlBb/fj0KhYO/evXR1dS1bhRgbG8PtdqPX62lvb0ev1y87griysvKy9ysoKCAYDBIKhaRTrrq7u5HL5WRmZkrPe+WVV1hYWECj0ZCXl7fmxf0bZgvW0rKdIKxkpe1W9fX1IvkQhBuQmA8E4fq21Nfi2WefZXR0dJ2jeW8ajQalUkl+fj4Oh4NTp04xMDBAYWEhZWVl+Hw+WltbmZqaYvfu3cuShNLSUum0qrS0NLKyskgkEit+Nunt7eXll19mdHSUM2fO8OKLL9Lb20s8Hqe1tZXGxsZlz52fn0ev15Ofny+tlqylDZOAPPvss+sdgnANevrpp6+46nHp/6yCINw4xHwgCNe3M2fOSE3zsrKy1jma9zY8PIxSqaSmpgZYPD3T4/EAi4mA1+tFp9Ndsf5ienqaqqoqbr/9dkKhEIcOHaKtre2y56lUKubn55mcnCQvLw+5XM6FCxeYmJigrq6Oj3/849Jz09PT2bp1Kzt27KC+vp6CggJeffVVfvCDHzA1NbUKo3C5DbMF67nnnlvvEIRrjNhuJQgbk5gPBOH6NzMzQ3JyMgA2mw2v17vOEa1scnISo9HIyMgITqeT2dlZ3G43AFarlYyMDGw2GxaL5bLXRqNRTp48SSAQoKioiPHxcWQyGVarFZfLhcfjYfPmzSgUChwOh3Syllwux+/389prrzE+Pk5DQwNpaWnSfZOSknC73QwNDRGNRqVtW7m5uUxPT2O1Wld9XDbMCoggLFlpu9VTTz0lkg9BEARBuE4YjUapp8/U1BR79uxZ54guNzExQSAQwOPxcP78eYqKiigrK2Pr1q0A5OfnY7FYpNWcd1MoFKhUKgwGA6dOnZJOuXr++eelWhifz0ckEpGev3Sv6upqHnjgARwOB/F4HJ1Ox5EjR2hpaZEe1+l0ZGRkAHDvvfeyefNm5ubmlnVUXy0iARE2jObm5iuuejzyyCPrEJEgCIIgCB/Wiy++iNFoBOCtt97in/7pn9Y5ouU6Ojo4ffo0sViMsrIyBgYGKCoqorS0lJaWFo4ePUpHRweNjY24XK7LXi+TySgpKWFoaAij0YhcLpdWUObn56mtrcXlctHV1cXU1BRtbW28+eabUl1MXl4emZmZaLVazpw5w//+7/9K75Oamsqtt95KIBCgu7ubsbExhoeHpWN9V5tIQIQNQSaTXXa07pUKuQRBEARBuD74/X7pz9/+9rd55pln1jGaP/B4PIyOjhKJRKQeHGlpaSiVSnp7e1EqlczOzgJgMpkIh8MrFtQvrXDY7XZg8ZQrjUbDyMgIsNhrJCMjQ1r9iMViRKNR6fV2u52UlBQ0Gg033XQTe/fulR6LRCIMDw/T0tKC3++noqKCiooKCgsLV3FkFm2YBORP//RP1zsEYR1kZWVdturx5S9/WSQegrCBiflAEG4sl87pDz/8MP/+7/++jtEsNkp86qmnkMlklJWVYbVa0el0JBIJjEYjwWCQqqoqtm/fTm1tLdXV1YTDYc6dO0dzc/Oyew0NDSGTyaStU7FYDK/Xy/T0NAC5ubnYbDZMJhOVlZVs3ryZrKwsvF4vHo+HjIwM0tLS2LJlC5/73OekuhlA2t5VUlLC9PS01LRwLWyYInTR+XbjEUXmgiCsRMwHgnDjSSQS0rz/pS99ieHhYf7lX/5lXWL5yle+wrlz59ixYwcOh4N77rkHmUzGK6+8QkFBAbfccguwuDoxPj7O2NgYVVVVjI+Po9frl92rtraWvr4+ampqcLlcPP/888zOzqJSqQCYm5tDp9OhUCgIh8P8/Oc/p6Kigry8PBKJBLFYjNdee436+vrLkouZmRnC4TCZmZlMTU1dsRZlNWyYBOQzn/nMeocgrBGReAiC8F7EfCAIN6ZLk5BvfetbHD58mLNnz655DKdPn2ZwcBAArVbL8ePHicfj7Ny5E4/Hw/pB7FEAACAASURBVMDAAHa7HbvdjkwmIxwO09raKiUmlwoGg+Tl5XH69Glqa2vJzs5GpVJJyURPTw8qlYrKykrC4TDj4+Oo1Wpuuukm4vE4CwsLdHZ2kpeXJ91zYGAAn89HKBRCJpNJndPD4TC9vb1kZWVhMplWdZw2TAIibAwi+RAEQRCEjevSJKSxsRGj0SjVWqyFX/ziF2zduhWLxYLZbEapVKLT6YjH40xMTPDJT36SYDBId3e3VFw+MjLCpk2bVryf3W7HZDJRW1tLTk4OBw8epK+vD51OBywe5WswGIDFZKeiooKamhrpWN/5+XmcTidvv/02u3fvBsBsNjM/P8+mTZtwu914PB5CoRAqlYpYLMbMzIxIQAThgxCJhyAIgiAIsDj/KxQK4vE4c3NzyGSyNflM0NbWht/vZ3Z2lm9961ucO3cOhULBvn37OHnyJKOjozz//PMcPHgQjUbD8PAwKpWK3bt3MzMzc9n9QqEQRqORnTt3YrPZgMXidr/fT0ZGBu3t7VRWVkqfgYaGhsjNzSU7O1u6h1wup7CwkLq6Ouma2WzGbDZz8eJFlEol09PTTExMUFVVdcWGiFfbhilCP3HixHqHIKyClY7W3bp1q0g+BEG4IjEfCMKNLxaL4XA4pJ9lMhmNjY2r+p4mkwmVSsWnPvUp9Ho9wWAQn8+HRqPhwQcfZMeOHcjlcmkLVlJSEjqdbsXTrwDOnz/P0aNHGRsbw+l00tfXx8zMDF1dXXR3dxMIBIjFYtLzvV4vqamppKSk0NHRwZNPPsnp06d58MEHKS4u5uTJk8saNppMJpxOJyUlJZSVlYkakNXw3e9+l127dq13GMJVJFY9BEH4MMR8IAgbw8DAAE888QT/+I//CMCWLVvIzc2V6jOulng8zuHDh3E6naSmppKeno7X62ViYgKtVsvZs2epqqqiqKgIgKKiIjweDwaDgUgkgtFoRKlU0tjYSE1NDUrl4sfzQCBAJBJBrVYzNzdHJBIhKysLvV5PcXExwWCQs2fPMjQ0RE5ODlu3bpVeazAY0Ol0+Hw+xsbGCAQCjI2NkZSUJK2mzM3NEQqFiEQiGAwGotEoPT09ZGdnS/1VVosscY19Ymtubqa+vp6mpqZly0Uf1cLCwmUnCwjXp6V/I5d66qmnRDNBQRA+EDEfCMLG8+4vLa/mx9+HH36Yzs5O9u3bx+23345Go8FisaBQKHjxxRdRKBSUlZVhNBrxeDxYLBYKCwvxeDwEg0HOnz9PLBZjfHycLVu2cNdddwEwOTnJ+Pg4/f39eDwe5ufnKSoq4o477qCzsxOZTEZrayuhUAibzYbH4yEnJ4fKykppK1U8HufMmTOYzWZSU1OJRqPSY5FIhJ6eHpxOJw6HA5vNxtTUFHq9nvz8/Ks2Pit9tt8wKyBisrkxiFUPQRA+KjEfCMLGk0gkSE5OlgrSZTIZt956K2+88cZHum9BQQHj4+NotVr27NlDU1MT6enp7Nmzh46ODmpra2lubua//uu/SEpKIiUlBbvdzuuvv87OnTtJSkoiEong9/vRarX4fD7C4TBqtVo6KcvpdKJQKLBYLFJCkZSUxNGjR9m8eTNarZZYLIbP5+Ps2bPI5XLS09OZnJxkbGwMn8+HyWTCbrfj9/vp6+tjdnYWh8OBwWBg27ZtLCwsYLfb8Xq90grJatowNSDC9W2lWo+nnnpKJB+CIAiCIHwgfr+fo0ePSj8fOXIEmUz2oU/J+vnPf87s7CxyuZzS0lJaWlo4efIk8/Pz/Ou//is/+clPcLlcbNq0icrKSoqLi9m1axdZWVls3bqVLVu2MDo6SkZGBvv27cNisWCxWPB4PACMjo7S0tJCYWEh1dXVlJeXE4vF6OvrY3x8nKKiIlwuF263G7vdTmpqKps3b8ZqteJ2u3G5XASDQex2O8FgEID+/n7Gx8eRyWQYjUYcDgd2ux25XM7JkyeZmZlhamrqI4/1+9kwKyDC9UusegiCIAiCcDXs2bOHRCKBSqUiGo0CkJycjN1ulz74vxe/309OTg5+vx8ApVLJ+Pg4X/va12hubqagoAC1Wk1DQwOBQACbzYZMJuPee+8lEonQ0tLCtm3bGBwcJBqNUl5eztzcHHq9nqqqKkpKSrDb7cDiZ52hoSG2bt3KG2+8Ia12BAIBdu7cydjYGLOzs6SmppKZmUksFiMSiZCbm0tfXx+Dg4PU1tZiNBqlVQ2LxUI0GkUmk+F2uwmHw+Tn56PX60lNTSU/P1864nc1bZgVkK9+9avrHYLwIbw7+Thw4IBIPgRB+EjEfCAIQiQSWdakcHJyEplMxmOPPXbF15hMJkwmk5R8LF174YUXcDgcfP7zn+fhhx+moKAAs9nM1772NbZs2YJarUan06FSqXA4HLS0tOD3+4lGo1RVVZFIJOju7sbj8TA+Pi4dyZuVlcVdd91FU1MT4XCYgYEBysvLufnmm9Hr9SiVSsrLy8nMzJSer9Fo6Orqkvp8zMzM0NbWxsjICIFAAIvFQklJCSqVCp/PRzweJxAISEnQWiQfsIESkNzc3PUOQfgjyGSyFQvGDh06tE4RCYJwoxDzgSAIAA0NDSQSCaqrq6VrTz75JDKZbNnRuMPDw8hksmWJx6uvvsrJkyfJy8vjiSeeYHBwkLKyMqampnC5XOh0Onp6emhpacHj8ZCXl4dSqWRmZoaenh6am5uZnJyko6ODnp4efD4fcrmcWCy27IvWUChENBolOTmZTZs2kZOTQ1ZWFgAOhwO1Wg0snmj1zjvvMDw8jMlkoqSkhOLiYkZGRujt7cXv99Pf38/p06fp6+ujrKyMoqIiFAqFFFdfXx/t7e0MDQ2t9tBvnC1Y75XRCteWdyceH3RZVBAE4YMQ84EgCJc6d+4csPzzx9KH/EQiQUlJiXTd5XIta/RnNptRKBQ4nU56e3vp7u6mubmZeDzOz372M+k1R48e5dChQ1gsFhKJBEqlksHBQXw+Hx6PB6vVSmFhIeXl5dK9Y7EYR48eJZFIUFFRwRtvvMHAwAAf+9jHpOcsLCxItRtyuRyz2SwlFm63m2AwiFarxWaz0d/fj9VqBeDMmTMA6HQ6PB4PW7Zsobe3l6mpKXJycq72EF9mw6yACNe+r371qyuueojkQxAEQRCE1ZZIJBgZGVl2TSaTEQgESEpKIpFILEs+AH7zm99QVVWFTqdjYWEBq9XK/Pw8c3Nz/Pa3v8XtdtPS0sJvf/tb9Ho9TqcTvV7P/v37SU1NZXh4GI1GQ2VlJampqZe9d3Z2NiaTiZaWFlwuF2fPnqWjo4NYLIbb7eb111/nwoUL+P1+MjMz2bdvHwqFAoC0tDSKi4vZunUrXq8XhUJBbW0ttbW1+P1+2traGB0dxWg00tnZicfjwWg0YjabV3egEQmIcI2QyWR873vfW3ZN1HoIgiAIgrCWMjMzSSQSPP7448uu79+/f8Xnm0wmDhw4QENDA0qlkqqqKnbs2EFZWRmhUIi3336bEydOAHDTTTdhtVppbGzk6NGjvPPOO9LWq66uLg4dOkQoFJLuLZfLpVOtLl68iNVqJRQKEQwGpcaCKpWK2tpaysvL+d3vfsdvfvMbEokEPp+P1tZWOjo6iEajbNq0iXg8Lm0tKykp4fbbbycvLw+tVkt3dzdyuZyCgoJVGtnlNkwC0tnZud4hCFfw7lWPpqYmkXwIgrBqxHwgCML7+frXv04ikeDuu+8GICkp6YrPveOOO1AoFJw7d45Tp04Rj8cpKSkhFAphNpu5//77ue+++7j77rv5f//v/+H1evn973/P9PQ0NTU1FBYW4vf7SU5Opq+v77L7z83NoVQqkclkbNq0SdoqZTAYyM/PZ/fu3eTm5lJcXIxGoyEUCjE6OkpTUxMGg0FaxfF6vbS0tACQl5eHw+HAbDbj9/ux2Wxs2bIFjUazOgP6LhsmAfn7v//79Q5BeBez2bzilqulLpmCIAirQcwHgiB8UL/+9a+xWCw8//zzNDY2rvicRCKB0WhErVYzOTmJUqnkwQcfRKlU8uabb5KcnMzCwgJtbW3YbDY+8YlPcPfdd1NaWsrWrVupr69nx44dGI3GFQ/J2Lp1K3fddRcPPfQQVquVoaEhjhw5Qltbm7QlLCsri4ceeogDBw4wPT2NSqUiKyuLpKQkgsEg0WgUh8PBtm3bpPsODg7idDpRKpXU1tYil69dWrBhitCffPLJ9Q5BuMS7Ew+r1YrX612naARB2EjEfCAIwgelVquprq7m2LFj7Nixg7m5OenkqSVarZadO3fi9/uZmZkhEokgl8sJBAKkpaVx6tQpZmdnMRgMKBQK9u/fz+9+9ztUKhU///nPqa6uRqfTUVFRsWylZWRkBJVKRWpqKg0NDczPz7Njxw46OjqQyWRYLBYGBgaw2WxkZGQAMDY2xltvvcXCwgJ33HEH6enpxGIxFAoFFRUVy+L2+XzMzc2RmppKKBRCr9ev/oD+/zbMCog4dvHasdKqh0g+BEFYK2I+EAThj3H06FHS09OJRCJoNBrGx8cve051dTX9/f20tbWxY8cOTp06RUFBATt37mTv3r3s2bOH/Px8zp49i06nIz09nSNHjmA0GhkZGcFqteLz+XC5XNI9u7q6OH78OLFYjN7eXsbGxujo6EChUBAOhzGZTHR2di7rXG4wGLDb7VJjwnA4fMVjdR0OB7t27WJycpIjR47Q2tp69QfvCjZMAiKsv9ra2hWTD0EQBEEQhGvZ2NiYtDqRkZFxWZH6Un3FxMQE+fn53HzzzSQnJ5OSksL+/ft54IEHqKysRC6X4/F4UCgU6HQ6IpEI4XCYI0eOcPbsWalGY+l9lEolPT09ZGZmSisrMzMzDA4OMjExQUlJCdPT0zidTmCxq/u+ffu4/fbbycrKor+/H1hc7Xg3k8mEXq8nGAyiUCgwGo2rNXyX2TBbsIT19e7Ew2QySZ0+BUEQBEEQrnWzs7NYrVamp6f55je/yY9//GMee+wxWltbSUtLIxgMUl1djUqlIiUlhfb2dlpbWwkEAlRXV2Oz2YhGo+h0Oql/yMzMDKFQiLS0NEwmE/X19dL7lZWVEYvF8Pl8aLVaqbnhrbfeit1uJyUlhZSUFH79618zPj5Ofn7+ZTHn5eXx8ssvU1FRgclkkq7PzMzg8XgoLi6moKAAvV5Pf38/U1NTbNmyZdXHcsOsgDzxxBPrHcKGtdKqh0g+BEFYL2I+EAThw5qamuITn/gEAJOTkzz++OMcO3aMZ599Fp1Oh91uJxaLceHCBVQqFbOzs8RiMUKhEBkZGfT29qJWqwkEAlgsFu6//36SkpLIy8ujrKzssvez2+0YDAaOHTtGa2srg4ODdHd3YzQaSUlJIRaLUVtbuyxxuZRWq0Wv1zM8PLzsektLCz09PTidTqxWK2+//TYnT56kpaWFWCx29QfuXTZMArKwsLDeIWw4V2osKAiCsJ7EfCAIwkfxwgsvMDg4KB1Z6/P5SEtLw2Aw0NLSwqFDh5ifnycSiWA0GsnKyiIrK4vR0VGysrIwGAzE43Gi0Sh9fX3s3buX/Px8Tpw4QVtb27L30mq1zM7OEgqFKC4uZu/evcvq2BobG2lvb2dgYICRkRGOHDnC0NDQsuPGq6qqcDgcy+5bX19PcnIy6enphEIhVCoVBoMBh8NBT0/PKo7eog2zBesb3/jGeoewobw78UhLS1uxaEsQBGGtiflAEISPKjc3l+npaerq6piYmMDpdOJ2u1Gr1UQiEfbt24fD4aC9vZ0zZ84wMDCAw+EgEomQmpqK3W4nEonQ19dHbW0tZrOZgYEBDAaD9B6Tk5P09/djNptJJBKUlZUhl8vJycnht7/9LTk5OSQnJ6NUKuno6JAaE7pcLkZGRrjlllvYvn37su7tMzMz0lHBu3btAkCj0ZCWlkZWVhadnZ0UFRWt+vhtmAREWDsrNRYUvT0EQRAEQbiR6HQ6Ll68yMGDB2lqasLv96PT6UhLS+PixYt4PB7uv/9+mpub0el0AOTk5ACwa9cuNBoNSUlJZGdnYzQaeeCBB5Ztfzp37hzj4+PccccdFBcXS306RkdH6e7uZmZmhjvuuIPh4WFuvfVWZmZmpGOCu7q6mJ6eBiAajdLb20sikWBhYYGBgQF27tyJx+MhJSWFzs5O5ubmMJvN3HfffWvSD0QkIMJVJbZcCYIgCIKwkTz33HN4PB6eeuopfvnLXzIwMMBLL73E7OwsRUVF5ObmMjo6SldXF/Pz88hkMoqKijhz5gxbt27F7/cTi8WYmZkhLy9Puu+WLVsYGxujtbWVpKQk7HY70WiUWCzGLbfcQk5ODqOjoxQWFqJUKlEoFBgMBgKBAFarlaysLABcLhdqtRqn00lGRgY333wzb731FjU1NaSkpGAymXjjjTew2+1YrVapp8hq2jAJyOTkJHa7fb3DuGF9/vOf5xe/+MWyayL5EAThWiTmA0EQrraUlBTuv/9+mpqaOH78OE6nk+LiYrq7u6UVjrNnzzI1NUUwGOSFF15AJpPxP//zPxQUFDA5OUlycjK33HILNTU1wOKRusnJyXR3d9Pc3CwVnN92222UlJTgdrupqKjg3LlzDA8PY7PZUCqVaDQaDh48SHp6Op2dnTgcDo4dO4Zaraa0tBSFQoHD4WB0dBRYXFGZmJjA7/cTj8e58847sVgsqzpeG6YI/Qtf+MJ6h3DDkslky5KPmpoakXwIgnDNEvOBIAirYdOmTfzsZz9Dq9UCi/UWXV1dRCIR6urqqK+v55ZbbqGgoACr1cr8/DzBYJDW1lbGxsYYGBhYVgA+MTFBW1sbqampUh2ITqdDLpej0WjIzc2lo6OD9vZ2NBoNeXl5zMzMYDab0Wq1nD59GplMxrFjx2hsbGR2dhaFQkFvby8pKSmMjo4yMDBAPB7nYx/7GHK5nGAwuKwZ4mrZMCsgX//619c7hBuSqPcQBOF6I+YDQRBWi9lsprOzk7/7u79jYGCAjo4OqX+I3W5HpVJRX19PIpGgpqaGN998k8zMTCwWC7Ozs8uO0w0EAoTDYVQqFXV1ddIWqpGREdxuN06nE7/fz9jYGEVFRXi9XkpLSykvL2dmZgaLxYJaraaiogKr1UpFRQVHjx5Fr9fT3t5OWloaTqeT/fv3o1AoCIVCRCIRbDbbqo/ThklAxIfiq0/UewiCcD0S84EgCKtJr9fzk5/8hDfffJPvfOc7DAwM8Nxzz2GxWHA4HITDYYaGhkhKSqKmpgalUonT6SQYDOL1erHb7SQnJ+NwOHA4HExOTqLT6airq2NqagqtVktjYyNzc3N4PB5KSkrw+Xy43W4yMzPR6/WUlZWRnp4ufVZbKn632WycOnUKrVYrFZ57vV7q6urw+/0kJydLtSOracMkIMLVJZIPQRAEQRCEK7vllltIS0vju9/9Lo2NjWRkZKDT6RgYGECr1WI2m4nFYgQCAaLRKCMjI5w7dw6tVktVVZV0H6/Xy09+8hMaGhowmUwMDw9TVFTEpk2b6Ojo4MKFCzz88MOMjY1hsVjIz89namqKX/3qV2RlZXHfffdJ96qqqsLj8aDT6SgsLGRhYUHqEVJeXr5mYyMSEOGP8vTTT/Poo48uuyaSD0EQBEEQhMuVl5fz4IMPotFo8Pl8LCwsEAwGqa+v5+LFixQVFdHS0oLD4ZA6qS91RB8ZGcHr9fL888/T3d2NXq9HpVIRiUTYu/f/a+/eg6Oq7/+PvzYJZHMPJDHkQgIJCHILJBIFUb6CgjI20jqjw2irUERb0Tq22GlrFdoZO6DTGUfQcSLYcayBDloqjm0tlCpRKJBwU8gFAsYASUhIQm6Q2/7+4Mc2AVQu2fPZ5PN8zDCzu2z2vE74470vzjmf838KCgqSy+XSyJEjNWzYsB4raB09elQ1NTWKjo5WaWmpqqurdcstt0g6V4yqq6t13XXXSTp3rUl1dbXcbrdSU1M1YMAAn/9erCkgq1ev1o9//GPTMfq0C4963HPPPdq4caOhNABwdZgHAJw0Z84czZw5U7m5udqyZYveffdd/fWvf9WMGTPU3t6uAQMG6OTJkwoLC9OQIUMUFHTu63lBQYEGDhyopKQk1dbWqrW1VRMmTFBmZqZOnjwpl8ulkJAQZWRk9Nje4cOH9eGHH+qGG27QxIkTdejQIR07dkyhoaFKS0tTSUmJ3G63IiIi1NLSou3bt+vkyZNqbGzUTTfdpClTpvj8d2JNASksLGTgXANOuQLQXzAPADgtODhYjz/+uMrLy7V582Z1dXWpvb1daWlpcrvdGjhwoMLCwpSSkuL9mczMTL3++utqbGxUZ2en4uPjNX78eEVGRio9PV1vv/22goOD9f777+vuu+9WWFiYhg8friNHjqihoUFDhw5VcnKywsLCdOTIEQ0ePFjHjh1TQ0ODgoOD5fF45HK5FBUVpcjISO/qXU6wpoCsWrXKdIQ+i/IBoD9hHgAwISgoSMuXL1dZWZmKiopUWVmppqYmxcfHKzQ0VEFBQdqxY4cyMjIUFRWltrY2ud1uHT9+XCNGjFB2drY6OztVV1enqKgo3XrrrfrLX/6ihoYGlZWVKSgoSHV1dZo8ebIiIiLU0dGh0NBQVVZW6oc//KEqKyuVmJio9vZ2TZgwQR0dHdq/f78aGxs1ceJExcbGOlZCrCkguDqUDwAAgN7hcrm0fv16vffee3rllVfU0NCg2tpapaamqra2VkFBQerq6pIkbdu2TW1tbbr//vtVXV2tQ4cOqbOzU2lpaWpqatLhw4eVlpam2tpaZWRkqLOzU1988YUk6ezZsyorK9Pp06c1fPhwVVZWasSIESouLlZgYKAkqbS0VCdPnlRkZKQOHDiggIAAhYaGaurUqT7/PTh6I8KnnnpKw4cPV0BAgPbt2+fkpnEVKB8AAAC977777tOrr76qjIwM72pWwcHBGj58uPf7lsvl0qBBgxQdHa2dO3cqMjJSoaGhSk9PV0VFhff0qXvvvVcxMTFqbGz0rrRVX1+voqIilZSUaM+ePTp06JAqKirk8XgUExOjhoYGpaSkaMyYMUpPT9fkyZPV1tbm2Hc9RwvI/fffr/z8fO9yX/BflA8AAADfycjI0Jo1azR06FBNmDBBFRUV2rRpkzwej44ePao9e/aovr5eu3fvVnx8vFwulxITEyVJAQEBcrlcSk1N1ZYtW/T2229r//79qq2tVVtbmxobGzVhwgQlJSWpoKBAx48f1+bNm7VmzRqdPn1amzdv1ocffqj09HQlJydrx44dio2N9a6U5WuOFpBp06Y5cnOTS8nJyTGy3b6msLCQ8gGgX2MeAPAXQUFB+u1vf6vBgwerpaVFdXV1+vLLL/Xyyy9r48aN+uKLL5SUlKTJkydLkk6cOKGSkhINGjRIGRkZiomJ0Q033KCGhgaVlpbq9OnT2rFjhwYMGKDU1FTNmDFDN998s+68807FxMQoISFBHR0damlp8V7w3tDQoPDwcJWUlDi3345tybDFixebjuD3Fi1apNzcXO/zX/ziF3rppZcMJgKA3sc8AOBPBg4cqGXLlmnq1Km6++679ec//1lBQUGKiIjQbbfdphMnTigzM1NDhgxRZWWlampqFBoaqvj4eEVGRurYsWOaPHmy9u7dq/Lyct16661KTk5WQkKCAgICNG3aNMXExHgLx9GjRxUQEKC2tjZJUlRUlJqampSZmanNmzdr1KhRSk5O9uk+W1NAZs2aZTqCXxs2bJi++uor7/OCggJlZmYaTAQAvsE8AOBvXC6X7rrrLgUGBqqzs1MdHR3yeDxqampScXGxoqKi1N7erujoaFVVVenMmTOKjY2VJA0dOlTjxo1TVFSUWltbFR8f7z3jqKqqSvn5+Ro5cqR32d2AgAC53W6dOHHCu/077rhDRUVFSkhIUGhoqM/319FTsK7EnDlzlJOT0+PPlClTtGHDhh7v+/jjjy95OP2JJ57Q6tWre7xWWFionJwc1dTU9Hj9hRde0PLly3u8Vl5erpycHBUVFfV4/dVXX9WSJUt6vNbS0qKcnBzl5+f3eD0vL0/z58+/KNsDDzzgV/sRHh7eo3xs3bq1R/noK/txXl//92A/2A/2g/1gP9gP9sPO/ejo6FBwcLBcLpfa2tpUXFysxsZGFRUV6Q9/+INOnz6trKwsHT58WCUlJVqxYoU2b96sjz/+WMXFxfJ4PDp+/Lh3P9ra2jRw4EBFREToD3/4g5YtW6bKykq1trZq7ty53v0oLS3V2LFjNWbMGA0ePPiq9yMvL8/7vT0pKUnZ2dl6+umnL/r9uzwGTvAfPny4NmzYcNGdG6Vz//hZWVn8D7xDuN4DAADAv6xZs0bvvvuuKioqlJSUpEWLFqm5uVljxozRzTffrA8++EBVVVWaOXOm6urq9MknnyghIUGJiYmaPn2693P+85//aMCAAbrllltUXFysoKAgvf7668rKytK8efN6bLOiokKnT5/WmDFjenVfLvXd3tEjII899piGDh2qY8eOafbs2br++usd2/aFjRiUDwB2Yh4A8HcLFizQSy+9pMmTJ2vYsGF65513tHv3bu3cuVPvvvuumpubFR0drY6ODn399deKi4tTenp6jzupS+eO1OzevVuHDx/WmTNnFBYWpszMTIWEhEj63ylaHo9HZ86cUXNzsyP75+g1IG+88YaTm+shLy9Pc+fONbZ9f0P5AGAr5gGAvmDSpEl65ZVXtHHjRm3dulXHjh1TYWGhbr/9dp0+fVohISHeO5d7PB6dPHlS48aN8/781q1b1dHRoeTkZHk8HrW3tys2NlaTJ09WYGCgSktLlZ+fr5SUFJWVlWnEiBGO7ZvfXgPS29atW2c6gt+gfACwGfMAQF8xePBgPfzww/rVr36lzs5OeTweHT58WOPHj/cunXvgwAHV1dWpsbGxxwXkgYGBSkpK0vTp0zVs2DBJ577zjRw5UmfPntWuXbvkdrtVVlam2NhYGDgFqAAAFVxJREFUHThwQO3t7Y7slzUFBOdQPgAAAPqWIUOGKCsrS263W7W1tSopKVFGRoaCgoKUkpKi+Ph4xcXFqaioSLW1tTpx4oTcbreio6MVEBDgvUlhcXGxJCkpKUnBwcHavn27Ojs79eWXX6qwsFA7d+50ZH8oIBahfAAAAPQ9YWFhev755/XMM8+ooaFB27Zt0969e5WWlqaoqCgFBwdr69at2rt3r2praxUUFKSWlhadOnVKhw8fVnBwsFpbW3X27Fn961//0j//+U91dHTo5ptvVkxMjAYPHqzExESVlZWpo6PD5/tjzX1AbEf5AAAA6Nvuuece7dmzR7t27VJ5eblqa2uVmJiorq4uBQcH66uvvtLcuXO1f/9+BQScO87gdrvV3NystLQ0nTlzRg0NDaqsrNTUqVOVlZXl/exTp04pMTFRhw4d0ujRo326H9YcAbnUetG2oHwAwP/YPA8A9H3PPfecFixYoE8//VQbN25USUmJmpubFRgYqGHDhmnnzp06efKk9u/fr3379qmurk6dnZ2qq6tTSEiIoqKilJiYqIiICElSe3u79uzZo4iICA0YMMCRVWqtKSC23vmW8gEAPdk6DwD0Hzk5OZo5c6aSkpIUEhKi0tJSBQYGavDgwRoxYoROnTqlY8eOqa2tTV988YX++9//qrKyUuHh4d7H55fsPXTokDZs2KD169crJCTEe+TEl6wpIBfebMUGlA8AuJiN8wBA//Paa69p3bp1ioqKUn19vaqqqrRz505VV1fL5XKppqZGAQEBmjJlisaPH6+mpiZt375d7e3tCg0NldvtVlVVlSorKzVo0CDNmTNH0dHRjmTnGpB+ivIBAADQvyUkJGjevHkKCgpSfX29XC6X8vLyFB0drZEjRyo5OVljxozRgQMH9N5776m+vl7Z2dmaPXu2JKmlpUUdHR268847FRsbq+uuu86R3BSQfuj8TWnOo3wAAAD0T2PHjlViYqKampq0adMmffnll6qtrdWNN96ocePGKSgoSCUlJYqLi9P48eM1YMAA1dfXq6ioSB0dHTpz5ow8Ho9iY2Mdy2zNKVj5+fmmIzjC5XLp7Nmz3ueUDwDoyZZ5AMAegwYN0tChQ9XV1aW2tjbV1NSoqalJ0dHRam5u1tGjR3XnnXdqwoQJCgwM1L59+3Tq1Ck1NTUpIyNDERERjlz7cZ41R0BWrFihadOmmY7hU4sWLerxnPIBABezYR4AsNPs2bPV1NSkpqYmTZo0SX//+98lSdOnT9eZM2cUEhKi1tZWpaSkKDw8XC0tLUpOTlZgYKCjOa0pIGvXrjUdwacKCwuVm5vrfU75AIBL6+/zAIC9kpOT9bOf/Uwej0c7duzQkSNHlJ6ervz8fE2aNEk33nijRowYoa1bt2r37t0qLS3Vvn37dN999ykpKcmxnNacghUaGmo6gs8UFhb2uJEM5QMAvll/ngcAIJ07JT87O1sZGRk6cOCA2traVFxcrLq6OtXV1amtrU2BgYEKDw/X2LFjNWjQIEfzWVNA+rPu5aOgoMBgEgAAAPgDl8ul0NBQlZeXKz8/Xx6PR5WVlRo4cKCys7PV3t6uuLg4paWlKTg4WMXFxdq1a5cj2aw5Bau/6r7cbm5urjIzMw2mAQAAgL+YPXu2ioqKdOTIEQUGBqqlpUW7du3S2LFjNWTIEHV2durYsWOqra1VVVWVUlNTHcllzRGQJUuWmI7Q67qXj6ioKC1cuNBgGgDoG/rjPACASwkMDNQzzzyjJUuWKCwsTA899JAKCgrU1NSktLQ0tbW1qaKiQocOHVJGRobGjRvnSC5rCsj52833F93Lh8vlUn19vcE0ANB39Ld5AADfJSUlRX/7298UFxenTz/9VI2Njdq7d6/q6uq0Z88ehYWFeZfvdYI1BeTJJ580HaHXXHiX866uLkNJAKDv6U/zAAAu17p16zR9+nT95je/kSSFhYVp4MCBSktLU1RUlD777DNVVVU5koVrQPqY6OjoHs9Z8QoAAACX4/e//726urr061//WgcOHNCECRNUVFSkgwcPKisrS2PGjHEkhzVHQPqDN998Uw0NDd7nlA8AAABciYCAAKWnpyspKUkdHR06c+aMGhoaFB0drYMHDzpyGpY1R0CKioo0evRo0zGuyaOPPup9TPkAgKvTH+YBAFyLRx99VLW1tfr8889VXFys4uJibdu2TYGBgRedbeML1hwBefbZZ01HuCbdr/vgXh8AcPX6+jwAgN4QExOj2267TV1dXTp69Kjeeecd/elPf9LZs2d9vm1rjoCsXLnSdISr1r183HPPPdzrAwCuQV+eBwDQm6KiovSjH/1Ix48fl9vtVnh4uGJjY32+XWuOgPTVZRcvXPFq48aNhpIAQP/QV+cBAPjCkCFDtHTpUk2bNk3Z2dmqrq72+TatKSB9UVZWVo/nXPcBAACA3hYdHa358+crPT1dQ4YM8fn2rDkFqy8qLCz0PqZ8AAAAwFeuu+463XHHHY5sy5ojIMuXLzcd4Yp0P/WK8gEAvaevzQMA6G+sKSAtLS2mI1y27uUjNzfXYBIA6H/60jwAgP7ImgKybNky0xEuy4ABA7yPw8LCtHDhQoNpAKD/6SvzAAD6K2sKSF9QWFiojo4O7/OmpiaDaQAAAIDeRwHxI91XveK6DwAAAPRH1hSQmpoa0xG+FRedA4Az/H0eAEB/Z00BWbBggekI3+jCmw0CAHzHn+cBANjAmgKydOlS0xEuqfu9PiSOfgCAr/nrPAAAW1hTQDIzM01HuCSu+wAAZ/nrPAAAW1hTQPxR91OvCgoKDCYBAAAAnEEBMeS2227r8Zz/kQMAAIANrCkgq1evNh2hh61bt3ofc+oVADjH3+YBANjGmgJy4cXeJrHkLgCY40/zAABsZE0BWbVqlekIknqWj/j4eINJAMBO/jIPAMBW1hQQf1RZWWk6AgAAAOAoCoiDOPUKAAAAtqOAOCQ1NdX7ePTo0QaTAAAAAOZYU0BycnKMbr+8vNz7+ODBgwaTAIDdTM8DALCdNQVk8eLFxrbNqVcA4D9MzgMAgEUFZNasWUa2O2PGDO9jTr0CAPNMzQMAwDnWFBBTtmzZ4n3MqVcAAACwHQXEhzj1CgAAAOjJmgKyYcMGR7fHnXYBwD85PQ8AAD1ZU0Dy8vIc3V5WVpb3MUc/AMB/OD0PAAA9WVNA1q1b59i2up96lZub69h2AQDfzcl5AAC4mDUFxJSFCxeajgAAAAD4DQpIL+PCcwAAAOCbUUB8xO12m44AAAAA+B1rCsj8+fN9vo3uRz9aW1t9vj0AwJVzYh4AAL6ZNQXE13e+XbRokffx97//fZ9uCwBw9bgTOgCYZU0BmTdvnk8/v/tqV++//75PtwUAuHq+ngcAgG9nTQHxpaioKO9jLjwHAAAAvhkFpBecPn3adAQAAACgT7CmgOTn5/vkc1l2FwD6Fl/NAwDA5bGmgKxYscJ0BACAH2AeAIBZ1hSQtWvX9vpncvQDAPoeX8wDAMDls6aAhIaG+uyzuxcRAIB/8+U8AAB8N2sKSG/rXjq6uroMJgEAAAD6DgoIAAAAAMdYU0CWLFnSa5/FtR8A0Hf15jwAAFw5awpISkpKr39mTExMr38mAMC3fDEPAACXz5oC8uSTT/bK53Q/+lFTU9MrnwkAcE5vzQMAwNWxpoAAAAAAMI8CcgW49gMAAAC4NtYUkKKiItMRAAB+gHkAAGZZU0CeffbZa/r52NhY72OOfgBA33Wt8wAAcG2sKSArV668pp+vra3tpSQAAJOudR4AAK6NNQXkWpZdLCws9D7m6AcA9G0swwsAZllTQK5FVlaW6QgAAABAv0ABuQK5ubmmIwAAAAB9mjUFZPny5Vf1c92X3l24cGFvxQEAGHK18wAA0DusKSAtLS3X9POjR4/upSQAAJOudR4AAK6NNQVk2bJlV/wz3a/9OHjwYG/GAQAYcjXzAADQe6wpIFej++pXAAAAAK4dBeQbsPQuAAAA0PusKSA1NTVX9H6W3gWA/ulK5wEAoHdZU0AWLFhwVT/3k5/8pJeTAABMutp5AADoHdYUkKVLl172e2fMmOF9/Nprr/kgDQDAlCuZBwCA3mdNAcnMzLzs927ZssWHSQAAJl3JPAAA9D5rCsjV4OJzAAAAoHdRQC6Qnp5uOgIAAADQb1lTQFavXn1Z7ysrK/NxEgCASZc7DwAAvmFNAbnSmwpy+hUA9E/cZBYAzLKmgKxateo73+NyuRxIAgAw6XLmAQDAd6wpIFfC7XabjgAAAAD0SxSQS2htbTUdAQAAAOiXKCD/X3h4uOkIAAAAQL9nTQHJycn51r9vbm52KAkAwKTvmgcAAN+ypoAsXrz4st7H6lcA0L9d7jwAAPiGNQVk1qxZ3/h3rH4FAPb4tnkAAPA9awrI5QgI4NcBAAAA+BLfuLvp7Ow0HQEAAADo16wpIBs2bDAdAQDgB5gHAGCWNQUkLy/vkq9z/QcA2OWb5gEAwBnWFJB169Z969/ffvvtDiUBAJj0XfMAAOBb1hSQ7/Lvf//bdAQAAACg37O6gKSmppqOAAAAAFjF6gJSXl4uSQoPDzecBAAAALCDNQVk/vz53/h3zzzzjINJAAAmfds8AAD4njUF5NvufLts2TIHkwAATOJO6ABgljUFZN68eT2ex8bGGkoCADDpwnkAAHCWNQXkQrW1taYjAAAAANaxtoCc5/F4TEcAAAAArGFNAcnPzzcdAQDgB5gHAGCWNQVkxYoV3sdvvvmmwSQAAJO6zwMAgPOsKSBr1671Pn7uueckSWFhYabiAAAM6T4PAADOs6aAhIaGeh9XVVVJkjo7O03FAQAY0n0eAACcZ00BuZTW1lbTEQAAAACrWF1AAAAAADjLmgKyZMkSSdILL7xgOAkAwKTz8wAAYIY1BSQlJUWS9Lvf/c5wEgCASefnAQDADGsKyJNPPinpfytfcQNCALDT+XkAADDDmgJyXnNzs+kIAAAAgLWsKyAxMTGmIwAAAADWsqaAFBUVSZJqa2sNJwEAmHR+HgAAzLCmgDz77LOmIwAA/ADzAADMsqaArFy5UrGxsZKk559/3nAaAIApK1euNB0BAKxmTQFJSUnxnn7FUrwAYC+W4QUAs6wpINK5pXdHjx7NErwAAACAIUGmAzjJ5XKZjgAAAABYzZojIMuXLzcdAQDgB5gHAGCWNUdAWlpaOPUKAKCWlhbTEQDAatYcAbn33nvlcrkUGBhoOgoAwKBly5aZjgAAVrOmgNxyyy2SpK6uLsNJAAAAAHtZU0BaW1uVm5vLaVgAAACAQdYUkJqaGi1cuNB0DACAYTU1NaYjAIDVrCkgcXFxcrlcKiwsNB0FAGDQggULTEcAAKtZU0AAAJCkpUuXmo4AAFazZhlerv0AAEhSZmam6QgAYDWOgAAAAABwjDUFxOVyyeVymY4BAAAAWM2aAgIAgCStXr3adAQAsJo1BeSnP/0p14EAAFgNEQAMs6aArFq1ynQEAIAfYB4AgFlWFJDq6mq5XC41NTWZjgIAAABYzYoCEh8fL0mKiIgwnAQAAACwmxUF5L777pMk/fznPzecBAAAALCbFQVk/fr1+t73vqeXX37ZdBQAgGE5OTmmIwCA1awoIJK0ePFi0xEAAH6AeQAAZjlaQEpLSzV16lSNGjVK2dnZOnDggGPbnjVrlmPbAgD4L+YBAJjlaAF57LHH9Pjjj6u4uFi//OUv9cgjjzi5eQAAAACGOVZAqqurVVBQoIceekiS9IMf/EBff/21ysrKnIoAAAAAwDDHCsjXX3+thIQEBQSc26TL5VJKSorKy8sd2f6GDRsc2Q4AwL8xDwDALGsuQl++fLnpCAAAP8A8AACzHCsgQ4cO1YkTJ9TV1SVJ8ng8Ki8vV0pKyiXfP2fOHOXk5PT4M2XKlIv+5+rjjz++5JKKTzzxhFavXu19HhcXp8LCQuXk5KimpqbHe1944YWLBlJ5eblycnJUVFTU4/VXX31VS5Ys6fFaS0uLcnJylJ+f3+P1vLw8zZ8//6JsDzzwwFXvhyT2g/1gP9gP9uMa9iMuLq5f7Md57Af7wX6wH/6yH3l5ed7v7UlJScrOztbTTz99UW6Xx+PxXPSqj9x+++165JFH9PDDD2v9+vVasWKFduzY0eM9hYWFysrKUkFBgTIzM3tt2zk5Ofrggw967fMAAH0T8wAAnHOp7/ZBTgZ444039Mgjj+jFF19UVFSU3nrrLSc3DwAAAMAwRwvI9ddfr88//9zJTQIAAADwI44WkCtx8ODBXv28HTt2qLCwsFc/EwDQ9zAPAMA5l/pO7+g1IJfjxIkTmjdvnj755BPTUQAAAABco+nTpysvL08JCQmS/LCASOdKyIkTJ0zHAAAAAHCNEhISvOVD8tMCAgAAAKB/suZGhAAAAADMo4AAAAAAcEy/LyBPPfWUhg8froCAAO3bt890HACAAWfPntXcuXM1atQoTZw4UbNmzdLhw4dNxwIAK/X7AnL//fcrPz9fqamppqMAAAx6/PHHVVxcrD179ujee+/VwoULTUcCACv1+wIybdo0JSUlmY4BADAoODhYd911l/f5TTfdpKNHj5oLBAAW6/cFBACAC73yyiuaO3eu6RgAYCW/vRM6AAC+8OKLL6qsrEy5ubmmowCAlSggAABrvPzyy9qwYYM2bdokt9ttOg4AWMmqAsI9FwHAXn/84x+1du1abdq0SZGRkabjAIC1+v2d0B977DF99NFHqqqq0uDBgxUZGamSkhLTsQAADqqoqFBKSorS09MVHh4uSXK73dq2bZvhZABgn35fQAAAAAD4D1bBAgAAAOAYCggAAAAAx1BAAAAAADiGAgIAAADAMRQQAAAAAI6hgAAAAABwDAUEAAAAgGMoIAAAAAAcQwEBAAAA4BgKCAAAAADHUEAAAAAAOIYCAgAAAMAxFBAAAAAAjgkyHQAAYJ+9e/fqrbfe0siRI1VZWakHH3xQo0ePNh0LAOAACggAwFHbtm3TokWL9NlnnykyMlKpqamKj4+ngACAJVwej8djOgQAwA5dXV0aNWqUli5dqgcffFCStH37dk2aNEnBwcGG0wEAnEABAQA4Jj8/XzNnzlR9fb1CQkJMxwEAGMBF6AAAx1RUVCg9Pf2i8sH/hQGAPSggAADHZGVlqbW1tcdr//jHP/TRRx8ZSgQAcBqnYAEAHLVmzRoVFxcrPT1dra2tmjhxoqZPn246FgDAIRQQAAAAAI7hFCwAAAAAjqGAAAAAAHAMBQQAAACAYyggAAAAABxDAQEAAADgGAoIAAAAAMf8P92yWygoXUF0AAAAAElFTkSuQmCC\" />"
      ]
     },
     "execution_count": 15,
     "metadata": {},
     "output_type": "execute_result"
    }
   ],
   "source": [
    "c_parametro, orbita = bifurcation_function(S_c, 0.5, 1000, 1:1e-3:2.85, 50)\n",
    "scatter(c_parametro,orbita, markersize=0.1, c=:black, leg=false, grid=true, xaxis=(L\"c\"), yaxis=(L\"x\"), size=(800,500))"
   ]
  },
  {
   "cell_type": "code",
   "execution_count": 53,
   "metadata": {
    "collapsed": false
   },
   "outputs": [
    {
     "data": {
      "text/html": [
       "<img src=\"data:image/png;base64,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\" />"
      ]
     },
     "execution_count": 53,
     "metadata": {},
     "output_type": "execute_result"
    }
   ],
   "source": [
    "c_parametro, orbita = bifurcation_function(S_c, 0.5, 1000, 2.2:1e-3:2.72, 50)\n",
    "scatter(c_parametro,orbita, markersize=0.1, c=:black, leg=false, grid=true, xaxis=(L\"c\"), yaxis=(L\"x\"), size=(800,500))"
   ]
  },
  {
   "cell_type": "code",
   "execution_count": 8,
   "metadata": {
    "collapsed": false
   },
   "outputs": [
    {
     "data": {
      "text/plain": [
       "itera_funcion_sine (generic function with 1 method)"
      ]
     },
     "execution_count": 8,
     "metadata": {},
     "output_type": "execute_result"
    }
   ],
   "source": [
    "function itera_funcion_sine(n)\n",
    "    \n",
    "    x = \"c*sin(x)\"\n",
    "\n",
    "    for i in 1:n-1\n",
    "\n",
    "        x = \"c*sin($x)\"\n",
    "\n",
    "    end\n",
    "\n",
    "    ex = parse(x)\n",
    "    ex_ret = :( (x, c) -> $ex )\n",
    "    eval(ex_ret)\n",
    "    #ex_ret\n",
    "end "
   ]
  },
  {
   "cell_type": "code",
   "execution_count": 9,
   "metadata": {
    "collapsed": false
   },
   "outputs": [
    {
     "data": {
      "text/plain": [
       "find_bifurcation_sine (generic function with 1 method)"
      ]
     },
     "execution_count": 9,
     "metadata": {},
     "output_type": "execute_result"
    }
   ],
   "source": [
    "function find_bifurcation_sine(FF, CC)\n",
    "    \n",
    "    bifurcaciones = Any[]\n",
    "    #eval(itera_funcion(1))\n",
    "    n = 0\n",
    "    \n",
    "    for i in 1:length(FF)\n",
    "        \n",
    "        x_i = FF[i]\n",
    "        x_e = itera_funcion_sine(2^n)(x_i, CC[i])\n",
    "            \n",
    "        if abs(x_i - x_e) > 1e-7\n",
    "            \n",
    "            n += 1\n",
    "            push!(bifurcaciones, [CC[i], 2^n])\n",
    "            \n",
    "        end\n",
    "        \n",
    "    end\n",
    "    \n",
    "    bifurcaciones\n",
    "    \n",
    "end  "
   ]
  },
  {
   "cell_type": "code",
   "execution_count": 257,
   "metadata": {
    "collapsed": false
   },
   "outputs": [],
   "source": [
    "rango = 2.25:1/2^14:2.719\n",
    "orbit_sine = diagbifurc(S_c, 50000, 1, rango, 0.5); \n",
    "c_sine = ones(size(orbit_sine)[1])*rango';"
   ]
  },
  {
   "cell_type": "code",
   "execution_count": 260,
   "metadata": {
    "collapsed": false
   },
   "outputs": [
    {
     "name": "stdout",
     "output_type": "stream",
     "text": [
      " 17.438167 seconds (730.28 k allocations: 41.789 MB, 0.08% gc time)\n"
     ]
    },
    {
     "data": {
      "text/plain": [
       "5-element Array{Any,1}:\n",
       " [2.26165771484375,2.0] \n",
       " [2.61773681640625,4.0] \n",
       " [2.6973876953125,8.0]  \n",
       " [2.714599609375,16.0]  \n",
       " [2.71832275390625,32.0]"
      ]
     },
     "execution_count": 260,
     "metadata": {},
     "output_type": "execute_result"
    }
   ],
   "source": [
    "@time C_s_1 = find_bifurcation_sine(orbit_sine, c_sine)"
   ]
  },
  {
   "cell_type": "code",
   "execution_count": 261,
   "metadata": {
    "collapsed": false
   },
   "outputs": [
    {
     "data": {
      "text/plain": [
       "3-element Array{Float64,1}:\n",
       " 4.4705 \n",
       " 4.62766\n",
       " 4.62295"
      ]
     },
     "execution_count": 261,
     "metadata": {},
     "output_type": "execute_result"
    }
   ],
   "source": [
    "feigenbaum_const(C_s_1)"
   ]
  },
  {
   "cell_type": "markdown",
   "metadata": {
    "collapsed": true
   },
   "source": [
    "| n | Periodo | Bifurcación | Proporción |\n",
    "|:---------- | ---------- |:------------:|:------------:|\n",
    "| `1` | 2 | 2.26165771484375 | - |\n",
    "| `2` | 4 | 2.61773681640625 | - |\n",
    "| `3` | 8 | 2.6973876953125 | 4.4705 |\n",
    "| `4` | 16 | 2.714599609375 | 4.62766 |\n",
    "| `5` | 32 | 2.71832275390625 | 4.62295 |"
   ]
  },
  {
   "cell_type": "markdown",
   "metadata": {},
   "source": [
    "**Ejercicio 3:**\n",
    "\n",
    "Como se ve en la Fig. 1 (de [este](https://github.com/lbenet/2017-1_TSFisComp/blob/master/notas_clase/08_Mapeos1d-3.ipynb) notebook), $x=0$ pertenece a un ciclo de periodo $2^n$ para ciertos valores $C_n$ del parámetro. Dichos valores son *especiales*, ya que $x=0$ esté en el ciclo de periodo $2^n$ marca los llamados *ciclos superestable*, donde tenemos $(Q^{2^p}_{C_n})'(0)=0$.\n",
    "\n",
    "¿A qué converge la secuencia $f_n$, definida ahora con los valores $C_n$.\n",
    "\n",
    "De los $2^p$ puntos del ciclo de periodo $2^p$, es decir, $\\{0, p_1, \\dots p_{2^{n-1}}\\,\\}$ hay uno (distinto del 0) cuya distancia a 0 es menor; a ese punto lo identificamos como $d_n$. Calcular numéricamente a dónde converge la secuencia $d_n/d_{n+1}$."
   ]
  },
  {
   "cell_type": "code",
   "execution_count": 10,
   "metadata": {
    "collapsed": false
   },
   "outputs": [
    {
     "data": {
      "text/html": [
       "<img src=\"data:image/png;base64,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\" />"
      ]
     },
     "execution_count": 10,
     "metadata": {},
     "output_type": "execute_result"
    }
   ],
   "source": [
    "c_parametro, orbita = bifurcation_function(f, 0.5, 1000, -1.42:1e-3:.25, 50)\n",
    "scatter(c_parametro,orbita, markersize=0.1, c=:black, leg=false, grid=true, xaxis=(L\"c\"), yaxis=(L\"x\"), size=(800,500))\n",
    "plot!(c_parametro, zeros(length(c_parametro)))"
   ]
  },
  {
   "cell_type": "code",
   "execution_count": 54,
   "metadata": {
    "collapsed": false
   },
   "outputs": [
    {
     "data": {
      "text/plain": [
       "compute_roots_paso (generic function with 1 method)"
      ]
     },
     "execution_count": 54,
     "metadata": {},
     "output_type": "execute_result"
    }
   ],
   "source": [
    "\"\"\"\n",
    "    compute_roots_paso(f::Function, x0, c)\n",
    "\"\"\"\n",
    "function compute_roots_paso(f::Function, c0, x)\n",
    "            \n",
    "    #roots= Float64[c0]\n",
    "    ci = Dual(c0, 1)\n",
    "\n",
    "            # 1000 iterations of Newton's method\n",
    "    for i in 1:10000\n",
    "\n",
    "        c_2 = realpart(ci) - (realpart(f(x, ci))) / (dualpart(f(x, ci)))\n",
    "        #push!(roots, c_2)\n",
    "        ci = Dual(c_2, 1)\n",
    "    end\n",
    "\n",
    "    #roots\n",
    "    realpart(ci)\n",
    "end"
   ]
  },
  {
   "cell_type": "code",
   "execution_count": 60,
   "metadata": {
    "collapsed": false
   },
   "outputs": [
    {
     "data": {
      "text/plain": [
       "8.881784197001252e-16"
      ]
     },
     "execution_count": 60,
     "metadata": {},
     "output_type": "execute_result"
    }
   ],
   "source": [
    "itera_funcion_anonym(2^2)(0.0, c_superestables[2])"
   ]
  },
  {
   "cell_type": "code",
   "execution_count": 12,
   "metadata": {
    "collapsed": false
   },
   "outputs": [
    {
     "data": {
      "text/plain": [
       "compute_roots (generic function with 1 method)"
      ]
     },
     "execution_count": 12,
     "metadata": {},
     "output_type": "execute_result"
    }
   ],
   "source": [
    "\"\"\"\n",
    "    compute_roots(f::Function, xx, c)\n",
    "    Out: roots\n",
    "\n",
    "xx is an array, cc is the parameter, f is the funtion\n",
    "\n",
    "\"\"\"\n",
    "function compute_roots(f::Function, cc, x)\n",
    "    \n",
    "    roots = similar(cc)\n",
    "\n",
    "    for j in 1:length(cc)\n",
    "            \n",
    "        ci = Dual(cc[j], 1)\n",
    "\n",
    "        for k in 1:10000\n",
    "            c_2 = realpart(ci) - (realpart(f(x, ci))) / (dualpart(f(x, ci))) \n",
    "            ci = Dual(c_2, 1)\n",
    "        end\n",
    "\n",
    "        roots[j] = realpart(ci)\n",
    "        \n",
    "    end\n",
    "    \n",
    "    roots\n",
    "end"
   ]
  },
  {
   "cell_type": "code",
   "execution_count": 14,
   "metadata": {
    "collapsed": false
   },
   "outputs": [
    {
     "data": {
      "text/plain": [
       "delete_equals (generic function with 1 method)"
      ]
     },
     "execution_count": 14,
     "metadata": {},
     "output_type": "execute_result"
    }
   ],
   "source": [
    "function delete_equals(A)\n",
    "\n",
    "    for j  in 1:length(A)\n",
    "        for i  in 1:length(A)\n",
    "\n",
    "            if i == j\n",
    "                \n",
    "                nothing\n",
    "\n",
    "                elseif abs(abs(A[i]) - abs(A[j])) < 1e-5\n",
    "\n",
    "                A[i] = NaN\n",
    "                \n",
    "            end\n",
    "        end\n",
    "    end\n",
    "    \n",
    "    deleteat!(A,find(isnan, A))\n",
    "    \n",
    "end"
   ]
  },
  {
   "cell_type": "code",
   "execution_count": 65,
   "metadata": {
    "collapsed": false
   },
   "outputs": [
    {
     "data": {
      "text/plain": [
       "iterator (generic function with 1 method)"
      ]
     },
     "execution_count": 65,
     "metadata": {},
     "output_type": "execute_result"
    }
   ],
   "source": [
    "function iterator(f::Function, n::Int, k, x0, c)\n",
    "\n",
    "    solution = Float64[]\n",
    "    #steps = Int[0]\n",
    "    x_old = x0\n",
    "    for i in 1:n\n",
    "\n",
    "        x_new = f(x_old, c)\n",
    "        x_old = x_new\n",
    "\n",
    "    end\n",
    "    for i in 1:k\n",
    "        \n",
    "        x_new = f(x_old, c)\n",
    "        push!(solution, x_old)\n",
    "        x_old = x_new\n",
    "\n",
    "    end\n",
    "    \n",
    "    return solution\n",
    "\n",
    "end"
   ]
  },
  {
   "cell_type": "code",
   "execution_count": 187,
   "metadata": {
    "collapsed": false
   },
   "outputs": [
    {
     "data": {
      "text/plain": [
       "check_superstability (generic function with 1 method)"
      ]
     },
     "execution_count": 187,
     "metadata": {},
     "output_type": "execute_result"
    }
   ],
   "source": [
    "function check_superstability(A, n)\n",
    "    \n",
    "    B = Float64[]\n",
    "    \n",
    "    for i in 1:length(A)\n",
    "        \n",
    "        b = itera_funcion_anonym(2^n)(0.0, A[i])\n",
    "        #push!(B, b)\n",
    "        \n",
    "       \n",
    "        if abs(b) < 1e-13\n",
    "            \n",
    "            push!(B, A[i])\n",
    "            \n",
    "        end\n",
    "    end\n",
    "    \n",
    "    B\n",
    "    \n",
    "end"
   ]
  },
  {
   "cell_type": "code",
   "execution_count": 205,
   "metadata": {
    "collapsed": false
   },
   "outputs": [
    {
     "data": {
      "text/plain": [
       "14-element Array{Float64,1}:\n",
       "  0.0    \n",
       " -1.99977\n",
       " -1.94178\n",
       " -1.9722 \n",
       " -1.87   \n",
       " -1.89692\n",
       " -1.85173\n",
       " -1.81   \n",
       " -1.3107 \n",
       " -1.71108\n",
       " -1.38155\n",
       " -1.52182\n",
       " -1.0    \n",
       " -1.96076"
      ]
     },
     "execution_count": 205,
     "metadata": {},
     "output_type": "execute_result"
    }
   ],
   "source": [
    "c_rango = 0.25:-0.001:-1.3\n",
    "c_superestables = compute_roots(itera_funcion_anonym(2^3), c_rango, 0.0) \n",
    "c_superestables = delete_equals(c_superestables)"
   ]
  },
  {
   "cell_type": "code",
   "execution_count": 206,
   "metadata": {
    "collapsed": false
   },
   "outputs": [
    {
     "data": {
      "text/plain": [
       "13-element Array{Float64,1}:\n",
       "  0.0    \n",
       " -1.94178\n",
       " -1.9722 \n",
       " -1.87   \n",
       " -1.89692\n",
       " -1.85173\n",
       " -1.81   \n",
       " -1.3107 \n",
       " -1.71108\n",
       " -1.38155\n",
       " -1.52182\n",
       " -1.0    \n",
       " -1.96076"
      ]
     },
     "execution_count": 206,
     "metadata": {},
     "output_type": "execute_result"
    }
   ],
   "source": [
    "c_superestables = check_superstability(c_superestables, 3)"
   ]
  },
  {
   "cell_type": "code",
   "execution_count": 207,
   "metadata": {
    "collapsed": false
   },
   "outputs": [
    {
     "data": {
      "text/plain": [
       "13-element Array{Float64,1}:\n",
       "  0.0    \n",
       " -1.0    \n",
       " -1.3107 \n",
       " -1.38155\n",
       " -1.52182\n",
       " -1.71108\n",
       " -1.81   \n",
       " -1.85173\n",
       " -1.87   \n",
       " -1.89692\n",
       " -1.94178\n",
       " -1.96076\n",
       " -1.9722 "
      ]
     },
     "execution_count": 207,
     "metadata": {},
     "output_type": "execute_result"
    }
   ],
   "source": [
    "c_superestables = sort(c_superestables, rev=true)"
   ]
  },
  {
   "cell_type": "code",
   "execution_count": 208,
   "metadata": {
    "collapsed": false
   },
   "outputs": [
    {
     "data": {
      "text/plain": [
       "11-element Array{Float64,1}:\n",
       " 3.21851 \n",
       " 4.38568 \n",
       " 0.505061\n",
       " 0.74114 \n",
       " 1.91325 \n",
       " 2.3706  \n",
       " 2.28352 \n",
       " 0.678968\n",
       " 0.599903\n",
       " 2.36414 \n",
       " 1.6587  "
      ]
     },
     "execution_count": 208,
     "metadata": {},
     "output_type": "execute_result"
    }
   ],
   "source": [
    "feigenbaum_const(c_superestables)"
   ]
  },
  {
   "cell_type": "code",
   "execution_count": null,
   "metadata": {
    "collapsed": true
   },
   "outputs": [],
   "source": []
  }
 ],
 "metadata": {
  "kernelspec": {
   "display_name": "Julia 0.4.6",
   "language": "julia",
   "name": "julia-0.4"
  },
  "language_info": {
   "file_extension": ".jl",
   "mimetype": "application/julia",
   "name": "julia",
   "version": "0.4.6"
  }
 },
 "nbformat": 4,
 "nbformat_minor": 1
}
