{
 "cells": [
  {
   "cell_type": "markdown",
   "metadata": {},
   "source": [
    "# Tarea 4\n",
    "\n",
    "Miguel Raz [@miguelraz](https://github.com/miguelraz)\n",
    "\n",
    "Claudio Pierard [@cpierard](https://github.com/cpierard)"
   ]
  },
  {
   "cell_type": "markdown",
   "metadata": {},
   "source": [
    "**Envío del PR inicial:** lunes 26 de septiembre\n",
    "\n",
    "**Aceptación del PR:** lunes 10 de octubre"
   ]
  },
  {
   "cell_type": "code",
   "execution_count": 3,
   "metadata": {
    "collapsed": false
   },
   "outputs": [
    {
     "data": {
      "text/plain": [
       "Plots.PyPlotBackend()"
      ]
     },
     "execution_count": 3,
     "metadata": {},
     "output_type": "execute_result"
    }
   ],
   "source": [
    "using Plots, LaTeXStrings, DualNumbers\n",
    "pyplot()"
   ]
  },
  {
   "cell_type": "markdown",
   "metadata": {},
   "source": [
    "**Ejercicio 0:** Velocidad de convergencia\n",
    "\n",
    "El objetivo de este ejercicio es relacionar, la velocidad de convergencia con que un punto fijo (o una órbita periódica, en el caso de los dos últimos incisos) atraen a puntos suficientemente cercanos, con la derivada del mapeo en el punto fijo (o ciclo periódico). La idea es, entonces, calcular primero el punto fijo y, después, medir cómo la distancia de los iterados sucesivos (de una condición inicial $x_0$) al punto fijo se comporta en el tiempo, para los siguientes mapeos:\n",
    "\n",
    "- $F(x) = x^2+0.25$\n",
    "\n",
    "- $F(x) = 3x(1-x)$\n",
    "\n",
    "- $F(x) = \\exp(x-1)$\n",
    "\n",
    "- $F(x) = x^2 - 1.25$\n",
    "\n",
    "- $F(x) = \\exp(x+1)$\n",
    "\n",
    "  Deberán resolver algunas cosas intermedias. Por ejemplo, ¿qué tanto deben acercarse al punto fijo, a fin de evitar ruido numérico? ¿Qué hay que hacer en el caso en que el punto sea neutral (ni atractivo ni repulsivo)?\n",
    "\n",
    "  En los dos últimos incisos, el interés es en los ciclos de periodo 2."
   ]
  },
  {
   "cell_type": "markdown",
   "metadata": {},
   "source": [
    "**Ejercicio 1:**\n",
    "\n",
    "Llamemos $c_n$ el valor del parámetro $c$ donde ocurre la bifurcación de doblamiento de periodo para el mapeo $Q_c(x)$, donde la órbita de periodo $2^n$ nace. Es decir, tenemos que $c_0=1/4$ marca la aparición del atractor de periodo $2^0=1$, $c_1=-1/4$ corresponde a la aparición del atractor de periodo $2^1=2$, $c_2=-3/4$ a la aparición del atractor de periodo $2^2=4$, etc. \n",
    "\n",
    "A partir de estos valores y otros que calcularán (al menos deben encontrar $c_6$), definimos la secuencia: $\\{f_0, f_1, f_2, \\dots\\}$, donde\n",
    "\n",
    "\\begin{equation}\n",
    "f_n = \\frac{c_n-c_{n+1}}{c_{n+1}-c_{n+2}} .\n",
    "\\end{equation}\n",
    "\n",
    "La pregunta es, ¿a qué valor converge esta secuencia?, es decir, dar una estimación de $f_\\infty$.\n",
    "\n",
    "\n",
    "\n",
    "*Hint:* Para realizar este ejercicio deben calcular el atractor para varias valores de $c$, de tal manera que puedan aislar las órbitas de periodo $2^p$ y de ahí determinar varios valores $c_n$. Sin embargo, van a requerir suficiente cuidado para obtener una buena aproximación de $c_n$. \n",
    "\n",
    "Una opción, que tiene ciertos inconvenientes numéricos que también ciertas ventajas se basa en recordar/usar que las bifurcaciones de doblamiento de periodo ocurren cuando los puntos de la órbita de periodo $p$ se tornan en repulsores, es decir, $(Q_c^p)'(x)=-1$. Esta opción, entonces, involucra obtener los valores $c_n$ usando los polinomios $Q_c^p(x)$ y diferenciación automática."
   ]
  },
  {
   "cell_type": "code",
   "execution_count": 2,
   "metadata": {
    "collapsed": false
   },
   "outputs": [
    {
     "data": {
      "text/plain": [
       "diagbifurc (generic function with 1 method)"
      ]
     },
     "execution_count": 2,
     "metadata": {},
     "output_type": "execute_result"
    }
   ],
   "source": [
    "\"\"\"\n",
    "    ciclosestables!(xx, f, nit, nout, cc, x0)\n",
    "\n",
    "Esta función itera el mapeo `f`, de una variable, `nit+nout` veces, \n",
    "usando como condición inicial `x0=0`; los últimos `nout` iterados \n",
    "actualizan al vector `xx` que tiene longitud `nout`. `cc` es el valor\n",
    "del parámetro del mapeo `f`. El mapeo `f` debe ser definido de \n",
    "tal manera que `f(x0,cc)` tenga sentido. La idea es los últimos \n",
    "`nout` iterados reflejen los ciclos estables del mapeo `f`. \n",
    "\"\"\"\n",
    "function ciclosestables!(xx, f, nit, nout, cc, x0)\n",
    "    @assert nit > 0 && nout > 0\n",
    "    \n",
    "    # Primeros nit iterados\n",
    "    #x0 = 0.0\n",
    "    for it = 1:nit\n",
    "        x0 = f(x0, cc)\n",
    "    end\n",
    "    \n",
    "    # Se guardan los siguientes nout iterados\n",
    "    for it = 1:nout\n",
    "        x0 = f(x0, cc)\n",
    "        @inbounds xx[it] = x0\n",
    "    end\n",
    "    \n",
    "    return nothing\n",
    "end\n",
    "\n",
    "\"\"\"\n",
    "    diagbifurc(f, nit, nout, crange)\n",
    "\n",
    "Itera el mapeo `f` `nit+nout` veces y regresa una matriz\n",
    "cuya columna `i` tiene los últimos `nout` iterados del mapeo\n",
    "para el valor del parámetro del mapeo `crange[i]`.\n",
    "\n",
    "La función `f` debe ser definida de tal manera que `f(x0, c)` \n",
    "tenga sentido.\n",
    "\"\"\"\n",
    "function diagbifurc(f, nit, nout, crange, x0)\n",
    "    xx = Vector{Float64}(nout)\n",
    "    ff = Array{Float64,2}(nout, length(crange))\n",
    "    \n",
    "    for ic in eachindex(crange)\n",
    "        c = crange[ic]\n",
    "        ciclosestables!(xx, f, nit, nout, c, x0)\n",
    "        ff[:,ic] = xx\n",
    "    end\n",
    "    \n",
    "    return ff\n",
    "end"
   ]
  },
  {
   "cell_type": "code",
   "execution_count": 1,
   "metadata": {
    "collapsed": false
   },
   "outputs": [
    {
     "data": {
      "text/plain": [
       "bifurcation_function (generic function with 1 method)"
      ]
     },
     "execution_count": 1,
     "metadata": {},
     "output_type": "execute_result"
    }
   ],
   "source": [
    "\"\"\"\n",
    "    bifurcation_function(f, x0, n, range_r, k)\n",
    "    OUT: r_par, orbit\n",
    "\n",
    "bifurcation_function genera un arreglo de valores de \"x\" y un arreglo de valores \"c\", los que grafican el mapeo\n",
    "de bifurcaciones. `f` es una función, `x0` es un valor inicial para todas las orbitas que se van a calcular, n es el\n",
    "número de iteraciones que se hacen sin guardar, `k` es el número de iteraciones que se hacen guardando los valores de \n",
    "x en un arreglo, y `range_r` es el rango de los parámetros r, para los que se quiere hacer el diagrama de \n",
    "bifurcaciones.\n",
    "\"\"\"\n",
    "\n",
    "\n",
    "function bifurcation_function(f, x0, n, range_r, k)\n",
    "    \n",
    "    orbit = Float64[]\n",
    "    r_par = Float64[]\n",
    "    \n",
    "    for r in range_r\n",
    "        \n",
    "        solution = []\n",
    "        #steps = Int[0]\n",
    "        x_old = x0\n",
    "        \n",
    "        for j in 1:n\n",
    "            \n",
    "            x_new = f(x_old, r)\n",
    "            x_old = x_new\n",
    "            \n",
    "        end\n",
    "        \n",
    "        for i in 1:k\n",
    "\n",
    "            x_new = f(x_old, r)\n",
    "            push!(solution, x_new)\n",
    "            #push!(steps, i)\n",
    "            x_old = x_new\n",
    "\n",
    "        end\n",
    "            \n",
    "        #deleteat!(solution, 1:k) #Remove the transient.\n",
    "        rs = similar(solution)\n",
    "        \n",
    "        for i in 1:length(solution)\n",
    "            \n",
    "            rs[i] = r\n",
    "            \n",
    "        end\n",
    "        \n",
    "        append!(orbit, solution)\n",
    "        append!(r_par, rs)\n",
    "        \n",
    "    end\n",
    "    \n",
    "    return r_par, orbit\n",
    "    \n",
    "end"
   ]
  },
  {
   "cell_type": "code",
   "execution_count": 8,
   "metadata": {
    "collapsed": false
   },
   "outputs": [
    {
     "data": {
      "text/html": [
       "<img src=\"data:image/png;base64,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\" />"
      ]
     },
     "execution_count": 8,
     "metadata": {},
     "output_type": "execute_result"
    }
   ],
   "source": [
    "f(x,c) = x^2 + c #función anónima para la cual se quiere calcular los parámetros de bifurcación.\n",
    "\n",
    "#Abajo se genera el diagrama de bifurcación para la función de arriba.\n",
    "c_parametro, orbita = bifurcation_function(f, 0.5, 1000, -1.42:1e-3:.25, 50)\n",
    "scatter(c_parametro,orbita, markersize=0.1, c=:black, leg=false, grid=true, xaxis=(L\"c\"), \n",
    "yaxis=(L\"x\"), size=(800,500))\n",
    "title!(L\"Diagrama de bifurcaciones de $f(x,c) = x^2 + c$\")"
   ]
  },
  {
   "cell_type": "code",
   "execution_count": 5,
   "metadata": {
    "collapsed": false
   },
   "outputs": [
    {
     "data": {
      "text/plain": [
       "itera_funcion_anonym (generic function with 1 method)"
      ]
     },
     "execution_count": 5,
     "metadata": {},
     "output_type": "execute_result"
    }
   ],
   "source": [
    "\"\"\"\n",
    "    itera_funcion_anonym(n)\n",
    "\n",
    "Esta función declara una función anonima tipo `f(x,c) = x^2 + c`. Variando el parametro n (con n ∈ Naturales), la \n",
    "función declara una función anónima de la composición de la función f con sigo misma, un n número de veces. Ejemplo:\n",
    "\n",
    "n = 3\n",
    "f_out = ((x^2 + c)^2 + c)^2 + c\n",
    "\n",
    "\"\"\"\n",
    "\n",
    "\n",
    "function itera_funcion_anonym(n)\n",
    "    \n",
    "    x = \"x^2 + c\"\n",
    "\n",
    "    for i in 1:n-1\n",
    "\n",
    "        x = \"($x)^2 +c\"\n",
    "\n",
    "    end\n",
    "\n",
    "    ex = parse(x)\n",
    "    ex_ret = :( (x, c) -> $ex )\n",
    "    eval(ex_ret)\n",
    "end "
   ]
  },
  {
   "cell_type": "code",
   "execution_count": 6,
   "metadata": {
    "collapsed": false
   },
   "outputs": [
    {
     "data": {
      "text/plain": [
       "find_bifurcation (generic function with 1 method)"
      ]
     },
     "execution_count": 6,
     "metadata": {},
     "output_type": "execute_result"
    }
   ],
   "source": [
    "\"\"\"\n",
    "    find_bifurcation(FF, CC)\n",
    "\n",
    "Dadas dos matrices calculadas con diagbifurc, que contienen los ultimos valores de la orbitas correspondientes a cada \n",
    "parámetro c (`FF`) y los parámetros c (`CC`), `find_bifurcation` calcula los parámetros c en los que hay una bifurcación\n",
    "para la función `f(x,c) = x^2 +c.` Esta función regresa un arreglo con todas las bifurcaciones y su doblamineto de \n",
    "periodo correspondiente.\n",
    "\"\"\"\n",
    "\n",
    "function find_bifurcation(FF, CC)\n",
    "    \n",
    "    bifurcaciones = Any[] #Esto va a ser un arreglo de arreglos.\n",
    "    n = 0  #contador que nos ayuda a ver el doblamiento de periodo.\n",
    "    \n",
    "    for i in 1:length(FF)\n",
    "        \n",
    "        x_i = FF[i] #El método consiste en comparar el último iterado del arreglo FF contra la evaluación de ese\n",
    "        x_e = itera_funcion_anonym(2^n)(x_i, CC[i])  # valor en la función f iterada 2^n veces. \n",
    "            \n",
    "        if abs(x_i - x_e) > 1e-7 # si la diferencia entre esos de valores es mmayor que e-7, entonces hay una bifucación.\n",
    "            \n",
    "            n += 1  #Contador aumenta en una unidad.\n",
    "            push!(bifurcaciones, [CC[i], 2^n]) #añade la bifurcación y su pariodo al arreglo que regresa la función.\n",
    "            \n",
    "        end\n",
    "        \n",
    "    end\n",
    "    \n",
    "    bifurcaciones\n",
    "    \n",
    "end  "
   ]
  },
  {
   "cell_type": "code",
   "execution_count": 254,
   "metadata": {
    "collapsed": false
   },
   "outputs": [],
   "source": [
    "crange = -0.73:-1/2^15:-1.4012 #rango de parámetros donde estámos seguros de encontrar bifurcaciones, (esto reduce\n",
    "# la cantidad de cálculos que tiene que hacer la computadora).\n",
    "\n",
    "ff = diagbifurc(itera_funcion_anonym(1), 50000, 1, crange, 0.0); #matriz de 1×n con las órbitas y los parámetros. \n",
    "#Se hizo que iterara 50000 veces la función.\n",
    "\n",
    "cc = ones(size(ff)[1])*crange';"
   ]
  },
  {
   "cell_type": "code",
   "execution_count": 255,
   "metadata": {
    "collapsed": false
   },
   "outputs": [
    {
     "data": {
      "text/plain": [
       "1x21994 Array{Float64,2}:\n",
       " -0.489949  -0.489965  -0.48998  -0.489996  …  -1.39992  -1.39996  -1.39991"
      ]
     },
     "execution_count": 255,
     "metadata": {},
     "output_type": "execute_result"
    }
   ],
   "source": [
    "ff #matriz 1 × 21994"
   ]
  },
  {
   "cell_type": "code",
   "execution_count": 250,
   "metadata": {
    "collapsed": false
   },
   "outputs": [
    {
     "name": "stdout",
     "output_type": "stream",
     "text": [
      " 59.228348 seconds (2.12 M allocations: 124.425 MB, 0.10% gc time)\n"
     ]
    },
    {
     "data": {
      "text/plain": [
       "9-element Array{Any,1}:\n",
       " [-0.749927978515625,2.0]  \n",
       " [-1.249927978515625,4.0]  \n",
       " [-1.368092041015625,8.0]  \n",
       " [-1.394031982421875,16.0] \n",
       " [-1.399647216796875,32.0] \n",
       " [-1.40083740234375,64.0]  \n",
       " [-1.401112060546875,128.0]\n",
       " [-1.401142578125,256.0]   \n",
       " [-1.401173095703125,512.0]"
      ]
     },
     "execution_count": 250,
     "metadata": {},
     "output_type": "execute_result"
    }
   ],
   "source": [
    "@time Q_c_1 = find_bifurcation(ff, cc) "
   ]
  },
  {
   "cell_type": "markdown",
   "metadata": {},
   "source": [
    "¡Se obtienen los valores de los parámetros `c` donde hay bifurcaciones! Comparados con [Wikipedia](https://en.wikipedia.org/wiki/Feigenbaum_constants#The_first_constant), estos se parecen batante. \n",
    "\n",
    "\n",
    "> **Observación:** Se había hecho otro método donde se usaba el método de Newton para refinar los últimos valores de las órbitas, sin embargo, éste 20 veces más lento y sólo podía encontrar las primeras tres bifurcaciones, por eso decidí no ponerlo en esta tarea. "
   ]
  },
  {
   "cell_type": "code",
   "execution_count": 7,
   "metadata": {
    "collapsed": false
   },
   "outputs": [
    {
     "data": {
      "text/plain": [
       "feigenbaum_const (generic function with 1 method)"
      ]
     },
     "execution_count": 7,
     "metadata": {},
     "output_type": "execute_result"
    }
   ],
   "source": [
    "\"\"\"\n",
    "    feigenbaum_const(A)\n",
    "\n",
    "Dado un arreglo que contiene los parámetros donde hay bifurcaciones, esta función calcula las aproximaciones a la\n",
    "constante de Feigenbaum.\n",
    "\"\"\"\n",
    "\n",
    "function feigenbaum_const(A)\n",
    "    ratio = Float64[]\n",
    "    \n",
    "    for i in 3:length(A)\n",
    "        \n",
    "        r = (A[i-1][1] - A[i-2][1])/(A[i][1] - A[i-1][1])\n",
    "        push!(ratio, r)\n",
    "        \n",
    "    end\n",
    "    \n",
    "    ratio\n",
    "    \n",
    "end "
   ]
  },
  {
   "cell_type": "code",
   "execution_count": 256,
   "metadata": {
    "collapsed": false
   },
   "outputs": [
    {
     "data": {
      "text/plain": [
       "7-element Array{Float64,1}:\n",
       " 4.2314 \n",
       " 4.55529\n",
       " 4.61957\n",
       " 4.71795\n",
       " 4.33333\n",
       " 9.0    \n",
       " 1.0    "
      ]
     },
     "execution_count": 256,
     "metadata": {},
     "output_type": "execute_result"
    }
   ],
   "source": [
    "feigenbaum_const(Q_c_1) #Le damos como argumento el arreglo que contiene las bifurcaciones calculado arriba."
   ]
  },
  {
   "cell_type": "markdown",
   "metadata": {},
   "source": [
    "**Resultados**\n",
    "\n",
    "La siguiente tabla muestra las bifucaciones para $f(x,c) = x^2 +c$, con su respectiva aproximación a la constante de Feigenbaum y el doblamiento de periodo al que corresponden."
   ]
  },
  {
   "cell_type": "markdown",
   "metadata": {},
   "source": [
    "| n | Periodo | Bifurcación | Proporción |\n",
    "|:---------- | ---------- |:------------:|:------------:|\n",
    "| `1` | 2 | -0.749927978515625 | - |\n",
    "| `2` | 4 | -1.249927978515625 | - |\n",
    "| `3` | 8 | -1.368092041015625 | 4.2314 |\n",
    "| `4` | 16 | -1.399647216796875 | 4.55529 |\n",
    "| `5` | 32 | -1.399647216796875 | 4.61957 |\n",
    "| `6` | 64 | -1.40083740234375 | *4.71795* |\n",
    "| `7` | 128 | -1.401112060546875 | *4.33333* |\n",
    "| `8` | 256 | -1.401142578125 | *9.0* |\n",
    "| `9` | 512 | -1.401173095703125 | *1.0* |"
   ]
  },
  {
   "cell_type": "markdown",
   "metadata": {},
   "source": [
    "> Me faltan datos para determinar a que converge la secuencia $\\{f0,f1,f2,…\\}$, pero con los datos obtenidos se puede apreciar que deber ser aproximadamente $4.7$. Sin embargo, sabemos que tiene que converger a $\\delta = 4.669201609...$. \n",
    "\n",
    "### !! revisar redacción\n",
    "> A partir del doblamiento de periodo $64$ en adelante, se puede ver que la aproximación de la constante ya no es buena, y para los periodos $256$ y $512$, mucho menos, esto se debe al método que estamos usando para obtener las bifurcaciones, ya que su criterio para determinar que hay una bifurcación se basa en comparar la distancia entre el  último valor de la orbita, para un parámetro c, y el valor de evaluar el último punto de la orbita en la función `f` iterada 2^n veces, con $1e-7$. El problema surge en los periodos grandes, ya que para esos parámetro los oscilaciones son bastante paequeñas y puede que la referencia de `1e-7`, no sea sufieciente para encontrar el buen parámetro. sin embargo, si se hace más pequeña esta tolerancia, el método falla en encontrar las primeras bifurcaciones."
   ]
  },
  {
   "cell_type": "markdown",
   "metadata": {},
   "source": [
    "**Ejercicio 2:**\n",
    "\n",
    "Repitan el ejercicio anterior para el mapeo $S_c(x) = c \\sin(x)$. ¿Cómo se comparan los valores obtenidos de $f_n$?"
   ]
  },
  {
   "cell_type": "code",
   "execution_count": 10,
   "metadata": {
    "collapsed": false
   },
   "outputs": [
    {
     "data": {
      "text/plain": [
       "S_c (generic function with 1 method)"
      ]
     },
     "execution_count": 10,
     "metadata": {},
     "output_type": "execute_result"
    }
   ],
   "source": [
    "S_c(x,c) = c*sin(x) #función para la cuál se quieren conocer las bifurcaciones."
   ]
  },
  {
   "cell_type": "code",
   "execution_count": 11,
   "metadata": {
    "collapsed": false
   },
   "outputs": [
    {
     "data": {
      "text/html": [
       "<img src=\"data:image/png;base64,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\" />"
      ]
     },
     "execution_count": 11,
     "metadata": {},
     "output_type": "execute_result"
    }
   ],
   "source": [
    "#Diagrama de bifurcaciones\n",
    "c_parametro, orbita = bifurcation_function(S_c, 0.5, 1000, 1:1e-3:2.85, 50)\n",
    "scatter(c_parametro,orbita, markersize=0.1, c=:black, leg=false, grid=true, xaxis=(L\"c\"), yaxis=(L\"x\"), \n",
    "size=(800,500))\n",
    "title!(L\"Diagrama de bifurcaciones de $f(x,c) = c sin(x)$\")"
   ]
  },
  {
   "cell_type": "code",
   "execution_count": 17,
   "metadata": {
    "collapsed": false
   },
   "outputs": [
    {
     "data": {
      "text/html": [
       "<img src=\"data:image/png;base64,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\" />"
      ]
     },
     "execution_count": 17,
     "metadata": {},
     "output_type": "execute_result"
    }
   ],
   "source": [
    "c_parametro, orbita = bifurcation_function(S_c, 0.5, 1000, 2.2:1e-3:2.72, 50)\n",
    "scatter(c_parametro,orbita, markersize=0.1, c=:black, leg=false, grid=true, xaxis=(L\"c\"), yaxis=(L\"x\"), size=(800,500))\n",
    "title!(L\"Diagrama de bifurcaciones de $f(x,c) = c sin(x)$, $c \\in [2.2, \\ 2.72]$\")"
   ]
  },
  {
   "cell_type": "code",
   "execution_count": 8,
   "metadata": {
    "collapsed": false
   },
   "outputs": [
    {
     "data": {
      "text/plain": [
       "itera_funcion_sine (generic function with 1 method)"
      ]
     },
     "execution_count": 8,
     "metadata": {},
     "output_type": "execute_result"
    }
   ],
   "source": [
    "\"\"\"\n",
    "itera_funcion_sine(n)\n",
    "\n",
    "Esta función declara una función anonima tipo `f(x,c) = c*sin(x)`. Variando el parametro n (con n ∈ Naturales), la \n",
    "función declara una función anónima de la composición de la función f con sigo misma, un n número de veces. Ejemplo:\n",
    "\n",
    "n = 3\n",
    "f_out = c*sin(c*sin(c*sin(x)))\n",
    "\n",
    "\"\"\"\n",
    "\n",
    "\n",
    "\n",
    "function itera_funcion_sine(n)\n",
    "    \n",
    "    x = \"c*sin(x)\"\n",
    "\n",
    "    for i in 1:n-1\n",
    "\n",
    "        x = \"c*sin($x)\"\n",
    "\n",
    "    end\n",
    "\n",
    "    ex = parse(x)\n",
    "    ex_ret = :( (x, c) -> $ex )\n",
    "    eval(ex_ret)\n",
    "    #ex_ret\n",
    "end "
   ]
  },
  {
   "cell_type": "code",
   "execution_count": 9,
   "metadata": {
    "collapsed": false
   },
   "outputs": [
    {
     "data": {
      "text/plain": [
       "find_bifurcation_sine (generic function with 1 method)"
      ]
     },
     "execution_count": 9,
     "metadata": {},
     "output_type": "execute_result"
    }
   ],
   "source": [
    "\"\"\"\n",
    "    find_bifurcation(FF, CC)\n",
    "\n",
    "Dadas dos matrices calculadas con diagbifurc, que contienen los últimos valores de la orbitas correspondientes a cada \n",
    "parámetro c (`FF`) y los parámetros c (`CC`), `find_bifurcation_sine` calcula los parámetros c en los que hay una bifurcación\n",
    "para la función `f(x,c) = c*sin(x).` Esta función regresa un arreglo con todas las bifurcaciones y su doblamineto de \n",
    "periodo correspondiente.\n",
    "\"\"\"\n",
    "\n",
    "\n",
    "function find_bifurcation_sine(FF, CC) #Es lo mismo que la función find_bifurcation, pero adaptada al seno.\n",
    "    \n",
    "    bifurcaciones = Any[]\n",
    "    #eval(itera_funcion(1))\n",
    "    n = 0\n",
    "    \n",
    "    for i in 1:length(FF)\n",
    "        \n",
    "        x_i = FF[i]\n",
    "        x_e = itera_funcion_sine(2^n)(x_i, CC[i])\n",
    "            \n",
    "        if abs(x_i - x_e) > 1e-7\n",
    "            \n",
    "            n += 1\n",
    "            push!(bifurcaciones, [CC[i], 2^n])\n",
    "            \n",
    "        end\n",
    "        \n",
    "    end\n",
    "    \n",
    "    bifurcaciones\n",
    "    \n",
    "end  "
   ]
  },
  {
   "cell_type": "code",
   "execution_count": 257,
   "metadata": {
    "collapsed": false
   },
   "outputs": [],
   "source": [
    "rango = 2.25:1/2^14:2.719 #rango donde estamos seguros que hay bifurcaciones.\n",
    "\n",
    "orbit_sine = diagbifurc(S_c, 50000, 1, rango, 0.5); \n",
    "c_sine = ones(size(orbit_sine)[1])*rango';"
   ]
  },
  {
   "cell_type": "code",
   "execution_count": 260,
   "metadata": {
    "collapsed": false
   },
   "outputs": [
    {
     "name": "stdout",
     "output_type": "stream",
     "text": [
      " 17.438167 seconds (730.28 k allocations: 41.789 MB, 0.08% gc time)\n"
     ]
    },
    {
     "data": {
      "text/plain": [
       "5-element Array{Any,1}:\n",
       " [2.26165771484375,2.0] \n",
       " [2.61773681640625,4.0] \n",
       " [2.6973876953125,8.0]  \n",
       " [2.714599609375,16.0]  \n",
       " [2.71832275390625,32.0]"
      ]
     },
     "execution_count": 260,
     "metadata": {},
     "output_type": "execute_result"
    }
   ],
   "source": [
    "@time C_s_1 = find_bifurcation_sine(orbit_sine, c_sine)"
   ]
  },
  {
   "cell_type": "code",
   "execution_count": 261,
   "metadata": {
    "collapsed": false
   },
   "outputs": [
    {
     "data": {
      "text/plain": [
       "3-element Array{Float64,1}:\n",
       " 4.4705 \n",
       " 4.62766\n",
       " 4.62295"
      ]
     },
     "execution_count": 261,
     "metadata": {},
     "output_type": "execute_result"
    }
   ],
   "source": [
    "feigenbaum_const(C_s_1)"
   ]
  },
  {
   "cell_type": "markdown",
   "metadata": {},
   "source": [
    "**Resultados:**\n",
    "En la siguiente tabla se muestran los valores de las bifurcaciones de $f(x,c) = csin(x)$, y sus constantes de Feigenbaum correspondientes. El método no pudo encontrar bifurcaciones más allá del periodo $32$."
   ]
  },
  {
   "cell_type": "markdown",
   "metadata": {
    "collapsed": true
   },
   "source": [
    "| n | Periodo | Bifurcación | Proporción |\n",
    "|:---------- | ---------- |:------------:|:------------:|\n",
    "| `1` | 2 | 2.26165771484375 | - |\n",
    "| `2` | 4 | 2.61773681640625 | - |\n",
    "| `3` | 8 | 2.6973876953125 | 4.4705 |\n",
    "| `4` | 16 | 2.714599609375 | 4.62766 |\n",
    "| `5` | 32 | 2.71832275390625 | 4.62295 |"
   ]
  },
  {
   "cell_type": "markdown",
   "metadata": {},
   "source": [
    "**Ejercicio 3:**\n",
    "\n",
    "Como se ve en la Fig. 1 (de [este](https://github.com/lbenet/2017-1_TSFisComp/blob/master/notas_clase/08_Mapeos1d-3.ipynb) notebook), $x=0$ pertenece a un ciclo de periodo $2^n$ para ciertos valores $C_n$ del parámetro. Dichos valores son *especiales*, ya que $x=0$ esté en el ciclo de periodo $2^n$ marca los llamados *ciclos superestable*, donde tenemos $(Q^{2^p}_{C_n})'(0)=0$.\n",
    "\n",
    "¿A qué converge la secuencia $f_n$, definida ahora con los valores $C_n$.\n",
    "\n",
    "De los $2^p$ puntos del ciclo de periodo $2^p$, es decir, $\\{0, p_1, \\dots p_{2^{n-1}}\\,\\}$ hay uno (distinto del 0) cuya distancia a 0 es menor; a ese punto lo identificamos como $d_n$. Calcular numéricamente a dónde converge la secuencia $d_n/d_{n+1}$."
   ]
  },
  {
   "cell_type": "code",
   "execution_count": 10,
   "metadata": {
    "collapsed": false
   },
   "outputs": [
    {
     "data": {
      "text/html": [
       "<img src=\"data:image/png;base64,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\" />"
      ]
     },
     "execution_count": 10,
     "metadata": {},
     "output_type": "execute_result"
    }
   ],
   "source": [
    "c_parametro, orbita = bifurcation_function(f, 0.5, 1000, -1.42:1e-3:.25, 50)\n",
    "scatter(c_parametro,orbita, markersize=0.1, c=:black, leg=false, grid=true, xaxis=(L\"c\"), yaxis=(L\"x\"), size=(800,500))\n",
    "plot!(c_parametro, zeros(length(c_parametro)))"
   ]
  },
  {
   "cell_type": "code",
   "execution_count": 54,
   "metadata": {
    "collapsed": false
   },
   "outputs": [
    {
     "data": {
      "text/plain": [
       "compute_roots_paso (generic function with 1 method)"
      ]
     },
     "execution_count": 54,
     "metadata": {},
     "output_type": "execute_result"
    }
   ],
   "source": [
    "\"\"\"\n",
    "    compute_roots_paso(f::Function, x0, c)\n",
    "\"\"\"\n",
    "function compute_roots_paso(f::Function, c0, x)\n",
    "            \n",
    "    #roots= Float64[c0]\n",
    "    ci = Dual(c0, 1)\n",
    "\n",
    "            # 1000 iterations of Newton's method\n",
    "    for i in 1:10000\n",
    "\n",
    "        c_2 = realpart(ci) - (realpart(f(x, ci))) / (dualpart(f(x, ci)))\n",
    "        #push!(roots, c_2)\n",
    "        ci = Dual(c_2, 1)\n",
    "    end\n",
    "\n",
    "    #roots\n",
    "    realpart(ci)\n",
    "end"
   ]
  },
  {
   "cell_type": "code",
   "execution_count": 60,
   "metadata": {
    "collapsed": false
   },
   "outputs": [
    {
     "data": {
      "text/plain": [
       "8.881784197001252e-16"
      ]
     },
     "execution_count": 60,
     "metadata": {},
     "output_type": "execute_result"
    }
   ],
   "source": [
    "itera_funcion_anonym(2^2)(0.0, c_superestables[2])"
   ]
  },
  {
   "cell_type": "code",
   "execution_count": 12,
   "metadata": {
    "collapsed": false
   },
   "outputs": [
    {
     "data": {
      "text/plain": [
       "compute_roots (generic function with 1 method)"
      ]
     },
     "execution_count": 12,
     "metadata": {},
     "output_type": "execute_result"
    }
   ],
   "source": [
    "\"\"\"\n",
    "    compute_roots(f::Function, xx, c)\n",
    "    Out: roots\n",
    "\n",
    "xx is an array, cc is the parameter, f is the funtion\n",
    "\n",
    "\"\"\"\n",
    "function compute_roots(f::Function, cc, x)\n",
    "    \n",
    "    roots = similar(cc)\n",
    "\n",
    "    for j in 1:length(cc)\n",
    "            \n",
    "        ci = Dual(cc[j], 1)\n",
    "\n",
    "        for k in 1:10000\n",
    "            c_2 = realpart(ci) - (realpart(f(x, ci))) / (dualpart(f(x, ci))) \n",
    "            ci = Dual(c_2, 1)\n",
    "        end\n",
    "\n",
    "        roots[j] = realpart(ci)\n",
    "        \n",
    "    end\n",
    "    \n",
    "    roots\n",
    "end"
   ]
  },
  {
   "cell_type": "code",
   "execution_count": 14,
   "metadata": {
    "collapsed": false
   },
   "outputs": [
    {
     "data": {
      "text/plain": [
       "delete_equals (generic function with 1 method)"
      ]
     },
     "execution_count": 14,
     "metadata": {},
     "output_type": "execute_result"
    }
   ],
   "source": [
    "function delete_equals(A)\n",
    "\n",
    "    for j  in 1:length(A)\n",
    "        for i  in 1:length(A)\n",
    "\n",
    "            if i == j\n",
    "                \n",
    "                nothing\n",
    "\n",
    "                elseif abs(abs(A[i]) - abs(A[j])) < 1e-5\n",
    "\n",
    "                A[i] = NaN\n",
    "                \n",
    "            end\n",
    "        end\n",
    "    end\n",
    "    \n",
    "    deleteat!(A,find(isnan, A))\n",
    "    \n",
    "end"
   ]
  },
  {
   "cell_type": "code",
   "execution_count": 65,
   "metadata": {
    "collapsed": false
   },
   "outputs": [
    {
     "data": {
      "text/plain": [
       "iterator (generic function with 1 method)"
      ]
     },
     "execution_count": 65,
     "metadata": {},
     "output_type": "execute_result"
    }
   ],
   "source": [
    "function iterator(f::Function, n::Int, k, x0, c)\n",
    "\n",
    "    solution = Float64[]\n",
    "    #steps = Int[0]\n",
    "    x_old = x0\n",
    "    for i in 1:n\n",
    "\n",
    "        x_new = f(x_old, c)\n",
    "        x_old = x_new\n",
    "\n",
    "    end\n",
    "    for i in 1:k\n",
    "        \n",
    "        x_new = f(x_old, c)\n",
    "        push!(solution, x_old)\n",
    "        x_old = x_new\n",
    "\n",
    "    end\n",
    "    \n",
    "    return solution\n",
    "\n",
    "end"
   ]
  },
  {
   "cell_type": "code",
   "execution_count": 187,
   "metadata": {
    "collapsed": false
   },
   "outputs": [
    {
     "data": {
      "text/plain": [
       "check_superstability (generic function with 1 method)"
      ]
     },
     "execution_count": 187,
     "metadata": {},
     "output_type": "execute_result"
    }
   ],
   "source": [
    "function check_superstability(A, n)\n",
    "    \n",
    "    B = Float64[]\n",
    "    \n",
    "    for i in 1:length(A)\n",
    "        \n",
    "        b = itera_funcion_anonym(2^n)(0.0, A[i])\n",
    "        #push!(B, b)\n",
    "        \n",
    "       \n",
    "        if abs(b) < 1e-13\n",
    "            \n",
    "            push!(B, A[i])\n",
    "            \n",
    "        end\n",
    "    end\n",
    "    \n",
    "    B\n",
    "    \n",
    "end"
   ]
  },
  {
   "cell_type": "code",
   "execution_count": 205,
   "metadata": {
    "collapsed": false
   },
   "outputs": [
    {
     "data": {
      "text/plain": [
       "14-element Array{Float64,1}:\n",
       "  0.0    \n",
       " -1.99977\n",
       " -1.94178\n",
       " -1.9722 \n",
       " -1.87   \n",
       " -1.89692\n",
       " -1.85173\n",
       " -1.81   \n",
       " -1.3107 \n",
       " -1.71108\n",
       " -1.38155\n",
       " -1.52182\n",
       " -1.0    \n",
       " -1.96076"
      ]
     },
     "execution_count": 205,
     "metadata": {},
     "output_type": "execute_result"
    }
   ],
   "source": [
    "c_rango = 0.25:-0.001:-1.3\n",
    "c_superestables = compute_roots(itera_funcion_anonym(2^3), c_rango, 0.0) \n",
    "c_superestables = delete_equals(c_superestables)"
   ]
  },
  {
   "cell_type": "code",
   "execution_count": 206,
   "metadata": {
    "collapsed": false
   },
   "outputs": [
    {
     "data": {
      "text/plain": [
       "13-element Array{Float64,1}:\n",
       "  0.0    \n",
       " -1.94178\n",
       " -1.9722 \n",
       " -1.87   \n",
       " -1.89692\n",
       " -1.85173\n",
       " -1.81   \n",
       " -1.3107 \n",
       " -1.71108\n",
       " -1.38155\n",
       " -1.52182\n",
       " -1.0    \n",
       " -1.96076"
      ]
     },
     "execution_count": 206,
     "metadata": {},
     "output_type": "execute_result"
    }
   ],
   "source": [
    "c_superestables = check_superstability(c_superestables, 3)"
   ]
  },
  {
   "cell_type": "code",
   "execution_count": 207,
   "metadata": {
    "collapsed": false
   },
   "outputs": [
    {
     "data": {
      "text/plain": [
       "13-element Array{Float64,1}:\n",
       "  0.0    \n",
       " -1.0    \n",
       " -1.3107 \n",
       " -1.38155\n",
       " -1.52182\n",
       " -1.71108\n",
       " -1.81   \n",
       " -1.85173\n",
       " -1.87   \n",
       " -1.89692\n",
       " -1.94178\n",
       " -1.96076\n",
       " -1.9722 "
      ]
     },
     "execution_count": 207,
     "metadata": {},
     "output_type": "execute_result"
    }
   ],
   "source": [
    "c_superestables = sort(c_superestables, rev=true)"
   ]
  },
  {
   "cell_type": "code",
   "execution_count": 208,
   "metadata": {
    "collapsed": false
   },
   "outputs": [
    {
     "data": {
      "text/plain": [
       "11-element Array{Float64,1}:\n",
       " 3.21851 \n",
       " 4.38568 \n",
       " 0.505061\n",
       " 0.74114 \n",
       " 1.91325 \n",
       " 2.3706  \n",
       " 2.28352 \n",
       " 0.678968\n",
       " 0.599903\n",
       " 2.36414 \n",
       " 1.6587  "
      ]
     },
     "execution_count": 208,
     "metadata": {},
     "output_type": "execute_result"
    }
   ],
   "source": [
    "feigenbaum_const(c_superestables)"
   ]
  },
  {
   "cell_type": "code",
   "execution_count": null,
   "metadata": {
    "collapsed": true
   },
   "outputs": [],
   "source": []
  }
 ],
 "metadata": {
  "kernelspec": {
   "display_name": "Julia 0.4.6",
   "language": "julia",
   "name": "julia-0.4"
  },
  "language_info": {
   "file_extension": ".jl",
   "mimetype": "application/julia",
   "name": "julia",
   "version": "0.4.6"
  }
 },
 "nbformat": 4,
 "nbformat_minor": 1
}
