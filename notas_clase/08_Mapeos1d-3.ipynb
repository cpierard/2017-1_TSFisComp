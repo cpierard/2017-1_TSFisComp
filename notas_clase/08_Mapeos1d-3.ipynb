{
 "cells": [
  {
   "cell_type": "markdown",
   "metadata": {},
   "source": [
    "# La ruta al caos de doblamiento de periodo"
   ]
  },
  {
   "cell_type": "markdown",
   "metadata": {},
   "source": [
    "## Más allá del atractor de periodo 2"
   ]
  },
  {
   "cell_type": "markdown",
   "metadata": {},
   "source": [
    "En el notebook anterior, vimos que en la familia de mapeos cuadrática $Q_c(x) = x^2+c$ hay *al menos* dos bifurcaciones que ocurren. \n",
    "\n",
    "- Para $c>1/4$, no hay puntos fijos en el mapeo, y que para $c<1/4$ hay dos que, para valores de $c$ suficientemente cercanos a $c=1/4$ corresponden a un atractor y a un repulsor. Esta bifurcación es la de silla-nodo.\n",
    "\n",
    "- Para $c<-3/4$ vimos que el punto fijo atractor se torna repulsor y *aparecen* dos puntos periódicos, de periodo 2, que son atractores. La bifurcación que ocurre en $c=-3/4$ es la que se llama la bifurcación de doblamiento de periodo.\n",
    "\n",
    "- Además, vimos que para $c<-5/4$ los dos puntos del ciclo de periodo dos se tornan repulsores."
   ]
  },
  {
   "cell_type": "markdown",
   "metadata": {},
   "source": [
    "El ejercicio 2 del notebook anterior trataba de explorar los detalles de lo que pasaba en el intervalo $-2\\le c<1/4$ de manera íntegra. La razón por la que nos concentramos en el intervalo con $1/4\\ge c\\ge -2$ es que, en este caso el intervalo de $x$ $I=[-2,2]$ se mapea sobre sí mismo.\n",
    "\n",
    "Ahora esbozaremos una posible implementación de ese ejercicio. Una sutilezaes que utilizaremos como condición inicial a $x_0=0$. Vale la pena notar que este punto tiene una peculiaridad: $Q_c'(0)=0$ (y $Q_c''(0)\\neq 0$). Esto es, $x_0=0$ es un punto crítico de $Q_c(x)$."
   ]
  },
  {
   "cell_type": "code",
   "execution_count": 1,
   "metadata": {
    "collapsed": false
   },
   "outputs": [
    {
     "data": {
      "text/plain": [
       "ciclosestables! (generic function with 1 method)"
      ]
     },
     "execution_count": 1,
     "metadata": {},
     "output_type": "execute_result"
    }
   ],
   "source": [
    "\"\"\"\n",
    "    ciclosestables!(xx, f, nit, nout, cc)\n",
    "\n",
    "Esta función itera el mapeo `f`, de una variable, `nit+nout` veces, \n",
    "usando como condición inicial `x0=0`; los últimos `nout` iterados \n",
    "actualizan al vector `xx` que tiene longitud `nout`. `cc` es el valor\n",
    "del parámetro del mapeo `f`. El mapeo `f` debe ser definido de \n",
    "tal manera que `f(x0,cc)` tenga sentido. La idea es los últimos \n",
    "`nout` iterados reflejen los ciclos estables del mapeo `f`. \n",
    "\"\"\"\n",
    "function ciclosestables!(xx, f, nit, nout, cc)\n",
    "    @assert nit > 0 && nout > 0\n",
    "    \n",
    "    # Primeros nit iterados\n",
    "    x0 = 0.0\n",
    "    for it = 1:nit\n",
    "        x0 = f(x0, cc)\n",
    "    end\n",
    "    \n",
    "    # Se guardan los siguientes nout iterados\n",
    "    for it = 1:nout\n",
    "        x0 = f(x0, cc)\n",
    "        @inbounds xx[it] = x0\n",
    "    end\n",
    "    \n",
    "    return nothing\n",
    "end"
   ]
  },
  {
   "cell_type": "code",
   "execution_count": 2,
   "metadata": {
    "collapsed": false
   },
   "outputs": [
    {
     "data": {
      "text/plain": [
       "diagbifurc (generic function with 1 method)"
      ]
     },
     "execution_count": 2,
     "metadata": {},
     "output_type": "execute_result"
    }
   ],
   "source": [
    "\"\"\"\n",
    "    diagbifurc(f, nit, nout, crange)\n",
    "\n",
    "Itera el mapeo `f` `nit+nout` veces y regresa una matriz\n",
    "cuya columna `i` tiene los últimos `nout` iterados del mapeo\n",
    "para el valor del parámetro del mapeo `crange[i]`.\n",
    "\n",
    "La función `f` debe ser definida de tal manera que `f(x0, c)` \n",
    "tenga sentido.\n",
    "\"\"\"\n",
    "function diagbifurc(f, nit, nout, crange)\n",
    "    xx = Vector{Float64}(nout)\n",
    "    ff = Array{Float64,2}(nout, length(crange))\n",
    "    \n",
    "    for ic in eachindex(crange)\n",
    "        c = crange[ic]\n",
    "        ciclosestables!(xx, f, nit, nout, c)\n",
    "        ff[:,ic] = xx\n",
    "    end\n",
    "    \n",
    "    return ff\n",
    "end"
   ]
  },
  {
   "cell_type": "code",
   "execution_count": 3,
   "metadata": {
    "collapsed": false
   },
   "outputs": [],
   "source": [
    "Qc(x,c) = x^2 + c\n",
    "\n",
    "crange = 0.25:-1/2^10:-2.0\n",
    "\n",
    "ff = diagbifurc(Qc, 1000, 256, crange); \n",
    "cc = ones(size(ff)[1])*crange';\n",
    "\n",
    "# Esto cambia las matrices en vectores; ayuda un poco para los dibujos\n",
    "ff = reshape(ff, size(ff)[1]*size(ff)[2]);\n",
    "cc = reshape(cc, size(ff));"
   ]
  },
  {
   "cell_type": "code",
   "execution_count": 4,
   "metadata": {
    "collapsed": false
   },
   "outputs": [
    {
     "data": {
      "text/plain": [
       "590080-element Array{Float64,1}:\n",
       " 0.49901 \n",
       " 0.499011\n",
       " 0.499012\n",
       " 0.499013\n",
       " 0.499014\n",
       " 0.499014\n",
       " 0.499015\n",
       " 0.499016\n",
       " 0.499017\n",
       " 0.499018\n",
       " 0.499019\n",
       " 0.49902 \n",
       " 0.499021\n",
       " ⋮       \n",
       " 2.0     \n",
       " 2.0     \n",
       " 2.0     \n",
       " 2.0     \n",
       " 2.0     \n",
       " 2.0     \n",
       " 2.0     \n",
       " 2.0     \n",
       " 2.0     \n",
       " 2.0     \n",
       " 2.0     \n",
       " 2.0     "
      ]
     },
     "execution_count": 4,
     "metadata": {},
     "output_type": "execute_result"
    }
   ],
   "source": [
    "ff"
   ]
  },
  {
   "cell_type": "code",
   "execution_count": 5,
   "metadata": {
    "collapsed": false
   },
   "outputs": [
    {
     "data": {
      "text/plain": [
       "590080-element Array{Float64,1}:\n",
       "  0.25\n",
       "  0.25\n",
       "  0.25\n",
       "  0.25\n",
       "  0.25\n",
       "  0.25\n",
       "  0.25\n",
       "  0.25\n",
       "  0.25\n",
       "  0.25\n",
       "  0.25\n",
       "  0.25\n",
       "  0.25\n",
       "  ⋮   \n",
       " -2.0 \n",
       " -2.0 \n",
       " -2.0 \n",
       " -2.0 \n",
       " -2.0 \n",
       " -2.0 \n",
       " -2.0 \n",
       " -2.0 \n",
       " -2.0 \n",
       " -2.0 \n",
       " -2.0 \n",
       " -2.0 "
      ]
     },
     "execution_count": 5,
     "metadata": {},
     "output_type": "execute_result"
    }
   ],
   "source": [
    "cc"
   ]
  },
  {
   "cell_type": "code",
   "execution_count": 6,
   "metadata": {
    "collapsed": false
   },
   "outputs": [],
   "source": [
    "using PyPlot"
   ]
  },
  {
   "cell_type": "code",
   "execution_count": 7,
   "metadata": {
    "collapsed": false
   },
   "outputs": [
    {
     "data": {
      "image/png": "[encoded data removed]",
      "text/plain": [
       "PyPlot.Figure(PyObject <matplotlib.figure.Figure object at 0x32001a2d0>)"
      ]
     },
     "metadata": {},
     "output_type": "display_data"
    },
    {
     "data": {
      "text/plain": [
       "PyObject <matplotlib.text.Text object at 0x320126910>"
      ]
     },
     "execution_count": 7,
     "metadata": {},
     "output_type": "execute_result"
    }
   ],
   "source": [
    "figure(figsize=(6,4))\n",
    "plot(cc, ff, \"b,\")\n",
    "plot([-1.2,-1.5,-1.5,-1.2,-1.2],[-1.5,-1.5,-0.9,-0.9,-1.5], \"k-\")\n",
    "plot([-2,0.5],[0.0,0.0], \"r-\")\n",
    "xlabel(L\"c\")\n",
    "ylabel(L\"x_\\infty\")\n",
    "title(\"Fig. 1\")"
   ]
  },
  {
   "cell_type": "markdown",
   "metadata": {},
   "source": [
    "Es muy claro de este diagrama, Fig. 1, que la dinámica se vuelve rica e interesante a medida que uno disminuye el parámetro $c$ más allá de -5/4."
   ]
  },
  {
   "cell_type": "code",
   "execution_count": 8,
   "metadata": {
    "collapsed": false
   },
   "outputs": [
    {
     "data": {
      "image/png": "[encoded data removed]",
      "text/plain": [
       "PyPlot.Figure(PyObject <matplotlib.figure.Figure object at 0x320180050>)"
      ]
     },
     "metadata": {},
     "output_type": "display_data"
    },
    {
     "data": {
      "text/plain": [
       "1-element Array{Any,1}:\n",
       " PyObject <matplotlib.lines.Line2D object at 0x321ceb150>"
      ]
     },
     "execution_count": 8,
     "metadata": {},
     "output_type": "execute_result"
    }
   ],
   "source": [
    "figure(figsize=(6,4))\n",
    "plot(cc, ff, \"b,\")\n",
    "xlabel(L\"c\")\n",
    "ylabel(L\"x_\\infty\")\n",
    "title(\"Fig. 2\")\n",
    "xlim(-1.5,-1.2)\n",
    "ylim(-1.5,-0.9)\n",
    "plot([-1.35,-1.425,-1.425,-1.35,-1.35],\n",
    "     [-1.425,-1.425,-1.33,-1.33,-1.425], \"k-\")"
   ]
  },
  {
   "cell_type": "markdown",
   "metadata": {},
   "source": [
    "La Fig. 2 muestra el aumento indicado en la Fig. 1. Ahí se muestra que después del reescalamiento se obtiene la misma estructura que la gráfica completa. La curva suave de la derecha corresponde en este caso a una de las ramas de periodo 2.\n",
    "\n",
    "Además, en el intervalo $-1.5\\le c \\le -1$ podemos ver que en $c=-5/4$ *otra* bifurcación de doblamiento de periodo ocurre. A partir de ese valor, la órbita de periodo 2 se torna en un repulsor y aparece una órbita de periodo 4 atractiva. \n",
    "\n",
    "Este escenario se preserva hasta cierto valor de $c$ donde la órbita de periodo 4 se vuelve inestable (repulsiva), y aparece un ciclo de periodo 8. De hecho, la figura muestra que *antes* de $c=-1.4$, aparece un ciclo estable de periodo 16."
   ]
  },
  {
   "cell_type": "markdown",
   "metadata": {
    "collapsed": true
   },
   "source": [
    "Claramente estamos observando una cascada de bifurcaciones de doblamiento de periodo. Esto es, al disminuir $c$ \n",
    "los puntos periódicos aparecen en el orden: $1, 2, 4, 8, \\dots, 2^n, \\dots$. Además, los intervalos en $c$ donde el periodo $2^n$ se observa, son mayores que donde se observa el periodo $2^{n+1}$."
   ]
  },
  {
   "cell_type": "markdown",
   "metadata": {},
   "source": [
    "Aumentos sucesivos muestran la veracidad de esto, aunque para tener suficientes puntos hay que hacer nuevos cálculos. En la Fig. 3, que corresponde al recuadro indicado en la Fig. 2, la curva de la derecha corresponde a una de las ramas del ciclo de periodo 4."
   ]
  },
  {
   "cell_type": "code",
   "execution_count": 9,
   "metadata": {
    "collapsed": false
   },
   "outputs": [],
   "source": [
    "crange = -1.35:-1/2^13:-1.425\n",
    "\n",
    "ff1 = diagbifurc(Qc, 1200, 512, crange); \n",
    "cc1 = ones(size(ff1)[1])*crange';\n",
    "\n",
    "ff1 = reshape(ff1, size(ff1)[1]*size(ff1)[2]);\n",
    "cc1 = reshape(cc1, size(ff1));"
   ]
  },
  {
   "cell_type": "code",
   "execution_count": 10,
   "metadata": {
    "collapsed": false
   },
   "outputs": [
    {
     "data": {
      "image/png": "[encoded data removed]",
      "text/plain": [
       "PyPlot.Figure(PyObject <matplotlib.figure.Figure object at 0x321cddc10>)"
      ]
     },
     "metadata": {},
     "output_type": "display_data"
    },
    {
     "data": {
      "text/plain": [
       "(-1.425,-1.33)"
      ]
     },
     "execution_count": 10,
     "metadata": {},
     "output_type": "execute_result"
    }
   ],
   "source": [
    "figure(figsize=(6,4))\n",
    "plot(cc1, ff1, \"b,\")\n",
    "xlabel(L\"c\")\n",
    "ylabel(L\"x_\\infty\")\n",
    "title(\"Fig. 3\")\n",
    "xlim(-1.425,-1.35)\n",
    "ylim(-1.425,-1.33)"
   ]
  },
  {
   "cell_type": "markdown",
   "metadata": {},
   "source": [
    "En estas figuras uno puede observar ciertas regiones donde, en algún sentido, aparecen (nuevamente) ventanas de baja periodicidad, pero cuyo periodo **no** es de la forma $2^n$, aunque está seguido de otra casada de bifurcaciones de doblamiento de periodo. Un ejemplo notable es la ventana de *periodo 3*. Como veremos más adelante, la existencia de periodo 3 implica caos."
   ]
  },
  {
   "cell_type": "markdown",
   "metadata": {},
   "source": [
    "La observación de que los intervalos en $c$ donde se observa cierta periodicidad *disminuyen* al aumentar la periodicidad (respetando el doblamiento de periodo), lleva a la pregunta si hay una $c$ donde se observe un periodo *infinito*."
   ]
  },
  {
   "cell_type": "markdown",
   "metadata": {},
   "source": [
    "## Tarea 4"
   ]
  },
  {
   "cell_type": "markdown",
   "metadata": {},
   "source": [
    "**Ejercicio 1:**\n",
    "\n",
    "Llamemos $c_n$ el valor del parámetro $c$ donde ocurre la bifurcación de doblamiento de periodo para el mapeo $Q_c(x)$, donde la órbita de periodo $2^n$ nace. Es decir, tenemos que $c_0=1/4$ marca la aparición del atractor de periodo $2^0=1$, $c_1=-1/4$ corresponde a la aparición del atractor de periodo $2^1=2$, $c_2=-3/4$ a la aparición del atractor de periodo $2^2=4$, etc. \n",
    "\n",
    "A partir de estos valores y otros que calcularán (al menos deben encontrar $c_6$), definimos la secuencia: $\\{f_0, f_1, f_2, \\dots\\}$, donde\n",
    "\n",
    "\\begin{equation}\n",
    "f_n = \\frac{c_n-c_{n+1}}{c_{n+1}-c_{n+2}} .\n",
    "\\end{equation}\n",
    "\n",
    "La pregunta es, ¿a qué valor converge esta secuencia?, es decir, dar una estimación de $f_\\infty$.\n",
    "\n",
    "*Hint:* Para realizar este ejercicio deben calcular el atractor para varias valores de $c$, de tal manera que puedan aislar las órbitas de periodo $2^p$ y de ahí determinar varios valores $c_n$. Sin embargo, van a requerir suficiente cuidado para obtener una buena aproximación de $c_n$. \n",
    "\n",
    "Una opción, que tiene ciertos inconvenientes numéricos que también ciertas ventajas se basa en recordar/usar que las bifurcaciones de doblamiento de periodo ocurren cuando los puntos de la órbita de periodo $p$ se tornan en repulsores, es decir, $(Q_c^p)'(x)=-1$. Esta opción, entonces, involucra obtener los valores $c_n$ usando los polinomios $Q_c^p(x)$ y diferenciación automática."
   ]
  },
  {
   "cell_type": "code",
   "execution_count": 11,
   "metadata": {
    "collapsed": true
   },
   "outputs": [],
   "source": [
    "using DualNumbers"
   ]
  },
  {
   "cell_type": "code",
   "execution_count": 12,
   "metadata": {
    "collapsed": false
   },
   "outputs": [
    {
     "data": {
      "text/plain": [
       "1 + 1ɛ"
      ]
     },
     "execution_count": 12,
     "metadata": {},
     "output_type": "execute_result"
    }
   ],
   "source": [
    "a_dual = Dual(1, 1)"
   ]
  },
  {
   "cell_type": "code",
   "execution_count": 13,
   "metadata": {
    "collapsed": false
   },
   "outputs": [
    {
     "data": {
      "text/plain": [
       "2"
      ]
     },
     "execution_count": 13,
     "metadata": {},
     "output_type": "execute_result"
    }
   ],
   "source": [
    "dualpart(Qc(a_dual, 0))"
   ]
  },
  {
   "cell_type": "code",
   "execution_count": 14,
   "metadata": {
    "collapsed": false
   },
   "outputs": [
    {
     "data": {
      "text/plain": [
       "256x2305 Array{Float64,2}:\n",
       " 0.25  0.249023  0.248047  0.24707  …  -1.99707  -1.99805  -1.99902  -2.0\n",
       " 0.25  0.249023  0.248047  0.24707     -1.99707  -1.99805  -1.99902  -2.0\n",
       " 0.25  0.249023  0.248047  0.24707     -1.99707  -1.99805  -1.99902  -2.0\n",
       " 0.25  0.249023  0.248047  0.24707     -1.99707  -1.99805  -1.99902  -2.0\n",
       " 0.25  0.249023  0.248047  0.24707     -1.99707  -1.99805  -1.99902  -2.0\n",
       " 0.25  0.249023  0.248047  0.24707  …  -1.99707  -1.99805  -1.99902  -2.0\n",
       " 0.25  0.249023  0.248047  0.24707     -1.99707  -1.99805  -1.99902  -2.0\n",
       " 0.25  0.249023  0.248047  0.24707     -1.99707  -1.99805  -1.99902  -2.0\n",
       " 0.25  0.249023  0.248047  0.24707     -1.99707  -1.99805  -1.99902  -2.0\n",
       " 0.25  0.249023  0.248047  0.24707     -1.99707  -1.99805  -1.99902  -2.0\n",
       " 0.25  0.249023  0.248047  0.24707  …  -1.99707  -1.99805  -1.99902  -2.0\n",
       " 0.25  0.249023  0.248047  0.24707     -1.99707  -1.99805  -1.99902  -2.0\n",
       " 0.25  0.249023  0.248047  0.24707     -1.99707  -1.99805  -1.99902  -2.0\n",
       " ⋮                                  ⋱                                    \n",
       " 0.25  0.249023  0.248047  0.24707     -1.99707  -1.99805  -1.99902  -2.0\n",
       " 0.25  0.249023  0.248047  0.24707  …  -1.99707  -1.99805  -1.99902  -2.0\n",
       " 0.25  0.249023  0.248047  0.24707     -1.99707  -1.99805  -1.99902  -2.0\n",
       " 0.25  0.249023  0.248047  0.24707     -1.99707  -1.99805  -1.99902  -2.0\n",
       " 0.25  0.249023  0.248047  0.24707     -1.99707  -1.99805  -1.99902  -2.0\n",
       " 0.25  0.249023  0.248047  0.24707     -1.99707  -1.99805  -1.99902  -2.0\n",
       " 0.25  0.249023  0.248047  0.24707  …  -1.99707  -1.99805  -1.99902  -2.0\n",
       " 0.25  0.249023  0.248047  0.24707     -1.99707  -1.99805  -1.99902  -2.0\n",
       " 0.25  0.249023  0.248047  0.24707     -1.99707  -1.99805  -1.99902  -2.0\n",
       " 0.25  0.249023  0.248047  0.24707     -1.99707  -1.99805  -1.99902  -2.0\n",
       " 0.25  0.249023  0.248047  0.24707     -1.99707  -1.99805  -1.99902  -2.0\n",
       " 0.25  0.249023  0.248047  0.24707  …  -1.99707  -1.99805  -1.99902  -2.0"
      ]
     },
     "execution_count": 14,
     "metadata": {},
     "output_type": "execute_result"
    }
   ],
   "source": [
    "Qc(x,c) = x^2 + c\n",
    "\n",
    "crange = 0.25:-1/2^10:-2.0\n",
    "\n",
    "ff = diagbifurc(Qc, 1000, 256, crange); \n",
    "cc = ones(size(ff)[1])*crange';\n",
    "\n",
    "cc"
   ]
  },
  {
   "cell_type": "code",
   "execution_count": 15,
   "metadata": {
    "collapsed": false
   },
   "outputs": [
    {
     "data": {
      "text/plain": [
       "2305"
      ]
     },
     "execution_count": 15,
     "metadata": {},
     "output_type": "execute_result"
    }
   ],
   "source": [
    "length(cc[1,:])"
   ]
  },
  {
   "cell_type": "code",
   "execution_count": 16,
   "metadata": {
    "collapsed": false
   },
   "outputs": [
    {
     "data": {
      "text/plain": [
       "-1.4306640625"
      ]
     },
     "execution_count": 16,
     "metadata": {},
     "output_type": "execute_result"
    }
   ],
   "source": [
    "for i in 1:length(ff[1,:])\n",
    "    \n",
    "    a_dual = Dual(ff[end, i], ff[end, i])\n",
    "    \n",
    "    der_eval = dualpart(Qc(a_dual, cc[1, i]))\n",
    "    \n",
    "    if 2*abs(der_eval) > 1 \n",
    "        \n",
    "        return cc[1, i]\n",
    "        break\n",
    "        \n",
    "    end\n",
    "    \n",
    "end"
   ]
  },
  {
   "cell_type": "markdown",
   "metadata": {},
   "source": [
    "**Ejercicio 2:**\n",
    "\n",
    "Repitan el ejercicio anterior para el mapeo $S_c(x) = c \\sin(x)$. ¿Cómo se comparan los valores obtenidos de $f_n$?"
   ]
  },
  {
   "cell_type": "code",
   "execution_count": null,
   "metadata": {
    "collapsed": true
   },
   "outputs": [],
   "source": []
  },
  {
   "cell_type": "markdown",
   "metadata": {},
   "source": [
    "**Ejercicio 3:**\n",
    "\n",
    "Como se ve en la Fig. 1, $x=0$ pertenece a un ciclo de periodo $2^n$ para ciertos valores $C_n$ del parámetro. Dichos valores son *especiales*, ya que $x=0$ esté en el ciclo de periodo $2^n$ marca los llamados *ciclos superestable*, donde tenemos $(Q^{2^p}_{C_n})'(0)=0$.\n",
    "\n",
    "¿A qué converge la secuencia $f_n$, definida ahora con los valores $C_n$.\n",
    "\n",
    "De los $2^p$ puntos del ciclo de periodo $2^p$, es decir, $\\{0, p_1, \\dots p_{2^{n-1}}\\,\\}$ hay uno (distinto del 0) cuya distancia a 0 es menor; a ese punto lo identificamos como $d_n$. Calcular numéricamente a dónde converge la secuencia $d_n/d_{n+1}$."
   ]
  },
  {
   "cell_type": "code",
   "execution_count": null,
   "metadata": {
    "collapsed": true
   },
   "outputs": [],
   "source": []
  },
  {
   "cell_type": "markdown",
   "metadata": {},
   "source": [
    "### Notas después de las observaciones de Luis"
   ]
  },
  {
   "cell_type": "code",
   "execution_count": 97,
   "metadata": {
    "collapsed": false
   },
   "outputs": [
    {
     "data": {
      "text/plain": [
       "find_bifurcation (generic function with 1 method)"
      ]
     },
     "execution_count": 97,
     "metadata": {},
     "output_type": "execute_result"
    }
   ],
   "source": [
    "function find_bifurcation(ff, cc)     \n",
    "\n",
    "    Derivadas = []\n",
    "    \n",
    "    for i in 1:length(ff[1,:])\n",
    "\n",
    "        a_dual = Dual(ff[1, i], ff[1, i])\n",
    "        b_dual = Dual(ff[2, i], ff[2, i])\n",
    "\n",
    "        der_eval_a = dualpart(Qc(a_dual, cc[1, i]))\n",
    "        der_eval_b = dualpart(Qc(b_dual, cc[1, i]))\n",
    "\n",
    "        a = [abs(der_eval_a) , abs(der_eval_a * der_eval_b)]\n",
    "        push!(Derivadas, a)\n",
    "       \n",
    "    end\n",
    "    \n",
    "    Derivadas\n",
    "end"
   ]
  },
  {
   "cell_type": "code",
   "execution_count": 101,
   "metadata": {
    "collapsed": false
   },
   "outputs": [
    {
     "data": {
      "text/plain": [
       "cuenta_bif (generic function with 1 method)"
      ]
     },
     "execution_count": 101,
     "metadata": {},
     "output_type": "execute_result"
    }
   ],
   "source": [
    "function cuenta_bif(A)\n",
    "\n",
    "    bif = 0\n",
    "    \n",
    "    for i in 1:length(A)\n",
    "\n",
    "\n",
    "        if abs(A[i][1]) > 1 #&& abs(A[i][1] * A[i][2]) < 1\n",
    "\n",
    "            bif +=1\n",
    "\n",
    "        end\n",
    "\n",
    "    end\n",
    "    \n",
    "    return bif\n",
    "end"
   ]
  },
  {
   "cell_type": "code",
   "execution_count": 102,
   "metadata": {
    "collapsed": true
   },
   "outputs": [],
   "source": [
    "Qc(x,c) = x^2 + c\n",
    "\n",
    "crange = 0.25:-1/2^10:-1.0\n",
    "\n",
    "ff = diagbifurc(Qc, 10000, 2, crange); \n",
    "cc = ones(size(ff)[1])*crange';"
   ]
  },
  {
   "cell_type": "code",
   "execution_count": 104,
   "metadata": {
    "collapsed": false
   },
   "outputs": [
    {
     "data": {
      "text/plain": [
       "1281-element Array{Any,1}:\n",
       " [0.49980025925512195,0.24980030912159396]  \n",
       " [0.43945312499999895,0.1931190490722647]   \n",
       " [0.4155179023516807,0.17265512717474085]   \n",
       " [0.3976061995269445,0.15809068990226038]   \n",
       " [0.3828124999999996,0.1465454101562497]    \n",
       " [0.37001137640626275,0.13690841867005704]  \n",
       " [0.35862564107605094,0.1286123504372085]   \n",
       " [0.34831241805846275,0.12132154057373333]  \n",
       " [0.33884830470336286,0.11481817360034303]  \n",
       " [0.33007812499999983,0.10895156860351551]  \n",
       " [0.321888896239476,0.10361246152226813]    \n",
       " [0.31419532560278723,0.09871870263064149]  \n",
       " [0.30693114905389,0.09420673025954125]     \n",
       " ⋮                                          \n",
       " [1.956795365156158,0.00046157836914062294] \n",
       " [1.9607429463348827,0.0003814697265624984] \n",
       " [1.9646864778438569,0.0003089904785156276] \n",
       " [1.9686259842514764,0.00024414062499999962]\n",
       " [1.9725614898787187,0.00018692016601562617]\n",
       " [1.9764930188026186,0.00013732910156249797]\n",
       " [1.9804205948596787,9.536743164062543e-5]  \n",
       " [1.9843442416492214,6.1035156250001e-5]    \n",
       " [1.9882639825366792,3.4332275390623895e-5] \n",
       " [1.9921798406568267,1.5258789062499775e-5] \n",
       " [1.996091838916957,3.8146972656247145e-6]  \n",
       " [2.0,0.0]                                  "
      ]
     },
     "execution_count": 104,
     "metadata": {},
     "output_type": "execute_result"
    }
   ],
   "source": [
    "V = find_bifurcation(ff, cc)"
   ]
  },
  {
   "cell_type": "code",
   "execution_count": 74,
   "metadata": {
    "collapsed": false
   },
   "outputs": [
    {
     "data": {
      "text/plain": [
       "0"
      ]
     },
     "execution_count": 74,
     "metadata": {},
     "output_type": "execute_result"
    }
   ],
   "source": [
    "cuenta_bif(V)"
   ]
  },
  {
   "cell_type": "code",
   "execution_count": 29,
   "metadata": {
    "collapsed": false
   },
   "outputs": [
    {
     "data": {
      "text/plain": [
       "prueba (generic function with 1 method)"
      ]
     },
     "execution_count": 29,
     "metadata": {},
     "output_type": "execute_result"
    }
   ],
   "source": [
    "function prueba(i)\n",
    "    \n",
    "    a_dual = Dual(ff[end, i], ff[end, i])\n",
    "    b_dual = Dual(ff[end-1, i], ff[end-1, i])\n",
    "\n",
    "    der_eval_a = dualpart(Qc(a_dual, cc[1, i]))\n",
    "    der_eval_b = dualpart(Qc(b_dual, cc[1, i]))\n",
    "\n",
    "    return abs(der_eval_a) , abs(der_eval_a * der_eval_b)\n",
    "\n",
    "end"
   ]
  },
  {
   "cell_type": "code",
   "execution_count": 30,
   "metadata": {
    "collapsed": false
   },
   "outputs": [
    {
     "data": {
      "text/plain": [
       "(0.49842011028476657,0.24842198331044238)"
      ]
     },
     "execution_count": 30,
     "metadata": {},
     "output_type": "execute_result"
    }
   ],
   "source": [
    "prueba(1)"
   ]
  },
  {
   "cell_type": "code",
   "execution_count": null,
   "metadata": {
    "collapsed": true
   },
   "outputs": [],
   "source": []
  },
  {
   "cell_type": "code",
   "execution_count": 24,
   "metadata": {
    "collapsed": false
   },
   "outputs": [
    {
     "data": {
      "text/plain": [
       "nombre (generic function with 1 method)"
      ]
     },
     "execution_count": 24,
     "metadata": {},
     "output_type": "execute_result"
    }
   ],
   "source": [
    "nombre(n::Int) = symbol( string(\"F_\", n) )"
   ]
  },
  {
   "cell_type": "code",
   "execution_count": 25,
   "metadata": {
    "collapsed": false
   },
   "outputs": [
    {
     "data": {
      "text/plain": [
       ":F_3"
      ]
     },
     "execution_count": 25,
     "metadata": {},
     "output_type": "execute_result"
    }
   ],
   "source": [
    "nombre(3)"
   ]
  },
  {
   "cell_type": "code",
   "execution_count": null,
   "metadata": {
    "collapsed": true
   },
   "outputs": [],
   "source": [
    "function itera_func(n::Int)\n",
    "    # Checo que `n` sea >= 1\n",
    "    @assert n ≥ 1   # ≥ se obtiene con \\ge<TAB>\n",
    "    \n",
    "    ex = :(x^2-1)\n",
    "    for i = 2:n\n",
    "        ex = :( ($ex) * ( x-$i) )\n",
    "    end\n",
    "    ex_ret = :( $(nombre(n))(x) = $ex )\n",
    "    ex_ret\n",
    "end"
   ]
  },
  {
   "cell_type": "code",
   "execution_count": null,
   "metadata": {
    "collapsed": true
   },
   "outputs": [],
   "source": []
  }
 ],
 "metadata": {
  "kernelspec": {
   "display_name": "Julia 0.4.6",
   "language": "julia",
   "name": "julia-0.4"
  },
  "language_info": {
   "file_extension": ".jl",
   "mimetype": "application/julia",
   "name": "julia",
   "version": "0.4.6"
  }
 },
 "nbformat": 4,
 "nbformat_minor": 1
}
