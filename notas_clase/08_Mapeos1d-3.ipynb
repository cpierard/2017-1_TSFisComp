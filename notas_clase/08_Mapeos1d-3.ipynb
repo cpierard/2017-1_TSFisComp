{
 "cells": [
  {
   "cell_type": "markdown",
   "metadata": {},
   "source": [
    "# La ruta al caos de doblamiento de periodo"
   ]
  },
  {
   "cell_type": "markdown",
   "metadata": {},
   "source": [
    "## Más allá del atractor de periodo 2"
   ]
  },
  {
   "cell_type": "markdown",
   "metadata": {},
   "source": [
    "En el notebook anterior, vimos que en la familia de mapeos cuadrática $Q_c(x) = x^2+c$ hay *al menos* dos bifurcaciones que ocurren. \n",
    "\n",
    "- Para $c>1/4$, no hay puntos fijos en el mapeo, y que para $c<1/4$ hay dos que, para valores de $c$ suficientemente cercanos a $c=1/4$ corresponden a un atractor y a un repulsor. Esta bifurcación es la de silla-nodo.\n",
    "\n",
    "- Para $c<-3/4$ vimos que el punto fijo atractor se torna repulsor y *aparecen* dos puntos periódicos, de periodo 2, que son atractores. La bifurcación que ocurre en $c=-3/4$ es la que se llama la bifurcación de doblamiento de periodo.\n",
    "\n",
    "- Además, vimos que para $c<-5/4$ los dos puntos del ciclo de periodo dos se tornan repulsores."
   ]
  },
  {
   "cell_type": "markdown",
   "metadata": {},
   "source": [
    "El ejercicio 2 del notebook anterior trataba de explorar los detalles de lo que pasaba en el intervalo $-2\\le c<1/4$ de manera íntegra. La razón por la que nos concentramos en el intervalo con $1/4\\ge c\\ge -2$ es que, en este caso el intervalo de $x$ $I=[-2,2]$ se mapea sobre sí mismo.\n",
    "\n",
    "Ahora esbozaremos una posible implementación de ese ejercicio. Una sutilezaes que utilizaremos como condición inicial a $x_0=0$. Vale la pena notar que este punto tiene una peculiaridad: $Q_c'(0)=0$ (y $Q_c''(0)\\neq 0$). Esto es, $x_0=0$ es un punto crítico de $Q_c(x)$."
   ]
  },
  {
   "cell_type": "code",
   "execution_count": 3,
   "metadata": {
    "collapsed": false
   },
   "outputs": [
    {
     "data": {
      "text/plain": [
       "ciclosestables! (generic function with 1 method)"
      ]
     },
     "execution_count": 3,
     "metadata": {},
     "output_type": "execute_result"
    }
   ],
   "source": [
    "\"\"\"\n",
    "    ciclosestables!(xx, f, nit, nout, cc)\n",
    "\n",
    "Esta función itera el mapeo `f`, de una variable, `nit+nout` veces, \n",
    "usando como condición inicial `x0=0`; los últimos `nout` iterados \n",
    "actualizan al vector `xx` que tiene longitud `nout`. `cc` es el valor\n",
    "del parámetro del mapeo `f`. El mapeo `f` debe ser definido de \n",
    "tal manera que `f(x0,cc)` tenga sentido. La idea es los últimos \n",
    "`nout` iterados reflejen los ciclos estables del mapeo `f`. \n",
    "\"\"\"\n",
    "function ciclosestables!(xx, f, nit, nout, cc)\n",
    "    @assert nit > 0 && nout > 0\n",
    "    \n",
    "    # Primeros nit iterados\n",
    "    x0 = 0.0\n",
    "    for it = 1:nit\n",
    "        x0 = f(x0, cc)\n",
    "    end\n",
    "    \n",
    "    # Se guardan los siguientes nout iterados\n",
    "    for it = 1:nout\n",
    "        x0 = f(x0, cc)\n",
    "        @inbounds xx[it] = x0\n",
    "    end\n",
    "    \n",
    "    return nothing\n",
    "end"
   ]
  },
  {
   "cell_type": "code",
   "execution_count": 2,
   "metadata": {
    "collapsed": false
   },
   "outputs": [
    {
     "data": {
      "text/plain": [
       "diagbifurc (generic function with 1 method)"
      ]
     },
     "execution_count": 2,
     "metadata": {},
     "output_type": "execute_result"
    }
   ],
   "source": [
    "\"\"\"\n",
    "    diagbifurc(f, nit, nout, crange)\n",
    "\n",
    "Itera el mapeo `f` `nit+nout` veces y regresa una matriz\n",
    "cuya columna `i` tiene los últimos `nout` iterados del mapeo\n",
    "para el valor del parámetro del mapeo `crange[i]`.\n",
    "\n",
    "La función `f` debe ser definida de tal manera que `f(x0, c)` \n",
    "tenga sentido.\n",
    "\"\"\"\n",
    "function diagbifurc(f, nit, nout, crange)\n",
    "    xx = Vector{Float64}(nout)\n",
    "    ff = Array{Float64,2}(nout, length(crange))\n",
    "    \n",
    "    for ic in eachindex(crange)\n",
    "        c = crange[ic]\n",
    "        ciclosestables!(xx, f, nit, nout, c)\n",
    "        ff[:,ic] = xx\n",
    "    end\n",
    "    \n",
    "    return ff\n",
    "end"
   ]
  },
  {
   "cell_type": "code",
   "execution_count": 17,
   "metadata": {
    "collapsed": false
   },
   "outputs": [],
   "source": [
    "Qc(x,c) = x^2 + c\n",
    "\n",
    "crange = 0.25:-1/2^10:-2.0\n",
    "\n",
    "ff = diagbifurc(Qc, 1000, 256, crange); \n",
    "cc = ones(size(ff)[1])*crange';\n",
    "\n",
    "# Esto cambia las matrices en vectores; ayuda un poco para los dibujos\n",
    "ff = reshape(ff, size(ff)[1]*size(ff)[2]);\n",
    "cc = reshape(cc, size(ff));"
   ]
  },
  {
   "cell_type": "code",
   "execution_count": 18,
   "metadata": {
    "collapsed": false
   },
   "outputs": [
    {
     "data": {
      "text/plain": [
       "590080-element Array{Float64,1}:\n",
       " 0.49901 \n",
       " 0.499011\n",
       " 0.499012\n",
       " 0.499013\n",
       " 0.499014\n",
       " 0.499014\n",
       " 0.499015\n",
       " 0.499016\n",
       " 0.499017\n",
       " 0.499018\n",
       " 0.499019\n",
       " 0.49902 \n",
       " 0.499021\n",
       " ⋮       \n",
       " 2.0     \n",
       " 2.0     \n",
       " 2.0     \n",
       " 2.0     \n",
       " 2.0     \n",
       " 2.0     \n",
       " 2.0     \n",
       " 2.0     \n",
       " 2.0     \n",
       " 2.0     \n",
       " 2.0     \n",
       " 2.0     "
      ]
     },
     "execution_count": 18,
     "metadata": {},
     "output_type": "execute_result"
    }
   ],
   "source": [
    "ff"
   ]
  },
  {
   "cell_type": "code",
   "execution_count": 19,
   "metadata": {
    "collapsed": false
   },
   "outputs": [
    {
     "data": {
      "text/plain": [
       "590080-element Array{Float64,1}:\n",
       "  0.25\n",
       "  0.25\n",
       "  0.25\n",
       "  0.25\n",
       "  0.25\n",
       "  0.25\n",
       "  0.25\n",
       "  0.25\n",
       "  0.25\n",
       "  0.25\n",
       "  0.25\n",
       "  0.25\n",
       "  0.25\n",
       "  ⋮   \n",
       " -2.0 \n",
       " -2.0 \n",
       " -2.0 \n",
       " -2.0 \n",
       " -2.0 \n",
       " -2.0 \n",
       " -2.0 \n",
       " -2.0 \n",
       " -2.0 \n",
       " -2.0 \n",
       " -2.0 \n",
       " -2.0 "
      ]
     },
     "execution_count": 19,
     "metadata": {},
     "output_type": "execute_result"
    }
   ],
   "source": [
    "cc"
   ]
  },
  {
   "cell_type": "code",
   "execution_count": 5,
   "metadata": {
    "collapsed": false
   },
   "outputs": [],
   "source": [
    "using PyPlot"
   ]
  },
  {
   "cell_type": "code",
   "execution_count": 6,
   "metadata": {
    "collapsed": false
   },
   "outputs": [
    {
     "data": {
      "image/png": "[encoded data removed]",
      "text/plain": [
       "PyPlot.Figure(PyObject <matplotlib.figure.Figure object at 0x3104c1490>)"
      ]
     },
     "metadata": {},
     "output_type": "display_data"
    },
    {
     "data": {
      "text/plain": [
       "PyObject <matplotlib.text.Text object at 0x311c37710>"
      ]
     },
     "execution_count": 6,
     "metadata": {},
     "output_type": "execute_result"
    }
   ],
   "source": [
    "figure(figsize=(6,4))\n",
    "plot(cc, ff, \"b,\")\n",
    "plot([-1.2,-1.5,-1.5,-1.2,-1.2],[-1.5,-1.5,-0.9,-0.9,-1.5], \"k-\")\n",
    "plot([-2,0.5],[0.0,0.0], \"r-\")\n",
    "xlabel(L\"c\")\n",
    "ylabel(L\"x_\\infty\")\n",
    "title(\"Fig. 1\")"
   ]
  },
  {
   "cell_type": "markdown",
   "metadata": {},
   "source": [
    "Es muy claro de este diagrama, Fig. 1, que la dinámica se vuelve rica e interesante a medida que uno disminuye el parámetro $c$ más allá de -5/4."
   ]
  },
  {
   "cell_type": "code",
   "execution_count": 27,
   "metadata": {
    "collapsed": false
   },
   "outputs": [
    {
     "data": {
      "image/png": "[encoded data removed]",
      "text/plain": [
       "PyPlot.Figure(PyObject <matplotlib.figure.Figure object at 0x33389d090>)"
      ]
     },
     "metadata": {},
     "output_type": "display_data"
    },
    {
     "data": {
      "text/plain": [
       "1-element Array{Any,1}:\n",
       " PyObject <matplotlib.lines.Line2D object at 0x333766ad0>"
      ]
     },
     "execution_count": 27,
     "metadata": {},
     "output_type": "execute_result"
    }
   ],
   "source": [
    "figure(figsize=(6,4))\n",
    "plot(cc, ff, \"b,\")\n",
    "xlabel(L\"c\")\n",
    "ylabel(L\"x_\\infty\")\n",
    "title(\"Fig. 2\")\n",
    "xlim(-1.5,-1.2)\n",
    "ylim(-1.5,-0.9)\n",
    "plot([-1.35,-1.425,-1.425,-1.35,-1.35],\n",
    "     [-1.425,-1.425,-1.33,-1.33,-1.425], \"k-\")"
   ]
  },
  {
   "cell_type": "markdown",
   "metadata": {},
   "source": [
    "La Fig. 2 muestra el aumento indicado en la Fig. 1. Ahí se muestra que después del reescalamiento se obtiene la misma estructura que la gráfica completa. La curva suave de la derecha corresponde en este caso a una de las ramas de periodo 2.\n",
    "\n",
    "Además, en el intervalo $-1.5\\le c \\le -1$ podemos ver que en $c=-5/4$ *otra* bifurcación de doblamiento de periodo ocurre. A partir de ese valor, la órbita de periodo 2 se torna en un repulsor y aparece una órbita de periodo 4 atractiva. \n",
    "\n",
    "Este escenario se preserva hasta cierto valor de $c$ donde la órbita de periodo 4 se vuelve inestable (repulsiva), y aparece un ciclo de periodo 8. De hecho, la figura muestra que *antes* de $c=-1.4$, aparece un ciclo estable de periodo 16."
   ]
  },
  {
   "cell_type": "markdown",
   "metadata": {
    "collapsed": true
   },
   "source": [
    "Claramente estamos observando una cascada de bifurcaciones de doblamiento de periodo. Esto es, al disminuir $c$ \n",
    "los puntos periódicos aparecen en el orden: $1, 2, 4, 8, \\dots, 2^n, \\dots$. Además, los intervalos en $c$ donde el periodo $2^n$ se observa, son mayores que donde se observa el periodo $2^{n+1}$."
   ]
  },
  {
   "cell_type": "markdown",
   "metadata": {},
   "source": [
    "Aumentos sucesivos muestran la veracidad de esto, aunque para tener suficientes puntos hay que hacer nuevos cálculos. En la Fig. 3, que corresponde al recuadro indicado en la Fig. 2, la curva de la derecha corresponde a una de las ramas del ciclo de periodo 4."
   ]
  },
  {
   "cell_type": "code",
   "execution_count": 22,
   "metadata": {
    "collapsed": false
   },
   "outputs": [],
   "source": [
    "crange = -1.35:-1/2^13:-1.425\n",
    "\n",
    "ff1 = diagbifurc(Qc, 1200, 512, crange); \n",
    "cc1 = ones(size(ff1)[1])*crange';\n",
    "\n",
    "ff1 = reshape(ff1, size(ff1)[1]*size(ff1)[2]);\n",
    "cc1 = reshape(cc1, size(ff1));"
   ]
  },
  {
   "cell_type": "code",
   "execution_count": 23,
   "metadata": {
    "collapsed": false
   },
   "outputs": [
    {
     "data": {
      "image/png": "[encoded data removed]",
      "text/plain": [
       "PyPlot.Figure(PyObject <matplotlib.figure.Figure object at 0x32edff410>)"
      ]
     },
     "metadata": {},
     "output_type": "display_data"
    },
    {
     "data": {
      "text/plain": [
       "(-1.425,-1.33)"
      ]
     },
     "execution_count": 23,
     "metadata": {},
     "output_type": "execute_result"
    }
   ],
   "source": [
    "figure(figsize=(6,4))\n",
    "plot(cc1, ff1, \"b,\")\n",
    "xlabel(L\"c\")\n",
    "ylabel(L\"x_\\infty\")\n",
    "title(\"Fig. 3\")\n",
    "xlim(-1.425,-1.35)\n",
    "ylim(-1.425,-1.33)"
   ]
  },
  {
   "cell_type": "markdown",
   "metadata": {},
   "source": [
    "En estas figuras uno puede observar ciertas regiones donde, en algún sentido, aparecen (nuevamente) ventanas de baja periodicidad, pero cuyo periodo **no** es de la forma $2^n$, aunque está seguido de otra casada de bifurcaciones de doblamiento de periodo. Un ejemplo notable es la ventana de *periodo 3*. Como veremos más adelante, la existencia de periodo 3 implica caos."
   ]
  },
  {
   "cell_type": "markdown",
   "metadata": {},
   "source": [
    "La observación de que los intervalos en $c$ donde se observa cierta periodicidad *disminuyen* al aumentar la periodicidad (respetando el doblamiento de periodo), lleva a la pregunta si hay una $c$ donde se observe un periodo *infinito*."
   ]
  },
  {
   "cell_type": "markdown",
   "metadata": {},
   "source": [
    "## Tarea 4"
   ]
  },
  {
   "cell_type": "markdown",
   "metadata": {},
   "source": [
    "**Ejercicio 1:**\n",
    "\n",
    "Llamemos $c_n$ el valor del parámetro $c$ donde ocurre la bifurcación de doblamiento de periodo para el mapeo $Q_c(x)$, donde la órbita de periodo $2^n$ nace. Es decir, tenemos que $c_0=1/4$ marca la aparición del atractor de periodo $2^0=1$, $c_1=-1/4$ corresponde a la aparición del atractor de periodo $2^1=2$, $c_2=-3/4$ a la aparición del atractor de periodo $2^2=4$, etc. \n",
    "\n",
    "A partir de estos valores y otros que calcularán (al menos deben encontrar $c_6$), definimos la secuencia: $\\{f_0, f_1, f_2, \\dots\\}$, donde\n",
    "\n",
    "\\begin{equation}\n",
    "f_n = \\frac{c_n-c_{n+1}}{c_{n+1}-c_{n+2}} .\n",
    "\\end{equation}\n",
    "\n",
    "La pregunta es, ¿a qué valor converge esta secuencia?, es decir, dar una estimación de $f_\\infty$.\n",
    "\n",
    "*Hint:* Para realizar este ejercicio deben calcular el atractor para varias valores de $c$, de tal manera que puedan aislar las órbitas de periodo $2^p$ y de ahí determinar varios valores $c_n$. Sin embargo, van a requerir suficiente cuidado para obtener una buena aproximación de $c_n$. \n",
    "\n",
    "Una opción, que tiene ciertos inconvenientes numéricos que también ciertas ventajas se basa en recordar/usar que las bifurcaciones de doblamiento de periodo ocurren cuando los puntos de la órbita de periodo $p$ se tornan en repulsores, es decir, $(Q_c^p)'(x)=-1$. Esta opción, entonces, involucra obtener los valores $c_n$ usando los polinomios $Q_c^p(x)$ y diferenciación automática."
   ]
  },
  {
   "cell_type": "code",
   "execution_count": 20,
   "metadata": {
    "collapsed": false
   },
   "outputs": [
    {
     "name": "stdout",
     "output_type": "stream",
     "text": [
      "search: diagbifurc\n",
      "\n"
     ]
    },
    {
     "data": {
      "text/markdown": [
       "```\n",
       "diagbifurc(f, nit, nout, crange)\n",
       "```\n",
       "\n",
       "Itera el mapeo `f` `nit+nout` veces y regresa una matriz cuya columna `i` tiene los últimos `nout` iterados del mapeo para el valor del parámetro del mapeo `crange[i]`.\n",
       "\n",
       "La función `f` debe ser definida de tal manera que `f(x0, c)`  tenga sentido.\n"
      ],
      "text/plain": [
       "```\n",
       "diagbifurc(f, nit, nout, crange)\n",
       "```\n",
       "\n",
       "Itera el mapeo `f` `nit+nout` veces y regresa una matriz cuya columna `i` tiene los últimos `nout` iterados del mapeo para el valor del parámetro del mapeo `crange[i]`.\n",
       "\n",
       "La función `f` debe ser definida de tal manera que `f(x0, c)`  tenga sentido.\n"
      ]
     },
     "execution_count": 20,
     "metadata": {},
     "output_type": "execute_result"
    }
   ],
   "source": [
    "Qc(x,c) = x^2 + c\n",
    "Qc'(x) = 2*x\n",
    "\n",
    "crange = 0.25:-1/2^10:-2.0\n",
    "\n",
    "ff = diagbifurc(Qc, 1000, 256, crange); \n",
    "cc = ones(size(ff)[1])*crange';\n",
    "\n"
   ]
  },
  {
   "cell_type": "code",
   "execution_count": null,
   "metadata": {
    "collapsed": true
   },
   "outputs": [],
   "source": [
    "Q1(x,c) = "
   ]
  },
  {
   "cell_type": "markdown",
   "metadata": {},
   "source": [
    "**Ejercicio 2:**\n",
    "\n",
    "Repitan el ejercicio anterior para el mapeo $S_c(x) = c \\sin(x)$. ¿Cómo se comparan los valores obtenidos de $f_n$?"
   ]
  },
  {
   "cell_type": "code",
   "execution_count": null,
   "metadata": {
    "collapsed": true
   },
   "outputs": [],
   "source": []
  },
  {
   "cell_type": "markdown",
   "metadata": {},
   "source": [
    "**Ejercicio 3:**\n",
    "\n",
    "Como se ve en la Fig. 1, $x=0$ pertenece a un ciclo de periodo $2^n$ para ciertos valores $C_n$ del parámetro. Dichos valores son *especiales*, ya que $x=0$ esté en el ciclo de periodo $2^n$ marca los llamados *ciclos superestable*, donde tenemos $(Q^{2^p}_{C_n})'(0)=0$.\n",
    "\n",
    "¿A qué converge la secuencia $f_n$, definida ahora con los valores $C_n$.\n",
    "\n",
    "De los $2^p$ puntos del ciclo de periodo $2^p$, es decir, $\\{0, p_1, \\dots p_{2^{n-1}}\\,\\}$ hay uno (distinto del 0) cuya distancia a 0 es menor; a ese punto lo identificamos como $d_n$. Calcular numéricamente a dónde converge la secuencia $d_n/d_{n+1}$."
   ]
  },
  {
   "cell_type": "code",
   "execution_count": null,
   "metadata": {
    "collapsed": true
   },
   "outputs": [],
   "source": []
  }
 ],
 "metadata": {
  "kernelspec": {
   "display_name": "Julia 0.4.6",
   "language": "julia",
   "name": "julia-0.4"
  },
  "language_info": {
   "file_extension": ".jl",
   "mimetype": "application/julia",
   "name": "julia",
   "version": "0.4.6"
  }
 },
 "nbformat": 4,
 "nbformat_minor": 1
}
