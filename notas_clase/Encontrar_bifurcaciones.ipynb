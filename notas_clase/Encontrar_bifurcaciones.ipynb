{
 "cells": [
  {
   "cell_type": "code",
   "execution_count": 1,
   "metadata": {
    "collapsed": false
   },
   "outputs": [
    {
     "data": {
      "text/plain": [
       "Plots.PyPlotBackend()"
      ]
     },
     "execution_count": 1,
     "metadata": {},
     "output_type": "execute_result"
    }
   ],
   "source": [
    "using DualNumbers, LaTeXStrings, Plots\n",
    "pyplot()"
   ]
  },
  {
   "cell_type": "code",
   "execution_count": 2,
   "metadata": {
    "collapsed": false
   },
   "outputs": [
    {
     "data": {
      "text/plain": [
       "diagbifurc (generic function with 1 method)"
      ]
     },
     "execution_count": 2,
     "metadata": {},
     "output_type": "execute_result"
    }
   ],
   "source": [
    "\"\"\"\n",
    "    ciclosestables!(xx, f, nit, nout, cc)\n",
    "\n",
    "Esta función itera el mapeo `f`, de una variable, `nit+nout` veces, \n",
    "usando como condición inicial `x0=0`; los últimos `nout` iterados \n",
    "actualizan al vector `xx` que tiene longitud `nout`. `cc` es el valor\n",
    "del parámetro del mapeo `f`. El mapeo `f` debe ser definido de \n",
    "tal manera que `f(x0,cc)` tenga sentido. La idea es los últimos \n",
    "`nout` iterados reflejen los ciclos estables del mapeo `f`. \n",
    "\"\"\"\n",
    "function ciclosestables!(xx, f, nit, nout, cc)\n",
    "    @assert nit > 0 && nout > 0\n",
    "    \n",
    "    # Primeros nit iterados\n",
    "    x0 = 0.0\n",
    "    for it = 1:nit\n",
    "        x0 = f(x0, cc)\n",
    "    end\n",
    "    \n",
    "    # Se guardan los siguientes nout iterados\n",
    "    for it = 1:nout\n",
    "        x0 = f(x0, cc)\n",
    "        @inbounds xx[it] = x0\n",
    "    end\n",
    "    \n",
    "    return nothing\n",
    "end\n",
    "\n",
    "\"\"\"\n",
    "    diagbifurc(f, nit, nout, crange)\n",
    "\n",
    "Itera el mapeo `f` `nit+nout` veces y regresa una matriz\n",
    "cuya columna `i` tiene los últimos `nout` iterados del mapeo\n",
    "para el valor del parámetro del mapeo `crange[i]`.\n",
    "\n",
    "La función `f` debe ser definida de tal manera que `f(x0, c)` \n",
    "tenga sentido.\n",
    "\"\"\"\n",
    "function diagbifurc(f, nit, nout, crange)\n",
    "    xx = Vector{Float64}(nout)\n",
    "    #Lo voy a guardar en un array.\n",
    "    ff = Array{Float64,2}(nout, length(crange))\n",
    "    #ff = Any[]\n",
    "    \n",
    "    for ic in eachindex(crange)\n",
    "        c = crange[ic]\n",
    "        ciclosestables!(xx, f, nit, nout, c)\n",
    "        \n",
    "        #push!(ff, xx)\n",
    "        \n",
    "        ff[:,ic] = xx\n",
    "        \n",
    "    end\n",
    "    \n",
    "    return ff\n",
    "end"
   ]
  },
  {
   "cell_type": "code",
   "execution_count": 3,
   "metadata": {
    "collapsed": false
   },
   "outputs": [],
   "source": [
    "Qc(x,c) = x^2 + c\n",
    "\n",
    "crange = 0.25:-1/2^10:-1.0\n",
    "\n",
    "ff = diagbifurc(Qc, 1000, 256, crange); \n",
    "cc = ones(size(ff)[1])*crange';\n",
    "\n",
    "# Esto cambia las matrices en vectores; ayuda un poco para los dibujos\n",
    "#ff = reshape(ff, size(ff)[1]*size(ff)[2]);\n",
    "#cc = reshape(cc, size(ff));"
   ]
  },
  {
   "cell_type": "code",
   "execution_count": 4,
   "metadata": {
    "collapsed": false
   },
   "outputs": [
    {
     "ename": "LoadError",
     "evalue": "LoadError: UndefVarError: figure not defined\nwhile loading In[4], in expression starting on line 1",
     "output_type": "error",
     "traceback": [
      "LoadError: UndefVarError: figure not defined\nwhile loading In[4], in expression starting on line 1",
      ""
     ]
    }
   ],
   "source": [
    "figure(figsize=(6,4))\n",
    "plot(cc, ff, \"b,\")\n",
    "plot([-1.2,-1.5,-1.5,-1.2,-1.2],[-1.5,-1.5,-0.9,-0.9,-1.5], \"k-\")\n",
    "plot([-1,0.5],[0.0,0.0], \"r-\")\n",
    "xlabel(L\"c\")\n",
    "ylabel(L\"x_\\infty\")\n",
    "title(\"Fig. 1\")"
   ]
  },
  {
   "cell_type": "markdown",
   "metadata": {
    "collapsed": true
   },
   "source": [
    "-----"
   ]
  },
  {
   "cell_type": "code",
   "execution_count": 5,
   "metadata": {
    "collapsed": false
   },
   "outputs": [
    {
     "data": {
      "text/plain": [
       "find_one_bif (generic function with 1 method)"
      ]
     },
     "execution_count": 5,
     "metadata": {},
     "output_type": "execute_result"
    }
   ],
   "source": [
    "function find_one_bif(ff, cc)\n",
    "\n",
    "    Resta = []\n",
    "    bif = 0\n",
    "\n",
    "    for i in 1:length(ff[1,:])\n",
    "\n",
    "        resta = abs(ff[1, i] - ff[2, i])\n",
    "\n",
    "        if resta > 0.0001\n",
    "\n",
    "            bif = i\n",
    "            break\n",
    "\n",
    "        end\n",
    "\n",
    "    end\n",
    "\n",
    "    bif, cc[1, bif]\n",
    "\n",
    "end"
   ]
  },
  {
   "cell_type": "code",
   "execution_count": 6,
   "metadata": {
    "collapsed": false
   },
   "outputs": [
    {
     "ename": "LoadError",
     "evalue": "LoadError: UndefVarError: f1 not defined\nwhile loading In[6], in expression starting on line 1",
     "output_type": "error",
     "traceback": [
      "LoadError: UndefVarError: f1 not defined\nwhile loading In[6], in expression starting on line 1",
      ""
     ]
    }
   ],
   "source": [
    "find_one_bif(f1, c1) #funciona! Aunque está bien chafa."
   ]
  },
  {
   "cell_type": "markdown",
   "metadata": {},
   "source": [
    "#### voy a tratar de refinar las orbitas usando métdo de newton"
   ]
  },
  {
   "cell_type": "markdown",
   "metadata": {},
   "source": [
    "Es necesario tener una función que te genera la función iterada en sí misma. Entonces..."
   ]
  },
  {
   "cell_type": "markdown",
   "metadata": {},
   "source": [
    "### Metaprogramming (cuadrica y más allá...)"
   ]
  },
  {
   "cell_type": "code",
   "execution_count": 7,
   "metadata": {
    "collapsed": false
   },
   "outputs": [
    {
     "data": {
      "text/plain": [
       "nombre (generic function with 1 method)"
      ]
     },
     "execution_count": 7,
     "metadata": {},
     "output_type": "execute_result"
    }
   ],
   "source": [
    "nombre(n::Int) = symbol( string(\"F_\", n) )"
   ]
  },
  {
   "cell_type": "code",
   "execution_count": 8,
   "metadata": {
    "collapsed": false
   },
   "outputs": [
    {
     "data": {
      "text/plain": [
       "itera_funcion_identidad (generic function with 1 method)"
      ]
     },
     "execution_count": 8,
     "metadata": {},
     "output_type": "execute_result"
    }
   ],
   "source": [
    "function itera_funcion_identidad(n)\n",
    "    \n",
    "    x = \"x^2 + c\"\n",
    "\n",
    "    for i in 1:n-1\n",
    "\n",
    "        x = \"($x)^2 +c - x\"\n",
    "\n",
    "    end\n",
    "\n",
    "    ex = parse(x)\n",
    "    ex_ret = :( $(nombre(n))(x, c) = $ex )\n",
    "    ex_ret\n",
    "end "
   ]
  },
  {
   "cell_type": "markdown",
   "metadata": {},
   "source": [
    "Funciona con `DualNumbers` y está muy chido!"
   ]
  },
  {
   "cell_type": "markdown",
   "metadata": {},
   "source": [
    "### Adecuando `compute_roots`\n",
    "\n",
    "Lo que busco es darle de comer las orbitas de la función de arriba para que la refine"
   ]
  },
  {
   "cell_type": "code",
   "execution_count": 9,
   "metadata": {
    "collapsed": false
   },
   "outputs": [
    {
     "data": {
      "text/plain": [
       "compute_roots (generic function with 1 method)"
      ]
     },
     "execution_count": 9,
     "metadata": {},
     "output_type": "execute_result"
    }
   ],
   "source": [
    "\"\"\"\n",
    "    compute_roots(f::Function, xx, c)\n",
    "    Out: roots\n",
    "\n",
    "xx is an array, cc is the parameter, f is the funtion\n",
    "\n",
    "\"\"\"\n",
    "function compute_roots(f::Function, xx, c)\n",
    "    \n",
    "    roots = similar(xx)\n",
    "\n",
    "    for j in 1:length(xx)\n",
    "        \n",
    "        x = Dual(xx[j], xx[j])\n",
    "\n",
    "        # 100 iterations of Newton's method\n",
    "        for i in 1:100\n",
    "            x_2 = realpart(x) - realpart(f(x, c)) / dualpart(f(x, c))\n",
    "            x = Dual(x_2, x_2)\n",
    "        end\n",
    "\n",
    "        roots[j] = realpart(x)\n",
    "    end\n",
    "    \n",
    "    roots\n",
    "end"
   ]
  },
  {
   "cell_type": "code",
   "execution_count": 74,
   "metadata": {
    "collapsed": false
   },
   "outputs": [
    {
     "data": {
      "text/plain": [
       "delete_equals (generic function with 1 method)"
      ]
     },
     "execution_count": 74,
     "metadata": {},
     "output_type": "execute_result"
    }
   ],
   "source": [
    "function delete_equals(A)\n",
    "\n",
    "    for j  in 1:length(A)\n",
    "        for i  in 1:length(A)\n",
    "\n",
    "            if i == j\n",
    "                \n",
    "                nothing\n",
    "\n",
    "                elseif abs(abs(A[i]) - abs(A[j])) < 1e-5\n",
    "\n",
    "                A[i] = NaN\n",
    "                \n",
    "            end\n",
    "        end\n",
    "    end\n",
    "    \n",
    "    deleteat!(A,find(isnan, A))\n",
    "    \n",
    "end"
   ]
  },
  {
   "cell_type": "markdown",
   "metadata": {},
   "source": [
    "# Ahora integro todo lo que hice arriba al método de Luis"
   ]
  },
  {
   "cell_type": "markdown",
   "metadata": {
    "collapsed": false
   },
   "source": [
    "Pasos para acomplar las funciones:\n",
    "1. `diagbifuc`: se crea una matriz con las orbitas de las iteraciones.\n",
    "2. `computeroots`: refinamos las orbitas.\n",
    "    - itera_funcion\n",
    "    - Condiciones para aplicar la cuádrica.\n",
    "    \n",
    "3. Ver si poner los datos en una matriz o en un array."
   ]
  },
  {
   "cell_type": "markdown",
   "metadata": {},
   "source": [
    "--------"
   ]
  },
  {
   "cell_type": "code",
   "execution_count": 82,
   "metadata": {
    "collapsed": false
   },
   "outputs": [
    {
     "data": {
      "text/plain": [
       "bifurcaciones (generic function with 1 method)"
      ]
     },
     "execution_count": 82,
     "metadata": {},
     "output_type": "execute_result"
    }
   ],
   "source": [
    "\"\"\"\n",
    "    bifurcaciones(f, nit, nout, crange)\n",
    "\"\"\"\n",
    "\n",
    "function bifurcaciones(f, nit, nout, crange)\n",
    "    ff = Any[]\n",
    "    \n",
    "    for i in eachindex(crange)\n",
    "        \n",
    "        xx = Vector{Float64}(nout)\n",
    "        c = crange[i]\n",
    "        \n",
    "        ciclosestables!(xx, f, nit, nout, c)\n",
    "        \n",
    "        #xx = compute_roots(F_2, xx, c)\n",
    "        \n",
    "        delete_equals(xx)\n",
    "       \n",
    "        push!(ff, xx)\n",
    "        \n",
    "    end\n",
    "    \n",
    "    ff\n",
    "    \n",
    "end     "
   ]
  },
  {
   "cell_type": "code",
   "execution_count": 76,
   "metadata": {
    "collapsed": false
   },
   "outputs": [
    {
     "data": {
      "text/plain": [
       "f (generic function with 1 method)"
      ]
     },
     "execution_count": 76,
     "metadata": {},
     "output_type": "execute_result"
    }
   ],
   "source": [
    "f(x, c) = x^2 + c"
   ]
  },
  {
   "cell_type": "code",
   "execution_count": 77,
   "metadata": {
    "collapsed": false
   },
   "outputs": [
    {
     "data": {
      "text/plain": [
       "81-element Array{Any,1}:\n",
       " [0.0]                                                                                                                                                                                                        \n",
       " [-0.009901951359278483]                                                                                                                                                                                      \n",
       " [-0.019615242270663188]                                                                                                                                                                                      \n",
       " [-0.029150262212918117]                                                                                                                                                                                      \n",
       " [-0.0385164807134504]                                                                                                                                                                                        \n",
       " [-0.047722557505166116]                                                                                                                                                                                      \n",
       " [-0.05677643628300219]                                                                                                                                                                                       \n",
       " [-0.06568542494923803]                                                                                                                                                                                       \n",
       " [-0.07445626465380287]                                                                                                                                                                                       \n",
       " [-0.08309518948453004]                                                                                                                                                                                       \n",
       " [-0.0916079783099616]                                                                                                                                                                                        \n",
       " [-0.1]                                                                                                                                                                                                       \n",
       " [-0.10827625302982197]                                                                                                                                                                                       \n",
       " ⋮                                                                                                                                                                                                            \n",
       " [-0.4695359714832661]                                                                                                                                                                                        \n",
       " [-0.47467943448089683]                                                                                                                                                                                       \n",
       " [-0.47979589711327164]                                                                                                                                                                                       \n",
       " [-0.48488578017961703]                                                                                                                                                                                       \n",
       " [-0.48994949384458797]                                                                                                                                                                                       \n",
       " [-0.4949912917078565]                                                                                                                                                                                        \n",
       " [-0.521971,-0.477546,-0.521949,-0.477569,-0.521928,-0.477591,-0.521907,-0.477613,-0.521886,-0.477635  …  -0.520178,-0.479415,-0.520161,-0.479432,-0.520145,-0.479449,-0.520128,-0.479467,-0.520112,-0.479484]\n",
       " [-0.6000000000513606,-0.3999999999383673]                                                                                                                                                                    \n",
       " [-0.6414213562373103,-0.35857864376268944]                                                                                                                                                                   \n",
       " [-0.6732050807568882,-0.3267949192431116]                                                                                                                                                                    \n",
       " [-0.7000000000000004,-0.2999999999999995]                                                                                                                                                                    \n",
       " [-0.7236067977499793,-0.2763932022500206]                                                                                                                                                                    "
      ]
     },
     "execution_count": 77,
     "metadata": {},
     "output_type": "execute_result"
    }
   ],
   "source": [
    "crange = -0.0:-0.01:-0.8\n",
    "\n",
    "c_s = collect(crange)\n",
    "fsalida= bifurcaciones(f, 1000, 200, crange)"
   ]
  },
  {
   "cell_type": "code",
   "execution_count": 79,
   "metadata": {
    "collapsed": false
   },
   "outputs": [
    {
     "data": {
      "text/plain": [
       "find_bifurcation (generic function with 3 methods)"
      ]
     },
     "execution_count": 79,
     "metadata": {},
     "output_type": "execute_result"
    }
   ],
   "source": [
    "function find_bifurcation(A, crange)\n",
    "    bifurca = Float64[]\n",
    "    \n",
    "    for i in 1:length(A)-1\n",
    "        \n",
    "        if length(A[i]) < length(A[i+1])\n",
    "            \n",
    "            bif = crange[i+1]\n",
    "            \n",
    "            push!(bifurca, bif)\n",
    "            \n",
    "        end\n",
    "    end\n",
    "    bifurca\n",
    "    \n",
    "end         "
   ]
  },
  {
   "cell_type": "code",
   "execution_count": 80,
   "metadata": {
    "collapsed": false
   },
   "outputs": [
    {
     "data": {
      "text/plain": [
       "1-element Array{Float64,1}:\n",
       " -0.75"
      ]
     },
     "execution_count": 80,
     "metadata": {},
     "output_type": "execute_result"
    }
   ],
   "source": [
    "find_bifurcation(fsalida, crange)"
   ]
  },
  {
   "cell_type": "markdown",
   "metadata": {},
   "source": [
    "> Al parcer funciona, pero hay que probar para todos los valores.\n",
    "\n",
    "funciones para calcular las bifurcaciones:\n",
    "- bifurcaciones\n",
    "- find_bifurcation"
   ]
  },
  {
   "cell_type": "code",
   "execution_count": 83,
   "metadata": {
    "collapsed": false
   },
   "outputs": [
    {
     "name": "stdout",
     "output_type": "stream",
     "text": [
      "search: bifurcaciones\n",
      "\n"
     ]
    },
    {
     "data": {
      "text/markdown": [
       "```\n",
       "bifurcaciones(f, nit, nout, crange)\n",
       "```\n"
      ],
      "text/plain": [
       "```\n",
       "bifurcaciones(f, nit, nout, crange)\n",
       "```\n"
      ]
     },
     "execution_count": 83,
     "metadata": {},
     "output_type": "execute_result"
    }
   ],
   "source": [
    "?bifurcaciones"
   ]
  },
  {
   "cell_type": "code",
   "execution_count": 89,
   "metadata": {
    "collapsed": false
   },
   "outputs": [
    {
     "data": {
      "text/plain": [
       "15501-element Array{Any,1}:\n",
       " [0.49950258007263393,0.4995127642400655,0.49952276762602793,0.4995328055804352,0.49954284842002433]\n",
       " [0.48999999999999855]                                                                              \n",
       " [0.48585786437626743]                                                                              \n",
       " [0.48267949192431026]                                                                              \n",
       " [0.47999999999999876]                                                                              \n",
       " [0.4776393202250012]                                                                               \n",
       " [0.4755051025721676]                                                                               \n",
       " [0.4735424868893533]                                                                               \n",
       " [0.47171572875253753]                                                                              \n",
       " [0.4699999999999992]                                                                               \n",
       " [0.46837722339831556]                                                                              \n",
       " [0.4668337520964456]                                                                               \n",
       " [0.46535898384862184]                                                                              \n",
       " ⋮                                                                                                  \n",
       " [-1.29843614666288,0.387036426960748,-1.1491028042054574,0.021537254632845837]                     \n",
       " [-1.2985444008929228,0.3872175610903599,-1.1490625603832334,0.02134476767447202]                   \n",
       " [-1.2986525729524199,0.3873985052359403,-1.149022398140959,0.02115247142960075]                    \n",
       " [-1.2987606630857937,0.3875792599790506,-1.1489823172340914,0.020960365316622376]                  \n",
       " [-1.2988686715362328,0.38775982589829816,-1.1489423174193214,0.020768448756880886]                 \n",
       " [-1.2989765985457007,0.38794020356935843,-1.1489023984545648,0.02057672117465148]                  \n",
       " [-1.2990844443549443,0.38812039356499417,-1.1488625600989542,0.020385181997123025]                 \n",
       " [-1.2991922092035026,0.38830039645507775,-1.1488228021128295,0.020193830654373413]                 \n",
       " [-1.2992998933297153,0.3884802128066094,-1.1487831242577315,0.020002666579354678]                  \n",
       " [-1.299407496970731,0.38865984318374025,-1.1487435262963905,0.019811689207866134]                  \n",
       " [-1.2995150203625159,0.38883928814779,-1.14870400799272,0.01962089797853883]                       \n",
       " [-1.2996224637398615,0.38901854825726745,-1.148664569111808,0.01943029233281557]                   "
      ]
     },
     "execution_count": 89,
     "metadata": {},
     "output_type": "execute_result"
    }
   ],
   "source": [
    "c_range = 0.25:-0.0001:-1.3\n",
    "xx1 = bifurcaciones(f, 2000, 200, c_range)\n",
    "#find_bifurcation(xx1, c_range)"
   ]
  },
  {
   "cell_type": "code",
   "execution_count": 90,
   "metadata": {
    "collapsed": false
   },
   "outputs": [
    {
     "data": {
      "text/plain": [
       "43-element Array{Float64,1}:\n",
       " -0.7453\n",
       " -0.746 \n",
       " -0.7464\n",
       " -0.7466\n",
       " -0.7467\n",
       " -0.7468\n",
       " -0.747 \n",
       " -0.7471\n",
       " -0.7472\n",
       " -0.7473\n",
       " -0.7474\n",
       " -0.7475\n",
       " -0.7476\n",
       "  ⋮     \n",
       " -1.2486\n",
       " -1.2487\n",
       " -1.2488\n",
       " -1.2489\n",
       " -1.249 \n",
       " -1.2491\n",
       " -1.2492\n",
       " -1.2493\n",
       " -1.2494\n",
       " -1.2495\n",
       " -1.2496\n",
       " -1.2497"
      ]
     },
     "execution_count": 90,
     "metadata": {},
     "output_type": "execute_result"
    }
   ],
   "source": [
    "find_bifurcation(xx1, c_range)"
   ]
  },
  {
   "cell_type": "markdown",
   "metadata": {},
   "source": [
    "# Aquí abandono mi idea de poner las orbitas en arrays dentro de un array, y contar los elementos."
   ]
  }
 ],
 "metadata": {
  "kernelspec": {
   "display_name": "Julia 0.4.6",
   "language": "julia",
   "name": "julia-0.4"
  },
  "language_info": {
   "file_extension": ".jl",
   "mimetype": "application/julia",
   "name": "julia",
   "version": "0.4.6"
  }
 },
 "nbformat": 4,
 "nbformat_minor": 0
}
