{
 "cells": [
  {
   "cell_type": "markdown",
   "metadata": {},
   "source": [
    "# Mapeos en 1d"
   ]
  },
  {
   "cell_type": "markdown",
   "metadata": {},
   "source": [
    "---\n",
    "\n",
    "**NOTA** Los ejercicios de este capítulo consituyen la tarea 3. Estos ejercicios involucran que ustedes escriban código que debe ejecutarse correctamente para responder las preguntas que se formulan en los ejercicios. El código debe estar correctamente documentada o al menos comentado, y en general se deben definir funciones que realicen cosas concretas.\n",
    "\n",
    "**Fecha límite de envío inicial del PR:** lunes 12 de septiembre\n",
    "\n",
    "**Fecha límite de aceptación del PR:** lunes 26 de septiembre\n",
    "\n",
    "---"
   ]
  },
  {
   "cell_type": "markdown",
   "metadata": {},
   "source": [
    "## Órbitas"
   ]
  },
  {
   "cell_type": "markdown",
   "metadata": {},
   "source": [
    "Iniciaremos el estudio de sistemas dinámicos considerando *mapeos* en una dimensión. Los mapeos en una dimensión son simplemente aplicaciones de $F_\\mu : \\mathbb{R} \\rightarrow \\mathbb{R}$, de la forma\n",
    "\n",
    "\\begin{equation}\n",
    "x_{n+1} = F_\\mu (x_n).\n",
    "\\end{equation}\n",
    "\n",
    "Aquí, $x_n$ representa el estado del sistema al \"tiempo\" $n$.\n",
    "\n",
    "Por ahora, la única suposición importante para $F_\\mu$ es que es una función que **no** involucra ningún tipo de variable estocástica o nada aleatorio. En este caso diremos que el sistema es determinista: el estado al \"tiempo\" $n+1$ sólo depende del estado al tiempo $n$, y de los parámetros $\\mu$ del mapeo (que permanecen constantes respecto al tiempo).\n"
   ]
  },
  {
   "cell_type": "markdown",
   "metadata": {},
   "source": [
    "*Iterar* la función $F_\\mu(x)$ significa evaluarla una y otra vez, a partir de un valor inicial $x_0$ que llamaremos *condición inicial*. Esto lo escribiremos como $x_1=F_\\mu(x_0)$ para el primer iterado, $x_2=F^2_\\mu(x_0)=F_\\mu(x_1)$ para el segundo, y en general, para el $n$-nésimo iterado escribiremos $x_n=F^n_\\mu(x_0)$."
   ]
  },
  {
   "cell_type": "markdown",
   "metadata": {},
   "source": [
    "Por ejemplo, para $F(x)=x^2+1$, y omitiéndo el subíndice 0, tendremos\n",
    "\\begin{eqnarray}\n",
    "F^2(x) & = & (x^2+1)^2+1,\\\\\n",
    "F^3(x) & = & ((x^2+1)^2+1)^2+1,\\\\\n",
    "F^4(x) & = & (((x^2+1)^2+1)^2+1)^2+1,\n",
    "\\end{eqnarray}\n",
    "etc."
   ]
  },
  {
   "cell_type": "markdown",
   "metadata": {},
   "source": [
    "Hablaremos de una órbita como la secuendia de iterados, es decir, $x_0, x_1, x_2, \\dots$. Así, para el ejemplo anterior con $x_0=0$ tendremos $x_1=1$, $x_2 = 2$, $x_3 = 5$, $x_4 = 26$, etc. Esta órbita, aparentemente tiende a infinito con $n\\to\\infty$."
   ]
  },
  {
   "cell_type": "markdown",
   "metadata": {},
   "source": [
    "Hay varios tipos de órbitas. Como veremos, unas órbitas particularmente importantes son los puntos fijos, los cuales satisfacen la ecuación\n",
    "\\begin{equation}\n",
    "F_\\mu(x) = x.\n",
    "\\end{equation}\n",
    "\n",
    "Así, para $F(x)=x^2-x-4$, los puntos fijos satisfacen $x^2-2x-4=0$, cuyas soluciones son $1\\pm\\sqrt{5}$."
   ]
  },
  {
   "cell_type": "markdown",
   "metadata": {},
   "source": [
    "Numéricamente, y usando que conocemos los puntos fijos, tenemos:"
   ]
  },
  {
   "cell_type": "code",
   "execution_count": 1,
   "metadata": {
    "collapsed": false
   },
   "outputs": [
    {
     "data": {
      "text/plain": [
       "(0.0,4.440892098500626e-16)"
      ]
     },
     "execution_count": 1,
     "metadata": {},
     "output_type": "execute_result"
    }
   ],
   "source": [
    "f(x) = x^2-x-4\n",
    "\n",
    "f(1+sqrt(5))-(1+sqrt(5)), f(1-sqrt(5))-(1-sqrt(5))"
   ]
  },
  {
   "cell_type": "markdown",
   "metadata": {},
   "source": [
    "De aquí vemos que hay ciertos errores numéricos que no permiten concluir que la segunda solución es punto fijo. Sin embargo, usando números de precisión extendida, vemos que con más bits de precisión, $f(x)-x$ se acerca a cero."
   ]
  },
  {
   "cell_type": "code",
   "execution_count": 2,
   "metadata": {
    "collapsed": false
   },
   "outputs": [
    {
     "data": {
      "text/plain": [
       "256"
      ]
     },
     "execution_count": 2,
     "metadata": {},
     "output_type": "execute_result"
    }
   ],
   "source": [
    "get_bigfloat_precision()"
   ]
  },
  {
   "cell_type": "code",
   "execution_count": 3,
   "metadata": {
    "collapsed": false
   },
   "outputs": [
    {
     "data": {
      "text/plain": [
       "6.908934844075555700309081490240319656892800291549025108018962776134873442529942e-77"
      ]
     },
     "execution_count": 3,
     "metadata": {},
     "output_type": "execute_result"
    }
   ],
   "source": [
    "f(1-sqrt(BigInt(5)))-(1-sqrt(BigInt(5)))"
   ]
  },
  {
   "cell_type": "code",
   "execution_count": 4,
   "metadata": {
    "collapsed": false
   },
   "outputs": [
    {
     "data": {
      "text/plain": [
       "1000"
      ]
     },
     "execution_count": 4,
     "metadata": {},
     "output_type": "execute_result"
    }
   ],
   "source": [
    "set_bigfloat_precision(1000)"
   ]
  },
  {
   "cell_type": "code",
   "execution_count": 5,
   "metadata": {
    "collapsed": false
   },
   "outputs": [
    {
     "data": {
      "text/plain": [
       "-3.73305447401287551596035817889526867846836578548683209848685735918386764390310253781776130839152440943837995972129697049686195008541612957936608326881572302493764266455330060109598030394360732604440196318506045247296205005918373516322071308450166041524279351541770592447787925691464383688807065164177119e-301"
      ]
     },
     "execution_count": 5,
     "metadata": {},
     "output_type": "execute_result"
    }
   ],
   "source": [
    "f(1-sqrt(BigInt(5)))-(1-sqrt(BigInt(5)))"
   ]
  },
  {
   "cell_type": "markdown",
   "metadata": {},
   "source": [
    "Otro tipo importante de órbitas son las órbitas periódicas. En este caso tenemos que una secuencia *finita* de iterados, se repite: $x_0, x_1, \\dots, x_{n-1}, x_0, x_1, \\dots$. El menor número de puntos de una órbita periódica (sin repeticiones) es lo que se llama periodo. Cada punto de dicha órbita es periódico con periodo $n$.\n",
    "\n",
    "Vale la pena notar que los puntos fijos son de periodo 1.\n",
    "\n",
    "Un punto que pertenece a una órbita de periodo $n$ satisface la ecuación $F^n(x_0) = x_0$. Esto es, un punto de periodo $n$ del mapeo $F$, es un punto fijo del mapeo $F^n$."
   ]
  },
  {
   "cell_type": "markdown",
   "metadata": {},
   "source": [
    "Un punto $x_0$ se llama *eventualmente periódico* cuando, sin ser punto fijo o periódico, después de un cierto número finito de iteraciones, los iterados pertenecen a una órbita periódica. Un ejemplo, para el mapeo $F(x)=x^2-1$, es $x_0=1$: $F(1)=0$, $F^2(0)=-1$, $F^3(-1)=0$, etc."
   ]
  },
  {
   "cell_type": "markdown",
   "metadata": {},
   "source": [
    "En sistemas dinámicos típicos, la mayoría de los puntos no son fijos ni periódicos. Por ejemplo, el mapeo $T(x)=2x$ tiene como punto único punto fijo $x^*=0$. Cualquier otra órbita tiende a $\\;\\pm\\infty$, ya que $T^n(x_0) = 2^n x_0$ y entonces $|T^n(x_0)|\\to\\infty$. \n",
    "\n",
    "En general, la situación es aún más compleja e interesante."
   ]
  },
  {
   "cell_type": "markdown",
   "metadata": {},
   "source": [
    "**Ejercicio 1:** \n",
    "\n",
    "Consideren el mapeo $F(x) = x^2-2$ definido en el intervalo $[-2,2]$. ¿Qué podemos concluir después de muchos iterados para las condiciones iniciales $x_0=0$, $x_0=0.1$, $x_0=0.001$?\n"
   ]
  },
  {
   "cell_type": "code",
   "execution_count": 1,
   "metadata": {
    "collapsed": true
   },
   "outputs": [],
   "source": [
    "#using PyPlot"
   ]
  },
  {
   "cell_type": "code",
   "execution_count": 9,
   "metadata": {
    "collapsed": false
   },
   "outputs": [
    {
     "data": {
      "text/plain": [
       "iterator (generic function with 1 method)"
      ]
     },
     "execution_count": 9,
     "metadata": {},
     "output_type": "execute_result"
    }
   ],
   "source": [
    "function iterator(f::Function, n::Int, x0)\n",
    "\n",
    "    solution = Float64[x0]\n",
    "    steps = Int[0]\n",
    "    x_old = x0\n",
    "    for i in 1:n\n",
    "\n",
    "        x_new = f(solution[i])\n",
    "        push!(solution, x_new)\n",
    "        push!(steps, i)\n",
    "\n",
    "    end\n",
    "\n",
    "    return steps, solution\n",
    "\n",
    "end"
   ]
  },
  {
   "cell_type": "code",
   "execution_count": 10,
   "metadata": {
    "collapsed": false
   },
   "outputs": [
    {
     "data": {
      "text/plain": [
       "F (generic function with 1 method)"
      ]
     },
     "execution_count": 10,
     "metadata": {},
     "output_type": "execute_result"
    }
   ],
   "source": [
    "F(x) = x^2 - 2"
   ]
  },
  {
   "cell_type": "code",
   "execution_count": 12,
   "metadata": {
    "collapsed": false
   },
   "outputs": [
    {
     "data": {
      "text/plain": [
       "-1"
      ]
     },
     "execution_count": 12,
     "metadata": {},
     "output_type": "execute_result"
    }
   ],
   "source": [
    "F(1) "
   ]
  },
  {
   "cell_type": "code",
   "execution_count": 23,
   "metadata": {
    "collapsed": false
   },
   "outputs": [
    {
     "data": {
      "image/png": "[encoded data removed]",
      "text/plain": [
       "PyPlot.Figure(PyObject <matplotlib.figure.Figure object at 0x3218f4f50>)"
      ]
     },
     "metadata": {},
     "output_type": "display_data"
    },
    {
     "data": {
      "text/plain": [
       "(-2.1,2.1)"
      ]
     },
     "execution_count": 23,
     "metadata": {},
     "output_type": "execute_result"
    }
   ],
   "source": [
    "n_0, orbit_0 = iterator(F, 50, 0)\n",
    "n_1, orbit_1 = iterator(F, 50, 0.1)\n",
    "n_2, orbit_2 = iterator(F, 50,0.001 )\n",
    "plot(n_0, orbit_0)\n",
    "plot(n_1, orbit_1)\n",
    "plot(n_2, orbit_2)\n",
    "\n",
    "ylim(-2.1, 2.1)"
   ]
  },
  {
   "cell_type": "code",
   "execution_count": 24,
   "metadata": {
    "collapsed": false
   },
   "outputs": [
    {
     "data": {
      "text/plain": [
       "51-element Array{Float64,1}:\n",
       "  0.001   \n",
       " -2.0     \n",
       "  2.0     \n",
       "  1.99998 \n",
       "  1.99994 \n",
       "  1.99974 \n",
       "  1.99898 \n",
       "  1.99591 \n",
       "  1.98364 \n",
       "  1.93482 \n",
       "  1.74353 \n",
       "  1.03991 \n",
       " -0.918594\n",
       "  ⋮       \n",
       " -1.92867 \n",
       "  1.71975 \n",
       "  0.957554\n",
       " -1.08309 \n",
       " -0.826917\n",
       " -1.31621 \n",
       " -0.267596\n",
       " -1.92839 \n",
       "  1.7187  \n",
       "  0.953917\n",
       " -1.09004 \n",
       " -0.811808"
      ]
     },
     "execution_count": 24,
     "metadata": {},
     "output_type": "execute_result"
    }
   ],
   "source": [
    "orbit_2"
   ]
  },
  {
   "cell_type": "markdown",
   "metadata": {},
   "source": [
    "## Análisis gráfico"
   ]
  },
  {
   "cell_type": "markdown",
   "metadata": {},
   "source": [
    "A continuación ilustraremos una manera gráfica de visualizar la dinámica en un mapeo de un grado de libertad. Para esto hay que instalar alguna (o varias) paqueterías gráficas. En lo que sigue yo utilizaré el paquete `Plots.jl`; la documentación oficial se encuentra [aquí](https://juliaplots.github.io), y hay un [video](https://www.youtube.com/watch?v=LGB8GvAL4HA) donde se explican detalles del funcionamiento. Yo la utilizaré para usar como *backend* [`PyPlot.jl`](https://github.com/stevengj/PyPlot.jl), aunque hay varios más que ustedes pueden libremente elegir."
   ]
  },
  {
   "cell_type": "markdown",
   "metadata": {},
   "source": [
    "Antes que nada, deben instalar la paquetería. Dado que `Plots.jl` es un paquete *registrado*, uno lo puede instalar simplemente con:\n",
    "\n",
    "```julia\n",
    "    Pkg.add(\"Plots\")\n",
    "```\n",
    "\n",
    "También instalaremos otras dos paqueterías útiles:\n",
    "```julia\n",
    "    Pkg.add(\"PlotRecipes\")  # Instala una paquetería auxiliar\n",
    "    Pkg.add(\"PyPlot\")       # Instala PyPlot, que usaré como *backend*\n",
    "```\n",
    "\n",
    "Otros *backends* interesantes son `Plotly` y `GR`."
   ]
  },
  {
   "cell_type": "markdown",
   "metadata": {},
   "source": [
    "Para usarla la debemos cargar con el comando:"
   ]
  },
  {
   "cell_type": "code",
   "execution_count": 1,
   "metadata": {
    "collapsed": false
   },
   "outputs": [
    {
     "name": "stderr",
     "output_type": "stream",
     "text": [
      "INFO: Precompiling module PlotRecipes...\n",
      "INFO: Recompiling stale cache file /Users/claudiopierard/.julia/lib/v0.4/Rmath.ji for module Rmath.\n",
      "INFO: Recompiling stale cache file /Users/claudiopierard/.julia/lib/v0.4/StatsBase.ji for module StatsBase.\n",
      "INFO: Recompiling stale cache file /Users/claudiopierard/.julia/lib/v0.4/StatsFuns.ji for module StatsFuns.\n",
      "INFO: Recompiling stale cache file /Users/claudiopierard/.julia/lib/v0.4/Distributions.ji for module Distributions.\n",
      "INFO: Recompiling stale cache file /Users/claudiopierard/.julia/lib/v0.4/PDMats.ji for module PDMats.\n",
      "INFO: Recompiling stale cache file /Users/claudiopierard/.julia/lib/v0.4/DataFrames.ji for module DataFrames.\n",
      "INFO: Recompiling stale cache file /Users/claudiopierard/.julia/lib/v0.4/DataArrays.ji for module DataArrays.\n",
      "INFO: Recompiling stale cache file /Users/claudiopierard/.julia/lib/v0.4/GZip.ji for module GZip.\n",
      "INFO: Recompiling stale cache file /Users/claudiopierard/.julia/lib/v0.4/SortingAlgorithms.ji for module SortingAlgorithms.\n",
      "INFO: Recompiling stale cache file /Users/claudiopierard/.julia/lib/v0.4/KernelDensity.ji for module KernelDensity.\n",
      "INFO: Recompiling stale cache file /Users/claudiopierard/.julia/lib/v0.4/Optim.ji for module Optim.\n",
      "INFO: Recompiling stale cache file /Users/claudiopierard/.julia/lib/v0.4/Calculus.ji for module Calculus.\n",
      "INFO: Recompiling stale cache file /Users/claudiopierard/.julia/lib/v0.4/PositiveFactorizations.ji for module PositiveFactorizations.\n",
      "INFO: Recompiling stale cache file /Users/claudiopierard/.julia/lib/v0.4/ForwardDiff.ji for module ForwardDiff.\n",
      "INFO: Recompiling stale cache file /Users/claudiopierard/.julia/lib/v0.4/WoodburyMatrices.ji for module WoodburyMatrices.\n",
      "WARNING: New definition \n",
      "    +(AbstractArray{T<:Any, 2}, WoodburyMatrices.SymWoodbury) at /Users/claudiopierard/.julia/v0.4/WoodburyMatrices/src/SymWoodburyMatrices.jl:106\n",
      "is ambiguous with: \n",
      "    +(DataArrays.DataArray, AbstractArray) at /Users/claudiopierard/.julia/v0.4/DataArrays/src/operators.jl:276.\n",
      "To fix, define \n",
      "    +(DataArrays.DataArray{T<:Any, 2}, WoodburyMatrices.SymWoodbury)\n",
      "before the new definition.\n",
      "WARNING: New definition \n",
      "    +(AbstractArray{T<:Any, 2}, WoodburyMatrices.SymWoodbury) at /Users/claudiopierard/.julia/v0.4/WoodburyMatrices/src/SymWoodburyMatrices.jl:106\n",
      "is ambiguous with: \n",
      "    +(DataArrays.AbstractDataArray, AbstractArray) at /Users/claudiopierard/.julia/v0.4/DataArrays/src/operators.jl:300.\n",
      "To fix, define \n",
      "    +(DataArrays.AbstractDataArray{T<:Any, 2}, WoodburyMatrices.SymWoodbury)\n",
      "before the new definition.\n",
      "WARNING: New definition \n",
      "    +(AbstractArray{T<:Any, 2}, WoodburyMatrices.SymWoodbury) at /Users/claudiopierard/.julia/v0.4/WoodburyMatrices/src/SymWoodburyMatrices.jl:106\n",
      "is ambiguous with: \n",
      "    +(DataArrays.DataArray, AbstractArray) at /Users/claudiopierard/.julia/v0.4/DataArrays/src/operators.jl:276.\n",
      "To fix, define \n",
      "    +(DataArrays.DataArray{T<:Any, 2}, WoodburyMatrices.SymWoodbury)\n",
      "before the new definition.\n",
      "WARNING: New definition \n",
      "    +(AbstractArray{T<:Any, 2}, WoodburyMatrices.SymWoodbury) at /Users/claudiopierard/.julia/v0.4/WoodburyMatrices/src/SymWoodburyMatrices.jl:106\n",
      "is ambiguous with: \n",
      "    +(DataArrays.AbstractDataArray, AbstractArray) at /Users/claudiopierard/.julia/v0.4/DataArrays/src/operators.jl:300.\n",
      "To fix, define \n",
      "    +(DataArrays.AbstractDataArray{T<:Any, 2}, WoodburyMatrices.SymWoodbury)\n",
      "before the new definition.\n",
      "WARNING: New definition \n",
      "    +(AbstractArray, DataArrays.DataArray) at /Users/claudiopierard/.julia/v0.4/DataArrays/src/operators.jl:276\n",
      "is ambiguous with: \n",
      "    +(WoodburyMatrices.SymWoodbury, AbstractArray{T<:Any, 2}) at /Users/claudiopierard/.julia/v0.4/WoodburyMatrices/src/SymWoodburyMatrices.jl:107.\n",
      "To fix, define \n",
      "    +(WoodburyMatrices.SymWoodbury, DataArrays.DataArray{T<:Any, 2})\n",
      "before the new definition.\n",
      "WARNING: New definition \n",
      "    +(AbstractArray, DataArrays.AbstractDataArray) at /Users/claudiopierard/.julia/v0.4/DataArrays/src/operators.jl:300\n",
      "is ambiguous with: \n",
      "    +(WoodburyMatrices.SymWoodbury, AbstractArray{T<:Any, 2}) at /Users/claudiopierard/.julia/v0.4/WoodburyMatrices/src/SymWoodburyMatrices.jl:107.\n",
      "To fix, define \n",
      "    +(WoodburyMatrices.SymWoodbury, DataArrays.AbstractDataArray{T<:Any, 2})\n",
      "before the new definition.\n"
     ]
    }
   ],
   "source": [
    "using Plots, PlotRecipes"
   ]
  },
  {
   "cell_type": "code",
   "execution_count": 2,
   "metadata": {
    "collapsed": false
   },
   "outputs": [
    {
     "data": {
      "text/plain": [
       "Plots.PyPlotBackend()"
      ]
     },
     "execution_count": 2,
     "metadata": {},
     "output_type": "execute_result"
    }
   ],
   "source": [
    "# Esto define a `PyPlot.jl` como el *backend* que usaremos\n",
    "# Puede tardar un poco en cargarse, especialmente la primer vez que se usa.\n",
    "pyplot()"
   ]
  },
  {
   "cell_type": "markdown",
   "metadata": {},
   "source": [
    "Otros *backends* pueden usarse llamando el nombre del *backend* concreto. Por ejemplo:\n",
    "\n",
    "```julia\n",
    "gr()       # carga GR\n",
    "plotly()   # carga Plotly\n",
    "```\n",
    "    \n",
    "Los backends tienen que estar instalados."
   ]
  },
  {
   "cell_type": "markdown",
   "metadata": {},
   "source": [
    "Cargamos el paquete `LaTeXStrings.jl`, que normalmente ha sido instalado por `PyPlot.jl`. Sirve para poner cadenas de caractéres, en LaTex, para los ejes o los títulos."
   ]
  },
  {
   "cell_type": "code",
   "execution_count": 3,
   "metadata": {
    "collapsed": false
   },
   "outputs": [],
   "source": [
    "using LaTeXStrings"
   ]
  },
  {
   "cell_type": "markdown",
   "metadata": {},
   "source": [
    "La idea del análisis gráfico es poder visualizar los iterados de una órbita. En el eje de las abscisas dibujaremos $x_n$ y en el de las ordenadas dibujaremos $F(x_n)$. Entonces, para localizar $x_{n+1}$ simplemente necesitamos la gráfica de $y=F(x)$.\n"
   ]
  },
  {
   "cell_type": "markdown",
   "metadata": {},
   "source": [
    "Como ejemplo usaremos $F(x) = \\sqrt{x}$."
   ]
  },
  {
   "cell_type": "code",
   "execution_count": 4,
   "metadata": {
    "collapsed": false
   },
   "outputs": [
    {
     "data": {
      "text/plain": [
       "2.381923676069475"
      ]
     },
     "execution_count": 4,
     "metadata": {},
     "output_type": "execute_result"
    }
   ],
   "source": [
    "x0 = 5.0*rand()\n",
    "x1 = sqrt(x0)\n",
    "\n",
    "rangox = 0.0:1/32:5.2\n",
    "\n",
    "x0"
   ]
  },
  {
   "cell_type": "code",
   "execution_count": 5,
   "metadata": {
    "collapsed": false
   },
   "outputs": [
    {
     "name": "stdout",
     "output_type": "stream",
     "text": [
      "[Plots.jl] Initializing backend: pyplot\n"
     ]
    },
    {
     "name": "stderr",
     "output_type": "stream",
     "text": [
      "WARNING: Keyword argument markerstrokestyle not supported with Plots.PyPlotBackend().  Choose from: [:annotations,:background_color_legend,:background_color_inside,:background_color_outside,:foreground_color_grid,:foreground_color_legend,:foreground_color_title,:foreground_color_axis,:foreground_color_border,:foreground_color_guide,:foreground_color_text,:label,:linecolor,:linestyle,:linewidth,:linealpha,:markershape,:markercolor,:markersize,:markeralpha,:markerstrokewidth,:markerstrokecolor,:markerstrokealpha,:fillrange,:fillcolor,:fillalpha,:bins,:bar_width,:bar_edges,:bar_position,:title,:title_location,:titlefont,:window_title,:guide,:lims,:ticks,:scale,:flip,:rotation,:tickfont,:guidefont,:legendfont,:grid,:legend,:colorbar,:marker_z,:line_z,:levels,:ribbon,:quiver,:arrow,:orientation,:overwrite_figure,:polar,:normalize,:weights,:contours,:aspect_ratio,:match_dimensions,:clims,:inset_subplots,:dpi,:color_palette,:background_color,:background_color_subplot,:foreground_color,:foreground_color_subplot,:group,:seriestype,:seriescolor,:seriesalpha,:smooth,:xerror,:yerror,:subplot,:x,:y,:z,:show,:size,:margin,:left_margin,:right_margin,:top_margin,:bottom_margin,:html_output_format,:layout,:link,:primary,:series_annotations,:subplot_index,:discrete_values,:projection,:xforeground_color_axis,:yforeground_color_axis,:zforeground_color_axis,:xforeground_color_border,:yforeground_color_border,:zforeground_color_border,:xforeground_color_guide,:yforeground_color_guide,:zforeground_color_guide,:xforeground_color_text,:yforeground_color_text,:zforeground_color_text,:xguide,:yguide,:zguide,:xlims,:ylims,:zlims,:xticks,:yticks,:zticks,:xscale,:yscale,:zscale,:xflip,:yflip,:zflip,:xrotation,:yrotation,:zrotation,:xtickfont,:ytickfont,:ztickfont,:xguidefont,:yguidefont,:zguidefont,:xlink,:ylink,:zlink,:xdiscrete_values,:ydiscrete_values,:zdiscrete_values]\n"
     ]
    },
    {
     "data": {
      "text/html": [
       "<img src=\"data:image/png;base64,iVBORw0KGgoAAAANSUhEUgAAAlgAAAGQCAYAAAByNR6YAAAABHNCSVQICAgIfAhkiAAAAAlwSFlzAAAPYQAAD2EBqD+naQAAIABJREFUeJzt3Xl4VNXBx/HfvRMIawgkJIRAMOzIDrKFXWVVgWJRgxbB5QVFEa1WKy1Va1FbtKi1rmVzCRW0iCsIyiaLSlCIICAEEiCALGFfkrnn/eNCNJCwTmYmk+/neXgqs90Tp+qXe8491zLGGAEAAMBn7EAPAAAAINQQWAAAAD5GYAEAAPgYgQXgvDzwwAOKiorSoUOHLur9OTk5uuyyy5ScnOzjkRU/WVlZuvnmmxUfH6/w8HDdf//9l/R52dnZsm1blSpVUps2bTRlyhQfjRTAxSKwgBJo8+bNsm37rL8OHDiQ7/Uvv/yyHnjgAVWoUOGijlmqVCn98Y9/1LvvvqvU1FRf/ShBYf78+bJtW48//vh5vf7ee+9VSkqKEhMTNXr0aPXp0+eSjl+2bFmNHTtWycnJ2rBhg2677TalpaVd0mcCuDRhgR4AgMCpW7eubrnllgKfCw8Pz/vrcePGybIs3XvvvZd0vGHDhmnMmDF67LHHNGvWrEv6rGBkWdZ5vW7+/PmqVq2aFi5cKNu+9D/nhoeH67HHHpMkNW3aVPfee68WLVqkJk2aXPJnA7g4BBZQgtWtW1djx44962sOHjyod955R3379lVERMQlHa906dK6/vrrNXHiRG3btk3x8fGX9HnB5nx3vdm3b5+SkpJ8Elenq1+/viRp7969Pv9sAOePKUIAZzV9+nQdOXJEN9xwQ77H9+zZoxo1aigiIkIbN24s9LlNmzble+6GG26Q1+vVm2++6fOxbtiwQcOGDVNiYqLKlCmjqKgotWjRosA1Tj/88IOuvfZaVaxYUZGRkbrmmmuUlpamoUOHyrZtZWRk5L128uTJsm1bU6ZM0ccff6zOnTsrIiJCiYmJevzxx3XllVdKkh5//PF806y//oxfM8aoVKlShf4cffv2lW3bevfdd894X58+fWTbtqZPn17ge099rtfrPfvfLABFijNYAM5q3rx5kqQOHTrkezwqKkpvvvmmevToocGDB+urr75SWJj7r5Tbb79d27dv15QpU1S7du1872vbtq1s29a8efP0yCOP+Gyc27dvV9u2bXXkyBFde+21atCggQ4fPqz169fr5Zdf1rPPPpt3xigtLU0dO3bU4cOHdf3116tevXpavny5OnXqpObNmxd6jOnTp2vOnDm67rrrNHLkSB04cEDdunXT5s2bNWXKFHXr1k3dunXLe32lSpUu6meZPHmymjVrpuHDh6t9+/ZKSEiQJE2YMEGzZ8/WsGHDNGjQoIv6bAD+QWABJdiGDRvy1u78Wp8+fdSuXTtJ0uLFi1W1alXVrFnzjNd1795df/jDH/T000/rT3/6k55++mn9+9//1qxZszR48GD97ne/O+M9FStWVP369bV8+XIZY/KtWypoLGczbNgw1apVS5L03nvvaf/+/Xr++efPWCt26iq7U+655x4dPHhQb7/9dr6rGseMGaOnnnqq0LVUs2fP1uzZs/POWJ1ijMkLrHNNuWZnZ0tyF6YXJiYmRlOmTFHfvn01ePBgLVy4UKtWrdIjjzyi+vXr68UXXyz0vac+d//+/WcdB4CiRWABJdjGjRv1xBNP5HvMsixVqVJF7dq1k9frVWZm5lnP6jzxxBOaN2+exo8fr/j4eD388MNKTEzUK6+8Uuh74uPj9eOPP2rXrl2KjY3N91mWZZ3XWibLsnTllVfmBdYpZcqUOeO1kZGReX+dkZGhhQsXqnnz5mdsGfHoo4/q3//+d74rKH+tf//+Z8TVhVq8eLEkKTEx8ayv69Wrl+677z5NmDBBjzzyiD788ENZlqWUlBSVK1eu0PclJCTIsiwtXLjwksYJ4NKwBgsowXr37i3HcfL98nq9GjVqlCR3LZUkVa5cudDPCAsLy/uP/n333afc3Fy9/fbbZ93OISoqSpK0e/fufI+fOv7pYyrol9frVZcuXfLe269fP5UvX14jR47UTTfdpMmTJ5+x/kuSvv/+e0lSp06dzniufPnyatGiRaGB17Zt20J/pnN56qmndPvttys5OVlRUVEaOXLkOd/z9NNPq0WLFho/frzWrVunJ598Ui1btjzre+Li4nT77bdrxYoVat++vR588EEtWLDgoscN4OIQWAAuWWJiopo1ayZJat26tdq3b3/W1xfFPeZr1aqlZcuWqX///vrkk0902223qW7durr88ss1Y8aMvNedmjqLiYkp8HN+fUbtQp47l7///e+aNGmSjh49qnvuuUcNGzY853tKly6t3r17S3Kn/m6//fbzOtaoUaPUtGlTff311/rnP/9JYAEBwBQhgEKdOtN0rkv+n3vuOS1ZskTR0dFavny5Xn75Zd11112Fvv7U50VHR+d7/FLWYElS48aNNX36dOXm5mrFihX69NNP9cILL+jGG2/UokWLlJSUlLfwfNeuXQV+5s6dOws93vnuc1WQffv2KTMzUw888IAef/xxVa1aVXffffdZ37N8+XL94x//UHR0tHbv3q277rpL06ZNO+t7cnNz1aNHDx06dEgfffSRunbtqvLly1/0uAFcJAOgxElPTzeWZZk+ffqc87W1atUy0dHRhT6fmppqSpcubRo1amR27NhhateubcqVK2d++OGHQt/TqFEjU7FiReM4Tr7HLcsytm0by7LO+cu2bbNgwYJzjv/NN980lmWZRx991BhjzJYtW4xlWaZFixZnvPbgwYMmMjLS2LZttmzZkvf4pEmTjGVZZsqUKQUeY+HChcayLDN27Nhzjmfjxo3GsiwzaNCgs77uwIED+f5e/va3vzWWZZmJEyee9X2rVq0ylmWZW2+99ZxjAVB0mCIEcFYdO3bUnj17lJ6efsZzhw8fVnJysmzbVkpKimJjY/XOO+8oJydHycnJOn78+BnvOXjwoNatW6f27dufcUboUtZgpaamFrg4fceOHZJ+WfyekJCgLl266Pvvv9c777yT77Xjxo27qKvvqlSpIkmF7nv1a6e2XDjXWcG7775b6enpGj9+vC6//HK9/vrrqlmzpkaNGqUNGzYU+r59+/blOw6AwGCKEMBZ9ejRQykpKVqyZMkZV77dd999Wr9+vZ599tm8Kw3btWunv/zlL/rzn/+shx56SC+88EK+95zanuGqq67y6TinTp2q1157TV26dFHt2rUVERGhNWvW6NNPP1VUVJSGDRuW99qXXnpJHTt21JAhQzRz5kzVrVtXX3/9tb799lt17txZixYtuqBjN2rUSNWrV9e0adMUHh6u+Ph4WZalUaNGnbH7/am9whzHKfTz3nrrLb399tvq169f3lRrZGSk3nrrLXXv3l2DBw/W0qVL8z7r1059bkHPAfCjQJ9CA+B/FzJFeOjQIVOxYkXTv3//fI/PmDHDWJZlevXqdcZ7HMcxXbt2NbZtm48//jjfc3feeacJCwsz27Ztu7Qf4jTLly83I0aMME2bNjWVK1c25cqVMw0aNDCjRo0ymZmZZ7w+LS3NXHPNNaZixYomIiLCXHPNNeaHH34wt956q7EsK98U4eTJk41t24VOEZ46frdu3UxERETeFOavP+PXLMsy3bt3L/C5TZs2mUqVKpn4+HizZ8+eM57/05/+ZGzbNn/4wx8KfP+XX35pLMsyTzzxRKFjBVD0LGOK4HIeACFlxIgRmjx5srKyss66ZcO5HD9+XNWrV1enTp30wQcf+HCEvjN06FBNnTpVmzdvLrJptvDwcDVu3Fipqak+/+yZM2dq4MCBeuaZZ/TQQw/5/PMBnB/WYAE4p0cffVSWZZ11B/HzMWnSJGVnZ1/w1YKhpl69elq9erVmz56tI0eO+OQzjTHKysrSlClTJEl16tTxyecCuDgEFoBzSkhI0MiRI/XCCy/o0KFDF/UZOTk5euaZZ3TjjTeec7PMUHf//ffLcRz16dNHFSpUKPBm1BciOztbHo9H8fHx+uCDD9SoUSP17dvXR6MFcDGYIgSAXxk2bJimTp2q9PT0Ir0Sb/369VqwYIF2796t1q1bq2fPnhf9WcePH9czzzyjChUqqEGDBurRo4dKly7tw9ECuFAEFgAAgI8xRQgAAOBjQblRSlZWlrKysgI9DAAAgPMSFxenuLi4vN8HXWBlZWUpOTmZm5MCAIBio2vXrkpJScmLrKAMrAULFuitt95So0aNLuozRo8erQkTJvh4ZPAlvqPige8p+PEdFQ98T8HvUr6jtWvX6pZbblFWVlbwBtYpjRo1UqtWrS7qvZGRkRf9XvgH31HxwPcU/PiOige+p+Dn6++IRe4AAAA+5tczWD179tTOnTtl27bKlSunf/7zn2rbtq0/hwAAAFDk/BpYM2bMyLuz/MyZMzV06FCtWbPGn0MAAAAocn6dIjwVV5J7a4fY2NgiOU5ycnKRfC58h++oeOB7Cn58R8UD31Pw8/V35Ped3IcMGaL58+fL6/Vq3rx5atiwYb7nU1NT1bp1a61YsYIFgQAAIOgV1C5+v4pw6tSpef87cOBApggBAEDICdg2DUOGDNGIESO0d+9eValS5YznR48ercjIyHyPJScnc5oVAAAETEpKilJSUvI9lp2dfcbr/BZY+/fv1+HDh1W9enVJ7iL3+Pj4AuNKkiZMmMAUIQAACCoFnew5NUX4a34NrEGDBuno0aPyeDyqVq2aZs2a5a/DAwAA+I3fAishIUHLly/31+EAAAAChp3cAQAAfIzAAgAA8DECCwAAwMcILAAAAB8jsAAAAHyMwAIAAPAxAgsAAMDHCCwAAAAfI7AAAAB8jMACAADwMQILAADAxwgsAAAAHyOwAAAAfIzAAgAA8DECCwAAwMcILAAAAB8jsAAAAHyMwAIAAPAxAgsAAMDHCCwAAAAfI7AAAAB8jMACAADwMQILAADAxwgsAAAAHyOwAAAAfIzAAgAA8DECCwAAwMcILAAAAB8jsAAAAHyMwAIAAPAxAgsAAMDHCCwAAAAfI7AAAAB8jMACAADwMQILAADAxwgsAAAAHyOwAAAAfIzAAgAA8DECCwAAwMcILAAAAB8jsAAAAHyMwAIAAPAxAgsAAMDHCCwAAAAfI7AAAAB8jMACAADwMQILAADAxwgsAAAAHyOwAAAAfIzAAgAA8DECCwAAwMcILAAAAB8jsAAAAHyMwAIAAPAxAgsAAMDHCCwAAAAfI7AAAAB8jMACAADwMQILAADAxwgsAAAAHyOwAAAAfIzAAgAA8DECCwAAwMcILAAAAB8jsAAAAHyMwAIAAPAxAgsAAMDHCCwAAAAfI7AAAAB8jMACAADwMQILAADAxwgsAAAAHwsL9AAAAACKk1zHaNVeadkuR8t2Gs1fnnvGawgsAACAs9hxxGjZLqOlO93//Xa30ZFcKcySWkZbSoq19N/T3kNgAQAAnHTCa7RyjxtSp6JqyyH3ufjyUocYS0+0ttU+xlKraEtlwyylpnoILAAAgFO2HTZasvOXs1Ope4yOe6Vwj9Q62tL1ibY6xFhqH2OpRgXrvD+XwAIAACVCjmP0/R43qJbsNFq6yyjj5NmpyypIHWIt3VTHPTvVIspSac/5B9XpCCwAABCSdh9zz0ydCqpvfjY66pVK29IVVS3dUNs9O9Uh1lJcuYuPqYIQWAAAoNjzOkZrsqUlO528qNpwwH0urpyUFGvpyStsJcVaahltKfwSzk6dDwILAAAUO/tPGC3f9cvZqeW7jA7kSB5Lah4l9aph6/FY9wq/hAqSZRVtUJ2OwAIAAEHNGKMN+6Ulu05N+Tn6YZ9kJFUJd89OPdzcPTvVpqql8qX8G1MFIbAAAEBQOZLrrpc6dXXfkp1Ge467zzWu7AbV75u566fqV/L/2anzQWABAICAMcYo87DypvqW7HSv9Ms1UsVSUrsYSyMb20qKsdQuxlJkePDFVEEILAAA4Dfek7eZWbzD0Vc7jRbvNNp22H2uboS7kecdDWwlxdpqXFny2MUjqE5HYAEAgCJzKMddgL54h9FXJ/eeOpQjlbKlK6ItDa7jrp1KirUUU7Z4xlRBCCwAAOAz2w+7IfXVTjeqvttj5DVS5XApKcbSmBa2OsZauqKqe5uZUEVgAQCAi+IYo7X7pMU7HX21w53uSz/oPpdYUeoUa+nOhrY6xdpqVFmyg3AxelEhsAAAwHk5dvLqvlNnp5bsMtp33N17qkWUpX613LNTHWMtVS9fcmKqIAQWAAAo0O5jRl/t+CWoVuw2OuFIFUq5i9FHN3GDql2MpQpBsPdUMCGwAACAjDH66YBOxpSjxTuM1u13n4sv7073Da5rq2OsraZVpLBienWfvxBYAACUQF7HKG2ftDDL0aIdRot2GO04KlmSmlSRrqxua2wrd7ovELeaKe4ILAAASoATXneKb2GWG1OLdxrtP+Ful9C2qqWh9W11ruZul1BcNvMMZgQWAAAh6HCO0bJdRgt3GC3Kcv/6qFcqH3byVjNNbXWJs9Q2xLdLCBQCCwCAELD3mLsYfeHJ6b4VP7u3m4kKlzpVs/TkFbY6x1lqGWWxfsoPCCwAAIqh7YfdkHKDytHqve7jNcpLnatZGlrPVudqJW//qWBBYAEAEOSMMdp4QHkxtTDLaNPJDT3rV5K6VLP04Mkpv1osSA8Kfgus48eP68Ybb9TatWtVtmxZxcTE6OWXX1adOnX8NQQAAIoFxxil7ZUW7nCv8FuY9csVfs2jpGsT3AXpnatZii1HTAUjv57BGjFihHr37i1Jeumll3THHXfoyy+/9OcQAAAIOl7H6Pu90oIsR/NPXuW373j+K/y6xLlX+FUqTVAVB34LrPDw8Ly4kqR27dpp/Pjx/jo8AABBI9dxb4I8P8towcmg2n9CKuP5ZYf0LtXcHdK5wq94CtgarOeff14DBgwI1OEBAPCbXMcodXf+oDqYI5X1uFsmPNjUVtc4S21jLIV7CKpQEJDAGjdunDZt2qTXX389EIcHAKBI5TjuNgmngmrxTqNDOVK5MKljrKVHmrtB1aaqpdIEVUjye2CNHz9eM2fO1Ny5c1WmTJlCXzd69GhFRkbmeyw5OVnJyclFPUQAAC7ICa/Rt7uN5m93g+qrnUaHc92bIneMtTSmhRtUV1S1VIo9qIq1lJQUpaSk5HssOzv7jNdZxhjjr0E999xzeueddzR37twz4umU1NRUtW7dWitWrFCrVq38NTQAAM7bca/R17vcmFqww+irHe4u6RVLuZt6douz1DXOUqtogqokKKhd/HYGa+vWrXrwwQdVp04dde/eXZJUpkwZLV261F9DAADgopzwGi3fZfTlySm/JTuNjnmliFLupp5PXOGeoWKXdJzit8CqUaOGHMfx1+EAALhopxalf7Hd/fXVTqMjuVKl0u6mnn+7wlbXOFstoiQPQYUCsJM7AKDEc4zRqr3SF9ucvLNUB3PcGyN3ibP0WCtbV1YnqHD+CCwAQIljjNHabOmL7Y6+3O5e7bf3uLsPVVKspYeb27qyOovScfEILABAyDt1L78vtht9meVG1c6j7k7p7apauqexre5xltrHWCrDxp7wAQILABCSMg4Zfbnd6Ivtjr7YbrT1sGRb0hXR7q1nrqxuqWOspfKlCCr4HoEFAAgJO478ElRfZrlnrCSpRZQ0KNENqs5x3MsP/kFgAQCKpf0n3I09524zmrfd0dqTez02ipR613CDqmucpagyBBX8j8ACABQLx71GS3e6QTV3u9E3Pxs5RrqsgnR1vKU/t7TVrbqluHIEFQKPwAIABKVTWyfM3eZo7jajhVnubulR4dJV8ZZuq+/R1fGWakcQVAg+BBYAIGhsPnjyDNU2R/O2G+0+JpX1uLulP97a1tXxtppHSbZFVCG4EVgAgIDZc8zdKf3UOqqNB9wr/dpUtTS8oa2r4i11YOsEFEMEFgDAb47mGi3ecWodlaOVuyUjqUEld2H61fHujZIjwwkqFG8EFgCgyHgdo9Q9p6b93Hv6HfdK1cq6C9PvbWzrquqWalYgqBBaCCwAgE+lHzCas83RnK3u9F/2CalCKalbnKVn2tq6urqtyytLFuuoEMIILADAJTlwwr2X3+ytRnO2OvrpgOSxpPYxlkY3sdWjhqU23NMPJQyBBQC4IKem/WZnGs3Z5u5NlWuk2hWlXjVs/aOdpe7V2TEdJRuBBQA4p8xDRnO2ulN/c7cZ7T0uVSwlXVXd0gtJtnrWsFWH/aiAPAQWAOAMh3OMFmS5Z6jmbHVvQ2NJahtjaeTltnrWsNQuhmk/oDAEFgBAjjH6fo80Z6ujOdvcrRROOFLN8lKvGu4mn1dVt1SF+/oB54XAAoASaueRkwvTtzn6fJvRrqNSuTCpe5ylf7Rzp/0aVOJqP+BiEFgAUELkOkbLdxl9mmn06VZHqbvdx1tFS7fVd6f9kmIthXsIKuBSEVgAEMKyjhh9lmn0aaZ7lir7hFQl3J32u6+xrV41LMWWI6gAXyOwACCE5DjutgmfZhp9ttXRd3vcxeltqloa1cRWn5N7UnlYnA4UKQILAIq5rYeMPtvqBtXnW40O5EjRZdyzVA82s9Uz3lLVsgQV4E8EFgAUMye87j39Pju5lmr1Xsm2pHZVLf2+ma0+NS21jrZkszgdCBgCCwCKgYxDv6ylmrfd6GCOFFNW6l3D0qMtbPWItxTFFgpA0CCwACAI5TpGS3YafZxh9HGmox/2uWepOsRYeri5rT41bbWIEmepgCBFYAFAkNhzzF1L9VGGo88y3Sv+YspKfWta+ksrW1fHW6ocTlABxQGBBQABYoxR2j7powxHH2cYLd1l5Bh3X6pRTWxdU9PSFVVZSwUURwQWAPjR0VyjL7a7U38fZTjKPCyVD5N6xFt6tZNHfWtaql6eoAKKOwILAIpY5iGjjzMcfZxpNG+b0VGvVLuiNOAyW9cmWOoax+7pQKghsADAx7yO0fKffzlLtWqv5LGkztUsPXGFrWsTuMcfEOoILADwgezj7o2TP8pw9Gmm0Z7j7maffWpYGtPCvc9fJAvUgRKDwAKAi5R+wOiDLY5mbTFauMPIa6TmVaQRjWxdk2CpLbekAUosAgsAzpNjjL792WjWFjes0vZJpW3pqnhL/0qydU2CrZoVCCoABBYAnNWpq/5mbTH6MMNR1hGpSrh0bYKlx1q79/mrWJqoApAfgQUAp/n5qNHHmUaztjiavdXoSK5UN0IaXMdWv1qWkmIthTH1B+AszhlY+/bt065du2RZlmJiYhQZGemPcQGAX63LdoNq1hajJbuMjJHax1ga29JWv1q2GkZy1R+A81dgYC1btkwTJ07U3LlztXnz5nzPJSYm6qqrrtKwYcPUoUMHf4wRAHzO67g7p8/a4obVuv1SWY/Uo4al1zp5dG2CpdhyBBWAi5MvsBYvXqyHHnpI33zzjTp16qSbbrpJjRs3VlRUlIwx2rt3r9LS0rR06VJ17txZbdq00T/+8Q916tQpUOMHUAI5jqP09HR5vV4lJiaqVKlS5/W+416juduM/rfZPVP18zH3Xn/XJVj6ezv3Xn/lwogqAJcuX2D95je/0f3336/3339fcXFxZ33jjh07NHHiRA0cOFC7du0q0kECgOTeu+/f//63nnv279qUniFJiqlaRSPuukdjxoxR6dKlz3jPwRNGn2S6UfVJptHBHHc91bD6tvpfZqkdWykAKAL5Ais9PV0VKlQ4rzdWq1ZNjz76qEaNGlUkAwOA0426917966WXNDhJ+tdvpfBS0v++3aunn3pS33y9XB/M+lClSpXSz0fdqb//bXY0d7vRca/UIkp6qJmt31xmq3Fl1lMBKFr5Aut840qSvF6vPB7PBb0HAC7W0qVL9a+XXtJLQ6W7e/zy+JWNpX6tHPV8erZufeZNbW8xRIt2uIvUO8ZaeqqNrQG1bCVGEFQA/Mcu7Imbb75Z+/fvL/C5devWKSkpqcgGBQCne+2111SnWphGXHXmcz2aSj2a2Zo++RWVC5Ne6eRR1s1hWtQvTPc39RBXAPyu0G0a5s+fryZNmmjixInq0eOXPy4+//zz+uMf/6gmTZoU7cj2r5X2Fu0hABQf69K+Vqd6ubIL+WNh94aOVny+Xp/0Zns/AIFX6L+JVq9erbvvvlu9evXS3XffrXvuuUd33323Fi9erDFjxuhPf/pT0Y5syS1SVtEeAkDxUemEtO1Y4c9v3StFVorw34AA4CwKDawqVapo2rRp6t+/v2677Ta9/PLLqlevnpYuXarWrVsX/ciS3pKaNyr64wAIOl7H6Lu9Rp9vNfoyy91O4US7D7XmjSe1Zqt0eY38r997SHp7qUd33XtzYAYMAKc567n0PXv2aMaMGTpx4oRq1qyp7du3a+XKlf4JrEqNpCqtiv44AIKC1zFauMNo+iaj9zc72nlUqlFe+m1tW79NtNQiuYlaL0hRn/Fb9MbtubqqsWTb0rebpBGTPAoLr6iRI0cG+scAAElnCayPP/5Yd9xxh0qXLq25c+eqY8eOGjt2rEaMGKGZM2fqP//5j2JjY/05VgAhJtcxWpDlRtX/tjjadVRKqCDdXNeNqnYxluy87RTK6fO5X2rgb/qp59PfKSbSo9K2V1v3SomXVdfcebNUo0aNsx4PAPyl0MC67rrrNGTIEL3wwguKiHDXNTz99NPq16+fhgwZoiZNmujnn3/220ABhIZcx+jL7UbT0x39b7PR7mNSrQrSkHq2BiVaalPVKnSPqpo1a+rrb1K1aNEizf3wTeWuf0Mdbvyn+t54rzwej59/EgAoXKGB9f7772vAgAFnPJ6UlKTvv/9ev//974t0YABCR45j9MU2N6pmbjbac1xKrCjdVt/WoNqWWkcXHlWnsyxLXbp0UZcmFaTP3pB6d5GIKwBBptDAKiiuTilfvrxeeeWVIhkQgNBwwms0b7vR9E2OZm4x2ndcqhMh3dnQ1qDatlpGsZs6gNCVL7DWrl2rRo0u7Mq9H3/8UQ0bNvTpoAAUT96Ta6qmbXL0XrrR3uNSvQjprkbFqa7rAAAYPUlEQVRuVDWvQlQBKBnyBVb79u3Vq1cv3X777erRo4fsQnb0cxxHn3/+ud544w3NmTOn0B3fAYQ+xxgt22U0baN7tmrHUXf6b3gjWzfWttWMqAJQAuULrB9//FGPPfaYBgwYoLJly6pt27Zq0qSJqlSpIsndtiEtLU3ffPONjh49qqFDh2rdunUBGTiAwDHG6Ls90rSNjqZtcpRxSKpeTkquY+umOmdfqA4AJUG+wIqLi9Orr76qp556SikpKZo3b55mzJiRd7VgTEyMWrZsqb/+9a9KTk7OCy8AJcPafe7037SNjtbvl6LLSIMS3ajqVO3XWyoAQMlW4CL3KlWqaOTIkWzaB0CbDhj992RUrdorRZSSBiZaejHJ1pXVLYXZRBUAnC7fIqtmzZopLS0t3wveeecdZWdn+3VQAAJrxxGjCau9ajczV3X+m6snVzq6vLKlmT082vW7ME3qGqaeNWziCgAKke8MVlpamo4cOZL3+9zcXN1yyy369ttv1aoVt60BQtnBE0b/22z09k+O5m43CrOkPjUtTbvSo2sTLJUvRUwBwPk6670IAYS2HMdozlajt35y9MFmo6NeqWucpVc6efTbREuVw4kqALgYBBZQwhhjtHyX0Vs/uWurdh+TGleWxrayNbiurYQKRBUAXKqzBhaXWQOhY3220dsbHb39k6ONB6T48tKw+rZursteVQDga2cEVvfu3c/YYLRz585nPGZZlg4cOFC0owNwSXYecc9SvfWT0Tc/G0WUkn6baOm1Tra6xlnysEgdAIpEvsAaO3bseb+RP+0CwelortHMzUZTNzj6fJuRbUl9a1qafpVH1yRYKhvGP7sAUNTyBdZjjz0WoGEAuBTGGC3ZaTRlg6P/bjQ6kCN1jLX0UkdbgxJtVSlDVAGAP7HIHSjGMg4ZTV3vaOoGRxsOSAkVpPua2BpSz1bdSkQVAAQKgQUUM4dzjN7fbDRlvaMvthuVDXPXVb3a2V1Xxe1qACDwCCygGHCM0eIdRpPXO5qebnQox92vamJXj66/zFLF0kQVAAQTAgsIYukH3MXqUzY4Sj8oJVaUHmzqTgEmRhBVABCsCCwgyBzOMZqe7p6tWpBlVKGUdEOipcldbXWqxhQgABQHBBYQBIwx+na30Rs/GqVsdHQwR7qyuqU3u3n0m8u4DyAAFDcEFhBAe465N1d+Y52j1XulGuWl+5vaGlbf1mUViSoAKK4ILMDPHGP0xXaj/6xz9H66kWOk/pdZ+ntbWz3i2V0dAEIBgQX4ydZD7rqq/6xztPmQ1DBS+lsbd8F6TFmiCgBCCYEFFKEcx+ijLUZvrHP02VajMh7phtqW7mhgKynW4pZTABCiCCygCGQcMnr9R/dsVdYRqU1VSy939OimOpYi2LMKAEIegQX4iNcx+jTT6NUfHX2SaVQuTLqlrq3hjWy1iCKqAKAkIbCAS5R1xOg/Pzp6fZ2jjENSyyjp5Y4eJddhh3UAKKkILOAiOMZo3jajV9Y6+mCLUWlbSq5jacTltq6IZm0VAJR0BBZwAX4+ajRpvaPXfnS08YDUuLI0oYOtW+raigwnqgAALgILOAdjjL7+2ehfPzh6d5ORZUmDEi1N6cqVgACAghFYQCGO5Rr9d5MbVt/uNkqs6O5bNay+ragyRBUAoHAEFnCajEPu2qrXf3S0+5jUq4alD3t61Kcmu6wDAM4PgQXInQacn+WerZq5xahCmDSsga27G9mqH0lUAQAuDIGFEu1QjtFbGxz9a42jH/ZJl0dK/0pyF62zxQIA4GIRWCiRNh4wevEHR5PWOTqUK/WvZenFJFvd4li0DgC4dAQWSgxjjBbtMHputaNZW4yqhEsjG9sa0chWQgWiCgDgOwQWQl6OY/TuJqN/rna0YrdRo0jptc4e3VzXUtkwwgoA4HsEFkLWvuNGr6119OIaR9sOSz3jLX3a26NeNZgGBAAULQILIWfDfqPn0xxNWu8o15FuqWvp/qYeNalCVAEA/IPAQkgwxmjhyfVVH24xii4jPdTM1l2NbMWWI6wAAP5FYKFYyz25vmr8Kq9W7nG3WXj95PqqMqyvAgAECIGFYulwjtHEdY6eXe1oyyF3fdXsPrZ6xLO+CgAQeAQWipU9x9zd1l/8wVH2CenG2pY+6OlR8yiiCgAQPAgsFAtbDrrrq95Y58gY6fYGtn7fzNZlFQkrAEDwIbAQ1FbtMfr7Kq+mbTSqVNpduD7ycltVyxJWAIDgRWAhKC3b6ehv3zn6KMMooYL0XHtbtzewVb4UYQUACH62Pw82atQoJSYmyrZtrVq1yp+HRjFgjNGCLEc9PslVh1lebTxgNLWbRz/dGKZRTTzEFQCg2PBrYN1www1avHixatWq5c/DIsgZYzQ701GXD73q9pFXu48Zzbjao7Tfhul39WyVsgkrAEDx4tcpwk6dOvnzcAhyjjH6cIvRkysdfbvbqF2MpQ97enRNAlstAACKN9Zgwe+8jtF76UZ/+86rVXulrnGWPu/r0VXVCSsAQGggsOA3jnHD6rEVXq3JlnrVsPSvJFud4/w6Uw0AQJEL2sAaPXq0IiMj8z2WnJys5OTkAI0IF8sYo5mbjf6S6tXqvVLvGpYmdrXVLoawAgAULykpKUpJScn3WHZ29hmvC1hgGWPO+vyECRPUqlUrP40GRcEYow8z3DNWK/dIV8dbeqWfraRYwgoAUDwVdLInNTVVrVu3zveYX/9LN3z4cNWsWVPbtm1Tr169VL9+fX8eHn5ijNEnGY7azvSq/xyvIkpbWnCtR5/3DSOuAAAlgl/PYL366qv+PBz8zBijuduMxq5wtGyXUVKspXl9PerO4nUAQAkTtGuwULws2+nokW8cLchyt1uY3cejHvGEFQCgZCKwcEl+zDZ69Buv/rfZqEllaVZPj65lHysAQAlHYOGibD1k9FiqV5PWG9UoL03p6tHNdS152HUdAAACCxdm7zGjp7939OIPjsqHSc+2s3XX5bbCPYQVAACnEFg4L0dyjV5Ic/TM945yHOmhZrYebGYrojRhBQDA6QgsnJVjjKZuMBrzjVe7jkrDG9n6c0tbseUIKwAACkNgoVALsxzdv8yr1N3SoERL49p4VLcSYQUAwLkQWDjDpgNGf/jaq/fSja6ItrToOludqrFBKAAA54vAQp79J4z+ttLR82mOqpaVpnZzrwy02XIBAIALQmBBuY7Rf9Y5+vO3jg7nSo+2cBewly9FWAEAcDEIrBJu7jZH9y/1Km2fNKSeu84qvjxhBQDApSCwSqgtB40eWObV+5uNOsVa+maArSuqss4KAABfILBKmGO5RuNXORr3naPK4dI73T26qQ63tgEAwJcIrBLk00xHo5Z4tfmgNLqprbEtbVVko1AAAHyOwCoBNh80Gr3Uqw+2GHWPs/RBT48ur0xYAQBQVAisEJbjGE1Y7egvKxxVKSNNu9KjG2ozHQgAQFEjsELU17sc/d8ir1bvk+5tbOuvrZkOBADAXwisEHPghNGYbxy9tMZRy2hpeX8PVwcCAOBnBFYIeT/d0b1LvNp/Qnq2va17G9sKszlrBQCAvxFYIWDnEaORS9x7B16XYOlfHT1KqEBYAQAQKARWMWaM0bSNRvcu8cqypP9e6dEgFrEDABBwBFYxlXXE6K7F7tYLN9a29GKSR1XLElYAAAQDAquYMcbozQ1Go5d5VcqW3rvao4GJLGIHACCYEFjFyM4jRncs8uqjDKOb61p6voNHUWU4awUAQLAhsIqJWVsc3bHQXWv1QU+P+tXirBUAAMGKwApyh3KMHljm1es/ulcIvtHFoxjWWgEAENQIrCC2fJejW770avsR6bXOHt3RgCsEAQAoDgisIJTrGI37ztETqY5aR1v6pLdH9SoRVgAAFBcEVpDZdtjopnleLd1l9KeWtsa0tFWK3dgBAChWCKwg8lmmo9/N96qMR1pwrUcdq7GQHQCA4oj/ggeBXMfo0W+86vOZV22rWlo5MIy4AgCgGOMMVoBtPWSU/IU7JfhMW1sPNrNls5AdAIBijcAKoFNTguFMCQIAEFL4L3oAGGP0t5Ve9f3MqzZVLX3HlCAAACGFM1h+dijHaNgCr2akG41tZesvrZgSBAAg1BBYfpR+wGjA57naeICbNAMAEMoILD/5crujQXO9qlRaWto/TE2rcNYKAIBQxSmUImaM0YtpXvX4xKuW0Za+GUBcAQAQ6jiDVYRyHaORXzl67UdH9zex9fd2tsLYlR0AgJBHYBWRwzlGN87zavZWo4ldPBrWgJOFAACUFARWEdh11Oja2V6tzTb6uLdHPWsQVwAAlCQElo/9tN+o92e5OpQjLbg2TK2imRIEAKCk4dSKD33zs6OkWbnyWNLSfsQVAAAlFYHlIx9nOOr2kVd1Iyx91S9MiRHEFQAAJRWB5QNvbXDUf45XPeMtzbvGo+gyxBUAACUZgXWJ3vjR0ZD5Xt1az9KMqz0qG0ZcAQBQ0hFYl+DFNK/uXOTVXZfber2LRx72uAIAACKwLtpzq7watdTR75va+lcSN2wGAAC/ILAuwotpXv1+uaM/trD1j3a2LOIKAAD8CoF1gV5Z4565erCZrb9dQVwBAIAzEVgXYOI6R3d95WhUY1t/b0tcAQCAghFY5+l/6Y7uXOTV8Ia2JnQgrgAAQOEIrPOwMMtR8pdeXX+ZpZc6ElcAAODsCKxzWLXHqN8crzrGWnqzO1sxAACAcyOwziLzkHvj5joR0v96eBTuIa4AAMC5EViFOJxj1G9OrkrZ0ie9whRRmrgCAADnJyzQAwhGjjH63XyvfjogfXVdmGLLEVcAAOD8EVgF+PO3jmZuNvqgp0fNoogrAABwYQis00zb6Gjcd47+0c7WdbWYQQUAABeOgviVddlGdy7yanAdS79vyt8aAABwcaiIk47kGg2al6sa5aVXO3vY6woAAFw0pghPGrXEq5/2S18PCFOFUsQVAAC4eASWpKnrHf1nndGkrh41qUJcAQCAS1PipwgzDhnds8SrIfUsDa1f4v92AAAAHyjRRWGM0f8t8iqitPR8B0+ghwMAAEJEiZ4inLjOaPZWo096exQZztQgAADwjRJ7BivzkNEDy7waVt9Sn5ol9m8DAAAoAiWyLE5NDVYoJT3XnqlBAADgWyVyivDDDKPPtrq3wmFqEAAA+FqJO4OV4xg9tNyrq+MtXZdAXAEAAN8rcWewXlnjaMN+afpV7NYOAACKRok6g7XvuNFjqY5ua2CpWRRxBQAAikaJCqy/rXR03Cv99QoWtgMAgKJTYgIr/YDRCz84eri5rbhynL0CAABFp8QE1vM/OIooJf2+WYn5kQEAQICUiNo4eMJo4jpHwxvZKhfG2SsAAFC0SkRgTdng6EiudFejEvHjAgCAAAv54nCM0Ys/OLo+0VKNCpy9AgAARS/kA2vOVqP1+6VRjUP+RwUAAEEi5Kvj+TRHraKlpFjOXgEAAP8I6cBal+3ec3BUY3ZtBwAA/hPSgTVxnaPoMtKNtYkrAADgPyEdWN/8bNQ1zlIZtmYAAAB+FLKBZYzRqr1GTSsTVwAAwL9CNrB2HJX2HJeaVSGwAACAf4VsYK3aYyRJzaIILAAA4F8hG1ir9xmVD5MSKwZ6JAAAoKQJ2cBatceoSRVLNtszAAAAPwvdwNpr1KxKoEcBAABKopAMrBzHaG22uIIQAAAEREgG1vps6YTDAncAABAYIRlYq/a6VxByBgsAAARCSAbW6n1G8eWlKmUILAAA4H8hGVir9hg2GAUAAAETkoG1eh+BBQAAAsevgbVhwwYlJSWpQYMGatu2rdasWePzY2QfN8o4xC1yAABA4Pg1sIYPH64RI0Zo3bp1evjhhzV06FCfH2P1qQXuBBYAAAgQvwXWrl27tGLFCt1yyy2SpIEDByozM1ObNm3y6XFW7zMqZUsNKvn0YwEAAM6b3wIrMzNTcXFxsm33kJZlKSEhQRkZGT49zqo9UqNIqbSHM1gAACAwQm6R+6q9hulBAAAQUGH+OlDNmjWVlZUlx3Fk27aMMcrIyFBCQkKBrx89erQiIyPzPZacnKzk5OSzHicp1lL36gQWAADwvZSUFKWkpOR7LDs7+4zX+S2wYmJi1KpVK7355pu69dZb9d5776lmzZqqXbt2ga+fMGGCWrVqdcHHGd/ec6lDBQAAKFBBJ3tSU1PVunXrfI/5LbAk6dVXX9XQoUM1btw4VapUSZMmTfLn4QEAAPzCr4FVv359LVmyxJ+HBAAA8LuQW+Qu6Yy5UQQfvqPige8p+PEdFQ98T8HP198RgYWA4DsqHviegh/fUfHA9xT8CCwAAIAgR2ABAAD4GIEFAADgY369ivBCrF279qLfm52drdTUVB+OBr7Gd1Q8BPX3tH+tlC7p+7VSCb73aFB/R8jD9xT8LuU7KqhZLGOMudRB+VJWVpaSk5O1YMGCQA8FAADgvHTt2lUpKSmKi4uTFISBJbmRlZWVFehhAAAAnJe4uLi8uJKCNLAAAACKMxa5AwAA+BiBBQAA4GMhFVgbNmxQUlKSGjRooLZt22rNmjWBHhJOM2rUKCUmJsq2ba1atSrQw0EBjh8/rgEDBqhBgwZq0aKFevbsqY0bNwZ6WChAz5491bx5c7Vs2VIdO3bU119/HeghoRCTJk2SbduaNWtWoIeCAlx22WVq2LChWrZsqZYtW2r69OmX/JkhFVjDhw/XiBEjtG7dOj388MMaOnRooIeE09xwww1avHixatWqFeih4CxO/XP03XffqX///rrjjjsCPSQUYMaMGfr++++1cuVKPfTQQ/w7L0ht3rxZb7zxhjp06BDooaAQlmXp3Xff1cqVK7Vy5UoNGjTokj8zZAJr165dWrFihW655RZJ0sCBA5WZmalNmzYFeGT4tU6dOik+Pj7Qw8BZhIeHq3fv3nm/b9eunTZv3hy4AaFQEREReX+dnZ2t2NjYAI4GBXEcR3feeadefPFFlS5dOtDDwVn4+pq/oN1o9EJlZmYqLi5Otu02o2VZSkhIUEZGhmrXrh3g0QHF1/PPP68BAwYEehgoxJAhQzR//nx5vV7Nmzcv0MPBaZ577jl16tRJrVq1CvRQcA6/+93vJElt27bV008/rejo6Ev6vJA5gwXA98aNG6dNmzbpqaeeCvRQUIipU6cqIyNDTz31lAYOHBjo4eBX0tLS9P7772vMmDF5j7EzUnBatGiRVq1apdTUVEVHR+vWW2+95M8MmcCqWbOmsrKy5DiOJPf/xBkZGUpISAjwyIDiafz48Zo5c6Y+/fRTlSlTJtDDwTkMGTJEmzdv1t69ewM9FJy0ePFibd68WfXq1VNiYqKWLVum//u//9Orr74a6KHhNDVq1JAkhYWF6b777tOiRYsu+TNDJrBiYmLUqlUrvfnmm5Kk9957TzVr1mR6MIjxJ7ng9dxzz2natGmaM2dOvnU+CB779+/X9u3b834/c+ZMxcfHq0qVKgEcFX5txIgR2r59u9LT05Wenq727dvr9ddf1/DhwwM9NPzKkSNHlJ2dnff7lJQUn0zphswaLEl69dVXNXToUI0bN06VKlXSpEmTAj0knGb48OH65JNPtHPnTvXq1UsRERFav359oIeFX9m6dasefPBB1alTR927d5cklSlTRkuXLg3wyPBr+/fv16BBg3T06FF5PB5Vq1aNLQCAi7Bz505df/318nq9MsaoTp06mjp16iV/LrfKAQAA8LGQmSIEAAAIFgQWAACAjxFYAAAAPkZgAQAA+BiBBQAA4GMEFgAAgI8RWAAAAD5GYAEAAPgYgQUAAOBjBBYAAICPEVgAAAA+RmABCFkHDhxQrVq1NGjQoHyPjxgxQtHR0dqxY0eARgYg1BFYAEJWRESEJk+erPfff19vvfWWJOnTTz/Va6+9ppdfflnVqlUL8AgBhCrLGGMCPQgAKEqjR4/WlClT9OWXX6pv37668sor84ILAIoCgQUg5B07dkytWrXSpk2bFBMTo9WrV6tSpUqBHhaAEMYUIYCQV6ZMGfXv318nTpzQ4MGDiSsARY4zWABC3qpVq9SmTRs1bdpUa9asUWpqqho2bBjoYQEIYQQWgJB24sQJtWnTRpGRkZo7d646duwoSVq6dKk8Hk+ARwcgVDFFCCCkjR07Vunp6Zo8ebJKlSqlqVOnKi0tTU8++WSghwYghBFYAELWkiVLNH78eD377LNKTEyUJDVs2FBPPfWUxo0bp9TU1ACPEECoYooQAADAxziDBQAA4GMEFgAAgI8RWAAAAD5GYAEAAPgYgQUAAOBjBBYAAICP/T+xLgTJo+P3HgAAAABJRU5ErkJggg==\" />"
      ]
     },
     "execution_count": 5,
     "metadata": {},
     "output_type": "execute_result"
    }
   ],
   "source": [
    "# Se tarda un poco porque inicializa varias cosas internamente;\n",
    "# entre otras cosas, carga PyPlot.\n",
    "\n",
    "# Dibuja F(x) y define escalas, etc\n",
    "plot(rangox, sqrt, \n",
    "    xaxis=(\"x\", (0.0, 5.0), 0:5.0), \n",
    "    yaxis=((0.0, 3.0), \"F(x)\"), \n",
    "legend=false, title=\"F(x)=sqrt{x}\", grid=false)\n",
    "\n",
    "# Dibuja x_0 -> x_1 = F(x_0)\n",
    "plot!([x0, x0, -0.5], [-0.5, x1, x1], color=(:orange), marker=:dot)\n"
   ]
  },
  {
   "cell_type": "markdown",
   "metadata": {},
   "source": [
    "Para visualizar el valor $x_1$ en el eje `x`, usamos la identidad, i.e., la recta $y=x$. Noten el ligero cambio para que los ejes y el título aparezcan más agradables."
   ]
  },
  {
   "cell_type": "code",
   "execution_count": 6,
   "metadata": {
    "collapsed": false
   },
   "outputs": [
    {
     "name": "stderr",
     "output_type": "stream",
     "text": [
      "WARNING: Skipped marker arg point.\n"
     ]
    },
    {
     "data": {
      "text/html": [
       "<img src=\"data:image/png;base64,iVBORw0KGgoAAAANSUhEUgAAAlgAAAGQCAYAAAByNR6YAAAABHNCSVQICAgIfAhkiAAAAAlwSFlzAAAPYQAAD2EBqD+naQAAIABJREFUeJzs3Xd0VNXeh/HnzCSBUEMoCVUQaSooRaT3IorloqgR5WLHei3X7mtBRLEhCPaKCBZsiCBKlSZyQYqCgPQSQm8hpMzZ7x8bEKQnMzkzme9nLZY6SWZ+A+vqc/fZs49jjDGIiIiISND4vB5AREREpKBRYImIiIgEmQJLREREJMgUWCIiIiJBpsASkbATCARy9XM5OTlBnkREJHcUWCISVl588UVmz56dq5998sknmTt3bpAnypvffvsNn8+X519+v9/rtyIipyDG6wFEpGDKzs7m0ksvZenSpaxYsYLSpUvTsGFDHMfBGENGRgaLFy9my5Yt3H777QwePJg333yThIQEmjRpkqvXfOKJJ+jatSvvv/8+lStXDvI7yp2RI0cSCARwHMfrUUQkHymwRCQkYmNjGTNmDJ999hkpKSk8//zz3HjjjYd9T1ZWFh07dqRs2bIsXbqUzz//nIkTJ+b6NQsVKsTLL79Mr169mDBhQl7fQp4tX76catWqKa5EopAuEYpISE2bNg2AFi1aHPG1uLg4rr/+epKTk3n44Ye5/fbb8/x69erVIy4ujrFjx+b5ufJq6NCh9OzZ0+sxRMQDCiwRCampU6dSqlQpatWqddSvFy9enPT0dH799Ve6desWlNe84447ePHFF4PyXLm1ceNGEhISiIuL83QOEfGGAktEQmbnzp0sXLiQ888//7DHp0+ffvDvt2/fzt69e2nVqhU+X3D+ldSiRQumTZvG1q1bg/J8ufH+++8fcUlURKKH9mCJSMjMmDEDY8wRm9Y//PBDmjdvDsBNN91Ehw4d6Nq16zGfZ+bMmXz++efk5OSQnp7OwIED6dOnDzExMaSlpfHGG29QqFChg9+fkJDAmWeeyU8//cTVV18dmjd3HDt37gSgRIkSx/yeU31PIhJZFFgiEjJTp04FOCyw3n33XRITEw/7vvnz5/PQQw8d9TmWLFnCF198wYABAwBo06YNbdq0YcyYMbz//vv079+fu+66i/r16x/2czVq1GD+/PnHDKwePXqwaNGik34vpUuXZvz48Yc9tmbNGuLj4ylbtuxhj3/wwQfHXb3K7XsSkcihwBKRkDkQWC+88AKvvPIKq1atYunSpYwaNerg9+zZs4etW7eSkJBw1OcYNGgQL7/88sF/zsjIoH79+iQlJdG8eXOeeeaZo4ZIYmIiK1euPOZsn3zySW7fFgBz586lb9++nHvuuTzxxBMHH8/MzGT79u0kJSUd82dz+55EJHI4xhjj9RAiUvBkZmZSsmRJatasyYIFCw4+fsEFFzBixAhKlSoFwPr166lcuTJLliyhRo0aRzzPmjVrqFKlCgD79u2jVKlSvPvuu/To0eO4r//www8zf/78kH2a0HVdVq5cSdu2bVm5cuXBg0Dfffdd2rZtS/Xq1Y/5s7l9TyISObTJXURCYvbs2WRlZdGuXbvDHq9du/bBuAIOnhHluu5Rn+dAiIDdt5SZmUnLli1P+Pqu6xLK///o8/moXr06Z599Nl999RVgb/GzfPny48YV5P49iUjk0CVCEQmJA5cH27dvf9jjr7zyymH/XLJkScB+mvBEJk2aRJUqVQ4LlFWrVlG1atUjvnfbtm2Hhdw/9ezZk8WLF5/wNQ9ITExk3LhxRzx+4EiI7t27M3LkSLp3737Szwmn9p5EJHIosEQkJKZOnUpMTAxt2rQ57PF/HsVQtGhRypYty7Zt2454joyMDJ588kl69uzJ2WefzYQJE2jWrNnBr6empjJ8+HAeffTRI352+/btxzx7C+whoMHQpUsX/vOf//D7778zZ84crrrqquN+f17ek4hEDl0iFJGgy87OZsaMGdSvX5/ixYuf8PsbNGhw1E/0jRkzhpdeeok//viD2bNns2nTpoNHF2RnZ/PMM8/Qu3fvoz7nn3/+ScOGDfP2Rk6Cz+ejd+/eXHvttVxwwQUn/P68vCcRiRza5C4iQbNmzRpuuukmVq5cyYoVK4iPjz/46biRI0ce8+defvllpk6dyjfffHPY41u2bOH++++nXLlyxMfHc++993LLLbdQsWJFAoEAd99991E3xm/ZsoWKFSuSmpp6xJEQobBt2zYuv/xyJk2adMLvze17EpHIosASEc+tWbOG8847j/Xr1xMTk/edCyNHjuTDDz9k9OjRQZhOROTU6RKhiHiuSpUqtG/fnmHDhgXl+QYPHsx9990XlOcSEckNBZaIhIXnnnuOIUOGHPO4hpM1c+ZMihcvfsTxECIi+UmXCEUkbAwbNoxFixbRr1+/XP38nj17uPTSSxk+fPhxT1IXEQk1rWCJSNi49tprqVChAhMmTMjVz/ft25eBAwcqrkTEc1rBEhEREQkyrWCJiIiIBFnEnOSemppKamqq12OIiIiIHKF8+fKUL1/+4D9HRGClpqaSkpLClClTvB5FRERE5AitW7dmxIgRByMrYgJrypQpDBs2jDp16uTqOe655x5effXVIE8mwaI/n/CnP6Pwdsw/n8xMuP9+mDMHBgyAJk3yfzgB9L+hcJeXP5/Fixdz7bXXkpqaGlmBdUCdOnVo0KBBrn42ISEh1z8roac/n/CnP6PwdtQ/n4wMuOwymDcPxoyB9u29GU4A/W8o3AX7zyeiAktERE7S3r02rqZNg9GjQQeviuQrzwOrU6dOpKWl4fP5KFKkCAMGDKBx48ZejyUiErn27oVLLoGZM+3KVZs2Xk8kEnU8D6yRI0dSokQJAL755ht69erFokWLPJ5KRCRCpafDxRfDr7/C2LHQqpXXE4lEJc8D60BcAezYsSNkJzCnpKSE5HklOPTnE/70ZxTeUlJSbFx17QqzZ9u4atnS67HkEPrfUHgL9p9PWJzk3rNnTyZPnkwgEGDChAnUrl37sK/PnTuXhg0bMmfOHG0QFBE5mj174KKLYO5c+OEHaN7c64lEosbROsXzFSyAoUOHHvxrt27ddIlQRORU7N4NF14I8+fDuHHQrJnXE4lEvbAIrAN69uxJ79692bZtG4mJiUd8/Z577iEhIeGwx1JSUrTsKiLRa/du6NIFFi6EH3/UOVciITZixAhGjBhx2GM7duw44vs8DaydO3eSnp5OhQoVALvJvWLFikeNK4BXX31VlwhFRA7YtQsuuAD++MPG1fnnez2RSIF3tIWdA5cID+V5YHXv3p2MjAz8fj/JycmMGjXKy5FERCLDzp02rhYvhvHj4bzzvJ5IRA7haWBVqVKFWbNmeTmCiEjk2bEDOneGpUttXDVq5PVEIvIPYbUHS0RETmDHDujUCf76CyZMAG2bEAlLCiwRkUixfbuNqxUrbFzVr+/1RCJyDAosEZFIsG0bdOwIq1fDxIlwzjleTyQix6HAEhEJd1u3QocOsG6djat69byeSEROQIElIhLOtmyxcbV+vY2runW9nkhEToICS0QkXG3ebOMqNRUmTYKzz/Z6IhE5SQosEZFwtGkTtG9vI2vyZDjzTK8nEpFToMASEQk3mzZBu3b28uCkSVCnjtcTicgpUmCJiISTtDQbV9u325Wr2rW9nkhEckGBJSISLlJTbVzt2mXjqmZNrycSkVxSYImIhIPUVGjbFvbssXFVo4bXE4lIHiiwRES8tmGDjau9e21cnXGG1xOJSB4psEREvLR+vY2rfftsXFWv7vVEIhIECiwREa+sXWvjKjvbxtXpp3s9kYgEiQJLRMQLa9bYuAoEbFxVq+b1RCISRAosEZH8tnq1jStjbFxVrer1RCISZD6vBxARiSqrVkGbNvbvFVciBZYCS0Qkv6xcaePK54MpU+C007yeSERCRIElIpIfVqywcRUTY+OqcmWvJxKREFJgiYiE2vLlNq4KFbJxVamS1xOJSIgpsEREQumvv6B1a4iPt3uuKlb0eiIRyQcKLBGRUFm2zMZVsWI2ripU8HoiEcknCiwRkVBYssTGVYkSNq7Kl/d6IhHJRwosEZFg+/NPu+eqVCkbV8nJXk8kIvlMgSUiEkyLF9u4Kl0aJk2CpCSvJxIRDyiwRESCZdEiG1flytm4KlfO64lExCMKLBGRYPj9dxtXyckwYQKULev1RCLiIQWWiEheLVxo7y1YsaLiSkQABZaISN7Mn2/jqnJlGD8eypTxeiIRCQMKLBGR3Jo3D9q3t/cUHD/ebmwXEUGBJSKSO3Pn2riqVs3GVWKi1xOJSBhRYImInKo5c6BDB6heHX76yZ53JSJyCAWWiMip+N//bFzVrGnjKiHB64lEJAwpsERETtbs2TauateGceOgZEmvJxKRMKXAEhE5GbNm2bg66yzFlYickAJLROREZs6Ejh2hbl344Qd7A2cRkeNQYImIHM+MGdC5M5x7LowdC8WLez2RiEQABZaIyLFMn27jqn59GDNGcSUiJ02BJSJyNFOn2rhq1MjGVbFiXk8kIhFEgSUi8k9TpkCXLnD++fD991C0qNcTiUiEUWCJiBxq8mS48EJo0gS++w6KFPF6IhGJQAosEZEDJk60cdW8ueJKRPJEgSUiAvZ+ghddBK1awbffQny81xOJSARTYImI/PQTXHwxtGkD33yjuBKRPFNgiUh0GzfOxlW7dvD111C4sNcTiUgBoMASkej1ww9w6aX2lPavvlJciUjQKLBEJDqNGWPjqnNnGDkSChXyeiIRKUAUWCISfUaPhn/9y5519cUXiisRCToFlohEl+++g27d7CcGP/8c4uK8nkhECiAFlohEj2+/hcsvh0sugc8+U1yJSMgosEQkOnz9NVxxBVx2GYwYAbGxXk8kIgWYAktECr4vv4Qrr7SrV8OHK65EJOQUWCJSsH3xBVx1FXTvDsOGQUyM1xOJSBRQYIlIwfXZZ5CSAldfDUOHKq5EJN8osESkYBoxAq65xv766CPFlYjkKwWWiBQ8w4fDtdfaXx98AH6/1xOJSJRRYIlIwTJsGFx3HfTsCe+/r7gSEU8osESk4PjoIxtW118P772nuBIRzyiwRKRg+PBDG1Y33ghvvw0+/etNRLyjfwOJSOR7/3244Qa4+WZ46y3FlYh4Tv8WEpHI9u67dtWqd2944w3FlYiEBf2bSEQi19tv21WrO+6AIUMUVyISNvRvIxGJTG++CbfeCnfdBa+9Bo7j9UQiIgcpsEQk8gwZArfdBv/5DwwcqLgSkbCjwBKRyPLaa3DnnXDvvTBggOJKRMKSAktEIsfAgXD33XD//fDyy4orEQlbCiwRiQwDBsA998ADD8CLLyquRCSsKbBEJPy9/DLcdx88/DD076+4EpGwp8ASkfD24ovw3//Co49Cv36KKxGJCAosEQlf/fvDgw/C449D376KKxGJGAosEQlPzz1nLwk+8QT06aO4EpGIEuP1ACIiR+jbF/7v/+Cpp+DJJ72eRkTkqLbtM8zabPh6ceCIrymwRCS89Oljo6pPHxtZIiJhIMc1/L4dfklz+WWTYeYmw9Kd9msJG80R36/AEpHw8dRT8PTTdgXrsce8nkZEoljaXsMvm/7+NXuzIT0HYhw4p7RDx4o+nmjg0KScw45lfho9cfjPK7BExHvG2FWrZ575e++ViEg+yXYN87YafkmzK1O/bDKs3G2/Vr4INC3n8GQDH03KOTQs61Ak5vA9oXOPskdUgSUi3jLGXgp89tm/PzUoIhJCmzIMM/fH1Iw0uzq1LwBxPmhQxuGy02xMNUlyqFwUnFx8yEaBJSLeMcZeCnzuub/PuxIRCaKAa/hjO8xIc5mxP6r+2mW/VqEINEty6Heej6blHOqXcSjkD84nlhVYIuINY+CRR+yq1YGT2kVE8mhHpjm4CX1GmmHWJsPubPA7UL+0w4WVfTRNcmiWh9Wpk6HAEpH8Z4y9FPjSS3/fY1BE5BQZYz/JNyPNMCPNZeYmw6LtYIAyhe3eqUfP9dEsyaHRUfZOhZICS0TylzH2UuArr8CgQXDXXV5PJCIRIj3b8Otmu3/qwOW+bZngAGcnQoskHw/Wc2ia5HBGidCtTp0MBZaI5B9j7KXAV1+FwYPhjju8nkhEwpQxhtV7DqxOGWZucpm/FQIGSsRC0ySHu8+yq1ONyzmUjAuvuz0osEQkfxhjLwUOGgRDhsDtt3s9kYiEkX05hrlb/16dmpFm2Jhhv1azpN2M3ruO3Yx+ZinwhfntsxRYIhJ6xthLgUOGwJtvwq23ej2RiHhsc4aNqGlphukbDXO2GLJcKBIDjcs63FDLxlSTJIcyhcM7po5GgSUioeW6cOed8MYb8PbbcPPNXk8kIvnMGMOynTA9zTBto8v0NMOS/beZqVwUmic7XHOGj2ZJPuolQowv8oLqnxRYIhI6rmv3Wb31Frz7Ltx4o9cTiUg+yAoY5m4x+4PK/nXzPrsZvV4itK/o48kGDs2THaoUi/yYOhoFloiEhutC7942rN57D66/3uuJRCREdmTay30HgurX/Sejx/uhSTmHW+v4aJFkL/eF22b0UFFgiUjwuS7ccgu8/z588AH8+99eTyQiQXLg030HVqambXT5Y//ZU0nx0CLZnozeItnh3NIOsQXgcl9uKLBEJLhcF266CT78ED76CK67zuuJRCQPclzDgm0c3Ds1baNhw177tToJ0DzJ4b/1fDRPcqju8dlT4USBJSLBEwjYuBo61P669lqvJxKRU7Q7yzBr8997p37ZZNiTbW+EfF5Zh2vPsKtTzZIcSkfgp/vyiwJLRIIjELD7rD75BD7+GK65xuuJROQkbM6wMTV1o+HnjYZ5Ww0BA4mF7OrU4+faoGpYxqFwPt5qJtIpsEQk7wIBu8/q009h+HC46iqvJxKRY1izZ39MpRqmbnRZvMM+floxaJnscEttPy2THWolhP9hnuFMgSUieZOTY+Pqs89sXF15pdcTich+xtjzpg7E1NSNdoM62P1TrZJ9PFbfoWUBPi7BKwosEcm9nBy7if2LL+zq1RVXeD2RSFTLcQ3zt8LUjS4/b7SX/jbvA58DDUo7dKvqo1V5hxbJkXk6eiRRYIlI7mRnQ48e8PXX8Pnn0K2b1xOJRJ19OYbZm//ePzUjzbA7Gwr54fyyDrfUtkHVtJxD8Sg5fypcKLBE5NRlZ9tN7N98Y1evLrvM64lEosLuLBtRP+/flP7rZkNmAIrH2g3pj5zro2Wyw3llHQr5FVRe8jSwMjMzueqqq1i8eDHx8fGUK1eON954g+rVq3s5logcT3Y2XH01fPcdjBwJl17q9UQiBdbmDBtSB379ttXgGihb2G5I79/YR8tkH+ckgj9KD/QMV56vYPXu3ZsLLrgAgCFDhnDTTTcxadIkj6cSkaPKyrKfEBwzBr78Ei6+2OuJRAqUjXsNU1INk1MNU1IP/4Rfq2SHW+v4aZXsULOkDvQMd54GVqFChQ7GFcD555/PSy+95OFEInJMWVnQvTv88AN89RVcdJHXE4lEvA3phwfVkp328ZoloU15fcIvknm+gnWogQMHcpn2coiEn8xMG1c//mj3XXXp4vVEIhFp7R4bVFNSXSanGv7aZR+vkwBtK/h4qqFD6/IO5YsoqCJd2ARWv379WLFiBe+8847Xo4jIoTIz4fLLYfx4G1eHrDqLyPGt2WOYvOHvoFqx2z5+VinoVMlHv/IOrZIdkhRUBU5YBNZLL73EN998w/jx4ylcuPAxv++ee+4hISHhsMdSUlJISUkJ9Ygi0WnfPnv8wqRJMGoUdOrk9UQiYW3V7r8v903eYFi1/1DPuolwURUfrfcHVdl4BVWkGjFiBCNGjDjssR07dhzxfY4xxuTXUEfzyiuvMHz4cMaPH39EPB0wd+5cGjZsyJw5c2jQoEE+TygSpfbts8cvTJliPzHYoYPXE4mEFWMMK3fzd1ClGtbsAQeolwhtKvhonezQsrwO9SzojtYpnq5grVu3jv/+979Ur16dtm3bAlC4cGFmzpzp5VgikpFh42rqVBg9Gtq393oiEc8ZYy/xTdpgmJzqMiXVsC7dBtW5peHyqnaFqmWyQ6KCKup5GliVKlXCdV0vRxCRf9q7155tNX06fP897P8/PyLRaO0ew6QNhkmpLhM32BUqnwP1SztcdfrfQZVQSEElhwuLPVgiEib27rVnW/3yC4wdC61bez2RSL5K22uYlGqjauIG9+Cn/M5JhG5VfbSroKCSk6PAEhErPd3G1a+/2rhq1crriURCbts+uyn9QFAt2r9XuU6C/ZTf8xXssQnaQyWnSoElIjauLroI5syxB4m2aOH1RCIhsSvL3nJm4v6gmr8VDFC9BLQt7/B4fR9tKugcKsk7BZZItNuzBy68EObNs3HVvLnXE4kEzd4cw/T9QTUp1fC/zYaAgUpFoV0Fh3vO9tG2gk5Kl+BTYIlEs927bVzNnw/jxkHTpl5PJJInmQHDL5v2B9UG+/fZLiTFQ9sKDjfU9NOugkP1ErqXn4SWAkskWu3aZW958/vv9hY4TZp4PZHIKQu4ht+2Gsavt7+mpxn2BSCxELQp7/BKEx/tKviok6CgkvylwBKJRrt22VveLFoEP/0EjRt7PZHISTHG3r9v/HqX8evtStWOLCgWC62THZ5t5KNdRR/1EsGnoBIPKbBEos3OnTau/vzTxtV553k9kchxpe01TNhgmLDeZfz+s6hiHGhSzu6h6lDRoXE5h1ifgkrChwJLJJrs2AGdO8OyZfbmzQ0bej2RyBH2ZBt+Tt1/2W+Dy8Jt9vG6ifa09PYV7f38iscpqCR8KbBEosX27fZmzcuX27jSfT0lTGS7hl83/b2P6pdNhhwDlYtCh4oOD59jD/hM1tEJEkEUWCLRYNs2G1crV8KECVC/vtcTSRQzxvDHdruPasIGe9DnnmxIiLNHJwxq5qNDRR9n6JN+EsEUWCIF3bZt0KEDrFkDEyfCOed4PZFEobV77D6q8etdJqw3bMyAQn5okeTw2Ln2sl+D0g5+7aOSAkKBJVKQbd1q42rdOhtX9ep5PZFEiT3Z9hyqH9cZflrvsmQnOEDDMg7/rmk3pjdPcoiPUVBJwaTAEimotmyxcbVhA0yaBGef7fVEUoC5xjB3iw2qH9cbZqTZAz6rFYdOFX08e55D2/IOibqnn0QJBZZIQbR5M7RvD2lpNq7OOsvriaQAWrfH8NN6w4/rXX5aZ9iaCcVj7T6qV5v66FTRpxPTJWopsEQKmk2bbFxt3mzj6swzvZ5ICoi9Ofb4hHHrDD+uc1m0w172a1TW4bYzfXSq6NAkSedRiYACS6RgSUuDdu3sxvbJk6F2ba8nkgjmGsOCbfDjOpcf1xmmbjRkufZGyZ0rOTzZwG5OL63LfiJHUGCJFBQbN9q42rHDxlWtWl5PJBFo4979l/3Wufy03pCWAUVi7H39XjjfXvarrfv6iZyQAkukIEhNtXG1a5eNq5o1vZ5IIkRWwDBto+GHdYZx61wW7D81vX5p6FXTXvZrnuxQyK+gEjkVCiyRSLdhA7RtC+npNq5q1PB6Iglzq3cbxq51GbvO3ix5TzYkxdvLfg+e46NDBYcknZoukicKLJFItn69jauMDBtXZ5zh9UQShjIDdnP62LWGsetc/twBfgeaJTk8co6PLpV9nFMafLrsJxI0CiyRSLVunY2rzEwbV9Wrez2RhJEVu/avUq01TEo17M2BCkWgS2WHZxragz4TCimoREJFgSUSidautXGVnW3j6vTTvZ5IPJaRY5hyYJVqrcuyXRDjQItk+2m/Cyr5qJuozeki+UWBJRJp1qyxcRUIwJQpULWq1xOJB4wx/LWLg6tUk1MN+wJQuSh0qeyjf2OH9hUdSsQpqES8oMASiSSrV9u4MsbG1WmneT2R5KO9Ofb+fgdWqVbshlgftEp26NvIrlKdWUqrVCLhQIElEilWrbJx5fPZy4JVqng9keSDVbsN369xGb3G7qXKDEDVYnaVqktlh7YVHIrFKqhEwo0CSyQSrFwJbdpAbKy9/U3lyl5PJCGS49obJX+/xjB6jb0dTYwDrco79Gvk48IqPmqV1CqVSLhTYImEuxUrbFwVKmTjqlIlryeSINu6zx70OXqNy7h1hu2ZUC4eLqzs8HRDHx0rOZTUXiqRiKLAEglny5fbuIqPt3FVsaLXE0kQGGP4fTuMXuPy/RrDzE0G10CDMnDnmT66VnFoVNbRuVQiEUyBJRKuli2ze66KFYOJE6FCBa8nkjzIyLGnph+49Lc2HYrGQMeKDm+18HNhZYcKRRVUIgWFAkskHC1dauOqRAkbV+XLez2R5MKaPXaD+vdrDBM22GMUTi8Ol1W1q1Sty+sefyIFlQJLJNwsWWLjKiHBxlVystcTyUkKuIZZmw2j969SLdxmb0nTMtnhmUY+umqDukjUUGCJhJPFi6FdO0hMtHGVlOT1RHIC6dmG8esN3662Ryls3gdlCkOXSg6Pn+ujUyXdkkYkGimwRMLFokU2rsqWhQkToFw5ryeSY9i4165SfbvaZfx6e+mvdgJcX9PHpVUdzi/r4PcpqkSi2UkH1u+//868efPYuHEjruuSnJzM6aefTtOmTfH7/aGcUaTg++MPG1dJSTauypb1eiI5hDGGRdth1BqXUasNszYZHAeaJ9lLf5dU8VEzQUElIn87bmDt2LGDgQMH8umnn5KcnEy1atVITEykUKFCrFy5km+//Zabb76Zhg0b8n//93/UqlUrv+YWKTh+/93GVfnyNq7KlPF6IsEe+Dlto2HUasOoNS7Ld9lP/XWu5PBhaz8XVnEoU1hRJSJHd8zAGjNmDB988AHXX389jz76KLGxscd8kj///JMhQ4aQkJBAnz59QjKoSIG0YAG0b28PDx0/HkqX9nqiqLYryzBunWHUapfv19oDPysUgUtO8/FaM4e25R0KxyiqROTEjhpYY8eOZcOGDXzxxRcn9SS1a9dm0KBBLF68mL59+/L4448HdUiRAmn+fBtXVarYuEpM9HqiqLQ+3e6lGrXa3kg5y4V6ifbAz0tOc2hQRgd+isipO2rUuG8cAAAgAElEQVRgtWvXjkKFCp3yk9WpU4cHH3wwz0OJFHjz5tm4qlYNfvxRcZVLe/bs4bPPPmPp0qWULFmSK664gpo1a57w55buMHy9yuWrVYZfNxtiHGhTweGl831cfJqPqsUVVCKSN0cNrGPFlTHmhOe3xMXF5X0qkYJs7lzo0AGqV7dxVaqU1xNFpBEjRtD71pvZk76XquVi2LLL5bHHHqPHNSm8+977FC5c+OD3GmP4bSs2qlbaGygXiYELKjncfbafiyrrKAURCa6T/hThddddx88//8zq1asBmDlzJhkZGbRr1y5kw4kUOHPm2LiqWRPGjbOHicopGzduHD169CClqeG5q6BKmWz2ZcHH0+Dujz/DcRw+HDqM6WmGr1YZvlnlsnoPlCoEF1dx6HeevYFyEe2nEpEQOenAOvfcc0lJSTn4z02bNmXmzJkMHz6ca665JiTDiRQos2dDp05Qq5aNq5IlvZ4oYvV5+kma13L4+DaDz2cfKxwHN7cDg8ut7w3n+3qPsr1UTSoUgX9V9fGvqg6tyjvE6nwqEckHJx1Y1apVY/369Wzfvp1S+y9pNG3alPnz54dsuEMNegkWzmnL4nl/n7nVtURhSvp9x/yZhRnZLNiXfcyvl/Q7dC0Rf9zXHb0rg50Bc8yv1yscS934Y3/CcmfAZfSufcd9Db0Pq0C/j6ws2LIF+sdCmbUw8azjziDHtmFbgBkzNzL8Dg7G1aF6toB7P/FTd9XXvNDrUc4rq03qIpL/Tjqwpk6dyujRo7nrrruoVasWrVq1onr16sydO5fevXuHckYAChWBzJxdZOb8/ZibARznjNOsfZCeeeyvx/mAY/+3GICMfZDuHuc1jv/juIHjzwB6HwcU+PdRav+E+zacYEo5np3b7F8rHeNzAYXjIDnBR9MSezi/3LFDWUQklE46sCpXrsyyZcvYu3cvM2bMYPLkybzzzju89dZboZzvoMy9UKJECWIOOTXeF18YjrPSEEc2RTn2SkO834H446+YxGdnkHWcFZO4wrFwnBUTX8ClaPbxV0z0PvbPWBDfx4GVq9hYe4CoVlJyLWAgIwCFS7vEx6UydQm0rH3k963eDKs25ZzUpwlFRELFMcYc+79Wh3jhhRe4//77D7stjjGG/v378/DDD4dsQIC5c+fSsGFD5syZQ4MGDUL6WiJBM306XHAB1K8PY8ZAsWJeTxRxNu41fLXK5YsVhp83GhygXQWHve/dwrKJQ5n9dIAqhxx877pw3RswemFR1m/YSDH9notIPjhap5z0CtYtt9zCSy+9RPv27WnUqBHGGOrUqUOjRo1CNrBIxJo2Dbp0gYYNYfRoRm+YTEZ2BvGx8XSt2dXr6cLahvS/o2rqRoPfgQ4VHd5u4eeyqg6lCzuk1n+W5s3G0/jJVO7ulEOr2rBuGwz5CWYsc/j447cVVyLiqZMOrISEBB566CFc126AcRyHPn36UKVKlZANJxKRfv4ZLrwQGjeG776DokXZuW8n6dnpZAVOtEssOq3bY/hylcvIFYbpaYYYH3Ss6PBeKz+XnuaQ+I97/pUvX54ZM3/lsUcfpe+I4WR8bjfFNa8dy9ixo+nUqZMXb0NE5KCjBlZmZuYxDxv1HfKxnSuvvPKUflakwJsyxcZVkyY2rooU8XqisLV2j2HkSpeRKw0z0gxxPui0/0bKF5/mUOoEB38mJyfz3vvv8+rAgaz/8AxK+DZRoUI5exSGiIjHjhpYv/zyC1u2bOHyyy8/pSdbvHgxn3zyCX379g3KcCIRZdIk6NoVmjWDb79VXB3Fqt2GL1e6fLHSMGuToZAfOldy+LiNjaqScaf+IYDixYtTu1IsZIRgYBGRXDpqYLVu3Zrx48eTkpJCz5496dKly3GfZOnSpQwePJjChQvTr1+/kAwqEtYmTrRx1aKFjasTfBoymqzZY/h8hcvnKwyzN9uo6lLJ4ZO2frpWcSiRi6gSEQl3x9yDtWvXLnr06MFHH33EHXfcwemnn06NGjUoWbIkMTExbN++nbS0NBYsWMBZZ53F008/Tb169fJzdpHwMH48XHwxtG4NX3+tuALS9hq+WOny6XK7p6qwHy6s7HBfXXvfv+KKKhEp4I4ZWCkpKTz11FN0796d2267jcTERObPn8+WLVvIzMykWrVqVK1alWbNmhGv/6BItPrxR7j0UmjbFr76Cg65wXC02bbP3vfv0+Uuk1INPuzlv2Ft/VxSRVElItHlmIF12WWX8cgjjxz2WN26dUM+kEjEGDfOxlWHDvDllxCFH+7YnWX4drWNqnHrDC7QtrzDWy38dKt65Kf/RESixTEDKzk5+eDfT5w4kUAgQLNmzShatGi+DCYS1saOhX/9Czp2hJEjTxhX9ZLqkRXIIs4fl08Dhk5GjuH7NYZPV7h8v8awLwDNkxwGNPVxRTUfyUUUVSIixwysQ49jaN26NSNHjiQxMZHevXtz8cUX06FDh3wZUCTsfP89dOtmT2n//POTWrmqmxTZq79ZAcOP62xUfbvasCcbGpZxeKaRjytP91GlmKJKRORQxwysAweKAvj9fq666iq++eYbBg4cmC+DiYSl776Dyy+Hiy6Czz6DuMhfkToW1ximbzQM+8tuWN+eCWcmwEP1fFxV3UeNkooqEZFjOWZgDR06lF27dtGqVStatmzJGWecQdWqVY/4vnnz5nHuueeGckaR8DBqFFxxhf3E4Kef2hs4F0CLthuG/eXyyV8ua/ZAlWJwa20f15zh4+xS9i4OIiJyfMcMrDJlypCWlsa9997Lrl27SEpKomTJkiQlJdGyZUvq16+Pz+fjnXfeYciQIfk5s0j+++YbuPJKu6l9+PACF1cb0g0jlrsM+8tl3lZIiIMrT/fR4wyHFskOPkWViMgpOWZgdevWjf79++O6LvPnz2fatGlMnTqVF154gfvuu49ixYrRpEkTli9fnp/ziuS/r76Cq66y+66GDSswcbUry/DlSsMnf7lM3GCI80PXKg5PNvDRpbJDIb+iSkQkt44ZWP379wfsZvf69etTv3597rrrLgCWL1/O1KlTmTp1KrNmzcqfSUW8MHIkXH01dO8OH38MMSd9f/SwlBUw/LDORtWo1YbMALQp7/BOSz+XV3NIOMH9/0RE5OTk6r8W1atXp3r16vTq1Qu/3x/smUTCwxdfQEqKvTQ4dGjExpUx9mbKw/6yt6zZlgn1EqFPQx8p1X1U0icARUSCLs//xejZs2cw5hAJL599Bj162NWrDz/Mc1zt3LcT17j4HB8lC5cMzownsGq3Yegyl6HLXJbvgspF4ebaPnqc4aNuoqJKRCSU8hxYLVq0CMYcIuFj+HC47jobWB98AEFYpR29dDTp2ekUjS1Kj3o9gjDk0e3JtvuqPlzqMjnVUDQGup/u8G5LH63Ka7O6iEh+icxrHiKh8skn0LOnDaz33gtKXIWaawxTUg0fLXUZudKQngPtKjh81NpPt2oOxWIVVSIi+U2BJXLAxx9Dr17w73/DO++EfVwt32Wjaugyl9V7oHoJePgcH9fV8HFacUWViIiXFFgiAB99BNdfDzfcAG+/DYfcKiqc7MoyfLHCXgKclmYoEQtXnu7Qq6aPZkmODgEVEQkTCiyRDz6AG2+Em26CN98Mu7gKuIZJqTaqvlppb67csaLDJ239XFbVoUiMokpEJNwosCS6vfce3Hwz3HILvP56WMXV6t2GD5a6vL/EZW061CoJTzTwce0ZOlpBRCTcKbAker3zjg2r226DwYPDIq4yA4ZRqw3v/uny03pD0VhIqe5wQ00f55fTJUARkUihwJLo9NZb0Ls33HknDBoEHofLH9sM7y2xG9a3ZkKzJIf3Wvnpfro+BSgiEokUWBJ93ngDbr8d7r4bXn01X+Kqa82uBw8aPWB3luGzFTasftlkKFsYetX0cWMtH3VKKapERCKZAkuiy5AhdtXqP/+BAQPybeXqwOntxhhmprm8t8Tl0+WGvTnQuZLDyA5+Lq7iEKcbLIuIFAgKLIkegwbZsLrvPnjppXy9LLgj0zDsL5c3F7v8sR1OKwYPnuOjV00fVbRhXUSkwFFgSXR49VW4917473/hhRfyJa6MMczebHhrscuI5YZsFy6t6vBKEx8dKuq2NSIiBZkCSwq+AQPsqtWDD8Lzz4c8rnZnGUYsN7y5OMBvW+1q1WP1fdxQy0f5IooqEZFooMCSgu2ll+CBB+Dhh6Ffv5DG1bytdrVq2F8ue3OgaxWHvo18dK7k4PcprEREookCSwquF16Ahx6Cxx6DZ54JSVztzTF8vsLw5mKXWZsMFYrAfXV93FTLR2XtrRIRiVoKLCmYnn8eHnkE/u//4Omngx5XS3cYXl/s8tFSl51Z0KmSw9cd/XSt4hCj1SoRkainwJKCp18/u2r15JPw1FNBe9qAaxi71jB4kcu4dYYyheHWOj5uqe3j9BLHj6qFaQvJCmQR54+jblLdoM0kIiLhSYElBcszz8ATT9hVqyeeCMpTbttn7wn4+iKXFbuhURmHj1r7ufJ0h8IneaPlBWkLSM9Op2hsUQWWiEgUUGBJwfH003bF6pln4PHH8/x087caBv8R4JO/DAEDV57uMKKdj8blvL9noYiIhDcFlkQ+Y2xY9ekDzz4Ljz6a66fKdg1fr7SXAaduNFQsao9YuKmWjyQdsSAiIidJgSWRzRh7KbBvX3juOXscQy5s3Gt4+0+Xtxa7bNgLbcrb29dcepo2rYuIyKlTYEnkMsZeCuzXzx7J8MADp/wU87caBiwMMGK5IcYH153h446zfNRNVFSJiEjuKbAkMhljLwU+/7w9TPT++0/6R11jPw04YKHLhA2GykXh2fPsZcCEQgorERHJOwWWRB5j7KXAF16AV16x9xg8CXtzDEOXurz6u8uSndC4rMOn7fx0q+YQq8uAIiISRAosiSzG2EuBL79sb+D8n/+c8Ec2pBuGLHJ5c7HLjizoVtXh/dY+mpZzcPLphsslC5ckzh9HfGx8vryeiIh4S4ElkcMYeylwwAAYNAjuuuu43/7bFru/6tMVhsJ+uLGWj7vP8lHtBIeChkLXml3z/TVFRMQ7CiyJDMbYS4EDB8LgwXDHHUf9NtcYxqwxvLLQZVKq4bRi8Px5Pm6s7aNknC4DiohI/lBgSfgzxl4KfO01eP11uO22I74lK2AYsdzwwvwAi3ZAk3IOX7T3c1lVHbMgIiL5T4El4c0YeylwyBB46y245ZbDvrw7y/DOny4DfndZlw4XV3F4u6WP5sk6bV1ERLyjwJLw5bpw553wxhvwzjtw000Hv5S21zDoD3t/wD3Z0OMMhwfq+TlL51eJiEgYUGBJeHJduP12ePtteO89uOEGAJbvMry0wOWDpS4xDtxS28e9dX1ULqawEhGR8KHAkvDjunDrrTas3nsPrr+eBVsN/eYF+GKloXQhePxcH7ef6SOxsMJKRETCj+cbVe6++26qVauGz+djwYIFXo8jXnNduPlmG1YffMDsrv/msh9zOOerHH7ZZHitmY/VKTE83sCvuBIRkbDl+QrWlVdeyUMPPUSLFi28HkW8FgjYfVZDh7Jk0If8p9w1jPsmQI0S8EFrPz3OiNwT10cvHU1GdgbxsfE6E0tEJAp4HlgKKwEgEMDceCN8/DHP3vsB/1cohbPTDSPa+elezcEfoWF1wM59O0nPTicrkOX1KCIikg88DywRk5PD+quup/w3w7n2hg9Z1jyFr+v7uOQ0B18+3cpGREQkmBRY4hljDGNXZuP0+jcdp3/B0/d9zL/vvprOlfLvHoEiIiKhEFGBdc8995CQkHDYYykpKaSkpHg0keSGMYYf1xme/jWLO1/oxZX/G8ni1z/h6VuuVFiJiEhYGzFiBCNGjDjssR07dhzxfWEVWMaY43791VdfpUGDBvk0jQSbMYaJGwxPzHGZtSGbsZ/0ov3cr3A++5S6V1zh9XgiIiIndLSFnblz59KwYcPDHvP8mIZbb72VypUrs379ejp37kzNmjW9HklCYEqqS5vRATqMCeBmZbN2dE86/PIVvs8/x1FciYhIAeP5CtZbb73l9QgSQtM3ujwxx2XiBkP90jC6rcuFD1+H8+MoGDkSLr3U6xFFRESCzvPAkoJpwVbDI7MDjFlrqJcIX3f0c2n5bJyUFBg92sbVJZd4PWa+qZdUj6xAFnH+OK9HERGRfKDAkqBaucvwxJwAn/xlqF4CPm3np/vpDr7sbLjyKhg7Fr76CrpG12GbdZPqej2CiIjkIwWWBMWmDEPf31zeXOxSuhC83tzHjbV99uT1zEzo3h3GjYOvv4YLL/R6XBERkZBSYEme7M4yvLzQ5eWFLn4Hnm7o4+6zfBSN3X/cQmYmXHEF/PQTfPstXHCBtwOLiIjkAwWW5EpmwPDWYpe+v7nsyoa7zvLx8Dk+Sh96A+Z9++Dyy2HCBBtXnTt7N7CIiEg+UmDJKTHGMHKl4aFfA6zeA71qODzV0E/lYv84IHTfPvjXv2DyZBg1Cjp18mReERERLyiw5KTN3uxy30yXaWmGrlUcRnf2c2apo5y8npEBl10GU6fCd99Bhw75P6yIiIiHFFhyQuv2GB6dHeDjvwx1E+GnC/10qHiMM2ozMuzZVtOm2eMY2rXL32FFRETCgAJLjik92/DiApcX5rsUj4O3Wvi5sZaD33eM+wXu3WvjasYMGDMG2rTJ13nD2c59O3GNi8/xUbJwSa/HERGREFNgyRFcYxi2zPDo/wJszoB76/p49FwfJeKOcyPm9HR7cOisWTauWrfOv4EjwOilo0nPTqdobFF61Ovh9TgiIhJiCiw5zLSNLvfOdPnfFkP3ag79G/upVuI4YQU2rrp2hdmz7UGiLVvmz7AiIiJhSoElAKTuNTw4K8CwvwwNyzj83NVPy/IncS/wPXvgootg7lz44Qdo0SL0w4qIiIQ5BVaUy3YNg/9weXKOSyE/vNvSz/W1HHzOCVatAHbvtnE1b549pb1Zs9APLCIiEgEUWFFsSqrLndMDLNoBvev4eKahj8TCJxFWYOOqSxdYsMDGVdOmoR1WREQkgiiwolDqXsN/fwkwfLmhaTmH/13mp36ZkwwrgF27bFz9/ru9Bc7554duWBERkQikwIoirrG3t3n4V3s58IPWfnrWOMnLgQfs3GnvJ7h4sY2rxo1DN7CIiEiEUmBFiYXbDLdMDfDLJsNNteynA0/6cuABO3fa+wkuWQLjx0OjRqEZVkREJMIpsAq4vTmGZ+a6vLTApUZJTv7Tgf+0Y4e9n+Bff9m4atgw+MMWYF1rdj140KiIiBR8CqwC7Md1LrdNC7B+LzzRwMeD5/go5D/FVSuA7dttXK1YARMmQP36wR+2gNPp7SIi0UWBVQDtyDTc90uAD5Ya2pZ3GHuBn5oJuQgrgG3boGNHWLXKxtW55wZ1VhERkYJIgVXAjF7tcuu0AHuy4Z2W9t6BzqlsYj/U1q02rtasgYkT4ZxzgjusiIhIAaXAKiC27TPcMzPAx38ZulR2eKuFn8rFchlWAFu2QIcOsH49TJoEdesGb1gREZECToFVAHyzyu612hewRy/8u0YeVq3AxlX79pCaauPq7LODN6yIiEgUUGBFsJ1Zhjun2/sHXlzF4c0WfioUzUNYAWzebOMqLc3G1VlnBWdYERGRKKLAilBTUl16Tg6wIxOGtvFz7Rl5XLUC2LQJ2rWzK1iTJsGZZwZnWBERkSijwIowmQHDE/9zeXGBS8tkh6Fd/ZxWPI9hBXbFql07+6nByZOhdu28P6cctDBtIVmBLOL8cdRN0n42EZGCToEVQf7YZrh2cg5/bIfnG/u4v64Pvy8IcbVxo42rHTtsXNWqlffnlMMsSFtAenY6RWOLKrBERKKAAisCGGN47Q+XB391qV4cZl0ac2o3Zz6e1FQbV7t22biqWTM4zysiIhLFFFhhbnumodeUAKNWG+46y0f/xj7iY4IUVxs2QNu2kJ5u46pGjeA8r4iISJRTYIWxWZtcrpoQYFc2jOrk5+LTgngfu/XrbVzt2wdTpkD16sF7bhERkSinO8+GIWMMAxYGaDEqQPkiDr/9Kya4cbVuHbRpA5mZduVKcSUiIhJUWsEKM4deEvxvPR/9zvMRG4yN7AesXWtXrnJybFxVqxa85xYRERFAgRVWZm926T4+RJcEAVavtnFljI2rqlWD+/wiIiICKLDCxkdL7U2azy3tMKVdkM62OtSqVTauHMfG1WmnBff55bhKFi5JnD+O+Nh4r0cREZF8oMDyWI5reGCWy6u/u9xYy2FIcz+F/EGOq5UrbVz5/faE9ipVgvv8ckJda3b1egQREclHCiwPbd1nuGpCgMmphtea+bjjTF/eb3fzTytW2LiKjbVxVblycJ9fREREjqDA8sjCbYZLf8xhdzaMv9BPmwoh+EDn8uU2rgoXtnFVsWLwX0NERESOoGMaPPDlSpem3+ZQMg7+d1lMaOLqr7/sUQzx8YorERGRfKbAykfGGF6cH+CK8QG6VnGYfklM8DezAyxbZuOqaFHFlYiIiAd0iTCfBFzDvb+4vPaHy2Pn+nimUQj2WwEsWWIvC5YsCRMnQvnywX8NEREROS4FVj7IyDFcOynAN6sNb7bwcWsdf2he6M8/7Y2bS5WycZWUFJrXERERkeNSYIXYtn2GS34MMHeL4euOfi4J9uGhByxebOOqdGmYMEFxJSIi4iEFVgit3m244IcctuyDiRf5aZIUorhatMjGVblyMH68/auEldFLR5ORnUF8bLzOxBIRiQIKrBCZv9XQ5Ycc4v0w45IYapQMwX4rgN9/t3FVvryNq7JlQ/M6kic79+0kPTudrECW16OIiEg+0KcIQ+CXNJfWo3OoUMQJbVwtXGjjqkIFe1lQcSUiIhIWFFhB9nOqS8exAeqWcph4kZ+kIiGKq/nzbVxVrGjjqkyZ0LyOiIiInDIFVhCNX+9ywdgAjcs6/NDFT4m4EMXVvHnQvr29p+CECXZju4iIiIQNBVaQjF/v0nVcgLYVHEZ39lM0NkRx9dtvNq6qVrV7rhITQ/M6IiIikmsKrCCYkupyybgA7So4fNXRT3xMiOJq7lwbV9Wr27gqVSo0ryMiIiJ5osDKo+kbXS76IUDzZIevOvgp5A9RXP3vfzauatSAH3+EhITQvI6IiIjkmY5pyIM5mw1dfghwXlmHbzv5KRyqlavZs6FjR6hTB374wd4GRyJKvaR6ZAWyiPPHeT2KiIjkAwVWLi3bac+5qpPg8F1nP0VCFVezZkGnTnDWWTauSpQIzetISNVNquv1CCIiko90iTAXUvcaOo3JIbEQfH+Bn2Kh2tD+yy82rurWhXHjFFciIiIRQoF1inZmGS4Ym0O2gR8vjKFM4RDF1YwZNq7q1YOxY6F48dC8joiIiASdAusU5LiG7uMDrNkD4y6IoUqxEMXV9OnQuTPUr6+4EhERiUAKrFNw70yXSRsMX3bwc1ZiiOJq6lQbV40awZgxUKxYaF5HREREQkaBdZLeWBRg8CKXwc19tKsYot+2n3+GLl2gcWMYPRqKFg3N64iIiEhIKbBOwoT1LnfNcLnrLB+31vGH5kUmT7Zx1aSJ4kpERCTC6ZiGE1i3x3DVBHtK+ytNQtSjEydC167QogV8+y3Ex4fmdcQzO/ftxDUuPsdHycI6x0xEpKBTYB1Htmu4emKA+BgY3s5PjC8E+64mTICLL4aWLeGbbxRXBdTopaNJz06naGxRetTr4fU4IiISYgqs43hstsusTYYpF/tDcxzDTz/BJZdAmzbw9ddQuHDwX0NERETynfZgHcN3q11eXODyXGMfzZJC8Ns0bpxduWrXTnElIiJSwCiwjiJ1r6HXlAAXV3G4v24Ifot++AEuvRQ6dICvvlJciYiIFDAKrH8wxtB7WoAYH7zf2o/jBPnS4JgxNq46dYIvv4RChYL7/CIiIuI57cH6h+HLDaNW28NEg77vavRouPxyexzD559DXFxwn19ERETCglawDrFxr+GuGQGuru7QrVqQf2u++w66dYOLLlJciYiIFHAKrP0OXBqM9cFrzYJ8mOi339qVq0sugc8+U1yJiIgUcLpEuN+3qw3frjaMDPalwa+/hiuvhMsug+HDITY2eM8tEaNrza4HDxoVEZGCT4EFZAUMD8wK0LmSw+XBvDT45Zdw9dX20uCwYYqrKKbT20VEoosCC3hjscuK3fB1xyBeGvziC0hJge7d4eOPIUa/1SIiItEi6q9XbNtneHquy021fJydGKRLg59/buPqqqsUVyIiIlEo6gOr728u2S70aRik34pPP4VrrrGBNXSo4kpERCQKRXVg/bXTMHiRyyPn+EgqEoTVq+HDoUcP++vDD8Ef5E8jioiISESI6sB6bl6AcvFwbzBuhzNsGFx3HfTsCe+/r7gSERGJYlEbWJszDJ8sN9x1po/4mDyuXg0dasOqVy947z3FlYiISJSL2g1C7/zp4gA31c5jY374IdxwA9x4I7z1FviitlnlOBamLSQrkEWcP466SXW9HkdEREIsKgMr2zW8vtjl2jMcSuflUNH334ebboKbb4Y33lBcyTEtSFtAenY6RWOLKrBERKJAVBbBVysN69Ph7rPzcCnv3XftqtWttyquRERE5DBRWQWD/nBpW96hbm7PvXr7bbtqdfvt8PrriisRERE5TNSVwf82u8xIM9x9di7f+ptv2lWrO++EwYPBCeJ9C0VERKRAiLrAGrLI5bRicHGVXITR66/DbbfBf/4DgwYprkREROSooi6wfk41XF7Nh993inE0eDDccQfccw8MGKC4EhERkWOKqsDak21YsRvqnereq0GD4K674L774JVXFFciIiJyXFF1TMPv2wxwioE1YIANqwcegP79FVeSKyULlyTOH0d8bLzXo4iISD6IqsBasA38DtRJOMkfeOUVuP9+eOgheO45xZXkWteaXb0eQURE8lFUXb8BL9AAAAisSURBVCJcsM1QsyQUPplb47z4oo2rRx5RXImIiMgpiarAWrjNnNzlwf794cEH4fHH4dlnFVciIiJySqImsIwxLDiZwHruOXj4YXjiCejTR3ElIiIipyxqAmtdOuzI4vintz/7LDz6KDz1FDz9tOJKREREciVqAmvhiT5B2KePvST49NPw5JP5OJmIiIgUNFHzKcIF2wwlYqFKsaN88cCKVd++8Nhj+T2aiIiIFDBRFVh1Ex2cQy/7GWPjqk8f6NfPfmJQREREJI+iJrAWbjO0TD7kiqgxdiN7377w/PP2rCuREBm9dDQZ2RnEx8brTCwRkSgQFXuwMgOGP3dAvcT9DxhjLwX27QsvvKC4kpDbuW8n2/dtZ+e+nV6PIiIi+cDzwFq2bBnNmjWjVq1aNG7cmEWLFgX9Nf7cATlm/ycIjfn78NCXX7a3wBEREREJIs8D69Zbb6V3794sWbKEhx56iF69egX9NRbs/wTh2aWwq1X9+/99j0ERERGRIPM0sDZt2sScOXO49tprAejWrRtr165lxYoVQX2dhdsMVYsaSj76gL0FzsCBcM89QX0NERERkQM8Day1a9dSvnx5fD47huM4VKlShTVr1gT1dRZsdXl15AP25s2vvQZ33x3U5xf5//buJyTKfY/j+GdGr7k5WiKW2FgqZkbnlJPXyqxoY+0Sw8AodVEpLaqF0YX22iKkv3DHAkEXE5YlLQq6BIaiEjSaRFGRDmM42CJGDigVznMXppjZgfKp3zi+Xyvn4fE3H/iqfHz+DQAAsy2Juwj3X/uP9t+/LF27Jp04YToOAACIckYLlsvlUjAYVDgcltPplGVZCgQCSk9Pn3f/06dPa/ny5V9tKy8vV3l5+Xffw7Is/XtkQG8v/FdZJ6ptzQ8AAJYWr9crr9f71bZQKPTNfkYLVkpKitxut1paWlRZWam2tja5XC5lZmbOu//Fixfldrt/6D0cDofy+/5nR1zgp/218i99mvykuJg401EAAAsw34Edn8+nLVu2fLXN+ClCj8ejqqoq1dXVKTExUU1NTaYjAbb7c+WfpiMAAH4j4wVr3bp16u7uNh0DAADANsafg/W7zD1fisjCfCIfM4pszCfyMaPIZvd8KFiICMwn8jGjyMZ8Ih8zimwULAAAgAhHwQIAALAZBQsAAMBmxu8i/BEvX7786e8NhULy+Xw2poGdon0+f3/+W5ZlyeFw6I9//WE6zk+J5Blt/PxZcZI+ff6s5xGa8VeL5PlgCjOKbAuZz3z9xGFZlrXQUL9aMBhUeXm5Hj9+bDoKAADAN3bv3i2v16vU1FRJi6RgSVMlKxgMmo4BAADwjdTU1JlyJS2iggUAALBYcJE7AACAzShYAAAANov6gvXmzRsVFhYqJydHBQUFevHihelImOXkyZPKyMiQ0+nUwMCA6TiY4+PHjyopKVFOTo42b96s4uJivX371nQszFFcXKxNmzYpLy9PO3bs0JMnT0xHwjyamprkdDp1794901Ewx9q1a7V+/Xrl5eUpLy9Pt27dWvCaUV+wqqurVVNTo1evXuns2bOqqqoyHQmzHDx4UF1dXVqzZo3pKPiO6d+f/v5+7d+/X0ePHjUdCXPcvn1bz549U19fn86cOcPfuQjk9/t148YNbd++3XQUzMPhcKi1tVV9fX3q6+tTWVnZgteM6oL1/v17PX36VIcPH5YklZaWanh4WIODg4aTYVpRUZHS0tJMx8B3LFu2TPv27Zt5vXXrVvn9fnOBMK+EhISZr0OhkFauXGkwDeYKh8M6duyYrly5ori4ONNx8B123/O3qB40+qOGh4eVmpoqp3OqRzocDqWnpysQCCgzM9NwOmDxuXTpkkpKSkzHwDwqKirU0dGhyclJPXr0yHQczNLQ0KCioiK53W7TUfAPjhw5IkkqKCjQ+fPnlZycvKD1ovoIFgD71NXVaXBwUPX19aajYB7Nzc0KBAKqr69XaWmp6Tj44vnz57pz547OnTs3s42nI0Wezs5ODQwMyOfzKTk5WZWVlQteM6oLlsvlUjAYVDgcljT1Qx0IBJSenm44GbC4XLhwQe3t7Xrw4IHi4+NNx8E/qKiokN/v14cPH0xHgaSuri75/X5lZ2crIyNDvb29On78uDwej+lomGX16tWSpNjYWJ06dUqdnZ0LXjOqC1ZKSorcbrdaWlokSW1tbXK5XJwejFD8VxeZGhoadPPmTT18+PCra30QGcbGxjQyMjLzur29XWlpaUpKSjKYCtNqamo0MjKioaEhDQ0Nadu2bbp+/bqqq6tNR8MX4+PjCoVCM6+9Xq8tp3Oj+hosSfJ4PKqqqlJdXZ0SExPV1NRkOhJmqa6u1v379zU6Oqq9e/cqISFBr1+/Nh0LX7x79061tbXKysrSnj17JEnx8fHq6ekxnAzTxsbGVFZWpomJCcXExGjVqlU8BgD4AaOjozpw4IAmJydlWZaysrLU3Ny84HX5qBwAAACbRfUpQgAAABMoWAAAADajYAEAANiMggUAAGAzChYAAIDNKFgAAAA2o2ABAADYjIIFAABgMwoWAACAzShYAAAANqNgAQAA2IyCBQAAYDMKFgAAgM1iTQcAgN8lFAqpsbFRsbGxGh4e1s6dOzU0NKT+/n61tLSYjgcgilCwACwZHo9HtbW1iomJUXZ2tjZs2KDc3FxdvnxZlmXJ4XCYjgggSjgsy7JMhwCAXy0cDsvn8yk/P1/j4+NKSkpSMBjUihUrTEcDEIW4BgvAkuB0OpWfny9J6u7uVk5ODuUKwC9DwQKwZEwfsO/o6NCuXbtmtvf09JiKBCBKUbAALAmtra3Kzc2VZVm6e/eusrKyJE2Vq4mJCcPpAEQbrsECsCT09vbq6tWr2rhxo4qKitTY2KjCwkIlJCTo0KFDpuMBiDIULAAAAJtxihAAAMBmFCwAAACbUbAAAABsRsECAACwGQULAADAZhQsAAAAm/0fO0Vmg++ygdAAAAAASUVORK5CYII=\" />"
      ]
     },
     "execution_count": 6,
     "metadata": {},
     "output_type": "execute_result"
    }
   ],
   "source": [
    "# Dibuja F(x) y define escalas, etc\n",
    "plot(rangox, sqrt, \n",
    "    xaxis=(L\"x\", (0.0, 5.0), 0:5.0), \n",
    "    yaxis=((0.0, 3.0), L\"F(x)\"), \n",
    "    legend=false, title=L\"F(x)=\\sqrt{x}\", grid=false)\n",
    "plot!(rangox, x->x, color=:red) \n",
    "\n",
    "# Dibuja x_0 -> x_1 = F(x_0)\n",
    "plot!([x0, x0, -0.5], [-0.5, x1, x1], color=:orange, lw=2.0, marker=:point)\n",
    "# Dibuja x_1 -> Id(x_1) = x_1\n",
    "plot!([-0.5, x1, x1], [x1, x1, -0.5], line=(:green, :dash, 2.0, 0.4))\n"
   ]
  },
  {
   "cell_type": "markdown",
   "metadata": {},
   "source": [
    "Dado que tenemos $x_1$ en el eje $x$, el mismo proceso de antes puede ser implementado para obtener $x_2$, o cualquier otro iterado $x_n$. Sin embargo, vale la pena notar que, una vez que estamos en la diagonal, podemos ir a la función para obtener $x_2$, y nuevamente a la diagonal y a la función para tener $x_3$, etc."
   ]
  },
  {
   "cell_type": "code",
   "execution_count": 7,
   "metadata": {
    "collapsed": false
   },
   "outputs": [
    {
     "data": {
      "text/plain": [
       "1.2423156616249433"
      ]
     },
     "execution_count": 7,
     "metadata": {},
     "output_type": "execute_result"
    }
   ],
   "source": [
    "x2 = sqrt(x1)"
   ]
  },
  {
   "cell_type": "code",
   "execution_count": 8,
   "metadata": {
    "collapsed": false
   },
   "outputs": [
    {
     "name": "stderr",
     "output_type": "stream",
     "text": [
      "WARNING: Skipped marker arg point.\n"
     ]
    },
    {
     "data": {
      "text/html": [
       "<img src=\"data:image/png;base64,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\" />"
      ]
     },
     "execution_count": 8,
     "metadata": {},
     "output_type": "execute_result"
    }
   ],
   "source": [
    "# Dibuja F(x) y define escalas, etc\n",
    "plot(rangox, sqrt, \n",
    "    xaxis=(L\"x\", (0.0, 5.0), 0:5.0), \n",
    "    yaxis=((0.0, 3.0), L\"F(x)\"), \n",
    "    legend=false, title=L\"F(x)=\\sqrt{x}\", grid=false)\n",
    "plot!(rangox, x->x, color=:red) \n",
    "\n",
    "plot!([x0, x0, x1, x1, x2], [-0.5, x1, x1, x2, x2], \n",
    "line=(:green, :path, 2.0, :dot), marker=(:point, 0.5))\n"
   ]
  },
  {
   "cell_type": "markdown",
   "metadata": {},
   "source": [
    "**Ejercicio 2:** Escriban una función que, con los argumentos `F` para el mapeo, `x0` para la condición inicial y `n` para el número de iterados del mapeo (un número entero), genere los `n` iterados del mapeo y haga el análisis gráfico descrito del mapeo. Ilustren el funcionamiento con $F(x)=\\sqrt{x}$."
   ]
  },
  {
   "cell_type": "code",
   "execution_count": null,
   "metadata": {
    "collapsed": true
   },
   "outputs": [],
   "source": [
    "function cobweb_diagram(F:Function, x0, n)\n",
    "\n",
    "    orbit = Float64[x0]\n",
    "    steps = Int[0]\n",
    "    \n",
    "    for i in 1:n\n",
    "\n",
    "        x_new = f(solution[i])\n",
    "        push!(solution, x_new)\n",
    "        push!(steps, i)\n",
    "\n",
    "    end\n",
    "\n",
    "    return steps, solution\n",
    "\n",
    "end"
   ]
  },
  {
   "cell_type": "markdown",
   "metadata": {},
   "source": [
    "Obviamente, los puntos fijos de un mapeo pueden ser obtenidos del análisis gráfico descrito: sólo basta encontrar las intersecciones de la recta identidad con la función del mapeo."
   ]
  },
  {
   "cell_type": "markdown",
   "metadata": {},
   "source": [
    "Vale la pena enfatizar que, si bien el análisis gráfico es útil, no sirve para *comprobar* propiedades sobre la dinámica del mapeo, aunque sirve para entender detalles de ésta."
   ]
  },
  {
   "cell_type": "markdown",
   "metadata": {},
   "source": [
    "**Ejercicio 3:** \n",
    "\n",
    "Usen el análisis para encontrar los puntos de periodo dos del mapeo $F(x) = x^2 -1.1$. "
   ]
  },
  {
   "cell_type": "code",
   "execution_count": null,
   "metadata": {
    "collapsed": true
   },
   "outputs": [],
   "source": []
  },
  {
   "cell_type": "markdown",
   "metadata": {},
   "source": [
    "**Ejercicio 4:**\n",
    "\n",
    "Hagan un análisis completo de las posibles órbitas de los siguientes mapeos, usando distintos colores para distintas órbitas. Interesa entre otras cosas saber cuántos puntos fijos tiene y cómo es la dinámica cerca de ésos puntos.\n",
    "\n",
    "1. $F_1(x) = \\frac{1}{3x}$.\n",
    "\n",
    "2. $F_2(x) = -\\frac{x^5}{5}$.\n",
    "\n",
    "3. $F_3(x) = \\frac{x}{2}-2$."
   ]
  },
  {
   "cell_type": "markdown",
   "metadata": {},
   "source": [
    "**Ejercicio 5:**\n",
    "\n",
    "Para el mapeo mismo mapeo $F(x) = x^2-2$ en el intervalo $[-2,2]$\n",
    "(ejercicio 1), consideren un punto al azar en el intervalo $[-2,2]$ y construyan una órbita muy larga, por ejemplo, de 20,000 iterados. Obtengan el histograma de frecuencia de visita de los puntos de la órbita. ¿Qué conclusión podemos sacar de este histograma?"
   ]
  },
  {
   "cell_type": "code",
   "execution_count": null,
   "metadata": {
    "collapsed": true
   },
   "outputs": [],
   "source": []
  },
  {
   "cell_type": "markdown",
   "metadata": {},
   "source": [
    "# Puntos fijos"
   ]
  },
  {
   "cell_type": "markdown",
   "metadata": {
    "collapsed": true
   },
   "source": [
    "Como dijimos antes, el análisis gráfico es útil pero no necesariamente riguroso. \n",
    "\n",
    "Un resultado riguroso (¡teorema!) que es útil para encontrar puntos fijos es el **teorema del valor intermedio**:\n",
    "\n",
    "Supongamos que $F:[a,b]\\to\\mathbb{R}$ es *continua*, y que $y_0$ se encuentra entre $F(a)$ y $F(b)$. Entonces, existe un punto en $x_0\\in[a,b]$ tal que $F(x_0)=y_0$.\n",
    "\n"
   ]
  },
  {
   "cell_type": "markdown",
   "metadata": {},
   "source": [
    "Una consecuencia de este teorema es el teorema del punto fijo.\n",
    "\n",
    "**Teorema del punto fijo**\n",
    "\n",
    "Supongamos que $F:[a,b]\\to[a,b]$ es *continua*. Entonces, existe un punto para $F$ en $[a,b]$, entonces existe un punto $x_0$ que está en $[a,b]$ tal que $F(x_0) = x_0.$\n",
    "\n",
    "Algunos comentarios:\n",
    "\n",
    "- El teorema asienta la existencia de un punto fijo; puede haber más.\n",
    "\n",
    "- El teorema asume que $F$ es *continua* y que mapea al interval $[a,b]$ en si mismo.\n",
    "\n",
    "- El intervalo $[a,b]$ es *cerrado*.\n",
    "\n",
    "- El teorema **no** dice cómo encontrar a los puntos fijos."
   ]
  },
  {
   "cell_type": "markdown",
   "metadata": {},
   "source": [
    "La prueba se basa en aplicar el teorema del punto intermedio a la función $H(x)=F(x)-x$ y mostrar que existe un valor $x_0$ tal que $H(x_0)=0$. $H(x)$ es continua en el intervalo $[a,b]$ (así que se satisfacen las hipótesis del teorema del punto intermedio) y satisface $H(a) = F(a)-a \\ge 0$ y $H(b)=F(b)-b\\le 0$. (Estas propiedades se satisfacen ya que $F:[a,b]\\to[a,b]$. "
   ]
  },
  {
   "cell_type": "markdown",
   "metadata": {},
   "source": [
    "Como vimos en los ejercicios, los puntos fijos aveces *atraen* puntos cercanos, a veces los *repelen*, y otras veces hay cierta atracción o repulsión."
   ]
  },
  {
   "cell_type": "markdown",
   "metadata": {},
   "source": [
    "A fin de entender las cosas, consideremos el siguiente mapeo *lineal*:\n",
    "\n",
    "\\begin{equation}\n",
    "F_\\alpha(x) = \\alpha x,\n",
    "\\end{equation}\n",
    "\n",
    "con $0<\\alpha <1$.\n",
    "\n",
    "*Obviamente*, $x^*=0$ es un punto fijo del mapeo."
   ]
  },
  {
   "cell_type": "code",
   "execution_count": null,
   "metadata": {
    "collapsed": false
   },
   "outputs": [],
   "source": [
    "using Plots, LaTeXStrings\n",
    "\n",
    "pyplot()"
   ]
  },
  {
   "cell_type": "code",
   "execution_count": 8,
   "metadata": {
    "collapsed": false
   },
   "outputs": [
    {
     "data": {
      "text/plain": [
       "f (generic function with 1 method)"
      ]
     },
     "execution_count": 8,
     "metadata": {},
     "output_type": "execute_result"
    }
   ],
   "source": [
    "# Definición del mapeo\n",
    "f(x, α) = α * x"
   ]
  },
  {
   "cell_type": "markdown",
   "metadata": {},
   "source": [
    "Veamos cuál es la dinámica cerca del origen:"
   ]
  },
  {
   "cell_type": "code",
   "execution_count": 9,
   "metadata": {
    "collapsed": false
   },
   "outputs": [
    {
     "data": {
      "text/plain": [
       "iteramapeo (generic function with 1 method)"
      ]
     },
     "execution_count": 9,
     "metadata": {},
     "output_type": "execute_result"
    }
   ],
   "source": [
    "\"\"\"\n",
    "    iteramapeo(f, x0, n)\n",
    "\n",
    "Esta función itera el mapeo `f`, usando como condición inicial `x0`, `n` veces\n",
    "y regresa dos vectores que continen la secuencia de puntos, incluyendo las\n",
    "*visitas* a la diagonal.\n",
    "\"\"\"\n",
    "function iteramapeo(f, x0, n)\n",
    "    xx = [x0]\n",
    "    fx = [0.0]\n",
    "    for it = 1:n\n",
    "        x1 = f(x0)\n",
    "        push!(xx, x0)\n",
    "        push!(fx, x1)\n",
    "        x0 = x1\n",
    "        push!(xx,x1)\n",
    "        push!(fx,x1)\n",
    "    end\n",
    "    xx, fx\n",
    "end"
   ]
  },
  {
   "cell_type": "code",
   "execution_count": 10,
   "metadata": {
    "collapsed": false
   },
   "outputs": [
    {
     "data": {
      "text/plain": [
       "(anonymous function)"
      ]
     },
     "execution_count": 10,
     "metadata": {},
     "output_type": "execute_result"
    }
   ],
   "source": [
    "const α = 0.6\n",
    "fα = x -> f(x, α)"
   ]
  },
  {
   "cell_type": "code",
   "execution_count": 11,
   "metadata": {
    "collapsed": false
   },
   "outputs": [],
   "source": [
    "x1α, fx1α = iteramapeo(fα, 0.8, 10); \n",
    "x2α, fx2α = iteramapeo(fα, -0.8, 10); "
   ]
  },
  {
   "cell_type": "code",
   "execution_count": 12,
   "metadata": {
    "collapsed": false
   },
   "outputs": [
    {
     "ename": "LoadError",
     "evalue": "LoadError: UndefVarError: plot not defined\nwhile loading In[12], in expression starting on line 1",
     "output_type": "error",
     "traceback": [
      "LoadError: UndefVarError: plot not defined\nwhile loading In[12], in expression starting on line 1",
      ""
     ]
    }
   ],
   "source": [
    "plot(-1:1/32:1, fα, xaxis=(L\"x\", (-1.0, 1.0)), yaxis=L\"F_\\alpha(x)\")\n",
    "plot!(-1:1/32:1, identity)\n",
    "plot!(x1α, fx1α, marker=(:dot, 3, 0.4))\n",
    "plot!(x2α, fx2α, marker=(:dot, 3, 0.4))"
   ]
  },
  {
   "cell_type": "code",
   "execution_count": null,
   "metadata": {
    "collapsed": false
   },
   "outputs": [],
   "source": [
    "fx1α[end], fx2α[end]"
   ]
  },
  {
   "cell_type": "markdown",
   "metadata": {
    "collapsed": true
   },
   "source": [
    "Como puede observarse, los puntos *convergen*, o son atraídos al punto fijo $x^*=0$."
   ]
  },
  {
   "cell_type": "markdown",
   "metadata": {},
   "source": [
    "Consideremos ahora el caso $\\alpha>1$."
   ]
  },
  {
   "cell_type": "code",
   "execution_count": null,
   "metadata": {
    "collapsed": false
   },
   "outputs": [],
   "source": [
    "const β = 2.2\n",
    "fβ = x -> f(x, β)"
   ]
  },
  {
   "cell_type": "code",
   "execution_count": null,
   "metadata": {
    "collapsed": true
   },
   "outputs": [],
   "source": [
    "x1β, fx1β = iteramapeo(fβ, 0.08, 8); \n",
    "x2β, fx2β = iteramapeo(fβ, -0.08, 8); "
   ]
  },
  {
   "cell_type": "code",
   "execution_count": null,
   "metadata": {
    "collapsed": false
   },
   "outputs": [],
   "source": [
    "plot(-1:1/32:1, fβ, grid=:false, xaxis=(L\"x\", (-1.0, 1.0)), yaxis=(L\"F_\\beta(x)\", (-1.0, 1.0)))\n",
    "plot!(-1:1/32:1, identity)\n",
    "plot!(x1β, fx1β, marker=(:dot, 3, 0.4))\n",
    "plot!(x2β, fx2β, marker=(:dot, 3, 0.4))\n"
   ]
  },
  {
   "cell_type": "code",
   "execution_count": null,
   "metadata": {
    "collapsed": false
   },
   "outputs": [],
   "source": [
    "fx1β[end], fx2β[end]"
   ]
  },
  {
   "cell_type": "markdown",
   "metadata": {},
   "source": [
    "Claramente, los iterados de un punto cercano al punto fijo $x^*=0$ se alejan de él. Uno dice que el punto fijo los *repele*."
   ]
  },
  {
   "cell_type": "markdown",
   "metadata": {},
   "source": [
    "De igual manera podemos hacer el análisis para casos en que el parámetro sea negativo."
   ]
  },
  {
   "cell_type": "code",
   "execution_count": null,
   "metadata": {
    "collapsed": false
   },
   "outputs": [],
   "source": [
    "const γ = -0.6\n",
    "fγ = x -> f(x, γ)\n",
    "\n",
    "const δ = -1.2\n",
    "fδ = x -> f(x, δ)"
   ]
  },
  {
   "cell_type": "code",
   "execution_count": null,
   "metadata": {
    "collapsed": false
   },
   "outputs": [],
   "source": [
    "x1γ, fx1γ = iteramapeo(fγ, 0.8, 14); \n",
    "x1δ, fx1δ = iteramapeo(fδ, 0.08, 14); \n",
    "\n",
    "# xx = [x1γ x1δ];\n",
    "# fxx = [fx1γ fx1δ];"
   ]
  },
  {
   "cell_type": "code",
   "execution_count": null,
   "metadata": {
    "collapsed": false
   },
   "outputs": [],
   "source": [
    "plot(-1:1/32:1, fγ, xaxis=(L\"x\", (-1.0, 1.0)), yaxis=(L\"F_\\gamma(x)\", (-1.0, 1.0)))\n",
    "plot!([-1:1/32:1 -1:1/32:1], [-1:1/32:1 -1:1/32:1], layout=2)\n",
    "plot!(x1γ, fx1γ, marker=(:dot, 3, 0.4))"
   ]
  },
  {
   "cell_type": "code",
   "execution_count": null,
   "metadata": {
    "collapsed": false
   },
   "outputs": [],
   "source": [
    "plot(-1:1/32:1, fδ, xaxis=(L\"x\", (-1.0, 1.0)), yaxis=(L\"F_\\delta(x)\", (-1.0, 1.0)))\n",
    "plot!([-1:1/32:1 -1:1/32:1], [-1:1/32:1 -1:1/32:1], layout=2)\n",
    "plot!(x1δ, fx1δ, marker=(:dot, 3, 0.4))\n"
   ]
  },
  {
   "cell_type": "markdown",
   "metadata": {},
   "source": [
    "Claramente, la *magnitud* de la derivada en el punto fijo $|F'(x^*)|$ da información sobre el comportamiento local cerca del punto fijo. Así, *definimos* a un **punto fijo atractor** cuando $|F'(x^*)|<1$, y a un **punto fijo repulsor** cuando $|F'(x^*)|>1$. Dependiendo del signo uno puede decir que la convergencia (o divergencia) es *uniforme* (por el mismo lado)\n",
    "si la derivada es positiva, o *alternante* (por ambos lados) si el signo es negativo.\n",
    "\n",
    "Esto, en algún sentido aún ambiguo, es lo que significa que un punto fijo es *estable* o *inestable*."
   ]
  },
  {
   "cell_type": "markdown",
   "metadata": {},
   "source": [
    "**Ejercicio 6:**\n",
    "\n",
    "Analicen los mapeos\n",
    "\n",
    "- F(x) = x^2,\n",
    "\n",
    "- F(x) = x^3,\n",
    "\n",
    "- F(x) = -x^3,\n",
    "\n",
    "que se satisface $F(0) = F'(0) = 0$."
   ]
  },
  {
   "cell_type": "code",
   "execution_count": null,
   "metadata": {
    "collapsed": true
   },
   "outputs": [],
   "source": []
  },
  {
   "cell_type": "markdown",
   "metadata": {},
   "source": [
    "Para entender el comportamiento descrito anteriormente, usamos el **teorema del valor medio**:\n",
    "\n",
    "Supongamos que $F$ es una función diferenciable en $[a,b]$. Entonces existe un valor $c\\in[a,b]$ tal que la siguiente igualdad se cumple:\n",
    "\n",
    "\\begin{equation}\n",
    "F'(c) = \\frac{F(b)-F(a)}{b-a}.\n",
    "\\end{equation}\n",
    "\n",
    "\n",
    "Con este resultado demostraremos:\n",
    "\n",
    "**Teorema del punto fijo atractivo**\n",
    "\n",
    "Supongamos que $x_0$ es un punto fijo atractivo de $F$, que es diferenciable. Entonces, existe un intervalo $I$ que contiene a $x_0$ en su interior, y que satisface que si $x\\in I$ entonces $F^n(x)\\in I$ *para toda* $n$, y además $F^n(x)\\to x_0$ al $n\\to\\infty$.\n",
    "\n",
    "\n",
    "**Teorema del punto fijo repulsivo**\n",
    "\n",
    "Supongamos que $x_0$ es un punto fijo repulsivo de $F$, que es diferenciable. Entonces, existe un intervalo $I$ que contiene a $x_0$ en su interior, y que satisface que si $x\\in I$ y $x\\neq x_0$ entonces existe un entero $n>0$ tal que $F^n(x)\\notin I$."
   ]
  },
  {
   "cell_type": "markdown",
   "metadata": {},
   "source": [
    "Los teoremas anteriores *muestran* que, numéricamente, los puntos fijos atractivos son sencillos de localizar, mientras que los repulsivos son, en algún sentido, invisibles numéricamente. Para el caso atractivo, si alguno de los iterados de una condición inicial aleatoria *entra* en $I$, tendremos convergencia al punto fijo, mientras que en el caso repulsivo debemos tener un iterado que se mapee *exactamente* en el punto fijo para caer en él. Y esto, en general, nunca ocurre."
   ]
  },
  {
   "cell_type": "markdown",
   "metadata": {},
   "source": [
    "**Ejercicio 7:**\n",
    "\n",
    "Analicen los mapeos\n",
    "\n",
    "- F(x) = x,\n",
    "\n",
    "- F(x) = -x,\n",
    "\n",
    "- F(x) = x-x^2,\n",
    "\n",
    "que se satisface $F(0) = 0$ y $|F'(0)| = 1$. (Este tipo de puntos son *neutralmente* atractivos o repulsivos."
   ]
  },
  {
   "cell_type": "code",
   "execution_count": null,
   "metadata": {
    "collapsed": true
   },
   "outputs": [],
   "source": []
  },
  {
   "cell_type": "markdown",
   "metadata": {},
   "source": [
    "---"
   ]
  },
  {
   "cell_type": "markdown",
   "metadata": {},
   "source": [
    "**Referencias:**\n",
    "\n",
    "Robert L. Devaney, A First Course In Chaotic Dynamics: Theory and Experiment, 1992.\n",
    "\n",
    "Heinz Georg Schuster, Wolfram Just, Deterministic Chaos, 2006.\n",
    "\n"
   ]
  }
 ],
 "metadata": {
  "kernelspec": {
   "display_name": "Julia 0.4.6",
   "language": "julia",
   "name": "julia-0.4"
  },
  "language_info": {
   "file_extension": ".jl",
   "mimetype": "application/julia",
   "name": "julia",
   "version": "0.4.6"
  }
 },
 "nbformat": 4,
 "nbformat_minor": 1
}
