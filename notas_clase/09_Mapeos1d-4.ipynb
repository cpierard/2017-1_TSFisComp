{
 "cells": [
  {
   "cell_type": "markdown",
   "metadata": {},
   "source": [
    "**NOTA**\n",
    "\n",
    "Los ejercicios de este notebook componen la Tarea5, para la que las fechas relevantes son:\n",
    "\n",
    "**Envío del PR inicial:** lunes 17 de octubre\n",
    "\n",
    "**Aceptación del PR:** lunes 31 de octubre\n"
   ]
  },
  {
   "cell_type": "markdown",
   "metadata": {},
   "source": [
    "# Exponente(s) de Lyapunov"
   ]
  },
  {
   "cell_type": "markdown",
   "metadata": {},
   "source": [
    "Una manera de caracterizar el caos en el sentido de *sensibilidad a condiciones iniciales* es a través de los exponentes de Liapunov. La idea es sencilla: si hay una separación *exponencial* de condiciones iniciales muy cercanas, entonces diremos que hay caos."
   ]
  },
  {
   "cell_type": "markdown",
   "metadata": {},
   "source": [
    "Por esto, simplemente monitoreamos la evolución de dos condiciones iniciales cercanas, $x_0$ y $x_0+\\epsilon$, donde $\\epsilon>0$ y pequeño.\n",
    "\n",
    "Considerando mapeos en una dimensión, la distancia entre los iterados $n$ es\n",
    "\n",
    "\\begin{equation}\n",
    "D_n = \\big|\\, f^{n}(x_0+\\epsilon)-f^{n}(x_0) \\big|\\,.\n",
    "\\end{equation}"
   ]
  },
  {
   "cell_type": "markdown",
   "metadata": {},
   "source": [
    "Entonces, suponiendo que $d_n$ tiene una dependencia exponencial de $n$, para $n\\to\\infty$ y $\\epsilon\\to 0$, escribimos $d_n= \\epsilon \\exp(\\lambda n)$, de donde obtenemos\n",
    "\n",
    "\\begin{equation}\n",
    "\\lambda(x_0) \\equiv \\lim_{n\\to\\infty} \\lim_{\\epsilon\\to 0} \n",
    "\\frac{1}{n}\\log\\Big| \\frac{f^{n}(x_0+\\epsilon)-f^{n}(x_0)}{\\epsilon}\\Big|.\n",
    "\\end{equation}\n",
    "\n",
    "A $\\lambda(x_0)$ se le llama exponente de Lyapunov. Si $\\lambda(x_0)>0$ diremos que hay caos, mientras que si $\\lambda(x_0)<0$ diremos que no lo hay."
   ]
  },
  {
   "cell_type": "markdown",
   "metadata": {},
   "source": [
    "Observaciones:\n",
    "\n",
    "- El exponente de Liapunov, estrictamente hablando, depende de la condición inicial $x_0$.\n",
    "\n",
    "- En la definición del exponente de Lyapunov se require la evaluación de **dos** límites, uno que involucra al tiempo ($n\\to\\infty$), y otro a la condición inicial ($\\epsilon\\to 0$).\n",
    "\n",
    "- La definición del exponente de Lyapunov es sutil, ya que en muchas ocasiones *sabemos* que el rango de $f(x)$ y de $f^n(x)$ es acotado cuando $x$ está en cierto dominio, lo que entonces podría llevar erróneamente a concluir que $\\lambda(x_0)=0$. (La sutileza está en que el órden de los límites no conmuta.)"
   ]
  },
  {
   "cell_type": "markdown",
   "metadata": {},
   "source": [
    "Si el mapeo $f(x)$ es suficientemente suave, entonces podemos escribir\n",
    "\n",
    "\\begin{equation}\n",
    "\\lambda(x_0) = \\lim_{n\\to\\infty} \\frac{1}{n}\\log\\Big| \\frac{{\\rm d} f^{n}}{{\\rm d}x}(x_0)\\Big|,\n",
    "\\end{equation}\n",
    "\n",
    "Usando que\n",
    "\n",
    "\\begin{equation}\n",
    "\\frac{{\\rm d}f^n}{{\\rm d}x}(x_0) = f'(x_0) f'(x_1)\\dots f'(x_{n-1}) \n",
    "= \\prod_{i=1}^{n} f'(x_i), \n",
    "\\end{equation}\n",
    "\n",
    "donde $x_i=f^i(x_0)$\n",
    "obtenemos\n",
    "\n",
    "\\begin{equation}\n",
    "\\lambda(x_0) = \\lim_{n\\to\\infty} \\frac{1}{n} \\sum_{i=1}^n \\log\n",
    "\\Big| \\, f'(x_i)\\, \\Big|.\n",
    "\\end{equation}\n"
   ]
  },
  {
   "cell_type": "markdown",
   "metadata": {},
   "source": [
    "**Ejercicio 1:**\n",
    "\n",
    "Obtengan, para la familia de mapeos cuadrática $Q_c(x)$, el diagrama que muestra el exponente de Lyapunov en términos de $c$.\n",
    "\n",
    "- ¿Qué particularidad ocurre (en términos del exponente de Lyapunov) para los valores\n",
    "de $c$ donde hay bifurcaciones?\n",
    "\n",
    "- ¿Qué particularidad ocurre (en términos del exponente de Lyapunov) cuando tenemos *ciclos superestables*, es decir, cuando $x=0$ es parte de un ciclo periódico?"
   ]
  },
  {
   "cell_type": "code",
   "execution_count": 1,
   "metadata": {
    "collapsed": false
   },
   "outputs": [
    {
     "data": {
      "text/plain": [
       "Plots.PyPlotBackend()"
      ]
     },
     "execution_count": 1,
     "metadata": {},
     "output_type": "execute_result"
    }
   ],
   "source": [
    "using Plots\n",
    "\n",
    "using LaTeXStrings\n",
    "\n",
    "pyplot(grid=:false, legend=:false, size=(400,267))"
   ]
  },
  {
   "cell_type": "code",
   "execution_count": 47,
   "metadata": {
    "collapsed": false
   },
   "outputs": [
    {
     "data": {
      "text/plain": [
       "Q_c´ (generic function with 1 method)"
      ]
     },
     "execution_count": 47,
     "metadata": {},
     "output_type": "execute_result"
    }
   ],
   "source": [
    "Q_c(x,c) = x^2 + c\n",
    "Q_c´(x) = 2*x"
   ]
  },
  {
   "cell_type": "code",
   "execution_count": 16,
   "metadata": {
    "collapsed": false
   },
   "outputs": [
    {
     "data": {
      "text/plain": [
       "iterator (generic function with 1 method)"
      ]
     },
     "execution_count": 16,
     "metadata": {},
     "output_type": "execute_result"
    }
   ],
   "source": [
    "function iterator(f::Function, n::Int, k, x0, c)\n",
    "\n",
    "    solution = Float64[]\n",
    "    #steps = Int[0]\n",
    "    x_old = x0\n",
    "    for i in 1:n\n",
    "\n",
    "        x_new = f(x_old, c)\n",
    "        x_old = x_new\n",
    "\n",
    "    end\n",
    "    \n",
    "    for i in 1:k\n",
    "        \n",
    "        x_new = f(x_old, c)\n",
    "        push!(solution, x_old)\n",
    "        x_old = x_new\n",
    "\n",
    "    end\n",
    "    \n",
    "    return solution\n",
    "\n",
    "end"
   ]
  },
  {
   "cell_type": "code",
   "execution_count": 70,
   "metadata": {
    "collapsed": false
   },
   "outputs": [
    {
     "data": {
      "text/plain": [
       "liapunov_exponent (generic function with 2 methods)"
      ]
     },
     "execution_count": 70,
     "metadata": {},
     "output_type": "execute_result"
    }
   ],
   "source": [
    "function liapunov_exponent(Xi)\n",
    "    \n",
    "    σ = 0.0\n",
    "    n = length(Xi)\n",
    "    \n",
    "    for i in 1:n\n",
    "        \n",
    "        σ += log(abs(Q_c´(Xi[i])))\n",
    "        \n",
    "    end\n",
    "    \n",
    "    λ = 1/n * σ\n",
    "    \n",
    "end"
   ]
  },
  {
   "cell_type": "code",
   "execution_count": 79,
   "metadata": {
    "collapsed": false
   },
   "outputs": [
    {
     "data": {
      "text/plain": [
       "1000-element Array{Float64,1}:\n",
       " -0.248334 \n",
       " -1.43833  \n",
       "  0.568794 \n",
       " -1.17647  \n",
       " -0.115911 \n",
       " -1.48656  \n",
       "  0.709875 \n",
       " -0.996078 \n",
       " -0.507829 \n",
       " -1.24211  \n",
       "  0.0428369\n",
       " -1.49817  \n",
       "  0.744498 \n",
       "  ⋮        \n",
       " -0.0567696\n",
       " -1.49678  \n",
       "  0.740342 \n",
       " -0.951894 \n",
       " -0.593898 \n",
       " -1.14728  \n",
       " -0.183738 \n",
       " -1.46624  \n",
       "  0.649861 \n",
       " -1.07768  \n",
       " -0.338604 \n",
       " -1.38535  "
      ]
     },
     "execution_count": 79,
     "metadata": {},
     "output_type": "execute_result"
    }
   ],
   "source": [
    "orb_1 = iterator(Q_c, 100, 1000, 0.0, -1.5)"
   ]
  },
  {
   "cell_type": "code",
   "execution_count": 80,
   "metadata": {
    "collapsed": false
   },
   "outputs": [
    {
     "data": {
      "text/plain": [
       "0.25999766464274"
      ]
     },
     "execution_count": 80,
     "metadata": {},
     "output_type": "execute_result"
    }
   ],
   "source": [
    "liapunov_exponent(orb_1) # Caos"
   ]
  },
  {
   "cell_type": "code",
   "execution_count": 82,
   "metadata": {
    "collapsed": false
   },
   "outputs": [
    {
     "data": {
      "text/plain": [
       "-0.11157177942474457"
      ]
     },
     "execution_count": 82,
     "metadata": {},
     "output_type": "execute_result"
    }
   ],
   "source": [
    "orb_2 = iterator(Q_c, 100, 1000, 0.0, -1.2)\n",
    "liapunov_exponent(orb_2) #no chaos"
   ]
  },
  {
   "cell_type": "code",
   "execution_count": 124,
   "metadata": {
    "collapsed": false
   },
   "outputs": [
    {
     "data": {
      "text/plain": [
       "-0.018692862862578284"
      ]
     },
     "execution_count": 124,
     "metadata": {},
     "output_type": "execute_result"
    }
   ],
   "source": [
    "orb_3 = iterator(Q_c, 15000, 14500, 0.0, -1.401)\n",
    "lia_3 = liapunov_exponent(orb_3) #no chaos"
   ]
  },
  {
   "cell_type": "code",
   "execution_count": 115,
   "metadata": {
    "collapsed": false
   },
   "outputs": [
    {
     "data": {
      "text/plain": [
       "-8.268402498618143e-5"
      ]
     },
     "execution_count": 115,
     "metadata": {},
     "output_type": "execute_result"
    }
   ],
   "source": [
    "orb_4 = iterator(Q_c, 15000, 10000, 0.0, -.75001)\n",
    "liapunov_exponent(orb_4) #no chaos"
   ]
  },
  {
   "cell_type": "code",
   "execution_count": 119,
   "metadata": {
    "collapsed": false
   },
   "outputs": [
    {
     "data": {
      "text/plain": [
       "-9.53977020732341e-5"
      ]
     },
     "execution_count": 119,
     "metadata": {},
     "output_type": "execute_result"
    }
   ],
   "source": [
    "orb_5 = iterator(Q_c, 15000, 1500, 0.0, -1.25)\n",
    "lia_5 = liapunov_exponent(orb_5) #no chaos"
   ]
  },
  {
   "cell_type": "code",
   "execution_count": 132,
   "metadata": {
    "collapsed": false
   },
   "outputs": [
    {
     "data": {
      "text/plain": [
       "liapunov_c_range (generic function with 1 method)"
      ]
     },
     "execution_count": 132,
     "metadata": {},
     "output_type": "execute_result"
    }
   ],
   "source": [
    "function liapunov_c_range(c_range)\n",
    "    \n",
    "    liapunov = Float64[]\n",
    "    \n",
    "    for i in c_range\n",
    "        \n",
    "        orb = iterator(Q_c, 100, 1000, 0.0, i)\n",
    "        exponent = liapunov_exponent(orb)\n",
    "        push!(liapunov, exponent)\n",
    "        \n",
    "    end\n",
    "    \n",
    "    liapunov\n",
    "    \n",
    "end     "
   ]
  },
  {
   "cell_type": "code",
   "execution_count": 152,
   "metadata": {
    "collapsed": false
   },
   "outputs": [],
   "source": [
    "c_rango = 0.25:-0.001:-2.0\n",
    "liap_exponentes = liapunov_c_range(c_rango);"
   ]
  },
  {
   "cell_type": "code",
   "execution_count": 153,
   "metadata": {
    "collapsed": false
   },
   "outputs": [
    {
     "data": {
      "text/html": [
       "<img src=\"data:image/png;base64,iVBORw0KGgoAAAANSUhEUgAAAyAAAAH0CAYAAADFQEl4AAAABHNCSVQICAgIfAhkiAAAAAlwSFlzAAAPYQAAD2EBqD+naQAAIABJREFUeJzs3XlcVFX/B/DPuTNsyr4pKiiKuG/gvqOWe4umpalJ6aNpWvkztcXKFlvUNsvqybLFLc2sJ9M201zQcsMdwd0EFQVFRYSZe35/XGYAGXBmGAaQz/v14gXcuffcc+8chvO9ZxNSSgkiIiIiIiInUMo6A0REREREVHkwACEiIiIiIqdhAEJERERERE7DAISIiIiIiJxGX9YZICIiIqqIfvrpJyQlJSE5ORkpKSl4//33ERgYWNbZIir32AJCREREZKOTJ0/i6NGjmDJlCubOnYugoCCMHj26rLNFVCEwACEiIiKHMxqNdh1nMBgcnJPSsW/fPjz33HO4efMmAKBnz57YsGFDGeeKqGJgAEJEVMpOnjwJRVEQGxtb1lkhcoo5c+Zgx44ddh370ksvYffu3Q7OkeP169cPcXFxcHNzAwCcPn0akZGRZZwrooqBAQiRk5gqocV9hYeHl3U2K4yNGzdCURTMmjWrrLNiNSFEqaRrKlt9+/YtlfSJLFm1ahWGDBmCUaNGYfXq1ebtn3zyCXx9fdG+fXu70n3xxRcxffp0nDlzxlFZLRV6vR6tWrUCAGRnZ+Ozzz7D/PnzyzhXRBUDB6ETOVlERARGjBhh8TVfX18n56biK61KfUXEe0HOsm/fPowaNQoJCQlo0qQJMjMzcf/99yMxMRErVqzAn3/+aXfabm5umDdvHkaPHo3169c7MNelZ8aMGXj99dfRuXPnss4KUYXAAITIySIiIvDiiy+WdTbuGFLKss4CUaXzxRdfoEGDBggNDcX777+Pu+66CwAwffp0TJgwocTpN2/eHK6urli3bl25b9n74IMPMGjQIHTu3BlHjx5FRESEQ9KNj49Hy5YtHZIWUXnDLlhE5VS/fv2gKApWrFhRYLuUEn379oWiKFi5ciWAgt2RtmzZgu7du8Pb2xt+fn544IEHcOzYsSLPs2jRIrRr1w5eXl7w8vJC+/bt8dVXXxXaL/85du7cibvuugteXl7w9fXFoEGDcOrUKYvpb9q0CQMHDkRgYCDc3d0RGRmJmTNn4saNG3an//LLL6NHjx4AgFmzZhXoxnb69Gm7zg9oXUq6deuG4OBgeHh4oGbNmrjrrrvw/fffF3n/8jMajXjrrbcQEREBDw8P1K9fH2+++SZUVS32OFvyWBJ//PEHFEXBxIkTLb5+7NgxKIqCPn36AABycnIwf/589O7dG6GhoXB3d0e1atUwePBgxMfHFzrennL45ZdfQlGU25Y5S9tsKYfWlPPNmzdDURQ89thjFtO4cOECXFxcrHrKbeu9KMm93rZtG3r37g1fX18oimJXerbatGkT2rRpAwCIjY1FrVq1cOzYMezYsQODBg0qcfoAMHHiRMyZM8chaZWWJUuWIDw8HPXr18e5c+es/qywxpQpUxyWFlG5I4nIKU6cOCGFELJv375W7X/+/HlZrVo16evrK0+dOmXe/s4770ghhHz00UfN2zZs2CCFELJPnz7Szc1N3nffffL555+X9957r1QURQYHB8vjx48XOsekSZOkEEKGhobKp556Sj711FOyVq1aUgghn3zyyQL7ms7Rv39/WaVKFTlgwAD5zDPPyJ49e0ohhIyIiJBZWVkFjlmwYIEUQsiAgAA5evRoOW3aNBkTEyOFELJTp04yOzvbrvQ3btwoR48eLYUQMiYmRs6aNcv8dfnyZbvOb9q3Zs2acvz48fL555+Xjz76qGzatKkcOXKkVe/Zo48+KoUQsl69enLq1Kly4sSJMigoSA4YMEAKIWRsbGyhY2zJY1FsKVv169eXvr6+MjMzs9BrM2bMkEIIuWrVKimllCkpKVKn08mYmBg5fvx4+eyzz8qhQ4dKd3d36eHhIXfs2FHgeHvK4aJFi6QQQn711VeF8mNKb9asWYW22VIObSnn4eHh0sfHp1AaUkr53nvvSSGE/PTTT29zl22/F/be67vvvlu6urrKPn36yOnTp8thw4bZlZ4tsrKypKurq/zvf/9bYPvs2bPN53eE9PR06eLiIi9evOiwNB1p69atUq/XSyGE+WvgwIEOS7979+4OS4uovGEAQuQkpkpiRESEfOmllyx+/fLLLwWO+eWXX6SiKLJTp07SaDTKPXv2SFdXV9mgQQN5/fp1836myogQolCl4NNPP7X4j/Gvv/6SQgjZpEkTmZGRYd6enp4uGzRoIIUQcvPmzRbPsWLFigJpjRo1Sgoh5PLly83bDh48KPV6vWzVqpVMS0srsP+bb74phRBy3rx5dqdvqXKan63nj4qKku7u7jI1NbVQWpcuXbJ4jvxM+WnVqlWByv3Zs2dlUFCQxQDE1jwWxZYAZM6cORYr/Dk5OTIkJERWr15dGgwGKaWUN2/elMnJyYXSOHjwoPTy8pJ33XVXge32lEN7AxBry4mt5XzmzJkW05ZSyujoaOnu7i7T09MLvVZU3q29FyW5119++WWh42xNzxqZmZmyX79+sm3btlIIIbt27Sr79OkjV69eLaWUsmfPnvLdd98t8vi4uDj51FNPySeeeELGxsbKjIwMOXXqVDljxgwZGxtrMehr0aKFXLZsmc15LSl78upotgYgu3btkqNGjZJPPfWUnDZtmnzjjTekqqqllDuikmEAQuQkpkpiUV+Kosinn3660HFPP/20FELIZ555RjZs2FC6ubnJ3bt3F9jHVBlp2LBhoeNVVZX169eXiqIUqFybntavXLmy0DFLly6VQgj52GOPFTqHpX+KGzdulEIIOXXqVPO2yZMnSyGE3LJlS6H9jUajDA4Olq1bt7Y7/dsFILaePyoqSnp6elpVubQkNjZWCiHMlbH8XnvtNYsBiK15LIotAUhqaqp0c3OTXbp0KbD9hx9+kEIIOX369NumIaWUAwcOlG5ubuZgRUr7yqG9AYi15cTWcp6YmCiFEPKee+4psO+hQ4ekEEIOGjSoqFtiMe+23IuiFHevrSkf1qRniy+++ELqdLpClfDAwED522+/WTwmISGhwOdbt27dZFRUlDx37pycPXu2FEIU+lyTUsoHHnhAzpgxo8i8DB8+XLZs2dLqr549e972+uzNq6PZEoAsXrxY1q5dWyYlJUkptbLt5uYm9+7dW1rZIyoRDkIncrI+ffpg7dq1Vu//5ptvYuPGjZg7dy4A4O233zZP/XirTp06FdomhECnTp1w9OhR7N27Fz179gQA7NmzB0IIdO/evdAxMTExAIC9e/cWei06OrrQtpo1awIALl++bN62fft2AMAvv/yC33//vdAxer0eCQkJdqd/O7aef9iwYZg2bRqaNm2K4cOHIyYmBp06dYK3t7dV59u7dy+EEOjSpUuh14oaM2DvPSqJwMBADB48GMuWLcORI0fQoEEDAMDChQshhMCYMWMK7B8fH4+3334bW7Zswfnz55GTk2N+TQiBixcvolq1agWOuV053Ldvn3kMj72sLSe2lvP69eujbdu2+OWXX3Dp0iUEBAQAABYvXgwAGDlypE35tOVe2HOvTeMwLLEnPWvs27cPkZGR5vUvAODatWu4dOlSkTP5ffDBB5g3b5759xs3bqBVq1aoVq0aOnXqhFdffdXi55q/vz9OnDhRZF6WLFlic/5vx968lpXdu3fj0UcfxapVq8wD4DMyMtC+fXuHDYgncjQGIETlnKurK/r06YP4+Hh4eHgUOUAWQJGVCdP2jIwM87aMjAwoioLAwMBC+wcHBxfa38RShVyv1z5K8q98nJaWBgB4/fXXi8yvpWljrU3/dmw9/9SpUxEQEICPP/4Y8+bNw9y5c6HX69G/f3+8++67qFOnTrHnu3LlChRFMVdY8yvqfbH3HpXUuHHjsGzZMixcuBBz5sxBcnIy1q1bh27duhWosMTFxaFHjx5QFAV333036tevD09PTwghsHr1auzdu9e8CnR+tyuHV65cKfE1WFtO7CnnI0eOxD///INvv/0WEyZMgJQSS5Ysgb+/P/r3729TPq29F46+1/amZ419+/ahefPmBbaZrqOoAGT69Olwd3cHAGRlZWHfvn2YPHkyAKBr167o2rWrxeP8/PwKTSxR2uzNa1mZPn06IiMjMWDAAPO2cePGYdy4cWWYK6LiMQAhKuf+/vtvzJkzB4GBgbh48SIef/xxLF++3OK+58+fL3a7j4+PeZu3tzdUVUVqaiqCgoIK7H/hwgXzPvby9vaGEAIZGRmoWrWq3ek48/yxsbGIjY1FWloaNm/ejGXLlmHFihVISkrCvn37zDMMWeLj4wNVVQs8NTcp6n0pq3vUtWtXNGzYEF9//TVmz56NRYsWQVVVjB07tsB+r7/+OrKzs7FlyxZ07NixwGtxcXFFpm9LOTTdU4PBUGh/RwUqtpbzhx56CFOmTMHixYsxYcIEbNq0CadPn8b48ePh4uJi0/mtvRf23uuiAlR707PG/v378fTTT1vMR1EzvoWFhZl/3rZtG27evGmxtfBWqqo6fapte/Nqr/vvvx8nT54stP3o0aMWW1oiIyPx7bffAgBSU1Px559/4tlnny21/BGVBk7DS1SOXb16FcOHD4erqys2btyIwYMHY8WKFVi0aJHF/bds2VLon7WqqoiLi4OiKGjRooV5e1RUFKSU2LhxY6F0TNtKMgd9+/btIaXEtm3b7E6jODqdDkDRrSIlOb+/vz/uvfdeLF++HDExMTh06FCxUxkD2r2SUmLTpk2FXtu8ebPD81hS48aNQ2pqKn744Qd88cUX8Pf3x+DBgwvsc+zYMQQEBBSqwGZmZmL37t1FVn5tKYd+fn4AgH///bdQOnv27LHr2vKzp5wHBASgT58+2L59O44dO2buflXUAqLFsfZe2Huvi+Lo9EySk5Nx8eLFQi0gpkAqPT39tmls2LABYWFhBSr6lirggNZKaCojlowaNQpt2rSx+qt3795WXKV9ebXX6tWrsWfPnkJfrVu3trjdFHwAwPHjxyGlLFddwoiswQCEqBybMGECTpw4gblz56Jx48b47LPPEBoaismTJyMpKanQ/omJifjss88KbPvss8+QlJSE/v37F3gy/8gjjwDQ1tG4evWqefuVK1cwa9YsCCHM+9ibd71ej0mTJuHMmTOFXr98+XKJ1iPw9/cHgCK7Z9h6fksV1JycHKSlpUEIYe6SURTT2IBXXnkFmZmZ5u1nz57F+++/75A8OtIjjzwCd3d3PP300zhx4gRGjhwJV1fXAvvUqVMHaWlpOHTokHmb0WjE1KlTcfHixSLTtqUctm7dGkIILF++vECXoKSkpCLvmy3sLeem93PhwoVYuXIl6tatW6gybw1r74W997oojk7PxFQe8weRAFC1alUEBQWZuxXmd+PGDUybNg0HDhwAAKxfv77AvUxJScHSpUstni89PR3h4eFF5ufrr7/Gjh07rP769ddfi72+kuS1LJi6EVpqrd60aZPDx5AROQq7YBE5WVJSEl5++eUiX3/22Wfh5uaGxYsXY8mSJbjnnnvw+OOPA9D6Vy9evBgxMTEYPnw4tm3bZu73DgC9e/fG5MmTsXbtWjRu3BgHDx7EmjVrEBQUVKgy16VLF0yaNAnz589H06ZNMWjQIEgpsWrVKpw9exZPPvmkVQuuFaVJkyZYsGABHn/8cTRo0AD9+vVD3bp1cfXqVRw/fhybNm1CbGwsFixYYFf6jRo1Qo0aNbB8+XK4ubmhZs2aEEJg8uTJ8Pb2tvn89913H3x8fNC+fXuEhYUhJycHv//+Ow4fPowhQ4YgNDS02Px0794dsbGxWLRoEZo1a4b77rsPN2/exIoVK9ChQwesWbOm1O/Rvn37MHr06CLv1/Tp082/+/r6YujQofj6668hhCjU/QoAJk2ahN9++w2dO3fGkCFD4O7ujo0bNyI5ORndu3e3GLQBtpXDkJAQDBs2DEuXLkV0dDR69+6NCxcu4IcffkDfvn3x3XffWXXtRbG3nA8cOBA+Pj545513kJOTg6eeesqu81t7L+y910VxdHome/fuhZ+fH2rVqlXotaioKBw6dAj9+vUrsH3t2rWYO3cuoqOjcePGDVy4cAGRkZEAtCD/1VdfxWuvvWbxfAkJCRg+fLhdebVHSfJaFsLDw9GrVy9s3rzZvBo9AKxYsQK7du3CW2+9VYa5IypGWUy9RVQZmaZKVRSl2Kl4r1y5Io8fPy59fHxkzZo1La5B8cILL0hFUeS0adOklAWnK92yZYvs3r279PT0lL6+vnLw4MHy2LFjReZr0aJFsm3btrJq1arS09NTtmvXzuK6AsVNe2u6NksL7e3YsUMOGzZM1qxZU7q6upqnln3uuefkkSNHSpT+33//Lbt37y69vb3N9y//oo22nP/jjz+W9957r6xTp4708PCQQUFBsn379vLTTz+1erpSo9Eo33zzTVmvXj3p5uYmIyIi5JtvvimPHTtW5P2xJY9FuV3ZUhRFxsTEFDpu/fr1UgghO3bsWGTaq1atktHR0bJq1aoyODhYPvTQQ/LEiRNy9OjRhe63veXwxo0b8sknn5TVq1eX7u7usmXLlnLZsmXmaXUtTcNrazm0tpznN3bsWPP9M01vai177oW997ootqRnrSFDhhSaothk7ty58t577y20PTU1VY4aNUpOnTpVzpw5U6alpckHHnhAPvnkk/KJJ56QiYmJFtNLTU2Vrq6uVq3D4yj25rU0WDsNb1pamhwxYoQcP368fOaZZ+TkyZPlmjVrSjl3RCXDAIToDmBNZYToVm+99ZYUQshFixY5JD2Wwzx36r2IiIiQ8+fPt/jaqVOnZHBwsMzJyXHIuVauXCn79+/vkLQqIq6ETncyjgEhIqqEbty4gY8++gj+/v546KGHyjo7VI49/fTTeOyxx3DlyhWcOnUK99xzj8X9wsLC0LNnT/Og/ZL68MMPMWXKFIekVRGZxncQ3YkYgBARVSJbtmzB66+/jt69e+PMmTOYNm3abQfYU+W2cOFCeHh44KeffsLw4cMLzAh1qzfeeAMfffRRkdPxWmvbtm3w8vIq8YKVFVn+2a6I7jQMQIiIKpH169dj5syZOHLkCKZMmYKpU6eWdZaonHvuueegKArWr19/25nJateujSeffBIvvPCC3ee7du0aXnjhBSxcuNDuNIiofBNSOnmFHyIiIrqjffjhh2jUqBF69uxp87EzZszAiBEj0LRp01LIGRGVBwxAiIiIiIjIadgFi4iIiIiInKZSLESYkpKClJSUss4GEREREVGlExISgpCQEPPvd3wAkpKSgh49eiAhIaGss0JEREREVOl069YNy5YtMwchlSIASUhIwOLFi9GoUaOyzg4RnnrqKbz33ntlnQ0iACyPVP6wTFJ5wvJYcocPH8aIESOQkpJSeQIQk0aNGiEqKqqss0EEX19flkUqN1geqbxhmaTyhOWxdHAQOhEREREROQ0DECIiIiIichoGIERERERE5DQMQIicbNiwYWWdBSIzlkcqb1gmqTxheSwdDECInIwfZlSesDxSecMySeUJy2PpYABCREREREROwwCEiIiIiIichgEIERERERE5DQMQIiIiIiJyGgYgRERERETkNAxAiIiIiIjIaRiAEBERERGR0zAAISIiIiIip2EAQkRERERETsMAhIiIiIiInIYBCBEREREROQ0DECIiIiIichoGIERERERE5DQMQIiIiIiIyGkYgBARERERkdMwACEiIiIiIqdhAEJERERERE7DAISIiIiIiJyGAQgRERERETkNAxAiIiIiInIaBiBEREREROQ0DECIiIiIiMhpGIAQEREREZHTMAAhIiIiIiKnYQBCREREREROwwCEiIiIiIichgEIERERERE5DQMQIiIiIiJyGgYgRERERETkNAxAiIiIiIjIaRiAEBERERGR0zAAISIiIiIip2EAQkRERERETsMAhIiIiIiInIYBCBEREREROQ0DECIiIiIichoGIERERERE5DQMQIiIiIiIyGkYgBARERERkdMwACEiIiIiIqdhAEJERERERE7DAISIiIiIiJyGAQgRERERETkNAxAiIiIiInIaBiBEREREROQ0DECIiIiIiMhpGIAQEREREZHTMAAhIiIiIiKnYQBCREREREROwwCEiIiIiIichgEIERERERE5DQMQIiIiIiJyGgYgRERERETkNAxAiIiIiIjIaRiAEBERERGR0zAAISIiIiIip2EAQkRERERETlNpAhCjKss6C0RERERElV6lCUDa/mBE/18MDESIiIiIiMpQpQlAAGDtGQn95waM2WTAiQyJc5kS+y5JqJJBCRERERGRM+jLOgPO8mKUggXXgYtZwOdHJD4/Yijw+vQWCloFCHSuLnDDAFw3AC0CRBnlloiIiIjozlRpApB76yiYFeWCRUdUPLrJiOH1BOIvSRy6rL3+1l610DH/7aLD2IaFG4kSLkvoBRDhwwCFiIiIiMgWlSYAMRkdKTA6Ug8htOBBSomW3xsQ5imw5nTBrlj/2WzEfzYbcXdNgf9rrqBTNYH/JqiYsl0LVp5rqWBmKwVGCWxIlmjiJxDuLWBUJXQKgxMiIiIioltVugDEFHjk/33vYBft589yMKaBwMIjBQOR385K/HbWCP0tMcXseBWz4wu2nIRWBVwUYOs9egS4A7/9K3ExC4jwBjpV11pTpJSF8kFEREREVBlUugCkOJmxerjpgDntAE8X4PkdKt7ep+Ld9gqe3q7CkBuX/Kehgp41BH48pWJDisSYBgpcFWDmLhVnrmv7hCwxFEo/3MuIrtUFrmQDk5oouG4ABtauVPMAEBEREVElxwAkH4/cJg5fN+33t9rp8FY7HQDg6e15LR3dQwSG1lMwtF7B4OGhegrWJ6tYnCSx5bwWray+S4fZ8Sp2pEqcuAqcuKpt/+GUEQDQKsCISU106FxdQBFAPW/LLSMbk1X4uAq0DCjcikNEREREVFEwALHS+EYKPjmsBSFFDe+I8BGI8NHhPw0llIVaC8g9tQXuq6PHwF8NaOInUKsqMCkuL5jZcwl4dJPR/Pu3PXToHSrg4yqw9rSKreclfjyl4mB63nl23a9HAx+gqgsDESIiIiKqWBiAWGlmq9sHICZCCKzro8P6ZAklt7Xip955t7pHDQVNvjPgrbYKJjVRELnCgH9zu249+KcR3UMEruUAOy9aXp8kerUW3Kzvp8PHh1X8fFripSgFD9ZTkJENNOf0wURERERUTjEAsZKfW97P1kxw1SdUQZ9Qy6819hPIeUwPndCClWMP6vFlosS4LVpLyMaUwoFHVT1wYaQeT20z4rME7fWea/NaTmbsUDFjR17LyvyOCp5oosPmFBXRQQJVbh1BX0oSLkt46oFangyCiIiIiKgwjoC2kpsu72dH3DS9IsxjOVx1Ap7aRFyocktIuDhGO/GrrRVU0Qv8t4seJx/So19oXgV/SYwOt5rxj4r/nVLRdY0R4zcbcSnLcau9q1Ki208GPPO3ET+fVuH6eQ5WHFOxKUVFo5UGhC4z4O8LKoyqREa2xLUciUtZEgsTVGQbueo8ERERUWXGFhArKfkGfpfGEh+mNHvUEMg2alP/PtZAYHg9ARehw/3heSet7SXwcx895h8womM1BdFBApezJVwUgf1pEvMPqrhuAO79TWsh+eaoxDdHDdjQX4fuNUoWPp28KvF1kopN5yQ2nZOYu0/b/uCfxgL7tf/RiA7BAtsuFAw4Xt4NeLkAr0TrMKiOgMy99vz39+x1iTPXJNpXY3xMREREdKdhAGKH0ghAdLlpCgB6xbRNayUZWs/yCSc1zWv5mNA47+e57RSELDEg7WbB/WN+NuLmowKuOvsuINsoUe9bA1QLjRgTGyv46FDBNVFuDT4A4GzuWJeh67WAxdtF65L2w106ZKva+JbULG2f2W0kPHTAqPoKclRtdjI3O/NOREREROUDAxA7lGYAIqEtZFiS87jqBHrVFFhxXOKDDgomb8sLDMZvMeKLbva97WvPSKgSiAoE6noJfHdCCzCWxugwLELBtBYK0m4C13Ikso15Y1QMj+nxzVGJhyMEzl4HZsdr41g8XYDetQR+PytR3cK6Kc/ljmk5fhWYf1CFt4vWRa1zdYEVPXVFTkd8IkNi0B8GHL4MPFxPoJGfwKA6CrackxhZX3AaYyIiIqIyxADEDqXZBQvI3wJS8nR9XAUuP6JHFT3g+rkBixIlnm0pUd/HtsRVKTFzpzZD15/9LVf+wzwFwjwBrR0HALQARKcIjI7UttXxArxcBABt5q6pzXW4lCUR+E1eALI4RofO1QTqLNe2zT+oBSIZOdrXdycknohT4eUC9A0V6BaS11Xr9T1GvLAzL+D6IlECkHjmb23bI38BCzop2HsJWH5cxQPhAv1CFdwwAoPqCLjrgE8Oqzh5FXg5WoGLAvyTKlHfWyDIg4ELERERUUkxALFDaYxMKNAFSxTcVhKK0IIQU3pGCby624ivY2x767eekziQDmwcoFjdgvBMcwWtLEwJbLo+0/cAd4HXWivmwGFQHQEPvcCibjp0rS6w5KiKah4CfUMFjmVIDPvTiAW53b2+OwEcfTDvHZmZm0Z0oMCuIqYxnrBV28ddB3x+ROLzI1qgdE9tAV9X4Osk7bi396mFjo2NFDhxVZuU4MOOOkTYGMgRERERVXYc5WuH8t4FCwCkLJzGlUf0mNREwR/JElLaNhuVaTxJY1/rM/V2O61r1q10Flp47qqZ94tp++hIBXW9BWZG6fCfRgpCPQW611CQMsIF+wbr0dgXOJYBpN7QruVajoQigP6h2pgSE3WMHnKsC3Ie02NuO+3kHYIF/uin7dM6UDvh/05Jc/BRlEWJEhtTJDYkS9RfYcDDfxqgStvvJxEREVFlxQDEDhWpC1b+dKu6CPSpJZCSqVXcbZGjFsxbSZhbQPKlVVVfOAApTjN/gQWdtQAieLHWVetAmtRaeFrrCqxDYmqx0StadytAa/200niaAAAgAElEQVToVF3BzUf12HG/HvGD8lqEJjdRkPGIHudH6JEZq4c6Ro9/7tMhcage/UMF3uug4OiD2v5Lj0noFhrQfJUBxzMYhBARERHdDrtg2aE0JmKy1AXLEYHOrXltE6Rt2Jsmbeo+ZMitW7s4IgDJN8uXSf71T6y97q7VC+6YnRskVc1N69iDemTkFDymehXte20v7btpRrAWAQLtggX+viChE4CXq4BXvuNM921Nn7yMZj+mR/9fjNh+QeueVu9bLRB6r4OC5OvAyWsS/UIVbDmn4r9dih40T0RERFSZMACxQ2l3wdIr2iBtR7eAAIC/mxbk3DpF7+2YWkAcEYCYspS/BSR/AGJtRV0IATcdcDN3CRLTGoemLl51vQun4+cmsKqXrkCXLxM3U2Bk5TW6KAK/9tVBAlh6VGLkRi0jT+XOOuahA1Yc17btSDVgfkcd2lcTOJAGNPbjlMJERERUObELlh1KJQDJ9044YgyIya1vsE4R8HWDzSujm7tgOfDa89e/b10B3lpz2ipwzx3uYVqf5HaFelC4Ai/XwhfimpuOLdcohIAiBEbUVyDHuqBLvlaZTzrnjUPZmwZ0XWNE0DcGRK02YOJWI1eFJyIiokqJAYgdSmUMSL6fHTELlqkRwVJeA9xsbwExqFrLhc6BF19UC4gt3PUCWUZASlmoBcRWbg4YezO/Y17QMSpSQfZjBS/sSrb2/fMjEm5fGPDz6cIzbV3NljiQJrExWYXB0qqPRERERBUYu2DZoVSm4c2XaGkNQjcJdBdIybS1BUQ6pPtVfvlbGuwNbEytH9lqvi5Ydt43N50pL/YdD2hdq/Jzyb2uQHdgajMFM3aoqOsFnLqm5XfAr0Z80RWIbZB30i4/GbA3LS+NztUEPF208StvtNGhehV23SIiIqKKiy0gdijNMSBAXgDikC5YFtLoWl3gl39tmzrWIB0zA1Z+jgiwPHKDhhsGwJjbmGDvfTMHICXIl6XuWycf0uPwEL25i9fI+goMY1zwYUfthj66yQg133uRP/gAgC3nJX75V+LLRImQJQboFubg/QNG1Fqag0G/G7AhWcW7+41Iy+J0wERERFT+MQCxQ2lPw+tSyi0gMTUELmYBB9KtTydHdcwA9PwcEdCYWkCyjICpM1OJW0BK1PWt8MG1vQQC3YU5fdfc686/Gv3+fEFHVT3wUD0BdYw2FbBxTMGGSlVqA93PXgdWn5To8bMRU7arCPjGUGAVeCIiIqLyiAGIHZRSmE41/5S0jpyG19IbbJpStsUqAzKyrXtiXhoBiENaQHLr5vlbQOxN11XJWzG+NLjlpm+6j3fXUrB3kB7uOmBDcl7gkK1qrVRCCAR7aIPct96jQ9w9Olx5JC8YGVVfYHRkwczOjlcR+W0OLtxgSwgRERGVTwxAbGCq6jmrC1ZJKsKWVkI3CXAXqFVVm/K3zzqjVekZVMfNgCVu+V4S+VtAHDYGpLQCEF3hbc0DBOp5Ayeuar9LKZGj5gVDJh2rKehQTYG3qzDPtKUXwHMttURX9dLBkDvgPSkDCFliQMJlBiFERERU/jAAsYF5ZqlSSNtSF6zSWIjw1vNtuyCtmg62NFpAHFE9ds+9wExDXgBSlmNArEn/ViFVBJJzJwWwZr0VTxftu07RunGdH6HHoHAFOkXgyiN6fNVNB1UCbX8w4KtEFYuOqBwbQkREROUGAxAbOK0FxAHT8JpYk9c9l8omAHGEmlW172euS/M6IHa3gNi4EKGt8i82mV+NKkBKpvazaTV31yKCFSCv1cfUbS/YI++CvV0FRkUqWNVLh6s5wOi/jHh0kxH+XxswdpMBOZzWl4iIiMpYuatSJiUloWPHjmjQoAHatm2LQ4cOWdxvzZo1aNSoESIjIzF48GBcvXq11PNmqsxX9FmwgLwuWgCw7fztK6WlMQuWI1TzALxdgCOXpcO6YDlysUVrRHgLHEyXUKVEdm6PONdi7rWHFS01g8IVhFbN+/1yNrDwiMSb8RykTkRERGWr3FUpx40bh/Hjx+PIkSOYPn06Ro8eXWifa9euYcyYMfjxxx+RmJiIGjVq4NVXXy31vJVmC0j+NB0xGLq4hQiBvKfwNaoAcVYEIOW1BUQIgdpewNlMlHghQlcHzj5miSnZW3tDdawmcDkbOJye1wWruADE3cquYlVdCv7u6QK8uEvFyuMMQoiIiKjslKsq5YULF7Br1y6MGDECADBo0CCcOXMGx48fL7DfunXrEBUVhcjISADAhAkTsGzZslLPn7kFpBTSzl+ZND2Jt2Joxm3dLliKqSHwd2rFDUAAIMBN4GJWXguIvdnMW4iwdJtAbr3b7YIFdALYel5a1wVLb12Aalpd3rTb8y21OzN2s9GqcT9EREREpaFcrYR+5swZhISEQFG0ipIQAmFhYTh9+jTq1q1r3u/06dMICwsz/167dm2kpKRAVVXzsbcypKfCcDGlRPkLu2lAlgro0nUwGBxbSdVdlwjLNiIwU8D7mkBYtgrXywKGi8XURIvhf92IsGwJl3QFBgtNAiFZBijZQDu9wNZ0iexUXbHTC3tmGFEzC3bnp0BaV7W8uV5WYKial7ewbAMAwHDRtmLZwGjE1TTAzVO7b+olHaQdUyX7XNPy5XlVgeGi/dFWUdfhdkVFWLYKz6sF31d3AN3cDDh1WiDbQ0FYthEeGUXnodoNLZ9+mcWXj9rZRlzMlnBTgJsq0E6vYHMn4OENKo6f0iHCmyuqExERUekypKcW2iZkOZoeZ9euXXj44YeRkJBg3tauXTu89dZb6N69u3nbO++8g8TERHzyyScAgMzMTHh7eyM7O7tQALJ7925ER0dj7bAOaBbs7ZTrICIiIiIiYP+FDPRbtg27du1CVFQUgHLWAhIaGlqgJUNKWai1AwDCwsLw+++/m38/efJkgZYTS2YnZcHnXMFO8UMG9MGDA/panb+BvxqQaQCW9tChmodjnx5fypIYut6IDtUEBoQKPL9TRWykghH17XsS/+oeIzYmS3zcWUGkT+E0hq434FIW8H4HBU9u0/r9rO+vQ8+ftVHQP/XWoUq+0div7THicjYwt13JW0AWJ6lYlKjitdba2hYmPX825ObDtmL5VaKKr5O0a9AJ4Ld+9hXrtWdUzNunYkpzBf1D7W8BKeo6so0S8/areKKxAi/XguXnw4MqVp9U0cBH4MgViQWdFTSw8L4BefdveISCxxoUnc/ndhjx9wUJPzcg/SbwTnsFzfwF7lpbcO2Xl6MVdKleMJ0cVWLMZiMu39Rm5grxAGZF6xDqWZatJhI/n5FYcFBFVRegTy0Fp65J7EyVyDIC4V5Al+oKuoYIhHsBjllphiiPhMShNIm/zgFx51WkZGqLoUYHCtT3FjBK4NJNidPXgDPXJC5na8cJANWrAGGeAmGeAqGeQFhV7XcfV5ZTIrpzfLtmHVau+aXAtvjkrEL7WV1TO3DgAOLj43Hu3Dmoqorq1aujbt266NChA3S6kldKASA4OBhRUVH45ptv8Mgjj2DVqlUIDQ0t0P0KAHr37o2JEyfiyJEjaNCgARYsWIBhw4YVm/b7ny40R1322rU9B+k3AVFPD3cHV8T0mRJxfxvgHyDQq46CuAQjelVX4B5p3709esaAuAwJQ7ge7oGF87pzRw5S9IBvIz3i9msV5vRaesR55lae3XUYUjevUrr/pAGqBNwjSx6znr9uRFyyimthOrjXzjtH3F85AAD3SJeiDrXIW1ERl6JVqt10th9vkgEVcceNGBFi/30Hir4OdwCzGlk+5ny6EXEXVcQZAXgCqKuHe4DlMnYlS7t/PW6Tz+MnDYjLlPhPQwU/J6io1VyPKlUFHjYaMXFr3kD06ReBXV30EPm6rS3YZ8QqoWLvcO39HrregDb7geU9dOhTguDMXuk3JR7bZMTqkxJjWgq8015nDuIyDRK/npFYdVLFtFMSGSlAhDcwOFzB8HoKmhdxH4msIaXErosS3x6X+PaYijPXgZAqwL1NFIypLRBTQ8CtiAFZl7IkjlyRSLgMHL4skXBZ4qfLEsdTYZ42PMANaOgr0NAXaOIn0NRPoJm/QDUPFPibJCKqCB6Z0hKPTHm2wLb6c/4BprUrsK3Y2uTly5fx/vvvY/ny5ahevTrCw8Ph7+8PNzc3nDhxAj/++CPGjh2L6OhozJw5Ew0aNChxxj/99FOMHj0as2fPho+PDxYtWgQAeOmll1CjRg2MGzcOXl5eWLhwIe677z4YDAY0a9YMX331VYnPfTvmBQJLIe38/2dM58kpwWRFxa2EDgCvROswZbsRwR5527acy+uN9/tZtUAAkmkA/N3sz09+g8MVzNypom2QY/65NvHLS6ckKZoafEo6PlsvgCCP2++Xn9sthcoRs2CZylGPGgKfdskLhsY2VMwByPyOCibFqdh5UaJN7vuRo0q8c0DFiAiBJv7atm336vHwBiP6/2rEBx0kJjZxzEMHayRelhj4mwGpWdqK74PCC96cKnqB+8MF7g9XkG2UWJ8sseqEioUJKt7aq6KpH/BwhILhEQrCyrQFhyqSA2kSy4+pWH5cxbEMIMgdGFJXwYN1BTpXF8WOmTMJcBfo6C7QsVrB7TeNEklXgITcoCThisSeSxJLjmqteYAWmDT11wKSpn7az038BPzcWIaJqOKQUuJcZuHtRQYga9euxaJFixAbG4vnnnsOLi5FP1VOSEjARx99BF9fX7zyyislymhkZCTi4uIKbZ81a1aB3wcOHIiBAweW6Fy2MlVQS2OSpPxJmiqOBgfMllpUJXVMQwVjGioFVsg2rQfSLURg67mCtfBMA1CrKhyioa+AOta+VgpLmvjl/ZxlLHq/2zHdq5Le96uj9bD1weWta6wUN+OYi5XTNJvSKJx23oGjIxW8vVfFwgSJNkHatt//lTh7HXiyaV6Q4e0q8MNdOjzzt4on4lRcyQaea1X6QcifZ1UM/sOIkCrAP/fqEeFT/EW76gT6hgr0DVXwcWetZWTJMRWv7Fbx7A4VXasLjKiv4IFwVuSosItZEkuOqvgyUUX8JcDXFRgcLvBxJwUxNQT0Dvrwd9MJNPXXgor8jKrEiavAgXSJA2kSB9IlNiSr+PSwthYToC2+2jS3pUQLUIBGvgJVXVieiaj8SbwCXMspvN1iALJu3TokJydj5cqVViXesGFDfPDBBzh8+DBee+01vPDCCyXKbHllbgEphc/5/NV9vQNaQMzrgNx2v7yL+Sd3Ot4HwgUmxUmkZUn4u+d1c6lSHlcihDZt7httFDy7o2SRg+nyStoC4m7HSoa3nrK4aXitnQ7ZtF9x+1fVA0PrKlh2TIWUCoQQWH5MRSNfoGVAwX11isC89gr83IDnd6owSODFqNILQtaeVjHoDyO6VRdY0Utnc195F0VgQG2BAbUVXM2WWH1SYvFRFeO3GPHEVmBQuMDYBgq617DuaTbdmQyqxLozEl8mqvjptISUwMDaArOiFfSpJeBaWgsDWaBTBCJ8gAgfgfvq5G2/aZRIvAJzUHIgXWL1SRXz9muvCwB1vYEW/gItA7SvFgECoVXZjYuIytafySp0Arj1+bDFAKRHjx5wc7O9v02jRo0wbdo0e/JXIZRmAGLpPCUJQEysyevTTRW8e0DFjlQJNx3QL1TBJKiIOy8xoLYpAMlbV6I86hta8gDEUS0gjlBcDGMqH+ptAiVzC0gxaQkh0LuWwLz9wIF0oKmfxO9nJR6JVCxWXIQQmBmlg05oQUiwOzC+seODkJ9OaS0f/UIFvu2pK7KPvbW8XAVGRQqMilSQkqk95V6YoKLnMSPqeQNjGigYHamgehVW1iqL4xkSnx5W8VWSivM3gBb+wJx22rihIAdPMlJSbjqBZv5As1taTK7lSBy+LHEgDdifJrE3TeK9AyrSbmqv+7kBLf21YMQUmDTyhVODKiKq3NaclmjmD8Tfst1ilbKo4ENKedunKa6urnZlsCLQl2IA4u+mzaTyYpRi7iLjrADknQ46xF2Q+PuCRGhVbTahah7A9gsSA2pr+2QatKfl5ZUjgiPT+2sog4mpb50Mu7j6gTkAuU2aWjmSt20x6VI9dyHEcyo8dArO3QC6Vi++4DzbUttvwlYVNaoK3FPbca1j28+rGLreiAFhWvDh4uA/uJAqAlOb6/B/zRRsOSfxWYKKWbtVzNypYmBtgQmNFfSsIfjk+A5kVCV+/Vfio0Mq1p2R8HEFRtZXEBupoJWFyTrKO08XgTZBwtx9EtD+T/97Hdh7SSL+kkR8msSa0yreO6C97qIAjX1hbiUxBSbskkhEjpaSqX3mTgsV1gUglowcORKbNm3CqVOnAADbtm3DjRs30KNHD0fmtVwrzUHoekVg5/3a23E+U6uNtg8u+T8Ea+tuvrlxo6+b9pS7ub/AwfS8WrEzWkDW9dHhusG+Yx0SgDhoELojFPe+2dwCcpsC664XiPTRWkA89BICQMdqxRccIQTe66DgzDWJURuN2HW/QD0HLGx48qrEwN+MaB0osDTG8cFHfkIIdAkR6BKi4P2OEkuPqvg0QcVda41o4qeNgXk4QhSYjpoqpktZEl8cUfHxYRUnrgJRgcDCrjo8VO/Oe3+F0Kb5DfUU5gdIAHA1W2JfbitJ/CWJ+EvAt8dV87i5ul5A6yCB6ECB1oECUYECvgxKiKgEFiep0CvA3bUUvHHLa1ZX21q2bFlgqtsOHTpg27ZtWLp0KYYPH+6ovJZrzuqCVa2KwKWRevg5YNYpWwMQr9yBjI39BNaeznvG7owApCTTuzoibz6598DbcePjrXZrLOHIAMSa3hbN/AUOpEu467QWMGsqHooQ+LK7Dq1XG/DAHwZsv1dfoq5S2UaJB9cb4eUC/HC3zq6xNPbycxOY2ESHCY0V/JUi8f4BFeM2GzHjH+A/DRVMbKygFmfQqnBOZEi8s1/F50dUGCXwYF2BpTEK2gVXvhYuL1eBTtUFOlXP22ZQtdm4dl+S2JUqsfOixKt7VPOA0QjvwkGJN9ctISIrZBsl5h9UMTTc8ueG1dW28PBwnD17Funp6fDz06Yd6tChA/bu3eu43JZzeqF1aSntAASAefB3SVlbpdcG+Ep45Va+m/gJzD8IZBkkXHXa7FLl+UmhhwOGIXSsJvBtDx0GhZf9dToyALGmRaepn8AfZ1V46rVZyqzl4yqwspcebX8w4I14FS9H2/9GPLdDxZ5LElvv0SHAQeXfVkIIdK8h0L2GguMZEh8eVLHgkIq5+1SMrC8wo4UOkTbcHyobuy9KzNlnxIrjEn6uwPQWCiY0Ln9jO8qaXhFo5Ac08hN4OELbZlS1Ae+7LmoByc5Uif+dUpGZ2zod6QO0DtSCkrbBWlBSnv83EFHZWHJU4sx1YHoLHW6eLPy61QHI5s2bsWbNGkyaNAkNGjRA165dUa9ePezevRvjx493YJbLr9IcA1JarH3I53vL0/9GvloF92gGUMdL21aeB6G7OSAAEUJgaL2yeXNvHQPiyADEmrFE9X0E0m5q038ODLOtJaplgMD0Fgpmx6sYWldBYz/b7+H28yre2a/i7XYK2gSVj9nW6noLvNNBh1nRCj5LUDF3v4qvkgwYEi7wXEsdFzgsh/5KUfHaHhV/nJUI9wI+6KAgtoHCCrINdPmCkhH1tW1GVVtMcedFbVHGnakS35/Uum/pBdAiQKB9cN5XPW/OvkVUmeWoEm/EG3FfbW09sd0nC+9jdZUyNDQUSUlJyMzMRFxcHDZu3IjPPvsMn376qQOzXL7Z0qWlrJkqtNZm1RRcmFpAaud2Nzl9TSI496lheQ5AKvo/u3GNFGxIkYjLXYvFMYPQte/WBCAhVbTvp64BNexY7+X5lgpWHlcxYasRG/rrbHo/clSJcVuMiAoUeLpp+Qg+8vNyFZjSXOue9WWitrhhi+8NGBAm8Eq0rkIOXr7TxJ1X8eJOFeuTJVoGAMt76DA43HHrdlR2OkWgiT/QxF/gkUhtm0GVOJCuPTzYfkHij7MqPjqkvRbghryApJo2UN7WabSJqOL65JCKoxnAyl5FPx22ukppMBhgNBpRpUoV9OrVC7169cKrr76Kt956C507d3ZIhss70yxQt3vyXJ5YWw80VVa9cv9JhFTRnsKfuS7NT7TLcwBS0YV6Cmy9Rw/xmdb5urh6kyk4uV05rJa7Grul7mn7B+uRnS8wqZFv+tmadkxF664XeKe9Dv1/NeK3fyV6h1qfxpeJEvvSgB33KdCV4wqju15gfGMdxjRUsOyYxGt7jIhabcDQugKvRrNrVln454KKl3ap+OVfbZrH73vpcF+dyje+oyzoFYGWAUDLAB3GN9a2pWVJ/JMqsf2C9jVvv4rLu7QHYY39tKCkYzUFXaoLRLCVhOiOlH5T4uXdKh5toM20VxSrq5T/+c9/MHfuXPTs2ROtW7eGlBKNGjVC69atHZLhiuDzrjp8k6RWiBVnTZ/rt3btKYqpe5m7zvS7QI0qwOlrMPf9ZQDiPMW1AwgrA5AxDRT4uwnE1ChcXm9dgTnYI+/nQHcrM3mLvqECHasJPLfTiLtrWVcJzDJIvLLbiAfrCrQuJ12vbkevCIysLzCsnsBXiRIv7zai8XcGxEYKvBSl42B1JzieITHjHyNWnpBo5Aus6Km1eHBBybLl7y7QJ1SgT6j2uyq18STbL0hsPy+x7YKKL44YIaE9IOlcXaBLdYHO1RS0CABbrIjuAC/tUnHTCLzWuvi+8VZXKX19fTF9+nSoqvbYVAiBV155BWFhYSXLaQVSvYrAMy1Kb+XnsmTqIp1/zYgwT4Ez1yQycxfGKO/9qEdECPx9oQI1TxWjuP/DprfodoPLdYrAkLrWvWee+T4JvOycBUwIgVeiFfRaa8SfyRI9a97+3J8fUZGcCcwqweD1sqJXBB5rKPBwhMDHh1W8vkfFkqMGPNtSwdTmCjzK+d9LRXQlW+L1PSreP6AiyAP4spsOIyJEuW45q8wUIdDQV5vYYnQkAOhwJVvrarr5nMSWcxLT/1Fx06jC0wXoGCzMQUm7YMG/IaIKZtt5FR8eVDG33e0X9rUYgNy8ebPIxQgVJa+GOnToUJuOpfLL1AKSPwAJrQqcvp6vBaSc1xG/iblzmmiKDUCsbAGxRf4KnFcJ+mr3qCHQxA/46JCKnjWLb9FQpTbd7QPhAg0qcPcld73A0810eKyBgtf2qHh1j4ovjqiY116H+9kdyCGMqrZg5Mxd2mxMz7dS8H/NlArRGk0F+bgK9A0V6JvbSpJl0Gbb2nJOC0rm7Vfx4i7tf1F0oED3EIEeNbQphMv7QzCiyuymUWLMJiNaBwk8acV4Tot7bN++HatWrbL55IcPH8arr75q83FU9syL1uX7fA+pInAuU5oDEI87p35f7hU3CF2XW6EtrbFI9raAAForyBONFfx4SuL0teIz+Nu/EkkZwOQmFaPr1e14uwq83U6HA4P1aOwnMPgPI3qtNSLx8p3RKldW9l6S6PSTEY9vVdE/VCBpqB4vRukYfNwh3PUCnasrmNFSh5/76HFppB57B+nxbnsFYZ7AF4kq7l5nhO9XBnT7yYCXdxmxKUXFzfKwYiwRmb0RryLxCrCwi86qVmmL//m7desGHx8fDBs2DOvWrbttIomJiZg8eTIWLVqEl19+2eZMk+PV9dLefHcrWy1MfW/zt4D4uQGXs/NaQKoyAHGa4p6al0YLSH4lCUAAYER9BVX0wDdJxU+/9WWiimb+t191vaKJ9BX4uY8eP/fW4eRViebfG/BmvBE5FWn2inLgeo7EtL+NiF5twNVsic0Ddfiyux41qt5Z5YUK0ikCzQO0hUG/7anHuYf1ODBYj3ntFAS4Ax8cVNFtjRF+Xxlw91oD3og34u8LKgz8+yIqMztStW7Iz7ZUrJ6ivsgqZa9evdCuXTvMnTsXU6dORUhICOrXrw8fHx/o9Xqkp6fj/Pnz2LdvH5o0aYJZs2ahefPmDrsYKplXWisYECZQzcoZjUwtH/mDVj9XIP0mcJ2D0MsV03tUWv9uSxqAeLoIDAgTWHlcxfOtLEfA13MkfjotMbOVcsd2UeoXpqB7DYGXdql4fqeKFcdVLOyqRxSn7b2tjckqYv8y4twN4JVobUyNa0WY/5wcTgjTFMA6TGqqdcfblwb8maziz2SJ2fEqntuhfW7F1BDoXUugdy0F9bxZXoic4Wq2xPA/jWgVKDAzyvoeDcVWKb28vDBr1izMmjUL+/fvx969e3Hx4kXcvHkT4eHhqFOnDjp27AgPD4/ikqEy4KJofWat37/wNj83gWwVuJQlIeCYxf6o5ExrdvSwMLuVI1jbalacIeEKBh8zIumKRH2fwvn86bTWte/BundG96uiVNELzGmnw4N1BR7bZETbHwyYFa1gRovyPeVwWckySDy/U8W7+1V0DRH4vZ8OERbKD1VeOkWgVSDQKlCH/2uurSO0K1VifbLE72clnoxTYZAq6nkDvWsp6F1LICZElGhsGxEVbfI2I1IygXV9dHCx4f+a1c+0mzVrhmbNmtmVOSr/TIPQ8xcdv9y5BJIztdaPO/VJdUUT7CGQ9agebqX0RNgR73OfUAF3HfDTKRVTmheOaNaeVtEyAAivJE8pWwcp2Hm/wKxdKmbuVPHrvxKLY3QI45S9ZnsvSTy8wYCkK8CcdgqebqZwWl26LRdFW+ywfTXg+VZARrbEhmSJX/+V+OWMigWHtAdsnarltY60CADLFpEDrDim4stEiS+62v6wqMSPH+Pj40uaBJUDpoKQ/zPZFICcvS7Z/aqcKY3g4+RDepwd7pg3uopeoEOwwMaUwh3FpJT4I1nirtvMknWncVEEXmujw8YBOpy6JtF8lQHfHbdimfpK4PMEFe1+NEAngJ336/F/zXWsIJJdvF0F7q2jYEFnHY495IKkodqAdk8X4LU9KqJWG1BziQFjNhnw40kV13M4doTIHkevSIzdbMSQcIHRkYE1390AACAASURBVLZ/XttV2zh79iyWLVuGpUuX4syZM0hNTbUnGSrnfHObrM9mcvxHZVDby7EVvpgaAvP2qzCqskB3o0PpQEom0MuKdULuRF1DFOwdJDBuixFD1hvxTKrE7DZKpVyELdMg8cRWIxYlSoxrqOC9DgrcOdUqOVCEj0CEjw4Tm2jThMadl/j5tMRPp1V8fsQId53WnXVgmMCAMIULiRJZ4YZB4oE/DAj2AD7rqrOr54TVjyDT09Px3//+F927d0ft2rXx7bffYuTIkTh48KDNJ6WKwdwFiy0gZIfuIQJXsoH4SwW3/5mswlXRVkGurHzdBJb30OGd9gre2a+i9zojUm9UriexJzIkOv5owPJjEl910+GTLjoGH1Sq3HQCMTUUzG2vw5GhLjgyRI/XWiu4bgCeiFMRusyAqO9z8NIuI3amqpCycv1NEllDSokJW41IvAKs6qWHj53jq4qtVmZlZeGHH37A0qVL8euvv6JOnTqoVasWEhISEBERYdcJqXwyfcwWGAPiqn0/mwk09HV2jqiiaxss4KoAcedVRAfljQP5J1WiZQAXFRNCW8CwVYDA0PVGtPnBgLV9tDVE7nTbz6u45zcjvF2B7ffqrZ62kciRIn0F/s9XG8yeliXxy79ay8j7B1S8shsI8wQG1VHwQLhAh2qC3QKJAHx+ROLLRO3BUUk+u4tsAZk/fz6CgoLw7LPPokmTJtixYweOHDmChx56yK5FCqliyP/56q7XBhJnGgB3ToFJNnLTaauix18q+BRx10WJaE5Fa9a9hoJd9+vh7Qp0+p8Bf6Xc2eNCvjuuIuZnIyJ9BIMPKjf83QWGRyhY1kOP1JF6/NFPhwFhCpYfU9H5JyNqLTVg4lYj/jzLNUeo8tp9UeKJOCPGNVQwKrJk4ziLPPp///sffv75Zxw/fhxvvPGGeY2PsWPHwtvbG7GxscjJySnRyan8885tBXGtXOOFyUFaBgjEp+X9s76WI5FwGWgdxEpnfqGeApsH6tE6SOCutUYsO3pnBiHv7tfGvdxfR+CPfjoEurMcUPnjogj0rKngo046nH1Yj80DdXiwroKfTqnoudaIkCUGjN1kwK9nVC4wSpXGxSyJwb8b0NRP4L0OJa8UFtkF6/PPP0dYWJjF1x5//HFIKdGzZ098//33CAwMLHFGqGwV9RHqkdtzhgEI2aNVgMCSoxIGVUKvCCRclpAAmvmXdc7KHx9XgZ976/CfzUY8vMGI6wZgTMM74w9PSonX9qh4cZeK6S0UzG7DKXapYlCEQOfqAp2rA++0V7DzosSqExLfnVCx8IgRQe7A0LoKhkdoM/9xunq6E+WoEkP/0P4v/XWXY8brFRmAFBV8mEyYMAFSSnTr1o0D0e8AprF2txYp06J0rlyEkOwQ6aMtZnnmGhDuDSRdydtOhbnqBL7opoOni4qxm43IUSUeb1yx//ik1BYXfCNexWutFTzfqmJfD1VeQgi0CRJoEwS80UbBnkvAsmMqlh1T8dEhoI4nMCxCwfB6Cpr68zOO7hxTt6vYfE5ifX/HrV9VormNJk6ciPvvv98hGaHyyRSAcBV0ske93IUGj12VCPcWSLwiEewBu2fNqAwUITC/owIXBZiwVUWOCkxuWjH/AKWUmPGPirf3qZjXTrG4KCVRRSSEQFQgEBWow1ttFWw+J7H0qMQnh7Vgu5k/MLyeghERnNqXKrZFR1R8cFDFgk4KuoY4rlW+xCnVqFHDEfmgMhZSRfteq2rBD0qP3GY2dsEie9T2AnQCOJahNbElXpGIrCSrn5eEEALvtFfw/+zdeXhTdd7+8fucpCulLUuBUmSRpeyCVRgUBQUdNzYFedwdFcTtETfcfiMqoiPu4zjjLqIjKOMMjAI+I7IIiqggoogIyA6FFrqwdCE55/dH2hqGQgrNSdLk/bourtAkLR8O4eTc+XyXu7ubun2Jpbd/qZtzQp783hc+nu9D+ED0Mg1D/TJNvXKGS7lXuPXvc13q0sDQo8sttZrm0XlzPPpgvaUyL/NFULcs3WVpzGKvRnU0NKZTcC8E2d0Bknwr8SwdIp36X5ODE5kDglqIMw21TJF+LfZ9vX6v1DEtvDXVFYZhaFIvU4Vltq7/3KtGCdJFrerOf8RXVnt1/zeWxp9s6vY62sEBjlW8y9CgVoYGtTJVXG7rg19tvfWLpZHzvGqQIF3R1tQfsk31bCTmiyCibd9va9inXp2SYegvpx3fZoNHU3fezeC4Xk3Mw15gSRURlTkgOF4n1je0Ya/vk7/cA7ay6vGmW1OGYehvfV0a3MrQiM+8+nJn3eiE/HuTpZsWW7q1s6nxJ/M2g9iUGm/oho6mvhjs1uoRbo3KNvWPDZZy/uVRj3969MKPXhWU0RVB5Cnz2rpkrlemIX040KV4B7Zi4J0BR/VbB4SLRhyfpknSrlLffIDcEqlZUrgrqlvcpqH3znLplMaGhn3q1ZZ9kX3BsnK3rcvn+ZbafeG0wz/UAGJRx3RDT/Z2acvlbn10rkvtUg3ds9RS1t89um6hR9/m1Y0PFxD9bNvWzYu9+m63rX+d41KzZGfO4QQQHBVDsFBbGUmGdpXYKiyXyrxSpkMns2iW6Db04TkuJbqkoZ96dMATmSEkr8TW4P941C5VmtLfxVK7wH9xm4YuamXqw3Pc2nKZW/+vp6nPtts6dYZXvWZ49NYaK2L/fyM2vPSTpTd/sfXaGS6dmuHcxV/An/zaa6+psLDQsQIQ2ZJYhhe11CRRyiuVcg/4vm6WHN566qomSYZmnuvW6gLpxkVe2XZkXaRYtq3L53tV4pX+/Xu36sURPoCjaZps6IGeLv060jdxvVGCdN3nvl3X71zirVq8AwiVBdstjV1i6Y6upq5q7+wnzwF/+i233KJmzZpp8ODBmjp1qkpKShwtCJGlctwfHRAcr4wkQ7tLpW0HfG+mzZK4MD1ePRoZev1Ml95dZ+udtZF1cfKnFZY+22brvbOCt048EAtcpm/S+pzz3Vo30q0bsk29vdZS+/c9uuRTj77ItSLuAwdEn837bI34zKv+mYYm9Xb+oi/gn5Cbm6sXX3xR+/bt01VXXaUmTZro8ssv10cffSSPx+N4gQivyqkfBBAcr4xEyZa0qqAigNABqZXL25m6pr2hm7/wam1RZFyUfJHr2+X8gR6mBmRxsgCOV9tUQ5N6u7T1crde7uvSqgJbfT/yqs+/vfpgvSWPFRn/5xFdSjy2hn3qUYpben+AS+4QzPsN+E7RsGFDjRo1SvPmzdOWLVv02GOPacOGDRoyZIiaNm2q0aNHO14kwqdy4YM4rilwnDISfberCmwluaQUhubU2ounuZSZLF02z7dbejjtLbd1xXyvftfE0MM5nCiAYEhyGxrdydRPI9z6+Pcu1XNLI+d51e59j577wau95QQRBIdt2xq9yKvVBdKMc91qlBia9+hjerfIzMzU7bffriVLlmjOnDlKTEzUG2+84VRtiACVIdjNdQWOU5OKIVfriqT0hDAXEyXqxxt672yXvttt65mV4V0954FvLOWVSu/0D82nZkAsMQ1DF7Y09dmFbn13sVv9Mg3d+7Wl1tM8enQ5y/ii9p7/0dK762y92c+lkxqF7hx+TJeVW7Zs0VNPPaWcnBydf/75Ki8vpwMS5SpfIA4sAY0Y0agidPy611ZqXHhriSanZpi6s5upR5ZbYRuKtTjX0l9+svT4qabasMM94KgejQy93d+t9SPdurKdqSdWWGo11aP7v/ZqVwlBBMfus22W7l5q6Z7upv6nbWg/aQ74p+3atUsvvfSS+vbtq9atW2vChAnq0qWLZs2apR07duhvf/tbKOpEmLgqXiF8sInjlVIROrYfkNLieSEF0yM5pponh2dVrIOWrVGLvOrTxNCtnWmRAqFyQoqhF05zaeP/uHVTJ1N/+clS66kejV3i1fb9BBHUzIZiWyM/82pgc0NPnBr6c7g70BOysrLkdrt1wQUX6P3339eFF16opCR2EosVdEBQW/EuQ/GmVG5JqfHhria6JLt9O6X/fo5XH26wNfzE0P1H/etPln4pkr4b5pKLTyiAkGua7Nvc8N6TTP15laUXfrT0ympLt3Uxde9JZsjG8qPuOVAx6TwtXpp6dnjO4QEDyGuvvaZhw4YpLS0tFPUgwlS+Jrm+CI0PBri0OcJ3uj4eKXHSnjIxBMsB57YwdeEJlsZ97dWgVoYSQvBpQX6prYeXWboh21T3EI4ZBnC4homGHs5x6Y5upp79wdKzP1h6ebWlu7ubuqOrqfp0nuHHtm1d/7lXa4ulr4a41TBMQTVgALn22mslSatWrdLixYu1Z88eNWzYUH379lWXLl2crg9hVnkt42JH45AYcWJ0DmWp5/YFkBQCiCOe6u1Stw89+ssqS3d1d37X0IeXWbJsacIp0fl6BeqitHhDj+S4dGtnU3/63tLjKyy9uMrSfSeZurmzqSQ37+OQnl5padp6Wx8McKlbw/C9JgIGkLKyMl155ZX68MMPJUkJCQkqKyuTJA0fPlzvvvuu4uMZVxGtDDogCILK4JHIWD5HdGpg6MZOpiZ8Z+n6bFPpCc4d5017bb2y2tJjp5hVK5wBiBwZSYae+Z1Ld3T1nRPu/doXRP7Uy6WRJxoy+EAxZn261dJ93/hCabg/8Az4pz/wwAOaPXu2XnnlFRUUFKikpEQFBQV65ZVXNHv2bN1///2hqBNhxnUjaqNy749E5z+cj1n/r6epMq/051XOLsv7+ApL6QnSrV3ofgCRrEWKoVfOcOmn4W6d1MjQZfO86vuRV1/vCu/S3QiPrftsXT7fN+n8sQjoXgesYNq0aXr88cc1atSoqnkgaWlpGjVqlCZOnKhp06Y5XiTCjw4IaqNeRa+VAOKczGRDozqaev5HS8UObVK2aa+tN9dYGtfdVD02lATqhA7phmae69ZnF7i076Ct3jO9unK+R1uicL4hqnfQsjVynleJLunvYZp0/t8CBpA9e/aoU6dO1T6WnZ2t3bt3B70oRB46IKiNuIozTQIBxFHjupvaf9C3QpUTnvnB1/24mWV3gTrn7CxTy4e59doZLs3dZiv7A4+eWOFVuZcgEu3u/9rS17t88z4aR8jqaAHfRbKzszVlypRqH/v73/+ujh07Br0oRI7KrQUiICyjDqsMIHRAnNUixdBV7Q395SdLB63gXlQUlvm6Hzd1ovsB1FUu09ANHU2tvdStmzqb+uO3lnr806OFOxiWFa1mbLT0zA+WJvU21adp5Hx4FHAS+kMPPaThw4dr48aNGj58uJo2bapdu3Zp+vTpWrJkiaZPnx6KOhFmdEBQG24CSMjc1sWlN9Z4NHNjcPcFeXONpXJLuonuB1Dn1Y/3TVS/pr2pMYu96v+xV1e3t/RUbxeLS0SRX4ttXbvQq4tbGxrbNbLO3QGrufjiizVjxgwdOHBAd911l6644grdeeedKikp0YwZM3TxxReHok6EGR0Q1AZDsELnpEaGzmhm6MUgTkb3WrZeXGVp5ImGMpM5GQDRonsjQ4sHu/TqGS59tNlWx+kevf2LJdtmWFZdV+qxNXyuR40TpTf7uSJu9bOAHRBJGjx4sAYPHqx9+/apsLBQ6enpSklJcbo2RBA6IKiNytcPy/CGxm1dTF36mVc/7LGDss77p9tsbdwnTWPlKyDqmIahUR0NDW1l6M6vvLp2oVfTfzX06hkuNa/HObuuuvMrSz8V+jYbTIvAzSiP6d0kJSVFLVq0IHzEIDogqI3KOY6JNfrIA7U1tLWhjERpytrgdEEm/2Kpc7rUK4MTARCtMpIMvXOWWzPPdWlZvq0u/6AbUlf9a4Olv6229EIfUz0aReZ5u0aXAx6PR0uXLtW2bdtUWlp62ONXX3110AtDZOGDa9SGt+I6OIEP0EMizjQ08kRT762z9KdTzVotuVhQZmvGJluPnWJGXAsfQPANbmWqb1NDty/5rRvy+pkuNWP4ZZ2wbb+tGxZ5Nay1odEdI/dNN2AAWb58uYYNG6YtW7Yc8TkEkOhV+bkHHRDURlUHhDkgIXNle0N/+UlasMPWgKzj/w/8wa+WDlrSle0i940MQHA1TPR1Q0acaGn0Iq+6f+jR2/1dOv8EzgORzLJtXb3At9/Ha2dE3rwPfwFfSTfddJPS09M1f/585ebmas+ePYf9QvQjgKA2GIIVer0yDLVNlf6+rnbDsP6xwdZZmQaffgIxaHArUysvcevUDEMXfOLVHUu8KmPfkIj19EpL87fbeqe/S40iZL+PIwl4ObBq1Sp98MEH6tevXyjqQYSpfPkyBAu14WEIVsgZhqEr2pl6/gdLL/e1FX8c/4l3l9qav93Wi6fxDwfEqiZJhj7+vUt/XmVp3FJLC3ZYmnq2Wx3TuTCIJN/mWXrwG0vjTjJ1dlbkn7MDVti+fXsVFxeHohZEIIZgIRjogITHsNamig9Kn+ce3yeW/95ky7J9PwdA7DIMQ7d3demrIW6VeKRT/uXR9F/ZvDBS7D9o6/J5Xp3UyNCjOXXjfB2wyueee05PPPGEVq9eHYp6AESh3+aAkGRD6aSGUot60sebjy+A/GujpdObMvwKgE/Pxoa+HebWoFaGLv3Mq3uWeuWxGJIVbvd/Y2nrfum9s1zH1e0Oh4CfR952223Kzc1V165dlZWVpfT0dNm2LcMwqm5XrlwZiloB1FGVAYQhWKFlGIYuamnqo02Wnvvdsa1iVe61NW+7rf/Xk380AL9JiTP03lku9cqwdM9SS8vybE0bwA7q4bJgu6UXV1l6vo+pDnVoWFzAAJKTk1MVNqoTyTPsETz8K6M2GIIVPoNaGnp5tfRzodSpQc2/b8kuW/s90rktCCAADmUYhu7o5lLPRoZGzvMq518effR7d8TuORGt9h209YeFXp3RzNBtdWyj2ICXA5MnTw5BGYhUNFYRDCzDGz79mxuKM6V52y11alDzf4D/bLXVOFHq0cjB4gDUaf2bm1o21NDQT73q+2+Ppp3t0kWt6taFcF02bqmlXaXS3AtdMutYQ4BXCQDHVa2CRQAJuWS3oV4ZhhbsOLaPE/6z1dY5WUade1MDEFotUgwtvMilc7IMDfnUqxd+9LJ7egjM3ebb7XxSL1NtU+veeTpgB+Tzzz8P+EPOPPPMoBQDIDp5K96M6ICER79MQ6+vsarm7QVSWGZrWb6tmzvzDwYgsHpxhj48x6V7v7Y0domltUXSC31MuVhC0xH7Dtq6/nOvzso0dFPnutlLCBhA+vfvf9THDcOQ1+sNVj2IUJxCUBuVQ7Di6+Z5ss7rl2no8RU1nwfy1S5btqS+zfifD6BmTMPQU71dap9q6OYvvNpVYuuds1xKqCOrMtUl45dZyiuR5tfBoVeVAgaQ5cuXH3ZfQUGB/vOf/+jDDz/Uyy+/7EhhAKLHa2e49OwPFotWhMlpTQ25DGnhjprNA/lyp62MRKldagiKAxBVRncy1TRJGjnPq8H/59U/z3GpXhzn/mD5Lt/W8z9aeuJUUyfWwaFXlQIGkB49elR7/1lnnaWkpCS9+uqrOvvss4NeGIDo0buJqfcH0P4Il5Q4Qyc3NvTFTltjOgd+/pc7bZ3W1CAwAjguQ1qbmnOeNPg/Xp0z26uPf+9Sw0TOJ7XltWyNXuRVlwbSHd3q9ntqrao/7bTTNGvWrGDVggjEPDIgOpyaYWhZfuD/0F7L1tI8W32acLEA4Pid1dzU/Atd+qXIVv9ZHuWVcEFRWy/9ZGlZvq1X+roUV8fn19QqgMycOVMNGzYMVi0AAIfkNDb0c6Fv8uLRrC2W9h30BRYAqI1TMkwtGuTWrhJpwGyP8ksJIcdr6z5bD35raUwnU32a1u3uh1SDIViDBg06rA1fVlamNWvWaPPmzZo0aZJjxQEAguOUxoZs+cYPn5F55HCxYrfvAuEkNhQDEASdGhiaf6Fb/Wd5NHCWR59d6FYjhmMdszu/8irFLT1+at0PH1INOiB79+7V3r17VVxcXPXLMAwNHDhQc+bM0d133x2KOhFmDAUH6rbODXzLIH8bYBjWd/m2TqgnLhAABE2nBobmXeDW9gPSObM92kMn5Jgs2G5p+gZbk3q7lJ4QHefmgB2QBQsWhKAMRKrKT0GbJ0fHCx6IVW7TULeGhlbuOfob/4rdtno25v87gODq0tDQZxe6dfYsjy74P68+u4DVsWrCa9m6fYlXvZsYuqJd9ByvGvVx8vLy9MADD2jgwIHq0qWLBg4cqAcffFB5eXlO14cw+5+2pjZf5lZ2evS86IFY1TldWl149Oes2GOrB8OvADigW0NDn5zn1qoCWyM+8+qgRSckkNfXWFq5R/pzH7PO7vlRnYABZOnSpWrfvr1eeuklpaWl6cwzz1RqaqpefPFFtWvXTl999VUo6kQYnZASPS94IJZ1Sjf0U4Et+wjL2+0utbWrROrCBw4AHJKTYeifA12au83W9Qu9slhu84gKymw9+I2la9ob6tUkOuZ+VAo4BOuWW25Rly5dNGfOHKWm/rYrVVFRkc4//3zdeuut+vbbbx0tEgBQe50bGNp7UNp+QMqqd/jjvxT5LgToeAJw0jktTE3pL102z6tmyZYm9Q68QWosenS5pTJLeqJX9B2fgAFk1apV+uCDDw4JH5KUlpam++67T5deeqljxQEAgqdTRbD4qcBWVr3DQ8YvRb5bdkAH4LT/aWsq94CtO76ylJ1m6PqO0fUJf22tL7b1l1WWHj3FVGYUzsMN+K/dtm1bFRZWP2i4qKhIbdu2DXpRAIDga1NfSnBJPxVWP+ThlyLfClhMDAUQCrd3NXVjR1M3feHVoh1WuMuJKA9961WTJN8xikYB/1ZPPfWUxo8ff9hqWPPnz9f48eP19NNPO1UbACCIXKah9qnS2qLqH19TZKtDGuEDQGgYhqEXTzd1elNDF8/1auNe5oNIvtUI31tv6+Ecl5Ld0XlODhhAxo0bp+LiYp199tlq2LChOnTooAYNGmjAgAEqLi7WuHHj1K1bN3Xr1k3du3cPRc0AgOPUKsXQpn1H7oAQQACEUpxp6B8DXUqNkwb9n0f7DhJC7v/aqw5p0h86RO/5OOAckJycHBmGccRVU/z9947pAIDI0rq+oc9zDx/qYNu21hVJ13UIQ1EAYlqjREMf/d6t3jM9GrPYq3f6u2L2mnLBdkufbLU1fYBLbjN6j0HAADJ58uQQlAEACIVWKdLGvb7A4f8Gn18qlXh9AQUAQq1zA0Ov9nXp8vle9cu0Napj7J2LbNvWA99YOqWxoUvaRPffPzpntgAAqtW6vm8p3sLyQ+/fvM9325J9fwCEyWXtTI3pZOq2L71asTv2hmLN3WZryS5bj51iRn0HiAACADGkdX3f7ca9h96/uWJeyAnV7A8CAKHy3O9MdU6XRsz1aG957IQQ27b16HJLp2YYOrdFdIcPqYYBZMqUKTr99NPVpEkT1a9fX/Xr11dqamrVLQCgbmhV0eH474nom/fbSnRJjRPDURUA+CS6DX0wwK0dB6Q7v/KGu5yQWbjD1uKdth7qGf3dD6kGAeTdd9/VqFGj1LVrV+Xn52vkyJEaPny44uLi1KRJE911112hqBMAEAQZiVKSS4ctd7l5n9QyhcVEAIRfuzRDz/Vx6fU1tj7eFBv7gzy63FLPRtKFLWPjHBwwgDzzzDP64x//qJdeekmSdPPNN+utt97Sxo0blZGRofr16zteJAAgOAzD0Akp0tb9h96/db+trCjcbRdA3XRDtqELTzB0wyKv8kujeyjWF7mW5u+w9ceesbP6V8AAsnbtWvXt21cul0sul0vFxcWSpPr16+u+++7Tn//8Z8eLBAAET9MkQztLDn1D31kiNUsOU0EA8F8Mw9DrZ7rksaQxi7012g6irnrsO0tdG0hDWsdG+JBqEEDS0tJ04MABGYah5s2ba9WqVVWPeb1e5efnO1ogACC4mib5Aoe/nSW2mibFzpsfgMjXLNnQ3/q69OEGW//aGJ0B5Mc9tj7Zauvek1wyY6T7IdVwI8KVK1fqggsu0JAhQ/TII4/IsizFxcXpT3/6k373u9+Fok4AQJA0TTK0pujQcdU7S6RmSWEqCACOYHgbQ4NbGbrtS68GZhlKjY+ui/TnfvAqq5506YnR9fcKJGAH5P7771fr1q0lSY888oj69OmjO+64QzfffLOaNm2qV155xekaAQBB9N8dkDKvrYIyqSlzQABEGMMw9OJpLhWVS//v2+iakL7zgK1319m6rbOpeFdsnX8DdkD69OmjPn36SJIaNGigmTNnqrS0VGVlZUpLS3O8QABAcDVNMpRfKnktWy7T0K6SyvvDWxcAVKdliqEJp5i66ytLV7U3dGpGdGxj99fVluJMaXSn6Pj7HIuAf+OXX365auJ5pcTERMIHANRRTZMky5bySn1fV05IZw4IgEh1WxdTPRpJNy22ZEXBhPQSj62//mTpumxTDRJi79wbMIDccccdyszM1FVXXaUFCxaEoCQAgJMqOx2VnY/KINKETQgBRCi3aejPp7m0LN/Wu2vrfgD5+zpbu0ul27vGXvdDqkEA2b59uyZNmqSffvpJZ599ttq1a6eJEydq27ZtoagPABBklZ+2FZb73sQLynz3NySAAIhgfZuZGtHG0P3feLX/YN0OIX9b7dUFJxhqmxp73Q+pBgGkQYMGuuWWW7Rs2TKtWLFCF110kZ5//nm1atVKF1xwgf7xj3/o4MGDoagVABAE6fG+28Jy321Bma0407dDOgBEsid7uZRfKj21su5OSP82z9LyfOmmzrHZ/ZBqEED8de/eXc8//7y+//57nX766frkk0906aWXKisrSw899JBKSkoC/xAAQFilJ/huKzsfheVSgwTFzA68AOquNqmGxnY1Nel7S1v31c0uyMurLbVMkc5rEbvn3BoHEMuyNHv2bF1yySVq06aN1qxZo3vuuUdffPGFxowZoxdffFFXXHGFLr3IBwAAIABJREFUk7UCAIIgwWUoyXXoEKzKrggARLoHe5qqF+fbQbyuKSyzNXW9rdEdTbnM2A0gAZfhXbdund58801NmTJFO3bs0DnnnKP33ntPQ4YMkdvt+/Y+ffrolFNO0ciRIx0vGABQew0S/DsgdkyuwgKgbkqNNzSuu6kHvrF070mm2tSheRTvrrNU7pWuy47d4VdSDQJIhw4dlJWVpeuuu07XX3+9WrVqVe3zsrOz2RUdAOqI9Hj/OSB0QADULbd0MfXMD5Ye+86rN/oFvJyNGK/9bGlwK0OZMb7xa8D4NXPmTG3atEmPPvroYeFjy5Yteu+99yT5Asj8+fOdqRIAEFQNEgwVlPmGYFXOAQGAuiLZbei+k0y9vdbWuqK6MRfk+922Vu6R/tAhtrsfUg0CyKBBg2Sa1T9t6dKluuqqq4JeFADAWYd2QGylx8f2p3EA6p4xnUw1TZImfOcNdyk1MmWtpYxE6fcncL6tdQSzo2A3SgCINf5zQArK6IAAqHsS3Ybu7m7qvXW2tkT4ilgey9bf11m6vJ2puBiefF6JHhAAxKD0eKNqFazCciktLswFAcBxuCHbtyLWCz9G9opYn26ztbNEuro9l94SAQQAYlK9OOmAx/f7fQelVCahA6iD6scburmzqVd+tlRYFrldkClrLXVpIPVsFO5KIkOtAgibVgFA3ZTs9gWQcq8tjy3Vc3M+B1A33dbFVLlXemV1ZHZB9pbbmrHR1lXtTK6dK1S7bln9+vVlGEbA+R1eb92Y9AMAOFSSSyrx+LofkpTCECwAdVRmsqGr2xt6YZWlO7tH3hyLjzfbKvVK/9OWgUeVqg0gd911V41/AEkOAOqeyg7IvophWPXqzjL6AHCY/+3q0utrPJqx0daIEyPr2nT6Bku9Mgy1qh9ZdYVTtW85Dz/8cIjLAACEUpLbULklFVcsxUsHBEBd1q2hodObGnp5taURJ0ZOp2HfQVtztth6NCdyaooEHA0AiEHJFR8/5ZX6htqmxPHJHIC6bUwnU/O221pTGDmT0WdVDL8a3oZLbn8cDQCIQVUBpMR3yxAsAHXd8DaGGiVE1mT06RssndLYUJtUPuTxRwABgBiU5PLd7q5YtjKZAAKgjkt0G7ou29TktZZKPOHvghzw2Jq92dbwNoSP/0YAAYAYVBk49lTshp7oCl8tABAsozuaKiiT/rUx/AFk/nZbJV5paGsut/8bRwQAYlByxb4fVQGEDgiAKNAuzTcZ/Z214R+G9fFmW+1SpQ5p4a4k8tQ4gMyZM0ePPvqoRo8erc2bN0uSFi5cqO3btztWHADAGUlVHRDfp4R0QABEi6vaG/rPNlu5B8LXBbFtWx9vtnRhSzYfrE7AAJKXl6fTTjtNF110kd5880298cYbys/PlyS99dZbmjhxouNFAgCCq3IIVkGZFG9KJm+QAKLEpSeachvStPXh64Ks3CNt3S9d1JJza3UCBpCxY8cqPz9fP/74o9atW3fI7ugDBw7U3LlzHS0QABB8lQFkdyndDwDRpUGCoYtaGnpnXfgCyMebLaXESWc2I4BUJ2AAmTVrlh577DF16tTpsMdatGihrVu3OlIYAMA5latg7Smzmf8BIOpc2c7U8nxpdUF4hmHN2mzr9y0MxbsIINUJGEA8Ho9SUlKqfaygoEDx8fFBLwoA4KzKOSAF5b+FEQCIFuefYKh+nPThhtB3QfaU2vpql60LTmCtpyMJeGR69eqlN954o9rH3n//fZ1++ulBLwoA4CzTMJTo8q2CxRAsANEm0W3oghMM/WtT6APIgh22bEkDs+h+HEnAADJx4kR9/PHHOuOMM/TSSy9JkmbMmKHhw4dr5syZeuSRR4JSSFlZmYYOHars7Gz16NFD5557rtavX1/tczdu3CiXy6WePXtW/dqwYUNQ6gCAWJHklsq8BBAA0eni1r5hWBv3hnYY1mfbfcvvtkwhgBxJwADSp08fLViwQKZp6u6775bkCyW5ubmaN2+ecnJyglbMmDFjtGbNGq1YsUJDhgzRDTfccMTnpqam6rvvvqv61aZNm6DVAQCxIKHiHYAxygCi0fknGEpwSf/aGNouyGfbLA1ozvCro6nR0enTp48WLlyooqIibdmyRcXFxVq8eLH69OkTtEISEhJ03nnnVX3du3dvbdy4MWg/HwBwqDjz0FsAiCb14w2dm2XonxtC1wHZtt/WmiJpAMOvjuqY3naSk5OVlZWlevXqOVVPlRdeeEFDhw494uP79+/XKaecopycHE2YMEGWFf4dLwGgLiGAAIh2w1qb+mJn6DYlnLfd9+f0zySAHE21iy9OmTLlmH7I1VdfHZRiKj3++OP69ddf9dprr1X7ePPmzbV9+3Y1btxYBQUFGjlypJ555hndc889Qa0DAKIZAQRAtKvcCPD/ttq6poPzoeCzbZZOaihlJBFAjqbaAHLttdce0w853gDyzjvv6Nlnn5Xk2/Dwmmuu0dNPP60ZM2Zo7ty5SkxMrPb74uPj1bhxY0lSgwYNdN111+m99947agAZO3as0tPTD7nvsssu02WXXXZctQNAXUcAARDtMpIM5TQ29MlWS9d0cPZkZ9u25m23NeLE2D2pTp06VVOnTj3kvsLCwsOeV20A2bNnT9Xv161bpxEjRujqq6/WJZdcoqZNm2rnzp36xz/+oXfffVfvv//+cRd51VVX6aqrrqr6+tlnn9W0adM0d+5cpaamHvH78vLylJ6erri4OJWVlenDDz/UySeffNQ/6/nnnw/4HACIJe6K90g3H9QBiGLnnWDorz9Z8lq2XKZzJ7zN+6Qt+6V+MTz8qroP95cvX37YolXVBhD/TsF9992n0aNH6/7776+6r2nTpurevbsSExN17733at68ebUueOvWrbr77rvVtm1bnXXWWZKkxMRELVmyRJI0fvx4NW/eXDfeeKMWLVqk8ePHy+VyyePxaMCAAXrwwQdrXQMAxJI405Bk0wEBENXOa2Hose+kb/Nt9W7iXDj4cqdv/kcfB/+MaFFtAPG3ZMkS3XvvvdU+lpOTo8ceeywohbRo0eKoE8n99xu5+OKLdfHFFwflzwWAWMUQLACxoHcTQ2nx0idbbPVu4tyf88VOWx3SmP9REwHfdjIyMjRt2rRqH3v//feVkZER9KIAAM4jgACIBW7T0DlZhj7Z6uxKWF/utHRaU8JHTQTsgDz44IO68cYbtX79eg0bNkxNmjTRrl279M9//lOLFi3Syy+/HIo6AQBBRgABECsGNDd065eW9h20lRIX/JCwt9zW93ukmztzQq2JgAFk1KhRyszM1GOPPaZ77rlHHo9HbrdbJ598smbOnKlBgwaFok4AQJD9FkD4xA5AdOuXacprW/pyp61zWwT/nLc0z5Zliw5IDQUMIJJ00UUX6aKLLpLX61VeXp4yMjLkcrmcrg0A4KDK1a/cfGAHIMp1TJeaJEkLd9g6t0Xwf/6XO201SPD9OQisRgGkksvlUrNmzZyqBQAQQgzBAhArDMPQmc0MLdzhzDyQr3fZ6pVhyDTogNQEbzsAEKMIIABiSb9MQ1/n2TrgCX4IWZZvK6cx4aOmeNsBgBhFAAEQS/plmjpoSV/tDG4A2b7fVm6JCCDHgLcdAIhRBBAAsaRLA6lhgrQoN7gBZHm+7+cRQGqOtx0AiFGVk8/dvGcCiAGmYahXhm8YVjAty7fVMEFqmRLUHxvVjiuA7N+/X+vWrZNtO7uhCwDAOVnJvuTRPJkEAiA29GriCyDBvIatnP9hMAG9xgIGkKeeekqPPPJI1deLFi1SVlaWOnTooHbt2mn9+vWOFggAcMaDPU0VXePWH7J50wQQG3plGMovlTbuDd7PZAL6sQsYQN544w1lZWVVfX3nnXeqa9eumjlzpho3bqz777/f0QIBAM5wm4ZS41k2EkDsODXDd74L1jCs3AO2th9g/sexCrgPyJYtW9S+fXtJ0tatW7Vs2TItWLBAZ555prxer8aMGeN4kQAAAEBtNUky1DrFF0BGtq39z1ux2xdkehJAjknADkhSUpKKiookSfPmzVO9evV0+umnS5LS0tKqHgMAAAAiXa8mhr7eFZwOyI8FtpLdUpv6QflxMSNgB6RXr1568skn5XK59NRTT+n888+Xy+WSJP3666+HDM8CAAAAIlmvDEN/3GTJY9lym7XrXKwqsNWlAUNZj1WNJqHv2LFDgwYN0r59+zRx4sSqx6ZNm6bTTjvN0QIBAACAYDklw1CJV/q5sPY/68c9UtcGtf85sSZgB6RLly769ddflZ+fr8aNGx/y2LPPPqtmzZo5VhwAAAAQTN0b+roVK/fY6trw+DsXlm1rVYGty9qyrd6xqvER+/bbbzVhwgSNHj1amzdvliTt2bNHBw8edKw4AAAAIJgaJBg6oZ4vgNTGhr1SiVe1CjGxKmAHJC8vT0OGDNHSpUvVokULbd26VWPGjFHLli311ltvqV69enrppZdCUSsAAABQayc1MmodQFYV+L6/SwMCyLEK2AEZO3as8vPz9eOPP2r9+vWH7Bw5cOBAzZ0719ECAQAAgGDq3tDQ97trF0B+3GMrPV5qnhykomJIwA7IrFmz9Oqrr6pTp07yeDyHPFbZEQEAAADqiu4NDW0/IOWX2mqceHwdjJ8LbXVKN2SwAtYxC9gB8Xg8SklJqfaxgoICxcfHB70oAAAAwCknNfKFhh9qMQxrbbHUPi1YFcWWgAGkV69eeuONN6p97P3336/alBAAAACoC9qlSgmu2k1E/6XIVoc0uh/HI+AQrIkTJ6p///4644wzNHz4cEnSjBkz9Pjjj2vWrFlavHix40UCAAAAweI2DbVPldYc514gu0tt7SmT2qcSQI5HwA5Inz59tGDBApmmqbvvvluSL5Tk5uZq3rx5ysnJcbxIAAAAIJiy0w2tKTq+Dsjaiu9rTwfkuATsgEi+ELJw4UIdOHBABQUFSk9PV7169ZyuDQAAAHBExzRDk9dax/W9a4t9t8wBOT4BOyDXXXedNmzYIElKTk5WVlZWVfjYtGmTrrvuOmcrBAAAAIIsO93Qtv3S3vJj74KsLbKVmSylxNEBOR4BA8jkyZOVl5dX7WN5eXmaPHlysGsCAAAAHJVd0b34pejYv5cJ6LUTMIAczbp169SoUaNg1QIAAACERHa6L0AczzyQtcW22qcGu6LYUe0ckL/97W/661//WvX1FVdcocTExEOeU1paqo0bN2rEiBHOVggAAAAEWVq8oaZJxxdAfi2WhrehA3K8qg0gmZmZVatbrVq1StnZ2WrcuPEhz4mPj1fnzp11/fXXO18lAAAAEGTZaYZ+Ljy2AFJcbquwXGqVQgA5XtUGkKFDh2ro0KFVXz/00EM68cQTQ1YUAAAA4LT2adKK3cf2PZv2+W5bpQS/nlgRcBleJpkDAAAgGrVOMTRj47Etxbtpr69jQgfk+NVoHxCPx6OlS5dq27ZtKi0tPezxq6++OuiFAQAAAE5qk2pod5lvKd768TULFJv22XIbUmayw8VFsYABZPny5Ro2bJi2bNlyxOcQQAAAAFDXtK4YRrVpn9S1Yc2+Z9M+6YQUyWXSATleAQPITTfdpPT0dE2ZMkWdOnVSfHx8KOoCAAAAHNW6vi9EbNhrq2vDmndAGH5VOwEDyKpVq/TBBx+oX79+oagHAAAACInMZCnelDburflKWJv2SR3THCwqBgTciLB9+/YqLi4ORS0AAABAyJiGoVYp0sZ9Nf+eTXtttapPB6Q2AgaQ5557Tk888YRWr14dinoAAACAkGld36hxB6TUYyu3hBWwaivgEKzbbrtNubm56tq1q7KyspSeni7btmUYRtXtypUrQ1ErAAAAEFSt60vL8msWQLbs992yB0jtBAwgOTk5VWGjOoZBAgQAAEDd1DrF0D821CyAbNvve16Lelz/1gYbEQIAACBmta5vqKBMKi63lRpgL5AdB3y3zdkDpFYCzgGp9Mknn2jChAkaPXq0Nm/eLElauHChtm/f7lhxAAAAgJOy6vlutx8I/NwdB2zVc6vGmxaiegE7IHl5eRoyZIiWLl2qE044QZs3b9aYMWPUsmVLvfXWW6pXr55eeumlUNQKAAAABFVWsi9MbN9vq2P60YPF9gPsgB4MATsgY8eOVX5+vn788UetW7fukMcGDhyouXPnOlYcAAAA4KTKQFHTDkjzZLoftRWwAzJr1iy9+uqr6tSpkzwezyGPtWjRQlu3bnWsOAAAAMBJ9eIMpcVL2w8Enoi+gw5IUATsgHg8HqWkVL/WWEFBgeLj44NeFAAAABAqzZNr1gHZTgckKAIGkF69eumNN96o9rH3339fp59+etCLAgAAAEKlebKh7fvpgIRKwCFYEydOVP/+/XXGGWdo+PDhkqQZM2bo8ccf16xZs7R48WLHiwQAAACcklVPWl989OfsP2ir+KDUnD1Aai1gB6RPnz5asGCBTNPU3XffLckXSnJzczVv3jzl5OQ4XiQAAADglObJRtUmg0eSW+K7zUwKQUFRLmAHRPKFkIULF+rAgQMqKChQenq66tWr53RtAAAAgOMq54DYti3DqL7DsavEF1CaJNEBqa0aBZBKycnJSk5m4BsAAACiR7NkQ+WWVFguNUio/jl5pb7bxomhqyta1SiAeDweLV26VNu2bVNpaelhj1999dVBLwwAAAAIhYyKUJFXcuQAkl9xCdyIAFJrAQPI8uXLNWzYMG3ZsuWIzyGAAAAAoK6qHFaVV2qrg6ofYpVXYqtBghRnMgSrtgIGkJtuuknp6emaMmWKOnXqxL4fAAAAiCpVHZDDB/pUyS+TGh+hO4JjEzCArFq1Sh988IH69esXinoAAACAkGqYIBk6egDJK7GVwQT0oAi4DG/79u1VXBxgYWQAAACgjnKZhhol/rbSVXXyS5mAHiwBA8hzzz2nJ554QqtXrw5FPQAAAEDIZSQG6ICU/jZUC7UTcAjWbbfdptzcXHXt2lVZWVlKT0+vWiO58nblypWhqBUAAABwREaiobyjdEDySm01Tgz42T1qIGAAycnJqQob1TnSZi0AAABAXZGRFGASOh2QoAkYQCZPnhyCMgAAAIDwyUg0tL7YqvaxMq+tvQelxol88B4MNd4JfdWqVVq8eLH27Nmjhg0bqm/fvurSpYuTtQEAAAAhcbQ5IJWbENIBCY6AAaSsrExXXnmlPvzwQ0lSQkKCysrKJEnDhw/Xu+++y94gAAAAqNMyEn07oVfOcfa3x3fpq4bsAxIUAWfSPPDAA5o9e7ZeeeUVFRQUqKSkRAUFBXrllVc0e/Zs3X///aGoEwAAAHBM40RD5Za033P4Y4VlvrnQ6QkMwQqGgAFk2rRpevzxxzVq1CilpaVJktLS0jRq1ChNnDhR06ZNc7xIAAAAwEnpFd2NovLDH6u8L41BP0ERMIDs2bNHnTp1qvax7Oxs7d69O+hFAQAAAKGUXhEuCssOf6yw/NDnoHYCBpDs7GxNmTKl2sf+/ve/q2PHjkEvCgAAAAiltHjf8KrC8sO3nigqtxVvSomuUFcVnQJOQn/ooYc0fPhwbdy4UcOHD1fTpk21a9cuTZ8+XUuWLNH06dNDUScAAADgmKoOSDVDsArLfcOv2P8uOAIGkIsvvlgzZszQww8/rLvuuqtqZYAePXpoxowZGjRoUCjqBAAAABxTOQfkSAGE4VfBU6N9QAYPHqzBgwdr3759KiwsVHp6ulJSUpyuDQAAAAiJJJcUZ/624pW/onK7aogWaq/GGxFKUkpKCsEDAAAAUccwDKXHV78KVmHZbx0S1F6NAkheXp6ee+45LV26VDt27FDz5s3Vu3dvjR07VhkZGU7XCAAAADguPb76IVhF5SzBG0wBV8FaunSp2rdvr5deeknp6enq16+fUlNT9eKLL6pdu3b66quvQlEnAAAA4Kj0BKPaVbCYAxJcATsgt9xyi7p06aI5c+YoNTW16v6ioiKdf/75uvXWW/Xtt986WiQAAADgtPT46vcBKSq3lR4f8HN71FDAI7lq1Srdd999h4QPybcb+n333acff/zRseIAAACAUDnSEKxChmAFVcAA0rZtWxUWFlb7WFFRkdq2bRv0ogAAAIBQSzvKHBCGYAVPwADy1FNPafz48VqwYMEh98+fP1/jx4/X008/7VRtAAAAQMikJxiHLcNb6rFV6hXL8AZRwDkg48aNU3Fxsc4++2ylp6ercePGysvLU1FRkRo2bKhx48Zp3LhxknzLl61cudLxogEAAIBgq24IVuWyvCzDGzwBA0hOTo4Mw5BtH74iwH9je3oAAADUVZUBxLbtquva4oO+x1LjwlhYlAkYQCZPnhyCMgAAAIDwSo03dNCSyi0pweW7b7/Hd5tCAAmagHNAcnNzj/r48uXLg1YMAAAAEC4pFR/N7zv42337DvpGAaXEMdInWAIGkK5du2r69OmH3e/1evXII4+oT58+jhQGAAAAhFK9ii7HoQGk4rGA44ZQUwEDyPDhwzVy5EhdeeWVKioqkiT9/PPP6tOnj5588klNmjTJ8SIBAAAAp1UOs6ocduX/e4ZgBU/AAPLyyy9r1qxZmjdvnrp166b77rtPJ598siTf8Kvbb7/d8SIBAAAAp6W4fcOsKodd+X7vu6UDEjw12lP+/PPP1+zZs7Vr1y5NmjRJnTt31hdffKGOHTs6XR8AAAAQEtUNwdrvsRVnSvEu5oAES40CyLvvvquzzjpLJ554ou6991798MMPGjhwoDZs2OB0fQAAAEBIVE1C9xuCte8g3Y9gCxhARowYoWuuuUbXXHONli9frieeeELffPONCgsLddJJJ+m1114LRZ0AAACAo6rmgBzSAWH+R7AFDCBff/215s6dq+eff16JiYmSpO7du+ubb77RTTfdpJtuusnxIgEAAACnJdEBCYmAh/OHH35QamrqYffHx8frySef1NChQx0pDAAAAAgl0zBUz334JHT2AAmuajsgkyZN0o4dOySpKnx8+eWX2r9//yHP27Bhg9566y2HSwQAAABCIyXu8EnodECCq9oAct9992nLli1VX3s8HvXt21dr1qw55Hk7d+7U66+/7myFAAAAQIikxB26D4ivAxK+eqJRjVbBAgAAAGKBbwjWb1/v9zAHJNgIIAAAAECFlDjjsDkg9eiABBUBBAAAAKhQz33oEKwSj61kN5PQg6lGAcQwqj/oR7ofAAAAqIuS3FKp97evS71Soit89USjI45oO+uss2Sah+aTM84445D7LMtyrjIAAAAgxBJd0u7S374u9UpJBJCgqjaAPPTQQzX+AXRBAAAAEC0SXXRAnFZtAHn44YdDXAYAAAAQfokuQ6Xe3yahl3ikRFbBCiomoQMAAAAVfHNAfgsgdECCjwACAAAAVEh0+boekmTZtsotX1cEwUMAAQAAACr4zwEpq7hNYghWUBFAAAAAgAr+AaTyliFYwUUAAQAAACr47wNSORSLABJcBBAAAACgQuUcENu26YA4hAACAAAAVEh0GbIlHbQYguUUAggAAABQoXLX81LvbwEkyc0qWMFEAAEAAAAqVG46WOL5bT8QOiDBRQABAAAAKiT6dUCYhO4MAggAAABQIbGaIVgEkOAigAAAAAAVKjcdJIA4hwACAAAAVEh0+Sacl3hsv0noYSwoChFAAAAAgAqHDMGqmAOSQAckqAggAAAAQAX/ZXhLvLbiTck0WIY3mAggAAAAQAX/ZXjLvHQ/nEAAAQAAACrEVVwdH7SkckuK52o56DikAAAAQIWqAGJL5V4png5I0BFAAAAAgAr+HZCDdEAcEVGHtHXr1urYsaN69uypnj17avr06Ud87scff6xOnTqpQ4cOuuSSS7R3794QVgoAAIBo5K6Yb84QLOdE1CE1DEMffPCBvvvuO3333XcaMWJEtc/bt2+fbrjhBs2cOVO//PKLmjdvrgkTJoS4WgAAAEQbwzDkMiSPZfsCCEOwgi6iAogk2bYd8Dlz5szRySefrA4dOkiSbr75Zk2dOtXp0gAAABAD4syKDoj3tyFZCJ6IO6RXXXWVunfvrhtuuEH5+fnVPmfz5s1q2bJl1detWrXSjh07ZFlWqMoEAABAlKoKIJateJM9QIItogLIokWLtHLlSi1fvlyNGzfWNddcU+3zDDaDAQAAgEMqAwiT0J3hDucf/s477+jZZ5+VJI0dO7YqcLjdbt1+++3Kzs6u9vtatmypTz/9tOrrjRs3KjMzU6Z55FfI2LFjlZ6efsh9l112mS677LLa/jUAAAAQRX7rgDAH5FhMnTr1sGkRhYWFhz3PsGsy6SIEDhw4oPLy8qqQ8Oyzz+rf//63FixYcNhz9+7dq3bt2unzzz9Xdna2br31ViUnJ2vSpEmHPXf58uXKycnRsmXLdPLJJzv91wAAAEAdd8J7B/WHDqZWFdg64JHmnB/Wz+zrtOquxSPmaObm5mr48OHyer2ybVtt27bVlClTqh4fP368mjdvrhtvvFH169fX66+/rqFDh8rj8ahbt256++23w1g9AAAAokWcKXlsXweESejBFzEB5MQTT9Ty5cuP+PgjjzxyyNeDBg3SoEGDnC4LAAAAMcZ/DkhKXLiriT5kOgAAAMCP2/htGV4moQcfhxQAAADw4z8JnSFYwcchBQAAAPzEmYYOWrYOEkAcwSEFAAAA/MSZkseSPLYtN/vPBR0BBAAAAPBTOQTLQwfEERxSAAAAwI9/AHFztRx0HFIAAADAT1UAsQkgTuCQAgAAAH7c/h0QpoAEHQEEAAAA8EMHxFkcUgAAAMBPnOkLH3RAnEEAAQAAAPz4d0BYBSv4OKQAAACAH1bBchaHFAAAAPBTGUAOMgTLEQQQAAAAwE+caeigZdMBcQiHFAAAAPDjNlgFy0kcUgAAAMBPnOmb/+FbBYsxWMFGAAEAAAD8xJlSmVeyxSpYTuCQAgAAAH7iTKnE6/s9Q7CCj0OoW4MfAAAIJUlEQVQKAAAA+IkzpRKP7/esghV8BBAAAADADx0QZ3FIAQAAAD+V+4BIdECcQAABAAAA/Ph3PeiABB+HFAAAAPDjv/KViw5I0BFAAAAAAD/+oYMAEnwEEAAAAMCP6bf5oIur5aDjkAIAAAB+/LseXCwHH8cUAAAA8GP6D8HiajnoOKQAAACAH/MIv0dwcEwBAAAAP/5dD5NJ6EFHAAEAAAD8+F8gswpW8BFAAAAAAD+HTEIngAQdAQQAAADwc8gkdIMEEmwEEAAAAMAPHRBnEUAAAAAAPyYBxFEEEAAAAMDPoUOwwldHtCKAAAAAAH4YguUsAggAAADghw6IswggAAAAgB86IM4igAAAAAB+mITuLAIIAAAA4IchWM4igAAAAAB+GILlLAIIAAAA4IcOiLMIIAAAAIAfOiDOIoAAAAAAfg6ZhB6+MqIWxxQAAADw498BcXG1HHQcUgAAAMCPafyWQLhYDj6OKQAAAODHpAPiKA4pAAAA4MfFHBBHcUwBAAAAP/4XyKyCFXwEEAAAAMCP/7Ar9gEJPgIIAAAA4IcOiLMIIAAAAIAfdkJ3FgEEAAAA8MNO6M4igAAAAAB+/EOHYZBAgo0AAgAAAPhh2JWzCCAAAACAH4ZdOYsAAgAAAPghgDiLAAIAAAD4SY/33fbKIIk4wR3uAgAAAIBIkug2ZI+KC3cZUYsOCAAAAICQIYAAAAAACBkCCAAAAICQIYAAAAAACBkCCAAAAICQIYAAAAAACBkCCAAAAICQIYAAITZ16tRwlwBU4fWISMNrEpGE16MzCCBAiHEyQyTh9YhIw2sSkYTXozMIIAAAAABChgACAAAAIGQIIAAAAABCxh3uAkJl9erV4S4BkCQVFhZq+fLl4S4DkMTrEZGH1yQiCa/H2qvuGtywbdsOQy0hs2PHDp199tn6+eefw10KAAAAEHP69eunqVOnKjMzU1IMBBDJF0J27NgR7jIAAACAmJOZmVkVPqQYCSAAAAAAIgOT0AEAAACEDAEEAAAAQMhETQApKyvT0KFDlZ2drR49eujcc8/V+vXrj/j8jz/+WJ06dVKHDh10ySWXaO/evSGsFrHgf//3f9WmTRuZpqmVK1ce8XkbN26Uy+VSz549q35t2LAhhJUiFtT09ShxfkRorF27Vqeddpqys7PVq1cv/fTTT9U+j3MknFbT1yLnxuCJmgAiSWPGjNGaNWu0YsUKDRkyRDfccEO1z9u3b59uuOEGzZw5U7/88ouaN2+uCRMmhLhaRLtLL71UixcvVqtWrQI+NzU1Vd99913VrzZt2oSgQsSSmr4eOT8iVG688caq9+17771X11577RGfyzkSTqrJa5FzY3BFTQBJSEjQeeedV/V17969tXHjxmqfO2fOHJ188snq0KGDJOnmm2/W1KlTQ1EmYkjfvn2VlZUV7jIASTV/PXJ+RCjs2rVLy5Yt05VXXilJuvjii7Vlyxb9+uuvYa4Msaamr0XOjcEVNQHkv73wwgsaOnRotY9t3rxZLVu2rPq6VatW2rFjhyzLClV5wCH279+vU045RTk5OZowYQKvRYQN50eEwpYtW5SZmSnT9F2GGIahli1bavPmzdU+n3MknFLT1yLnxuCKygDy+OOP69dff9UTTzxR7eOGYYS4IuDImjdvru3bt+vbb7/V3LlztWjRIj3zzDPhLgsxivMjIg3nSEQCzo3BVacDyDvvvFM1Ie3tt9+WJD399NOaMWOG5syZo8TExGq/r2XLltq0aVPV1xs3bjwk/QLHw//1OHny5Bp/X3x8vBo3bixJatCgga677jotWrTIoSoRK4739cj5EU7xf01+9tln2rFjh7xeryTJtu3DPmGuxDkSTjrhhBMO6WQc6bXIuTHI7CjyzDPP2Dk5OXZBQcFRn1dcXGw3adLE/vnnn23btu1bbrnFvueee0JRImJQ69at7RUrVhzx8V27dtnl5eW2bdt2aWmpPXz4cHv8+PEhqg6xJtDrkfMjQqV///725MmTbdu27enTp9unnnpqtc/jHAmn1eS1yLkxuKJmJ/StW7eqZcuWatu2rVJSUiRJiYmJWrJkiSRp/Pjxat68uW688UZJ0kcffaRx48bJ4/GoW7duevvtt1W/fv2w1Y/oc+ONN2r27NnauXOnGjZsqNTUVP3yyy+SDn09/vOf/9T48ePlcrnk8Xg0YMAAPf3004qLiwvz3wDRpKavR4nzI0Ljl19+0bXXXqvdu3crLS1Nb731lrp06SKJcyRC60ivRc6NzomaAAIAAAAg8jFwDQAAAEDIEEAAAAAAhAwBBAAAAEDIEEAAAAAAhAwBBAAAAEDIEEAAAAAAhAwBBAAAAEDIEEAAAAAAhAwBBAAAAEDIEEAAAAAAhAwBBAAAAEDIEEAAAAAAhAwBBAAAAEDIuMNdAAAAR/L999/rrbfeUvv27ZWbm6srrrhCHTt2DHdZAIBaIIAAACLSkiVLNHr0aH3xxRdKTU1Vq1at1LRpUwIIANRxhm3bdriLAADAn2VZys7O1sMPP6wrrrhCkvTVV1+pZ8+eSkhICHN1AIDaIIAAACLO4sWLNWDAABUWFiopKSnc5QAAgohJ6ACAiLN161a1bdv2sPDBZ2YAUPcRQAAAEScnJ0clJSWH3PfJJ59o9uzZYaoIABAsDMECAESkN998U2vWrFHbtm1VUlKiHj16qF+/fuEuCwBQSwQQAAAAACHDECwAAAAAIUMAAQD8//brWAAAAABgkL/1LHaVRQCwERAAAGAjIAAAwEZAAACAjYAAAACbAMXIr7rR2rOrAAAAAElFTkSuQmCC\" />"
      ]
     },
     "execution_count": 153,
     "metadata": {},
     "output_type": "execute_result"
    }
   ],
   "source": [
    "plot(c_rango, liap_exponentes, ylim=(-6.5, 2), size=(800, 500), xlabel=(L\"$c$\"), \n",
    "    ylabel = (L\"Exponentes de Lyapunov $\\lambda(x)$\"),\n",
    "    title=(L\"Exponentes de Lyapunov para $f(x) = \\ x^2 + c$\"))\n",
    "\n",
    "plot!(c_rango, zeros(length(liap_exponentes)))"
   ]
  },
  {
   "cell_type": "markdown",
   "metadata": {},
   "source": [
    "**Respuesta**\n",
    "\n",
    "> Observamos que para valores de c donde hay bifurcaciones se alcanza el valor 0. Esto se debe a que las derivadas se van acercando a cero justo antes de darse el punto de bifurcación, y ahi justo se ve un 'pico', en esencia las dos derivadas correspondientes a la bifurcación.\n",
    "\n",
    "> Sin embargo, en los ciclos superestables vemos que hay una brutal tendencia hacia $-\\infty$ en los valores de los exponentes -- esto lo podemos atribuir a que los sitios que rodean acaban siendo atraídos.\n"
   ]
  },
  {
   "cell_type": "markdown",
   "metadata": {},
   "source": [
    "# Universalidad"
   ]
  },
  {
   "cell_type": "markdown",
   "metadata": {},
   "source": [
    "Anteriormente, obtuvimos el siguiente diagrama de bifurcaciones de la familia cuadrática:\n",
    "\n",
    "![](diag_bifurcaciones.png)\n",
    "\n",
    "En esta sección, analizaremos por qué ciertos aspectos de la dinámica son universales (como por ejemplo los exponentes de Feigenbaum), es decir, para una familia más amplia de mapeos, más allá de la cuadrática. Aún así, analizaremos este aspecto para la familia cuadrática.\n",
    "\n",
    "El argumento que se presenta será más bien cualitativo; sin embargo, las observaciones que aquí se harán se pueden poner en términos rigurosos, que se conocen como la teoría de renormalización."
   ]
  },
  {
   "cell_type": "markdown",
   "metadata": {},
   "source": [
    "## Ciclos superestables"
   ]
  },
  {
   "cell_type": "markdown",
   "metadata": {},
   "source": [
    "Para la familia de mapeos cuadráticos $Q_c(x) = x^2+c$, un punto particular es $x=0$, simplemente porque en $x=0$ se satisface $Q_c'(x=0)=0$ para todo valor de $c$. \n",
    "Por esto es que definiremos un *ciclo superestable* de periodo $n$ como aquél en que $x=0$ forma parte del órbita periódica de periodo $n$."
   ]
  },
  {
   "cell_type": "markdown",
   "metadata": {},
   "source": [
    "Es fácil ver que en $c_0=0$ se tiene un ciclo superestable periódico de periodo 1. En este caso, uno puede sustituir $c=0$ en $Q_c(x)$, y notar que $Q_{c=0}(x)=x$ se cumple para $x=0$."
   ]
  },
  {
   "cell_type": "code",
   "execution_count": 162,
   "metadata": {
    "collapsed": false
   },
   "outputs": [
    {
     "data": {
      "text/plain": [
       "Qc´ (generic function with 1 method)"
      ]
     },
     "execution_count": 162,
     "metadata": {},
     "output_type": "execute_result"
    }
   ],
   "source": [
    "\"Mapeo cuadrático evaluado en `x`, con parámetro `c`\"\n",
    "Qc(x,c) = x^2 + c\n",
    "Qc(x, args...) = !c(x, args[1])\n",
    "\n",
    "\"Derivada de `Qc(x,c)` respecto a `x` evaluada en `x`, con parámetro `c`\"\n",
    "Qc´(x,c) = 2x"
   ]
  },
  {
   "cell_type": "code",
   "execution_count": 163,
   "metadata": {
    "collapsed": false
   },
   "outputs": [
    {
     "data": {
      "text/plain": [
       "0.0"
      ]
     },
     "execution_count": 163,
     "metadata": {},
     "output_type": "execute_result"
    }
   ],
   "source": [
    "C0 = 0.0"
   ]
  },
  {
   "cell_type": "code",
   "execution_count": 164,
   "metadata": {
    "collapsed": false
   },
   "outputs": [
    {
     "data": {
      "text/plain": [
       "true"
      ]
     },
     "execution_count": 164,
     "metadata": {},
     "output_type": "execute_result"
    }
   ],
   "source": [
    "Qc(0.0,C0) == 0.0"
   ]
  },
  {
   "cell_type": "code",
   "execution_count": 165,
   "metadata": {
    "collapsed": false
   },
   "outputs": [
    {
     "data": {
      "text/plain": [
       "Qcⁿ (generic function with 1 method)"
      ]
     },
     "execution_count": 165,
     "metadata": {},
     "output_type": "execute_result"
    }
   ],
   "source": [
    "doc\"\"\"\n",
    "    Qcⁿ(x, args)\n",
    "\n",
    "Esta función define el n-enésimo iterado de $Qc(x,c)$,\n",
    "donde el valor a iterar es `x` y el valor del parámetro\n",
    "es `c`, donde `c = args[1]` y `n = args[2]`.\n",
    "\"\"\"\n",
    "function Qcⁿ(x, args)\n",
    "    c, n = args[1], args[2]\n",
    "    @assert n >= 0 && isa(n,Int)\n",
    "    n <= 1 && return Qc(x,c)\n",
    "    for it = 1:n\n",
    "        x = Qc(x,c)\n",
    "    end\n",
    "    return x\n",
    "end"
   ]
  },
  {
   "cell_type": "markdown",
   "metadata": {},
   "source": [
    "La siguiente gráfica muestra el mapeo $Q_c(x)$ para $c=C_0$."
   ]
  },
  {
   "cell_type": "code",
   "execution_count": 166,
   "metadata": {
    "collapsed": false
   },
   "outputs": [
    {
     "data": {
      "text/html": [
       "<img src=\"data:image/png;base64,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\" />"
      ]
     },
     "execution_count": 166,
     "metadata": {},
     "output_type": "execute_result"
    }
   ],
   "source": [
    "xrange = -1:1/64:1\n",
    "plot(xrange, x->Qcⁿ(x, (C0,1)))\n",
    "plot!(xrange, x->x)\n",
    "ylims!(-1,1)\n",
    "xlabel!(L\"x\")\n",
    "ylabel!(L\"Q_c(x)\")\n",
    "title!(L\"c = C_0\")"
   ]
  },
  {
   "cell_type": "markdown",
   "metadata": {},
   "source": [
    "Para obtener el valor $c_1$ del ciclo superestable de periodo 2, debemos encontrar la $c$ tal que \n",
    "\n",
    "\\begin{equation}\n",
    "Q_c^2(0) = c^2+c = c(c+1) = 0,\n",
    "\\end{equation}\n",
    "\n",
    "cuya solución, distinta de $c_0=0$, es $c_1=-1$."
   ]
  },
  {
   "cell_type": "code",
   "execution_count": 167,
   "metadata": {
    "collapsed": false
   },
   "outputs": [
    {
     "data": {
      "text/plain": [
       "-1.0"
      ]
     },
     "execution_count": 167,
     "metadata": {},
     "output_type": "execute_result"
    }
   ],
   "source": [
    "C1 = -1.0"
   ]
  },
  {
   "cell_type": "code",
   "execution_count": 168,
   "metadata": {
    "collapsed": false
   },
   "outputs": [
    {
     "data": {
      "text/html": [
       "<img src=\"data:image/png;base64,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\" />"
      ]
     },
     "execution_count": 168,
     "metadata": {},
     "output_type": "execute_result"
    }
   ],
   "source": [
    "xrange = -1:1/64:1\n",
    "plot(xrange, x->Qcⁿ(x, (C1,2)))\n",
    "plot!(xrange, x->x)\n",
    "ylims!(-1,1)\n",
    "\n",
    "x₁ = -0.6\n",
    "plot!([x₁, -x₁, -x₁, x₁, x₁], [x₁, x₁, -x₁, -x₁, x₁])\n",
    "xlabel!(L\"x\")\n",
    "ylabel!(L\"Q_c^2(x)\")\n",
    "title!(L\"c = C_1\")"
   ]
  },
  {
   "cell_type": "markdown",
   "metadata": {},
   "source": [
    "El recuadro verde en la gráfica de $C_1$ muestra un detalle de $Q_{C_1}^2(x)$ que, localmente, se *parece* a $Q_{C_0}(x)$; aunque obvio, noten que la comparación requiere de una reflexión."
   ]
  },
  {
   "cell_type": "markdown",
   "metadata": {},
   "source": [
    "A fin de encontrar el valor de $c$ en que $Q_{c}^4(x=0)=0$, usamos el método de Newton. (Usaremos [TaylorSeries.jl](https://github.com/JuliaDiff/TaylorSeries.jl) para calcular la derivada de la función `f` usando diferenciación automática.)"
   ]
  },
  {
   "cell_type": "code",
   "execution_count": 190,
   "metadata": {
    "collapsed": false
   },
   "outputs": [],
   "source": [
    "using TaylorSeries"
   ]
  },
  {
   "cell_type": "code",
   "execution_count": 191,
   "metadata": {
    "collapsed": false
   },
   "outputs": [
    {
     "data": {
      "text/plain": [
       " 1.0 t + 𝒪(t²)"
      ]
     },
     "execution_count": 191,
     "metadata": {},
     "output_type": "execute_result"
    }
   ],
   "source": [
    "Taylor1(1)"
   ]
  },
  {
   "cell_type": "code",
   "execution_count": 192,
   "metadata": {
    "collapsed": false
   },
   "outputs": [
    {
     "data": {
      "text/plain": [
       "roots_newton (generic function with 1 method)"
      ]
     },
     "execution_count": 192,
     "metadata": {},
     "output_type": "execute_result"
    }
   ],
   "source": [
    "function roots_newton(f, x0)\n",
    "    t = Taylor1(1)\n",
    "    for ind = 1:30\n",
    "       fT = f(x0+t)\n",
    "       x0 = x0 - fT.coeffs[1]/fT.coeffs[2]\n",
    "    end\n",
    "    x0\n",
    "end"
   ]
  },
  {
   "cell_type": "code",
   "execution_count": 193,
   "metadata": {
    "collapsed": false
   },
   "outputs": [
    {
     "ename": "LoadError",
     "evalue": "LoadError: UndefVarError: Qcⁿ not defined\nwhile loading In[193], in expression starting on line 2",
     "output_type": "error",
     "traceback": [
      "LoadError: UndefVarError: Qcⁿ not defined\nwhile loading In[193], in expression starting on line 2",
      "",
      " in anonymous at In[193]:1",
      " in roots_newton at In[192]:4"
     ]
    }
   ],
   "source": [
    "Q4c = c -> Qcⁿ(0.0, (c, 4))\n",
    "C2 = roots_newton(Q4c, -1.4)"
   ]
  },
  {
   "cell_type": "code",
   "execution_count": 174,
   "metadata": {
    "collapsed": false
   },
   "outputs": [
    {
     "ename": "LoadError",
     "evalue": "LoadError: UndefVarError: C2 not defined\nwhile loading In[174], in expression starting on line 2",
     "output_type": "error",
     "traceback": [
      "LoadError: UndefVarError: C2 not defined\nwhile loading In[174], in expression starting on line 2",
      "",
      " in anonymous at In[174]:2",
      " in map at abstractarray.jl:1305",
      " in compute_xyz at /Users/claudiopierard/.julia/v0.4/Plots/src/series.jl:90",
      " [inlined code] from /Users/claudiopierard/.julia/v0.4/Plots/src/series.jl:134",
      " in apply_recipe at /Users/claudiopierard/.julia/v0.4/RecipesBase/src/RecipesBase.jl:238",
      " in _process_userrecipes at /Users/claudiopierard/.julia/v0.4/Plots/src/pipeline.jl:73",
      " in _plot! at /Users/claudiopierard/.julia/v0.4/Plots/src/plot.jl:157",
      " in plot at /Users/claudiopierard/.julia/v0.4/Plots/src/plot.jl:52"
     ]
    }
   ],
   "source": [
    "xrange = -1:1/64:1\n",
    "plot(xrange, x->Qcⁿ(x, (C2,4)))\n",
    "plot!(xrange, x->x)\n",
    "ylims!(-1,1)\n",
    "\n",
    "x₁ = -0.25\n",
    "plot!([x₁, -x₁, -x₁, x₁, x₁], [x₁, x₁, -x₁, -x₁, x₁])\n",
    "\n",
    "xlabel!(L\"x\")\n",
    "ylabel!(L\"Q_c^4(x)\")\n",
    "title!(L\"c = C_2\")"
   ]
  },
  {
   "cell_type": "markdown",
   "metadata": {},
   "source": [
    "Nuevamente, el recuadro verde en la gráfica de $C_2$ muestra un detalle de $Q_{C_2}^4(x)$ que, localmente, se *parece* a $Q_{C_0}(x)$. En este casi, la doble reflexión hace que la orientación corresponda."
   ]
  },
  {
   "cell_type": "code",
   "execution_count": 13,
   "metadata": {
    "collapsed": false
   },
   "outputs": [
    {
     "ename": "LoadError",
     "evalue": "LoadError: UndefVarError: Taylor1 not defined\nwhile loading In[13], in expression starting on line 2",
     "output_type": "error",
     "traceback": [
      "LoadError: UndefVarError: Taylor1 not defined\nwhile loading In[13], in expression starting on line 2",
      "",
      " in roots_newton at In[10]:2"
     ]
    }
   ],
   "source": [
    "Q8c = c -> Qcⁿ(0.0, (c, 8))\n",
    "C3 = roots_newton(Q8c, -1.4)"
   ]
  },
  {
   "cell_type": "code",
   "execution_count": 14,
   "metadata": {
    "collapsed": false
   },
   "outputs": [
    {
     "ename": "LoadError",
     "evalue": "LoadError: UndefVarError: C3 not defined\nwhile loading In[14], in expression starting on line 2",
     "output_type": "error",
     "traceback": [
      "LoadError: UndefVarError: C3 not defined\nwhile loading In[14], in expression starting on line 2",
      "",
      " in anonymous at In[14]:2",
      " in map at abstractarray.jl:1305",
      " in compute_xyz at /Users/claudiopierard/.julia/v0.4/Plots/src/series.jl:90",
      " [inlined code] from /Users/claudiopierard/.julia/v0.4/Plots/src/series.jl:134",
      " in apply_recipe at /Users/claudiopierard/.julia/v0.4/RecipesBase/src/RecipesBase.jl:238",
      " in _process_userrecipes at /Users/claudiopierard/.julia/v0.4/Plots/src/pipeline.jl:73",
      " in _plot! at /Users/claudiopierard/.julia/v0.4/Plots/src/plot.jl:157",
      " in plot at /Users/claudiopierard/.julia/v0.4/Plots/src/plot.jl:52"
     ]
    }
   ],
   "source": [
    "xrange = -1:1/128:1\n",
    "plot(xrange, x->Qcⁿ(x, (C3,8)))\n",
    "plot!(xrange, x->x)\n",
    "ylims!(-1,1)\n",
    "\n",
    "x₁ = -0.125\n",
    "plot!([x₁, -x₁, -x₁, x₁, x₁], [x₁, x₁, -x₁, -x₁, x₁])\n",
    "\n",
    "xlabel!(L\"x\")\n",
    "ylabel!(L\"Q_c^8(x)\")\n",
    "title!(L\"c = C_3\")"
   ]
  },
  {
   "cell_type": "markdown",
   "metadata": {},
   "source": [
    "**Ejercicio 2:**\n",
    "\n",
    "Rehacer los cálculos de los exponentes de Feigenbaum,\n",
    "\\begin{eqnarray*}\n",
    "f_n &=& \\frac{C_n-C_{n+1}}{C_{n+1}-C_{n+2}},\\\\\n",
    "a_n &=& \\frac{d_n}{d_{n+1}},\n",
    "\\end{eqnarray*}\n",
    "\n",
    "usando los valores $C_n$ donde se tienen ciclos superestables de periodo $2^n$. (Este ejercicio es muy parecido a los ejercicios 1 y 3 de la `Tarea4`.) \n",
    "\n",
    "Nota: Es importante dar un punto suficientemente bien aproximado a $C_n$ para que el método de Newton converja bien."
   ]
  },
  {
   "cell_type": "code",
   "execution_count": null,
   "metadata": {
    "collapsed": true
   },
   "outputs": [],
   "source": []
  },
  {
   "cell_type": "markdown",
   "metadata": {},
   "source": [
    "**Ejercicio 3:**\n",
    "\n",
    "Comparar gráficamente los mapeos $Q_{c}(x)$ y $Q_{c^\\prime}^2(x)$ para $c=1/4, 0, -3/4, -1, -2, -2.2$ y $c^\\prime=-3/4,-1,-5/4,-1.3, -1.546\\dots, -1.65$. \n"
   ]
  },
  {
   "cell_type": "code",
   "execution_count": null,
   "metadata": {
    "collapsed": true
   },
   "outputs": [],
   "source": []
  },
  {
   "cell_type": "markdown",
   "metadata": {},
   "source": [
    "**Ejercicio 4:**\n",
    "\n",
    "Estudiar la dinámica para $c=-2.2$\n",
    "\n",
    "- ¿Cómo se caracteriza el valor al que tiende *casi* cualquier condición inicial en el\n",
    "intervalo $I=[-p_+,p_+]$ (donde $p_+$ es el valor positivo tal que $Q_c(p_+)=p_+$), después de muchos iterados? (El intervalo $I$ es donde \"toda la dinámica interesante ocurre\".)\n",
    "\n",
    "- ¿Qué condición se requiere, en términos de $I$ (y de los iterados de $Q_c(x)$, para que se cumpla el inciso anterior?\n",
    "\n",
    "- Caracterizen al complemento del conjunto de los casos anteriores, es decir, cuando los iterados de la condición inicial **no** llegan a donde *casi* cualquier condición inicial termina. ¿Cómo se conoce a este conjunto?"
   ]
  },
  {
   "cell_type": "code",
   "execution_count": null,
   "metadata": {
    "collapsed": true
   },
   "outputs": [],
   "source": []
  },
  {
   "cell_type": "markdown",
   "metadata": {},
   "source": [
    "**Ejercicio 5:**\n",
    "\n",
    "- Usando el análisis gráfico para un valor de $c$ *ligeramente* anterior al punto donde se observa la ventana de periodo 3 para la familia $Q_c(x)$, y uno en la ventana de periodo 3, concluyan el tipo de bifurcación que se observa.\n",
    "\n",
    "- Comparen la dinámica para ambos valores de $c$ del inciso anterior. ¿Cómo es el exponente de Liapunov en cada caso?\n",
    "\n",
    "- Encuentren el valor de $c$ donde se da el ciclo superestable de periodo 3. (Nuevamente, ayuden al método de Newton con una buena semilla inicial para $c$.) Demuestren que para este valor de $c$ el mapeo $Q_c^3(x)$ tiene *ocho* puntos fijos, donde dos de ellos son puntos fijos de $Q_c(x)$, y los otros 6 forman dos secuencias periódicas, de periodo 3 en $Q_c(x)$, una de ellas estable y la otra inestable.\n",
    "\n",
    "(Los siguientes incisos usan el valor de $c$ encontrado en el inciso anterior.)\n",
    "\n",
    "- Denotando al ciclo inestable de periodo 3 como $\\alpha\\mapsto \\beta\\mapsto\\gamma$, con $\\gamma<\\beta<\\alpha$, uno puede asociar a cada uno de estos valores un valor $\\hat\\alpha, \\hat\\beta, \\hat\\gamma$, tales que $Q_c^3(\\hat\\alpha)=\\alpha$, $Q_c^3(\\hat\\beta)=\\beta$, $Q_c^3(\\hat\\gamma)=\\gamma$. ¿Qué podemos concluir de un punto que cae en cualquiera de los intervalos $[\\alpha,\\hat\\alpha]$, $[\\beta,\\hat\\beta]$ y $[\\hat\\gamma,\\gamma]$, en términos de los iterados sucesivos?\n",
    "\n",
    "- Definiendo los intervalos $I_0=[\\hat\\beta, \\alpha]$, $I_1=[\\gamma,\\beta]$, mostrar que bajo la acción de $Q_c(x)$ se cumple: (i) $Q_c(I_0) \\supset I_1$, y (ii) $Q_c(I_1) \\supset I_0\\cup I_1$. ¿Qué propiedad *importante* de $Q_c(x)$ se utiliza aquí?\n",
    "\n",
    "(Los intervalos $I_0$ e $I_1$, y estas propiedades, son básicos en la demostración del teorema \"periodo tres implica caos\".)"
   ]
  },
  {
   "cell_type": "code",
   "execution_count": null,
   "metadata": {
    "collapsed": true
   },
   "outputs": [],
   "source": []
  },
  {
   "cell_type": "markdown",
   "metadata": {},
   "source": [
    "## Constante $\\alpha$ de Feigenbaum"
   ]
  },
  {
   "cell_type": "markdown",
   "metadata": {},
   "source": [
    "El punto del análisis gráfico anterior es que, *localmente*, los mapeos $Q_{C_0}(x)$ y $Q^{2^n}_{C_n}(x)$ son muy similares, si uno se enfoca en un dominio muy particular para $Q^{2^n}_{C_n}(x)$.\n",
    "\n",
    "Vale la pena notar que, en este caso, la distancia al punto fijo (que cruza la identidad) \n",
    "y que define los recuadros verdes, es $d_n = Q_{C_n}^{2^{n-1}}(0)\\approx -\\alpha d_{n+1}$ (ver ejercicio 3 de la Tarea 4)."
   ]
  },
  {
   "cell_type": "markdown",
   "metadata": {},
   "source": [
    "Esta observación se expresa de manera formal construyendo una función que localmente se comporta como $Q^{2^n}_{C_n}(x)$:\n",
    "\n",
    "\\begin{equation}\n",
    "g_1(x) = \\lim_{n\\to\\infty} (-\\alpha)^n Q_{C_{n+1}}^{2^n}\\Big(\\frac{x}{(-\\alpha)^n}\\Big).\n",
    "\\end{equation}\n",
    "\n",
    "El límite $n\\to\\infty$ hace que todas las particularidades del mapeo $Q_c(x)$ se pierdan y, en este sentido, que sólo las propiedades que son *universales* resten.\n",
    "\n",
    "La ecuación anterior se generaliza a:\n",
    "\n",
    "\\begin{equation}\n",
    "g_i(x) = \\lim_{n\\to\\infty} (-\\alpha)^n Q_{C_{n+i}}^{2^n}\\Big(\\frac{x}{(-\\alpha)^n}\\Big),\n",
    "\\end{equation}\n",
    "\n",
    "\n"
   ]
  },
  {
   "cell_type": "markdown",
   "metadata": {},
   "source": [
    "De la definición de $g_i(x)$, uno puede demostrar las funciones $g_i(x)$ satisfacen la ecuación\n",
    "\n",
    "\\begin{equation}\n",
    "g_{i-1}(x) = -\\alpha g_i\\Big( g_i(-\\,\\frac{x}{\\alpha})\\Big) ,\n",
    "\\end{equation}\n",
    "\n",
    "que al tomar el límite $i\\to \\infty$ nos lleva a:\n",
    "\n",
    "\\begin{equation}\n",
    "g(x) \\equiv T g(x) = -\\alpha g\\Big( g(-\\,\\frac{x}{\\alpha})\\Big),\n",
    "\\end{equation}\n",
    "\n",
    "donde $T$ es el *operador de doblamiento de periodo*.\n"
   ]
  },
  {
   "cell_type": "markdown",
   "metadata": {},
   "source": [
    "Si $g(x)$ satisface la ecuación anterior, entonces la función $\\mu g(x/\\mu)$, con $\\mu\\neq 0$, es también solución de la ecuación. Esta es una propiedad de escalamiento. De aquí, imponiendo que $g(0)=1$ se tiene $1=-\\alpha g(1)$.\n",
    "\n",
    "La idea es hacer un desarrollo en serie de Taylor de $g(x)$ cerca de $x=0$ a fin de obtener una aproximación de $\\alpha$. De la ecuación de doblamiento de periodo uno obtiene:\n",
    "\n",
    "\\begin{eqnarray}\n",
    "g'(x) &=& g'\\Big( g(-\\,\\frac{x}{\\alpha}) \\Big) g'(-\\,\\frac{x}{\\alpha}),\\\\\n",
    "g''(x) &=& -g''\\Big( g(-\\,\\frac{x}{\\alpha}) \\Big) \\Big[ g'(-\\,\\frac{x}{\\alpha})\\Big]^2\n",
    "-\\,\\frac{1}{\\alpha} g'\\Big( g(-\\,\\frac{x}{\\alpha}) \\Big) g''(-\\,\\frac{x}{\\alpha}).\n",
    "\\end{eqnarray}\n"
   ]
  },
  {
   "cell_type": "markdown",
   "metadata": {},
   "source": [
    "De la primer ecuación podemos concluir que $g'(0)=0$. Por esto, a segundo orden tenemos que $g(x)\\simeq 1+b x^2$. Sustituyendo esta aproximación en la ecuación de doblamiento de periodo y desarrollando *hasta* segundo orden, se obtiene:\n",
    "\n",
    "\\begin{equation}\n",
    "1+b x^2 \\simeq -\\alpha(1+b(1+b(-\\frac{x}{\\alpha})^2)^2) = -\\alpha\\Big( 1+ b + \\frac{2b^2}{\\alpha^2}x^2\\Big) + {\\cal O}(x^4).\n",
    "\\end{equation}\n"
   ]
  },
  {
   "cell_type": "markdown",
   "metadata": {},
   "source": [
    "Igualando término a término (potencias de $x$) tenemos que se debe satisfacer:\n",
    "\n",
    "\\begin{eqnarray}\n",
    "1 &=& -\\alpha(1 + b),\\\\\n",
    "b &=& - 2b^2/\\alpha.\\\\\n",
    "\\end{eqnarray}\n",
    "\n",
    "De aquí obtenemos: $b \\approx -\\alpha/2$ y $\\alpha\\approx 1+\\sqrt{3}=2.73\\dots$; el valor de \n",
    "esta constante es $\\alpha = 2.502907\\dots$."
   ]
  },
  {
   "cell_type": "markdown",
   "metadata": {},
   "source": [
    "La otra constante de Feigenbaum se obtiene estudiando las propiedades de la ecuación linearizada en $c$."
   ]
  },
  {
   "cell_type": "markdown",
   "metadata": {},
   "source": [
    "## Referencias\n",
    "\n",
    "Heinz Georg Schuster, Wolfram Just, Deterministic Chaos, 2006."
   ]
  }
 ],
 "metadata": {
  "kernelspec": {
   "display_name": "Julia 0.4.6",
   "language": "julia",
   "name": "julia-0.4"
  },
  "language_info": {
   "file_extension": ".jl",
   "mimetype": "application/julia",
   "name": "julia",
   "version": "0.4.6"
  }
 },
 "nbformat": 4,
 "nbformat_minor": 1
}
