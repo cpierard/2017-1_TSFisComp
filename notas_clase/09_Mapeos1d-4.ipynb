{
 "cells": [
  {
   "cell_type": "markdown",
   "metadata": {},
   "source": [
    "**NOTA**\n",
    "\n",
    "Los ejercicios de este notebook componen la Tarea5, para la que las fechas relevantes son:\n",
    "\n",
    "**Envío del PR inicial:** lunes 17 de octubre\n",
    "\n",
    "**Aceptación del PR:** lunes 31 de octubre\n"
   ]
  },
  {
   "cell_type": "markdown",
   "metadata": {},
   "source": [
    "# Exponente(s) de Lyapunov"
   ]
  },
  {
   "cell_type": "markdown",
   "metadata": {},
   "source": [
    "Una manera de caracterizar el caos en el sentido de *sensibilidad a condiciones iniciales* es a través de los exponentes de Liapunov. La idea es sencilla: si hay una separación *exponencial* de condiciones iniciales muy cercanas, entonces diremos que hay caos."
   ]
  },
  {
   "cell_type": "markdown",
   "metadata": {},
   "source": [
    "Por esto, simplemente monitoreamos la evolución de dos condiciones iniciales cercanas, $x_0$ y $x_0+\\epsilon$, donde $\\epsilon>0$ y pequeño.\n",
    "\n",
    "Considerando mapeos en una dimensión, la distancia entre los iterados $n$ es\n",
    "\n",
    "\\begin{equation}\n",
    "D_n = \\big|\\, f^{n}(x_0+\\epsilon)-f^{n}(x_0) \\big|\\,.\n",
    "\\end{equation}"
   ]
  },
  {
   "cell_type": "markdown",
   "metadata": {},
   "source": [
    "Entonces, suponiendo que $d_n$ tiene una dependencia exponencial de $n$, para $n\\to\\infty$ y $\\epsilon\\to 0$, escribimos $d_n= \\epsilon \\exp(\\lambda n)$, de donde obtenemos\n",
    "\n",
    "\\begin{equation}\n",
    "\\lambda(x_0) \\equiv \\lim_{n\\to\\infty} \\lim_{\\epsilon\\to 0} \n",
    "\\frac{1}{n}\\log\\Big| \\frac{f^{n}(x_0+\\epsilon)-f^{n}(x_0)}{\\epsilon}\\Big|.\n",
    "\\end{equation}\n",
    "\n",
    "A $\\lambda(x_0)$ se le llama exponente de Lyapunov. Si $\\lambda(x_0)>0$ diremos que hay caos, mientras que si $\\lambda(x_0)<0$ diremos que no lo hay."
   ]
  },
  {
   "cell_type": "markdown",
   "metadata": {},
   "source": [
    "Observaciones:\n",
    "\n",
    "- El exponente de Liapunov, estrictamente hablando, depende de la condición inicial $x_0$.\n",
    "\n",
    "- En la definición del exponente de Lyapunov se require la evaluación de **dos** límites, uno que involucra al tiempo ($n\\to\\infty$), y otro a la condición inicial ($\\epsilon\\to 0$).\n",
    "\n",
    "- La definición del exponente de Lyapunov es sutil, ya que en muchas ocasiones *sabemos* que el rango de $f(x)$ y de $f^n(x)$ es acotado cuando $x$ está en cierto dominio, lo que entonces podría llevar erróneamente a concluir que $\\lambda(x_0)=0$. (La sutileza está en que el órden de los límites no conmuta.)"
   ]
  },
  {
   "cell_type": "markdown",
   "metadata": {},
   "source": [
    "Si el mapeo $f(x)$ es suficientemente suave, entonces podemos escribir\n",
    "\n",
    "\\begin{equation}\n",
    "\\lambda(x_0) = \\lim_{n\\to\\infty} \\frac{1}{n}\\log\\Big| \\frac{{\\rm d} f^{n}}{{\\rm d}x}(x_0)\\Big|,\n",
    "\\end{equation}\n",
    "\n",
    "Usando que\n",
    "\n",
    "\\begin{equation}\n",
    "\\frac{{\\rm d}f^n}{{\\rm d}x}(x_0) = f'(x_0) f'(x_1)\\dots f'(x_{n-1}) \n",
    "= \\prod_{i=1}^{n} f'(x_i), \n",
    "\\end{equation}\n",
    "\n",
    "donde $x_i=f^i(x_0)$\n",
    "obtenemos\n",
    "\n",
    "\\begin{equation}\n",
    "\\lambda(x_0) = \\lim_{n\\to\\infty} \\frac{1}{n} \\sum_{i=1}^n \\log\n",
    "\\Big| \\, f'(x_i)\\, \\Big|.\n",
    "\\end{equation}\n"
   ]
  },
  {
   "cell_type": "markdown",
   "metadata": {},
   "source": [
    "**Ejercicio 1:**\n",
    "\n",
    "Obtengan, para la familia de mapeos cuadrática $Q_c(x)$, el diagrama que muestra el exponente de Lyapunov en términos de $c$.\n",
    "\n",
    "- ¿Qué particularidad ocurre (en términos del exponente de Lyapunov) para los valores\n",
    "de $c$ donde hay bifurcaciones?\n",
    "\n",
    "- ¿Qué particularidad ocurre (en términos del exponente de Lyapunov) cuando tenemos *ciclos superestables*, es decir, cuando $x=0$ es parte de un ciclo periódico?"
   ]
  },
  {
   "cell_type": "code",
   "execution_count": 1,
   "metadata": {
    "collapsed": false
   },
   "outputs": [
    {
     "data": {
      "text/plain": [
       "Plots.PyPlotBackend()"
      ]
     },
     "execution_count": 1,
     "metadata": {},
     "output_type": "execute_result"
    }
   ],
   "source": [
    "using Plots\n",
    "\n",
    "using LaTeXStrings\n",
    "\n",
    "pyplot(grid=:false, legend=:false, size=(400,267))"
   ]
  },
  {
   "cell_type": "code",
   "execution_count": 2,
   "metadata": {
    "collapsed": false
   },
   "outputs": [
    {
     "data": {
      "text/plain": [
       "Q_c´ (generic function with 1 method)"
      ]
     },
     "execution_count": 2,
     "metadata": {},
     "output_type": "execute_result"
    }
   ],
   "source": [
    "Q_c(x,c) = x^2 + c\n",
    "Q_c´(x) = 2*x"
   ]
  },
  {
   "cell_type": "code",
   "execution_count": 3,
   "metadata": {
    "collapsed": false
   },
   "outputs": [
    {
     "data": {
      "text/plain": [
       "iterator (generic function with 1 method)"
      ]
     },
     "execution_count": 3,
     "metadata": {},
     "output_type": "execute_result"
    }
   ],
   "source": [
    "function iterator(f::Function, n::Int, k, x0, c)\n",
    "\n",
    "    solution = Float64[]\n",
    "    #steps = Int[0]\n",
    "    x_old = x0\n",
    "    for i in 1:n\n",
    "\n",
    "        x_new = f(x_old, c)\n",
    "        x_old = x_new\n",
    "\n",
    "    end\n",
    "    \n",
    "    for i in 1:k\n",
    "        \n",
    "        x_new = f(x_old, c)\n",
    "        push!(solution, x_old)\n",
    "        x_old = x_new\n",
    "\n",
    "    end\n",
    "    \n",
    "    return solution\n",
    "\n",
    "end"
   ]
  },
  {
   "cell_type": "code",
   "execution_count": 4,
   "metadata": {
    "collapsed": false
   },
   "outputs": [
    {
     "data": {
      "text/plain": [
       "liapunov_exponent (generic function with 1 method)"
      ]
     },
     "execution_count": 4,
     "metadata": {},
     "output_type": "execute_result"
    }
   ],
   "source": [
    "function liapunov_exponent(Xi)\n",
    "    \n",
    "    σ = 0.0\n",
    "    n = length(Xi)\n",
    "    \n",
    "    for i in 1:n\n",
    "        \n",
    "        σ += log(abs(Q_c´(Xi[i])))\n",
    "        \n",
    "    end\n",
    "    \n",
    "    λ = 1/n * σ\n",
    "    \n",
    "end"
   ]
  },
  {
   "cell_type": "code",
   "execution_count": 5,
   "metadata": {
    "collapsed": false
   },
   "outputs": [
    {
     "data": {
      "text/plain": [
       "1000-element Array{Float64,1}:\n",
       " -0.248334 \n",
       " -1.43833  \n",
       "  0.568794 \n",
       " -1.17647  \n",
       " -0.115911 \n",
       " -1.48656  \n",
       "  0.709875 \n",
       " -0.996078 \n",
       " -0.507829 \n",
       " -1.24211  \n",
       "  0.0428369\n",
       " -1.49817  \n",
       "  0.744498 \n",
       "  ⋮        \n",
       " -0.0567696\n",
       " -1.49678  \n",
       "  0.740342 \n",
       " -0.951894 \n",
       " -0.593898 \n",
       " -1.14728  \n",
       " -0.183738 \n",
       " -1.46624  \n",
       "  0.649861 \n",
       " -1.07768  \n",
       " -0.338604 \n",
       " -1.38535  "
      ]
     },
     "execution_count": 5,
     "metadata": {},
     "output_type": "execute_result"
    }
   ],
   "source": [
    "orb_1 = iterator(Q_c, 100, 1000, 0.0, -1.5)"
   ]
  },
  {
   "cell_type": "code",
   "execution_count": 6,
   "metadata": {
    "collapsed": false
   },
   "outputs": [
    {
     "data": {
      "text/plain": [
       "0.25999766464274"
      ]
     },
     "execution_count": 6,
     "metadata": {},
     "output_type": "execute_result"
    }
   ],
   "source": [
    "liapunov_exponent(orb_1) # Caos"
   ]
  },
  {
   "cell_type": "code",
   "execution_count": 7,
   "metadata": {
    "collapsed": false
   },
   "outputs": [
    {
     "data": {
      "text/plain": [
       "-0.11157177942474457"
      ]
     },
     "execution_count": 7,
     "metadata": {},
     "output_type": "execute_result"
    }
   ],
   "source": [
    "orb_2 = iterator(Q_c, 100, 1000, 0.0, -1.2)\n",
    "liapunov_exponent(orb_2) #no chaos"
   ]
  },
  {
   "cell_type": "code",
   "execution_count": 8,
   "metadata": {
    "collapsed": false
   },
   "outputs": [
    {
     "data": {
      "text/plain": [
       "-0.018692862862578284"
      ]
     },
     "execution_count": 8,
     "metadata": {},
     "output_type": "execute_result"
    }
   ],
   "source": [
    "orb_3 = iterator(Q_c, 15000, 14500, 0.0, -1.401)\n",
    "lia_3 = liapunov_exponent(orb_3) #no chaos"
   ]
  },
  {
   "cell_type": "code",
   "execution_count": 9,
   "metadata": {
    "collapsed": false
   },
   "outputs": [
    {
     "data": {
      "text/plain": [
       "-8.268402498618143e-5"
      ]
     },
     "execution_count": 9,
     "metadata": {},
     "output_type": "execute_result"
    }
   ],
   "source": [
    "orb_4 = iterator(Q_c, 15000, 10000, 0.0, -.75001)\n",
    "liapunov_exponent(orb_4) #no chaos"
   ]
  },
  {
   "cell_type": "code",
   "execution_count": 10,
   "metadata": {
    "collapsed": false
   },
   "outputs": [
    {
     "data": {
      "text/plain": [
       "-9.53977020732341e-5"
      ]
     },
     "execution_count": 10,
     "metadata": {},
     "output_type": "execute_result"
    }
   ],
   "source": [
    "orb_5 = iterator(Q_c, 15000, 1500, 0.0, -1.25)\n",
    "lia_5 = liapunov_exponent(orb_5) #no chaos"
   ]
  },
  {
   "cell_type": "code",
   "execution_count": 11,
   "metadata": {
    "collapsed": false
   },
   "outputs": [
    {
     "data": {
      "text/plain": [
       "liapunov_c_range (generic function with 1 method)"
      ]
     },
     "execution_count": 11,
     "metadata": {},
     "output_type": "execute_result"
    }
   ],
   "source": [
    "function liapunov_c_range(c_range)\n",
    "    \n",
    "    liapunov = Float64[]\n",
    "    \n",
    "    for i in c_range\n",
    "        \n",
    "        orb = iterator(Q_c, 100, 1000, 0.0, i)\n",
    "        exponent = liapunov_exponent(orb)\n",
    "        push!(liapunov, exponent)\n",
    "        \n",
    "    end\n",
    "    \n",
    "    liapunov\n",
    "    \n",
    "end     "
   ]
  },
  {
   "cell_type": "code",
   "execution_count": 12,
   "metadata": {
    "collapsed": false
   },
   "outputs": [],
   "source": [
    "c_rango = 0.25:-0.001:-2.0\n",
    "liap_exponentes = liapunov_c_range(c_rango);"
   ]
  },
  {
   "cell_type": "code",
   "execution_count": 13,
   "metadata": {
    "collapsed": false
   },
   "outputs": [
    {
     "name": "stdout",
     "output_type": "stream",
     "text": [
      "[Plots.jl] Initializing backend: pyplot\n"
     ]
    },
    {
     "data": {
      "text/html": [
       "<img src=\"data:image/png;base64,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\" />"
      ]
     },
     "execution_count": 13,
     "metadata": {},
     "output_type": "execute_result"
    }
   ],
   "source": [
    "plot(c_rango, liap_exponentes, ylim=(-6.5, 2), size=(800, 500), xlabel=(L\"$c$\"), \n",
    "    ylabel = (L\"Exponentes de Lyapunov $\\lambda(x)$\"),\n",
    "    title=(L\"Exponentes de Lyapunov para $f(x) = \\ x^2 + c$\"))\n",
    "\n",
    "plot!(c_rango, zeros(length(liap_exponentes)))"
   ]
  },
  {
   "cell_type": "markdown",
   "metadata": {},
   "source": [
    "**Respuesta**\n",
    "\n",
    "> Observamos que para valores de c donde hay bifurcaciones se alcanza el valor 0. Esto se debe a que las derivadas se van acercando a cero justo antes de darse el punto de bifurcación, y ahi justo se ve un 'pico', en esencia las dos derivadas correspondientes a la bifurcación.\n",
    "\n",
    "> Sin embargo, en los ciclos superestables vemos que hay una brutal tendencia hacia $-\\infty$ en los valores de los exponentes -- esto lo podemos atribuir a que los sitios que rodean acaban siendo atraídos.\n"
   ]
  },
  {
   "cell_type": "markdown",
   "metadata": {},
   "source": [
    "# Universalidad"
   ]
  },
  {
   "cell_type": "markdown",
   "metadata": {},
   "source": [
    "Anteriormente, obtuvimos el siguiente diagrama de bifurcaciones de la familia cuadrática:\n",
    "\n",
    "![](diag_bifurcaciones.png)\n",
    "\n",
    "En esta sección, analizaremos por qué ciertos aspectos de la dinámica son universales (como por ejemplo los exponentes de Feigenbaum), es decir, para una familia más amplia de mapeos, más allá de la cuadrática. Aún así, analizaremos este aspecto para la familia cuadrática.\n",
    "\n",
    "El argumento que se presenta será más bien cualitativo; sin embargo, las observaciones que aquí se harán se pueden poner en términos rigurosos, que se conocen como la teoría de renormalización."
   ]
  },
  {
   "cell_type": "markdown",
   "metadata": {},
   "source": [
    "## Ciclos superestables"
   ]
  },
  {
   "cell_type": "markdown",
   "metadata": {},
   "source": [
    "Para la familia de mapeos cuadráticos $Q_c(x) = x^2+c$, un punto particular es $x=0$, simplemente porque en $x=0$ se satisface $Q_c'(x=0)=0$ para todo valor de $c$. \n",
    "Por esto es que definiremos un *ciclo superestable* de periodo $n$ como aquél en que $x=0$ forma parte del órbita periódica de periodo $n$."
   ]
  },
  {
   "cell_type": "markdown",
   "metadata": {},
   "source": [
    "Es fácil ver que en $c_0=0$ se tiene un ciclo superestable periódico de periodo 1. En este caso, uno puede sustituir $c=0$ en $Q_c(x)$, y notar que $Q_{c=0}(x)=x$ se cumple para $x=0$."
   ]
  },
  {
   "cell_type": "code",
   "execution_count": 15,
   "metadata": {
    "collapsed": false
   },
   "outputs": [
    {
     "data": {
      "text/plain": [
       "Qc´ (generic function with 1 method)"
      ]
     },
     "execution_count": 15,
     "metadata": {},
     "output_type": "execute_result"
    }
   ],
   "source": [
    "\"Mapeo cuadrático evaluado en `x`, con parámetro `c`\"\n",
    "Qc(x,c) = x^2 + c\n",
    "Qc(x, args...) = !c(x, args[1])\n",
    "\n",
    "\"Derivada de `Qc(x,c)` respecto a `x` evaluada en `x`, con parámetro `c`\"\n",
    "Qc´(x,c) = 2x"
   ]
  },
  {
   "cell_type": "code",
   "execution_count": 16,
   "metadata": {
    "collapsed": false
   },
   "outputs": [
    {
     "data": {
      "text/plain": [
       "0.0"
      ]
     },
     "execution_count": 16,
     "metadata": {},
     "output_type": "execute_result"
    }
   ],
   "source": [
    "C0 = 0.0"
   ]
  },
  {
   "cell_type": "code",
   "execution_count": 17,
   "metadata": {
    "collapsed": false
   },
   "outputs": [
    {
     "data": {
      "text/plain": [
       "true"
      ]
     },
     "execution_count": 17,
     "metadata": {},
     "output_type": "execute_result"
    }
   ],
   "source": [
    "Qc(0.0,C0) == 0.0"
   ]
  },
  {
   "cell_type": "code",
   "execution_count": 18,
   "metadata": {
    "collapsed": false
   },
   "outputs": [
    {
     "data": {
      "text/plain": [
       "Qcⁿ (generic function with 1 method)"
      ]
     },
     "execution_count": 18,
     "metadata": {},
     "output_type": "execute_result"
    }
   ],
   "source": [
    "doc\"\"\"\n",
    "    Qcⁿ(x, args)\n",
    "\n",
    "Esta función define el n-enésimo iterado de $Qc(x,c)$,\n",
    "donde el valor a iterar es `x` y el valor del parámetro\n",
    "es `c`, donde `c = args[1]` y `n = args[2]`.\n",
    "\"\"\"\n",
    "function Qcⁿ(x, args)\n",
    "    c, n = args[1], args[2]\n",
    "    @assert n >= 0 && isa(n,Int)\n",
    "    n <= 1 && return Qc(x,c)\n",
    "    for it = 1:n\n",
    "        x = Qc(x,c)\n",
    "    end\n",
    "    return x\n",
    "end"
   ]
  },
  {
   "cell_type": "markdown",
   "metadata": {},
   "source": [
    "La siguiente gráfica muestra el mapeo $Q_c(x)$ para $c=C_0$."
   ]
  },
  {
   "cell_type": "code",
   "execution_count": 19,
   "metadata": {
    "collapsed": false
   },
   "outputs": [
    {
     "data": {
      "text/html": [
       "<img src=\"data:image/png;base64,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\" />"
      ]
     },
     "execution_count": 19,
     "metadata": {},
     "output_type": "execute_result"
    }
   ],
   "source": [
    "xrange = -1:1/64:1\n",
    "plot(xrange, x->Qcⁿ(x, (C0,1)))\n",
    "plot!(xrange, x->x)\n",
    "ylims!(-1,1)\n",
    "xlabel!(L\"x\")\n",
    "ylabel!(L\"Q_c(x)\")\n",
    "title!(L\"c = C_0\")"
   ]
  },
  {
   "cell_type": "markdown",
   "metadata": {},
   "source": [
    "Para obtener el valor $c_1$ del ciclo superestable de periodo 2, debemos encontrar la $c$ tal que \n",
    "\n",
    "\\begin{equation}\n",
    "Q_c^2(0) = c^2+c = c(c+1) = 0,\n",
    "\\end{equation}\n",
    "\n",
    "cuya solución, distinta de $c_0=0$, es $c_1=-1$."
   ]
  },
  {
   "cell_type": "code",
   "execution_count": 20,
   "metadata": {
    "collapsed": false
   },
   "outputs": [
    {
     "data": {
      "text/plain": [
       "-1.0"
      ]
     },
     "execution_count": 20,
     "metadata": {},
     "output_type": "execute_result"
    }
   ],
   "source": [
    "C1 = -1.0"
   ]
  },
  {
   "cell_type": "code",
   "execution_count": 21,
   "metadata": {
    "collapsed": false
   },
   "outputs": [
    {
     "data": {
      "text/html": [
       "<img src=\"data:image/png;base64,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\" />"
      ]
     },
     "execution_count": 21,
     "metadata": {},
     "output_type": "execute_result"
    }
   ],
   "source": [
    "xrange = -1:1/64:1\n",
    "plot(xrange, x->Qcⁿ(x, (C1,2)))\n",
    "plot!(xrange, x->x)\n",
    "ylims!(-1,1)\n",
    "\n",
    "x₁ = -0.6\n",
    "plot!([x₁, -x₁, -x₁, x₁, x₁], [x₁, x₁, -x₁, -x₁, x₁])\n",
    "xlabel!(L\"x\")\n",
    "ylabel!(L\"Q_c^2(x)\")\n",
    "title!(L\"c = C_1\")"
   ]
  },
  {
   "cell_type": "markdown",
   "metadata": {},
   "source": [
    "El recuadro verde en la gráfica de $C_1$ muestra un detalle de $Q_{C_1}^2(x)$ que, localmente, se *parece* a $Q_{C_0}(x)$; aunque obvio, noten que la comparación requiere de una reflexión."
   ]
  },
  {
   "cell_type": "markdown",
   "metadata": {},
   "source": [
    "A fin de encontrar el valor de $c$ en que $Q_{c}^4(x=0)=0$, usamos el método de Newton. (Usaremos [TaylorSeries.jl](https://github.com/JuliaDiff/TaylorSeries.jl) para calcular la derivada de la función `f` usando diferenciación automática.)"
   ]
  },
  {
   "cell_type": "code",
   "execution_count": 22,
   "metadata": {
    "collapsed": false
   },
   "outputs": [],
   "source": [
    "using TaylorSeries"
   ]
  },
  {
   "cell_type": "code",
   "execution_count": 23,
   "metadata": {
    "collapsed": false
   },
   "outputs": [
    {
     "data": {
      "text/plain": [
       " 1.0 t + 𝒪(t²)"
      ]
     },
     "execution_count": 23,
     "metadata": {},
     "output_type": "execute_result"
    }
   ],
   "source": [
    "Taylor1(1)"
   ]
  },
  {
   "cell_type": "code",
   "execution_count": 24,
   "metadata": {
    "collapsed": false
   },
   "outputs": [
    {
     "data": {
      "text/plain": [
       "roots_newton (generic function with 1 method)"
      ]
     },
     "execution_count": 24,
     "metadata": {},
     "output_type": "execute_result"
    }
   ],
   "source": [
    "function roots_newton(f, x0)\n",
    "    t = Taylor1(1)\n",
    "    for ind = 1:30\n",
    "       fT = f(x0+t)\n",
    "       x0 = x0 - fT.coeffs[1]/fT.coeffs[2]\n",
    "    end\n",
    "    x0\n",
    "end"
   ]
  },
  {
   "cell_type": "code",
   "execution_count": 25,
   "metadata": {
    "collapsed": false
   },
   "outputs": [
    {
     "data": {
      "text/plain": [
       "-1.3107026413368328"
      ]
     },
     "execution_count": 25,
     "metadata": {},
     "output_type": "execute_result"
    }
   ],
   "source": [
    "Q4c = c -> Qcⁿ(0.0, (c, 4))\n",
    "C2 = roots_newton(Q4c, -1.4)"
   ]
  },
  {
   "cell_type": "code",
   "execution_count": 78,
   "metadata": {
    "collapsed": false
   },
   "outputs": [
    {
     "data": {
      "text/html": [
       "<img src=\"data:image/png;base64,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\" />"
      ]
     },
     "execution_count": 78,
     "metadata": {},
     "output_type": "execute_result"
    }
   ],
   "source": [
    "xrange = -1:1/64:1\n",
    "plot(xrange, x->Qcⁿ(x, (C2,4)), size=(800,500))\n",
    "plot!(xrange, x->x)\n",
    "plot!(xrange, zeros(xrange), line=(:dash))\n",
    "ylims!(-1.4,1)\n",
    "\n",
    "x₁ = -0.25\n",
    "plot!([x₁, -x₁, -x₁, x₁, x₁], [x₁, x₁, -x₁, -x₁, x₁])\n",
    "\n",
    "xlabel!(L\"x\")\n",
    "ylabel!(L\"Q_c^4(x)\")\n",
    "title!(L\"c = C_2\")"
   ]
  },
  {
   "cell_type": "markdown",
   "metadata": {},
   "source": [
    "Nuevamente, el recuadro verde en la gráfica de $C_2$ muestra un detalle de $Q_{C_2}^4(x)$ que, localmente, se *parece* a $Q_{C_0}(x)$. En este casi, la doble reflexión hace que la orientación corresponda."
   ]
  },
  {
   "cell_type": "code",
   "execution_count": 27,
   "metadata": {
    "collapsed": false
   },
   "outputs": [
    {
     "data": {
      "text/plain": [
       "-1.3815474844320617"
      ]
     },
     "execution_count": 27,
     "metadata": {},
     "output_type": "execute_result"
    }
   ],
   "source": [
    "Q8c = c -> Qcⁿ(0.0, (c, 8))\n",
    "C3 = roots_newton(Q8c, -1.4)"
   ]
  },
  {
   "cell_type": "code",
   "execution_count": 82,
   "metadata": {
    "collapsed": false
   },
   "outputs": [
    {
     "data": {
      "text/html": [
       "<img src=\"data:image/png;base64,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\" />"
      ]
     },
     "execution_count": 82,
     "metadata": {},
     "output_type": "execute_result"
    }
   ],
   "source": [
    "xrange = -1:1/128:1\n",
    "plot(xrange, x->Qcⁿ(x, (C3,8)), size=(800,500))\n",
    "plot!(xrange, x->x)\n",
    "ylims!(-1,1)\n",
    "\n",
    "x₁ = -0.125\n",
    "plot!([x₁, -x₁, -x₁, x₁, x₁], [x₁, x₁, -x₁, -x₁, x₁])\n",
    "\n",
    "xlabel!(L\"x\")\n",
    "ylabel!(L\"Q_c^8(x)\")\n",
    "title!(L\"c = C_3\")\n",
    "\n",
    "#ylims!(-0.3, 0.3)\n",
    "#xlims!(-0.3, 0.3)"
   ]
  },
  {
   "cell_type": "markdown",
   "metadata": {},
   "source": [
    "**Ejercicio 2:**\n",
    "\n",
    "Rehacer los cálculos de los exponentes de Feigenbaum,\n",
    "\\begin{eqnarray*}\n",
    "f_n &=& \\frac{C_n-C_{n+1}}{C_{n+1}-C_{n+2}},\\\\\n",
    "a_n &=& \\frac{d_n}{d_{n+1}},\n",
    "\\end{eqnarray*}\n",
    "\n",
    "usando los valores $C_n$ donde se tienen ciclos superestables de periodo $2^n$. (Este ejercicio es muy parecido a los ejercicios 1 y 3 de la `Tarea4`.) \n",
    "\n",
    "Nota: Es importante dar un punto suficientemente bien aproximado a $C_n$ para que el método de Newton converja bien."
   ]
  },
  {
   "cell_type": "code",
   "execution_count": 56,
   "metadata": {
    "collapsed": false
   },
   "outputs": [
    {
     "data": {
      "text/plain": [
       "-1.3969453597045607"
      ]
     },
     "execution_count": 56,
     "metadata": {},
     "output_type": "execute_result"
    }
   ],
   "source": [
    "Q16c = c -> Qcⁿ(0.0, (c, 16))\n",
    "C4 = roots_newton(Q16c, -1.4)"
   ]
  },
  {
   "cell_type": "code",
   "execution_count": 59,
   "metadata": {
    "collapsed": false
   },
   "outputs": [
    {
     "data": {
      "text/plain": [
       "-1.4002530812147829"
      ]
     },
     "execution_count": 59,
     "metadata": {},
     "output_type": "execute_result"
    }
   ],
   "source": [
    "Q32c = c -> Qcⁿ(0.0, (c, 32))\n",
    "C5 = roots_newton(Q32c, -1.4)"
   ]
  },
  {
   "cell_type": "code",
   "execution_count": 60,
   "metadata": {
    "collapsed": false
   },
   "outputs": [
    {
     "data": {
      "text/plain": [
       "-1.400253081214783"
      ]
     },
     "execution_count": 60,
     "metadata": {},
     "output_type": "execute_result"
    }
   ],
   "source": [
    "Q64c = c -> Qcⁿ(0.0, (c, 64))\n",
    "C6 = roots_newton(Q64c, -1.4)"
   ]
  },
  {
   "cell_type": "code",
   "execution_count": 61,
   "metadata": {
    "collapsed": false
   },
   "outputs": [
    {
     "data": {
      "text/plain": [
       "-1.400253081214783"
      ]
     },
     "execution_count": 61,
     "metadata": {},
     "output_type": "execute_result"
    }
   ],
   "source": [
    "Q128c = c -> Qcⁿ(0.0, (c, 128))\n",
    "C7 = roots_newton(Q128c, -1.4)"
   ]
  },
  {
   "cell_type": "code",
   "execution_count": 75,
   "metadata": {
    "collapsed": false
   },
   "outputs": [
    {
     "data": {
      "text/plain": [
       "7-element Array{Float64,1}:\n",
       "  0.0    \n",
       " -1.0    \n",
       " -1.3107 \n",
       " -1.38155\n",
       " -1.39695\n",
       " -1.40025\n",
       " -1.40025"
      ]
     },
     "execution_count": 75,
     "metadata": {},
     "output_type": "execute_result"
    }
   ],
   "source": [
    "C_ss = sort([C0, C1, C2, C3, C4, C5, C6], rev=true)"
   ]
  },
  {
   "cell_type": "code",
   "execution_count": 64,
   "metadata": {
    "collapsed": false
   },
   "outputs": [
    {
     "data": {
      "text/plain": [
       "feigen_const (generic function with 1 method)"
      ]
     },
     "execution_count": 64,
     "metadata": {},
     "output_type": "execute_result"
    }
   ],
   "source": [
    "function feigen_const(A)\n",
    "    \n",
    "    B = Float64[]\n",
    "    \n",
    "    for i in 1:length(A)- 2\n",
    "        \n",
    "        α = abs(A[i] - A[i + 1]) / abs(A[i+1] - A[i+2])\n",
    "        push!(B, α)\n",
    "        \n",
    "    end\n",
    "    \n",
    "    B\n",
    "    \n",
    "end"
   ]
  },
  {
   "cell_type": "code",
   "execution_count": 76,
   "metadata": {
    "collapsed": false
   },
   "outputs": [
    {
     "data": {
      "text/plain": [
       "5-element Array{Float64,1}:\n",
       " 3.21851   \n",
       " 4.38568   \n",
       " 4.60095   \n",
       " 4.65513   \n",
       " 1.48967e13"
      ]
     },
     "execution_count": 76,
     "metadata": {},
     "output_type": "execute_result"
    }
   ],
   "source": [
    "feigen_const(C_ss)"
   ]
  },
  {
   "cell_type": "markdown",
   "metadata": {},
   "source": [
    "### Claudio's way"
   ]
  },
  {
   "cell_type": "code",
   "execution_count": 128,
   "metadata": {
    "collapsed": true
   },
   "outputs": [],
   "source": [
    "using DualNumbers"
   ]
  },
  {
   "cell_type": "code",
   "execution_count": 129,
   "metadata": {
    "collapsed": false
   },
   "outputs": [
    {
     "data": {
      "text/plain": [
       "Qc_n (generic function with 1 method)"
      ]
     },
     "execution_count": 129,
     "metadata": {},
     "output_type": "execute_result"
    }
   ],
   "source": [
    "function Qc_n(n)\n",
    "    \n",
    "    x = \"x^2 + c\"\n",
    "\n",
    "    for i in 1:n-1\n",
    "\n",
    "        x = \"($x)^2 +c\"\n",
    "\n",
    "    end\n",
    "\n",
    "    ex = parse(x)\n",
    "    ex_ret = :( (x, c) -> $ex )\n",
    "    eval(ex_ret)\n",
    "end"
   ]
  },
  {
   "cell_type": "code",
   "execution_count": 127,
   "metadata": {
    "collapsed": false
   },
   "outputs": [
    {
     "data": {
      "text/plain": [
       "(anonymous function)"
      ]
     },
     "execution_count": 127,
     "metadata": {},
     "output_type": "execute_result"
    }
   ],
   "source": [
    "Qc_n(1)"
   ]
  },
  {
   "cell_type": "code",
   "execution_count": 140,
   "metadata": {
    "collapsed": false
   },
   "outputs": [
    {
     "data": {
      "text/plain": [
       "compute_roots (generic function with 1 method)"
      ]
     },
     "execution_count": 140,
     "metadata": {},
     "output_type": "execute_result"
    }
   ],
   "source": [
    "\"\"\"\n",
    "    compute_roots_paso(f::Function, x0, c)\n",
    "\n",
    "\"\"\"\n",
    "function compute_roots_paso(f::Function, x0, c)\n",
    "            \n",
    "    #roots= Float64[c0]\n",
    "    xi = Dual(x0, 1)\n",
    "\n",
    "            # 1000 iterations of Newton's method\n",
    "    for i in 1:10000\n",
    "\n",
    "        c_2 = realpart(xi) - (realpart(f(xi, c))) / (dualpart(f(xi, c)))\n",
    "        #push!(roots, c_2)\n",
    "        ci = Dual(c_2, 1)\n",
    "    end\n",
    "\n",
    "    #roots\n",
    "    realpart(xi)\n",
    "    \n",
    "end\n",
    "\n",
    "\"\"\"\n",
    "    compute_roots(f::Function, xx, c)\n",
    "    Out: roots\n",
    "\n",
    "xx is an array, cc is the parameter, f is the funtion\n",
    "\n",
    "\"\"\"\n",
    "function compute_roots(f::Function, X, c)\n",
    "    \n",
    "    roots = similar(X)\n",
    "\n",
    "    for j in 1:length(X)\n",
    "            \n",
    "        xi = Dual(X[j], 1)\n",
    "\n",
    "        for k in 1:100\n",
    "            x_2 = realpart(xi) - (realpart(f(xi, c)) - realpart(xi)) / (dualpart(f(xi, c)) - 1) \n",
    "            xi = Dual(x_2, 1)\n",
    "        end\n",
    "\n",
    "        roots[j] = realpart(xi)\n",
    "        \n",
    "    end\n",
    "    \n",
    "    roots\n",
    "end"
   ]
  },
  {
   "cell_type": "code",
   "execution_count": 139,
   "metadata": {
    "collapsed": false
   },
   "outputs": [
    {
     "data": {
      "text/plain": [
       "0.5"
      ]
     },
     "execution_count": 139,
     "metadata": {},
     "output_type": "execute_result"
    }
   ],
   "source": [
    "X0[end-5]"
   ]
  },
  {
   "cell_type": "code",
   "execution_count": 156,
   "metadata": {
    "collapsed": false
   },
   "outputs": [
    {
     "data": {
      "text/plain": [
       "9-element Array{Float64,1}:\n",
       " -1.70199    \n",
       " -1.3107     \n",
       " -1.14486    \n",
       " -1.3107     \n",
       "  4.44089e-16\n",
       "  0.407239   \n",
       " -1.64654    \n",
       "  1.74928    \n",
       "  1.74928    "
      ]
     },
     "execution_count": 156,
     "metadata": {},
     "output_type": "execute_result"
    }
   ],
   "source": [
    "X0 = collect(-2:0.5:2)\n",
    "\n",
    "compute_roots(Qc_n(2^2), X0, C2)"
   ]
  },
  {
   "cell_type": "code",
   "execution_count": 88,
   "metadata": {
    "collapsed": false
   },
   "outputs": [
    {
     "data": {
      "text/plain": [
       "0.0"
      ]
     },
     "execution_count": 88,
     "metadata": {},
     "output_type": "execute_result"
    }
   ],
   "source": [
    "Q1c = c -> Qcⁿ(0.0, (c, 1))\n",
    "C0 = roots_newton(Q1c, -1.4)"
   ]
  },
  {
   "cell_type": "code",
   "execution_count": 102,
   "metadata": {
    "collapsed": false
   },
   "outputs": [
    {
     "data": {
      "text/plain": [
       "(anonymous function)"
      ]
     },
     "execution_count": 102,
     "metadata": {},
     "output_type": "execute_result"
    }
   ],
   "source": [
    "Q2x = x -> Qcⁿ(x, (C0, 2))"
   ]
  },
  {
   "cell_type": "code",
   "execution_count": 109,
   "metadata": {
    "collapsed": false
   },
   "outputs": [
    {
     "data": {
      "text/plain": [
       "NaN"
      ]
     },
     "execution_count": 109,
     "metadata": {},
     "output_type": "execute_result"
    }
   ],
   "source": [
    "roots_newton_Id(Qc_n(1), 0.5, C0)"
   ]
  },
  {
   "cell_type": "markdown",
   "metadata": {},
   "source": [
    "**Ejercicio 3:**\n",
    "\n",
    "Comparar gráficamente los mapeos $Q_{c}(x)$ y $Q_{c^\\prime}^2(x)$ para $c=1/4, 0, -3/4, -1, -2, -2.2$ y $c^\\prime=-3/4,-1,-5/4,-1.3, -1.546\\dots, -1.65$. \n"
   ]
  },
  {
   "cell_type": "markdown",
   "metadata": {},
   "source": [
    "**Ejercicio 4:**\n",
    "\n",
    "Estudiar la dinámica para $c=-2.2$\n",
    "\n",
    "- ¿Cómo se caracteriza el valor al que tiende *casi* cualquier condición inicial en el\n",
    "intervalo $I=[-p_+,p_+]$ (donde $p_+$ es el valor positivo tal que $Q_c(p_+)=p_+$), después de muchos iterados? (El intervalo $I$ es donde \"toda la dinámica interesante ocurre\".)\n",
    "\n",
    "- ¿Qué condición se requiere, en términos de $I$ (y de los iterados de $Q_c(x)$, para que se cumpla el inciso anterior?\n",
    "\n",
    "- Caracterizen al complemento del conjunto de los casos anteriores, es decir, cuando los iterados de la condición inicial **no** llegan a donde *casi* cualquier condición inicial termina. ¿Cómo se conoce a este conjunto?"
   ]
  },
  {
   "cell_type": "code",
   "execution_count": null,
   "metadata": {
    "collapsed": true
   },
   "outputs": [],
   "source": []
  },
  {
   "cell_type": "markdown",
   "metadata": {},
   "source": [
    "**Ejercicio 5:**\n",
    "\n",
    "- Usando el análisis gráfico para un valor de $c$ *ligeramente* anterior al punto donde se observa la ventana de periodo 3 para la familia $Q_c(x)$, y uno en la ventana de periodo 3, concluyan el tipo de bifurcación que se observa.\n",
    "\n",
    "- Comparen la dinámica para ambos valores de $c$ del inciso anterior. ¿Cómo es el exponente de Liapunov en cada caso?\n",
    "\n",
    "- Encuentren el valor de $c$ donde se da el ciclo superestable de periodo 3. (Nuevamente, ayuden al método de Newton con una buena semilla inicial para $c$.) Demuestren que para este valor de $c$ el mapeo $Q_c^3(x)$ tiene *ocho* puntos fijos, donde dos de ellos son puntos fijos de $Q_c(x)$, y los otros 6 forman dos secuencias periódicas, de periodo 3 en $Q_c(x)$, una de ellas estable y la otra inestable.\n",
    "\n",
    "(Los siguientes incisos usan el valor de $c$ encontrado en el inciso anterior.)\n",
    "\n",
    "- Denotando al ciclo inestable de periodo 3 como $\\alpha\\mapsto \\beta\\mapsto\\gamma$, con $\\gamma<\\beta<\\alpha$, uno puede asociar a cada uno de estos valores un valor $\\hat\\alpha, \\hat\\beta, \\hat\\gamma$, tales que $Q_c^3(\\hat\\alpha)=\\alpha$, $Q_c^3(\\hat\\beta)=\\beta$, $Q_c^3(\\hat\\gamma)=\\gamma$. ¿Qué podemos concluir de un punto que cae en cualquiera de los intervalos $[\\alpha,\\hat\\alpha]$, $[\\beta,\\hat\\beta]$ y $[\\hat\\gamma,\\gamma]$, en términos de los iterados sucesivos?\n",
    "\n",
    "- Definiendo los intervalos $I_0=[\\hat\\beta, \\alpha]$, $I_1=[\\gamma,\\beta]$, mostrar que bajo la acción de $Q_c(x)$ se cumple: (i) $Q_c(I_0) \\supset I_1$, y (ii) $Q_c(I_1) \\supset I_0\\cup I_1$. ¿Qué propiedad *importante* de $Q_c(x)$ se utiliza aquí?\n",
    "\n",
    "(Los intervalos $I_0$ e $I_1$, y estas propiedades, son básicos en la demostración del teorema \"periodo tres implica caos\".)"
   ]
  },
  {
   "cell_type": "code",
   "execution_count": null,
   "metadata": {
    "collapsed": true
   },
   "outputs": [],
   "source": []
  },
  {
   "cell_type": "markdown",
   "metadata": {},
   "source": [
    "## Constante $\\alpha$ de Feigenbaum"
   ]
  },
  {
   "cell_type": "markdown",
   "metadata": {},
   "source": [
    "El punto del análisis gráfico anterior es que, *localmente*, los mapeos $Q_{C_0}(x)$ y $Q^{2^n}_{C_n}(x)$ son muy similares, si uno se enfoca en un dominio muy particular para $Q^{2^n}_{C_n}(x)$.\n",
    "\n",
    "Vale la pena notar que, en este caso, la distancia al punto fijo (que cruza la identidad) \n",
    "y que define los recuadros verdes, es $d_n = Q_{C_n}^{2^{n-1}}(0)\\approx -\\alpha d_{n+1}$ (ver ejercicio 3 de la Tarea 4)."
   ]
  },
  {
   "cell_type": "markdown",
   "metadata": {},
   "source": [
    "Esta observación se expresa de manera formal construyendo una función que localmente se comporta como $Q^{2^n}_{C_n}(x)$:\n",
    "\n",
    "\\begin{equation}\n",
    "g_1(x) = \\lim_{n\\to\\infty} (-\\alpha)^n Q_{C_{n+1}}^{2^n}\\Big(\\frac{x}{(-\\alpha)^n}\\Big).\n",
    "\\end{equation}\n",
    "\n",
    "El límite $n\\to\\infty$ hace que todas las particularidades del mapeo $Q_c(x)$ se pierdan y, en este sentido, que sólo las propiedades que son *universales* resten.\n",
    "\n",
    "La ecuación anterior se generaliza a:\n",
    "\n",
    "\\begin{equation}\n",
    "g_i(x) = \\lim_{n\\to\\infty} (-\\alpha)^n Q_{C_{n+i}}^{2^n}\\Big(\\frac{x}{(-\\alpha)^n}\\Big),\n",
    "\\end{equation}\n",
    "\n",
    "\n"
   ]
  },
  {
   "cell_type": "markdown",
   "metadata": {},
   "source": [
    "De la definición de $g_i(x)$, uno puede demostrar las funciones $g_i(x)$ satisfacen la ecuación\n",
    "\n",
    "\\begin{equation}\n",
    "g_{i-1}(x) = -\\alpha g_i\\Big( g_i(-\\,\\frac{x}{\\alpha})\\Big) ,\n",
    "\\end{equation}\n",
    "\n",
    "que al tomar el límite $i\\to \\infty$ nos lleva a:\n",
    "\n",
    "\\begin{equation}\n",
    "g(x) \\equiv T g(x) = -\\alpha g\\Big( g(-\\,\\frac{x}{\\alpha})\\Big),\n",
    "\\end{equation}\n",
    "\n",
    "donde $T$ es el *operador de doblamiento de periodo*.\n"
   ]
  },
  {
   "cell_type": "markdown",
   "metadata": {},
   "source": [
    "Si $g(x)$ satisface la ecuación anterior, entonces la función $\\mu g(x/\\mu)$, con $\\mu\\neq 0$, es también solución de la ecuación. Esta es una propiedad de escalamiento. De aquí, imponiendo que $g(0)=1$ se tiene $1=-\\alpha g(1)$.\n",
    "\n",
    "La idea es hacer un desarrollo en serie de Taylor de $g(x)$ cerca de $x=0$ a fin de obtener una aproximación de $\\alpha$. De la ecuación de doblamiento de periodo uno obtiene:\n",
    "\n",
    "\\begin{eqnarray}\n",
    "g'(x) &=& g'\\Big( g(-\\,\\frac{x}{\\alpha}) \\Big) g'(-\\,\\frac{x}{\\alpha}),\\\\\n",
    "g''(x) &=& -g''\\Big( g(-\\,\\frac{x}{\\alpha}) \\Big) \\Big[ g'(-\\,\\frac{x}{\\alpha})\\Big]^2\n",
    "-\\,\\frac{1}{\\alpha} g'\\Big( g(-\\,\\frac{x}{\\alpha}) \\Big) g''(-\\,\\frac{x}{\\alpha}).\n",
    "\\end{eqnarray}\n"
   ]
  },
  {
   "cell_type": "markdown",
   "metadata": {},
   "source": [
    "De la primer ecuación podemos concluir que $g'(0)=0$. Por esto, a segundo orden tenemos que $g(x)\\simeq 1+b x^2$. Sustituyendo esta aproximación en la ecuación de doblamiento de periodo y desarrollando *hasta* segundo orden, se obtiene:\n",
    "\n",
    "\\begin{equation}\n",
    "1+b x^2 \\simeq -\\alpha(1+b(1+b(-\\frac{x}{\\alpha})^2)^2) = -\\alpha\\Big( 1+ b + \\frac{2b^2}{\\alpha^2}x^2\\Big) + {\\cal O}(x^4).\n",
    "\\end{equation}\n"
   ]
  },
  {
   "cell_type": "markdown",
   "metadata": {},
   "source": [
    "Igualando término a término (potencias de $x$) tenemos que se debe satisfacer:\n",
    "\n",
    "\\begin{eqnarray}\n",
    "1 &=& -\\alpha(1 + b),\\\\\n",
    "b &=& - 2b^2/\\alpha.\\\\\n",
    "\\end{eqnarray}\n",
    "\n",
    "De aquí obtenemos: $b \\approx -\\alpha/2$ y $\\alpha\\approx 1+\\sqrt{3}=2.73\\dots$; el valor de \n",
    "esta constante es $\\alpha = 2.502907\\dots$."
   ]
  },
  {
   "cell_type": "markdown",
   "metadata": {},
   "source": [
    "La otra constante de Feigenbaum se obtiene estudiando las propiedades de la ecuación linearizada en $c$."
   ]
  },
  {
   "cell_type": "markdown",
   "metadata": {},
   "source": [
    "## Referencias\n",
    "\n",
    "Heinz Georg Schuster, Wolfram Just, Deterministic Chaos, 2006."
   ]
  }
 ],
 "metadata": {
  "kernelspec": {
   "display_name": "Julia 0.4.6",
   "language": "julia",
   "name": "julia-0.4"
  },
  "language_info": {
   "file_extension": ".jl",
   "mimetype": "application/julia",
   "name": "julia",
   "version": "0.4.6"
  }
 },
 "nbformat": 4,
 "nbformat_minor": 1
}
