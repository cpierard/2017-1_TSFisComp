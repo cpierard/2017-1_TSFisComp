{
 "cells": [
  {
   "cell_type": "markdown",
   "metadata": {},
   "source": [
    "# Mapeos en 2d"
   ]
  },
  {
   "cell_type": "markdown",
   "metadata": {},
   "source": [
    "En lo que llevamos del curso hemos visto que, para entender la dinámica de un mapeo (en una dimensión) debemos conocer:\n",
    "- los puntos fijos del mapeo;\n",
    "- las órbitas periódicas;\n",
    "- y, sus propiedades de estabilidad.\n",
    "\n",
    "Además, enteder las propiedades de estabilidad en términos de los parámetros permite entender las bifurcaciones y, por tanto, aspectos globales de la dinámica."
   ]
  },
  {
   "cell_type": "markdown",
   "metadata": {},
   "source": [
    "En este notebook ampliaremos este tipo de cuestiones a mapeos dos-dimensionales, lo que se puede generalizar de manera muy directa a más dimensiones."
   ]
  },
  {
   "cell_type": "markdown",
   "metadata": {},
   "source": [
    "Al igual que para el caso de una dimensión, iniciaremos con el caso más sencillo que son los mapeos lineales:\n",
    "\\begin{eqnarray}\n",
    "x_{n+1} & = & ax_{n} + by_{n},\\\\\n",
    "y_{n+1} & = & cx_{n} + dy_{n}.\n",
    "\\end{eqnarray}\n",
    "\n",
    "Obviamente, este mapeo lo podemos reescribir como $\\mathbf{x}_{n+1}=\\mathcal{A} \\mathbf{x}_{n}$, donde $\\mathbf{x}_i = [x_i,y_i]^\\mathrm{T}$, y $\\mathcal{A}$ es la matriz de coeficientes constantes\n",
    "\\begin{equation}\n",
    "\\mathcal{A} = \\left( \n",
    "\\begin{array}{cc}\n",
    "a & b \\\\\n",
    "c & d \n",
    "\\end{array} \n",
    "\\right).\n",
    "\\end{equation}\n",
    "\n",
    "El punto de equilibrio en este caso es el origen."
   ]
  },
  {
   "cell_type": "markdown",
   "metadata": {},
   "source": [
    "En este caso, al igual que en el caso lineal para mapeos en una dimensión,\n",
    "podemos resolver explícitamente la ecuación en diferencias, obteniendo\n",
    "\\begin{equation}\n",
    "\\mathbf{x}_{n} = \\mathcal{A}^n \\mathbf{x}_0.\n",
    "\\end{equation}\n"
   ]
  },
  {
   "cell_type": "markdown",
   "metadata": {},
   "source": [
    "Dos mapeos lineales $L_1$ y $L_2$ se dicen conjugados, si existe un *mapeo invertible lineal* tal que $L_2=P^{-1} \\circ L_1 \\circ P$. Este concepto, expresado en términos de matrices, corresponde a que las matrices asociadas sean *similares*.\n",
    "\n",
    "Uno puede demostrar que si dos mapeos $L_1$ y $L_2$ son conjugados, entonces sus eigenvalores (las raices del polinomio característico, \n",
    "$\\det(L_i-\\lambda \\mathcal{I})=0$) son idénticos. \n",
    "\n",
    "Entonces, el estudio de los mapeos lineales se puede entender mejor en términos de los eigenvalores del mapeo, dado que la dinámica estará dada por\n",
    "\\begin{eqnarray}\n",
    "x_n & = & \\sum_i a_i^n (\\mathbf{v}_i|x_0),\\\\\n",
    "y_n & = & \\sum_i a_i^n (\\mathbf{v}_i|y_0),\n",
    "\\end{eqnarray}\n",
    "donde $a_i$ y $\\mathbf{v}_i$ son respectivamente el $i$-ésimo valor \n",
    "y vector propio (eigenvalor y eigenvector) de $\\mathcal{A}$, y donde $(\\mathbf{v}_i|x_0)$ es la primer componente del eigenvector $\\mathbf{v}_i$ (proyección en la dirección $[1,0]^\\mathrm{T}$) multiplicada por $x_0$. Aquí hemos asumido que los eigenvalores son distintos entre sí."
   ]
  },
  {
   "cell_type": "markdown",
   "metadata": {},
   "source": [
    "Para matrices de $2\\times 2$, uno puede obtener explícitamente los eigenvalores, dado que el polinomio característico está dado por\n",
    "\n",
    "\\begin{equation}\n",
    "\\det(\\mathcal{A}-\\lambda\\mathcal{I}) = \\lambda^2 - \\lambda(a+d) + ad-bc\n",
    "= \\lambda^2 - \\lambda\\mathrm{tr}(\\mathcal{A}) + \\det(\\mathcal{A}) = 0,\n",
    "\\end{equation}\n",
    "\n",
    "donde $\\mathrm{tr}(\\mathcal{A})=a+d$ es la traza de $\\mathcal{A}$ y $\\det(\\mathcal{A})=ad-bc$ es su determinante.\n",
    "\n",
    "Entonces, tenemos:\n",
    "\n",
    "\\begin{equation}\n",
    "\\lambda_\\pm = \\frac{1}{2}\n",
    "\\left( \\mathrm{tr}(\\mathcal{A}) \\pm \\sqrt{\\mathrm{tr}(\\mathcal{A})^2-4\\det(\\mathcal{A})}\\right).\n",
    "\\end{equation}"
   ]
  },
  {
   "cell_type": "code",
   "execution_count": 49,
   "metadata": {
    "collapsed": false
   },
   "outputs": [
    {
     "data": {
      "text/plain": [
       "Plots.PyPlotBackend()"
      ]
     },
     "execution_count": 49,
     "metadata": {},
     "output_type": "execute_result"
    }
   ],
   "source": [
    "using Plots\n",
    "pyplot()"
   ]
  },
  {
   "cell_type": "markdown",
   "metadata": {},
   "source": [
    "**Ejercicio 1:**\n",
    "\n",
    "Hay tres formas *estándar* (bloques de Jordan) para matrices de $2\\times2$, y que expresan los posibles valores que pueden tomar los eigenvalores. Estas formas son:\n",
    "\\begin{equation*}\n",
    "\\left( \n",
    "\\begin{array}{cc}\n",
    "\\alpha & -\\beta \\\\\n",
    "\\beta & \\alpha \n",
    "\\end{array} \n",
    "\\right), \n",
    "\\left( \n",
    "\\begin{array}{cc}\n",
    "\\lambda & 1 \\\\\n",
    "0 & \\lambda \n",
    "\\end{array} \n",
    "\\right),\n",
    "\\left( \n",
    "\\begin{array}{cc}\n",
    "\\lambda & 0 \\\\\n",
    "0 & \\mu\n",
    "\\end{array} \n",
    "\\right),\n",
    "\\end{equation*}\n",
    "donde $\\alpha, \\beta, \\lambda$ y $\\mu$ son reales, con $\\beta\\ne 0$ y $\\mu\\ne\\lambda$. En esta forma, los elementos de la diagonal son los eigenvalores, excepto para la primer matriz, cuyos eigenvalores son $\\alpha\\pm i \\beta$. \n",
    "\n",
    "En términos de éstos bloques caracterizen la dinámica (dibujen el comportamiento dinámico en el espacio fase) cerca de del origen (punto fijo). \n",
    "\n",
    "**Nota:** Pueden usar matrices concretas con dichas formas para investigar numéricamente la dinámica. Sean conscientes que los eigenvalor puedes tener distintos valores (signos, o ser cero), y deben describir *todos* los casos posibles."
   ]
  },
  {
   "cell_type": "code",
   "execution_count": 41,
   "metadata": {
    "collapsed": false
   },
   "outputs": [
    {
     "data": {
      "text/plain": [
       "iterador (generic function with 1 method)"
      ]
     },
     "execution_count": 41,
     "metadata": {},
     "output_type": "execute_result"
    }
   ],
   "source": [
    "function iterador(A, x0, n)\n",
    "    \n",
    "    x_orbit = zeros(length(x0), n)\n",
    "    x_orbit[:, 1] = x0\n",
    "    \n",
    "    for i in 2:n\n",
    "        \n",
    "        x_orbit[:, i] = A*x_orbit[:, i-1]\n",
    "        \n",
    "    end\n",
    "    \n",
    "    x_orbit\n",
    "    \n",
    "end "
   ]
  },
  {
   "cell_type": "code",
   "execution_count": 166,
   "metadata": {
    "collapsed": false
   },
   "outputs": [
    {
     "data": {
      "text/plain": [
       "0"
      ]
     },
     "execution_count": 166,
     "metadata": {},
     "output_type": "execute_result"
    }
   ],
   "source": [
    "α = 0\n",
    "β = 0.1 #not = 0\n",
    "λ = 0.5\n",
    "μ = 0 #not = λ"
   ]
  },
  {
   "cell_type": "code",
   "execution_count": 167,
   "metadata": {
    "collapsed": false
   },
   "outputs": [
    {
     "data": {
      "text/plain": [
       "2x2 Array{Float64,2}:\n",
       " 0.0  -0.1\n",
       " 0.1   0.0"
      ]
     },
     "execution_count": 167,
     "metadata": {},
     "output_type": "execute_result"
    }
   ],
   "source": [
    "A = [α -β ; β α]"
   ]
  },
  {
   "cell_type": "code",
   "execution_count": 168,
   "metadata": {
    "collapsed": false
   },
   "outputs": [
    {
     "data": {
      "text/plain": [
       "2x2 Array{Float64,2}:\n",
       " 0.5  1.0\n",
       " 0.0  0.5"
      ]
     },
     "execution_count": 168,
     "metadata": {},
     "output_type": "execute_result"
    }
   ],
   "source": [
    "B = [λ 1 ; 0 λ]"
   ]
  },
  {
   "cell_type": "code",
   "execution_count": 123,
   "metadata": {
    "collapsed": false
   },
   "outputs": [
    {
     "data": {
      "text/plain": [
       "2x2 Array{Int64,2}:\n",
       " 0  -1\n",
       " 1   0"
      ]
     },
     "execution_count": 123,
     "metadata": {},
     "output_type": "execute_result"
    }
   ],
   "source": [
    "A"
   ]
  },
  {
   "cell_type": "code",
   "execution_count": 171,
   "metadata": {
    "collapsed": false
   },
   "outputs": [
    {
     "data": {
      "text/plain": [
       "2-element Array{Int64,1}:\n",
       " 2\n",
       " 1"
      ]
     },
     "execution_count": 171,
     "metadata": {},
     "output_type": "execute_result"
    }
   ],
   "source": [
    "X0 = [2, 1]"
   ]
  },
  {
   "cell_type": "code",
   "execution_count": 176,
   "metadata": {
    "collapsed": false
   },
   "outputs": [
    {
     "data": {
      "text/plain": [
       "2-element Array{Int64,1}:\n",
       " -3\n",
       " -1"
      ]
     },
     "execution_count": 176,
     "metadata": {},
     "output_type": "execute_result"
    }
   ],
   "source": [
    "X1 = [-3,-1]"
   ]
  },
  {
   "cell_type": "code",
   "execution_count": 172,
   "metadata": {
    "collapsed": false
   },
   "outputs": [
    {
     "data": {
      "text/plain": [
       "2x10 Array{Float64,2}:\n",
       " 2.0  2.0  1.5   1.0    0.625   0.375    …  0.125      0.0703125   0.0390625 \n",
       " 1.0  0.5  0.25  0.125  0.0625  0.03125     0.0078125  0.00390625  0.00195313"
      ]
     },
     "execution_count": 172,
     "metadata": {},
     "output_type": "execute_result"
    }
   ],
   "source": [
    "x_orbita = iterador(B, X0, 10)"
   ]
  },
  {
   "cell_type": "code",
   "execution_count": 177,
   "metadata": {
    "collapsed": false
   },
   "outputs": [
    {
     "data": {
      "text/plain": [
       "2x10 Array{Float64,2}:\n",
       " -3.0  -2.5  -1.75  -1.125  -0.6875  -0.40625  …  -0.0742188   -0.0410156 \n",
       " -1.0  -0.5  -0.25  -0.125  -0.0625  -0.03125     -0.00390625  -0.00195313"
      ]
     },
     "execution_count": 177,
     "metadata": {},
     "output_type": "execute_result"
    }
   ],
   "source": [
    "x1_orbita = iterador(B, X1, 10)"
   ]
  },
  {
   "cell_type": "code",
   "execution_count": 180,
   "metadata": {
    "collapsed": false
   },
   "outputs": [
    {
     "data": {
      "text/html": [
       "<img src=\"data:image/png;base64,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\" />"
      ]
     },
     "execution_count": 180,
     "metadata": {},
     "output_type": "execute_result"
    }
   ],
   "source": [
    "scatter(x_orbita[1,:], x_orbita[2,:], legend=false, color=:red)\n",
    "scatter!(x1_orbita[1,:], x1_orbita[2,:], legend=false, color=:blue)"
   ]
  },
  {
   "cell_type": "code",
   "execution_count": 206,
   "metadata": {
    "collapsed": false
   },
   "outputs": [
    {
     "data": {
      "text/plain": [
       "condiones_iniciales_2D (generic function with 1 method)"
      ]
     },
     "execution_count": 206,
     "metadata": {},
     "output_type": "execute_result"
    }
   ],
   "source": [
    "function condiones_iniciales_2D(f::Function, t_range)\n",
    "    CI = zeros(2, length(t_range))\n",
    "    \n",
    "    for i in 1:length(t_range)\n",
    "        \n",
    "        CI[:, i] = f(t_range[i])\n",
    "        \n",
    "    end\n",
    "    \n",
    "    CI\n",
    "    \n",
    "end"
   ]
  },
  {
   "cell_type": "code",
   "execution_count": 187,
   "metadata": {
    "collapsed": false
   },
   "outputs": [
    {
     "data": {
      "text/plain": [
       "f (generic function with 1 method)"
      ]
     },
     "execution_count": 187,
     "metadata": {},
     "output_type": "execute_result"
    }
   ],
   "source": [
    "f(t) = [cos(t), sin(t)]"
   ]
  },
  {
   "cell_type": "code",
   "execution_count": 208,
   "metadata": {
    "collapsed": false
   },
   "outputs": [
    {
     "data": {
      "text/plain": [
       "2x20 Array{Float64,2}:\n",
       " 1.0  0.951057  0.809017  0.587785  …   0.587785   0.809017   0.951057\n",
       " 0.0  0.309017  0.587785  0.809017     -0.809017  -0.587785  -0.309017"
      ]
     },
     "execution_count": 208,
     "metadata": {},
     "output_type": "execute_result"
    }
   ],
   "source": [
    "CI1 = condiones_iniciales_2D(f, t_rango)"
   ]
  },
  {
   "cell_type": "code",
   "execution_count": 211,
   "metadata": {
    "collapsed": false
   },
   "outputs": [
    {
     "data": {
      "text/html": [
       "<img src=\"data:image/png;base64,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\" />"
      ]
     },
     "execution_count": 211,
     "metadata": {},
     "output_type": "execute_result"
    }
   ],
   "source": [
    "scatter(CI1[1,:], CI1[2, :], legend=false, size=(500, 500))"
   ]
  },
  {
   "cell_type": "code",
   "execution_count": 212,
   "metadata": {
    "collapsed": false
   },
   "outputs": [
    {
     "data": {
      "text/plain": [
       "2x2 Array{Float64,2}:\n",
       " 0.5  1.0\n",
       " 0.0  0.5"
      ]
     },
     "execution_count": 212,
     "metadata": {},
     "output_type": "execute_result"
    }
   ],
   "source": [
    "B"
   ]
  },
  {
   "cell_type": "code",
   "execution_count": null,
   "metadata": {
    "collapsed": true
   },
   "outputs": [],
   "source": [
    "shuster deterministic chaos"
   ]
  },
  {
   "cell_type": "code",
   "execution_count": 218,
   "metadata": {
    "collapsed": false
   },
   "outputs": [
    {
     "data": {
      "text/plain": [
       "2x20 Array{Float64,2}:\n",
       " 0.0  0.0  0.0  0.0  0.0  0.0  0.0  0.0  …  0.0  0.0  0.0  0.0  0.0  0.0  0.0\n",
       " 0.0  0.0  0.0  0.0  0.0  0.0  0.0  0.0     0.0  0.0  0.0  0.0  0.0  0.0  0.0"
      ]
     },
     "execution_count": 218,
     "metadata": {},
     "output_type": "execute_result"
    }
   ],
   "source": [
    "n = 10\n",
    "solutions = zeros(2, length(CI1[1,:]), n)\n",
    "\n",
    "for c in 1:length(CI1[1,:])\n",
    "    \n",
    "    \n",
    "    \n",
    "end"
   ]
  },
  {
   "cell_type": "code",
   "execution_count": 194,
   "metadata": {
    "collapsed": false
   },
   "outputs": [
    {
     "data": {
      "text/plain": [
       "0.0:0.3141592653589793:5.969026041820607"
      ]
     },
     "execution_count": 194,
     "metadata": {},
     "output_type": "execute_result"
    }
   ],
   "source": [
    "t_rango = 0:π/10:2π-π/10"
   ]
  },
  {
   "cell_type": "code",
   "execution_count": 188,
   "metadata": {
    "collapsed": false
   },
   "outputs": [
    {
     "data": {
      "text/plain": [
       "2-element Array{Float64,1}:\n",
       " 1.0\n",
       " 0.0"
      ]
     },
     "execution_count": 188,
     "metadata": {},
     "output_type": "execute_result"
    }
   ],
   "source": [
    "a[:, ] = f(0)"
   ]
  },
  {
   "cell_type": "markdown",
   "metadata": {},
   "source": [
    "**Ejercicio 2:**\n",
    "\n",
    "En términos de la dependencia de los eigenvalores de la traza y del determinante de la matriz (ecuación (8)), uno puede definir el plano donde el eje horizontal corresponde al determinante, y el vertical a la traza.(El discriminante, $\\mathrm{tr}(\\mathcal{A})^2-4\\det(\\mathcal{A})$ en este plano es una parábola.) Clasifiquen la dinámica cerca del origen en este plano."
   ]
  },
  {
   "cell_type": "code",
   "execution_count": 86,
   "metadata": {
    "collapsed": false
   },
   "outputs": [
    {
     "data": {
      "text/plain": [
       "2x2 Array{Int64,2}:\n",
       " 2  0\n",
       " 0  1"
      ]
     },
     "execution_count": 86,
     "metadata": {},
     "output_type": "execute_result"
    }
   ],
   "source": [
    "B = [2 0 ; 0 1]"
   ]
  },
  {
   "cell_type": "code",
   "execution_count": 89,
   "metadata": {
    "collapsed": false
   },
   "outputs": [
    {
     "data": {
      "text/plain": [
       "2x10 Array{Float64,2}:\n",
       " 0.0  0.0  0.0  0.0  0.0  0.0  0.0  0.0  0.0  0.0\n",
       " 1.0  1.0  1.0  1.0  1.0  1.0  1.0  1.0  1.0  1.0"
      ]
     },
     "execution_count": 89,
     "metadata": {},
     "output_type": "execute_result"
    }
   ],
   "source": [
    "x_orbita = iterador(B, X0, 10)"
   ]
  },
  {
   "cell_type": "markdown",
   "metadata": {},
   "source": [
    "**Ejercicio 3:**\n",
    "\n",
    "Consideren el mapeo:\n",
    "\n",
    "\\begin{equation*}\n",
    "\\mathbf{x}_{n+1} = \\left( \n",
    "\\begin{array}{cc}\n",
    "2 & 1 \\\\\n",
    "1 & 1\n",
    "\\end{array} \n",
    "\\right) \\mathbf{x}_n, \\mod 1.\n",
    "\\end{equation*}\n",
    "\n",
    "- Muestren que el mapeo es hiperbólico, es decir, los eigenvalores de la linearización del mapeo son todos distintos de 1 en valor absoluto. (En general, se pide que los eigenvalores de la matriz linearizada no estén en el círculo unitario para que el sistema sea hiperbólico.) Este es un ejemplo de los mapeos que se llaman torales hiperbólicos.\n",
    "\n",
    "- Construyan el mapeo inverso.\n",
    "\n",
    "- ¿Qué podemos decir de la dinámica de $\\mathbf{x}_0$ cuando *ambas* entradas son racionales? Como ambas entradas son racionales, $\\mathbf{x}_0$ puede ser escrito como \n",
    "\\begin{equation*}\n",
    "\\mathbf{x}_0 \n",
    "= \\left[ \n",
    "\\begin{array}{c}\n",
    "p_1/q_1 \\\\\n",
    "p_2/q_2\n",
    "\\end{array} \n",
    "\\right ]\n",
    "= \\left[ \n",
    "\\begin{array}{c}\n",
    "r/k \\\\\n",
    "s/k\n",
    "\\end{array}\n",
    "\\right ],\n",
    "\\end{equation*}\n",
    "donde $p_i, q_i, r, s, k$ son enteros; $k$ es un denominador común.\n",
    "\n",
    "- A partir de los eigenvalores y eigenvectores, dibujen el conjunto de puntos que, iterados hacia el pasado terminan en el origen (variedad inestable) y que iterados hacia el futuro terminan también ahí (variedad estable). ¿Usen los eigenvectores como una aproximación lineal **muy** cerca del punto fijo e iteren. \n",
    "\n",
    "- ¿Se cruzan (con un ángulo distinto de 0 o $\\pi$) estas variedades? En otras palabras, existen *intersecciones homoclínicas* en el mapeo?\n",
    "\n",
    "- ¿Qué podemos decir sobre la densidad de órbitas periódicas para este mapeo? ¿Qué podemos decir sobre la densidad de puntos homoclínicos?"
   ]
  },
  {
   "cell_type": "code",
   "execution_count": null,
   "metadata": {
    "collapsed": true
   },
   "outputs": [],
   "source": []
  },
  {
   "cell_type": "markdown",
   "metadata": {},
   "source": [
    "**Ejercicio 4:**\n",
    "\n",
    "Consideren el mapeo lineal por segmentos\n",
    "\\begin{equation*}\n",
    "\\left[ \n",
    "\\begin{array}{c}\n",
    "x_{n+1} \\\\\n",
    "y_{n+1}\n",
    "\\end{array} \n",
    "\\right ] = L \\left[ \n",
    "\\begin{array}{c}\n",
    "x_{n} \\\\\n",
    "y_{n}\n",
    "\\end{array} \n",
    "\\right ] = \\left[ \n",
    "\\begin{array}{c}\n",
    "1+y_n+A|x_n| \\\\\n",
    "B x_{n}\n",
    "\\end{array} \n",
    "\\right ], \n",
    "\\end{equation*}\n",
    "\n",
    "donde $A$ y $B$ son parámetros numéricos que satisfacen: $1>B>0, A>B+1$ y  $2A+B<4$.\n",
    "\n",
    "- Obtengan los dos puntos fijos del mapeo, y la estabilidad lineal de cada uno de ellos. \n",
    "\n",
    "- Denotando como $p$ al punto fijo que se encuentra en el primer cuadrante del plano, muestren que la variedad inestable de este punto contiene una recta que intersecta al eje x en el punto $q$ y al eje y en el punto $L^{-1}(q)$.\n",
    "\n",
    "- Consideren la región triangular definida por los vértices $q$, $L(q)$ y $L^2(q)$. ¿Cómo se ven las órbitas de condiciones iniciales definidas en esta región?"
   ]
  },
  {
   "cell_type": "code",
   "execution_count": null,
   "metadata": {
    "collapsed": true
   },
   "outputs": [],
   "source": []
  },
  {
   "cell_type": "markdown",
   "metadata": {},
   "source": [
    "**Ejercicio 5:**\n",
    "\n",
    "Consideren el mapeo $Q_\\lambda$ del plano, definido por\n",
    "\\begin{eqnarray*}\n",
    "x_{n+1} & = & \\exp(x_n) - \\lambda,\\\\\n",
    "y_{n+1} & = & -\\frac{\\lambda}{2}\\arctan{y_n},\\\\\n",
    "\\end{eqnarray*}\n",
    "donde $\\lambda$ es un parámetro. \n",
    "\n",
    "- Encuentren todos los puntos fijos y las órbitas de periodo 2.\n",
    "\n",
    "- Clasifiquen esos puntos como puntos sumideros (*sinks*), fuentes (*sources*), o sillas (*saddles*), según los eigenvalores del mapeo linearizado.\n",
    "\n",
    "- Este mapeo lo podemos ver como el producto cartesiano de dos mapeos en una dimensión. Considerándolo así, ¿qué bifurcaciones ocurren que involucran a los puntos fijos y de periodo 2?\n",
    "\n",
    "- ¿Qué podemos concluir de los puntos de bifurcación, en términos de los eigenvalores?"
   ]
  },
  {
   "cell_type": "code",
   "execution_count": null,
   "metadata": {
    "collapsed": true
   },
   "outputs": [],
   "source": []
  }
 ],
 "metadata": {
  "kernelspec": {
   "display_name": "Julia 0.4.6",
   "language": "julia",
   "name": "julia-0.4"
  },
  "language_info": {
   "file_extension": ".jl",
   "mimetype": "application/julia",
   "name": "julia",
   "version": "0.4.6"
  }
 },
 "nbformat": 4,
 "nbformat_minor": 1
}
